{
  "nbformat": 4,
  "nbformat_minor": 0,
  "metadata": {
    "colab": {
      "name": "HealthCareAnalytics2.ipynb",
      "provenance": [],
      "collapsed_sections": []
    },
    "kernelspec": {
      "name": "python3",
      "display_name": "Python 3"
    },
    "accelerator": "GPU"
  },
  "cells": [
    {
      "cell_type": "code",
      "metadata": {
        "id": "pw-D5oDgEk0r"
      },
      "source": [
        "%reload_ext autoreload\n",
        "%autoreload 2\n",
        "%matplotlib inline"
      ],
      "execution_count": null,
      "outputs": []
    },
    {
      "cell_type": "code",
      "metadata": {
        "id": "WJf4HIpmJCj8",
        "colab": {
          "base_uri": "https://localhost:8080/",
          "height": 68
        },
        "outputId": "45083146-4e73-4f74-a1dc-092528800572"
      },
      "source": [
        "import os\n",
        "from operator import itemgetter    \n",
        "import numpy as np\n",
        "import pandas as pd\n",
        "import matplotlib.pyplot as plt\n",
        "import warnings\n",
        "warnings.filterwarnings('ignore')\n",
        "get_ipython().magic(u'matplotlib inline')\n",
        "plt.style.use('ggplot')\n",
        "\n",
        "from sklearn.model_selection import StratifiedShuffleSplit\n",
        "\n",
        "from sklearn.tree import DecisionTreeRegressor\n",
        "from sklearn import preprocessing\n",
        "from sklearn.preprocessing import RobustScaler, StandardScaler, LabelEncoder, MinMaxScaler, OneHotEncoder, LabelBinarizer\n",
        "from sklearn.metrics import mean_squared_error, accuracy_score, mean_absolute_error\n",
        "#from sklearn.cross_validation import KFold, cross_val_score\n",
        "from sklearn.model_selection import cross_val_score, GridSearchCV, RandomizedSearchCV, KFold, cross_val_predict, StratifiedKFold, train_test_split, learning_curve, ShuffleSplit\n",
        "from sklearn.model_selection import train_test_split\n",
        "from sklearn import model_selection, preprocessing\n",
        "from sklearn.metrics import classification_report, confusion_matrix, accuracy_score\n",
        "from sklearn.model_selection import cross_val_score, GridSearchCV, RandomizedSearchCV,KFold, cross_val_predict, StratifiedKFold, train_test_split, learning_curve, ShuffleSplit\n",
        "from sklearn.linear_model import LogisticRegression\n",
        "from sklearn.tree import DecisionTreeClassifier\n",
        "from sklearn.neighbors import KNeighborsClassifier\n",
        "from sklearn.discriminant_analysis import LinearDiscriminantAnalysis\n",
        "from sklearn.naive_bayes import GaussianNB\n",
        "from sklearn.svm import SVC \n",
        "from sklearn.linear_model import SGDClassifier\n",
        "from sklearn.ensemble import RandomForestClassifier\n",
        "from sklearn.model_selection import GridSearchCV, ShuffleSplit\n",
        "from sklearn.metrics import confusion_matrix, precision_score, recall_score, accuracy_score, f1_score\n",
        "from sklearn.model_selection import cross_val_predict\n",
        "from sklearn.metrics import confusion_matrix\n",
        "from sklearn.metrics import precision_recall_curve, average_precision_score, auc\n",
        "\n",
        "from sklearn.metrics import roc_curve\n",
        "from sklearn.metrics import roc_auc_score\n",
        "\n",
        "from mlxtend.plotting import plot_learning_curves\n",
        "from mlxtend.preprocessing import shuffle_arrays_unison\n",
        "\n",
        "import tensorflow as tf\n",
        "\n",
        "from keras import models, regularizers, layers, optimizers, losses, metrics\n",
        "from keras.models import Sequential\n",
        "from keras.layers import Dense\n",
        "from keras.utils import np_utils\n",
        "from keras.utils import to_categorical\n",
        "\n",
        "print(os.getcwd())\n",
        "print(\"Modules imported \\n\")\n",
        "import os\n",
        "\n",
        "#from sklearn.preprocessing import Imputer\n",
        "#from pandas.tools.plotting import scatter_matrix\n",
        "#from sklearn.utils.fixes import signature\n",
        "\n",
        "import numpy as np\n",
        "import pandas as pd\n",
        "import os\n",
        "import matplotlib.pyplot as plt\n",
        "#import torch\n",
        "#from torch import nn, optim\n",
        "import seaborn as sns\n",
        "from pathlib import Path\n",
        "import PIL\n",
        "import json\n",
        "from fastai import *\n",
        "from fastai.tabular import * "
      ],
      "execution_count": null,
      "outputs": [
        {
          "output_type": "stream",
          "text": [
            "/content\n",
            "Modules imported \n",
            "\n"
          ],
          "name": "stdout"
        }
      ]
    },
    {
      "cell_type": "code",
      "metadata": {
        "id": "n5temAYTJOTF",
        "colab": {
          "base_uri": "https://localhost:8080/",
          "height": 34
        },
        "outputId": "ad92c706-8c1e-4e21-b498-86bffebc5994"
      },
      "source": [
        "from google.colab import drive\n",
        "drive.mount('/content/drive')"
      ],
      "execution_count": null,
      "outputs": [
        {
          "output_type": "stream",
          "text": [
            "Drive already mounted at /content/drive; to attempt to forcibly remount, call drive.mount(\"/content/drive\", force_remount=True).\n"
          ],
          "name": "stdout"
        }
      ]
    },
    {
      "cell_type": "code",
      "metadata": {
        "id": "L3X4vPz-Jxz7",
        "colab": {
          "base_uri": "https://localhost:8080/",
          "height": 493
        },
        "outputId": "b4426aa7-0d6c-4eed-b84b-4796b1f6390f"
      },
      "source": [
        "!ls \"drive/My Drive/Colab Notebooks/Tabular/JanataHackHealthCare/inputs\""
      ],
      "execution_count": null,
      "outputs": [
        {
          "output_type": "stream",
          "text": [
            "combined_dataset-1.csv\n",
            "combined_dataset.csv\n",
            "info.csv\n",
            "lgb.csv\n",
            "sample_submission_Aug_29th.csv\n",
            "sample_submission_Aug_29th-fastai-10.1.csv\n",
            "sample_submission_Aug_29th-fastai-10.2.csv\n",
            "sample_submission_Aug_29th-fastai-10.3.csv\n",
            "sample_submission_Aug_29th-fastai-10.4.csv\n",
            "sample_submission_Aug_29th-fastai-10.csv\n",
            "sample_submission_Aug_29th-fastai-2.csv\n",
            "sample_submission_Aug_29th-fastai-3.csv\n",
            "sample_submission_Aug_29th-fastai-4.csv\n",
            "sample_submission_Aug_29th-fastai-5.csv\n",
            "sample_submission_Aug_29th-fastai-6.csv\n",
            "sample_submission_Aug_29th-fastai-7.csv\n",
            "sample_submission_Aug_29th-fastai-8.csv\n",
            "sample_submission_Aug_29th-fastai-9.csv\n",
            "sample_submission_Aug_29th-fastai.csv\n",
            "sample_submission_Aug_29th-lgb.csv\n",
            "sample_submission_Aug_30th-lgb-1.csv\n",
            "sample_submission_Aug_31st-lgb-3.csv\n",
            "sample_submission_Aug_31st_RF.csv\n",
            "sample_submission.csv\n",
            "test.csv\n",
            "train.csv\n",
            "train_data_dict.csv\n",
            "xgb.csv\n"
          ],
          "name": "stdout"
        }
      ]
    },
    {
      "cell_type": "code",
      "metadata": {
        "id": "YyZNjzQMJ5m9"
      },
      "source": [
        "# Read data\n",
        "train = pd.read_csv('drive/My Drive/Colab Notebooks/Tabular/JanataHackHealthCare/inputs/train.csv')\n",
        "test = pd.read_csv('drive/My Drive/Colab Notebooks/Tabular/JanataHackHealthCare/inputs/test.csv')\n",
        "sample_sub  = pd.read_csv('drive/My Drive/Colab Notebooks/Tabular/JanataHackHealthCare/inputs/sample_submission.csv') "
      ],
      "execution_count": null,
      "outputs": []
    },
    {
      "cell_type": "code",
      "metadata": {
        "id": "fBeF-AFYN6wi",
        "colab": {
          "base_uri": "https://localhost:8080/",
          "height": 756
        },
        "outputId": "bed58eaa-5d6c-46af-aa03-a8d82c9ae19c"
      },
      "source": [
        "print(train.shape)\n",
        "train.info()\n",
        "train.describe()"
      ],
      "execution_count": null,
      "outputs": [
        {
          "output_type": "stream",
          "text": [
            "(318438, 18)\n",
            "<class 'pandas.core.frame.DataFrame'>\n",
            "RangeIndex: 318438 entries, 0 to 318437\n",
            "Data columns (total 18 columns):\n",
            " #   Column                             Non-Null Count   Dtype  \n",
            "---  ------                             --------------   -----  \n",
            " 0   case_id                            318438 non-null  int64  \n",
            " 1   Hospital_code                      318438 non-null  int64  \n",
            " 2   Hospital_type_code                 318438 non-null  object \n",
            " 3   City_Code_Hospital                 318438 non-null  int64  \n",
            " 4   Hospital_region_code               318438 non-null  object \n",
            " 5   Available Extra Rooms in Hospital  318438 non-null  int64  \n",
            " 6   Department                         318438 non-null  object \n",
            " 7   Ward_Type                          318438 non-null  object \n",
            " 8   Ward_Facility_Code                 318438 non-null  object \n",
            " 9   Bed Grade                          318325 non-null  float64\n",
            " 10  patientid                          318438 non-null  int64  \n",
            " 11  City_Code_Patient                  313906 non-null  float64\n",
            " 12  Type of Admission                  318438 non-null  object \n",
            " 13  Severity of Illness                318438 non-null  object \n",
            " 14  Visitors with Patient              318438 non-null  int64  \n",
            " 15  Age                                318438 non-null  object \n",
            " 16  Admission_Deposit                  318438 non-null  float64\n",
            " 17  Stay                               318438 non-null  object \n",
            "dtypes: float64(3), int64(6), object(9)\n",
            "memory usage: 43.7+ MB\n"
          ],
          "name": "stdout"
        },
        {
          "output_type": "execute_result",
          "data": {
            "text/html": [
              "<div>\n",
              "<style scoped>\n",
              "    .dataframe tbody tr th:only-of-type {\n",
              "        vertical-align: middle;\n",
              "    }\n",
              "\n",
              "    .dataframe tbody tr th {\n",
              "        vertical-align: top;\n",
              "    }\n",
              "\n",
              "    .dataframe thead th {\n",
              "        text-align: right;\n",
              "    }\n",
              "</style>\n",
              "<table border=\"1\" class=\"dataframe\">\n",
              "  <thead>\n",
              "    <tr style=\"text-align: right;\">\n",
              "      <th></th>\n",
              "      <th>case_id</th>\n",
              "      <th>Hospital_code</th>\n",
              "      <th>City_Code_Hospital</th>\n",
              "      <th>Available Extra Rooms in Hospital</th>\n",
              "      <th>Bed Grade</th>\n",
              "      <th>patientid</th>\n",
              "      <th>City_Code_Patient</th>\n",
              "      <th>Visitors with Patient</th>\n",
              "      <th>Admission_Deposit</th>\n",
              "    </tr>\n",
              "  </thead>\n",
              "  <tbody>\n",
              "    <tr>\n",
              "      <th>count</th>\n",
              "      <td>318438.000000</td>\n",
              "      <td>318438.000000</td>\n",
              "      <td>318438.000000</td>\n",
              "      <td>318438.000000</td>\n",
              "      <td>318325.000000</td>\n",
              "      <td>318438.000000</td>\n",
              "      <td>313906.000000</td>\n",
              "      <td>318438.000000</td>\n",
              "      <td>318438.000000</td>\n",
              "    </tr>\n",
              "    <tr>\n",
              "      <th>mean</th>\n",
              "      <td>159219.500000</td>\n",
              "      <td>18.318841</td>\n",
              "      <td>4.771717</td>\n",
              "      <td>3.197627</td>\n",
              "      <td>2.625807</td>\n",
              "      <td>65747.579472</td>\n",
              "      <td>7.251859</td>\n",
              "      <td>3.284099</td>\n",
              "      <td>4880.749392</td>\n",
              "    </tr>\n",
              "    <tr>\n",
              "      <th>std</th>\n",
              "      <td>91925.276847</td>\n",
              "      <td>8.633755</td>\n",
              "      <td>3.102535</td>\n",
              "      <td>1.168171</td>\n",
              "      <td>0.873146</td>\n",
              "      <td>37979.936440</td>\n",
              "      <td>4.745266</td>\n",
              "      <td>1.764061</td>\n",
              "      <td>1086.776254</td>\n",
              "    </tr>\n",
              "    <tr>\n",
              "      <th>min</th>\n",
              "      <td>1.000000</td>\n",
              "      <td>1.000000</td>\n",
              "      <td>1.000000</td>\n",
              "      <td>0.000000</td>\n",
              "      <td>1.000000</td>\n",
              "      <td>1.000000</td>\n",
              "      <td>1.000000</td>\n",
              "      <td>0.000000</td>\n",
              "      <td>1800.000000</td>\n",
              "    </tr>\n",
              "    <tr>\n",
              "      <th>25%</th>\n",
              "      <td>79610.250000</td>\n",
              "      <td>11.000000</td>\n",
              "      <td>2.000000</td>\n",
              "      <td>2.000000</td>\n",
              "      <td>2.000000</td>\n",
              "      <td>32847.000000</td>\n",
              "      <td>4.000000</td>\n",
              "      <td>2.000000</td>\n",
              "      <td>4186.000000</td>\n",
              "    </tr>\n",
              "    <tr>\n",
              "      <th>50%</th>\n",
              "      <td>159219.500000</td>\n",
              "      <td>19.000000</td>\n",
              "      <td>5.000000</td>\n",
              "      <td>3.000000</td>\n",
              "      <td>3.000000</td>\n",
              "      <td>65724.500000</td>\n",
              "      <td>8.000000</td>\n",
              "      <td>3.000000</td>\n",
              "      <td>4741.000000</td>\n",
              "    </tr>\n",
              "    <tr>\n",
              "      <th>75%</th>\n",
              "      <td>238828.750000</td>\n",
              "      <td>26.000000</td>\n",
              "      <td>7.000000</td>\n",
              "      <td>4.000000</td>\n",
              "      <td>3.000000</td>\n",
              "      <td>98470.000000</td>\n",
              "      <td>8.000000</td>\n",
              "      <td>4.000000</td>\n",
              "      <td>5409.000000</td>\n",
              "    </tr>\n",
              "    <tr>\n",
              "      <th>max</th>\n",
              "      <td>318438.000000</td>\n",
              "      <td>32.000000</td>\n",
              "      <td>13.000000</td>\n",
              "      <td>24.000000</td>\n",
              "      <td>4.000000</td>\n",
              "      <td>131624.000000</td>\n",
              "      <td>38.000000</td>\n",
              "      <td>32.000000</td>\n",
              "      <td>11008.000000</td>\n",
              "    </tr>\n",
              "  </tbody>\n",
              "</table>\n",
              "</div>"
            ],
            "text/plain": [
              "             case_id  Hospital_code  ...  Visitors with Patient  Admission_Deposit\n",
              "count  318438.000000  318438.000000  ...          318438.000000      318438.000000\n",
              "mean   159219.500000      18.318841  ...               3.284099        4880.749392\n",
              "std     91925.276847       8.633755  ...               1.764061        1086.776254\n",
              "min         1.000000       1.000000  ...               0.000000        1800.000000\n",
              "25%     79610.250000      11.000000  ...               2.000000        4186.000000\n",
              "50%    159219.500000      19.000000  ...               3.000000        4741.000000\n",
              "75%    238828.750000      26.000000  ...               4.000000        5409.000000\n",
              "max    318438.000000      32.000000  ...              32.000000       11008.000000\n",
              "\n",
              "[8 rows x 9 columns]"
            ]
          },
          "metadata": {
            "tags": []
          },
          "execution_count": 6
        }
      ]
    },
    {
      "cell_type": "code",
      "metadata": {
        "id": "ZKH9AHVHOfwi",
        "colab": {
          "base_uri": "https://localhost:8080/",
          "height": 739
        },
        "outputId": "59fbe727-3739-4a11-b3f7-a4442fc0f119"
      },
      "source": [
        "print(test.shape)\n",
        "test.info()\n",
        "test.describe()"
      ],
      "execution_count": null,
      "outputs": [
        {
          "output_type": "stream",
          "text": [
            "(137057, 17)\n",
            "<class 'pandas.core.frame.DataFrame'>\n",
            "RangeIndex: 137057 entries, 0 to 137056\n",
            "Data columns (total 17 columns):\n",
            " #   Column                             Non-Null Count   Dtype  \n",
            "---  ------                             --------------   -----  \n",
            " 0   case_id                            137057 non-null  int64  \n",
            " 1   Hospital_code                      137057 non-null  int64  \n",
            " 2   Hospital_type_code                 137057 non-null  object \n",
            " 3   City_Code_Hospital                 137057 non-null  int64  \n",
            " 4   Hospital_region_code               137057 non-null  object \n",
            " 5   Available Extra Rooms in Hospital  137057 non-null  int64  \n",
            " 6   Department                         137057 non-null  object \n",
            " 7   Ward_Type                          137057 non-null  object \n",
            " 8   Ward_Facility_Code                 137057 non-null  object \n",
            " 9   Bed Grade                          137022 non-null  float64\n",
            " 10  patientid                          137057 non-null  int64  \n",
            " 11  City_Code_Patient                  134900 non-null  float64\n",
            " 12  Type of Admission                  137057 non-null  object \n",
            " 13  Severity of Illness                137057 non-null  object \n",
            " 14  Visitors with Patient              137057 non-null  int64  \n",
            " 15  Age                                137057 non-null  object \n",
            " 16  Admission_Deposit                  137057 non-null  float64\n",
            "dtypes: float64(3), int64(6), object(8)\n",
            "memory usage: 17.8+ MB\n"
          ],
          "name": "stdout"
        },
        {
          "output_type": "execute_result",
          "data": {
            "text/html": [
              "<div>\n",
              "<style scoped>\n",
              "    .dataframe tbody tr th:only-of-type {\n",
              "        vertical-align: middle;\n",
              "    }\n",
              "\n",
              "    .dataframe tbody tr th {\n",
              "        vertical-align: top;\n",
              "    }\n",
              "\n",
              "    .dataframe thead th {\n",
              "        text-align: right;\n",
              "    }\n",
              "</style>\n",
              "<table border=\"1\" class=\"dataframe\">\n",
              "  <thead>\n",
              "    <tr style=\"text-align: right;\">\n",
              "      <th></th>\n",
              "      <th>case_id</th>\n",
              "      <th>Hospital_code</th>\n",
              "      <th>City_Code_Hospital</th>\n",
              "      <th>Available Extra Rooms in Hospital</th>\n",
              "      <th>Bed Grade</th>\n",
              "      <th>patientid</th>\n",
              "      <th>City_Code_Patient</th>\n",
              "      <th>Visitors with Patient</th>\n",
              "      <th>Admission_Deposit</th>\n",
              "    </tr>\n",
              "  </thead>\n",
              "  <tbody>\n",
              "    <tr>\n",
              "      <th>count</th>\n",
              "      <td>137057.000000</td>\n",
              "      <td>137057.000000</td>\n",
              "      <td>137057.000000</td>\n",
              "      <td>137057.000000</td>\n",
              "      <td>137022.000000</td>\n",
              "      <td>137057.000000</td>\n",
              "      <td>134900.000000</td>\n",
              "      <td>137057.000000</td>\n",
              "      <td>137057.000000</td>\n",
              "    </tr>\n",
              "    <tr>\n",
              "      <th>mean</th>\n",
              "      <td>386967.000000</td>\n",
              "      <td>18.343747</td>\n",
              "      <td>4.758692</td>\n",
              "      <td>3.192686</td>\n",
              "      <td>2.634489</td>\n",
              "      <td>65877.903515</td>\n",
              "      <td>7.243996</td>\n",
              "      <td>3.284531</td>\n",
              "      <td>4869.731097</td>\n",
              "    </tr>\n",
              "    <tr>\n",
              "      <th>std</th>\n",
              "      <td>39565.092259</td>\n",
              "      <td>8.634694</td>\n",
              "      <td>3.102245</td>\n",
              "      <td>1.164250</td>\n",
              "      <td>0.869295</td>\n",
              "      <td>37942.997623</td>\n",
              "      <td>4.790625</td>\n",
              "      <td>1.777270</td>\n",
              "      <td>1080.766723</td>\n",
              "    </tr>\n",
              "    <tr>\n",
              "      <th>min</th>\n",
              "      <td>318439.000000</td>\n",
              "      <td>1.000000</td>\n",
              "      <td>1.000000</td>\n",
              "      <td>0.000000</td>\n",
              "      <td>1.000000</td>\n",
              "      <td>3.000000</td>\n",
              "      <td>1.000000</td>\n",
              "      <td>0.000000</td>\n",
              "      <td>1800.000000</td>\n",
              "    </tr>\n",
              "    <tr>\n",
              "      <th>25%</th>\n",
              "      <td>352703.000000</td>\n",
              "      <td>11.000000</td>\n",
              "      <td>2.000000</td>\n",
              "      <td>2.000000</td>\n",
              "      <td>2.000000</td>\n",
              "      <td>32945.000000</td>\n",
              "      <td>4.000000</td>\n",
              "      <td>2.000000</td>\n",
              "      <td>4178.000000</td>\n",
              "    </tr>\n",
              "    <tr>\n",
              "      <th>50%</th>\n",
              "      <td>386967.000000</td>\n",
              "      <td>19.000000</td>\n",
              "      <td>5.000000</td>\n",
              "      <td>3.000000</td>\n",
              "      <td>3.000000</td>\n",
              "      <td>65786.000000</td>\n",
              "      <td>8.000000</td>\n",
              "      <td>3.000000</td>\n",
              "      <td>4731.000000</td>\n",
              "    </tr>\n",
              "    <tr>\n",
              "      <th>75%</th>\n",
              "      <td>421231.000000</td>\n",
              "      <td>26.000000</td>\n",
              "      <td>7.000000</td>\n",
              "      <td>4.000000</td>\n",
              "      <td>3.000000</td>\n",
              "      <td>98851.000000</td>\n",
              "      <td>8.000000</td>\n",
              "      <td>4.000000</td>\n",
              "      <td>5398.000000</td>\n",
              "    </tr>\n",
              "    <tr>\n",
              "      <th>max</th>\n",
              "      <td>455495.000000</td>\n",
              "      <td>32.000000</td>\n",
              "      <td>13.000000</td>\n",
              "      <td>21.000000</td>\n",
              "      <td>4.000000</td>\n",
              "      <td>131618.000000</td>\n",
              "      <td>38.000000</td>\n",
              "      <td>32.000000</td>\n",
              "      <td>11920.000000</td>\n",
              "    </tr>\n",
              "  </tbody>\n",
              "</table>\n",
              "</div>"
            ],
            "text/plain": [
              "             case_id  Hospital_code  ...  Visitors with Patient  Admission_Deposit\n",
              "count  137057.000000  137057.000000  ...          137057.000000      137057.000000\n",
              "mean   386967.000000      18.343747  ...               3.284531        4869.731097\n",
              "std     39565.092259       8.634694  ...               1.777270        1080.766723\n",
              "min    318439.000000       1.000000  ...               0.000000        1800.000000\n",
              "25%    352703.000000      11.000000  ...               2.000000        4178.000000\n",
              "50%    386967.000000      19.000000  ...               3.000000        4731.000000\n",
              "75%    421231.000000      26.000000  ...               4.000000        5398.000000\n",
              "max    455495.000000      32.000000  ...              32.000000       11920.000000\n",
              "\n",
              "[8 rows x 9 columns]"
            ]
          },
          "metadata": {
            "tags": []
          },
          "execution_count": 7
        }
      ]
    },
    {
      "cell_type": "code",
      "metadata": {
        "id": "gjkNzMmnOk_i"
      },
      "source": [
        "y = train['Stay']"
      ],
      "execution_count": null,
      "outputs": []
    },
    {
      "cell_type": "code",
      "metadata": {
        "id": "OtglXyC3PcQb",
        "colab": {
          "base_uri": "https://localhost:8080/",
          "height": 984
        },
        "outputId": "08b8ee4a-119d-4ef9-8f3d-dc708b05d1ce"
      },
      "source": [
        "train.groupby('Department').size().plot.bar()\n",
        "plt.show()\n",
        "train.groupby('Severity of Illness').size().plot.bar()\n",
        "plt.show()\n",
        "train.groupby('Type of Admission').size().plot.bar()\n",
        "plt.show()"
      ],
      "execution_count": null,
      "outputs": [
        {
          "output_type": "display_data",
          "data": {
            "image/png": "[encoded data removed]",
            "text/plain": [
              "<Figure size 432x288 with 1 Axes>"
            ]
          },
          "metadata": {
            "tags": []
          }
        },
        {
          "output_type": "display_data",
          "data": {
            "image/png": "[encoded data removed]",
            "text/plain": [
              "<Figure size 432x288 with 1 Axes>"
            ]
          },
          "metadata": {
            "tags": []
          }
        },
        {
          "output_type": "display_data",
          "data": {
            "image/png": "[encoded data removed]",
            "text/plain": [
              "<Figure size 432x288 with 1 Axes>"
            ]
          },
          "metadata": {
            "tags": []
          }
        }
      ]
    },
    {
      "cell_type": "code",
      "metadata": {
        "id": "n2KEbOOoUkEM",
        "colab": {
          "base_uri": "https://localhost:8080/",
          "height": 373
        },
        "outputId": "f3c2277a-0aa1-444b-9ed2-1f05e790199e"
      },
      "source": [
        "train.groupby('Stay').size().plot.bar()\n",
        "plt.show()"
      ],
      "execution_count": null,
      "outputs": [
        {
          "output_type": "display_data",
          "data": {
            "image/png": "[encoded data removed]",
            "text/plain": [
              "<Figure size 432x288 with 1 Axes>"
            ]
          },
          "metadata": {
            "tags": []
          }
        }
      ]
    },
    {
      "cell_type": "code",
      "metadata": {
        "id": "8kXmTp8pQnLn",
        "colab": {
          "base_uri": "https://localhost:8080/",
          "height": 360
        },
        "outputId": "875a02ca-137c-4f65-e2ec-a55d5f3962d2"
      },
      "source": [
        "train.head()"
      ],
      "execution_count": null,
      "outputs": [
        {
          "output_type": "execute_result",
          "data": {
            "text/html": [
              "<div>\n",
              "<style scoped>\n",
              "    .dataframe tbody tr th:only-of-type {\n",
              "        vertical-align: middle;\n",
              "    }\n",
              "\n",
              "    .dataframe tbody tr th {\n",
              "        vertical-align: top;\n",
              "    }\n",
              "\n",
              "    .dataframe thead th {\n",
              "        text-align: right;\n",
              "    }\n",
              "</style>\n",
              "<table border=\"1\" class=\"dataframe\">\n",
              "  <thead>\n",
              "    <tr style=\"text-align: right;\">\n",
              "      <th></th>\n",
              "      <th>case_id</th>\n",
              "      <th>Hospital_code</th>\n",
              "      <th>Hospital_type_code</th>\n",
              "      <th>City_Code_Hospital</th>\n",
              "      <th>Hospital_region_code</th>\n",
              "      <th>Available Extra Rooms in Hospital</th>\n",
              "      <th>Department</th>\n",
              "      <th>Ward_Type</th>\n",
              "      <th>Ward_Facility_Code</th>\n",
              "      <th>Bed Grade</th>\n",
              "      <th>patientid</th>\n",
              "      <th>City_Code_Patient</th>\n",
              "      <th>Type of Admission</th>\n",
              "      <th>Severity of Illness</th>\n",
              "      <th>Visitors with Patient</th>\n",
              "      <th>Age</th>\n",
              "      <th>Admission_Deposit</th>\n",
              "      <th>Stay</th>\n",
              "    </tr>\n",
              "  </thead>\n",
              "  <tbody>\n",
              "    <tr>\n",
              "      <th>0</th>\n",
              "      <td>1</td>\n",
              "      <td>8</td>\n",
              "      <td>c</td>\n",
              "      <td>3</td>\n",
              "      <td>Z</td>\n",
              "      <td>3</td>\n",
              "      <td>radiotherapy</td>\n",
              "      <td>R</td>\n",
              "      <td>F</td>\n",
              "      <td>2.0</td>\n",
              "      <td>31397</td>\n",
              "      <td>7.0</td>\n",
              "      <td>Emergency</td>\n",
              "      <td>Extreme</td>\n",
              "      <td>2</td>\n",
              "      <td>51-60</td>\n",
              "      <td>4911.0</td>\n",
              "      <td>0-10</td>\n",
              "    </tr>\n",
              "    <tr>\n",
              "      <th>1</th>\n",
              "      <td>2</td>\n",
              "      <td>2</td>\n",
              "      <td>c</td>\n",
              "      <td>5</td>\n",
              "      <td>Z</td>\n",
              "      <td>2</td>\n",
              "      <td>radiotherapy</td>\n",
              "      <td>S</td>\n",
              "      <td>F</td>\n",
              "      <td>2.0</td>\n",
              "      <td>31397</td>\n",
              "      <td>7.0</td>\n",
              "      <td>Trauma</td>\n",
              "      <td>Extreme</td>\n",
              "      <td>2</td>\n",
              "      <td>51-60</td>\n",
              "      <td>5954.0</td>\n",
              "      <td>41-50</td>\n",
              "    </tr>\n",
              "    <tr>\n",
              "      <th>2</th>\n",
              "      <td>3</td>\n",
              "      <td>10</td>\n",
              "      <td>e</td>\n",
              "      <td>1</td>\n",
              "      <td>X</td>\n",
              "      <td>2</td>\n",
              "      <td>anesthesia</td>\n",
              "      <td>S</td>\n",
              "      <td>E</td>\n",
              "      <td>2.0</td>\n",
              "      <td>31397</td>\n",
              "      <td>7.0</td>\n",
              "      <td>Trauma</td>\n",
              "      <td>Extreme</td>\n",
              "      <td>2</td>\n",
              "      <td>51-60</td>\n",
              "      <td>4745.0</td>\n",
              "      <td>31-40</td>\n",
              "    </tr>\n",
              "    <tr>\n",
              "      <th>3</th>\n",
              "      <td>4</td>\n",
              "      <td>26</td>\n",
              "      <td>b</td>\n",
              "      <td>2</td>\n",
              "      <td>Y</td>\n",
              "      <td>2</td>\n",
              "      <td>radiotherapy</td>\n",
              "      <td>R</td>\n",
              "      <td>D</td>\n",
              "      <td>2.0</td>\n",
              "      <td>31397</td>\n",
              "      <td>7.0</td>\n",
              "      <td>Trauma</td>\n",
              "      <td>Extreme</td>\n",
              "      <td>2</td>\n",
              "      <td>51-60</td>\n",
              "      <td>7272.0</td>\n",
              "      <td>41-50</td>\n",
              "    </tr>\n",
              "    <tr>\n",
              "      <th>4</th>\n",
              "      <td>5</td>\n",
              "      <td>26</td>\n",
              "      <td>b</td>\n",
              "      <td>2</td>\n",
              "      <td>Y</td>\n",
              "      <td>2</td>\n",
              "      <td>radiotherapy</td>\n",
              "      <td>S</td>\n",
              "      <td>D</td>\n",
              "      <td>2.0</td>\n",
              "      <td>31397</td>\n",
              "      <td>7.0</td>\n",
              "      <td>Trauma</td>\n",
              "      <td>Extreme</td>\n",
              "      <td>2</td>\n",
              "      <td>51-60</td>\n",
              "      <td>5558.0</td>\n",
              "      <td>41-50</td>\n",
              "    </tr>\n",
              "  </tbody>\n",
              "</table>\n",
              "</div>"
            ],
            "text/plain": [
              "   case_id  Hospital_code Hospital_type_code  ...    Age Admission_Deposit   Stay\n",
              "0        1              8                  c  ...  51-60            4911.0   0-10\n",
              "1        2              2                  c  ...  51-60            5954.0  41-50\n",
              "2        3             10                  e  ...  51-60            4745.0  31-40\n",
              "3        4             26                  b  ...  51-60            7272.0  41-50\n",
              "4        5             26                  b  ...  51-60            5558.0  41-50\n",
              "\n",
              "[5 rows x 18 columns]"
            ]
          },
          "metadata": {
            "tags": []
          },
          "execution_count": 12
        }
      ]
    },
    {
      "cell_type": "code",
      "metadata": {
        "id": "ozP50DP8QuQj",
        "colab": {
          "base_uri": "https://localhost:8080/",
          "height": 34
        },
        "outputId": "04f9afb9-cd01-465f-9646-7e23a5b60c7f"
      },
      "source": [
        "len(train['patientid'].unique())"
      ],
      "execution_count": null,
      "outputs": [
        {
          "output_type": "execute_result",
          "data": {
            "text/plain": [
              "92017"
            ]
          },
          "metadata": {
            "tags": []
          },
          "execution_count": 13
        }
      ]
    },
    {
      "cell_type": "code",
      "metadata": {
        "id": "882NkuW6b3sj",
        "colab": {
          "base_uri": "https://localhost:8080/",
          "height": 51
        },
        "outputId": "230df22c-3380-4b00-c756-e3c2946d80d6"
      },
      "source": [
        "trainhospID = set(train['Hospital_code'])\n",
        "testhospID = set(test['Hospital_code'])\n",
        "\n",
        "print(\"set1 intersection set2 : \", trainhospID.intersection(testhospID)) \n",
        "len(testhospID)\n",
        "len(trainhospID)\n"
      ],
      "execution_count": null,
      "outputs": [
        {
          "output_type": "stream",
          "text": [
            "set1 intersection set2 :  {1, 2, 3, 4, 5, 6, 7, 8, 9, 10, 11, 12, 13, 14, 15, 16, 17, 18, 19, 20, 21, 22, 23, 24, 25, 26, 27, 28, 29, 30, 31, 32}\n"
          ],
          "name": "stdout"
        },
        {
          "output_type": "execute_result",
          "data": {
            "text/plain": [
              "32"
            ]
          },
          "metadata": {
            "tags": []
          },
          "execution_count": 14
        }
      ]
    },
    {
      "cell_type": "code",
      "metadata": {
        "id": "gQH5A113P2Bu"
      },
      "source": [
        "train['Bed Grade'].fillna(value=2.0, inplace=True)\n",
        "train['City_Code_Patient'].fillna(value=-99, inplace=True)"
      ],
      "execution_count": null,
      "outputs": []
    },
    {
      "cell_type": "code",
      "metadata": {
        "id": "INPBz7_9RUJa"
      },
      "source": [
        "test['Bed Grade'].fillna(value=2.0, inplace=True)\n",
        "test['City_Code_Patient'].fillna(value=-99, inplace=True)"
      ],
      "execution_count": null,
      "outputs": []
    },
    {
      "cell_type": "code",
      "metadata": {
        "id": "fq40KsfsYRbP"
      },
      "source": [
        "#Models - Cat Boost"
      ],
      "execution_count": null,
      "outputs": []
    },
    {
      "cell_type": "code",
      "metadata": {
        "id": "5NrUPyG4SrMP"
      },
      "source": [
        "# target = 'Stay'\n",
        "# cat_cols = ['Hospital_code', 'Hospital_type_code', 'City_Code_Hospital', 'Hospital_region_code', 'Department',\n",
        "#       'Ward_Type', 'Ward_Facility_Code', 'Bed Grade','patientid','City_Code_Patient','Type of Admission','Severity of Illness','Age']\n",
        "# cat_cols_indices = [train.columns.tolist().index(x) for x in cat_cols]\n",
        "# cat_cols_indices"
      ],
      "execution_count": null,
      "outputs": []
    },
    {
      "cell_type": "code",
      "metadata": {
        "id": "DhT7tl4qaQrS"
      },
      "source": [
        "#!pip install catboost"
      ],
      "execution_count": null,
      "outputs": []
    },
    {
      "cell_type": "code",
      "metadata": {
        "id": "dQ68jGFDZoc0"
      },
      "source": [
        "# from catboost import CatBoostClassifier\n",
        "# #model = CatBoostClassifier(iterations=50)\n",
        "# model = CatBoostClassifier(learning_rate=0.01, eval_metric='Accuracy', od_wait=400, iterations=10000)"
      ],
      "execution_count": null,
      "outputs": []
    },
    {
      "cell_type": "code",
      "metadata": {
        "id": "V7lSL0ZlalG0"
      },
      "source": [
        "#np.where(train.dtypes != np.float)[0]"
      ],
      "execution_count": null,
      "outputs": []
    },
    {
      "cell_type": "code",
      "metadata": {
        "id": "9Hqqd52rckVb"
      },
      "source": [
        "FEATS_EXCLUDED = ['Stay']\n",
        "usecols = [f for f in train.columns if f not in FEATS_EXCLUDED]"
      ],
      "execution_count": null,
      "outputs": []
    },
    {
      "cell_type": "code",
      "metadata": {
        "id": "xL8d_2X4ewCU"
      },
      "source": [
        "# train['Bed Grade'] = train['Bed Grade'].astype(str)\n",
        "# test['Bed Grade'] = test['Bed Grade'].astype(str)\n",
        "\n",
        "# train['City_Code_Patient'] = train['City_Code_Patient'].astype(str)\n",
        "# test['City_Code_Patient'] = test['City_Code_Patient'].astype(str)\n",
        "\n",
        "# train['Admission_Deposit'] = train['Admission_Deposit'].astype(str)\n",
        "# test['Admission_Deposit'] = test['Admission_Deposit'].astype(str)\n"
      ],
      "execution_count": null,
      "outputs": []
    },
    {
      "cell_type": "code",
      "metadata": {
        "id": "I9MUxuuzXz8-"
      },
      "source": [
        "train['meanStay'] = train['Stay'].map({'0-10':5,\n",
        "                                    '11-20':15,\n",
        "                                    '21-30':25,                                     \n",
        "                                    '31-40':35,\n",
        "                                    '41-50':45,\n",
        "                                    '51-60':55,\n",
        "                                    '61-70':65,\n",
        "                                    '71-80':75,\n",
        "                                    '81-90':85,\n",
        "                                    '91-100':95,\n",
        "                                    'More than 100 Days':105\n",
        "                                     })"
      ],
      "execution_count": null,
      "outputs": []
    },
    {
      "cell_type": "code",
      "metadata": {
        "id": "VAyLwwmNglNd",
        "colab": {
          "base_uri": "https://localhost:8080/",
          "height": 221
        },
        "outputId": "7d02d389-9863-4b7e-b7f6-500ce8847811"
      },
      "source": [
        "train['meanStay'].value_counts()"
      ],
      "execution_count": null,
      "outputs": [
        {
          "output_type": "execute_result",
          "data": {
            "text/plain": [
              "25     87491\n",
              "15     78139\n",
              "35     55159\n",
              "55     35018\n",
              "5      23604\n",
              "45     11743\n",
              "75     10254\n",
              "105     6683\n",
              "85      4838\n",
              "95      2765\n",
              "65      2744\n",
              "Name: meanStay, dtype: int64"
            ]
          },
          "metadata": {
            "tags": []
          },
          "execution_count": 25
        }
      ]
    },
    {
      "cell_type": "code",
      "metadata": {
        "id": "XX-iDY9FgvGk"
      },
      "source": [
        "train['Stay'] = train['Stay'].map({'0-10':0,\n",
        "                                    '11-20':1,\n",
        "                                    '21-30':2,                                     \n",
        "                                    '31-40':3,\n",
        "                                    '41-50':4,\n",
        "                                    '51-60':5,\n",
        "                                    '61-70':6,\n",
        "                                    '71-80':7,\n",
        "                                    '81-90':8,\n",
        "                                    '91-100':9,\n",
        "                                    'More than 100 Days':10\n",
        "                                     })"
      ],
      "execution_count": null,
      "outputs": []
    },
    {
      "cell_type": "code",
      "metadata": {
        "id": "3RQS8QPQXwvO"
      },
      "source": [
        "# categorical_columns = ['Hospital_code', 'Hospital_type_code', 'City_Code_Hospital', 'Hospital_region_code', 'Department',\n",
        "#       'Ward_Type', 'Ward_Facility_Code', 'Bed Grade','City_Code_Patient','Type of Admission','Severity of Illness','Age']"
      ],
      "execution_count": null,
      "outputs": []
    },
    {
      "cell_type": "code",
      "metadata": {
        "id": "KAgj4HbicUPb",
        "colab": {
          "base_uri": "https://localhost:8080/",
          "height": 187
        },
        "outputId": "56433c4a-4467-4f76-b394-22cd958db05f"
      },
      "source": [
        "kf = model_selection.GroupKFold(n_splits=5)\n",
        "\n",
        "oof_cat = np.zeros(train.shape[0])\n",
        "\n",
        "for dev_index, val_index in kf.split(train[usecols], train[\"Stay\"].values, train[\"patientid\"].values):\n",
        "    print(train[\"patientid\"].loc[val_index].unique())\n",
        "\n",
        "    dev_X, val_X = train[usecols].loc[dev_index,:], train[usecols].loc[val_index,:]\n",
        "    dev_y, val_y = train[\"Stay\"][dev_index], train[\"Stay\"][val_index]\n",
        "    print(len(dev_X))\n",
        "    # model.fit(\n",
        "    # dev_X, dev_y,\n",
        "    # cat_features=cat_cols_indices,\n",
        "    # #eval_set=(val_X, val_y),\n",
        "    # logging_level='Silent',\n",
        "    # plot=True)\n",
        "    \n",
        "    # oof_cat[val_index] = model.predict(val_X)\n",
        "    # pred_test_cat  = model.predict(test_X)\n",
        "\n",
        "    # pred_test_full_cat += pred_test_cat\n",
        "    \n",
        "# pred_test_full_cat /= 5.\n",
        "\n"
      ],
      "execution_count": null,
      "outputs": [
        {
          "output_type": "stream",
          "text": [
            "[ 33340  88451 127970 100096 ...  79108  26631    325  91081]\n",
            "254750\n",
            "[  8088  64869  30632  82551 ...  41602 122839 120672  21641]\n",
            "254750\n",
            "[ 31397  28843  44201 128803 ...  79339  22709  14309 109796]\n",
            "254750\n",
            "[ 84932 110115 130244   6112 ... 109647  36018  86499 125235]\n",
            "254751\n",
            "[ 63418 109338 115513  83512 ...  38816  70282  87939  50508]\n",
            "254751\n"
          ],
          "name": "stdout"
        }
      ]
    },
    {
      "cell_type": "code",
      "metadata": {
        "id": "9nK63NuScUaj"
      },
      "source": [
        "# train.head()"
      ],
      "execution_count": null,
      "outputs": []
    },
    {
      "cell_type": "code",
      "metadata": {
        "id": "9DGOZbH8S8oD"
      },
      "source": [
        "def display_importances(feature_importance_df_):\n",
        "    cols = feature_importance_df_[[\"Feature\", \"importance\"]].groupby(\"Feature\").mean().sort_values(by=\"importance\", ascending=False)[:40].index\n",
        "    best_features = feature_importance_df_.loc[feature_importance_df_.Feature.isin(cols)]\n",
        "    plt.figure(figsize=(8, 10))\n",
        "    sns.barplot(x=\"importance\", y=\"Feature\", data=best_features.sort_values(by=\"importance\", ascending=False))"
      ],
      "execution_count": null,
      "outputs": []
    },
    {
      "cell_type": "code",
      "metadata": {
        "id": "B-PDr9nVv8FL"
      },
      "source": [
        "train['Bed Grade'] = train['Bed Grade'].astype('float64')\n",
        "test['Bed Grade'] = test['Bed Grade'].astype('float64')\n",
        "\n",
        "# train['City_Code_Patient'] = train['City_Code_Patient'].astype('float64')\n",
        "# test['City_Code_Patient'] = test['City_Code_Patient'].astype('float64')\n",
        "\n",
        "train['Admission_Deposit'] = train['Admission_Deposit'].astype('float64')\n",
        "test['Admission_Deposit'] = test['Admission_Deposit'].astype('float64')"
      ],
      "execution_count": null,
      "outputs": []
    },
    {
      "cell_type": "code",
      "metadata": {
        "id": "q3rhd5qCaixu"
      },
      "source": [
        "#FEATURE ENGINEERING"
      ],
      "execution_count": null,
      "outputs": []
    },
    {
      "cell_type": "code",
      "metadata": {
        "id": "ufI0vJWp3w5p",
        "colab": {
          "base_uri": "https://localhost:8080/",
          "height": 34
        },
        "outputId": "c35270d3-62a8-4aad-be50-5ddcca9d8934"
      },
      "source": [
        "train.patientid.dtype"
      ],
      "execution_count": null,
      "outputs": [
        {
          "output_type": "execute_result",
          "data": {
            "text/plain": [
              "dtype('int64')"
            ]
          },
          "metadata": {
            "tags": []
          },
          "execution_count": 33
        }
      ]
    },
    {
      "cell_type": "code",
      "metadata": {
        "id": "-IdhiANO563S"
      },
      "source": [
        "train['train_or_test'] = 0\n",
        "test['train_or_test'] = 1\n",
        "\n",
        "# Concat train and test data\n",
        "combined = pd.concat([train, test])"
      ],
      "execution_count": null,
      "outputs": []
    },
    {
      "cell_type": "code",
      "metadata": {
        "id": "3NlzgfFcJ7Xg"
      },
      "source": [
        "# fEATURES\n",
        "# Hospital_code\n",
        "# Hospital_type_code\n",
        "# City_Code_Hospital\n",
        "# Hospital_region_code\n",
        "# ##Available Extra Rooms in Hospital\n",
        "# Department\n",
        "# Ward_Type\n",
        "# Ward_Facility_Code\n",
        "# Bed Grade\n",
        "# patientid\n",
        "# City_Code_Patient\n",
        "# Type of Admission\n",
        "# Severity of Illness\n",
        "# ##Visitors with Patient\n",
        "# ##Age\n",
        "## ##Admission_Deposit"
      ],
      "execution_count": null,
      "outputs": []
    },
    {
      "cell_type": "code",
      "metadata": {
        "id": "L95fdAqDYMHL",
        "colab": {
          "base_uri": "https://localhost:8080/",
          "height": 204
        },
        "outputId": "e817a7a6-73fc-4a8f-de06-8b489f88a2ed"
      },
      "source": [
        "train['Age'].value_counts()"
      ],
      "execution_count": null,
      "outputs": [
        {
          "output_type": "execute_result",
          "data": {
            "text/plain": [
              "41-50     63749\n",
              "31-40     63639\n",
              "51-60     48514\n",
              "21-30     40843\n",
              "71-80     35792\n",
              "61-70     33687\n",
              "11-20     16768\n",
              "81-90      7890\n",
              "0-10       6254\n",
              "91-100     1302\n",
              "Name: Age, dtype: int64"
            ]
          },
          "metadata": {
            "tags": []
          },
          "execution_count": 36
        }
      ]
    },
    {
      "cell_type": "code",
      "metadata": {
        "id": "Y6QIX23FYAqy"
      },
      "source": [
        "combined['meanAge'] = combined['Age'].map({'0-10':5,\n",
        "                                    '11-20':15,\n",
        "                                    '21-30':25,                                     \n",
        "                                    '31-40':35,\n",
        "                                    '41-50':45,\n",
        "                                    '51-60':55,\n",
        "                                    '61-70':65,\n",
        "                                    '71-80':75,\n",
        "                                    '81-90':85,\n",
        "                                    '91-100':95,                                    \n",
        "                                     })"
      ],
      "execution_count": null,
      "outputs": []
    },
    {
      "cell_type": "code",
      "metadata": {
        "id": "cdKmUmoEe10l",
        "colab": {
          "base_uri": "https://localhost:8080/",
          "height": 204
        },
        "outputId": "ce592438-cc01-4537-d7b2-5cb3edfd53f8"
      },
      "source": [
        "combined['meanAge'].value_counts()"
      ],
      "execution_count": null,
      "outputs": [
        {
          "output_type": "execute_result",
          "data": {
            "text/plain": [
              "45    91495\n",
              "35    90420\n",
              "55    69506\n",
              "25    58560\n",
              "75    50737\n",
              "65    48619\n",
              "15    23871\n",
              "85    11240\n",
              "5      9140\n",
              "95     1907\n",
              "Name: meanAge, dtype: int64"
            ]
          },
          "metadata": {
            "tags": []
          },
          "execution_count": 38
        }
      ]
    },
    {
      "cell_type": "code",
      "metadata": {
        "id": "JISfgNrF58KZ",
        "colab": {
          "base_uri": "https://localhost:8080/",
          "height": 216
        },
        "outputId": "525efc6b-9f1e-41cc-9503-8209f891fc79"
      },
      "source": [
        "combined.head(2)"
      ],
      "execution_count": null,
      "outputs": [
        {
          "output_type": "execute_result",
          "data": {
            "text/html": [
              "<div>\n",
              "<style scoped>\n",
              "    .dataframe tbody tr th:only-of-type {\n",
              "        vertical-align: middle;\n",
              "    }\n",
              "\n",
              "    .dataframe tbody tr th {\n",
              "        vertical-align: top;\n",
              "    }\n",
              "\n",
              "    .dataframe thead th {\n",
              "        text-align: right;\n",
              "    }\n",
              "</style>\n",
              "<table border=\"1\" class=\"dataframe\">\n",
              "  <thead>\n",
              "    <tr style=\"text-align: right;\">\n",
              "      <th></th>\n",
              "      <th>case_id</th>\n",
              "      <th>Hospital_code</th>\n",
              "      <th>Hospital_type_code</th>\n",
              "      <th>City_Code_Hospital</th>\n",
              "      <th>Hospital_region_code</th>\n",
              "      <th>Available Extra Rooms in Hospital</th>\n",
              "      <th>Department</th>\n",
              "      <th>Ward_Type</th>\n",
              "      <th>Ward_Facility_Code</th>\n",
              "      <th>Bed Grade</th>\n",
              "      <th>patientid</th>\n",
              "      <th>City_Code_Patient</th>\n",
              "      <th>Type of Admission</th>\n",
              "      <th>Severity of Illness</th>\n",
              "      <th>Visitors with Patient</th>\n",
              "      <th>Age</th>\n",
              "      <th>Admission_Deposit</th>\n",
              "      <th>Stay</th>\n",
              "      <th>meanStay</th>\n",
              "      <th>train_or_test</th>\n",
              "      <th>meanAge</th>\n",
              "    </tr>\n",
              "  </thead>\n",
              "  <tbody>\n",
              "    <tr>\n",
              "      <th>0</th>\n",
              "      <td>1</td>\n",
              "      <td>8</td>\n",
              "      <td>c</td>\n",
              "      <td>3</td>\n",
              "      <td>Z</td>\n",
              "      <td>3</td>\n",
              "      <td>radiotherapy</td>\n",
              "      <td>R</td>\n",
              "      <td>F</td>\n",
              "      <td>2.0</td>\n",
              "      <td>31397</td>\n",
              "      <td>7.0</td>\n",
              "      <td>Emergency</td>\n",
              "      <td>Extreme</td>\n",
              "      <td>2</td>\n",
              "      <td>51-60</td>\n",
              "      <td>4911.0</td>\n",
              "      <td>0.0</td>\n",
              "      <td>5.0</td>\n",
              "      <td>0</td>\n",
              "      <td>55</td>\n",
              "    </tr>\n",
              "    <tr>\n",
              "      <th>1</th>\n",
              "      <td>2</td>\n",
              "      <td>2</td>\n",
              "      <td>c</td>\n",
              "      <td>5</td>\n",
              "      <td>Z</td>\n",
              "      <td>2</td>\n",
              "      <td>radiotherapy</td>\n",
              "      <td>S</td>\n",
              "      <td>F</td>\n",
              "      <td>2.0</td>\n",
              "      <td>31397</td>\n",
              "      <td>7.0</td>\n",
              "      <td>Trauma</td>\n",
              "      <td>Extreme</td>\n",
              "      <td>2</td>\n",
              "      <td>51-60</td>\n",
              "      <td>5954.0</td>\n",
              "      <td>4.0</td>\n",
              "      <td>45.0</td>\n",
              "      <td>0</td>\n",
              "      <td>55</td>\n",
              "    </tr>\n",
              "  </tbody>\n",
              "</table>\n",
              "</div>"
            ],
            "text/plain": [
              "   case_id  Hospital_code Hospital_type_code  ...  meanStay train_or_test  meanAge\n",
              "0        1              8                  c  ...       5.0             0       55\n",
              "1        2              2                  c  ...      45.0             0       55\n",
              "\n",
              "[2 rows x 21 columns]"
            ]
          },
          "metadata": {
            "tags": []
          },
          "execution_count": 39
        }
      ]
    },
    {
      "cell_type": "code",
      "metadata": {
        "id": "qL-oG9iD6CUP"
      },
      "source": [
        "# Import label encoder \n",
        "from sklearn import preprocessing \n",
        "  \n",
        "# label_encoder object knows how to understand word labels. \n",
        "label_encoder = preprocessing.LabelEncoder() "
      ],
      "execution_count": null,
      "outputs": []
    },
    {
      "cell_type": "code",
      "metadata": {
        "id": "UrA9N6Fr6XNx"
      },
      "source": [
        "# Encode labels in columns. \n",
        "combined['Hospital_type_code']= label_encoder.fit_transform(combined['Hospital_type_code']) \n",
        "combined['Hospital_region_code']= label_encoder.fit_transform(combined['Hospital_region_code']) \n",
        "combined['Department']= label_encoder.fit_transform(combined['Department']) \n",
        "combined['Ward_Type']= label_encoder.fit_transform(combined['Ward_Type']) \n",
        "combined['Ward_Facility_Code']= label_encoder.fit_transform(combined['Ward_Facility_Code']) \n",
        "combined['Type of Admission']= label_encoder.fit_transform(combined['Type of Admission']) \n",
        "combined['Severity of Illness']= label_encoder.fit_transform(combined['Severity of Illness']) \n",
        "combined['Ward_Facility_Code']= label_encoder.fit_transform(combined['Ward_Facility_Code']) "
      ],
      "execution_count": null,
      "outputs": []
    },
    {
      "cell_type": "code",
      "metadata": {
        "id": "XQWEoG8k7A50"
      },
      "source": [
        "# Aggregate"
      ],
      "execution_count": null,
      "outputs": []
    },
    {
      "cell_type": "code",
      "metadata": {
        "id": "9OYdkr7FJ7ci"
      },
      "source": [
        "aggregators = {\n",
        "'nunique' : lambda x, col : x[col].nunique(),\n",
        "'mode' : lambda x , col : x[col].value_counts().index[0],\n",
        "'mean' : lambda x , col : x[col].mean(),\n",
        "'median' : lambda x , col : x[col].median(),\n",
        "'std' : lambda x , col : x[col].std(),\n",
        "'max_' : lambda x , col : x[col].max(),\n",
        "'min_' : lambda x , col : x[col].min(),\n",
        "'sum' : lambda x , col : x[col].sum()\n",
        "}\n",
        "\n",
        "def group_transaction_by_patient(x):\n",
        "    d = {}\n",
        "    serIndex = []\n",
        "    for col, aggs in GroupByDict.items():\n",
        "        for agg in aggs:\n",
        "            name = col + '_' + agg\n",
        "            d[name] = aggregators[agg](x, col)\n",
        "            serIndex.append(name)\n",
        "    return pd.Series(d,serIndex)"
      ],
      "execution_count": null,
      "outputs": []
    },
    {
      "cell_type": "code",
      "metadata": {
        "id": "Dg7cWsgFagAm"
      },
      "source": [
        "# By Patient\n",
        "GroupByDict = {\n",
        "    'Admission_Deposit' : ['mean', 'max_', 'min_', 'std'],\n",
        "    'Ward_Facility_Code' : ['nunique', 'mode'],\n",
        "    'Department' : ['nunique', 'mode'],\n",
        "    'Hospital_region_code' : ['nunique', 'mode'],\n",
        "    'City_Code_Hospital' : ['nunique', 'mode'],\n",
        "    'Hospital_type_code' : ['nunique', 'mode'],\n",
        "    'Hospital_code' : ['nunique', 'mode'],\n",
        "    'Type of Admission' : ['nunique', 'mode'],\n",
        "    'Severity of Illness' : ['nunique', 'mode'],\n",
        "    'Visitors with Patient' : ['mean'],  \n",
        "}"
      ],
      "execution_count": null,
      "outputs": []
    },
    {
      "cell_type": "code",
      "metadata": {
        "id": "WL0-6M44n7Lm",
        "colab": {
          "base_uri": "https://localhost:8080/",
          "height": 34
        },
        "outputId": "5cf1839b-406a-46db-b884-69b4a1518fdf"
      },
      "source": [
        "combined.shape"
      ],
      "execution_count": null,
      "outputs": [
        {
          "output_type": "execute_result",
          "data": {
            "text/plain": [
              "(455495, 21)"
            ]
          },
          "metadata": {
            "tags": []
          },
          "execution_count": 45
        }
      ]
    },
    {
      "cell_type": "code",
      "metadata": {
        "id": "kFuF_tQqJ7fk",
        "colab": {
          "base_uri": "https://localhost:8080/",
          "height": 51
        },
        "outputId": "8b4e0f37-a0da-425e-e410-e92b272d93ce"
      },
      "source": [
        "%%time\n",
        "aggData = pd.DataFrame()\n",
        "tempGrpd = combined.groupby(by = 'patientid').apply(group_transaction_by_patient)\n",
        "aggData = aggData.append(tempGrpd)\n",
        "\n",
        "combined = pd.merge(combined, aggData, how=\"left\", on=['patientid'])"
      ],
      "execution_count": null,
      "outputs": [
        {
          "output_type": "stream",
          "text": [
            "CPU times: user 16min 8s, sys: 2.88 s, total: 16min 11s\n",
            "Wall time: 16min 8s\n"
          ],
          "name": "stdout"
        }
      ]
    },
    {
      "cell_type": "code",
      "metadata": {
        "id": "9S9P0wZvRGSM"
      },
      "source": [
        "# By Hospital\n",
        "GroupByDict = {\n",
        "    'meanAge' : ['mean', 'max_', 'min_', 'std'],\n",
        "    'Admission_Deposit' : ['mean', 'max_', 'min_', 'std'],\n",
        "    'Type of Admission' : ['nunique', 'mode'],\n",
        "    'Severity of Illness' : ['nunique', 'mode'],\n",
        "    'Available Extra Rooms in Hospital' : ['mean', 'max_', 'min_', 'std'],\n",
        "}"
      ],
      "execution_count": null,
      "outputs": []
    },
    {
      "cell_type": "code",
      "metadata": {
        "id": "JT9P9lW0nmr5",
        "colab": {
          "base_uri": "https://localhost:8080/",
          "height": 34
        },
        "outputId": "2dd31b30-ca14-49c6-fc70-ae9892861e28"
      },
      "source": [
        "combined.shape"
      ],
      "execution_count": null,
      "outputs": [
        {
          "output_type": "execute_result",
          "data": {
            "text/plain": [
              "(455495, 42)"
            ]
          },
          "metadata": {
            "tags": []
          },
          "execution_count": 48
        }
      ]
    },
    {
      "cell_type": "code",
      "metadata": {
        "id": "eJCRCwbL81rn"
      },
      "source": [
        "def group_transaction_by_hospital(x):\n",
        "    d = {}\n",
        "    serIndex = []\n",
        "    for col, aggs in GroupByDict.items():\n",
        "        for agg in aggs:\n",
        "            name = col + '_hospital_' + agg\n",
        "            d[name] = aggregators[agg](x, col)\n",
        "            serIndex.append(name)\n",
        "    return pd.Series(d,serIndex)"
      ],
      "execution_count": null,
      "outputs": []
    },
    {
      "cell_type": "code",
      "metadata": {
        "id": "H8Y2voclZGea"
      },
      "source": [
        "aggData = pd.DataFrame()\n",
        "tempGrpd = combined.groupby(by = 'Hospital_code').apply(group_transaction_by_hospital)\n",
        "aggData = aggData.append(tempGrpd)\n",
        "combined = pd.merge(combined, aggData, how=\"left\", on=['Hospital_code'])"
      ],
      "execution_count": null,
      "outputs": []
    },
    {
      "cell_type": "code",
      "metadata": {
        "id": "skzcgWA8J7p8"
      },
      "source": [
        "grouped_df = combined.groupby(['Hospital_code','Department'])['meanStay'].agg([\"min\",\"max\",\"std\",\"mean\"]).reset_index()\n",
        "grouped_df.columns = ['Hospital_code','Department','hosp_dept_Stay_min','hosp_dept_Stay_max','hosp_dept_Stay_std','hosp_dept_Stay_mean']\n",
        "combined = pd.merge(combined, grouped_df, how=\"left\", on=['Hospital_code','Department'])"
      ],
      "execution_count": null,
      "outputs": []
    },
    {
      "cell_type": "code",
      "metadata": {
        "id": "UvB9WOp2UdRd"
      },
      "source": [
        "grouped_df = combined.groupby(['Hospital_code','Type of Admission'])['meanStay'].agg([\"min\",\"max\",\"std\",\"mean\"]).reset_index()\n",
        "grouped_df.columns = ['Hospital_code','Type of Admission','hosp_Adm_Stay_min','hosp_Adm_Stay_max','hosp_Adm_Stay_std','hosp_Adm_Stay_mean']\n",
        "combined = pd.merge(combined, grouped_df, how=\"left\", on=['Hospital_code','Type of Admission'])"
      ],
      "execution_count": null,
      "outputs": []
    },
    {
      "cell_type": "code",
      "metadata": {
        "id": "jOWl6qSkUd2O"
      },
      "source": [
        "grouped_df = combined.groupby(['Hospital_code','Severity of Illness'])['meanStay'].agg([\"min\",\"max\",\"std\",\"mean\"]).reset_index()\n",
        "grouped_df.columns = ['Hospital_code','Severity of Illness','hosp_sev_Stay_min','hosp_sev_Stay_max','hosp_sev_Stay_std','hosp_sev_Stay_mean']\n",
        "combined = pd.merge(combined, grouped_df, how=\"left\", on=['Hospital_code','Severity of Illness'])"
      ],
      "execution_count": null,
      "outputs": []
    },
    {
      "cell_type": "code",
      "metadata": {
        "id": "9j6FnsuZU3kP"
      },
      "source": [
        "grouped_df = combined.groupby(['Department'])['meanStay'].agg([\"min\",\"max\",\"std\",\"mean\"]).reset_index()\n",
        "grouped_df.columns = ['Department','Dept_Stay_min','Dept_Stay_max','Dept_Stay_std','Dept_Stay_mean']\n",
        "combined = pd.merge(combined, grouped_df, how=\"left\", on=['Department'])"
      ],
      "execution_count": null,
      "outputs": []
    },
    {
      "cell_type": "code",
      "metadata": {
        "id": "BDUwJpQQU86_"
      },
      "source": [
        "grouped_df = combined.groupby(['Severity of Illness'])['meanStay'].agg([\"min\",\"max\",\"std\",\"mean\"]).reset_index()\n",
        "grouped_df.columns = ['Severity of Illness','Sev_Stay_min','Sev_Stay_max','Sev_Stay_std','Sev_Stay_mean']\n",
        "combined = pd.merge(combined, grouped_df, how=\"left\", on=['Severity of Illness'])"
      ],
      "execution_count": null,
      "outputs": []
    },
    {
      "cell_type": "code",
      "metadata": {
        "id": "TsckPLFBVMa3"
      },
      "source": [
        "grouped_df = combined.groupby(['Type of Admission'])['meanStay'].agg([\"min\",\"max\",\"std\",\"mean\"]).reset_index()\n",
        "grouped_df.columns = ['Type of Admission','Typ_Stay_min','Typ_Stay_max','Typ_Stay_std','Typ_Stay_mean']\n",
        "combined = pd.merge(combined, grouped_df, how=\"left\", on=['Type of Admission'])"
      ],
      "execution_count": null,
      "outputs": []
    },
    {
      "cell_type": "code",
      "metadata": {
        "id": "4QHDKy4yF3Jd"
      },
      "source": [
        "grouped_df = combined.groupby(['meanAge','Severity of Illness'])['Admission_Deposit'].agg([\"min\",\"max\",\"std\",\"mean\"]).reset_index()\n",
        "grouped_df.columns = ['meanAge','Severity of Illness','Age_Sev_min','Age_Sev_max','Age_Sev_std','Age_Sev_mean']\n",
        "combined = pd.merge(combined, grouped_df, how=\"left\", on=['meanAge','Severity of Illness'])"
      ],
      "execution_count": null,
      "outputs": []
    },
    {
      "cell_type": "code",
      "metadata": {
        "id": "75Y9HKh9H6aX"
      },
      "source": [
        "grouped_df = combined.groupby(['Ward_Facility_Code','Bed Grade'])['meanStay'].agg([\"min\",\"max\",\"std\",\"mean\"]).reset_index()\n",
        "grouped_df.columns = ['Ward_Facility_Code','Bed Grade','Bed_fac_min','Bed_fac_max','Bed_fac_std','Bed_fac_mean']\n",
        "combined = pd.merge(combined, grouped_df, how=\"left\", on=['Ward_Facility_Code','Bed Grade'])"
      ],
      "execution_count": null,
      "outputs": []
    },
    {
      "cell_type": "code",
      "metadata": {
        "id": "-HKlkJ2hOuBy"
      },
      "source": [
        "grouped_df = combined.groupby(['Type of Admission','Severity of Illness'])['meanStay'].agg([\"min\",\"max\",\"std\",\"mean\"]).reset_index()\n",
        "grouped_df.columns = ['Type of Admission','Severity of Illness','typ_sev1_min','typ_sev1_max','typ_sev1_std','typ_sev1_mean']\n",
        "combined = pd.merge(combined, grouped_df, how=\"left\", on=['Type of Admission','Severity of Illness'])"
      ],
      "execution_count": null,
      "outputs": []
    },
    {
      "cell_type": "code",
      "metadata": {
        "id": "OLGgyapQOW0y"
      },
      "source": [
        "grouped_df = combined.groupby(['Hospital_region_code'])['meanStay'].agg([\"min\",\"max\",\"std\",\"mean\"]).reset_index()\n",
        "grouped_df.columns = ['Hospital_region_code','r_min','r_max','r_std','r_mean']\n",
        "combined = pd.merge(combined, grouped_df, how=\"left\", on=['Hospital_region_code'])"
      ],
      "execution_count": null,
      "outputs": []
    },
    {
      "cell_type": "code",
      "metadata": {
        "id": "1EyTx9tcU5Ii"
      },
      "source": [
        "grouped_df = combined.groupby(['City_Code_Hospital'])['meanStay'].agg([\"min\",\"max\",\"std\",\"mean\"]).reset_index()\n",
        "grouped_df.columns = ['City_Code_Hospital','c_min','c_max','c_std','c_mean']\n",
        "combined = pd.merge(combined, grouped_df, how=\"left\", on=['City_Code_Hospital'])"
      ],
      "execution_count": null,
      "outputs": []
    },
    {
      "cell_type": "code",
      "metadata": {
        "id": "4G1jjyofZJyp"
      },
      "source": [
        ""
      ],
      "execution_count": null,
      "outputs": []
    },
    {
      "cell_type": "code",
      "metadata": {
        "id": "okj1R6q5t5MT",
        "colab": {
          "base_uri": "https://localhost:8080/",
          "height": 34
        },
        "outputId": "ef3fd8fc-d405-46e7-a06f-386bf22326f9"
      },
      "source": [
        "combined.shape"
      ],
      "execution_count": null,
      "outputs": [
        {
          "output_type": "execute_result",
          "data": {
            "text/plain": [
              "(455495, 102)"
            ]
          },
          "metadata": {
            "tags": []
          },
          "execution_count": 62
        }
      ]
    },
    {
      "cell_type": "code",
      "metadata": {
        "id": "1SoQRsFWJ7vl"
      },
      "source": [
        "combined['patient_in_this_hosp'] = combined.groupby(['Hospital_code'])['patientid'].transform('nunique')\n",
        "combined['patient_cum_visit'] = combined.groupby(['patientid'])['case_id'].cumcount()"
      ],
      "execution_count": null,
      "outputs": []
    },
    {
      "cell_type": "code",
      "metadata": {
        "id": "oax0LvmYYXwf"
      },
      "source": [
        "grouped_df = combined.groupby(['meanAge'])['meanStay'].agg([\"min\",\"max\",\"std\",\"mean\"]).reset_index()\n",
        "grouped_df.columns = ['meanAge','meanAge_Stay_min','meanAge_Stay_max','meanAge_Stay_std','meanAge_Stay_mean']\n",
        "combined = pd.merge(combined, grouped_df, how=\"left\", on=['meanAge'])"
      ],
      "execution_count": null,
      "outputs": []
    },
    {
      "cell_type": "code",
      "metadata": {
        "id": "Nw2xtB5kJ7tx"
      },
      "source": [
        "combined[\"patient_last_Adm_dep\"] = combined.groupby(\"patientid\")[\"Admission_Deposit\"].shift(1)"
      ],
      "execution_count": null,
      "outputs": []
    },
    {
      "cell_type": "code",
      "metadata": {
        "id": "wP30P8xAupID"
      },
      "source": [
        "path = \"drive/My Drive/Colab Notebooks/Tabular/JanataHackHealthCare/inputs/\""
      ],
      "execution_count": null,
      "outputs": []
    },
    {
      "cell_type": "code",
      "metadata": {
        "id": "-XozuoQzuZx3"
      },
      "source": [
        "combined.to_csv(path+'combined_dataset-1.csv')"
      ],
      "execution_count": null,
      "outputs": []
    },
    {
      "cell_type": "code",
      "metadata": {
        "id": "3YIhbcFe-Z5f"
      },
      "source": [
        "# Can start from here"
      ],
      "execution_count": null,
      "outputs": []
    },
    {
      "cell_type": "code",
      "metadata": {
        "id": "NJsZY1El-f_u"
      },
      "source": [
        "path = \"drive/My Drive/Colab Notebooks/Tabular/JanataHackHealthCare/inputs/\""
      ],
      "execution_count": null,
      "outputs": []
    },
    {
      "cell_type": "code",
      "metadata": {
        "id": "GYDBpSruEP3i"
      },
      "source": [
        "combined = pd.read_csv(path+'combined_dataset-1.csv')"
      ],
      "execution_count": null,
      "outputs": []
    },
    {
      "cell_type": "code",
      "metadata": {
        "id": "y5JUeFfmQ2fV"
      },
      "source": [
        "#list(combined.columns)"
      ],
      "execution_count": null,
      "outputs": []
    },
    {
      "cell_type": "code",
      "metadata": {
        "id": "VNEUSl2-AWJL",
        "colab": {
          "base_uri": "https://localhost:8080/",
          "height": 389
        },
        "outputId": "89ca31bc-ac52-4c2a-861c-bd6a16921e1d"
      },
      "source": [
        "combined.head()"
      ],
      "execution_count": null,
      "outputs": [
        {
          "output_type": "execute_result",
          "data": {
            "text/html": [
              "<div>\n",
              "<style scoped>\n",
              "    .dataframe tbody tr th:only-of-type {\n",
              "        vertical-align: middle;\n",
              "    }\n",
              "\n",
              "    .dataframe tbody tr th {\n",
              "        vertical-align: top;\n",
              "    }\n",
              "\n",
              "    .dataframe thead th {\n",
              "        text-align: right;\n",
              "    }\n",
              "</style>\n",
              "<table border=\"1\" class=\"dataframe\">\n",
              "  <thead>\n",
              "    <tr style=\"text-align: right;\">\n",
              "      <th></th>\n",
              "      <th>Unnamed: 0</th>\n",
              "      <th>case_id</th>\n",
              "      <th>Hospital_code</th>\n",
              "      <th>Hospital_type_code</th>\n",
              "      <th>City_Code_Hospital</th>\n",
              "      <th>Hospital_region_code</th>\n",
              "      <th>Available Extra Rooms in Hospital</th>\n",
              "      <th>Department</th>\n",
              "      <th>Ward_Type</th>\n",
              "      <th>Ward_Facility_Code</th>\n",
              "      <th>Bed Grade</th>\n",
              "      <th>patientid</th>\n",
              "      <th>City_Code_Patient</th>\n",
              "      <th>Type of Admission</th>\n",
              "      <th>Severity of Illness</th>\n",
              "      <th>Visitors with Patient</th>\n",
              "      <th>Age</th>\n",
              "      <th>Admission_Deposit</th>\n",
              "      <th>Stay</th>\n",
              "      <th>meanStay</th>\n",
              "      <th>train_or_test</th>\n",
              "      <th>meanAge</th>\n",
              "      <th>Admission_Deposit_mean</th>\n",
              "      <th>Admission_Deposit_max_</th>\n",
              "      <th>Admission_Deposit_min_</th>\n",
              "      <th>Admission_Deposit_std</th>\n",
              "      <th>Ward_Facility_Code_nunique</th>\n",
              "      <th>Ward_Facility_Code_mode</th>\n",
              "      <th>Department_nunique</th>\n",
              "      <th>Department_mode</th>\n",
              "      <th>Hospital_region_code_nunique</th>\n",
              "      <th>Hospital_region_code_mode</th>\n",
              "      <th>City_Code_Hospital_nunique</th>\n",
              "      <th>City_Code_Hospital_mode</th>\n",
              "      <th>Hospital_type_code_nunique</th>\n",
              "      <th>Hospital_type_code_mode</th>\n",
              "      <th>Hospital_code_nunique</th>\n",
              "      <th>Hospital_code_mode</th>\n",
              "      <th>Type of Admission_nunique</th>\n",
              "      <th>Type of Admission_mode</th>\n",
              "      <th>...</th>\n",
              "      <th>hosp_sev_Stay_mean</th>\n",
              "      <th>Dept_Stay_min</th>\n",
              "      <th>Dept_Stay_max</th>\n",
              "      <th>Dept_Stay_std</th>\n",
              "      <th>Dept_Stay_mean</th>\n",
              "      <th>Sev_Stay_min</th>\n",
              "      <th>Sev_Stay_max</th>\n",
              "      <th>Sev_Stay_std</th>\n",
              "      <th>Sev_Stay_mean</th>\n",
              "      <th>Typ_Stay_min</th>\n",
              "      <th>Typ_Stay_max</th>\n",
              "      <th>Typ_Stay_std</th>\n",
              "      <th>Typ_Stay_mean</th>\n",
              "      <th>Age_Sev_min</th>\n",
              "      <th>Age_Sev_max</th>\n",
              "      <th>Age_Sev_std</th>\n",
              "      <th>Age_Sev_mean</th>\n",
              "      <th>Bed_fac_min</th>\n",
              "      <th>Bed_fac_max</th>\n",
              "      <th>Bed_fac_std</th>\n",
              "      <th>Bed_fac_mean</th>\n",
              "      <th>typ_sev1_min</th>\n",
              "      <th>typ_sev1_max</th>\n",
              "      <th>typ_sev1_std</th>\n",
              "      <th>typ_sev1_mean</th>\n",
              "      <th>r_min</th>\n",
              "      <th>r_max</th>\n",
              "      <th>r_std</th>\n",
              "      <th>r_mean</th>\n",
              "      <th>c_min</th>\n",
              "      <th>c_max</th>\n",
              "      <th>c_std</th>\n",
              "      <th>c_mean</th>\n",
              "      <th>patient_in_this_hosp</th>\n",
              "      <th>patient_cum_visit</th>\n",
              "      <th>meanAge_Stay_min</th>\n",
              "      <th>meanAge_Stay_max</th>\n",
              "      <th>meanAge_Stay_std</th>\n",
              "      <th>meanAge_Stay_mean</th>\n",
              "      <th>patient_last_Adm_dep</th>\n",
              "    </tr>\n",
              "  </thead>\n",
              "  <tbody>\n",
              "    <tr>\n",
              "      <th>0</th>\n",
              "      <td>0</td>\n",
              "      <td>1</td>\n",
              "      <td>8</td>\n",
              "      <td>2</td>\n",
              "      <td>3</td>\n",
              "      <td>2</td>\n",
              "      <td>3</td>\n",
              "      <td>3</td>\n",
              "      <td>2</td>\n",
              "      <td>5</td>\n",
              "      <td>2.0</td>\n",
              "      <td>31397</td>\n",
              "      <td>7.0</td>\n",
              "      <td>0</td>\n",
              "      <td>0</td>\n",
              "      <td>2</td>\n",
              "      <td>51-60</td>\n",
              "      <td>4911.0</td>\n",
              "      <td>0.0</td>\n",
              "      <td>5.0</td>\n",
              "      <td>0</td>\n",
              "      <td>55</td>\n",
              "      <td>5951.0</td>\n",
              "      <td>8477.0</td>\n",
              "      <td>4449.0</td>\n",
              "      <td>1094.526944</td>\n",
              "      <td>5.0</td>\n",
              "      <td>5.0</td>\n",
              "      <td>3.0</td>\n",
              "      <td>3.0</td>\n",
              "      <td>3.0</td>\n",
              "      <td>1.0</td>\n",
              "      <td>7.0</td>\n",
              "      <td>2.0</td>\n",
              "      <td>7.0</td>\n",
              "      <td>2.0</td>\n",
              "      <td>10.0</td>\n",
              "      <td>26.0</td>\n",
              "      <td>3.0</td>\n",
              "      <td>1.0</td>\n",
              "      <td>...</td>\n",
              "      <td>34.706362</td>\n",
              "      <td>5.0</td>\n",
              "      <td>105.0</td>\n",
              "      <td>23.498793</td>\n",
              "      <td>33.170851</td>\n",
              "      <td>5.0</td>\n",
              "      <td>105.0</td>\n",
              "      <td>23.752762</td>\n",
              "      <td>36.314458</td>\n",
              "      <td>5.0</td>\n",
              "      <td>105.0</td>\n",
              "      <td>22.012829</td>\n",
              "      <td>30.173782</td>\n",
              "      <td>1800.0</td>\n",
              "      <td>10720.0</td>\n",
              "      <td>1095.230313</td>\n",
              "      <td>4776.4455</td>\n",
              "      <td>5.0</td>\n",
              "      <td>105.0</td>\n",
              "      <td>19.161022</td>\n",
              "      <td>31.386030</td>\n",
              "      <td>5.0</td>\n",
              "      <td>105.0</td>\n",
              "      <td>24.721036</td>\n",
              "      <td>34.547974</td>\n",
              "      <td>5.0</td>\n",
              "      <td>105.0</td>\n",
              "      <td>21.637445</td>\n",
              "      <td>32.301114</td>\n",
              "      <td>5.0</td>\n",
              "      <td>105.0</td>\n",
              "      <td>21.687989</td>\n",
              "      <td>32.335677</td>\n",
              "      <td>5114</td>\n",
              "      <td>0</td>\n",
              "      <td>5.0</td>\n",
              "      <td>105.0</td>\n",
              "      <td>22.237034</td>\n",
              "      <td>33.077462</td>\n",
              "      <td>NaN</td>\n",
              "    </tr>\n",
              "    <tr>\n",
              "      <th>1</th>\n",
              "      <td>1</td>\n",
              "      <td>2</td>\n",
              "      <td>2</td>\n",
              "      <td>2</td>\n",
              "      <td>5</td>\n",
              "      <td>2</td>\n",
              "      <td>2</td>\n",
              "      <td>3</td>\n",
              "      <td>3</td>\n",
              "      <td>5</td>\n",
              "      <td>2.0</td>\n",
              "      <td>31397</td>\n",
              "      <td>7.0</td>\n",
              "      <td>1</td>\n",
              "      <td>0</td>\n",
              "      <td>2</td>\n",
              "      <td>51-60</td>\n",
              "      <td>5954.0</td>\n",
              "      <td>4.0</td>\n",
              "      <td>45.0</td>\n",
              "      <td>0</td>\n",
              "      <td>55</td>\n",
              "      <td>5951.0</td>\n",
              "      <td>8477.0</td>\n",
              "      <td>4449.0</td>\n",
              "      <td>1094.526944</td>\n",
              "      <td>5.0</td>\n",
              "      <td>5.0</td>\n",
              "      <td>3.0</td>\n",
              "      <td>3.0</td>\n",
              "      <td>3.0</td>\n",
              "      <td>1.0</td>\n",
              "      <td>7.0</td>\n",
              "      <td>2.0</td>\n",
              "      <td>7.0</td>\n",
              "      <td>2.0</td>\n",
              "      <td>10.0</td>\n",
              "      <td>26.0</td>\n",
              "      <td>3.0</td>\n",
              "      <td>1.0</td>\n",
              "      <td>...</td>\n",
              "      <td>46.147903</td>\n",
              "      <td>5.0</td>\n",
              "      <td>105.0</td>\n",
              "      <td>23.498793</td>\n",
              "      <td>33.170851</td>\n",
              "      <td>5.0</td>\n",
              "      <td>105.0</td>\n",
              "      <td>23.752762</td>\n",
              "      <td>36.314458</td>\n",
              "      <td>5.0</td>\n",
              "      <td>105.0</td>\n",
              "      <td>21.398377</td>\n",
              "      <td>34.054256</td>\n",
              "      <td>1800.0</td>\n",
              "      <td>10720.0</td>\n",
              "      <td>1095.230313</td>\n",
              "      <td>4776.4455</td>\n",
              "      <td>5.0</td>\n",
              "      <td>105.0</td>\n",
              "      <td>19.161022</td>\n",
              "      <td>31.386030</td>\n",
              "      <td>5.0</td>\n",
              "      <td>105.0</td>\n",
              "      <td>23.413024</td>\n",
              "      <td>38.133128</td>\n",
              "      <td>5.0</td>\n",
              "      <td>105.0</td>\n",
              "      <td>21.637445</td>\n",
              "      <td>32.301114</td>\n",
              "      <td>5.0</td>\n",
              "      <td>105.0</td>\n",
              "      <td>21.586318</td>\n",
              "      <td>32.266034</td>\n",
              "      <td>6134</td>\n",
              "      <td>1</td>\n",
              "      <td>5.0</td>\n",
              "      <td>105.0</td>\n",
              "      <td>22.237034</td>\n",
              "      <td>33.077462</td>\n",
              "      <td>4911.0</td>\n",
              "    </tr>\n",
              "    <tr>\n",
              "      <th>2</th>\n",
              "      <td>2</td>\n",
              "      <td>3</td>\n",
              "      <td>10</td>\n",
              "      <td>4</td>\n",
              "      <td>1</td>\n",
              "      <td>0</td>\n",
              "      <td>2</td>\n",
              "      <td>1</td>\n",
              "      <td>3</td>\n",
              "      <td>4</td>\n",
              "      <td>2.0</td>\n",
              "      <td>31397</td>\n",
              "      <td>7.0</td>\n",
              "      <td>1</td>\n",
              "      <td>0</td>\n",
              "      <td>2</td>\n",
              "      <td>51-60</td>\n",
              "      <td>4745.0</td>\n",
              "      <td>3.0</td>\n",
              "      <td>35.0</td>\n",
              "      <td>0</td>\n",
              "      <td>55</td>\n",
              "      <td>5951.0</td>\n",
              "      <td>8477.0</td>\n",
              "      <td>4449.0</td>\n",
              "      <td>1094.526944</td>\n",
              "      <td>5.0</td>\n",
              "      <td>5.0</td>\n",
              "      <td>3.0</td>\n",
              "      <td>3.0</td>\n",
              "      <td>3.0</td>\n",
              "      <td>1.0</td>\n",
              "      <td>7.0</td>\n",
              "      <td>2.0</td>\n",
              "      <td>7.0</td>\n",
              "      <td>2.0</td>\n",
              "      <td>10.0</td>\n",
              "      <td>26.0</td>\n",
              "      <td>3.0</td>\n",
              "      <td>1.0</td>\n",
              "      <td>...</td>\n",
              "      <td>34.297935</td>\n",
              "      <td>5.0</td>\n",
              "      <td>105.0</td>\n",
              "      <td>20.044831</td>\n",
              "      <td>29.999494</td>\n",
              "      <td>5.0</td>\n",
              "      <td>105.0</td>\n",
              "      <td>23.752762</td>\n",
              "      <td>36.314458</td>\n",
              "      <td>5.0</td>\n",
              "      <td>105.0</td>\n",
              "      <td>21.398377</td>\n",
              "      <td>34.054256</td>\n",
              "      <td>1800.0</td>\n",
              "      <td>10720.0</td>\n",
              "      <td>1095.230313</td>\n",
              "      <td>4776.4455</td>\n",
              "      <td>5.0</td>\n",
              "      <td>105.0</td>\n",
              "      <td>18.172965</td>\n",
              "      <td>29.967082</td>\n",
              "      <td>5.0</td>\n",
              "      <td>105.0</td>\n",
              "      <td>23.413024</td>\n",
              "      <td>38.133128</td>\n",
              "      <td>5.0</td>\n",
              "      <td>105.0</td>\n",
              "      <td>20.826734</td>\n",
              "      <td>31.673817</td>\n",
              "      <td>5.0</td>\n",
              "      <td>105.0</td>\n",
              "      <td>20.082365</td>\n",
              "      <td>30.521309</td>\n",
              "      <td>12886</td>\n",
              "      <td>2</td>\n",
              "      <td>5.0</td>\n",
              "      <td>105.0</td>\n",
              "      <td>22.237034</td>\n",
              "      <td>33.077462</td>\n",
              "      <td>5954.0</td>\n",
              "    </tr>\n",
              "    <tr>\n",
              "      <th>3</th>\n",
              "      <td>3</td>\n",
              "      <td>4</td>\n",
              "      <td>26</td>\n",
              "      <td>1</td>\n",
              "      <td>2</td>\n",
              "      <td>1</td>\n",
              "      <td>2</td>\n",
              "      <td>3</td>\n",
              "      <td>2</td>\n",
              "      <td>3</td>\n",
              "      <td>2.0</td>\n",
              "      <td>31397</td>\n",
              "      <td>7.0</td>\n",
              "      <td>1</td>\n",
              "      <td>0</td>\n",
              "      <td>2</td>\n",
              "      <td>51-60</td>\n",
              "      <td>7272.0</td>\n",
              "      <td>4.0</td>\n",
              "      <td>45.0</td>\n",
              "      <td>0</td>\n",
              "      <td>55</td>\n",
              "      <td>5951.0</td>\n",
              "      <td>8477.0</td>\n",
              "      <td>4449.0</td>\n",
              "      <td>1094.526944</td>\n",
              "      <td>5.0</td>\n",
              "      <td>5.0</td>\n",
              "      <td>3.0</td>\n",
              "      <td>3.0</td>\n",
              "      <td>3.0</td>\n",
              "      <td>1.0</td>\n",
              "      <td>7.0</td>\n",
              "      <td>2.0</td>\n",
              "      <td>7.0</td>\n",
              "      <td>2.0</td>\n",
              "      <td>10.0</td>\n",
              "      <td>26.0</td>\n",
              "      <td>3.0</td>\n",
              "      <td>1.0</td>\n",
              "      <td>...</td>\n",
              "      <td>39.751868</td>\n",
              "      <td>5.0</td>\n",
              "      <td>105.0</td>\n",
              "      <td>23.498793</td>\n",
              "      <td>33.170851</td>\n",
              "      <td>5.0</td>\n",
              "      <td>105.0</td>\n",
              "      <td>23.752762</td>\n",
              "      <td>36.314458</td>\n",
              "      <td>5.0</td>\n",
              "      <td>105.0</td>\n",
              "      <td>21.398377</td>\n",
              "      <td>34.054256</td>\n",
              "      <td>1800.0</td>\n",
              "      <td>10720.0</td>\n",
              "      <td>1095.230313</td>\n",
              "      <td>4776.4455</td>\n",
              "      <td>5.0</td>\n",
              "      <td>105.0</td>\n",
              "      <td>19.694885</td>\n",
              "      <td>32.980266</td>\n",
              "      <td>5.0</td>\n",
              "      <td>105.0</td>\n",
              "      <td>23.413024</td>\n",
              "      <td>38.133128</td>\n",
              "      <td>5.0</td>\n",
              "      <td>105.0</td>\n",
              "      <td>22.139425</td>\n",
              "      <td>32.163394</td>\n",
              "      <td>5.0</td>\n",
              "      <td>105.0</td>\n",
              "      <td>22.437276</td>\n",
              "      <td>33.835724</td>\n",
              "      <td>37279</td>\n",
              "      <td>3</td>\n",
              "      <td>5.0</td>\n",
              "      <td>105.0</td>\n",
              "      <td>22.237034</td>\n",
              "      <td>33.077462</td>\n",
              "      <td>4745.0</td>\n",
              "    </tr>\n",
              "    <tr>\n",
              "      <th>4</th>\n",
              "      <td>4</td>\n",
              "      <td>5</td>\n",
              "      <td>26</td>\n",
              "      <td>1</td>\n",
              "      <td>2</td>\n",
              "      <td>1</td>\n",
              "      <td>2</td>\n",
              "      <td>3</td>\n",
              "      <td>3</td>\n",
              "      <td>3</td>\n",
              "      <td>2.0</td>\n",
              "      <td>31397</td>\n",
              "      <td>7.0</td>\n",
              "      <td>1</td>\n",
              "      <td>0</td>\n",
              "      <td>2</td>\n",
              "      <td>51-60</td>\n",
              "      <td>5558.0</td>\n",
              "      <td>4.0</td>\n",
              "      <td>45.0</td>\n",
              "      <td>0</td>\n",
              "      <td>55</td>\n",
              "      <td>5951.0</td>\n",
              "      <td>8477.0</td>\n",
              "      <td>4449.0</td>\n",
              "      <td>1094.526944</td>\n",
              "      <td>5.0</td>\n",
              "      <td>5.0</td>\n",
              "      <td>3.0</td>\n",
              "      <td>3.0</td>\n",
              "      <td>3.0</td>\n",
              "      <td>1.0</td>\n",
              "      <td>7.0</td>\n",
              "      <td>2.0</td>\n",
              "      <td>7.0</td>\n",
              "      <td>2.0</td>\n",
              "      <td>10.0</td>\n",
              "      <td>26.0</td>\n",
              "      <td>3.0</td>\n",
              "      <td>1.0</td>\n",
              "      <td>...</td>\n",
              "      <td>39.751868</td>\n",
              "      <td>5.0</td>\n",
              "      <td>105.0</td>\n",
              "      <td>23.498793</td>\n",
              "      <td>33.170851</td>\n",
              "      <td>5.0</td>\n",
              "      <td>105.0</td>\n",
              "      <td>23.752762</td>\n",
              "      <td>36.314458</td>\n",
              "      <td>5.0</td>\n",
              "      <td>105.0</td>\n",
              "      <td>21.398377</td>\n",
              "      <td>34.054256</td>\n",
              "      <td>1800.0</td>\n",
              "      <td>10720.0</td>\n",
              "      <td>1095.230313</td>\n",
              "      <td>4776.4455</td>\n",
              "      <td>5.0</td>\n",
              "      <td>105.0</td>\n",
              "      <td>19.694885</td>\n",
              "      <td>32.980266</td>\n",
              "      <td>5.0</td>\n",
              "      <td>105.0</td>\n",
              "      <td>23.413024</td>\n",
              "      <td>38.133128</td>\n",
              "      <td>5.0</td>\n",
              "      <td>105.0</td>\n",
              "      <td>22.139425</td>\n",
              "      <td>32.163394</td>\n",
              "      <td>5.0</td>\n",
              "      <td>105.0</td>\n",
              "      <td>22.437276</td>\n",
              "      <td>33.835724</td>\n",
              "      <td>37279</td>\n",
              "      <td>4</td>\n",
              "      <td>5.0</td>\n",
              "      <td>105.0</td>\n",
              "      <td>22.237034</td>\n",
              "      <td>33.077462</td>\n",
              "      <td>7272.0</td>\n",
              "    </tr>\n",
              "  </tbody>\n",
              "</table>\n",
              "<p>5 rows × 110 columns</p>\n",
              "</div>"
            ],
            "text/plain": [
              "   Unnamed: 0  case_id  ...  meanAge_Stay_mean  patient_last_Adm_dep\n",
              "0           0        1  ...          33.077462                   NaN\n",
              "1           1        2  ...          33.077462                4911.0\n",
              "2           2        3  ...          33.077462                5954.0\n",
              "3           3        4  ...          33.077462                4745.0\n",
              "4           4        5  ...          33.077462                7272.0\n",
              "\n",
              "[5 rows x 110 columns]"
            ]
          },
          "metadata": {
            "tags": []
          },
          "execution_count": 17
        }
      ]
    },
    {
      "cell_type": "code",
      "metadata": {
        "id": "iLIZqzCqOyZs"
      },
      "source": [
        "grouped_df = combined.groupby(['Department'])['Visitors with Patient'].agg([\"min\",\"max\",\"std\",\"mean\"]).reset_index()\n",
        "grouped_df.columns = ['Department','d_min','d_max','d_std','d_mean']\n",
        "combined = pd.merge(combined, grouped_df, how=\"left\", on=['Department'])"
      ],
      "execution_count": null,
      "outputs": []
    },
    {
      "cell_type": "code",
      "metadata": {
        "id": "rwkEDcGnOzFn"
      },
      "source": [
        "#combined[].value_counts()\n",
        "grouped_df = combined.groupby(['meanAge','Severity of Illness'])['Visitors with Patient'].agg([\"min\",\"max\",\"std\",\"mean\"]).reset_index()\n",
        "grouped_df.columns = ['meanAge','Severity of Illness','v_min','v_max','v_std','v_mean']\n",
        "combined = pd.merge(combined, grouped_df, how=\"left\", on=['meanAge','Severity of Illness'])"
      ],
      "execution_count": null,
      "outputs": []
    },
    {
      "cell_type": "code",
      "metadata": {
        "id": "2GhT7uEQOGOR"
      },
      "source": [
        "def encode_FE(df1, df2, cols):\n",
        "    for col in cols:\n",
        "        df = pd.concat([df1[col],df2[col]])\n",
        "        vc = df.value_counts(dropna=True, normalize=True).to_dict()\n",
        "        vc[-1] = -1\n",
        "        nm = col+'_FE'\n",
        "        df1[nm] = df1[col].map(vc)\n",
        "        df1[nm] = df1[nm].astype('float32')\n",
        "        df2[nm] = df2[col].map(vc)\n",
        "        df2[nm] = df2[nm].astype('float32')\n",
        "        print(nm,', ',end='')\n",
        "        \n",
        "# LABEL ENCODE\n",
        "def encode_LE(col,train=train,test=test,verbose=True):\n",
        "    df_comb = pd.concat([train[col],test[col]],axis=0)\n",
        "    df_comb,_ = df_comb.factorize(sort=True)\n",
        "    nm = col\n",
        "    if df_comb.max()>32000: \n",
        "        train[nm] = df_comb[:len(train)].astype('int32')\n",
        "        test[nm] = df_comb[len(train):].astype('int32')\n",
        "    else:\n",
        "        train[nm] = df_comb[:len(train)].astype('int16')\n",
        "        test[nm] = df_comb[len(train):].astype('int16')\n",
        "    del df_comb; x=gc.collect()\n",
        "    if verbose: print(nm,', ',end='')\n",
        "        \n",
        "# GROUP AGGREGATION MEAN AND STD\n",
        "# https://www.kaggle.com/kyakovlev/ieee-fe-with-some-eda\n",
        "def encode_AG(main_columns, uids, aggregations=['mean'], train_df=train, test_df=test, \n",
        "              fillna=True, usena=False):\n",
        "    # AGGREGATION OF MAIN WITH UID FOR GIVEN STATISTICS\n",
        "    for main_column in main_columns:  \n",
        "        for col in uids:\n",
        "            for agg_type in aggregations:\n",
        "                new_col_name = main_column+'_'+col+'_'+agg_type\n",
        "                temp_df = pd.concat([train_df[[col, main_column]], test_df[[col,main_column]]])\n",
        "                if usena: temp_df.loc[temp_df[main_column]==-1,main_column] = np.nan\n",
        "                temp_df = temp_df.groupby([col])[main_column].agg([agg_type]).reset_index().rename(\n",
        "                                                        columns={agg_type: new_col_name})\n",
        "\n",
        "                temp_df.index = list(temp_df[col])\n",
        "                temp_df = temp_df[new_col_name].to_dict()   \n",
        "\n",
        "                train_df[new_col_name] = train_df[col].map(temp_df).astype('float32')\n",
        "                test_df[new_col_name]  = test_df[col].map(temp_df).astype('float32')\n",
        "                \n",
        "                if fillna:\n",
        "                    train_df[new_col_name].fillna(-1,inplace=True)\n",
        "                    test_df[new_col_name].fillna(-1,inplace=True)\n",
        "                \n",
        "                print(\"'\"+new_col_name+\"'\",', ',end='')\n",
        "                \n",
        "# COMBINE FEATURES\n",
        "def encode_CB(col1,col2,df1=train,df2=test):\n",
        "    nm = col1+'_'+col2\n",
        "    df1[nm] = df1[col1].astype(str)+'_'+df1[col2].astype(str)\n",
        "    df2[nm] = df2[col1].astype(str)+'_'+df2[col2].astype(str) \n",
        "    encode_LE(nm,verbose=False)\n",
        "    print(nm,', ',end='')\n",
        "    \n",
        "# GROUP AGGREGATION NUNIQUE\n",
        "def encode_AG2(main_columns, uids, train_df=train, test_df=test):\n",
        "    for main_column in main_columns:  \n",
        "        for col in uids:\n",
        "            comb = pd.concat([train_df[[col]+[main_column]],test_df[[col]+[main_column]]],axis=0)\n",
        "            mp = comb.groupby(col)[main_column].agg(['nunique'])['nunique'].to_dict()\n",
        "            train_df[col+'_'+main_column+'_ct'] = train_df[col].map(mp).astype('float32')\n",
        "            test_df[col+'_'+main_column+'_ct'] = test_df[col].map(mp).astype('float32')\n",
        "            print(col+'_'+main_column+'_ct, ',end='')"
      ],
      "execution_count": null,
      "outputs": []
    },
    {
      "cell_type": "code",
      "metadata": {
        "id": "B3R6Wr3BOsdc"
      },
      "source": [
        "train = combined.loc[combined['train_or_test'] == 0]\n",
        "test = combined.loc[combined['train_or_test'] == 1]\n"
      ],
      "execution_count": null,
      "outputs": []
    },
    {
      "cell_type": "code",
      "metadata": {
        "id": "_yIlSc_TOGSK",
        "colab": {
          "base_uri": "https://localhost:8080/",
          "height": 34
        },
        "outputId": "bb856412-8a33-4788-eaeb-ba8f4c2f546c"
      },
      "source": [
        "# COMBINE COLUMNS CARD1+ADDR1, CARD1+ADDR1+P_EMAILDOMAIN\n",
        "encode_CB('Hospital_code','Hospital_type_code')\n",
        "encode_CB('Hospital_type_code','Hospital_region_code')\n",
        "encode_CB('Ward_Type','Ward_Facility_Code')"
      ],
      "execution_count": null,
      "outputs": [
        {
          "output_type": "stream",
          "text": [
            "Hospital_code_Hospital_type_code , Hospital_type_code_Hospital_region_code , Ward_Type_Ward_Facility_Code , "
          ],
          "name": "stdout"
        }
      ]
    },
    {
      "cell_type": "code",
      "metadata": {
        "id": "jkR5ac8IOGXn",
        "colab": {
          "base_uri": "https://localhost:8080/",
          "height": 34
        },
        "outputId": "569e2679-fa4d-400d-e79c-efb823bc7b56"
      },
      "source": [
        "# FREQUENCY ENOCDE\n",
        "encode_FE(train,test,['Bed Grade','patientid','Type of Admission','Severity of Illness','Age','Visitors with Patient','meanAge'])"
      ],
      "execution_count": null,
      "outputs": [
        {
          "output_type": "stream",
          "text": [
            "Bed Grade_FE , patientid_FE , Type of Admission_FE , Severity of Illness_FE , Age_FE , Visitors with Patient_FE , meanAge_FE , "
          ],
          "name": "stdout"
        }
      ]
    },
    {
      "cell_type": "code",
      "metadata": {
        "id": "qKUCzuVlPkoM",
        "colab": {
          "base_uri": "https://localhost:8080/",
          "height": 221
        },
        "outputId": "3fbde35b-728a-4bba-bb0c-7894deca029a"
      },
      "source": [
        "train.c_mean"
      ],
      "execution_count": null,
      "outputs": [
        {
          "output_type": "execute_result",
          "data": {
            "text/plain": [
              "0         32.335677\n",
              "1         32.266034\n",
              "2         30.521309\n",
              "3         33.835724\n",
              "4         33.835724\n",
              "            ...    \n",
              "318433    31.952608\n",
              "318434    30.521309\n",
              "318435    33.705347\n",
              "318436    33.835724\n",
              "318437    27.944759\n",
              "Name: c_mean, Length: 318438, dtype: float64"
            ]
          },
          "metadata": {
            "tags": []
          },
          "execution_count": 24
        }
      ]
    },
    {
      "cell_type": "code",
      "metadata": {
        "id": "uq_HxQ1rOGhA",
        "colab": {
          "base_uri": "https://localhost:8080/",
          "height": 54
        },
        "outputId": "6b6f3651-4513-4a5c-8457-4643b4055223"
      },
      "source": [
        "# GROUP AGGREGATE\n",
        "encode_AG(['Admission_Deposit','Visitors with Patient','Available Extra Rooms in Hospital'],\n",
        "          ['Hospital_code','Hospital_type_code','Hospital_region_code','Department','Ward_Type','Ward_Facility_Code','Bed Grade','Type of Admission',\n",
        "           'Severity of Illness','Age'],['mean','std'],usena=True)\n",
        "#encode_AG2(['V127','V136','V309','V307','V320'], ['uid'], train_df=X_train, test_df=X_test)"
      ],
      "execution_count": null,
      "outputs": [
        {
          "output_type": "stream",
          "text": [
            "'Admission_Deposit_Hospital_code_mean' , 'Admission_Deposit_Hospital_code_std' , 'Admission_Deposit_Hospital_type_code_mean' , 'Admission_Deposit_Hospital_type_code_std' , 'Admission_Deposit_Hospital_region_code_mean' , 'Admission_Deposit_Hospital_region_code_std' , 'Admission_Deposit_Department_mean' , 'Admission_Deposit_Department_std' , 'Admission_Deposit_Ward_Type_mean' , 'Admission_Deposit_Ward_Type_std' , 'Admission_Deposit_Ward_Facility_Code_mean' , 'Admission_Deposit_Ward_Facility_Code_std' , 'Admission_Deposit_Bed Grade_mean' , 'Admission_Deposit_Bed Grade_std' , 'Admission_Deposit_Type of Admission_mean' , 'Admission_Deposit_Type of Admission_std' , 'Admission_Deposit_Severity of Illness_mean' , 'Admission_Deposit_Severity of Illness_std' , 'Admission_Deposit_Age_mean' , 'Admission_Deposit_Age_std' , 'Visitors with Patient_Hospital_code_mean' , 'Visitors with Patient_Hospital_code_std' , 'Visitors with Patient_Hospital_type_code_mean' , 'Visitors with Patient_Hospital_type_code_std' , 'Visitors with Patient_Hospital_region_code_mean' , 'Visitors with Patient_Hospital_region_code_std' , 'Visitors with Patient_Department_mean' , 'Visitors with Patient_Department_std' , 'Visitors with Patient_Ward_Type_mean' , 'Visitors with Patient_Ward_Type_std' , 'Visitors with Patient_Ward_Facility_Code_mean' , 'Visitors with Patient_Ward_Facility_Code_std' , 'Visitors with Patient_Bed Grade_mean' , 'Visitors with Patient_Bed Grade_std' , 'Visitors with Patient_Type of Admission_mean' , 'Visitors with Patient_Type of Admission_std' , 'Visitors with Patient_Severity of Illness_mean' , 'Visitors with Patient_Severity of Illness_std' , 'Visitors with Patient_Age_mean' , 'Visitors with Patient_Age_std' , 'Available Extra Rooms in Hospital_Hospital_code_mean' , 'Available Extra Rooms in Hospital_Hospital_code_std' , 'Available Extra Rooms in Hospital_Hospital_type_code_mean' , 'Available Extra Rooms in Hospital_Hospital_type_code_std' , 'Available Extra Rooms in Hospital_Hospital_region_code_mean' , 'Available Extra Rooms in Hospital_Hospital_region_code_std' , 'Available Extra Rooms in Hospital_Department_mean' , 'Available Extra Rooms in Hospital_Department_std' , 'Available Extra Rooms in Hospital_Ward_Type_mean' , 'Available Extra Rooms in Hospital_Ward_Type_std' , 'Available Extra Rooms in Hospital_Ward_Facility_Code_mean' , 'Available Extra Rooms in Hospital_Ward_Facility_Code_std' , 'Available Extra Rooms in Hospital_Bed Grade_mean' , 'Available Extra Rooms in Hospital_Bed Grade_std' , 'Available Extra Rooms in Hospital_Type of Admission_mean' , 'Available Extra Rooms in Hospital_Type of Admission_std' , 'Available Extra Rooms in Hospital_Severity of Illness_mean' , 'Available Extra Rooms in Hospital_Severity of Illness_std' , 'Available Extra Rooms in Hospital_Age_mean' , 'Available Extra Rooms in Hospital_Age_std' , "
          ],
          "name": "stdout"
        }
      ]
    },
    {
      "cell_type": "code",
      "metadata": {
        "id": "yK6S28WwOG0S"
      },
      "source": [
        "# Concat train and test data\n",
        "combined = pd.concat([train, test])"
      ],
      "execution_count": null,
      "outputs": []
    },
    {
      "cell_type": "code",
      "metadata": {
        "id": "PUQd1TznCIwi",
        "colab": {
          "base_uri": "https://localhost:8080/",
          "height": 119
        },
        "outputId": "51720960-415d-4bb5-d029-1fdb2acdfdc0"
      },
      "source": [
        "#OHE\n",
        "categorical_columns = ['Hospital_code', 'Hospital_type_code', 'City_Code_Hospital', 'Hospital_region_code', 'Department',\n",
        "      'Ward_Type', 'Ward_Facility_Code', 'Bed Grade','City_Code_Patient','Type of Admission','Severity of Illness','Age']\n",
        "\n",
        "for col in categorical_columns:\n",
        "    #if the original column is present replace it with a one-hot\n",
        "    if col in combined.columns:\n",
        "        one_hot_encoded = pd.get_dummies(combined[col])\n",
        "        combined = combined.drop(col, axis=1)\n",
        "        combined = combined.join(one_hot_encoded, lsuffix= str(col) + '_left', rsuffix='_right')\n",
        "        print(one_hot_encoded.shape)\n",
        "        print(str(col))\n",
        "        \n",
        "print(combined.shape)"
      ],
      "execution_count": null,
      "outputs": [
        {
          "output_type": "stream",
          "text": [
            "(455495, 32)\n",
            "Hospital_code\n",
            "(729609, 7)\n",
            "Hospital_type_code\n",
            "(2374293, 11)\n",
            "City_Code_Hospital\n"
          ],
          "name": "stdout"
        }
      ]
    },
    {
      "cell_type": "code",
      "metadata": {
        "id": "XqVXveRUCZ_x",
        "colab": {
          "base_uri": "https://localhost:8080/",
          "height": 136
        },
        "outputId": "4c2802fa-d49e-4d10-d879-22da9840d671"
      },
      "source": [
        "combined.columns"
      ],
      "execution_count": null,
      "outputs": [
        {
          "output_type": "execute_result",
          "data": {
            "text/plain": [
              "Index(['case_id', 'Hospital_code', 'Hospital_type_code', 'City_Code_Hospital',\n",
              "       'Hospital_region_code', 'Available Extra Rooms in Hospital',\n",
              "       'Department', 'Ward_Type', 'Ward_Facility_Code', 'Bed Grade',\n",
              "       'patientid', 'City_Code_Patient', 'Type of Admission',\n",
              "       'Severity of Illness', 'Visitors with Patient', 'Age',\n",
              "       'Admission_Deposit', 'Stay'],\n",
              "      dtype='object')"
            ]
          },
          "metadata": {
            "tags": []
          },
          "execution_count": 9
        }
      ]
    },
    {
      "cell_type": "code",
      "metadata": {
        "id": "DJc2A3bF2HAv"
      },
      "source": [
        "#OHE\n",
        "categorical_columns = ['Hospital_code', 'Hospital_type_code', 'City_Code_Hospital', 'Hospital_region_code', 'Department',\n",
        "      'Ward_Type', 'Ward_Facility_Code', 'Bed Grade','City_Code_Patient','Type of Admission','Severity of Illness','Age']\n",
        "\n",
        "for col in categorical_columns:\n",
        "    #if the original column is present replace it with a one-hot\n",
        "    if col in combined.columns:\n",
        "        one_hot_encoded = pd.get_dummies(combined[col])\n",
        "        combined = combined.drop(col, axis=1)\n",
        "        combined = combined.join(one_hot_encoded, lsuffix=col + '_left', rsuffix='_right')\n",
        "        \n",
        "print(combined.shape)"
      ],
      "execution_count": null,
      "outputs": []
    },
    {
      "cell_type": "code",
      "metadata": {
        "id": "Sfig_KDDBlGV"
      },
      "source": [
        "list()"
      ],
      "execution_count": null,
      "outputs": []
    },
    {
      "cell_type": "code",
      "metadata": {
        "id": "IOtTtice4CBh"
      },
      "source": [
        "train = combined.loc[combined['train_or_test'] == 0]\n",
        "test = combined.loc[combined['train_or_test'] == 1]\n",
        "\n",
        "# Drop key reference column\n",
        "train = train.drop('train_or_test', axis=1)\n",
        "test = test.drop('train_or_test', axis=1)\n",
        "test = test.drop('Stay', axis=1)\n",
        "\n",
        "#train = train.drop('case_id', 1)\n",
        "#test = test.drop('case_id',1)"
      ],
      "execution_count": null,
      "outputs": []
    },
    {
      "cell_type": "code",
      "metadata": {
        "id": "blXBOqEGa6TX"
      },
      "source": [
        "train = train.drop('case_id', 1)\n",
        "test = test.drop('case_id',1)"
      ],
      "execution_count": null,
      "outputs": []
    },
    {
      "cell_type": "code",
      "metadata": {
        "id": "89itz7fhv8WY",
        "colab": {
          "base_uri": "https://localhost:8080/",
          "height": 34
        },
        "outputId": "d14c3c89-0197-40d2-8a9c-f6d596400011"
      },
      "source": [
        "train.shape,test.shape"
      ],
      "execution_count": null,
      "outputs": [
        {
          "output_type": "execute_result",
          "data": {
            "text/plain": [
              "((318438, 239), (137057, 238))"
            ]
          },
          "metadata": {
            "tags": []
          },
          "execution_count": 30
        }
      ]
    },
    {
      "cell_type": "code",
      "metadata": {
        "id": "ncHgg6BEUtI-"
      },
      "source": [
        "# DecisionTreeClassifier and Random Forest"
      ],
      "execution_count": null,
      "outputs": []
    },
    {
      "cell_type": "code",
      "metadata": {
        "id": "HQ-oua_27pjx",
        "colab": {
          "base_uri": "https://localhost:8080/",
          "height": 85
        },
        "outputId": "29ca4731-34db-4e13-8518-18a80b42effb"
      },
      "source": [
        "nulls = np.sum(train.isnull())\n",
        "nullcols = nulls.loc[(nulls != 0)]\n",
        "dtypes = train.dtypes\n",
        "dtypes2 = dtypes.loc[(nulls != 0)]\n",
        "info = pd.concat([nullcols, dtypes2], axis=1).sort_values(by=0, ascending=False)\n",
        "print(info)\n",
        "print(\"There are\", len(nullcols), \"columns with missing values in train set\")"
      ],
      "execution_count": null,
      "outputs": [
        {
          "output_type": "stream",
          "text": [
            "                           0        1\n",
            "patient_last_Adm_dep   92017  float64\n",
            "Admission_Deposit_std  20349  float64\n",
            "There are 2 columns with missing values in train set\n"
          ],
          "name": "stdout"
        }
      ]
    },
    {
      "cell_type": "code",
      "metadata": {
        "id": "d4o0O-ss4VC5"
      },
      "source": [
        "train['Admission_Deposit_std'].fillna(value=0, inplace=True)\n",
        "train['patient_last_Adm_dep'].fillna(value=0, inplace=True)\n",
        "train['Admission_Deposit_std'] = train['Admission_Deposit_std'].replace(np.nan, 0)\n",
        "train['patient_last_Adm_dep'] = train['patient_last_Adm_dep'].replace(np.nan, 0)"
      ],
      "execution_count": null,
      "outputs": []
    },
    {
      "cell_type": "code",
      "metadata": {
        "id": "5HBK1bHa862s",
        "colab": {
          "base_uri": "https://localhost:8080/",
          "height": 102
        },
        "outputId": "a50c96fa-8089-4483-d5fc-d808338fdad1"
      },
      "source": [
        "nulls = np.sum(test.isnull())\n",
        "nullcols = nulls.loc[(nulls != 0)]\n",
        "dtypes = test.dtypes\n",
        "dtypes2 = dtypes.loc[(nulls != 0)]\n",
        "info = pd.concat([nullcols, dtypes2], axis=1).sort_values(by=0, ascending=False)\n",
        "print(info)\n",
        "print(\"There are\", len(nullcols), \"columns with missing values in test set\")"
      ],
      "execution_count": null,
      "outputs": [
        {
          "output_type": "stream",
          "text": [
            "                            0        1\n",
            "meanStay               137057  float64\n",
            "patient_last_Adm_dep    39607  float64\n",
            "Admission_Deposit_std    8677  float64\n",
            "There are 3 columns with missing values in test set\n"
          ],
          "name": "stdout"
        }
      ]
    },
    {
      "cell_type": "code",
      "metadata": {
        "id": "TsD0kgCpFAlj"
      },
      "source": [
        "test['Admission_Deposit_std'].fillna(value=0, inplace=True)\n",
        "test['patient_last_Adm_dep'].fillna(value=0, inplace=True)\n",
        "test['Admission_Deposit_std'] = test['Admission_Deposit_std'].replace(np.nan, 0)\n",
        "test['patient_last_Adm_dep'] = test['patient_last_Adm_dep'].replace(np.nan, 0)"
      ],
      "execution_count": null,
      "outputs": []
    },
    {
      "cell_type": "code",
      "metadata": {
        "id": "FPjVZgBL4qkv"
      },
      "source": [
        "train = train.drop('meanStay', 1)\n",
        "test = test.drop('meanStay',1)"
      ],
      "execution_count": null,
      "outputs": []
    },
    {
      "cell_type": "code",
      "metadata": {
        "id": "CsMconAk4IyC"
      },
      "source": [
        "FEATS_EXCLUDED = ['Stay']\n",
        "usecols = [f for f in train.columns if f not in FEATS_EXCLUDED]"
      ],
      "execution_count": null,
      "outputs": []
    },
    {
      "cell_type": "code",
      "metadata": {
        "id": "MI278NdsIPUW",
        "colab": {
          "base_uri": "https://localhost:8080/",
          "height": 34
        },
        "outputId": "0bf6333b-3ce5-464d-fc1e-cb6aa8c7ccec"
      },
      "source": [
        "len(usecols)"
      ],
      "execution_count": null,
      "outputs": [
        {
          "output_type": "execute_result",
          "data": {
            "text/plain": [
              "237"
            ]
          },
          "metadata": {
            "tags": []
          },
          "execution_count": 34
        }
      ]
    },
    {
      "cell_type": "code",
      "metadata": {
        "id": "aP3txFZM70RW"
      },
      "source": [
        "#train.columns"
      ],
      "execution_count": null,
      "outputs": []
    },
    {
      "cell_type": "code",
      "metadata": {
        "id": "DCEah5Wkrs-h",
        "colab": {
          "base_uri": "https://localhost:8080/",
          "height": 646
        },
        "outputId": "2201432c-0064-4aec-bf91-a830f679f82e"
      },
      "source": [
        "%%time\n",
        "kf = model_selection.GroupKFold(n_splits=5)\n",
        "\n",
        "tree_model = DecisionTreeClassifier(random_state=0, max_depth=20, max_leaf_nodes = 20, min_samples_split=5)\n",
        "rfc_model = RandomForestClassifier(random_state=0)\n",
        "fold_importance_df = pd.DataFrame()\n",
        "feature_importance_df = pd.DataFrame()\n",
        "\n",
        "fold_accuracyT = []\n",
        "fold_accuracyR = []\n",
        "\n",
        "oof_tree = np.zeros(train.shape[0])\n",
        "oof_rfc = np.zeros(train.shape[0])\n",
        "\n",
        "pred_test_tree = 0\n",
        "pred_test_rfc = 0\n",
        "pred_test_full_tree = float(0.00)\n",
        "pred_test_full_rfc = float(0.00)\n",
        "fold_ = 0\n",
        "\n",
        "for dev_index, val_index in kf.split(train[usecols], train[\"Stay\"].values, train[\"patientid\"].values):\n",
        "    print(train[\"patientid\"].loc[val_index].unique())\n",
        "\n",
        "    dev_X, val_X = train[usecols].loc[dev_index,:], train[usecols].loc[val_index,:]\n",
        "    dev_y, val_y = train[\"Stay\"][dev_index], train[\"Stay\"][val_index]\n",
        "    \n",
        "    #pred_val, loss, pred_test = runLGB(dev_X, dev_y, val_X, val_y, test_X)\n",
        "    tree_model.fit(dev_X, dev_y)\n",
        "    rfc_model.fit(dev_X, dev_y)\n",
        "    \n",
        "    \n",
        "    valid_accT = tree_model.score(val_X,val_y)\n",
        "    print(valid_accT)\n",
        "    fold_accuracyT.append(valid_accT)\n",
        "    \n",
        "    valid_accR = rfc_model.score(val_X,val_y)    \n",
        "    print(valid_accR)\n",
        "    fold_accuracyR.append(valid_accR)\n",
        "    \n",
        "    print('predict proba oof')\n",
        "    #oof_tree[val_index] = tree_model.predict_proba(val_X)[:,1]\n",
        "    #oof_rfc[val_index] = rfc_model.predict_proba(val_X)[:,1]\n",
        "\n",
        "    oof_tree[val_index] = np.argmax(tree_model.predict_proba(val_X), axis = 1)\n",
        "    oof_rfc[val_index] = np.argmax(rfc_model.predict_proba(val_X), axis = 1)\n",
        "      \n",
        "    print('predict proba test')    \n",
        "    #pred_test_tree = tree_model.predict_proba(test)[:,1]\n",
        "    #pred_test_rfc  = rfc_model.predict_proba(test)[:,1]\n",
        "\n",
        "    pred_test_tree = np.argmax(tree_model.predict_proba(test[usecols]), axis = 1)\n",
        "    pred_test_rfc  = np.argmax(rfc_model.predict_proba(test[usecols]), axis = 1)     \n",
        "\n",
        "\n",
        "    pred_test_full_tree += pred_test_tree\n",
        "    pred_test_full_rfc += pred_test_rfc\n",
        "        \n",
        "    print(fold_accuracyT)\n",
        "    print(fold_accuracyR)\n",
        "\n",
        "    fold_importance_df[\"Feature\"] = dev_X.columns\n",
        "    fold_importance_df[\"importance\"] = rfc_model.feature_importances_ #clf.feature_importance()\n",
        "    fold_importance_df[\"fold\"] = fold_ + 1\n",
        "    feature_importance_df = pd.concat([feature_importance_df, fold_importance_df], axis=0)\n",
        "    fold_ = fold_ + 1\n",
        "    \n",
        "pred_test_full_tree /= 5.\n",
        "pred_test_full_rfc /= 5."
      ],
      "execution_count": null,
      "outputs": [
        {
          "output_type": "stream",
          "text": [
            "[ 33340  88451 127970 100096 ...  79108  26631    325  91081]\n",
            "0.3841225976636101\n",
            "0.4026033161663108\n",
            "predict proba oof\n",
            "predict proba test\n",
            "[0.3841225976636101]\n",
            "[0.4026033161663108]\n",
            "[  8088  64869  30632  82551 ...  41602 122839 120672  21641]\n",
            "0.38405979148348196\n",
            "0.3988506469036553\n",
            "predict proba oof\n",
            "predict proba test\n",
            "[0.3841225976636101, 0.38405979148348196]\n",
            "[0.4026033161663108, 0.3988506469036553]\n",
            "[ 31397  28843  44201 128803 ...  79339  22709  14309 109796]\n",
            "0.3808880793870117\n",
            "0.40263471925637484\n",
            "predict proba oof\n",
            "predict proba test\n",
            "[0.3841225976636101, 0.38405979148348196, 0.3808880793870117]\n",
            "[0.4026033161663108, 0.3988506469036553, 0.40263471925637484]\n",
            "[ 84932 110115 130244   6112 ... 109647  36018  86499 125235]\n",
            "0.3834220484557288\n",
            "0.4050591172452777\n",
            "predict proba oof\n",
            "predict proba test\n",
            "[0.3841225976636101, 0.38405979148348196, 0.3808880793870117, 0.3834220484557288]\n",
            "[0.4026033161663108, 0.3988506469036553, 0.40263471925637484, 0.4050591172452777]\n",
            "[ 63418 109338 115513  83512 ...  38816  70282  87939  50508]\n",
            "0.38758302322294974\n",
            "0.4028922700080079\n",
            "predict proba oof\n",
            "predict proba test\n",
            "[0.3841225976636101, 0.38405979148348196, 0.3808880793870117, 0.3834220484557288, 0.38758302322294974]\n",
            "[0.4026033161663108, 0.3988506469036553, 0.40263471925637484, 0.4050591172452777, 0.4028922700080079]\n",
            "CPU times: user 16min 18s, sys: 5.7 s, total: 16min 24s\n",
            "Wall time: 16min 25s\n"
          ],
          "name": "stdout"
        }
      ]
    },
    {
      "cell_type": "code",
      "metadata": {
        "id": "jNDd-q9NxKG6",
        "colab": {
          "base_uri": "https://localhost:8080/",
          "height": 34
        },
        "outputId": "33712669-298e-4a63-95c2-b35d2e6c5b12"
      },
      "source": [
        "len(usecols)\n",
        "len(dev_X.columns)"
      ],
      "execution_count": null,
      "outputs": [
        {
          "output_type": "execute_result",
          "data": {
            "text/plain": [
              "331"
            ]
          },
          "metadata": {
            "tags": []
          },
          "execution_count": 37
        }
      ]
    },
    {
      "cell_type": "code",
      "metadata": {
        "id": "P3pdWdXPxOOl",
        "colab": {
          "base_uri": "https://localhost:8080/",
          "height": 34
        },
        "outputId": "ccca5bb5-1db4-4b21-af88-cf6c86f4b9f2"
      },
      "source": [
        "rfc_model.feature_importances_"
      ],
      "execution_count": null,
      "outputs": [
        {
          "output_type": "execute_result",
          "data": {
            "text/plain": [
              "array([0.03307 , 0.015965, 0.031347, 0.036202, ..., 0.00193 , 0.002035, 0.000718, 0.000168])"
            ]
          },
          "metadata": {
            "tags": []
          },
          "execution_count": 38
        }
      ]
    },
    {
      "cell_type": "code",
      "metadata": {
        "id": "ieYuVXamYrY2",
        "colab": {
          "base_uri": "https://localhost:8080/",
          "height": 419
        },
        "outputId": "161020d3-171b-4fad-bd12-d62fc65d0a00"
      },
      "source": [
        "feature_importance_df"
      ],
      "execution_count": null,
      "outputs": [
        {
          "output_type": "execute_result",
          "data": {
            "text/html": [
              "<div>\n",
              "<style scoped>\n",
              "    .dataframe tbody tr th:only-of-type {\n",
              "        vertical-align: middle;\n",
              "    }\n",
              "\n",
              "    .dataframe tbody tr th {\n",
              "        vertical-align: top;\n",
              "    }\n",
              "\n",
              "    .dataframe thead th {\n",
              "        text-align: right;\n",
              "    }\n",
              "</style>\n",
              "<table border=\"1\" class=\"dataframe\">\n",
              "  <thead>\n",
              "    <tr style=\"text-align: right;\">\n",
              "      <th></th>\n",
              "      <th>Feature</th>\n",
              "      <th>importance</th>\n",
              "      <th>fold</th>\n",
              "    </tr>\n",
              "  </thead>\n",
              "  <tbody>\n",
              "    <tr>\n",
              "      <th>0</th>\n",
              "      <td>Unnamed: 0</td>\n",
              "      <td>0.032925</td>\n",
              "      <td>1</td>\n",
              "    </tr>\n",
              "    <tr>\n",
              "      <th>1</th>\n",
              "      <td>Available Extra Rooms in Hospital</td>\n",
              "      <td>0.016013</td>\n",
              "      <td>1</td>\n",
              "    </tr>\n",
              "    <tr>\n",
              "      <th>2</th>\n",
              "      <td>patientid</td>\n",
              "      <td>0.031458</td>\n",
              "      <td>1</td>\n",
              "    </tr>\n",
              "    <tr>\n",
              "      <th>3</th>\n",
              "      <td>Visitors with Patient</td>\n",
              "      <td>0.036101</td>\n",
              "      <td>1</td>\n",
              "    </tr>\n",
              "    <tr>\n",
              "      <th>4</th>\n",
              "      <td>Admission_Deposit</td>\n",
              "      <td>0.035844</td>\n",
              "      <td>1</td>\n",
              "    </tr>\n",
              "    <tr>\n",
              "      <th>...</th>\n",
              "      <td>...</td>\n",
              "      <td>...</td>\n",
              "      <td>...</td>\n",
              "    </tr>\n",
              "    <tr>\n",
              "      <th>326</th>\n",
              "      <td>51-60</td>\n",
              "      <td>0.002530</td>\n",
              "      <td>5</td>\n",
              "    </tr>\n",
              "    <tr>\n",
              "      <th>327</th>\n",
              "      <td>61-70</td>\n",
              "      <td>0.001930</td>\n",
              "      <td>5</td>\n",
              "    </tr>\n",
              "    <tr>\n",
              "      <th>328</th>\n",
              "      <td>71-80</td>\n",
              "      <td>0.002035</td>\n",
              "      <td>5</td>\n",
              "    </tr>\n",
              "    <tr>\n",
              "      <th>329</th>\n",
              "      <td>81-90</td>\n",
              "      <td>0.000718</td>\n",
              "      <td>5</td>\n",
              "    </tr>\n",
              "    <tr>\n",
              "      <th>330</th>\n",
              "      <td>91-100</td>\n",
              "      <td>0.000168</td>\n",
              "      <td>5</td>\n",
              "    </tr>\n",
              "  </tbody>\n",
              "</table>\n",
              "<p>1655 rows × 3 columns</p>\n",
              "</div>"
            ],
            "text/plain": [
              "                               Feature  importance  fold\n",
              "0                           Unnamed: 0    0.032925     1\n",
              "1    Available Extra Rooms in Hospital    0.016013     1\n",
              "2                            patientid    0.031458     1\n",
              "3                Visitors with Patient    0.036101     1\n",
              "4                    Admission_Deposit    0.035844     1\n",
              "..                                 ...         ...   ...\n",
              "326                              51-60    0.002530     5\n",
              "327                              61-70    0.001930     5\n",
              "328                              71-80    0.002035     5\n",
              "329                              81-90    0.000718     5\n",
              "330                             91-100    0.000168     5\n",
              "\n",
              "[1655 rows x 3 columns]"
            ]
          },
          "metadata": {
            "tags": []
          },
          "execution_count": 39
        }
      ]
    },
    {
      "cell_type": "code",
      "metadata": {
        "id": "LFE4KCCDa34m",
        "colab": {
          "base_uri": "https://localhost:8080/",
          "height": 609
        },
        "outputId": "fdc38daa-c3d4-4201-9f8d-c3ae817a6260"
      },
      "source": [
        "import seaborn as sns\n",
        "display_importances(feature_importance_df)"
      ],
      "execution_count": null,
      "outputs": [
        {
          "output_type": "display_data",
          "data": {
            "image/png": "[encoded data removed]",
            "text/plain": [
              "<Figure size 576x720 with 1 Axes>"
            ]
          },
          "metadata": {
            "tags": []
          }
        }
      ]
    },
    {
      "cell_type": "code",
      "metadata": {
        "id": "p4qRJpnOI-3D",
        "colab": {
          "base_uri": "https://localhost:8080/",
          "height": 34
        },
        "outputId": "d308eb5e-a8e9-435e-ba06-86e635a8c067"
      },
      "source": [
        "train[usecols].shape, test[usecols].shape,len(usecols)"
      ],
      "execution_count": null,
      "outputs": [
        {
          "output_type": "execute_result",
          "data": {
            "text/plain": [
              "((318438, 330), (137057, 330), 236)"
            ]
          },
          "metadata": {
            "tags": []
          },
          "execution_count": 39
        }
      ]
    },
    {
      "cell_type": "code",
      "metadata": {
        "id": "xuSUG4d8rvAC"
      },
      "source": [
        "#train.head()\n",
        "FEATS_EXCLUDED = ['Stay','Unnamed: 0']\n",
        "usecols = [f for f in train.columns if f not in FEATS_EXCLUDED]\n"
      ],
      "execution_count": null,
      "outputs": []
    },
    {
      "cell_type": "code",
      "metadata": {
        "id": "61hMabeRJTKW"
      },
      "source": [
        "#list(test[usecols].columns)"
      ],
      "execution_count": null,
      "outputs": []
    },
    {
      "cell_type": "code",
      "metadata": {
        "id": "YOnW_RmaGiuD",
        "colab": {
          "base_uri": "https://localhost:8080/",
          "height": 34
        },
        "outputId": "76fe64e8-a71a-40e9-ad6c-982a9af241a6"
      },
      "source": [
        "train.shape,test.shape"
      ],
      "execution_count": null,
      "outputs": [
        {
          "output_type": "execute_result",
          "data": {
            "text/plain": [
              "((318438, 238), (137057, 237))"
            ]
          },
          "metadata": {
            "tags": []
          },
          "execution_count": 42
        }
      ]
    },
    {
      "cell_type": "code",
      "metadata": {
        "id": "Mj-FTHPpPszK"
      },
      "source": [
        "#np.unique(pred_test_full_rfc.round())"
      ],
      "execution_count": null,
      "outputs": []
    },
    {
      "cell_type": "code",
      "metadata": {
        "id": "1gIM9WfXKfpu"
      },
      "source": [
        "results = pd.DataFrame() # predictionslgb\n",
        "results['Stay'] = pred_test_full_rfc.round()\n",
        "results['Stay'] = results['Stay'].map({0:'0-10',\n",
        "                                    1:'11-20',\n",
        "                                    2:'21-30',                                     \n",
        "                                    3:'31-40',\n",
        "                                    4:'41-50',\n",
        "                                    5:'51-60',\n",
        "                                    6:'61-70',\n",
        "                                    7:'71-80',\n",
        "                                    8:'81-90',\n",
        "                                    9:'91-100',\n",
        "                                    10:'More than 100 Days'\n",
        "                                     })"
      ],
      "execution_count": null,
      "outputs": []
    },
    {
      "cell_type": "code",
      "metadata": {
        "id": "jBA4BW5MLQ-d"
      },
      "source": [
        "sample_sub['Stay'] = results['Stay']\n",
        "sample_sub.to_csv(path+'/sample_submission_Aug_31st_RF.csv',index=False)"
      ],
      "execution_count": null,
      "outputs": []
    },
    {
      "cell_type": "code",
      "metadata": {
        "id": "xjlOjwBIB5Rh"
      },
      "source": [
        "#y.value_counts()"
      ],
      "execution_count": null,
      "outputs": []
    },
    {
      "cell_type": "code",
      "metadata": {
        "id": "j7Z_GpottSOu"
      },
      "source": [
        "# define a function to train the lightGBM model\n",
        "from sklearn.metrics import log_loss\n",
        "def runLGB(train_X, train_y, test_X, test_y=None, test_X2=None): \n",
        "    params = {}\n",
        "    params[\"objective\"] = \"multiclass\"\n",
        "    params[\"boosting\"] = \"dart\"\n",
        "    params[\"is_unbalance\"] = True\n",
        "    \n",
        "    params[\"num_class\"] = 11   \n",
        "    params[\"labels\"] = [ 0,  1,  2,  3,  4,  5,  6,  7,  8,  9, 10]\n",
        "    \n",
        "    params['metric'] = 'multi_logloss'\n",
        "    params[\"max_depth\"] = 8\n",
        "    params[\"min_data_in_leaf\"] = 1\n",
        "    params[\"learning_rate\"] = 0.01\n",
        "    params[\"bagging_fraction\"] = 0.7\n",
        "    params[\"feature_fraction\"] = 0.7\n",
        "    params[\"bagging_freq\"] = 5\n",
        "    params[\"bagging_seed\"] = 0\n",
        "    params[\"nthread\"] =  4\n",
        "    params[\"verbosity\"] = -1\n",
        "    #params[\"device_type\"] = \"gpu\"\n",
        "    \n",
        "    num_rounds = 500\n",
        "\n",
        "    plst = list(params.items())\n",
        "    lgtrain = lgb.Dataset(train_X, label=train_y)\n",
        "\n",
        "    if test_y is not None:\n",
        "        lgtest = lgb.Dataset(test_X, label=test_y)\n",
        "        model = lgb.train(params, lgtrain, num_rounds, valid_sets=[lgtest], early_stopping_rounds=100, verbose_eval=50)\n",
        "    else:\n",
        "        lgtest = lgb.DMatrix(test_X)\n",
        "        model = lgb.train(params, lgtrain, num_rounds)\n",
        "\n",
        "    pred_test_y = model.predict(test_X, num_iteration=model.best_iteration)\n",
        "    print(pred_test_y.shape)\n",
        "    pred_test_y\n",
        "    pred_test_y2 = model.predict(test_X2, num_iteration=model.best_iteration)\n",
        "\n",
        "    #print('YPRED' + str(len(np.argmax(pred_test_y, axis = 1))))\n",
        "    #print('YTRUE' + str(len(test_y)))\n",
        "\n",
        "    #tp = pd.DataFrame(pred_test_y).idxmax(axis=1)\n",
        "    # #tp.shape()\n",
        "    #print(tp.value_counts())\n",
        "\n",
        "    #tp1 =  pd.DataFrame(np.argmax(pred_test_y, axis = 1))    \n",
        "    #tp1.shape()\n",
        "    #print(tp1[0].value_counts())\n",
        "    #test_y\n",
        "\n",
        "    loss = 0\n",
        "    if test_y is not None:\n",
        "        #loss = log_loss(test_y, pred_test_y)\n",
        "        #loss = log_loss(test_y, np.argmax(pred_test_y, axis = 1))\n",
        "        print(loss)\n",
        "        return np.argmax(pred_test_y, axis = 1), loss, np.argmax(pred_test_y2, axis = 1)\n",
        "    else:\n",
        "        return pred_test_y, loss, pred_test_y2"
      ],
      "execution_count": null,
      "outputs": []
    },
    {
      "cell_type": "code",
      "metadata": {
        "id": "MwJCl7XvsUrd"
      },
      "source": [
        "def runXGB(train_X, train_y, test_X, test_y=None, test_X2=None, feature_names=None, seed_val=0, rounds=500, dep=8, eta=0.01):\n",
        "        params = {}\n",
        "        params[\"objective\"] = \"multi:softmax\"\n",
        "        params['eval_metric'] = 'mlogloss'\n",
        "        params[\"eta\"] = eta\n",
        "        params[\"num_class\"] = 11 \n",
        "        params[\"subsample\"] = 0.7\n",
        "        params[\"min_child_weight\"] = 10\n",
        "        params[\"colsample_bytree\"] = 0.7\n",
        "        params[\"max_depth\"] = dep\n",
        "        params[\"silent\"] = 1\n",
        "        params[\"seed\"] = seed_val\n",
        "        #params[\"max_delta_step\"] = 2\n",
        "        #params[\"gamma\"] = 0.5\n",
        "        num_rounds = rounds\n",
        "\n",
        "        plst = list(params.items())\n",
        "        xgtrain = xgb.DMatrix(train_X, label=train_y)\n",
        "\n",
        "        if test_y is not None:\n",
        "                xgtest = xgb.DMatrix(test_X, label=test_y)\n",
        "                watchlist = [ (xgtrain,'train'), (xgtest, 'test') ]\n",
        "                model = xgb.train(plst, xgtrain, num_rounds, watchlist, early_stopping_rounds=100, verbose_eval=20)\n",
        "        else:\n",
        "                xgtest = xgb.DMatrix(test_X)\n",
        "                model = xgb.train(plst, xgtrain, num_rounds)\n",
        "\n",
        "        pred_test_y = model.predict(xgtest, ntree_limit=model.best_ntree_limit)\n",
        "        pred_test_y2 = model.predict(xgb.DMatrix(test_X2), ntree_limit=model.best_ntree_limit)\n",
        "\n",
        "        print(len(pred_test_y))\n",
        "        print(\"Here 1\")\n",
        "        print(pred_test_y)\n",
        "\n",
        "        # tp1 =  pd.DataFrame(pred_test_y)    \n",
        "        # print(\"Here 2\")\n",
        "        # tp1.shape()\n",
        "        # print(tp1[0].value_counts())\n",
        "        # #test_y\n",
        "\n",
        "\n",
        "        loss = 0\n",
        "        if test_y is not None:\n",
        "                #loss = metrics.log_loss(test_y, np.argmax(pred_test_y, axis = 1))\n",
        "                #print(loss)\n",
        "                return pred_test_y , loss, pred_test_y2\n",
        "        else:\n",
        "                return pred_test_y, loss, pred_test_y2"
      ],
      "execution_count": null,
      "outputs": []
    },
    {
      "cell_type": "code",
      "metadata": {
        "id": "nMfpfoFotYEF"
      },
      "source": [
        "# train lgb"
      ],
      "execution_count": null,
      "outputs": []
    },
    {
      "cell_type": "code",
      "metadata": {
        "id": "GQpxe0twtgje"
      },
      "source": [
        "#train = traincopy\n",
        "#test = testcopy"
      ],
      "execution_count": null,
      "outputs": []
    },
    {
      "cell_type": "code",
      "metadata": {
        "id": "YAUUJOPmsrR9",
        "colab": {
          "base_uri": "https://localhost:8080/",
          "height": 1000
        },
        "outputId": "3ab92599-9e85-4998-f72b-94c6bf2e3e36"
      },
      "source": [
        "%%time\n",
        "kf = model_selection.GroupKFold(n_splits=5)\n",
        "import lightgbm as lgb\n",
        "\n",
        "cv_scores = []\n",
        "pred_test_full = 0\n",
        "ooflgb = np.zeros(train.shape[0])\n",
        "\n",
        "for dev_index, val_index in kf.split(train[usecols], train[\"Stay\"].values, train[\"patientid\"].values):\n",
        "    print(train[\"patientid\"].loc[val_index].unique())\n",
        "\n",
        "    dev_X, val_X = train[usecols].loc[dev_index,:], train[usecols].loc[val_index,:]\n",
        "    dev_y, val_y = train[\"Stay\"][dev_index], train[\"Stay\"][val_index]\n",
        "    \n",
        "    pred_val, loss, pred_test = runLGB(dev_X, dev_y, val_X, val_y, test[usecols])\n",
        "    print(\"Now Here !! 1\")\n",
        "    ooflgb[val_index] = pred_val\n",
        "    print(\"Now Here !! 2\")\n",
        "    pred_test_full += pred_test\n",
        "    cv_scores.append(loss)\n",
        "    print(cv_scores)\n",
        "    \n",
        "predictionslgb = pred_test_full\n",
        "print(\"Now Here !! PRED\")\n",
        "#predictionslgb /= 5.\n",
        "predictionslgb = round(pd.DataFrame(predictionslgb)[0]/5)\n",
        "predictionslgb.value_counts()\n",
        "print(\"Now Here !! FINISHED\")"
      ],
      "execution_count": null,
      "outputs": [
        {
          "output_type": "stream",
          "text": [
            "[ 33340  88451 127970 100096 ...  79108  26631    325  91081]\n",
            "[50]\tvalid_0's multi_logloss: 1.79659\n",
            "[100]\tvalid_0's multi_logloss: 1.83594\n",
            "[150]\tvalid_0's multi_logloss: 1.86699\n",
            "[200]\tvalid_0's multi_logloss: 1.85301\n",
            "[250]\tvalid_0's multi_logloss: 1.83108\n",
            "[300]\tvalid_0's multi_logloss: 1.79613\n",
            "[350]\tvalid_0's multi_logloss: 1.78359\n",
            "[400]\tvalid_0's multi_logloss: 1.74491\n",
            "[450]\tvalid_0's multi_logloss: 1.71853\n",
            "[500]\tvalid_0's multi_logloss: 1.70034\n",
            "(63688, 11)\n",
            "0\n",
            "Now Here !! 1\n",
            "Now Here !! 2\n",
            "[0]\n",
            "[  8088  64869  30632  82551 ...  41602 122839 120672  21641]\n",
            "[50]\tvalid_0's multi_logloss: 1.79383\n",
            "[100]\tvalid_0's multi_logloss: 1.83509\n",
            "[150]\tvalid_0's multi_logloss: 1.86674\n",
            "[200]\tvalid_0's multi_logloss: 1.85302\n",
            "[250]\tvalid_0's multi_logloss: 1.83141\n",
            "[300]\tvalid_0's multi_logloss: 1.79648\n",
            "[350]\tvalid_0's multi_logloss: 1.78399\n",
            "[400]\tvalid_0's multi_logloss: 1.7454\n",
            "[450]\tvalid_0's multi_logloss: 1.71892\n",
            "[500]\tvalid_0's multi_logloss: 1.70064\n",
            "(63688, 11)\n",
            "0\n",
            "Now Here !! 1\n",
            "Now Here !! 2\n",
            "[0, 0]\n",
            "[ 31397  28843  44201 128803 ...  79339  22709  14309 109796]\n",
            "[50]\tvalid_0's multi_logloss: 1.80203\n",
            "[100]\tvalid_0's multi_logloss: 1.83992\n",
            "[150]\tvalid_0's multi_logloss: 1.87049\n",
            "[200]\tvalid_0's multi_logloss: 1.85664\n",
            "[250]\tvalid_0's multi_logloss: 1.8348\n",
            "[300]\tvalid_0's multi_logloss: 1.80018\n",
            "[350]\tvalid_0's multi_logloss: 1.78777\n",
            "[400]\tvalid_0's multi_logloss: 1.74949\n",
            "[450]\tvalid_0's multi_logloss: 1.72335\n",
            "[500]\tvalid_0's multi_logloss: 1.70524\n",
            "(63688, 11)\n",
            "0\n",
            "Now Here !! 1\n",
            "Now Here !! 2\n",
            "[0, 0, 0]\n",
            "[ 84932 110115 130244   6112 ... 109647  36018  86499 125235]\n",
            "[50]\tvalid_0's multi_logloss: 1.7974\n",
            "[100]\tvalid_0's multi_logloss: 1.83621\n",
            "[150]\tvalid_0's multi_logloss: 1.86698\n",
            "[200]\tvalid_0's multi_logloss: 1.85286\n",
            "[250]\tvalid_0's multi_logloss: 1.831\n",
            "[300]\tvalid_0's multi_logloss: 1.79608\n",
            "[350]\tvalid_0's multi_logloss: 1.78342\n",
            "[400]\tvalid_0's multi_logloss: 1.74481\n",
            "[450]\tvalid_0's multi_logloss: 1.71823\n",
            "[500]\tvalid_0's multi_logloss: 1.69999\n",
            "(63687, 11)\n",
            "0\n",
            "Now Here !! 1\n",
            "Now Here !! 2\n",
            "[0, 0, 0, 0]\n",
            "[ 63418 109338 115513  83512 ...  38816  70282  87939  50508]\n",
            "[50]\tvalid_0's multi_logloss: 1.79539\n",
            "[100]\tvalid_0's multi_logloss: 1.8356\n",
            "[150]\tvalid_0's multi_logloss: 1.86682\n",
            "[200]\tvalid_0's multi_logloss: 1.8529\n",
            "[250]\tvalid_0's multi_logloss: 1.83105\n",
            "[300]\tvalid_0's multi_logloss: 1.79624\n",
            "[350]\tvalid_0's multi_logloss: 1.78361\n",
            "[400]\tvalid_0's multi_logloss: 1.74495\n",
            "[450]\tvalid_0's multi_logloss: 1.71841\n",
            "[500]\tvalid_0's multi_logloss: 1.70024\n",
            "(63687, 11)\n",
            "0\n",
            "Now Here !! 1\n",
            "Now Here !! 2\n",
            "[0, 0, 0, 0, 0]\n",
            "Now Here !! PRED\n",
            "Now Here !! FINISHED\n",
            "CPU times: user 5h 46min 52s, sys: 3min 12s, total: 5h 50min 5s\n",
            "Wall time: 3h 2min 22s\n"
          ],
          "name": "stdout"
        }
      ]
    },
    {
      "cell_type": "code",
      "metadata": {
        "id": "FO87heC6DKxy"
      },
      "source": [
        "#pd.DataFrame(ooflgb)[0].value_counts()\n",
        "#train[\"Stay\"].value_counts()\n",
        "#loss = log_loss(train[\"Stay\"], ooflgb)\n",
        "#print(loss)"
      ],
      "execution_count": null,
      "outputs": []
    },
    {
      "cell_type": "code",
      "metadata": {
        "id": "PEFdfiDT60My"
      },
      "source": [
        "#predictionslgb = round(pd.DataFrame(predictionslgb)[0]/5)"
      ],
      "execution_count": null,
      "outputs": []
    },
    {
      "cell_type": "code",
      "metadata": {
        "id": "OcOnNPqg8OCa",
        "colab": {
          "base_uri": "https://localhost:8080/",
          "height": 221
        },
        "outputId": "3c8caade-b561-4df0-ae79-1c358d2d66b9"
      },
      "source": [
        "predictionslgb.value_counts()"
      ],
      "execution_count": null,
      "outputs": [
        {
          "output_type": "execute_result",
          "data": {
            "text/plain": [
              "2.0     60056\n",
              "1.0     40169\n",
              "5.0     18741\n",
              "3.0     11188\n",
              "0.0      2200\n",
              "10.0     1964\n",
              "4.0      1206\n",
              "6.0       585\n",
              "7.0       424\n",
              "8.0       380\n",
              "9.0       144\n",
              "Name: 0, dtype: int64"
            ]
          },
          "metadata": {
            "tags": []
          },
          "execution_count": 57
        }
      ]
    },
    {
      "cell_type": "code",
      "metadata": {
        "id": "2dnEunzZl4bR"
      },
      "source": [
        "path = \"drive/My Drive/Colab Notebooks/Tabular/JanataHackHealthCare/inputs/\""
      ],
      "execution_count": null,
      "outputs": []
    },
    {
      "cell_type": "code",
      "metadata": {
        "id": "ZSjCZnw0zHb4"
      },
      "source": [
        "pd.DataFrame(predictionslgb).to_csv(path+'/lgb.csv')"
      ],
      "execution_count": null,
      "outputs": []
    },
    {
      "cell_type": "code",
      "metadata": {
        "id": "SkKrtoeF30ny"
      },
      "source": [
        "#pred_test_full"
      ],
      "execution_count": null,
      "outputs": []
    },
    {
      "cell_type": "code",
      "metadata": {
        "id": "rZ5He2B8HIuG"
      },
      "source": [
        "# traincopy = train\n",
        "# testcopy = test"
      ],
      "execution_count": null,
      "outputs": []
    },
    {
      "cell_type": "code",
      "metadata": {
        "id": "m9O7TQcLJLEA"
      },
      "source": [
        "# train = traincopy #train.head(10000)\n",
        "# test = testcopy #test.head(10000)\n",
        "usecols = list(dict.fromkeys(usecols))"
      ],
      "execution_count": null,
      "outputs": []
    },
    {
      "cell_type": "code",
      "metadata": {
        "id": "e_ArCAF9-qX2",
        "colab": {
          "base_uri": "https://localhost:8080/",
          "height": 34
        },
        "outputId": "6b5e5003-280a-413f-892b-c7b6c671cea8"
      },
      "source": [
        "train[usecols].shape, test[usecols].shape,len(usecols)"
      ],
      "execution_count": null,
      "outputs": [
        {
          "output_type": "execute_result",
          "data": {
            "text/plain": [
              "((318438, 236), (137057, 236), 208)"
            ]
          },
          "metadata": {
            "tags": []
          },
          "execution_count": 49
        }
      ]
    },
    {
      "cell_type": "code",
      "metadata": {
        "id": "qJGXqA5M-1Db",
        "colab": {
          "base_uri": "https://localhost:8080/",
          "height": 1000
        },
        "outputId": "15ffb04e-f0a2-4e46-af09-c0937930b7ea"
      },
      "source": [
        "#list(train[usecols].columns)\n",
        "train['1_left']\n",
        "list(usecols)"
      ],
      "execution_count": null,
      "outputs": [
        {
          "output_type": "execute_result",
          "data": {
            "text/plain": [
              "['Available Extra Rooms in Hospital',\n",
              " 'patientid',\n",
              " 'Visitors with Patient',\n",
              " 'Admission_Deposit',\n",
              " 'meanAge',\n",
              " 'Admission_Deposit_mean',\n",
              " 'Admission_Deposit_max_',\n",
              " 'Admission_Deposit_min_',\n",
              " 'Admission_Deposit_std',\n",
              " 'Ward_Facility_Code_nunique',\n",
              " 'Ward_Facility_Code_mode',\n",
              " 'Department_nunique',\n",
              " 'Department_mode',\n",
              " 'Hospital_region_code_nunique',\n",
              " 'Hospital_region_code_mode',\n",
              " 'City_Code_Hospital_nunique',\n",
              " 'City_Code_Hospital_mode',\n",
              " 'Hospital_type_code_nunique',\n",
              " 'Hospital_type_code_mode',\n",
              " 'Hospital_code_nunique',\n",
              " 'Hospital_code_mode',\n",
              " 'Type of Admission_nunique',\n",
              " 'Type of Admission_mode',\n",
              " 'Severity of Illness_nunique',\n",
              " 'Severity of Illness_mode',\n",
              " 'Visitors with Patient_mean',\n",
              " 'meanAge_hospital_mean',\n",
              " 'meanAge_hospital_max_',\n",
              " 'meanAge_hospital_min_',\n",
              " 'meanAge_hospital_std',\n",
              " 'Admission_Deposit_hospital_mean',\n",
              " 'Admission_Deposit_hospital_max_',\n",
              " 'Admission_Deposit_hospital_min_',\n",
              " 'Admission_Deposit_hospital_std',\n",
              " 'Type of Admission_hospital_nunique',\n",
              " 'Type of Admission_hospital_mode',\n",
              " 'Severity of Illness_hospital_nunique',\n",
              " 'Severity of Illness_hospital_mode',\n",
              " 'Available Extra Rooms in Hospital_hospital_mean',\n",
              " 'Available Extra Rooms in Hospital_hospital_max_',\n",
              " 'Available Extra Rooms in Hospital_hospital_min_',\n",
              " 'Available Extra Rooms in Hospital_hospital_std',\n",
              " 'hosp_dept_Stay_min',\n",
              " 'hosp_dept_Stay_max',\n",
              " 'hosp_dept_Stay_std',\n",
              " 'hosp_dept_Stay_mean',\n",
              " 'hosp_Adm_Stay_min',\n",
              " 'hosp_Adm_Stay_max',\n",
              " 'hosp_Adm_Stay_std',\n",
              " 'hosp_Adm_Stay_mean',\n",
              " 'hosp_sev_Stay_min',\n",
              " 'hosp_sev_Stay_max',\n",
              " 'hosp_sev_Stay_std',\n",
              " 'hosp_sev_Stay_mean',\n",
              " 'Dept_Stay_min',\n",
              " 'Dept_Stay_max',\n",
              " 'Dept_Stay_std',\n",
              " 'Dept_Stay_mean',\n",
              " 'Sev_Stay_min',\n",
              " 'Sev_Stay_max',\n",
              " 'Sev_Stay_std',\n",
              " 'Sev_Stay_mean',\n",
              " 'Typ_Stay_min',\n",
              " 'Typ_Stay_max',\n",
              " 'Typ_Stay_std',\n",
              " 'Typ_Stay_mean',\n",
              " 'Age_Sev_min',\n",
              " 'Age_Sev_max',\n",
              " 'Age_Sev_std',\n",
              " 'Age_Sev_mean',\n",
              " 'Bed_fac_min',\n",
              " 'Bed_fac_max',\n",
              " 'Bed_fac_std',\n",
              " 'Bed_fac_mean',\n",
              " 'typ_sev1_min',\n",
              " 'typ_sev1_max',\n",
              " 'typ_sev1_std',\n",
              " 'typ_sev1_mean',\n",
              " 'r_min',\n",
              " 'r_max',\n",
              " 'r_std',\n",
              " 'r_mean',\n",
              " 'c_min',\n",
              " 'c_max',\n",
              " 'c_std',\n",
              " 'c_mean',\n",
              " 'patient_in_this_hosp',\n",
              " 'patient_cum_visit',\n",
              " 'meanAge_Stay_min',\n",
              " 'meanAge_Stay_max',\n",
              " 'meanAge_Stay_std',\n",
              " 'meanAge_Stay_mean',\n",
              " 'patient_last_Adm_dep',\n",
              " 'd_min',\n",
              " 'd_max',\n",
              " 'd_std',\n",
              " 'd_mean',\n",
              " 'v_min',\n",
              " 'v_max',\n",
              " 'v_std',\n",
              " 'v_mean',\n",
              " 'Bed Grade_FE',\n",
              " 'patientid_FE',\n",
              " 'Type of Admission_FE',\n",
              " 'Severity of Illness_FE',\n",
              " 'Age_FE',\n",
              " 'Visitors with Patient_FE',\n",
              " 'meanAge_FE',\n",
              " '1_left',\n",
              " '2_left',\n",
              " '3_left',\n",
              " '4_left',\n",
              " '5_left',\n",
              " '6_left',\n",
              " '7_left',\n",
              " '8_left',\n",
              " '9_left',\n",
              " '10_left',\n",
              " '11_left',\n",
              " '12_left',\n",
              " '13_left',\n",
              " '14_left',\n",
              " '15_left',\n",
              " '16_left',\n",
              " 17,\n",
              " '18_left',\n",
              " '19_left',\n",
              " '20_left',\n",
              " '21_left',\n",
              " '22_left',\n",
              " '23_left',\n",
              " '24_left',\n",
              " '25_left',\n",
              " '26_left',\n",
              " '27_left',\n",
              " '28_left',\n",
              " '29_left',\n",
              " '30_left',\n",
              " '31_left',\n",
              " '32_left',\n",
              " '0_left',\n",
              " '1_right',\n",
              " '2_right',\n",
              " '3_right',\n",
              " '4_right',\n",
              " '5_right',\n",
              " '6_right',\n",
              " '7_right',\n",
              " '9_right',\n",
              " '10_right',\n",
              " '11_right',\n",
              " '13_right',\n",
              " '0_right',\n",
              " '1.0_right',\n",
              " '2.0_right',\n",
              " '3.0_left',\n",
              " '4.0_left',\n",
              " -99.0,\n",
              " '1.0_left',\n",
              " '2.0_left',\n",
              " '3.0_right',\n",
              " '4.0_right',\n",
              " '5.0_right',\n",
              " '6.0_right',\n",
              " 7.0,\n",
              " '8.0_right',\n",
              " 9.0,\n",
              " 10.0,\n",
              " 11.0,\n",
              " '12.0_right',\n",
              " 13.0,\n",
              " '14.0_right',\n",
              " '15.0_right',\n",
              " '16.0_right',\n",
              " '18.0_right',\n",
              " '19.0_right',\n",
              " '20.0_right',\n",
              " '21.0_right',\n",
              " '22.0_right',\n",
              " '23.0_right',\n",
              " '24.0_right',\n",
              " '25.0_right',\n",
              " '26.0_right',\n",
              " '27.0_right',\n",
              " '28.0_right',\n",
              " '29.0_right',\n",
              " '30.0_right',\n",
              " '31.0_right',\n",
              " '32.0_right',\n",
              " 33.0,\n",
              " 34.0,\n",
              " 35.0,\n",
              " 36.0,\n",
              " 37.0,\n",
              " 38.0,\n",
              " 0,\n",
              " 1,\n",
              " 2,\n",
              " '0-10',\n",
              " '11-20',\n",
              " '21-30',\n",
              " '31-40',\n",
              " '41-50',\n",
              " '51-60',\n",
              " '61-70',\n",
              " '71-80',\n",
              " '81-90',\n",
              " '91-100']"
            ]
          },
          "metadata": {
            "tags": []
          },
          "execution_count": 53
        }
      ]
    },
    {
      "cell_type": "code",
      "metadata": {
        "id": "0P64DRgIu4pf",
        "colab": {
          "base_uri": "https://localhost:8080/",
          "height": 527
        },
        "outputId": "88d4383e-4fc3-425a-98d6-1442cc1c0067"
      },
      "source": [
        "%%time\n",
        "import xgboost as xgb\n",
        "kf = model_selection.GroupKFold(n_splits=5)\n",
        "\n",
        "cv_scores = []\n",
        "pred_test_full = 0\n",
        "#oofxgb = []\n",
        "oof_xgb = np.zeros(train.shape[0])\n",
        "\n",
        "for dev_index, val_index in kf.split(train[usecols], train[\"Stay\"].values, train[\"patientid\"].values):\n",
        "    print(train[\"patientid\"].loc[val_index].unique())\n",
        "\n",
        "    dev_X, val_X = train[usecols].loc[dev_index,:], train[usecols].loc[val_index,:]\n",
        "    dev_y, val_y = train[\"Stay\"][dev_index], train[\"Stay\"][val_index]\n",
        "    \n",
        "    #pred_val, loss, pred_test = runLGB(dev_X, dev_y, val_X, val_y, test_X)\n",
        "    pred_val1, loss1, pred_test1 = runXGB(dev_X, dev_y, val_X, val_y, test, rounds=500, dep=4)\n",
        "    pred_val2, loss2, pred_test2 = runXGB(dev_X, dev_y, val_X, val_y, test, rounds=500, dep=4, seed_val=2020)\n",
        "    pred_val3, loss3, pred_test3 = runXGB(dev_X, dev_y, val_X, val_y, test, rounds=500, dep=4, seed_val=9876)\n",
        "\n",
        "    #pred_val = (round(pd.DataFrame(pred_val1) + round(pd.DataFrame(pred_val2) + round(pd.DataFrame(pred_val3))/3\n",
        "    pred_val = (pred_val1 + pred_val2 + pred_val3)/3. \n",
        "    print(\"Now Here !! LAST\")\n",
        "    oof_xgb[val_index] = pred_val\n",
        "    print(\"Now Here !! LAST\")\n",
        "    pred_test = (pred_test1 + pred_test2 + pred_test3)/3. \n",
        "    #(round(pd.DataFrame(pred_test1) + round(pd.DataFrame(pred_test2) + round(pd.DataFrame(pred_test3))/3 \n",
        "    #(pred_test1 + pred_test2 + pred_test3)/3.    \n",
        "    print(\"Now Here !! LAST\")\n",
        "\n",
        "    loss = (loss1 + loss2 + loss3)/3.\n",
        "    \n",
        "    cv_scores.append(loss)\n",
        "    pred_test_full += pred_test\n",
        "    print(cv_scores)\n",
        "\n",
        "pred_test_full /= 5.\n",
        "predictionsxgb = pred_test_full \n",
        "\n",
        "#predictionsxgb = round(pd.DataFrame(predictionsxgb)[0]/5)\n",
        "#predictionsxgb.value_counts()\n",
        "\n"
      ],
      "execution_count": null,
      "outputs": [
        {
          "output_type": "stream",
          "text": [
            "[ 33340  88451 127970 100096 ...  79108  26631    325  91081]\n"
          ],
          "name": "stdout"
        },
        {
          "output_type": "error",
          "ename": "ValueError",
          "evalue": "ignored",
          "traceback": [
            "\u001b[0;31m---------------------------------------------------------------------------\u001b[0m",
            "\u001b[0;31mValueError\u001b[0m                                Traceback (most recent call last)",
            "\u001b[0;32m<ipython-input-50-83fa3bddea30>\u001b[0m in \u001b[0;36m<module>\u001b[0;34m()\u001b[0m\n\u001b[0;32m----> 1\u001b[0;31m \u001b[0mget_ipython\u001b[0m\u001b[0;34m(\u001b[0m\u001b[0;34m)\u001b[0m\u001b[0;34m.\u001b[0m\u001b[0mrun_cell_magic\u001b[0m\u001b[0;34m(\u001b[0m\u001b[0;34m'time'\u001b[0m\u001b[0;34m,\u001b[0m \u001b[0;34m''\u001b[0m\u001b[0;34m,\u001b[0m \u001b[0;34m'import xgboost as xgb\\nkf = model_selection.GroupKFold(n_splits=5)\\n\\ncv_scores = []\\npred_test_full = 0\\n#oofxgb = []\\noof_xgb = np.zeros(train.shape[0])\\n\\nfor dev_index, val_index in kf.split(train[usecols], train[\"Stay\"].values, train[\"patientid\"].values):\\n    print(train[\"patientid\"].loc[val_index].unique())\\n\\n    dev_X, val_X = train[usecols].loc[dev_index,:], train[usecols].loc[val_index,:]\\n    dev_y, val_y = train[\"Stay\"][dev_index], train[\"Stay\"][val_index]\\n    \\n    #pred_val, loss, pred_test = runLGB(dev_X, dev_y, val_X, val_y, test_X)\\n    pred_val1, loss1, pred_test1 = runXGB(dev_X, dev_y, val_X, val_y, test, rounds=500, dep=4)\\n    pred_val2, loss2, pred_test2 = runXGB(dev_X, dev_y, val_X, val_y, test, rounds=500, dep=4, seed_val=2020)\\n    pred_val3, loss3, pred_test3 = runXGB(dev_X, dev_y, val_X, val_y, test, rounds=500, dep=4, seed_val=9876)\\n\\n    #pred_val = (round(pd.DataFrame(pred_val1) + round(pd.DataFrame(pred_val2) + round(pd.DataFrame(pred_val3))/3\\n    pred_val = (pred_val1 + pred_val2 + pred_val3)/3. \\n    print(\"Now Here !! LAST\")\\n    oof_xgb[val_index] = pred_val\\n    print(\"Now Here !! LAST\")\\n    pred_test = (pred_test1 + pred_test2 + pred_test3)/3. \\n    #(round(pd.DataFrame(pred_test1) + round(pd.DataFrame(pred_test2) + round(pd.DataFrame(pred_test3))/3 \\n    #(pr...\n\u001b[0m",
            "\u001b[0;32m/usr/local/lib/python3.6/dist-packages/IPython/core/interactiveshell.py\u001b[0m in \u001b[0;36mrun_cell_magic\u001b[0;34m(self, magic_name, line, cell)\u001b[0m\n\u001b[1;32m   2115\u001b[0m             \u001b[0mmagic_arg_s\u001b[0m \u001b[0;34m=\u001b[0m \u001b[0mself\u001b[0m\u001b[0;34m.\u001b[0m\u001b[0mvar_expand\u001b[0m\u001b[0;34m(\u001b[0m\u001b[0mline\u001b[0m\u001b[0;34m,\u001b[0m \u001b[0mstack_depth\u001b[0m\u001b[0;34m)\u001b[0m\u001b[0;34m\u001b[0m\u001b[0;34m\u001b[0m\u001b[0m\n\u001b[1;32m   2116\u001b[0m             \u001b[0;32mwith\u001b[0m \u001b[0mself\u001b[0m\u001b[0;34m.\u001b[0m\u001b[0mbuiltin_trap\u001b[0m\u001b[0;34m:\u001b[0m\u001b[0;34m\u001b[0m\u001b[0;34m\u001b[0m\u001b[0m\n\u001b[0;32m-> 2117\u001b[0;31m                 \u001b[0mresult\u001b[0m \u001b[0;34m=\u001b[0m \u001b[0mfn\u001b[0m\u001b[0;34m(\u001b[0m\u001b[0mmagic_arg_s\u001b[0m\u001b[0;34m,\u001b[0m \u001b[0mcell\u001b[0m\u001b[0;34m)\u001b[0m\u001b[0;34m\u001b[0m\u001b[0;34m\u001b[0m\u001b[0m\n\u001b[0m\u001b[1;32m   2118\u001b[0m             \u001b[0;32mreturn\u001b[0m \u001b[0mresult\u001b[0m\u001b[0;34m\u001b[0m\u001b[0;34m\u001b[0m\u001b[0m\n\u001b[1;32m   2119\u001b[0m \u001b[0;34m\u001b[0m\u001b[0m\n",
            "\u001b[0;32m<decorator-gen-60>\u001b[0m in \u001b[0;36mtime\u001b[0;34m(self, line, cell, local_ns)\u001b[0m\n",
            "\u001b[0;32m/usr/local/lib/python3.6/dist-packages/IPython/core/magic.py\u001b[0m in \u001b[0;36m<lambda>\u001b[0;34m(f, *a, **k)\u001b[0m\n\u001b[1;32m    186\u001b[0m     \u001b[0;31m# but it's overkill for just that one bit of state.\u001b[0m\u001b[0;34m\u001b[0m\u001b[0;34m\u001b[0m\u001b[0;34m\u001b[0m\u001b[0m\n\u001b[1;32m    187\u001b[0m     \u001b[0;32mdef\u001b[0m \u001b[0mmagic_deco\u001b[0m\u001b[0;34m(\u001b[0m\u001b[0marg\u001b[0m\u001b[0;34m)\u001b[0m\u001b[0;34m:\u001b[0m\u001b[0;34m\u001b[0m\u001b[0;34m\u001b[0m\u001b[0m\n\u001b[0;32m--> 188\u001b[0;31m         \u001b[0mcall\u001b[0m \u001b[0;34m=\u001b[0m \u001b[0;32mlambda\u001b[0m \u001b[0mf\u001b[0m\u001b[0;34m,\u001b[0m \u001b[0;34m*\u001b[0m\u001b[0ma\u001b[0m\u001b[0;34m,\u001b[0m \u001b[0;34m**\u001b[0m\u001b[0mk\u001b[0m\u001b[0;34m:\u001b[0m \u001b[0mf\u001b[0m\u001b[0;34m(\u001b[0m\u001b[0;34m*\u001b[0m\u001b[0ma\u001b[0m\u001b[0;34m,\u001b[0m \u001b[0;34m**\u001b[0m\u001b[0mk\u001b[0m\u001b[0;34m)\u001b[0m\u001b[0;34m\u001b[0m\u001b[0;34m\u001b[0m\u001b[0m\n\u001b[0m\u001b[1;32m    189\u001b[0m \u001b[0;34m\u001b[0m\u001b[0m\n\u001b[1;32m    190\u001b[0m         \u001b[0;32mif\u001b[0m \u001b[0mcallable\u001b[0m\u001b[0;34m(\u001b[0m\u001b[0marg\u001b[0m\u001b[0;34m)\u001b[0m\u001b[0;34m:\u001b[0m\u001b[0;34m\u001b[0m\u001b[0;34m\u001b[0m\u001b[0m\n",
            "\u001b[0;32m/usr/local/lib/python3.6/dist-packages/IPython/core/magics/execution.py\u001b[0m in \u001b[0;36mtime\u001b[0;34m(self, line, cell, local_ns)\u001b[0m\n\u001b[1;32m   1191\u001b[0m         \u001b[0;32melse\u001b[0m\u001b[0;34m:\u001b[0m\u001b[0;34m\u001b[0m\u001b[0;34m\u001b[0m\u001b[0m\n\u001b[1;32m   1192\u001b[0m             \u001b[0mst\u001b[0m \u001b[0;34m=\u001b[0m \u001b[0mclock2\u001b[0m\u001b[0;34m(\u001b[0m\u001b[0;34m)\u001b[0m\u001b[0;34m\u001b[0m\u001b[0;34m\u001b[0m\u001b[0m\n\u001b[0;32m-> 1193\u001b[0;31m             \u001b[0mexec\u001b[0m\u001b[0;34m(\u001b[0m\u001b[0mcode\u001b[0m\u001b[0;34m,\u001b[0m \u001b[0mglob\u001b[0m\u001b[0;34m,\u001b[0m \u001b[0mlocal_ns\u001b[0m\u001b[0;34m)\u001b[0m\u001b[0;34m\u001b[0m\u001b[0;34m\u001b[0m\u001b[0m\n\u001b[0m\u001b[1;32m   1194\u001b[0m             \u001b[0mend\u001b[0m \u001b[0;34m=\u001b[0m \u001b[0mclock2\u001b[0m\u001b[0;34m(\u001b[0m\u001b[0;34m)\u001b[0m\u001b[0;34m\u001b[0m\u001b[0;34m\u001b[0m\u001b[0m\n\u001b[1;32m   1195\u001b[0m             \u001b[0mout\u001b[0m \u001b[0;34m=\u001b[0m \u001b[0;32mNone\u001b[0m\u001b[0;34m\u001b[0m\u001b[0;34m\u001b[0m\u001b[0m\n",
            "\u001b[0;32m<timed exec>\u001b[0m in \u001b[0;36m<module>\u001b[0;34m()\u001b[0m\n",
            "\u001b[0;32m<ipython-input-45-65e4503366cf>\u001b[0m in \u001b[0;36mrunXGB\u001b[0;34m(train_X, train_y, test_X, test_y, test_X2, feature_names, seed_val, rounds, dep, eta)\u001b[0m\n\u001b[1;32m     16\u001b[0m \u001b[0;34m\u001b[0m\u001b[0m\n\u001b[1;32m     17\u001b[0m         \u001b[0mplst\u001b[0m \u001b[0;34m=\u001b[0m \u001b[0mlist\u001b[0m\u001b[0;34m(\u001b[0m\u001b[0mparams\u001b[0m\u001b[0;34m.\u001b[0m\u001b[0mitems\u001b[0m\u001b[0;34m(\u001b[0m\u001b[0;34m)\u001b[0m\u001b[0;34m)\u001b[0m\u001b[0;34m\u001b[0m\u001b[0;34m\u001b[0m\u001b[0m\n\u001b[0;32m---> 18\u001b[0;31m         \u001b[0mxgtrain\u001b[0m \u001b[0;34m=\u001b[0m \u001b[0mxgb\u001b[0m\u001b[0;34m.\u001b[0m\u001b[0mDMatrix\u001b[0m\u001b[0;34m(\u001b[0m\u001b[0mtrain_X\u001b[0m\u001b[0;34m,\u001b[0m \u001b[0mlabel\u001b[0m\u001b[0;34m=\u001b[0m\u001b[0mtrain_y\u001b[0m\u001b[0;34m)\u001b[0m\u001b[0;34m\u001b[0m\u001b[0;34m\u001b[0m\u001b[0m\n\u001b[0m\u001b[1;32m     19\u001b[0m \u001b[0;34m\u001b[0m\u001b[0m\n\u001b[1;32m     20\u001b[0m         \u001b[0;32mif\u001b[0m \u001b[0mtest_y\u001b[0m \u001b[0;32mis\u001b[0m \u001b[0;32mnot\u001b[0m \u001b[0;32mNone\u001b[0m\u001b[0;34m:\u001b[0m\u001b[0;34m\u001b[0m\u001b[0;34m\u001b[0m\u001b[0m\n",
            "\u001b[0;32m/usr/local/lib/python3.6/dist-packages/xgboost/core.py\u001b[0m in \u001b[0;36m__init__\u001b[0;34m(self, data, label, missing, weight, silent, feature_names, feature_types, nthread)\u001b[0m\n\u001b[1;32m    424\u001b[0m                 \u001b[0mself\u001b[0m\u001b[0;34m.\u001b[0m\u001b[0mset_weight\u001b[0m\u001b[0;34m(\u001b[0m\u001b[0mweight\u001b[0m\u001b[0;34m)\u001b[0m\u001b[0;34m\u001b[0m\u001b[0;34m\u001b[0m\u001b[0m\n\u001b[1;32m    425\u001b[0m \u001b[0;34m\u001b[0m\u001b[0m\n\u001b[0;32m--> 426\u001b[0;31m         \u001b[0mself\u001b[0m\u001b[0;34m.\u001b[0m\u001b[0mfeature_names\u001b[0m \u001b[0;34m=\u001b[0m \u001b[0mfeature_names\u001b[0m\u001b[0;34m\u001b[0m\u001b[0;34m\u001b[0m\u001b[0m\n\u001b[0m\u001b[1;32m    427\u001b[0m         \u001b[0mself\u001b[0m\u001b[0;34m.\u001b[0m\u001b[0mfeature_types\u001b[0m \u001b[0;34m=\u001b[0m \u001b[0mfeature_types\u001b[0m\u001b[0;34m\u001b[0m\u001b[0;34m\u001b[0m\u001b[0m\n\u001b[1;32m    428\u001b[0m \u001b[0;34m\u001b[0m\u001b[0m\n",
            "\u001b[0;32m/usr/local/lib/python3.6/dist-packages/xgboost/core.py\u001b[0m in \u001b[0;36mfeature_names\u001b[0;34m(self, feature_names)\u001b[0m\n\u001b[1;32m    860\u001b[0m \u001b[0;34m\u001b[0m\u001b[0m\n\u001b[1;32m    861\u001b[0m             \u001b[0;32mif\u001b[0m \u001b[0mlen\u001b[0m\u001b[0;34m(\u001b[0m\u001b[0mfeature_names\u001b[0m\u001b[0;34m)\u001b[0m \u001b[0;34m!=\u001b[0m \u001b[0mlen\u001b[0m\u001b[0;34m(\u001b[0m\u001b[0mset\u001b[0m\u001b[0;34m(\u001b[0m\u001b[0mfeature_names\u001b[0m\u001b[0;34m)\u001b[0m\u001b[0;34m)\u001b[0m\u001b[0;34m:\u001b[0m\u001b[0;34m\u001b[0m\u001b[0;34m\u001b[0m\u001b[0m\n\u001b[0;32m--> 862\u001b[0;31m                 \u001b[0;32mraise\u001b[0m \u001b[0mValueError\u001b[0m\u001b[0;34m(\u001b[0m\u001b[0;34m'feature_names must be unique'\u001b[0m\u001b[0;34m)\u001b[0m\u001b[0;34m\u001b[0m\u001b[0;34m\u001b[0m\u001b[0m\n\u001b[0m\u001b[1;32m    863\u001b[0m             \u001b[0;32mif\u001b[0m \u001b[0mlen\u001b[0m\u001b[0;34m(\u001b[0m\u001b[0mfeature_names\u001b[0m\u001b[0;34m)\u001b[0m \u001b[0;34m!=\u001b[0m \u001b[0mself\u001b[0m\u001b[0;34m.\u001b[0m\u001b[0mnum_col\u001b[0m\u001b[0;34m(\u001b[0m\u001b[0;34m)\u001b[0m\u001b[0;34m:\u001b[0m\u001b[0;34m\u001b[0m\u001b[0;34m\u001b[0m\u001b[0m\n\u001b[1;32m    864\u001b[0m                 \u001b[0mmsg\u001b[0m \u001b[0;34m=\u001b[0m \u001b[0;34m'feature_names must have the same length as data'\u001b[0m\u001b[0;34m\u001b[0m\u001b[0;34m\u001b[0m\u001b[0m\n",
            "\u001b[0;31mValueError\u001b[0m: feature_names must be unique"
          ]
        }
      ]
    },
    {
      "cell_type": "code",
      "metadata": {
        "id": "YNDZGTrJSHKV"
      },
      "source": [
        "predictionsxgb.round()\n",
        "pd.DataFrame(predictionsxgb.round()).to_csv(path+'/xgb.csv')"
      ],
      "execution_count": null,
      "outputs": []
    },
    {
      "cell_type": "code",
      "metadata": {
        "id": "JgdCWoR5uo7q"
      },
      "source": [
        "# ensemble - logistic regression"
      ],
      "execution_count": null,
      "outputs": []
    },
    {
      "cell_type": "code",
      "metadata": {
        "id": "ljUB2ZlRtaQN"
      },
      "source": [
        "\n",
        "from sklearn.linear_model import LinearRegression\n",
        "first_level = pd.DataFrame()\n",
        "first_level_test = pd.DataFrame()\n",
        "\n",
        "#first_level['lgb'] = ooflgb\n",
        "#first_level['rfc'] = oof_rfc\n",
        "\n",
        "first_level['dt'] = oof_tree\n",
        "first_level['rfc'] = oof_rfc\n",
        "\n",
        "#first_level_test['lgb'] = predictionslgb\n",
        "#first_level_test['rfc'] = pred_test_full_rfc\n",
        "\n",
        "first_level_test['dt'] = pred_test_full_tree\n",
        "first_level_test['rfc'] = pred_test_full_rfc\n",
        "\n",
        "meta_model = LinearRegression(n_jobs=-1)\n",
        "meta_model.fit(first_level, train['Stay'])\n",
        "\n",
        "ensemble_pred = meta_model.predict(first_level)\n",
        "final_predictions = meta_model.predict(first_level_test)"
      ],
      "execution_count": null,
      "outputs": []
    },
    {
      "cell_type": "code",
      "metadata": {
        "id": "sr85RcdzYMAK",
        "colab": {
          "base_uri": "https://localhost:8080/",
          "height": 221
        },
        "outputId": "0d05046c-b9f9-4771-8fb7-8d157a064780"
      },
      "source": [
        "first_level['rfc'].value_counts()"
      ],
      "execution_count": null,
      "outputs": [
        {
          "output_type": "execute_result",
          "data": {
            "text/plain": [
              "2.0     119225\n",
              "1.0      91975\n",
              "3.0      43183\n",
              "5.0      42028\n",
              "0.0      11686\n",
              "10.0      3858\n",
              "7.0       2509\n",
              "4.0       2042\n",
              "8.0       1336\n",
              "9.0        314\n",
              "6.0        282\n",
              "Name: rfc, dtype: int64"
            ]
          },
          "metadata": {
            "tags": []
          },
          "execution_count": 71
        }
      ]
    },
    {
      "cell_type": "code",
      "metadata": {
        "id": "PKSyXou6O6kL",
        "colab": {
          "base_uri": "https://localhost:8080/",
          "height": 34
        },
        "outputId": "43f5d93e-46d3-4fba-f8eb-c36be10236e7"
      },
      "source": [
        "len(pred_test_full_tree)\n",
        "pred_test_full_rfc"
      ],
      "execution_count": null,
      "outputs": [
        {
          "output_type": "execute_result",
          "data": {
            "text/plain": [
              "array([0. , 5.4, 3.8, 2. , ..., 0.4, 2. , 2. , 5. ])"
            ]
          },
          "metadata": {
            "tags": []
          },
          "execution_count": 72
        }
      ]
    },
    {
      "cell_type": "code",
      "metadata": {
        "id": "v37esfVqPWHp",
        "colab": {
          "base_uri": "https://localhost:8080/",
          "height": 170
        },
        "outputId": "122abf9f-f09a-42ae-b839-ce56a7a8f745"
      },
      "source": [
        "#first_level_test\n",
        "pd.DataFrame(final_predictions.round())[0].value_counts()"
      ],
      "execution_count": null,
      "outputs": [
        {
          "output_type": "execute_result",
          "data": {
            "text/plain": [
              "2.0    74579\n",
              "3.0    21515\n",
              "4.0    16306\n",
              "5.0    15975\n",
              "1.0     4922\n",
              "6.0     2264\n",
              "7.0      911\n",
              "8.0      585\n",
              "Name: 0, dtype: int64"
            ]
          },
          "metadata": {
            "tags": []
          },
          "execution_count": 73
        }
      ]
    },
    {
      "cell_type": "code",
      "metadata": {
        "id": "_sQyMsqEG0EU",
        "colab": {
          "base_uri": "https://localhost:8080/",
          "height": 221
        },
        "outputId": "0fd2223f-a365-4f80-a41a-512a2db52abc"
      },
      "source": [
        "pd.DataFrame(final_predictions)[0].value_counts()"
      ],
      "execution_count": null,
      "outputs": [
        {
          "output_type": "execute_result",
          "data": {
            "text/plain": [
              "2.437296    14846\n",
              "1.534640     6271\n",
              "4.983779     3285\n",
              "5.145264     3275\n",
              "1.588468     3067\n",
              "            ...  \n",
              "6.073584        1\n",
              "7.771240        1\n",
              "7.448269        1\n",
              "5.335723        1\n",
              "6.688052        1\n",
              "Name: 0, Length: 868, dtype: int64"
            ]
          },
          "metadata": {
            "tags": []
          },
          "execution_count": 74
        }
      ]
    },
    {
      "cell_type": "code",
      "metadata": {
        "id": "EozLrEwuO2OG"
      },
      "source": [
        "# save"
      ],
      "execution_count": null,
      "outputs": []
    },
    {
      "cell_type": "code",
      "metadata": {
        "id": "6wyoedcJO2OJ"
      },
      "source": [
        "results = pd.DataFrame() # predictionslgb\n",
        "results['Stay'] = first_level['rfc']\n",
        "results['Stay'] = results['Stay'].map({0:'0-10',\n",
        "                                    1:'11-20',\n",
        "                                    2:'21-30',                                     \n",
        "                                    3:'31-40',\n",
        "                                    4:'41-50',\n",
        "                                    5:'51-60',\n",
        "                                    6:'61-70',\n",
        "                                    7:'71-80',\n",
        "                                    8:'81-90',\n",
        "                                    9:'91-100',\n",
        "                                    10:'More than 100 Days'\n",
        "                                     })"
      ],
      "execution_count": null,
      "outputs": []
    },
    {
      "cell_type": "code",
      "metadata": {
        "id": "-L9Y5KrMaxBO"
      },
      "source": [
        "results = pd.DataFrame() # predictionslgb\n",
        "results['Stay'] = predictionslgb.round() #first_level['rfc']\n",
        "results['Stay'] = results['Stay'].map({0:'0-10',\n",
        "                                    1:'11-20',\n",
        "                                    2:'21-30',                                     \n",
        "                                    3:'31-40',\n",
        "                                    4:'41-50',\n",
        "                                    5:'51-60',\n",
        "                                    6:'61-70',\n",
        "                                    7:'71-80',\n",
        "                                    8:'81-90',\n",
        "                                    9:'91-100',\n",
        "                                    10:'More than 100 Days'\n",
        "                                     })"
      ],
      "execution_count": null,
      "outputs": []
    },
    {
      "cell_type": "code",
      "metadata": {
        "id": "pIlYxy-8Y8MF"
      },
      "source": [
        "path = \"drive/My Drive/Colab Notebooks/Tabular/JanataHackHealthCare/inputs/\""
      ],
      "execution_count": null,
      "outputs": []
    },
    {
      "cell_type": "code",
      "metadata": {
        "id": "lzTtrUvgpHz0"
      },
      "source": [
        "sample_sub  = pd.read_csv('drive/My Drive/Colab Notebooks/Tabular/JanataHackHealthCare/inputs/sample_submission.csv') "
      ],
      "execution_count": null,
      "outputs": []
    },
    {
      "cell_type": "code",
      "metadata": {
        "id": "EXIiEcNeO2OL"
      },
      "source": [
        "sample_sub['Stay'] = results['Stay']\n",
        "sample_sub.to_csv(path+'/sample_submission_Aug_31st-lgb-3.csv',index=False)"
      ],
      "execution_count": null,
      "outputs": []
    },
    {
      "cell_type": "code",
      "metadata": {
        "id": "4yoF5gU7OuV2",
        "colab": {
          "base_uri": "https://localhost:8080/",
          "height": 419
        },
        "outputId": "0af9c8ef-2ea7-4254-e1e6-fd8b1dacc468"
      },
      "source": [
        "sample_sub"
      ],
      "execution_count": null,
      "outputs": [
        {
          "output_type": "execute_result",
          "data": {
            "text/html": [
              "<div>\n",
              "<style scoped>\n",
              "    .dataframe tbody tr th:only-of-type {\n",
              "        vertical-align: middle;\n",
              "    }\n",
              "\n",
              "    .dataframe tbody tr th {\n",
              "        vertical-align: top;\n",
              "    }\n",
              "\n",
              "    .dataframe thead th {\n",
              "        text-align: right;\n",
              "    }\n",
              "</style>\n",
              "<table border=\"1\" class=\"dataframe\">\n",
              "  <thead>\n",
              "    <tr style=\"text-align: right;\">\n",
              "      <th></th>\n",
              "      <th>case_id</th>\n",
              "      <th>Stay</th>\n",
              "    </tr>\n",
              "  </thead>\n",
              "  <tbody>\n",
              "    <tr>\n",
              "      <th>0</th>\n",
              "      <td>318439</td>\n",
              "      <td>0-10</td>\n",
              "    </tr>\n",
              "    <tr>\n",
              "      <th>1</th>\n",
              "      <td>318440</td>\n",
              "      <td>51-60</td>\n",
              "    </tr>\n",
              "    <tr>\n",
              "      <th>2</th>\n",
              "      <td>318441</td>\n",
              "      <td>51-60</td>\n",
              "    </tr>\n",
              "    <tr>\n",
              "      <th>3</th>\n",
              "      <td>318442</td>\n",
              "      <td>21-30</td>\n",
              "    </tr>\n",
              "    <tr>\n",
              "      <th>4</th>\n",
              "      <td>318443</td>\n",
              "      <td>51-60</td>\n",
              "    </tr>\n",
              "    <tr>\n",
              "      <th>...</th>\n",
              "      <td>...</td>\n",
              "      <td>...</td>\n",
              "    </tr>\n",
              "    <tr>\n",
              "      <th>137052</th>\n",
              "      <td>455491</td>\n",
              "      <td>31-40</td>\n",
              "    </tr>\n",
              "    <tr>\n",
              "      <th>137053</th>\n",
              "      <td>455492</td>\n",
              "      <td>0-10</td>\n",
              "    </tr>\n",
              "    <tr>\n",
              "      <th>137054</th>\n",
              "      <td>455493</td>\n",
              "      <td>21-30</td>\n",
              "    </tr>\n",
              "    <tr>\n",
              "      <th>137055</th>\n",
              "      <td>455494</td>\n",
              "      <td>21-30</td>\n",
              "    </tr>\n",
              "    <tr>\n",
              "      <th>137056</th>\n",
              "      <td>455495</td>\n",
              "      <td>51-60</td>\n",
              "    </tr>\n",
              "  </tbody>\n",
              "</table>\n",
              "<p>137057 rows × 2 columns</p>\n",
              "</div>"
            ],
            "text/plain": [
              "        case_id   Stay\n",
              "0        318439   0-10\n",
              "1        318440  51-60\n",
              "2        318441  51-60\n",
              "3        318442  21-30\n",
              "4        318443  51-60\n",
              "...         ...    ...\n",
              "137052   455491  31-40\n",
              "137053   455492   0-10\n",
              "137054   455493  21-30\n",
              "137055   455494  21-30\n",
              "137056   455495  51-60\n",
              "\n",
              "[137057 rows x 2 columns]"
            ]
          },
          "metadata": {
            "tags": []
          },
          "execution_count": 80
        }
      ]
    },
    {
      "cell_type": "code",
      "metadata": {
        "id": "gne58h5lw1ZT"
      },
      "source": [
        "# features = train.columns.values[2:202]\n",
        "# scaler = StandardScaler()\n",
        "# x_test = scaler.fit_transform(test[features])"
      ],
      "execution_count": null,
      "outputs": []
    },
    {
      "cell_type": "code",
      "metadata": {
        "id": "qDZbOmpfvVbm"
      },
      "source": [
        "# fast ai"
      ],
      "execution_count": null,
      "outputs": []
    },
    {
      "cell_type": "code",
      "metadata": {
        "id": "Kh5_Ch84c2k7"
      },
      "source": [
        "train = pd.read_csv('drive/My Drive/Colab Notebooks/Tabular/JanataHackHealthCare/inputs/train.csv')\n",
        "test = pd.read_csv('drive/My Drive/Colab Notebooks/Tabular/JanataHackHealthCare/inputs/test.csv')\n",
        "sample_sub  = pd.read_csv('drive/My Drive/Colab Notebooks/Tabular/JanataHackHealthCare/inputs/sample_submission.csv') "
      ],
      "execution_count": null,
      "outputs": []
    },
    {
      "cell_type": "code",
      "metadata": {
        "id": "PWSNtyOx-wYG"
      },
      "source": [
        "train = combined.loc[combined['train_or_test'] == 0]\n",
        "test = combined.loc[combined['train_or_test'] == 1]\n",
        "\n",
        "# Drop key reference column\n",
        "train = train.drop('train_or_test', axis=1)\n",
        "test = test.drop('train_or_test', axis=1)\n",
        "test = test.drop('Stay', axis=1)\n",
        "\n",
        "#train = train.drop('case_id', 1)\n",
        "#test = test.drop('case_id',1)"
      ],
      "execution_count": null,
      "outputs": []
    },
    {
      "cell_type": "code",
      "metadata": {
        "id": "cieY2jYh_MAF"
      },
      "source": [
        "#train['Unnamed: 0']\n",
        "#train['case_id']\n",
        "\n",
        "train = train.drop('case_id', 1)\n",
        "test = test.drop('case_id',1)\n",
        "\n",
        "train = train.drop('Unnamed: 0', 1)\n",
        "test = test.drop('Unnamed: 0',1)\n"
      ],
      "execution_count": null,
      "outputs": []
    },
    {
      "cell_type": "code",
      "metadata": {
        "id": "YecTNpGZBiYF"
      },
      "source": [
        "train = train.drop('meanStay', 1)\n",
        "test = test.drop('meanStay',1)"
      ],
      "execution_count": null,
      "outputs": []
    },
    {
      "cell_type": "code",
      "metadata": {
        "id": "8BNBJbec-93a"
      },
      "source": [
        "#test.columns"
      ],
      "execution_count": null,
      "outputs": []
    },
    {
      "cell_type": "code",
      "metadata": {
        "id": "mvJHHuAmvXe2"
      },
      "source": [
        "cat_vars = ['Hospital_code', 'Hospital_type_code', 'City_Code_Hospital', 'Hospital_region_code', 'Department',\n",
        "      'Ward_Type', 'Ward_Facility_Code', 'Bed Grade','patientid','City_Code_Patient','Type of Admission','Severity of Illness','Age']\n",
        "cont_vars = ['Available Extra Rooms in Hospital',  'Visitors with Patient','Admission_Deposit']"
      ],
      "execution_count": null,
      "outputs": []
    },
    {
      "cell_type": "code",
      "metadata": {
        "id": "3NITZnN2_rAX"
      },
      "source": [
        "cat_vars = ['Hospital_code', 'Hospital_type_code', 'City_Code_Hospital',\n",
        "       'Hospital_region_code', 'Department', 'Ward_Type', 'Ward_Facility_Code', 'Bed Grade',\n",
        "       'patientid', 'City_Code_Patient', 'Type of Admission',\n",
        "       'Severity of Illness', 'Age']\n",
        "\n",
        "# ,'Ward_Facility_Code_nunique',\n",
        "#        'Ward_Facility_Code_mode','Department_nunique', 'Department_mode',\n",
        "#        'Hospital_region_code_nunique', 'Hospital_region_code_mode',\n",
        "#        'City_Code_Hospital_nunique', 'City_Code_Hospital_mode',\n",
        "#        'Hospital_type_code_nunique', 'Hospital_type_code_mode',\n",
        "#        'Hospital_code_nunique', 'Hospital_code_mode',\n",
        "#        'Type of Admission_nunique', 'Type of Admission_mode',\n",
        "#        'Severity of Illness_nunique', 'Severity of Illness_mode',\n",
        "#        'Type of Admission_hospital_nunique',\n",
        "#        'Type of Admission_hospital_mode',\n",
        "#        'Severity of Illness_hospital_nunique',\n",
        "#        'Severity of Illness_hospital_mode'\n",
        "cont_vars =  ['Available Extra Rooms in Hospital',\n",
        "       'Visitors with Patient',\n",
        "       'Admission_Deposit', 'meanAge', 'Admission_Deposit_mean',\n",
        "       'Admission_Deposit_max_', 'Admission_Deposit_min_',\n",
        "       'Admission_Deposit_std',  \n",
        "       'Visitors with Patient_mean', 'meanAge_hospital_mean',\n",
        "       'meanAge_hospital_max_', 'meanAge_hospital_min_',\n",
        "       'meanAge_hospital_std', 'Admission_Deposit_hospital_mean',\n",
        "       'Admission_Deposit_hospital_max_', 'Admission_Deposit_hospital_min_',\n",
        "       'Admission_Deposit_hospital_std', \n",
        "       'Available Extra Rooms in Hospital_hospital_mean',\n",
        "       'Available Extra Rooms in Hospital_hospital_max_',\n",
        "       'Available Extra Rooms in Hospital_hospital_min_',\n",
        "       'Available Extra Rooms in Hospital_hospital_std', 'hosp_dept_Stay_min',\n",
        "       'hosp_dept_Stay_max', 'hosp_dept_Stay_std', 'hosp_dept_Stay_mean',\n",
        "       'hosp_Adm_Stay_min', 'hosp_Adm_Stay_max', 'hosp_Adm_Stay_std',\n",
        "       'hosp_Adm_Stay_mean', 'hosp_sev_Stay_min', 'hosp_sev_Stay_max',\n",
        "       'hosp_sev_Stay_std', 'hosp_sev_Stay_mean', 'Dept_Stay_min',\n",
        "       'Dept_Stay_max', 'Dept_Stay_std', 'Dept_Stay_mean', 'Sev_Stay_min',\n",
        "       'Sev_Stay_max', 'Sev_Stay_std', 'Sev_Stay_mean', 'Typ_Stay_min',\n",
        "       'Typ_Stay_max', 'Typ_Stay_std', 'Typ_Stay_mean', 'patient_in_this_hosp',\n",
        "       'patient_cum_visit', 'meanAge_Stay_min', 'meanAge_Stay_max',\n",
        "       'meanAge_Stay_std', 'meanAge_Stay_mean', 'patient_last_Adm_dep']"
      ],
      "execution_count": null,
      "outputs": []
    },
    {
      "cell_type": "code",
      "metadata": {
        "id": "1yDaI1byc8sx"
      },
      "source": [
        "procs = [FillMissing, Categorify, Normalize]"
      ],
      "execution_count": null,
      "outputs": []
    },
    {
      "cell_type": "code",
      "metadata": {
        "id": "XQVYg9x3wogB"
      },
      "source": [
        "dep_var = 'Stay'"
      ],
      "execution_count": null,
      "outputs": []
    },
    {
      "cell_type": "code",
      "metadata": {
        "id": "UG-WpBCZwqCe"
      },
      "source": [
        "data = (TabularList.from_df(train, cat_names=cat_vars, cont_names=cont_vars, procs=procs)\n",
        "                .split_by_rand_pct(valid_pct=0.10)                \n",
        "                .label_from_df(cols=dep_var)\n",
        "                .add_test(TabularList.from_df(test, cat_names=cat_vars, cont_names=cont_vars),label=0)\n",
        "                .databunch())\n",
        "#bs=1024"
      ],
      "execution_count": null,
      "outputs": []
    },
    {
      "cell_type": "code",
      "metadata": {
        "id": "52G5z2Stv94W"
      },
      "source": [
        "def run_learner(learn):\n",
        "  \n",
        "  # start with a mega rate\n",
        "  learn.fit_one_cycle(3, 3e-4)\n",
        "  # 10x higher learn-rate with higher steps\n",
        "  learn.fit_one_cycle(5, 1e-6, wd=0.3)\n",
        "  # smaller rate with smaller steps\n",
        "  learn.fit_one_cycle(5, 1e-07, wd=0.1)\n",
        "  # plot losses\n",
        "  learn.recorder.plot_losses()"
      ],
      "execution_count": null,
      "outputs": []
    },
    {
      "cell_type": "code",
      "metadata": {
        "id": "l9l0965JwSHN"
      },
      "source": [
        "learn.unfreeze()\n",
        "learn.fit_one_cycle(3, slice(2e-3/100, 2e-3), moms=(0.8,0.7))"
      ],
      "execution_count": null,
      "outputs": []
    },
    {
      "cell_type": "code",
      "metadata": {
        "id": "R0wA-Og8wQfc"
      },
      "source": [
        "learn.freeze_to(-2)\n",
        "learn.fit_one_cycle(3, slice(5e-3, 2e-3), moms=(0.8,0.7))"
      ],
      "execution_count": null,
      "outputs": []
    },
    {
      "cell_type": "code",
      "metadata": {
        "id": "WzjZ7k5twwCH",
        "colab": {
          "base_uri": "https://localhost:8080/",
          "height": 408
        },
        "outputId": "143fc35b-997f-45f0-9233-84f84580c32f"
      },
      "source": [
        "data.show_batch(rows= 6)"
      ],
      "execution_count": null,
      "outputs": [
        {
          "output_type": "display_data",
          "data": {
            "text/html": [
              "<table border=\"1\" class=\"dataframe\">\n",
              "  <thead>\n",
              "    <tr style=\"text-align: right;\">\n",
              "      <th>Hospital_code</th>\n",
              "      <th>Hospital_type_code</th>\n",
              "      <th>City_Code_Hospital</th>\n",
              "      <th>Hospital_region_code</th>\n",
              "      <th>Department</th>\n",
              "      <th>Ward_Type</th>\n",
              "      <th>Ward_Facility_Code</th>\n",
              "      <th>Bed Grade</th>\n",
              "      <th>patientid</th>\n",
              "      <th>City_Code_Patient</th>\n",
              "      <th>Type of Admission</th>\n",
              "      <th>Severity of Illness</th>\n",
              "      <th>Age</th>\n",
              "      <th>Admission_Deposit_std_na</th>\n",
              "      <th>patient_last_Adm_dep_na</th>\n",
              "      <th>Available Extra Rooms in Hospital</th>\n",
              "      <th>Visitors with Patient</th>\n",
              "      <th>Admission_Deposit</th>\n",
              "      <th>meanAge</th>\n",
              "      <th>Admission_Deposit_mean</th>\n",
              "      <th>Admission_Deposit_max_</th>\n",
              "      <th>Admission_Deposit_min_</th>\n",
              "      <th>Admission_Deposit_std</th>\n",
              "      <th>Visitors with Patient_mean</th>\n",
              "      <th>meanAge_hospital_mean</th>\n",
              "      <th>meanAge_hospital_max_</th>\n",
              "      <th>meanAge_hospital_min_</th>\n",
              "      <th>meanAge_hospital_std</th>\n",
              "      <th>Admission_Deposit_hospital_mean</th>\n",
              "      <th>Admission_Deposit_hospital_max_</th>\n",
              "      <th>Admission_Deposit_hospital_min_</th>\n",
              "      <th>Admission_Deposit_hospital_std</th>\n",
              "      <th>Available Extra Rooms in Hospital_hospital_mean</th>\n",
              "      <th>Available Extra Rooms in Hospital_hospital_max_</th>\n",
              "      <th>Available Extra Rooms in Hospital_hospital_min_</th>\n",
              "      <th>Available Extra Rooms in Hospital_hospital_std</th>\n",
              "      <th>hosp_dept_Stay_min</th>\n",
              "      <th>hosp_dept_Stay_max</th>\n",
              "      <th>hosp_dept_Stay_std</th>\n",
              "      <th>hosp_dept_Stay_mean</th>\n",
              "      <th>hosp_Adm_Stay_min</th>\n",
              "      <th>hosp_Adm_Stay_max</th>\n",
              "      <th>hosp_Adm_Stay_std</th>\n",
              "      <th>hosp_Adm_Stay_mean</th>\n",
              "      <th>hosp_sev_Stay_min</th>\n",
              "      <th>hosp_sev_Stay_max</th>\n",
              "      <th>hosp_sev_Stay_std</th>\n",
              "      <th>hosp_sev_Stay_mean</th>\n",
              "      <th>Dept_Stay_min</th>\n",
              "      <th>Dept_Stay_max</th>\n",
              "      <th>Dept_Stay_std</th>\n",
              "      <th>Dept_Stay_mean</th>\n",
              "      <th>Sev_Stay_min</th>\n",
              "      <th>Sev_Stay_max</th>\n",
              "      <th>Sev_Stay_std</th>\n",
              "      <th>Sev_Stay_mean</th>\n",
              "      <th>Typ_Stay_min</th>\n",
              "      <th>Typ_Stay_max</th>\n",
              "      <th>Typ_Stay_std</th>\n",
              "      <th>Typ_Stay_mean</th>\n",
              "      <th>patient_in_this_hosp</th>\n",
              "      <th>patient_cum_visit</th>\n",
              "      <th>meanAge_Stay_min</th>\n",
              "      <th>meanAge_Stay_max</th>\n",
              "      <th>meanAge_Stay_std</th>\n",
              "      <th>meanAge_Stay_mean</th>\n",
              "      <th>patient_last_Adm_dep</th>\n",
              "      <th>target</th>\n",
              "    </tr>\n",
              "  </thead>\n",
              "  <tbody>\n",
              "    <tr>\n",
              "      <td>24</td>\n",
              "      <td>0</td>\n",
              "      <td>1</td>\n",
              "      <td>0</td>\n",
              "      <td>2</td>\n",
              "      <td>2</td>\n",
              "      <td>4</td>\n",
              "      <td>2.0</td>\n",
              "      <td>44400</td>\n",
              "      <td>1.0</td>\n",
              "      <td>2</td>\n",
              "      <td>2</td>\n",
              "      <td>61-70</td>\n",
              "      <td>False</td>\n",
              "      <td>False</td>\n",
              "      <td>-1.8810</td>\n",
              "      <td>-0.7276</td>\n",
              "      <td>0.3614</td>\n",
              "      <td>0.9903</td>\n",
              "      <td>1.7848</td>\n",
              "      <td>1.9154</td>\n",
              "      <td>1.4860</td>\n",
              "      <td>0.4521</td>\n",
              "      <td>-0.7657</td>\n",
              "      <td>-1.0068</td>\n",
              "      <td>0.0000</td>\n",
              "      <td>0.0000</td>\n",
              "      <td>-0.2144</td>\n",
              "      <td>0.9337</td>\n",
              "      <td>0.2202</td>\n",
              "      <td>-0.4900</td>\n",
              "      <td>0.2559</td>\n",
              "      <td>0.1358</td>\n",
              "      <td>-0.5841</td>\n",
              "      <td>1.0634</td>\n",
              "      <td>-0.7324</td>\n",
              "      <td>-0.0282</td>\n",
              "      <td>0.0672</td>\n",
              "      <td>-1.5893</td>\n",
              "      <td>-1.3936</td>\n",
              "      <td>0.0000</td>\n",
              "      <td>0.0297</td>\n",
              "      <td>-1.8494</td>\n",
              "      <td>-1.5285</td>\n",
              "      <td>0.0000</td>\n",
              "      <td>0.0411</td>\n",
              "      <td>-1.3729</td>\n",
              "      <td>-1.0609</td>\n",
              "      <td>0.0000</td>\n",
              "      <td>0.0000</td>\n",
              "      <td>-0.0403</td>\n",
              "      <td>0.1466</td>\n",
              "      <td>0.0000</td>\n",
              "      <td>0.0000</td>\n",
              "      <td>0.1572</td>\n",
              "      <td>0.1701</td>\n",
              "      <td>0.0000</td>\n",
              "      <td>0.0000</td>\n",
              "      <td>-2.1541</td>\n",
              "      <td>-1.0583</td>\n",
              "      <td>-0.7869</td>\n",
              "      <td>2.1762</td>\n",
              "      <td>0.0000</td>\n",
              "      <td>0.0000</td>\n",
              "      <td>0.8547</td>\n",
              "      <td>0.7458</td>\n",
              "      <td>0.7323</td>\n",
              "      <td>2.0</td>\n",
              "    </tr>\n",
              "    <tr>\n",
              "      <td>23</td>\n",
              "      <td>0</td>\n",
              "      <td>6</td>\n",
              "      <td>0</td>\n",
              "      <td>2</td>\n",
              "      <td>1</td>\n",
              "      <td>5</td>\n",
              "      <td>4.0</td>\n",
              "      <td>48417</td>\n",
              "      <td>26.0</td>\n",
              "      <td>2</td>\n",
              "      <td>2</td>\n",
              "      <td>31-40</td>\n",
              "      <td>False</td>\n",
              "      <td>False</td>\n",
              "      <td>0.6871</td>\n",
              "      <td>-0.7276</td>\n",
              "      <td>0.0779</td>\n",
              "      <td>-0.5967</td>\n",
              "      <td>-0.3001</td>\n",
              "      <td>-0.2909</td>\n",
              "      <td>-0.5570</td>\n",
              "      <td>-0.4301</td>\n",
              "      <td>-0.9671</td>\n",
              "      <td>0.0772</td>\n",
              "      <td>0.0000</td>\n",
              "      <td>0.0000</td>\n",
              "      <td>0.1294</td>\n",
              "      <td>-0.4758</td>\n",
              "      <td>0.7992</td>\n",
              "      <td>-0.4302</td>\n",
              "      <td>1.2146</td>\n",
              "      <td>0.8676</td>\n",
              "      <td>-0.3671</td>\n",
              "      <td>-0.9404</td>\n",
              "      <td>0.2824</td>\n",
              "      <td>-0.0282</td>\n",
              "      <td>0.0672</td>\n",
              "      <td>-0.4300</td>\n",
              "      <td>0.1158</td>\n",
              "      <td>0.0000</td>\n",
              "      <td>0.0297</td>\n",
              "      <td>-1.2282</td>\n",
              "      <td>-0.6393</td>\n",
              "      <td>0.0000</td>\n",
              "      <td>0.0411</td>\n",
              "      <td>-0.1126</td>\n",
              "      <td>0.2488</td>\n",
              "      <td>0.0000</td>\n",
              "      <td>0.0000</td>\n",
              "      <td>-0.0403</td>\n",
              "      <td>0.1466</td>\n",
              "      <td>0.0000</td>\n",
              "      <td>0.0000</td>\n",
              "      <td>0.1572</td>\n",
              "      <td>0.1701</td>\n",
              "      <td>0.0000</td>\n",
              "      <td>0.0000</td>\n",
              "      <td>-2.1541</td>\n",
              "      <td>-1.0583</td>\n",
              "      <td>1.3090</td>\n",
              "      <td>3.0527</td>\n",
              "      <td>0.0000</td>\n",
              "      <td>0.0000</td>\n",
              "      <td>-0.8256</td>\n",
              "      <td>-0.5839</td>\n",
              "      <td>-1.0572</td>\n",
              "      <td>1.0</td>\n",
              "    </tr>\n",
              "    <tr>\n",
              "      <td>28</td>\n",
              "      <td>1</td>\n",
              "      <td>11</td>\n",
              "      <td>0</td>\n",
              "      <td>3</td>\n",
              "      <td>2</td>\n",
              "      <td>5</td>\n",
              "      <td>3.0</td>\n",
              "      <td>91969</td>\n",
              "      <td>1.0</td>\n",
              "      <td>1</td>\n",
              "      <td>2</td>\n",
              "      <td>71-80</td>\n",
              "      <td>False</td>\n",
              "      <td>True</td>\n",
              "      <td>-0.1689</td>\n",
              "      <td>1.5406</td>\n",
              "      <td>-0.8814</td>\n",
              "      <td>1.5193</td>\n",
              "      <td>-0.8173</td>\n",
              "      <td>-0.2997</td>\n",
              "      <td>-0.4892</td>\n",
              "      <td>-0.5614</td>\n",
              "      <td>-0.1390</td>\n",
              "      <td>1.6339</td>\n",
              "      <td>0.0000</td>\n",
              "      <td>0.0000</td>\n",
              "      <td>-1.6035</td>\n",
              "      <td>-0.3735</td>\n",
              "      <td>1.3402</td>\n",
              "      <td>-0.3703</td>\n",
              "      <td>0.4217</td>\n",
              "      <td>-0.6362</td>\n",
              "      <td>-0.8010</td>\n",
              "      <td>-0.9404</td>\n",
              "      <td>-1.3367</td>\n",
              "      <td>-0.0282</td>\n",
              "      <td>0.0672</td>\n",
              "      <td>0.7546</td>\n",
              "      <td>0.6917</td>\n",
              "      <td>0.0000</td>\n",
              "      <td>0.0297</td>\n",
              "      <td>0.4508</td>\n",
              "      <td>0.7725</td>\n",
              "      <td>0.0000</td>\n",
              "      <td>0.0411</td>\n",
              "      <td>0.3966</td>\n",
              "      <td>0.3562</td>\n",
              "      <td>0.0000</td>\n",
              "      <td>0.0000</td>\n",
              "      <td>2.5227</td>\n",
              "      <td>1.4643</td>\n",
              "      <td>0.0000</td>\n",
              "      <td>0.0000</td>\n",
              "      <td>0.1572</td>\n",
              "      <td>0.1701</td>\n",
              "      <td>0.0000</td>\n",
              "      <td>0.0000</td>\n",
              "      <td>0.0015</td>\n",
              "      <td>1.0438</td>\n",
              "      <td>-0.0036</td>\n",
              "      <td>-0.8916</td>\n",
              "      <td>0.0000</td>\n",
              "      <td>0.0000</td>\n",
              "      <td>1.2029</td>\n",
              "      <td>1.1584</td>\n",
              "      <td>-0.1069</td>\n",
              "      <td>3.0</td>\n",
              "    </tr>\n",
              "    <tr>\n",
              "      <td>25</td>\n",
              "      <td>4</td>\n",
              "      <td>1</td>\n",
              "      <td>0</td>\n",
              "      <td>2</td>\n",
              "      <td>2</td>\n",
              "      <td>4</td>\n",
              "      <td>4.0</td>\n",
              "      <td>37716</td>\n",
              "      <td>1.0</td>\n",
              "      <td>1</td>\n",
              "      <td>2</td>\n",
              "      <td>31-40</td>\n",
              "      <td>False</td>\n",
              "      <td>False</td>\n",
              "      <td>1.5432</td>\n",
              "      <td>-0.7276</td>\n",
              "      <td>-0.6954</td>\n",
              "      <td>-0.5967</td>\n",
              "      <td>-0.2176</td>\n",
              "      <td>-0.3797</td>\n",
              "      <td>0.1223</td>\n",
              "      <td>-0.3365</td>\n",
              "      <td>-0.7657</td>\n",
              "      <td>0.7594</td>\n",
              "      <td>0.0000</td>\n",
              "      <td>0.0000</td>\n",
              "      <td>0.3334</td>\n",
              "      <td>-0.6582</td>\n",
              "      <td>-0.9511</td>\n",
              "      <td>-0.4102</td>\n",
              "      <td>-0.1660</td>\n",
              "      <td>-1.2063</td>\n",
              "      <td>-0.5841</td>\n",
              "      <td>1.0634</td>\n",
              "      <td>-0.6020</td>\n",
              "      <td>-0.0282</td>\n",
              "      <td>0.0672</td>\n",
              "      <td>1.3078</td>\n",
              "      <td>1.2516</td>\n",
              "      <td>0.0000</td>\n",
              "      <td>0.0297</td>\n",
              "      <td>1.3687</td>\n",
              "      <td>1.5450</td>\n",
              "      <td>0.0000</td>\n",
              "      <td>0.0411</td>\n",
              "      <td>1.2366</td>\n",
              "      <td>1.1326</td>\n",
              "      <td>0.0000</td>\n",
              "      <td>0.0000</td>\n",
              "      <td>-0.0403</td>\n",
              "      <td>0.1466</td>\n",
              "      <td>0.0000</td>\n",
              "      <td>0.0000</td>\n",
              "      <td>0.1572</td>\n",
              "      <td>0.1701</td>\n",
              "      <td>0.0000</td>\n",
              "      <td>0.0000</td>\n",
              "      <td>0.0015</td>\n",
              "      <td>1.0438</td>\n",
              "      <td>-0.5660</td>\n",
              "      <td>-0.0151</td>\n",
              "      <td>0.0000</td>\n",
              "      <td>0.0000</td>\n",
              "      <td>-0.8256</td>\n",
              "      <td>-0.5839</td>\n",
              "      <td>-0.2680</td>\n",
              "      <td>2.0</td>\n",
              "    </tr>\n",
              "    <tr>\n",
              "      <td>23</td>\n",
              "      <td>0</td>\n",
              "      <td>6</td>\n",
              "      <td>0</td>\n",
              "      <td>2</td>\n",
              "      <td>1</td>\n",
              "      <td>5</td>\n",
              "      <td>3.0</td>\n",
              "      <td>51189</td>\n",
              "      <td>2.0</td>\n",
              "      <td>1</td>\n",
              "      <td>0</td>\n",
              "      <td>61-70</td>\n",
              "      <td>False</td>\n",
              "      <td>False</td>\n",
              "      <td>0.6871</td>\n",
              "      <td>0.4065</td>\n",
              "      <td>-0.7304</td>\n",
              "      <td>0.9903</td>\n",
              "      <td>0.0675</td>\n",
              "      <td>0.6348</td>\n",
              "      <td>0.0746</td>\n",
              "      <td>0.4392</td>\n",
              "      <td>0.6923</td>\n",
              "      <td>0.0772</td>\n",
              "      <td>0.0000</td>\n",
              "      <td>0.0000</td>\n",
              "      <td>0.1294</td>\n",
              "      <td>-0.4758</td>\n",
              "      <td>0.7992</td>\n",
              "      <td>-0.4302</td>\n",
              "      <td>1.2146</td>\n",
              "      <td>0.8676</td>\n",
              "      <td>-0.3671</td>\n",
              "      <td>-0.9404</td>\n",
              "      <td>0.2824</td>\n",
              "      <td>-0.0282</td>\n",
              "      <td>0.0672</td>\n",
              "      <td>-0.4300</td>\n",
              "      <td>0.1158</td>\n",
              "      <td>0.0000</td>\n",
              "      <td>0.0297</td>\n",
              "      <td>-0.0973</td>\n",
              "      <td>0.5368</td>\n",
              "      <td>0.0000</td>\n",
              "      <td>0.0411</td>\n",
              "      <td>1.0545</td>\n",
              "      <td>1.1156</td>\n",
              "      <td>0.0000</td>\n",
              "      <td>0.0000</td>\n",
              "      <td>-0.0403</td>\n",
              "      <td>0.1466</td>\n",
              "      <td>0.0000</td>\n",
              "      <td>0.0000</td>\n",
              "      <td>1.6148</td>\n",
              "      <td>1.5941</td>\n",
              "      <td>0.0000</td>\n",
              "      <td>0.0000</td>\n",
              "      <td>0.0015</td>\n",
              "      <td>1.0438</td>\n",
              "      <td>1.3090</td>\n",
              "      <td>0.8614</td>\n",
              "      <td>0.0000</td>\n",
              "      <td>0.0000</td>\n",
              "      <td>0.8547</td>\n",
              "      <td>0.7458</td>\n",
              "      <td>-0.6493</td>\n",
              "      <td>0.0</td>\n",
              "    </tr>\n",
              "    <tr>\n",
              "      <td>26</td>\n",
              "      <td>1</td>\n",
              "      <td>2</td>\n",
              "      <td>1</td>\n",
              "      <td>3</td>\n",
              "      <td>2</td>\n",
              "      <td>3</td>\n",
              "      <td>2.0</td>\n",
              "      <td>795</td>\n",
              "      <td>8.0</td>\n",
              "      <td>0</td>\n",
              "      <td>0</td>\n",
              "      <td>71-80</td>\n",
              "      <td>False</td>\n",
              "      <td>False</td>\n",
              "      <td>-1.0249</td>\n",
              "      <td>-0.1606</td>\n",
              "      <td>2.0388</td>\n",
              "      <td>1.5193</td>\n",
              "      <td>2.0153</td>\n",
              "      <td>2.0689</td>\n",
              "      <td>1.0917</td>\n",
              "      <td>1.2943</td>\n",
              "      <td>-0.5509</td>\n",
              "      <td>-0.5681</td>\n",
              "      <td>0.0000</td>\n",
              "      <td>0.0000</td>\n",
              "      <td>0.0250</td>\n",
              "      <td>0.0834</td>\n",
              "      <td>-0.7138</td>\n",
              "      <td>-0.5000</td>\n",
              "      <td>0.6462</td>\n",
              "      <td>0.4202</td>\n",
              "      <td>2.0191</td>\n",
              "      <td>-0.9404</td>\n",
              "      <td>1.3478</td>\n",
              "      <td>-0.0282</td>\n",
              "      <td>0.0672</td>\n",
              "      <td>2.0895</td>\n",
              "      <td>1.4737</td>\n",
              "      <td>0.0000</td>\n",
              "      <td>0.0297</td>\n",
              "      <td>1.4726</td>\n",
              "      <td>0.8393</td>\n",
              "      <td>0.0000</td>\n",
              "      <td>0.0411</td>\n",
              "      <td>1.7476</td>\n",
              "      <td>1.8015</td>\n",
              "      <td>0.0000</td>\n",
              "      <td>0.0000</td>\n",
              "      <td>2.5227</td>\n",
              "      <td>1.4643</td>\n",
              "      <td>0.0000</td>\n",
              "      <td>0.0000</td>\n",
              "      <td>1.6148</td>\n",
              "      <td>1.5941</td>\n",
              "      <td>0.0000</td>\n",
              "      <td>0.0000</td>\n",
              "      <td>0.8886</td>\n",
              "      <td>-0.9135</td>\n",
              "      <td>1.9239</td>\n",
              "      <td>-0.0151</td>\n",
              "      <td>0.0000</td>\n",
              "      <td>0.0000</td>\n",
              "      <td>1.2029</td>\n",
              "      <td>1.1584</td>\n",
              "      <td>0.7745</td>\n",
              "      <td>7.0</td>\n",
              "    </tr>\n",
              "  </tbody>\n",
              "</table>"
            ],
            "text/plain": [
              "<IPython.core.display.HTML object>"
            ]
          },
          "metadata": {
            "tags": []
          }
        }
      ]
    },
    {
      "cell_type": "code",
      "metadata": {
        "id": "MMvAT8JFw2YL"
      },
      "source": [
        "#[400,150]\n",
        "learn = tabular_learner(data, layers=[400,200],metrics=accuracy,ps=[0.001,0.01], emb_drop=0.02,emb_szs={'Severity of Illness': 2,'Age': 2,'Admission_Deposit': 2})"
      ],
      "execution_count": null,
      "outputs": []
    },
    {
      "cell_type": "code",
      "metadata": {
        "id": "JUAyD-lr5G9H",
        "colab": {
          "base_uri": "https://localhost:8080/",
          "height": 411
        },
        "outputId": "31437bee-1850-47ae-ff47-cf31d7979b62"
      },
      "source": [
        "learn.lr_find()\n",
        "learn.recorder.plot(suggestion=True)\n",
        "min_grad_lr = learn.recorder.min_grad_lr"
      ],
      "execution_count": null,
      "outputs": [
        {
          "output_type": "display_data",
          "data": {
            "text/html": [
              "\n",
              "    <div>\n",
              "        <style>\n",
              "            /* Turns off some styling */\n",
              "            progress {\n",
              "                /* gets rid of default border in Firefox and Opera. */\n",
              "                border: none;\n",
              "                /* Needs to be in here for Safari polyfill so background images work as expected. */\n",
              "                background-size: auto;\n",
              "            }\n",
              "            .progress-bar-interrupted, .progress-bar-interrupted::-webkit-progress-bar {\n",
              "                background: #F44336;\n",
              "            }\n",
              "        </style>\n",
              "      <progress value='0' class='' max='1' style='width:300px; height:20px; vertical-align: middle;'></progress>\n",
              "      0.00% [0/1 00:00<00:00]\n",
              "    </div>\n",
              "    \n",
              "<table border=\"1\" class=\"dataframe\">\n",
              "  <thead>\n",
              "    <tr style=\"text-align: left;\">\n",
              "      <th>epoch</th>\n",
              "      <th>train_loss</th>\n",
              "      <th>valid_loss</th>\n",
              "      <th>accuracy</th>\n",
              "      <th>time</th>\n",
              "    </tr>\n",
              "  </thead>\n",
              "  <tbody>\n",
              "  </tbody>\n",
              "</table><p>\n",
              "\n",
              "    <div>\n",
              "        <style>\n",
              "            /* Turns off some styling */\n",
              "            progress {\n",
              "                /* gets rid of default border in Firefox and Opera. */\n",
              "                border: none;\n",
              "                /* Needs to be in here for Safari polyfill so background images work as expected. */\n",
              "                background-size: auto;\n",
              "            }\n",
              "            .progress-bar-interrupted, .progress-bar-interrupted::-webkit-progress-bar {\n",
              "                background: #F44336;\n",
              "            }\n",
              "        </style>\n",
              "      <progress value='85' class='' max='4478' style='width:300px; height:20px; vertical-align: middle;'></progress>\n",
              "      1.90% [85/4478 00:01<01:20 10.5625]\n",
              "    </div>\n",
              "    "
            ],
            "text/plain": [
              "<IPython.core.display.HTML object>"
            ]
          },
          "metadata": {
            "tags": []
          }
        },
        {
          "output_type": "stream",
          "text": [
            "LR Finder is complete, type {learner_name}.recorder.plot() to see the graph.\n",
            "Min numerical gradient: 9.12E-07\n",
            "Min loss divided by 10: 1.74E-02\n"
          ],
          "name": "stdout"
        },
        {
          "output_type": "display_data",
          "data": {
            "image/png": "[encoded data removed]",
            "text/plain": [
              "<Figure size 432x288 with 1 Axes>"
            ]
          },
          "metadata": {
            "tags": []
          }
        }
      ]
    },
    {
      "cell_type": "code",
      "metadata": {
        "id": "PFbm6Jqg7DeP",
        "colab": {
          "base_uri": "https://localhost:8080/",
          "height": 126
        },
        "outputId": "c63dd716-c7bb-4633-aa49-8cfe6d555bdb"
      },
      "source": [
        "learn.fit_one_cycle(2, min_grad_lr)"
      ],
      "execution_count": null,
      "outputs": [
        {
          "output_type": "display_data",
          "data": {
            "text/html": [
              "\n",
              "    <div>\n",
              "        <style>\n",
              "            /* Turns off some styling */\n",
              "            progress {\n",
              "                /* gets rid of default border in Firefox and Opera. */\n",
              "                border: none;\n",
              "                /* Needs to be in here for Safari polyfill so background images work as expected. */\n",
              "                background-size: auto;\n",
              "            }\n",
              "            .progress-bar-interrupted, .progress-bar-interrupted::-webkit-progress-bar {\n",
              "                background: #F44336;\n",
              "            }\n",
              "        </style>\n",
              "      <progress value='1' class='' max='2' style='width:300px; height:20px; vertical-align: middle;'></progress>\n",
              "      50.00% [1/2 01:18<01:18]\n",
              "    </div>\n",
              "    \n",
              "<table border=\"1\" class=\"dataframe\">\n",
              "  <thead>\n",
              "    <tr style=\"text-align: left;\">\n",
              "      <th>epoch</th>\n",
              "      <th>train_loss</th>\n",
              "      <th>valid_loss</th>\n",
              "      <th>accuracy</th>\n",
              "      <th>time</th>\n",
              "    </tr>\n",
              "  </thead>\n",
              "  <tbody>\n",
              "    <tr>\n",
              "      <td>0</td>\n",
              "      <td>10.063274</td>\n",
              "      <td>10.403117</td>\n",
              "      <td>0.075652</td>\n",
              "      <td>01:18</td>\n",
              "    </tr>\n",
              "  </tbody>\n",
              "</table><p>\n",
              "\n",
              "    <div>\n",
              "        <style>\n",
              "            /* Turns off some styling */\n",
              "            progress {\n",
              "                /* gets rid of default border in Firefox and Opera. */\n",
              "                border: none;\n",
              "                /* Needs to be in here for Safari polyfill so background images work as expected. */\n",
              "                background-size: auto;\n",
              "            }\n",
              "            .progress-bar-interrupted, .progress-bar-interrupted::-webkit-progress-bar {\n",
              "                background: #F44336;\n",
              "            }\n",
              "        </style>\n",
              "      <progress value='4270' class='' max='4478' style='width:300px; height:20px; vertical-align: middle;'></progress>\n",
              "      95.36% [4270/4478 01:12<00:03 9.9186]\n",
              "    </div>\n",
              "    "
            ],
            "text/plain": [
              "<IPython.core.display.HTML object>"
            ]
          },
          "metadata": {
            "tags": []
          }
        }
      ]
    },
    {
      "cell_type": "code",
      "metadata": {
        "id": "NQyq1XhlKxoB"
      },
      "source": [
        "#trainpatientID = set(train['patientid'])\n",
        "#testpatientID = set(test['patientid'])"
      ],
      "execution_count": null,
      "outputs": []
    },
    {
      "cell_type": "code",
      "metadata": {
        "id": "kTYPCUowKuSG",
        "colab": {
          "base_uri": "https://localhost:8080/",
          "height": 54
        },
        "outputId": "1c95eb54-b4d4-40d1-dbb5-094d64dc9d97"
      },
      "source": [
        "#print(\"set1 intersection set2 : \", testpatientID.intersection(testpatientID)) "
      ],
      "execution_count": null,
      "outputs": [
        {
          "output_type": "stream",
          "text": [
            "set1 intersection set2 :  {131075, 131076, 131077, 5, 131079, 8, 131081, 3, 11, 12, 131084, 15, 16, 131089, 131090, 131088, 131092, 20, 23, 24, 25, 131095, 27, 131100, 131101, 28, 131103, 32, 131105, 34, 131104, 37, 40, 131114, 131116, 44, 46, 47, 48, 131119, 52, 56, 131130, 131131, 60, 61, 62, 131136, 131137, 65, 131140, 131143, 72, 131146, 75, 131149, 131150, 131151, 80, 81, 131155, 131158, 87, 131163, 131164, 131166, 131168, 96, 98, 131171, 131172, 131173, 99, 131175, 131177, 106, 131182, 110, 112, 131186, 114, 131188, 117, 116, 119, 120, 131194, 123, 131198, 127, 128, 131199, 131202, 131, 132, 131206, 131207, 136, 137, 138, 131211, 131209, 142, 143, 144, 131217, 146, 131218, 150, 131224, 131227, 157, 131230, 160, 131233, 162, 163, 131236, 131238, 169, 131242, 171, 131243, 131245, 131246, 174, 131249, 131250, 179, 131252, 131253, 184, 131257, 188, 190, 191, 131263, 194, 195, 196, 131268, 198, 131269, 131272, 200, 202, 131273, 131276, 131277, 131278, 206, 131281, 213, 214, 131286, 215, 217, 131291, 223, 225, 226, 227, 131300, 131299, 230, 131298, 131306, 234, 237, 238, 131311, 131313, 131315, 131316, 244, 131322, 131323, 252, 131325, 131326, 131329, 259, 131335, 263, 131337, 131338, 131340, 270, 131342, 131343, 131346, 274, 276, 277, 275, 279, 131351, 281, 278, 284, 131356, 286, 287, 131358, 285, 131362, 290, 131365, 294, 297, 131369, 131372, 131373, 131374, 303, 131376, 131375, 300, 307, 309, 314, 131391, 320, 131394, 131396, 324, 327, 131399, 131401, 131402, 131400, 131404, 333, 131405, 131411, 340, 131412, 131417, 131418, 131419, 131420, 353, 131425, 355, 131428, 131429, 131431, 131433, 131434, 361, 362, 363, 131439, 373, 131446, 131445, 376, 378, 131451, 131452, 382, 131455, 385, 386, 131462, 392, 131465, 131466, 399, 131471, 402, 131475, 131477, 406, 411, 131486, 417, 131489, 131495, 426, 131499, 131500, 131501, 131503, 432, 131506, 131508, 437, 131510, 131509, 131512, 131511, 131514, 442, 445, 131518, 131519, 448, 131521, 131525, 455, 456, 459, 131532, 461, 466, 468, 131540, 469, 475, 477, 131549, 131552, 131556, 131557, 486, 131558, 485, 131561, 131562, 491, 489, 493, 494, 495, 496, 131567, 131564, 131571, 502, 131575, 505, 131578, 508, 131580, 511, 512, 513, 131584, 131590, 131592, 521, 522, 523, 131596, 131598, 131599, 527, 131600, 533, 131606, 131609, 539, 131611, 541, 131613, 131615, 544, 545, 131618, 550, 557, 558, 559, 560, 561, 563, 564, 566, 571, 574, 577, 584, 588, 589, 594, 596, 598, 599, 600, 604, 609, 611, 622, 623, 624, 629, 631, 635, 636, 641, 644, 646, 648, 649, 650, 651, 658, 659, 660, 662, 664, 666, 668, 670, 671, 681, 687, 689, 694, 698, 699, 705, 707, 708, 710, 716, 718, 720, 721, 723, 724, 725, 726, 730, 731, 735, 741, 742, 750, 753, 754, 758, 759, 760, 763, 769, 770, 775, 776, 778, 780, 785, 786, 790, 791, 792, 794, 798, 801, 803, 804, 806, 811, 812, 818, 819, 834, 836, 839, 841, 845, 854, 859, 861, 862, 872, 873, 876, 882, 883, 884, 892, 893, 894, 898, 899, 900, 901, 909, 920, 923, 934, 943, 944, 957, 958, 964, 968, 973, 974, 975, 976, 978, 979, 983, 984, 991, 1004, 1005, 1006, 1008, 1011, 1014, 1018, 1019, 1021, 1022, 1024, 1025, 1027, 1028, 1030, 1031, 1038, 1041, 1047, 1052, 1053, 1056, 1059, 1063, 1067, 1068, 1074, 1075, 1077, 1081, 1088, 1090, 1093, 1098, 1099, 1100, 1104, 1110, 1121, 1123, 1125, 1130, 1133, 1139, 1142, 1144, 1146, 1152, 1160, 1164, 1167, 1168, 1170, 1178, 1182, 1186, 1191, 1194, 1196, 1197, 1198, 1203, 1204, 1214, 1215, 1218, 1226, 1229, 1247, 1251, 1253, 1257, 1258, 1259, 1260, 1262, 1264, 1267, 1268, 1271, 1274, 1276, 1277, 1288, 1300, 1307, 1313, 1316, 1319, 1324, 1325, 1334, 1344, 1346, 1347, 1357, 1360, 1363, 1365, 1372, 1373, 1374, 1375, 1378, 1386, 1388, 1391, 1393, 1394, 1395, 1397, 1399, 1400, 1401, 1410, 1412, 1419, 1421, 1427, 1439, 1440, 1442, 1446, 1448, 1453, 1457, 1460, 1476, 1480, 1484, 1491, 1494, 1495, 1499, 1501, 1512, 1516, 1523, 1524, 1527, 1528, 1531, 1537, 1539, 1540, 1555, 1556, 1557, 1560, 1563, 1564, 1565, 1566, 1568, 1569, 1571, 1574, 1576, 1580, 1585, 1588, 1596, 1605, 1609, 1611, 1617, 1626, 1635, 1636, 1639, 1640, 1642, 1644, 1646, 1649, 1652, 1655, 1657, 1659, 1660, 1661, 1663, 1676, 1680, 1684, 1686, 1688, 1696, 1700, 1711, 1718, 1720, 1727, 1736, 1740, 1745, 1750, 1761, 1764, 1767, 1769, 1773, 1784, 1790, 1791, 1793, 1796, 1800, 1803, 1804, 1805, 1809, 1812, 1822, 1827, 1828, 1831, 1832, 1836, 1840, 1843, 1844, 1845, 1856, 1860, 1864, 1866, 1868, 1871, 1877, 1879, 1881, 1882, 1884, 1892, 1893, 1894, 1897, 1900, 1902, 1903, 1906, 1910, 1911, 1915, 1924, 1925, 1927, 1929, 1931, 1940, 1943, 1944, 1948, 1952, 1959, 1966, 1968, 1970, 1973, 1975, 1977, 1978, 1985, 1995, 1997, 1998, 2001, 2010, 2011, 2013, 2014, 2020, 2025, 2029, 2032, 2034, 2036, 2041, 2042, 2049, 2050, 2052, 2053, 2056, 2059, 2065, 2067, 2068, 2070, 2071, 2075, 2081, 2084, 2086, 2095, 2097, 2098, 2106, 2108, 2110, 2115, 2121, 2122, 2123, 2127, 2128, 2129, 2133, 2136, 2140, 2141, 2142, 2148, 2157, 2162, 2164, 2171, 2172, 2173, 2174, 2177, 2178, 2182, 2183, 2184, 2185, 2187, 2189, 2191, 2198, 2202, 2204, 2207, 2211, 2216, 2220, 2221, 2222, 2226, 2227, 2234, 2235, 2236, 2238, 2241, 2246, 2251, 2258, 2259, 2267, 2270, 2278, 2283, 2289, 2292, 2293, 2294, 2295, 2296, 2300, 2301, 2306, 2312, 2324, 2325, 2326, 2327, 2328, 2330, 2336, 2337, 2338, 2339, 2342, 2353, 2357, 2358, 2361, 2363, 2364, 2366, 2377, 2380, 2381, 2390, 2392, 2394, 2396, 2398, 2399, 2400, 2404, 2406, 2407, 2408, 2411, 2415, 2418, 2420, 2425, 2426, 2430, 2431, 2433, 2444, 2450, 2464, 2469, 2471, 2474, 2475, 2477, 2481, 2485, 2490, 2491, 2495, 2496, 2497, 2498, 2500, 2501, 2503, 2508, 2509, 2514, 2515, 2517, 2521, 2522, 2523, 2524, 2531, 2532, 2533, 2534, 2543, 2544, 2552, 2557, 2560, 2561, 2566, 2567, 2569, 2573, 2576, 2580, 2582, 2583, 2587, 2588, 2589, 2593, 2596, 2598, 2602, 2603, 2606, 2609, 2613, 2614, 2635, 2641, 2642, 2644, 2645, 2647, 2649, 2650, 2652, 2659, 2666, 2670, 2671, 2672, 2674, 2677, 2688, 2690, 2694, 2695, 2696, 2699, 2702, 2709, 2711, 2716, 2718, 2724, 2728, 2731, 2740, 2741, 2746, 2753, 2754, 2755, 2756, 2762, 2763, 2768, 2775, 2776, 2786, 2788, 2790, 2800, 2806, 2809, 2815, 2820, 2821, 2823, 2824, 2827, 2829, 2832, 2833, 2834, 2838, 2840, 2841, 2850, 2853, 2856, 2858, 2860, 2865, 2869, 2871, 2873, 2874, 2875, 2878, 2882, 2885, 2889, 2891, 2899, 2903, 2905, 2908, 2910, 2912, 2917, 2920, 2924, 2925, 2926, 2929, 2930, 2931, 2933, 2937, 2940, 2941, 2942, 2947, 2949, 2950, 2956, 2958, 2959, 2970, 2972, 2973, 2978, 2980, 2981, 2987, 2991, 2992, 2995, 3002, 3006, 3011, 3012, 3016, 3022, 3030, 3044, 3050, 3052, 3053, 3058, 3064, 3066, 3069, 3070, 3071, 3083, 3084, 3085, 3086, 3088, 3090, 3091, 3094, 3098, 3102, 3107, 3109, 3116, 3123, 3127, 3129, 3133, 3135, 3138, 3142, 3143, 3145, 3148, 3150, 3156, 3160, 3166, 3168, 3172, 3174, 3179, 3182, 3184, 3185, 3188, 3189, 3192, 3194, 3195, 3196, 3197, 3199, 3200, 3201, 3202, 3211, 3213, 3217, 3223, 3225, 3232, 3237, 3238, 3242, 3245, 3246, 3255, 3264, 3265, 3275, 3276, 3280, 3286, 3287, 3289, 3293, 3302, 3303, 3305, 3307, 3311, 3315, 3318, 3319, 3320, 3324, 3326, 3333, 3334, 3335, 3337, 3344, 3350, 3353, 3356, 3359, 3362, 3365, 3366, 3367, 3368, 3369, 3370, 3371, 3373, 3375, 3376, 3377, 3385, 3389, 3390, 3391, 3392, 3395, 3399, 3402, 3403, 3405, 3406, 3408, 3409, 3410, 3411, 3417, 3419, 3420, 3421, 3423, 3428, 3434, 3437, 3441, 3444, 3448, 3450, 3455, 3458, 3460, 3461, 3465, 3466, 3473, 3474, 3484, 3487, 3488, 3490, 3493, 3496, 3499, 3501, 3503, 3505, 3509, 3518, 3524, 3526, 3530, 3531, 3536, 3540, 3542, 3545, 3548, 3553, 3554, 3555, 3556, 3557, 3563, 3566, 3574, 3581, 3582, 3583, 3584, 3585, 3588, 3591, 3592, 3594, 3595, 3600, 3604, 3608, 3609, 3615, 3617, 3619, 3623, 3633, 3635, 3650, 3651, 3653, 3654, 3656, 3664, 3670, 3671, 3672, 3675, 3676, 3678, 3679, 3683, 3685, 3686, 3691, 3693, 3694, 3696, 3697, 3702, 3704, 3705, 3709, 3711, 3713, 3717, 3718, 3720, 3727, 3731, 3732, 3736, 3745, 3748, 3750, 3752, 3754, 3758, 3759, 3760, 3772, 3775, 3778, 3784, 3785, 3788, 3794, 3797, 3799, 3801, 3810, 3816, 3828, 3834, 3835, 3838, 3843, 3847, 3857, 3860, 3864, 3868, 3871, 3873, 3874, 3882, 3893, 3897, 3901, 3905, 3906, 3907, 3913, 3918, 3920, 3925, 3929, 3932, 3934, 3936, 3942, 3947, 3954, 3961, 3962, 3963, 3966, 3967, 3970, 3971, 3977, 3984, 3986, 3989, 3990, 3991, 3996, 4005, 4006, 4010, 4017, 4020, 4024, 4027, 4028, 4031, 4034, 4039, 4040, 4041, 4043, 4044, 4051, 4052, 4058, 4059, 4061, 4071, 4078, 4080, 4081, 4086, 4090, 4091, 4093, 4095, 4101, 4103, 4108, 4109, 4110, 4111, 4122, 4125, 4126, 4128, 4131, 4132, 4134, 4139, 4140, 4141, 4146, 4152, 4164, 4166, 4173, 4174, 4176, 4181, 4182, 4184, 4187, 4190, 4192, 4193, 4195, 4200, 4202, 4210, 4212, 4219, 4222, 4226, 4228, 4229, 4230, 4234, 4244, 4246, 4247, 4251, 4255, 4257, 4274, 4276, 4277, 4278, 4284, 4286, 4287, 4288, 4289, 4291, 4294, 4299, 4300, 4321, 4323, 4326, 4327, 4330, 4334, 4335, 4337, 4341, 4343, 4344, 4349, 4351, 4352, 4353, 4358, 4365, 4367, 4371, 4374, 4377, 4378, 4381, 4388, 4389, 4391, 4394, 4396, 4401, 4405, 4406, 4413, 4417, 4419, 4423, 4429, 4430, 4431, 4433, 4434, 4438, 4440, 4441, 4445, 4456, 4460, 4462, 4466, 4471, 4472, 4474, 4475, 4476, 4481, 4482, 4483, 4486, 4489, 4497, 4500, 4501, 4502, 4506, 4508, 4511, 4515, 4518, 4521, 4524, 4525, 4527, 4533, 4543, 4549, 4550, 4554, 4564, 4565, 4570, 4577, 4581, 4584, 4585, 4596, 4600, 4601, 4602, 4603, 4604, 4607, 4609, 4610, 4613, 4617, 4623, 4625, 4628, 4634, 4635, 4639, 4643, 4645, 4647, 4649, 4652, 4653, 4657, 4668, 4670, 4674, 4675, 4679, 4687, 4689, 4694, 4695, 4697, 4711, 4712, 4713, 4714, 4717, 4721, 4731, 4733, 4734, 4735, 4739, 4740, 4749, 4753, 4756, 4758, 4764, 4771, 4774, 4775, 4790, 4795, 4816, 4818, 4819, 4820, 4823, 4826, 4829, 4832, 4837, 4838, 4841, 4842, 4846, 4849, 4850, 4854, 4858, 4864, 4868, 4870, 4873, 4874, 4884, 4886, 4889, 4894, 4896, 4898, 4904, 4906, 4907, 4908, 4909, 4912, 4916, 4918, 4921, 4922, 4925, 4927, 4928, 4930, 4933, 4934, 4936, 4938, 4939, 4942, 4945, 4949, 4953, 4956, 4959, 4960, 4972, 4977, 4979, 4981, 4984, 4985, 4987, 4988, 4995, 4999, 5001, 5003, 5007, 5017, 5020, 5021, 5030, 5035, 5039, 5041, 5047, 5052, 5058, 5069, 5073, 5076, 5084, 5092, 5093, 5096, 5101, 5104, 5108, 5112, 5113, 5120, 5124, 5131, 5133, 5134, 5136, 5140, 5142, 5150, 5153, 5158, 5159, 5166, 5173, 5174, 5178, 5180, 5185, 5187, 5188, 5190, 5196, 5197, 5199, 5208, 5209, 5218, 5219, 5222, 5224, 5225, 5228, 5230, 5246, 5247, 5248, 5251, 5253, 5265, 5267, 5271, 5272, 5273, 5277, 5280, 5284, 5285, 5289, 5290, 5300, 5317, 5319, 5329, 5334, 5338, 5339, 5341, 5344, 5346, 5352, 5355, 5358, 5359, 5362, 5364, 5366, 5368, 5369, 5373, 5379, 5381, 5391, 5392, 5397, 5399, 5403, 5406, 5408, 5409, 5411, 5414, 5416, 5418, 5427, 5430, 5432, 5440, 5441, 5447, 5449, 5451, 5452, 5453, 5455, 5457, 5459, 5464, 5465, 5469, 5473, 5474, 5478, 5479, 5483, 5486, 5491, 5497, 5499, 5504, 5505, 5507, 5510, 5511, 5512, 5515, 5520, 5524, 5525, 5526, 5531, 5533, 5536, 5555, 5557, 5558, 5562, 5568, 5571, 5573, 5574, 5578, 5580, 5581, 5584, 5586, 5587, 5589, 5590, 5596, 5600, 5601, 5609, 5612, 5614, 5617, 5620, 5623, 5632, 5644, 5651, 5652, 5653, 5655, 5656, 5664, 5665, 5668, 5674, 5675, 5676, 5677, 5678, 5680, 5682, 5685, 5686, 5694, 5695, 5699, 5700, 5701, 5707, 5708, 5721, 5725, 5726, 5728, 5747, 5748, 5749, 5756, 5757, 5758, 5759, 5760, 5762, 5763, 5764, 5776, 5781, 5784, 5786, 5788, 5794, 5796, 5797, 5802, 5803, 5804, 5813, 5818, 5823, 5826, 5830, 5841, 5843, 5845, 5846, 5851, 5855, 5859, 5862, 5865, 5866, 5867, 5868, 5871, 5873, 5874, 5884, 5888, 5890, 5893, 5896, 5914, 5919, 5922, 5929, 5933, 5937, 5939, 5941, 5948, 5951, 5953, 5956, 5959, 5960, 5962, 5965, 5967, 5968, 5970, 5975, 5985, 5987, 5998, 6003, 6006, 6008, 6009, 6014, 6018, 6021, 6022, 6041, 6042, 6044, 6047, 6050, 6052, 6053, 6057, 6067, 6078, 6082, 6084, 6088, 6089, 6092, 6100, 6104, 6106, 6115, 6116, 6118, 6124, 6125, 6131, 6141, 6145, 6151, 6155, 6156, 6158, 6161, 6164, 6168, 6176, 6178, 6183, 6189, 6191, 6193, 6203, 6205, 6209, 6219, 6220, 6224, 6226, 6227, 6228, 6229, 6232, 6237, 6238, 6240, 6243, 6245, 6246, 6247, 6253, 6255, 6259, 6266, 6274, 6278, 6279, 6284, 6288, 6290, 6295, 6300, 6301, 6303, 6304, 6306, 6307, 6308, 6311, 6313, 6322, 6324, 6329, 6330, 6333, 6336, 6339, 6340, 6343, 6344, 6347, 6348, 6350, 6351, 6352, 6356, 6357, 6358, 6360, 6367, 6368, 6370, 6372, 6375, 6381, 6383, 6385, 6388, 6392, 6394, 6403, 6415, 6418, 6427, 6429, 6433, 6435, 6437, 6441, 6442, 6443, 6446, 6447, 6451, 6455, 6456, 6460, 6467, 6470, 6478, 6486, 6490, 6496, 6497, 6498, 6502, 6510, 6515, 6521, 6523, 6525, 6529, 6531, 6533, 6536, 6537, 6539, 6545, 6546, 6548, 6550, 6554, 6556, 6560, 6565, 6566, 6569, 6572, 6573, 6574, 6575, 6577, 6585, 6586, 6592, 6595, 6601, 6603, 6606, 6610, 6613, 6617, 6620, 6622, 6624, 6628, 6630, 6632, 6633, 6634, 6648, 6650, 6651, 6654, 6655, 6658, 6660, 6662, 6663, 6665, 6667, 6671, 6672, 6673, 6678, 6681, 6682, 6683, 6684, 6686, 6689, 6690, 6693, 6694, 6698, 6706, 6711, 6713, 6717, 6718, 6729, 6733, 6737, 6744, 6747, 6748, 6749, 6752, 6756, 6762, 6766, 6768, 6770, 6773, 6774, 6775, 6778, 6779, 6780, 6782, 6786, 6790, 6794, 6796, 6810, 6811, 6819, 6820, 6821, 6823, 6824, 6827, 6831, 6832, 6834, 6835, 6838, 6845, 6846, 6853, 6855, 6864, 6868, 6873, 6878, 6879, 6880, 6884, 6889, 6890, 6892, 6900, 6905, 6909, 6910, 6911, 6913, 6915, 6918, 6926, 6930, 6932, 6936, 6937, 6941, 6943, 6944, 6945, 6946, 6947, 6948, 6949, 6953, 6955, 6963, 6971, 6975, 6976, 6977, 6978, 6984, 6987, 6988, 6991, 6992, 6993, 6994, 7001, 7003, 7005, 7008, 7009, 7012, 7015, 7021, 7022, 7023, 7025, 7027, 7029, 7030, 7035, 7038, 7044, 7051, 7064, 7065, 7066, 7067, 7068, 7072, 7077, 7078, 7081, 7084, 7087, 7089, 7096, 7107, 7108, 7109, 7112, 7115, 7120, 7125, 7127, 7130, 7133, 7144, 7145, 7146, 7148, 7152, 7154, 7156, 7157, 7158, 7162, 7167, 7168, 7172, 7178, 7179, 7183, 7188, 7194, 7201, 7206, 7209, 7210, 7212, 7216, 7218, 7225, 7226, 7233, 7235, 7238, 7241, 7243, 7247, 7250, 7251, 7259, 7260, 7265, 7270, 7279, 7285, 7286, 7288, 7299, 7300, 7302, 7306, 7319, 7321, 7322, 7327, 7332, 7333, 7334, 7354, 7358, 7362, 7369, 7373, 7377, 7378, 7379, 7380, 7384, 7386, 7387, 7391, 7392, 7394, 7395, 7396, 7398, 7399, 7400, 7409, 7411, 7414, 7416, 7426, 7427, 7431, 7435, 7440, 7445, 7451, 7454, 7457, 7465, 7467, 7468, 7476, 7483, 7487, 7491, 7492, 7495, 7496, 7498, 7502, 7511, 7512, 7513, 7520, 7521, 7523, 7531, 7532, 7538, 7539, 7545, 7546, 7548, 7552, 7556, 7562, 7574, 7577, 7581, 7592, 7603, 7605, 7611, 7618, 7619, 7621, 7623, 7624, 7636, 7639, 7643, 7644, 7647, 7649, 7650, 7651, 7652, 7658, 7660, 7662, 7664, 7668, 7670, 7671, 7677, 7679, 7680, 7687, 7693, 7699, 7705, 7706, 7711, 7712, 7713, 7718, 7719, 7725, 7728, 7729, 7730, 7743, 7748, 7749, 7752, 7753, 7763, 7766, 7771, 7775, 7778, 7779, 7782, 7784, 7786, 7795, 7801, 7804, 7805, 7808, 7814, 7815, 7818, 7819, 7821, 7826, 7827, 7833, 7839, 7841, 7845, 7848, 7850, 7852, 7856, 7860, 7861, 7866, 7867, 7869, 7870, 7874, 7875, 7879, 7881, 7882, 7885, 7887, 7890, 7891, 7895, 7896, 7898, 7899, 7902, 7903, 7905, 7915, 7918, 7920, 7922, 7930, 7932, 7936, 7941, 7942, 7951, 7956, 7958, 7960, 7963, 7972, 7974, 7975, 7976, 7978, 7982, 7984, 7985, 7986, 7987, 7989, 7990, 7991, 7992, 7994, 7995, 7998, 8009, 8010, 8014, 8016, 8018, 8020, 8022, 8023, 8024, 8025, 8029, 8031, 8032, 8033, 8034, 8035, 8041, 8043, 8050, 8055, 8060, 8064, 8067, 8077, 8082, 8085, 8098, 8106, 8112, 8113, 8119, 8125, 8138, 8140, 8141, 8147, 8148, 8153, 8156, 8161, 8165, 8173, 8179, 8183, 8187, 8193, 8197, 8201, 8205, 8209, 8215, 8220, 8221, 8222, 8224, 8229, 8233, 8234, 8237, 8238, 8247, 8252, 8260, 8276, 8277, 8280, 8281, 8282, 8284, 8287, 8288, 8289, 8291, 8295, 8299, 8301, 8306, 8308, 8313, 8316, 8325, 8332, 8335, 8338, 8346, 8348, 8353, 8358, 8369, 8379, 8384, 8385, 8386, 8387, 8390, 8391, 8406, 8408, 8409, 8410, 8411, 8412, 8416, 8417, 8421, 8431, 8432, 8436, 8437, 8438, 8441, 8445, 8453, 8465, 8470, 8473, 8475, 8479, 8480, 8486, 8496, 8499, 8503, 8506, 8507, 8510, 8511, 8522, 8523, 8528, 8533, 8542, 8547, 8549, 8551, 8555, 8563, 8567, 8572, 8575, 8579, 8582, 8586, 8594, 8597, 8600, 8603, 8606, 8608, 8610, 8614, 8615, 8619, 8625, 8629, 8630, 8635, 8636, 8641, 8643, 8644, 8647, 8648, 8649, 8659, 8661, 8663, 8664, 8683, 8686, 8687, 8692, 8693, 8698, 8702, 8705, 8707, 8711, 8715, 8724, 8736, 8737, 8738, 8739, 8742, 8751, 8754, 8757, 8761, 8767, 8770, 8777, 8779, 8781, 8783, 8786, 8787, 8790, 8792, 8797, 8800, 8803, 8806, 8812, 8814, 8815, 8820, 8824, 8826, 8828, 8836, 8839, 8843, 8848, 8849, 8851, 8852, 8860, 8864, 8871, 8872, 8875, 8881, 8886, 8889, 8892, 8897, 8898, 8900, 8903, 8909, 8917, 8919, 8923, 8925, 8929, 8930, 8932, 8934, 8940, 8947, 8948, 8961, 8963, 8964, 8967, 8969, 8972, 8976, 8980, 8983, 8986, 8989, 8990, 8992, 8993, 8995, 8999, 9000, 9001, 9014, 9020, 9022, 9024, 9027, 9031, 9032, 9034, 9038, 9043, 9047, 9049, 9050, 9051, 9055, 9061, 9062, 9069, 9079, 9085, 9087, 9089, 9092, 9093, 9100, 9102, 9116, 9117, 9121, 9126, 9127, 9128, 9130, 9132, 9137, 9141, 9143, 9145, 9156, 9172, 9173, 9175, 9177, 9179, 9186, 9188, 9190, 9204, 9205, 9211, 9216, 9217, 9221, 9222, 9226, 9230, 9232, 9233, 9235, 9237, 9238, 9242, 9246, 9251, 9255, 9256, 9257, 9260, 9262, 9266, 9267, 9277, 9278, 9280, 9282, 9285, 9287, 9289, 9293, 9294, 9297, 9300, 9304, 9306, 9307, 9308, 9310, 9312, 9313, 9317, 9318, 9319, 9326, 9327, 9329, 9336, 9337, 9342, 9345, 9351, 9355, 9357, 9360, 9367, 9369, 9371, 9374, 9377, 9381, 9388, 9389, 9393, 9399, 9400, 9407, 9410, 9415, 9417, 9418, 9420, 9426, 9429, 9435, 9438, 9440, 9441, 9442, 9443, 9447, 9448, 9449, 9455, 9456, 9469, 9471, 9476, 9482, 9485, 9499, 9504, 9506, 9515, 9519, 9520, 9525, 9533, 9538, 9542, 9546, 9554, 9562, 9572, 9580, 9585, 9587, 9591, 9597, 9602, 9604, 9606, 9608, 9610, 9618, 9621, 9622, 9624, 9632, 9633, 9634, 9636, 9637, 9642, 9644, 9648, 9653, 9654, 9664, 9670, 9673, 9676, 9681, 9683, 9690, 9695, 9698, 9700, 9711, 9713, 9724, 9726, 9728, 9732, 9735, 9737, 9739, 9740, 9742, 9743, 9749, 9750, 9751, 9752, 9755, 9757, 9765, 9768, 9773, 9774, 9775, 9776, 9777, 9778, 9780, 9781, 9786, 9791, 9794, 9796, 9797, 9801, 9802, 9815, 9818, 9826, 9831, 9837, 9839, 9840, 9842, 9844, 9846, 9847, 9852, 9856, 9858, 9859, 9863, 9864, 9865, 9870, 9874, 9875, 9876, 9879, 9883, 9891, 9893, 9896, 9899, 9901, 9902, 9904, 9909, 9910, 9916, 9917, 9929, 9930, 9931, 9933, 9938, 9939, 9940, 9941, 9944, 9948, 9949, 9950, 9951, 9952, 9955, 9956, 9958, 9963, 9965, 9966, 9967, 9968, 9974, 9979, 9980, 9981, 9985, 9986, 9989, 9996, 10001, 10007, 10015, 10021, 10025, 10029, 10043, 10047, 10052, 10054, 10055, 10056, 10060, 10061, 10063, 10067, 10068, 10069, 10070, 10073, 10077, 10080, 10084, 10089, 10094, 10095, 10100, 10106, 10109, 10111, 10113, 10116, 10118, 10119, 10128, 10137, 10138, 10139, 10145, 10147, 10150, 10152, 10153, 10154, 10160, 10164, 10167, 10169, 10175, 10178, 10185, 10188, 10195, 10198, 10201, 10204, 10206, 10212, 10214, 10215, 10218, 10220, 10222, 10228, 10229, 10236, 10246, 10247, 10255, 10256, 10257, 10258, 10262, 10266, 10270, 10275, 10279, 10287, 10296, 10297, 10298, 10299, 10300, 10302, 10303, 10307, 10308, 10311, 10312, 10314, 10323, 10331, 10333, 10335, 10338, 10341, 10342, 10347, 10348, 10354, 10358, 10359, 10360, 10361, 10364, 10366, 10369, 10373, 10376, 10377, 10378, 10380, 10384, 10385, 10393, 10396, 10398, 10407, 10411, 10413, 10414, 10420, 10425, 10431, 10433, 10441, 10448, 10451, 10455, 10461, 10465, 10468, 10469, 10470, 10471, 10476, 10480, 10482, 10483, 10489, 10512, 10514, 10519, 10520, 10521, 10522, 10533, 10538, 10543, 10544, 10546, 10549, 10550, 10552, 10559, 10562, 10563, 10568, 10570, 10574, 10577, 10580, 10581, 10590, 10598, 10599, 10600, 10604, 10607, 10609, 10614, 10618, 10625, 10626, 10628, 10630, 10632, 10636, 10642, 10644, 10651, 10652, 10653, 10657, 10658, 10660, 10664, 10665, 10666, 10682, 10683, 10687, 10690, 10693, 10703, 10710, 10711, 10712, 10715, 10718, 10721, 10722, 10723, 10729, 10730, 10735, 10736, 10738, 10740, 10751, 10752, 10761, 10763, 10765, 10766, 10768, 10769, 10772, 10773, 10775, 10776, 10777, 10779, 10782, 10783, 10784, 10785, 10789, 10794, 10797, 10807, 10811, 10814, 10819, 10822, 10823, 10826, 10828, 10831, 10838, 10839, 10843, 10844, 10847, 10854, 10855, 10861, 10864, 10868, 10870, 10873, 10874, 10877, 10880, 10883, 10892, 10902, 10906, 10907, 10917, 10918, 10919, 10925, 10930, 10931, 10939, 10940, 10941, 10942, 10943, 10947, 10948, 10951, 10956, 10957, 10959, 10968, 10988, 10991, 10993, 10994, 10997, 10998, 11010, 11013, 11022, 11024, 11029, 11032, 11036, 11043, 11044, 11046, 11048, 11050, 11051, 11056, 11057, 11058, 11059, 11064, 11068, 11069, 11077, 11079, 11080, 11086, 11088, 11090, 11091, 11095, 11099, 11106, 11108, 11110, 11113, 11115, 11117, 11120, 11123, 11124, 11133, 11136, 11137, 11145, 11149, 11152, 11153, 11155, 11157, 11158, 11164, 11167, 11170, 11177, 11178, 11180, 11182, 11183, 11188, 11193, 11195, 11197, 11200, 11202, 11203, 11204, 11212, 11214, 11216, 11221, 11227, 11228, 11229, 11232, 11233, 11235, 11237, 11239, 11241, 11242, 11244, 11245, 11247, 11250, 11252, 11253, 11260, 11261, 11275, 11277, 11278, 11281, 11283, 11284, 11285, 11292, 11298, 11299, 11303, 11308, 11315, 11322, 11327, 11328, 11329, 11330, 11336, 11340, 11345, 11346, 11347, 11351, 11352, 11355, 11356, 11358, 11363, 11367, 11369, 11377, 11382, 11385, 11390, 11397, 11400, 11401, 11408, 11409, 11413, 11422, 11423, 11424, 11425, 11431, 11437, 11438, 11440, 11443, 11446, 11447, 11451, 11455, 11456, 11458, 11461, 11462, 11465, 11466, 11468, 11472, 11476, 11478, 11480, 11481, 11485, 11486, 11487, 11489, 11503, 11506, 11510, 11511, 11513, 11515, 11519, 11520, 11521, 11523, 11527, 11531, 11536, 11537, 11539, 11542, 11545, 11549, 11562, 11563, 11566, 11570, 11571, 11575, 11584, 11585, 11587, 11589, 11590, 11594, 11595, 11596, 11597, 11598, 11600, 11603, 11606, 11607, 11608, 11613, 11614, 11616, 11620, 11624, 11627, 11629, 11632, 11633, 11634, 11635, 11636, 11637, 11638, 11642, 11648, 11650, 11653, 11655, 11657, 11658, 11660, 11661, 11664, 11666, 11677, 11683, 11687, 11688, 11689, 11697, 11700, 11701, 11705, 11712, 11718, 11721, 11722, 11723, 11734, 11735, 11737, 11738, 11739, 11744, 11747, 11749, 11750, 11751, 11755, 11757, 11763, 11766, 11768, 11775, 11776, 11777, 11781, 11784, 11786, 11793, 11795, 11798, 11800, 11801, 11803, 11804, 11805, 11807, 11808, 11814, 11819, 11820, 11824, 11830, 11831, 11833, 11835, 11836, 11839, 11844, 11846, 11849, 11855, 11869, 11870, 11871, 11872, 11877, 11878, 11879, 11882, 11884, 11890, 11893, 11896, 11897, 11900, 11903, 11916, 11919, 11921, 11924, 11926, 11933, 11935, 11937, 11939, 11944, 11949, 11950, 11951, 11954, 11956, 11964, 11965, 11968, 11973, 11975, 11976, 11984, 11987, 11988, 11996, 12000, 12005, 12010, 12011, 12013, 12019, 12023, 12026, 12030, 12031, 12034, 12042, 12044, 12045, 12050, 12053, 12066, 12067, 12078, 12080, 12082, 12085, 12086, 12089, 12093, 12094, 12095, 12097, 12099, 12101, 12105, 12107, 12108, 12110, 12117, 12118, 12119, 12121, 12122, 12123, 12125, 12131, 12132, 12133, 12138, 12139, 12142, 12148, 12155, 12157, 12159, 12164, 12169, 12171, 12172, 12174, 12182, 12184, 12186, 12188, 12192, 12193, 12194, 12196, 12205, 12206, 12208, 12213, 12218, 12219, 12227, 12229, 12230, 12232, 12233, 12234, 12236, 12241, 12243, 12259, 12260, 12263, 12265, 12272, 12275, 12276, 12285, 12291, 12293, 12297, 12299, 12302, 12303, 12308, 12309, 12310, 12313, 12314, 12319, 12322, 12324, 12328, 12329, 12332, 12342, 12343, 12350, 12352, 12354, 12356, 12359, 12361, 12363, 12368, 12369, 12371, 12372, 12376, 12377, 12387, 12396, 12397, 12400, 12405, 12407, 12410, 12411, 12415, 12416, 12420, 12422, 12427, 12431, 12432, 12438, 12444, 12448, 12455, 12456, 12457, 12458, 12471, 12472, 12473, 12476, 12478, 12484, 12487, 12490, 12491, 12493, 12494, 12497, 12498, 12499, 12502, 12503, 12506, 12507, 12510, 12512, 12514, 12515, 12517, 12525, 12529, 12533, 12536, 12539, 12541, 12553, 12564, 12566, 12568, 12573, 12576, 12581, 12583, 12584, 12585, 12588, 12589, 12591, 12592, 12594, 12595, 12596, 12606, 12613, 12615, 12616, 12620, 12623, 12630, 12632, 12636, 12637, 12643, 12648, 12651, 12654, 12656, 12662, 12665, 12668, 12670, 12673, 12675, 12677, 12678, 12679, 12680, 12681, 12684, 12687, 12689, 12695, 12699, 12701, 12705, 12708, 12709, 12713, 12714, 12716, 12719, 12722, 12731, 12733, 12735, 12736, 12742, 12743, 12744, 12746, 12749, 12752, 12754, 12755, 12760, 12761, 12763, 12764, 12765, 12767, 12771, 12775, 12778, 12783, 12788, 12792, 12804, 12805, 12806, 12811, 12812, 12814, 12817, 12820, 12822, 12824, 12826, 12828, 12835, 12837, 12839, 12843, 12848, 12849, 12850, 12863, 12868, 12871, 12874, 12875, 12880, 12882, 12887, 12898, 12906, 12909, 12910, 12913, 12917, 12918, 12923, 12928, 12936, 12948, 12950, 12953, 12954, 12956, 12962, 12965, 12971, 12975, 12982, 12989, 12990, 12991, 12992, 12994, 12999, 13002, 13003, 13004, 13006, 13009, 13014, 13015, 13017, 13020, 13022, 13027, 13029, 13032, 13034, 13035, 13037, 13041, 13043, 13045, 13046, 13052, 13054, 13055, 13059, 13060, 13061, 13069, 13070, 13071, 13076, 13077, 13078, 13079, 13080, 13083, 13086, 13087, 13092, 13103, 13106, 13109, 13111, 13113, 13117, 13121, 13124, 13126, 13128, 13133, 13135, 13138, 13145, 13146, 13151, 13161, 13170, 13176, 13178, 13180, 13181, 13182, 13185, 13195, 13196, 13199, 13204, 13212, 13217, 13218, 13221, 13225, 13228, 13229, 13235, 13236, 13239, 13240, 13242, 13249, 13250, 13257, 13258, 13261, 13274, 13276, 13291, 13292, 13293, 13300, 13301, 13303, 13305, 13307, 13311, 13312, 13314, 13315, 13316, 13329, 13332, 13333, 13336, 13338, 13341, 13342, 13343, 13344, 13351, 13356, 13360, 13362, 13363, 13366, 13370, 13372, 13373, 13377, 13378, 13379, 13380, 13382, 13386, 13387, 13388, 13389, 13391, 13393, 13398, 13399, 13400, 13403, 13406, 13407, 13408, 13423, 13425, 13426, 13428, 13429, 13431, 13434, 13435, 13442, 13447, 13448, 13449, 13451, 13454, 13455, 13457, 13468, 13477, 13478, 13482, 13485, 13489, 13490, 13491, 13492, 13497, 13502, 13503, 13507, 13510, 13514, 13515, 13516, 13518, 13521, 13528, 13534, 13538, 13542, 13544, 13546, 13554, 13558, 13560, 13565, 13566, 13569, 13572, 13574, 13576, 13577, 13589, 13590, 13591, 13595, 13603, 13612, 13614, 13615, 13616, 13617, 13620, 13622, 13623, 13624, 13626, 13634, 13635, 13639, 13640, 13644, 13646, 13648, 13652, 13663, 13668, 13671, 13672, 13675, 13678, 13682, 13684, 13685, 13688, 13693, 13698, 13701, 13702, 13703, 13704, 13705, 13706, 13707, 13709, 13710, 13711, 13716, 13717, 13719, 13727, 13732, 13736, 13739, 13740, 13749, 13753, 13759, 13761, 13762, 13768, 13772, 13773, 13774, 13775, 13776, 13777, 13778, 13790, 13792, 13795, 13797, 13802, 13804, 13805, 13809, 13813, 13820, 13822, 13825, 13829, 13833, 13840, 13844, 13845, 13852, 13853, 13855, 13856, 13858, 13859, 13863, 13868, 13870, 13873, 13875, 13883, 13888, 13889, 13892, 13894, 13896, 13897, 13898, 13906, 13913, 13914, 13915, 13918, 13921, 13926, 13927, 13932, 13937, 13938, 13939, 13941, 13943, 13945, 13946, 13947, 13949, 13950, 13952, 13953, 13954, 13956, 13961, 13963, 13969, 13970, 13972, 13974, 13978, 13980, 13984, 13987, 13990, 13994, 13995, 13997, 13998, 14002, 14005, 14006, 14007, 14012, 14013, 14020, 14021, 14022, 14024, 14026, 14029, 14031, 14033, 14036, 14037, 14040, 14044, 14046, 14048, 14055, 14057, 14063, 14064, 14071, 14074, 14078, 14083, 14086, 14095, 14097, 14104, 14106, 14108, 14110, 14122, 14128, 14132, 14135, 14136, 14140, 14145, 14146, 14153, 14154, 14155, 14158, 14162, 14163, 14164, 14166, 14170, 14172, 14176, 14180, 14182, 14183, 14185, 14189, 14190, 14197, 14202, 14204, 14206, 14207, 14210, 14211, 14214, 14216, 14229, 14232, 14234, 14237, 14239, 14242, 14244, 14255, 14257, 14263, 14265, 14275, 14276, 14277, 14283, 14284, 14290, 14292, 14296, 14297, 14298, 14299, 14301, 14302, 14307, 14308, 14310, 14311, 14314, 14315, 14319, 14320, 14321, 14323, 14330, 14333, 14340, 14350, 14355, 14361, 14364, 14373, 14374, 14379, 14380, 14382, 14384, 14385, 14387, 14390, 14391, 14392, 14400, 14401, 14407, 14428, 14430, 14433, 14440, 14441, 14442, 14448, 14452, 14454, 14457, 14461, 14462, 14467, 14470, 14477, 14479, 14483, 14484, 14486, 14492, 14497, 14498, 14503, 14505, 14510, 14511, 14516, 14517, 14519, 14520, 14526, 14530, 14536, 14537, 14539, 14540, 14541, 14543, 14544, 14546, 14547, 14551, 14554, 14557, 14563, 14564, 14566, 14567, 14568, 14572, 14576, 14580, 14581, 14583, 14586, 14589, 14590, 14597, 14599, 14600, 14601, 14609, 14611, 14612, 14614, 14616, 14618, 14621, 14622, 14625, 14626, 14628, 14631, 14634, 14635, 14636, 14640, 14647, 14650, 14652, 14654, 14658, 14659, 14665, 14670, 14672, 14674, 14676, 14677, 14678, 14682, 14684, 14689, 14693, 14702, 14703, 14707, 14708, 14710, 14714, 14716, 14719, 14720, 14722, 14723, 14725, 14731, 14742, 14751, 14755, 14756, 14757, 14762, 14763, 14764, 14775, 14777, 14778, 14789, 14790, 14792, 14793, 14794, 14795, 14797, 14800, 14810, 14815, 14818, 14824, 14827, 14828, 14829, 14830, 14833, 14834, 14838, 14840, 14844, 14845, 14847, 14849, 14850, 14854, 14856, 14857, 14860, 14862, 14865, 14869, 14870, 14873, 14876, 14885, 14891, 14899, 14904, 14906, 14909, 14922, 14923, 14924, 14928, 14934, 14935, 14942, 14943, 14945, 14951, 14953, 14954, 14955, 14959, 14962, 14964, 14967, 14972, 14976, 14977, 14978, 14987, 14989, 14993, 14994, 14998, 14999, 15005, 15009, 15019, 15024, 15029, 15030, 15037, 15041, 15053, 15054, 15057, 15060, 15067, 15073, 15075, 15076, 15080, 15081, 15083, 15086, 15093, 15094, 15096, 15100, 15101, 15104, 15106, 15108, 15109, 15111, 15112, 15115, 15118, 15124, 15125, 15140, 15144, 15145, 15146, 15149, 15150, 15154, 15157, 15158, 15159, 15163, 15169, 15170, 15173, 15174, 15178, 15179, 15184, 15192, 15196, 15197, 15198, 15199, 15200, 15201, 15207, 15217, 15218, 15221, 15229, 15230, 15231, 15237, 15240, 15248, 15251, 15257, 15258, 15261, 15262, 15267, 15272, 15276, 15278, 15285, 15303, 15306, 15311, 15312, 15316, 15319, 15321, 15325, 15330, 15333, 15338, 15340, 15346, 15353, 15358, 15360, 15363, 15365, 15367, 15371, 15378, 15379, 15383, 15385, 15394, 15396, 15400, 15401, 15403, 15404, 15407, 15408, 15409, 15414, 15418, 15424, 15426, 15427, 15430, 15436, 15439, 15444, 15447, 15451, 15452, 15453, 15455, 15456, 15457, 15458, 15459, 15460, 15461, 15465, 15466, 15473, 15477, 15480, 15488, 15494, 15496, 15502, 15503, 15515, 15521, 15523, 15525, 15530, 15532, 15535, 15538, 15540, 15541, 15546, 15549, 15552, 15556, 15559, 15562, 15564, 15565, 15572, 15577, 15578, 15592, 15595, 15597, 15598, 15602, 15603, 15606, 15608, 15609, 15610, 15613, 15614, 15616, 15619, 15620, 15627, 15628, 15631, 15634, 15636, 15639, 15640, 15642, 15648, 15649, 15652, 15653, 15664, 15665, 15668, 15669, 15672, 15673, 15681, 15683, 15686, 15687, 15690, 15691, 15692, 15694, 15695, 15697, 15703, 15704, 15705, 15707, 15713, 15718, 15733, 15739, 15741, 15742, 15747, 15748, 15753, 15754, 15757, 15758, 15761, 15770, 15776, 15778, 15781, 15784, 15787, 15796, 15798, 15799, 15811, 15814, 15817, 15818, 15820, 15821, 15824, 15825, 15826, 15828, 15830, 15832, 15836, 15840, 15844, 15845, 15858, 15863, 15866, 15868, 15870, 15872, 15874, 15877, 15883, 15886, 15888, 15889, 15891, 15894, 15899, 15900, 15901, 15906, 15908, 15910, 15913, 15916, 15919, 15920, 15923, 15924, 15926, 15927, 15936, 15937, 15945, 15946, 15947, 15954, 15955, 15956, 15958, 15959, 15966, 15973, 15975, 15976, 15981, 15983, 15990, 15992, 15995, 15996, 16000, 16002, 16006, 16012, 16014, 16015, 16024, 16025, 16027, 16029, 16030, 16032, 16035, 16037, 16041, 16043, 16046, 16047, 16055, 16065, 16067, 16071, 16072, 16073, 16074, 16080, 16089, 16093, 16094, 16097, 16103, 16108, 16112, 16113, 16120, 16127, 16128, 16129, 16144, 16148, 16149, 16153, 16154, 16155, 16157, 16159, 16166, 16168, 16169, 16172, 16173, 16175, 16179, 16185, 16190, 16191, 16193, 16196, 16201, 16205, 16207, 16208, 16210, 16212, 16218, 16222, 16226, 16227, 16234, 16238, 16243, 16245, 16246, 16249, 16254, 16255, 16258, 16259, 16265, 16266, 16267, 16270, 16280, 16285, 16286, 16294, 16296, 16300, 16303, 16305, 16318, 16319, 16323, 16327, 16334, 16335, 16336, 16341, 16351, 16352, 16354, 16358, 16366, 16373, 16378, 16379, 16382, 16386, 16392, 16393, 16397, 16405, 16406, 16417, 16418, 16420, 16421, 16423, 16425, 16427, 16435, 16436, 16441, 16443, 16450, 16454, 16459, 16460, 16461, 16462, 16464, 16470, 16476, 16488, 16489, 16493, 16499, 16503, 16504, 16506, 16510, 16511, 16514, 16516, 16520, 16524, 16530, 16531, 16537, 16544, 16546, 16547, 16552, 16555, 16557, 16559, 16561, 16566, 16567, 16568, 16569, 16573, 16574, 16577, 16579, 16581, 16585, 16586, 16587, 16589, 16590, 16591, 16593, 16595, 16600, 16602, 16611, 16612, 16614, 16617, 16618, 16619, 16620, 16622, 16624, 16625, 16633, 16634, 16638, 16640, 16646, 16648, 16649, 16650, 16652, 16657, 16658, 16660, 16665, 16669, 16673, 16674, 16675, 16677, 16680, 16683, 16685, 16688, 16693, 16699, 16703, 16704, 16705, 16706, 16711, 16713, 16714, 16715, 16716, 16717, 16719, 16729, 16732, 16739, 16745, 16747, 16748, 16752, 16759, 16760, 16762, 16765, 16767, 16769, 16772, 16773, 16779, 16780, 16782, 16789, 16790, 16791, 16792, 16796, 16797, 16798, 16800, 16801, 16803, 16806, 16815, 16817, 16819, 16827, 16840, 16844, 16847, 16850, 16851, 16859, 16860, 16861, 16864, 16868, 16870, 16875, 16884, 16888, 16890, 16896, 16898, 16899, 16900, 16902, 16904, 16911, 16913, 16915, 16916, 16920, 16926, 16927, 16931, 16935, 16936, 16938, 16940, 16942, 16948, 16959, 16961, 16965, 16967, 16969, 16970, 16971, 16984, 16992, 16994, 16997, 16998, 17006, 17007, 17009, 17013, 17018, 17020, 17030, 17033, 17034, 17040, 17041, 17044, 17049, 17050, 17054, 17055, 17059, 17062, 17069, 17073, 17077, 17080, 17081, 17084, 17087, 17088, 17093, 17094, 17103, 17108, 17113, 17118, 17119, 17128, 17131, 17135, 17139, 17141, 17145, 17147, 17148, 17150, 17151, 17153, 17160, 17163, 17171, 17173, 17176, 17177, 17180, 17181, 17188, 17195, 17196, 17199, 17201, 17208, 17213, 17221, 17224, 17225, 17228, 17238, 17245, 17247, 17248, 17251, 17265, 17266, 17267, 17269, 17276, 17279, 17283, 17284, 17294, 17297, 17298, 17304, 17305, 17309, 17311, 17322, 17323, 17325, 17326, 17327, 17330, 17332, 17333, 17335, 17340, 17343, 17348, 17349, 17350, 17352, 17355, 17357, 17358, 17360, 17361, 17363, 17365, 17372, 17375, 17381, 17386, 17389, 17391, 17394, 17398, 17403, 17405, 17407, 17409, 17411, 17417, 17418, 17423, 17426, 17431, 17433, 17435, 17436, 17447, 17449, 17452, 17453, 17454, 17456, 17460, 17462, 17466, 17469, 17471, 17478, 17483, 17486, 17487, 17489, 17490, 17498, 17502, 17506, 17509, 17513, 17514, 17519, 17521, 17527, 17530, 17532, 17535, 17537, 17538, 17539, 17540, 17544, 17548, 17552, 17556, 17557, 17560, 17564, 17565, 17566, 17567, 17571, 17574, 17576, 17584, 17586, 17587, 17595, 17597, 17598, 17599, 17605, 17608, 17611, 17620, 17621, 17623, 17624, 17625, 17626, 17627, 17629, 17635, 17639, 17644, 17645, 17656, 17660, 17662, 17663, 17668, 17670, 17671, 17672, 17675, 17678, 17679, 17680, 17682, 17683, 17684, 17687, 17688, 17689, 17701, 17706, 17708, 17717, 17724, 17725, 17731, 17732, 17733, 17743, 17746, 17749, 17753, 17758, 17767, 17771, 17773, 17774, 17779, 17783, 17785, 17789, 17793, 17797, 17798, 17806, 17809, 17812, 17813, 17814, 17817, 17820, 17822, 17824, 17829, 17830, 17835, 17836, 17837, 17838, 17847, 17851, 17854, 17856, 17860, 17864, 17870, 17871, 17872, 17873, 17876, 17879, 17885, 17888, 17889, 17891, 17893, 17895, 17898, 17903, 17905, 17907, 17910, 17916, 17918, 17919, 17920, 17922, 17923, 17927, 17928, 17938, 17939, 17941, 17942, 17943, 17945, 17946, 17950, 17954, 17958, 17961, 17966, 17970, 17972, 17983, 17985, 17986, 17987, 17988, 17990, 18010, 18012, 18016, 18029, 18031, 18033, 18040, 18041, 18044, 18045, 18048, 18049, 18056, 18060, 18063, 18069, 18073, 18075, 18076, 18078, 18084, 18088, 18089, 18091, 18099, 18104, 18111, 18122, 18124, 18126, 18133, 18138, 18142, 18146, 18147, 18154, 18155, 18156, 18157, 18176, 18178, 18183, 18185, 18189, 18202, 18204, 18205, 18206, 18212, 18218, 18219, 18220, 18221, 18227, 18228, 18229, 18240, 18245, 18247, 18248, 18249, 18250, 18254, 18258, 18265, 18269, 18270, 18276, 18277, 18279, 18280, 18282, 18285, 18290, 18294, 18295, 18302, 18304, 18305, 18307, 18310, 18318, 18321, 18331, 18337, 18341, 18346, 18348, 18352, 18355, 18356, 18358, 18361, 18363, 18374, 18379, 18387, 18389, 18390, 18393, 18394, 18397, 18399, 18404, 18412, 18419, 18421, 18434, 18438, 18440, 18441, 18442, 18445, 18447, 18448, 18449, 18450, 18451, 18452, 18453, 18455, 18460, 18461, 18464, 18473, 18478, 18479, 18488, 18490, 18492, 18495, 18498, 18506, 18508, 18514, 18517, 18518, 18521, 18523, 18524, 18528, 18529, 18530, 18531, 18532, 18533, 18535, 18546, 18549, 18554, 18558, 18559, 18561, 18564, 18569, 18570, 18576, 18578, 18579, 18582, 18586, 18594, 18609, 18610, 18612, 18614, 18615, 18616, 18617, 18618, 18619, 18620, 18622, 18624, 18631, 18634, 18636, 18638, 18639, 18651, 18659, 18663, 18665, 18669, 18670, 18672, 18676, 18677, 18680, 18681, 18683, 18686, 18687, 18690, 18692, 18698, 18700, 18706, 18708, 18713, 18715, 18718, 18721, 18722, 18725, 18726, 18727, 18728, 18731, 18732, 18735, 18736, 18738, 18739, 18743, 18744, 18746, 18755, 18756, 18758, 18760, 18764, 18770, 18771, 18773, 18778, 18779, 18780, 18781, 18783, 18787, 18788, 18789, 18790, 18792, 18797, 18806, 18809, 18811, 18823, 18826, 18828, 18832, 18847, 18858, 18860, 18863, 18873, 18875, 18887, 18888, 18889, 18893, 18896, 18900, 18902, 18903, 18904, 18917, 18920, 18921, 18924, 18931, 18935, 18936, 18937, 18940, 18941, 18942, 18943, 18953, 18958, 18961, 18968, 18970, 18973, 18975, 18976, 18983, 18987, 18988, 18989, 18990, 18993, 19004, 19008, 19009, 19010, 19019, 19020, 19021, 19027, 19028, 19031, 19033, 19034, 19043, 19046, 19047, 19050, 19051, 19055, 19058, 19062, 19063, 19070, 19072, 19073, 19076, 19077, 19080, 19085, 19089, 19098, 19101, 19103, 19105, 19112, 19114, 19117, 19119, 19123, 19124, 19128, 19129, 19134, 19140, 19143, 19151, 19158, 19163, 19165, 19168, 19172, 19177, 19178, 19182, 19185, 19186, 19188, 19189, 19198, 19202, 19213, 19215, 19218, 19219, 19220, 19221, 19224, 19226, 19230, 19231, 19233, 19237, 19238, 19241, 19245, 19246, 19249, 19256, 19263, 19265, 19268, 19270, 19271, 19274, 19278, 19284, 19286, 19288, 19289, 19293, 19294, 19295, 19301, 19302, 19303, 19307, 19312, 19313, 19318, 19321, 19322, 19327, 19329, 19333, 19336, 19338, 19342, 19343, 19351, 19353, 19354, 19356, 19358, 19359, 19360, 19365, 19368, 19370, 19372, 19386, 19387, 19389, 19392, 19393, 19395, 19396, 19399, 19403, 19406, 19408, 19432, 19435, 19437, 19441, 19442, 19444, 19449, 19451, 19453, 19455, 19456, 19460, 19462, 19465, 19467, 19472, 19475, 19476, 19480, 19484, 19485, 19486, 19487, 19489, 19497, 19498, 19501, 19506, 19507, 19508, 19511, 19518, 19525, 19530, 19536, 19543, 19544, 19550, 19551, 19556, 19557, 19564, 19565, 19567, 19568, 19569, 19578, 19582, 19584, 19585, 19586, 19589, 19590, 19595, 19596, 19600, 19601, 19602, 19603, 19604, 19607, 19609, 19611, 19617, 19619, 19621, 19629, 19639, 19641, 19644, 19647, 19653, 19656, 19658, 19663, 19664, 19667, 19671, 19672, 19677, 19678, 19682, 19684, 19687, 19689, 19690, 19691, 19698, 19699, 19701, 19702, 19705, 19706, 19710, 19711, 19712, 19714, 19716, 19724, 19727, 19728, 19730, 19731, 19732, 19734, 19741, 19745, 19749, 19752, 19759, 19760, 19762, 19763, 19765, 19768, 19769, 19770, 19773, 19785, 19787, 19789, 19795, 19800, 19804, 19805, 19812, 19813, 19816, 19817, 19820, 19825, 19832, 19833, 19835, 19838, 19839, 19840, 19841, 19842, 19844, 19845, 19848, 19854, 19855, 19856, 19859, 19865, 19880, 19881, 19882, 19884, 19885, 19886, 19888, 19890, 19891, 19892, 19893, 19895, 19900, 19901, 19906, 19908, 19909, 19910, 19913, 19914, 19916, 19919, 19928, 19931, 19933, 19935, 19941, 19950, 19953, 19968, 19972, 19973, 19976, 19978, 19980, 19983, 19985, 19988, 19992, 19993, 19996, 19999, 20000, 20004, 20005, 20006, 20007, 20009, 20010, 20013, 20014, 20015, 20019, 20020, 20022, 20028, 20030, 20031, 20035, 20041, 20042, 20043, 20044, 20046, 20048, 20054, 20055, 20056, 20058, 20059, 20060, 20064, 20076, 20077, 20080, 20081, 20083, 20084, 20088, 20094, 20101, 20108, 20109, 20114, 20118, 20119, 20123, 20126, 20132, 20137, 20141, 20142, 20148, 20149, 20153, 20155, 20156, 20159, 20160, 20166, 20168, 20170, 20176, 20177, 20182, 20183, 20184, 20185, 20186, 20190, 20195, 20198, 20200, 20203, 20206, 20208, 20210, 20211, 20215, 20218, 20219, 20222, 20225, 20227, 20230, 20236, 20237, 20239, 20242, 20243, 20245, 20247, 20249, 20259, 20267, 20282, 20287, 20291, 20293, 20294, 20300, 20301, 20308, 20311, 20315, 20317, 20320, 20321, 20326, 20331, 20332, 20336, 20337, 20338, 20343, 20350, 20352, 20356, 20359, 20360, 20366, 20376, 20379, 20381, 20383, 20384, 20386, 20389, 20392, 20393, 20394, 20396, 20398, 20403, 20404, 20412, 20416, 20417, 20421, 20424, 20427, 20429, 20432, 20433, 20434, 20441, 20442, 20444, 20453, 20455, 20458, 20462, 20473, 20476, 20478, 20480, 20482, 20487, 20488, 20489, 20490, 20494, 20496, 20505, 20507, 20512, 20515, 20516, 20518, 20519, 20520, 20521, 20523, 20531, 20537, 20539, 20541, 20542, 20546, 20552, 20554, 20556, 20557, 20558, 20563, 20564, 20573, 20574, 20577, 20578, 20580, 20581, 20589, 20596, 20598, 20599, 20605, 20606, 20609, 20620, 20621, 20625, 20626, 20631, 20632, 20635, 20636, 20639, 20641, 20643, 20654, 20657, 20659, 20664, 20674, 20675, 20677, 20678, 20681, 20682, 20690, 20691, 20692, 20695, 20702, 20704, 20705, 20708, 20711, 20717, 20718, 20729, 20737, 20738, 20740, 20742, 20743, 20746, 20754, 20755, 20756, 20765, 20767, 20771, 20772, 20773, 20778, 20780, 20785, 20788, 20792, 20800, 20810, 20815, 20821, 20824, 20831, 20832, 20838, 20841, 20842, 20848, 20849, 20852, 20853, 20856, 20863, 20864, 20869, 20872, 20876, 20878, 20879, 20888, 20894, 20902, 20911, 20913, 20921, 20923, 20929, 20941, 20943, 20947, 20951, 20955, 20960, 20962, 20964, 20965, 20971, 20977, 20979, 20980, 20981, 20984, 20985, 20996, 21002, 21003, 21006, 21007, 21014, 21021, 21024, 21027, 21028, 21029, 21032, 21036, 21037, 21042, 21045, 21046, 21048, 21050, 21052, 21055, 21058, 21060, 21065, 21066, 21067, 21072, 21075, 21077, 21082, 21084, 21086, 21088, 21089, 21090, 21091, 21092, 21095, 21096, 21099, 21105, 21114, 21115, 21116, 21117, 21122, 21128, 21129, 21130, 21134, 21136, 21140, 21141, 21143, 21148, 21153, 21157, 21162, 21165, 21166, 21174, 21175, 21176, 21177, 21185, 21186, 21191, 21193, 21206, 21209, 21214, 21219, 21222, 21224, 21231, 21232, 21233, 21235, 21237, 21241, 21242, 21243, 21246, 21249, 21252, 21253, 21268, 21269, 21272, 21273, 21276, 21278, 21279, 21280, 21281, 21282, 21283, 21284, 21285, 21288, 21290, 21295, 21297, 21301, 21303, 21314, 21316, 21324, 21327, 21329, 21332, 21333, 21339, 21341, 21343, 21356, 21361, 21362, 21364, 21376, 21379, 21384, 21387, 21389, 21394, 21398, 21405, 21406, 21407, 21408, 21409, 21410, 21412, 21418, 21424, 21425, 21443, 21445, 21449, 21450, 21451, 21453, 21455, 21457, 21462, 21479, 21483, 21489, 21490, 21494, 21500, 21503, 21505, 21506, 21512, 21519, 21523, 21527, 21528, 21529, 21532, 21534, 21535, 21537, 21538, 21547, 21551, 21557, 21560, 21569, 21574, 21578, 21590, 21591, 21599, 21601, 21602, 21610, 21612, 21615, 21617, 21619, 21623, 21627, 21629, 21635, 21643, 21647, 21651, 21653, 21654, 21661, 21664, 21665, 21667, 21670, 21671, 21674, 21675, 21677, 21678, 21679, 21681, 21684, 21685, 21686, 21689, 21694, 21697, 21698, 21701, 21702, 21705, 21707, 21712, 21717, 21723, 21729, 21731, 21735, 21737, 21740, 21741, 21745, 21750, 21751, 21753, 21754, 21756, 21766, 21769, 21770, 21773, 21774, 21785, 21790, 21791, 21792, 21801, 21804, 21805, 21807, 21810, 21811, 21812, 21813, 21815, 21817, 21819, 21820, 21821, 21822, 21833, 21844, 21845, 21847, 21854, 21856, 21861, 21869, 21870, 21878, 21879, 21880, 21886, 21888, 21889, 21890, 21891, 21893, 21896, 21900, 21902, 21903, 21904, 21905, 21907, 21911, 21913, 21915, 21917, 21927, 21934, 21938, 21939, 21941, 21946, 21948, 21950, 21953, 21954, 21958, 21962, 21963, 21964, 21965, 21968, 21970, 21971, 21975, 21976, 21989, 21990, 21991, 21993, 21994, 21995, 21999, 22001, 22004, 22005, 22008, 22010, 22011, 22012, 22020, 22024, 22026, 22028, 22029, 22033, 22035, 22039, 22042, 22046, 22050, 22054, 22058, 22059, 22065, 22071, 22079, 22082, 22083, 22084, 22087, 22091, 22094, 22097, 22103, 22109, 22117, 22121, 22130, 22132, 22133, 22137, 22140, 22141, 22143, 22144, 22145, 22149, 22151, 22152, 22154, 22161, 22162, 22164, 22167, 22169, 22173, 22177, 22179, 22181, 22182, 22183, 22184, 22185, 22188, 22189, 22190, 22207, 22208, 22210, 22212, 22222, 22225, 22228, 22232, 22233, 22241, 22248, 22249, 22258, 22262, 22272, 22273, 22275, 22277, 22278, 22279, 22280, 22290, 22294, 22295, 22302, 22303, 22304, 22305, 22315, 22316, 22320, 22325, 22329, 22331, 22332, 22334, 22335, 22337, 22338, 22340, 22348, 22349, 22350, 22358, 22360, 22365, 22366, 22367, 22375, 22380, 22386, 22397, 22401, 22405, 22409, 22412, 22421, 22423, 22424, 22427, 22435, 22437, 22442, 22444, 22454, 22458, 22459, 22460, 22462, 22468, 22470, 22472, 22474, 22478, 22479, 22487, 22491, 22492, 22499, 22502, 22504, 22505, 22508, 22511, 22512, 22514, 22521, 22523, 22529, 22535, 22536, 22539, 22542, 22550, 22551, 22555, 22556, 22557, 22559, 22563, 22566, 22576, 22577, 22586, 22587, 22592, 22594, 22596, 22603, 22613, 22615, 22625, 22629, 22632, 22634, 22637, 22641, 22642, 22644, 22646, 22647, 22650, 22652, 22653, 22657, 22659, 22660, 22661, 22662, 22663, 22670, 22672, 22676, 22677, 22678, 22680, 22681, 22682, 22683, 22684, 22691, 22694, 22697, 22704, 22707, 22710, 22712, 22714, 22718, 22720, 22721, 22725, 22726, 22728, 22731, 22733, 22736, 22740, 22742, 22743, 22745, 22753, 22755, 22765, 22768, 22770, 22774, 22779, 22784, 22787, 22796, 22798, 22803, 22804, 22808, 22819, 22821, 22826, 22828, 22830, 22834, 22835, 22836, 22841, 22843, 22846, 22847, 22848, 22852, 22855, 22858, 22859, 22865, 22872, 22873, 22875, 22878, 22886, 22888, 22890, 22893, 22898, 22899, 22900, 22907, 22908, 22909, 22910, 22912, 22918, 22929, 22931, 22936, 22940, 22942, 22943, 22944, 22946, 22948, 22950, 22952, 22955, 22957, 22958, 22959, 22962, 22964, 22966, 22974, 22976, 22980, 22997, 23006, 23007, 23009, 23011, 23012, 23023, 23027, 23029, 23036, 23037, 23040, 23042, 23043, 23046, 23049, 23053, 23064, 23065, 23073, 23074, 23079, 23080, 23083, 23085, 23087, 23089, 23090, 23093, 23095, 23099, 23100, 23102, 23107, 23111, 23117, 23118, 23119, 23122, 23125, 23127, 23131, 23135, 23136, 23141, 23145, 23148, 23151, 23153, 23155, 23159, 23164, 23165, 23168, 23172, 23174, 23178, 23179, 23180, 23181, 23184, 23185, 23188, 23194, 23195, 23197, 23201, 23207, 23213, 23215, 23216, 23218, 23219, 23223, 23224, 23226, 23230, 23232, 23239, 23241, 23242, 23244, 23247, 23248, 23250, 23255, 23258, 23270, 23274, 23275, 23276, 23279, 23280, 23287, 23293, 23299, 23301, 23304, 23306, 23309, 23319, 23321, 23322, 23325, 23332, 23333, 23334, 23345, 23346, 23352, 23353, 23357, 23358, 23359, 23360, 23365, 23369, 23370, 23372, 23375, 23377, 23383, 23387, 23389, 23392, 23393, 23398, 23408, 23419, 23420, 23422, 23430, 23431, 23432, 23433, 23436, 23445, 23447, 23450, 23451, 23460, 23463, 23464, 23471, 23476, 23481, 23489, 23490, 23492, 23494, 23502, 23504, 23505, 23506, 23510, 23516, 23522, 23526, 23527, 23529, 23530, 23531, 23532, 23540, 23550, 23552, 23553, 23555, 23557, 23563, 23566, 23570, 23571, 23572, 23582, 23589, 23597, 23600, 23601, 23605, 23606, 23608, 23609, 23610, 23615, 23616, 23620, 23626, 23629, 23632, 23637, 23639, 23642, 23643, 23646, 23650, 23654, 23655, 23658, 23659, 23665, 23668, 23669, 23670, 23678, 23680, 23684, 23685, 23693, 23695, 23699, 23701, 23702, 23705, 23710, 23711, 23712, 23716, 23719, 23726, 23729, 23732, 23735, 23736, 23737, 23739, 23740, 23748, 23749, 23752, 23754, 23762, 23765, 23767, 23768, 23771, 23773, 23776, 23778, 23782, 23784, 23786, 23787, 23789, 23790, 23792, 23793, 23795, 23801, 23802, 23804, 23806, 23807, 23808, 23809, 23810, 23811, 23816, 23823, 23824, 23830, 23832, 23836, 23838, 23840, 23841, 23847, 23850, 23851, 23853, 23854, 23855, 23857, 23858, 23862, 23865, 23870, 23872, 23877, 23880, 23881, 23890, 23891, 23893, 23898, 23900, 23902, 23903, 23906, 23907, 23913, 23914, 23918, 23919, 23921, 23923, 23925, 23927, 23928, 23930, 23935, 23937, 23941, 23942, 23943, 23947, 23949, 23952, 23955, 23957, 23958, 23962, 23975, 23981, 23983, 23984, 23985, 23991, 23993, 23996, 24002, 24003, 24004, 24006, 24008, 24012, 24014, 24020, 24021, 24025, 24031, 24036, 24040, 24044, 24045, 24049, 24050, 24059, 24062, 24076, 24081, 24085, 24086, 24087, 24092, 24094, 24096, 24100, 24102, 24104, 24107, 24108, 24113, 24117, 24118, 24119, 24123, 24124, 24126, 24127, 24128, 24129, 24133, 24136, 24138, 24140, 24144, 24154, 24156, 24159, 24164, 24176, 24181, 24188, 24189, 24191, 24197, 24199, 24206, 24208, 24213, 24221, 24224, 24235, 24240, 24242, 24244, 24245, 24247, 24250, 24251, 24252, 24256, 24257, 24258, 24260, 24263, 24264, 24266, 24267, 24268, 24270, 24272, 24274, 24275, 24284, 24288, 24289, 24291, 24293, 24297, 24298, 24302, 24307, 24308, 24309, 24312, 24314, 24317, 24321, 24324, 24331, 24333, 24337, 24339, 24347, 24349, 24352, 24354, 24362, 24364, 24366, 24367, 24369, 24374, 24376, 24377, 24380, 24381, 24383, 24387, 24389, 24396, 24400, 24401, 24406, 24409, 24410, 24411, 24414, 24415, 24424, 24428, 24432, 24434, 24437, 24455, 24456, 24457, 24461, 24470, 24471, 24472, 24473, 24476, 24486, 24495, 24498, 24499, 24506, 24509, 24517, 24519, 24526, 24530, 24541, 24542, 24543, 24547, 24551, 24552, 24554, 24560, 24565, 24569, 24579, 24582, 24583, 24584, 24596, 24602, 24604, 24606, 24607, 24613, 24619, 24621, 24628, 24630, 24633, 24636, 24640, 24643, 24647, 24651, 24654, 24659, 24660, 24661, 24662, 24668, 24670, 24678, 24680, 24688, 24691, 24692, 24693, 24700, 24702, 24704, 24707, 24715, 24718, 24722, 24726, 24729, 24731, 24734, 24738, 24740, 24753, 24755, 24756, 24760, 24762, 24764, 24766, 24767, 24769, 24772, 24773, 24779, 24786, 24788, 24789, 24793, 24797, 24800, 24805, 24806, 24808, 24811, 24812, 24813, 24817, 24818, 24819, 24822, 24824, 24826, 24828, 24831, 24832, 24833, 24834, 24835, 24838, 24843, 24845, 24848, 24851, 24852, 24855, 24856, 24857, 24859, 24863, 24869, 24870, 24875, 24879, 24880, 24882, 24883, 24886, 24887, 24892, 24894, 24899, 24902, 24903, 24907, 24908, 24909, 24918, 24919, 24923, 24925, 24927, 24928, 24930, 24932, 24935, 24938, 24940, 24942, 24943, 24946, 24948, 24953, 24955, 24957, 24959, 24965, 24967, 24968, 24971, 24973, 24974, 24975, 24977, 24990, 25001, 25003, 25005, 25007, 25012, 25017, 25028, 25029, 25031, 25035, 25037, 25040, 25053, 25056, 25059, 25060, 25065, 25069, 25072, 25073, 25077, 25078, 25079, 25085, 25086, 25087, 25089, 25094, 25097, 25100, 25104, 25108, 25109, 25112, 25114, 25115, 25117, 25121, 25127, 25128, 25132, 25137, 25140, 25141, 25142, 25147, 25149, 25150, 25152, 25154, 25155, 25156, 25157, 25161, 25164, 25167, 25171, 25174, 25175, 25183, 25188, 25189, 25192, 25200, 25201, 25202, 25205, 25212, 25213, 25223, 25226, 25228, 25229, 25236, 25237, 25240, 25243, 25244, 25247, 25250, 25252, 25255, 25259, 25260, 25261, 25268, 25272, 25273, 25277, 25279, 25282, 25289, 25291, 25296, 25298, 25302, 25303, 25304, 25307, 25312, 25317, 25319, 25320, 25323, 25325, 25331, 25333, 25336, 25337, 25339, 25347, 25354, 25361, 25362, 25363, 25364, 25374, 25375, 25378, 25382, 25389, 25390, 25393, 25396, 25397, 25399, 25401, 25403, 25409, 25411, 25412, 25413, 25415, 25416, 25418, 25422, 25423, 25424, 25429, 25430, 25431, 25433, 25435, 25443, 25444, 25445, 25448, 25451, 25453, 25456, 25457, 25458, 25461, 25467, 25470, 25471, 25481, 25489, 25491, 25500, 25502, 25505, 25508, 25509, 25517, 25518, 25519, 25520, 25521, 25527, 25528, 25534, 25535, 25536, 25538, 25542, 25544, 25551, 25555, 25557, 25560, 25563, 25564, 25566, 25568, 25573, 25574, 25576, 25577, 25580, 25581, 25583, 25588, 25592, 25593, 25596, 25598, 25599, 25602, 25604, 25605, 25607, 25609, 25617, 25624, 25628, 25630, 25632, 25635, 25640, 25642, 25645, 25647, 25652, 25656, 25658, 25664, 25665, 25673, 25675, 25676, 25677, 25680, 25688, 25693, 25695, 25700, 25702, 25712, 25714, 25716, 25717, 25719, 25721, 25723, 25724, 25730, 25731, 25735, 25736, 25739, 25746, 25753, 25755, 25757, 25764, 25767, 25770, 25773, 25778, 25783, 25784, 25787, 25790, 25792, 25799, 25801, 25805, 25809, 25810, 25811, 25813, 25814, 25815, 25817, 25818, 25822, 25825, 25826, 25831, 25832, 25835, 25838, 25842, 25844, 25847, 25848, 25851, 25854, 25872, 25875, 25876, 25881, 25884, 25886, 25887, 25892, 25894, 25896, 25897, 25899, 25903, 25905, 25906, 25909, 25910, 25911, 25917, 25918, 25921, 25928, 25932, 25933, 25935, 25936, 25937, 25938, 25940, 25942, 25943, 25946, 25949, 25952, 25953, 25957, 25960, 25962, 25963, 25965, 25966, 25971, 25972, 25973, 25974, 25983, 25984, 25990, 25997, 26001, 26002, 26003, 26005, 26006, 26007, 26008, 26010, 26014, 26017, 26019, 26020, 26022, 26025, 26037, 26038, 26041, 26042, 26043, 26048, 26049, 26053, 26054, 26055, 26056, 26057, 26062, 26065, 26067, 26070, 26075, 26078, 26083, 26088, 26089, 26090, 26093, 26097, 26100, 26103, 26104, 26105, 26111, 26113, 26116, 26119, 26122, 26125, 26128, 26130, 26131, 26134, 26141, 26144, 26146, 26149, 26153, 26157, 26161, 26167, 26169, 26176, 26177, 26179, 26180, 26181, 26192, 26195, 26196, 26198, 26200, 26209, 26215, 26216, 26217, 26218, 26222, 26230, 26234, 26238, 26244, 26248, 26251, 26258, 26265, 26266, 26269, 26270, 26271, 26273, 26276, 26279, 26286, 26287, 26295, 26296, 26297, 26298, 26308, 26315, 26317, 26322, 26328, 26330, 26340, 26341, 26346, 26352, 26353, 26355, 26357, 26358, 26364, 26370, 26371, 26374, 26380, 26381, 26383, 26384, 26386, 26390, 26392, 26393, 26394, 26399, 26400, 26401, 26404, 26411, 26413, 26414, 26425, 26429, 26431, 26433, 26435, 26450, 26453, 26462, 26463, 26464, 26465, 26468, 26469, 26472, 26477, 26478, 26482, 26483, 26490, 26496, 26497, 26498, 26500, 26506, 26509, 26512, 26513, 26516, 26518, 26519, 26520, 26521, 26525, 26527, 26528, 26542, 26543, 26549, 26551, 26552, 26555, 26556, 26557, 26558, 26559, 26562, 26565, 26568, 26569, 26574, 26575, 26582, 26587, 26589, 26591, 26592, 26603, 26612, 26629, 26630, 26632, 26638, 26647, 26651, 26652, 26653, 26657, 26658, 26659, 26662, 26672, 26676, 26686, 26687, 26688, 26690, 26693, 26701, 26703, 26706, 26712, 26715, 26732, 26740, 26747, 26750, 26751, 26752, 26754, 26756, 26761, 26762, 26765, 26766, 26775, 26778, 26780, 26783, 26790, 26794, 26801, 26804, 26806, 26808, 26811, 26814, 26818, 26819, 26821, 26822, 26823, 26826, 26827, 26828, 26833, 26837, 26839, 26840, 26848, 26849, 26852, 26853, 26861, 26863, 26870, 26871, 26872, 26873, 26874, 26875, 26879, 26883, 26885, 26887, 26889, 26890, 26894, 26896, 26898, 26901, 26904, 26909, 26911, 26913, 26914, 26920, 26924, 26925, 26931, 26932, 26935, 26943, 26945, 26948, 26951, 26953, 26955, 26958, 26964, 26966, 26971, 26973, 26976, 26977, 26979, 26980, 26989, 26990, 26992, 26995, 26998, 26999, 27006, 27007, 27009, 27023, 27025, 27026, 27033, 27035, 27038, 27041, 27046, 27055, 27056, 27059, 27066, 27067, 27072, 27080, 27081, 27082, 27086, 27087, 27089, 27093, 27094, 27099, 27102, 27104, 27107, 27109, 27110, 27111, 27113, 27117, 27118, 27121, 27123, 27125, 27132, 27138, 27147, 27153, 27158, 27163, 27165, 27170, 27172, 27176, 27178, 27180, 27182, 27194, 27199, 27200, 27202, 27207, 27209, 27212, 27213, 27214, 27216, 27217, 27223, 27225, 27226, 27227, 27230, 27231, 27235, 27237, 27250, 27258, 27261, 27262, 27263, 27267, 27271, 27273, 27276, 27277, 27278, 27281, 27285, 27288, 27291, 27293, 27299, 27302, 27304, 27305, 27309, 27311, 27312, 27313, 27314, 27317, 27322, 27325, 27327, 27328, 27330, 27332, 27336, 27337, 27338, 27344, 27348, 27351, 27352, 27353, 27354, 27356, 27359, 27361, 27367, 27368, 27370, 27373, 27377, 27379, 27380, 27381, 27383, 27385, 27386, 27394, 27395, 27397, 27398, 27406, 27410, 27416, 27426, 27430, 27435, 27438, 27440, 27446, 27449, 27451, 27454, 27458, 27462, 27463, 27466, 27468, 27476, 27478, 27485, 27486, 27489, 27492, 27493, 27502, 27510, 27511, 27516, 27518, 27525, 27529, 27530, 27534, 27535, 27537, 27541, 27543, 27545, 27546, 27547, 27549, 27551, 27553, 27555, 27558, 27561, 27563, 27566, 27569, 27570, 27571, 27574, 27576, 27580, 27582, 27585, 27589, 27591, 27594, 27603, 27604, 27606, 27608, 27609, 27612, 27613, 27614, 27615, 27619, 27629, 27630, 27631, 27635, 27636, 27638, 27639, 27641, 27646, 27649, 27651, 27652, 27653, 27654, 27655, 27656, 27657, 27658, 27662, 27663, 27667, 27668, 27671, 27678, 27685, 27687, 27690, 27692, 27698, 27707, 27709, 27710, 27715, 27716, 27720, 27721, 27722, 27726, 27729, 27730, 27731, 27732, 27736, 27738, 27745, 27747, 27748, 27749, 27750, 27752, 27754, 27762, 27772, 27774, 27776, 27777, 27783, 27789, 27790, 27791, 27793, 27800, 27805, 27808, 27810, 27814, 27825, 27826, 27827, 27829, 27831, 27833, 27836, 27838, 27840, 27842, 27846, 27847, 27848, 27855, 27859, 27860, 27866, 27875, 27880, 27881, 27887, 27890, 27891, 27893, 27895, 27899, 27907, 27909, 27910, 27912, 27913, 27914, 27921, 27922, 27927, 27928, 27932, 27933, 27936, 27938, 27939, 27941, 27942, 27944, 27946, 27948, 27960, 27962, 27963, 27968, 27972, 27982, 27985, 27988, 27990, 27993, 27995, 27996, 27999, 28001, 28006, 28007, 28011, 28014, 28015, 28018, 28019, 28021, 28032, 28033, 28037, 28038, 28040, 28042, 28047, 28055, 28062, 28063, 28065, 28066, 28077, 28080, 28083, 28087, 28088, 28089, 28090, 28091, 28092, 28098, 28102, 28103, 28105, 28109, 28111, 28115, 28116, 28119, 28129, 28131, 28132, 28133, 28134, 28139, 28143, 28146, 28152, 28158, 28167, 28168, 28172, 28176, 28177, 28179, 28185, 28190, 28191, 28199, 28200, 28201, 28202, 28210, 28219, 28227, 28232, 28236, 28237, 28240, 28241, 28245, 28248, 28250, 28251, 28259, 28260, 28264, 28266, 28271, 28272, 28273, 28279, 28282, 28283, 28286, 28288, 28291, 28294, 28296, 28301, 28302, 28303, 28305, 28307, 28310, 28311, 28321, 28323, 28324, 28326, 28327, 28330, 28332, 28334, 28335, 28338, 28340, 28341, 28345, 28351, 28353, 28355, 28357, 28362, 28363, 28364, 28365, 28368, 28377, 28380, 28382, 28391, 28392, 28393, 28395, 28396, 28397, 28404, 28405, 28419, 28420, 28422, 28424, 28427, 28433, 28438, 28439, 28445, 28446, 28451, 28461, 28464, 28465, 28467, 28470, 28471, 28473, 28475, 28476, 28477, 28478, 28484, 28485, 28488, 28490, 28492, 28494, 28495, 28496, 28497, 28504, 28511, 28512, 28514, 28516, 28518, 28524, 28526, 28531, 28532, 28537, 28543, 28547, 28549, 28550, 28552, 28553, 28557, 28560, 28561, 28564, 28572, 28573, 28574, 28575, 28579, 28580, 28587, 28589, 28590, 28594, 28595, 28598, 28603, 28612, 28618, 28621, 28622, 28623, 28628, 28630, 28631, 28632, 28638, 28639, 28643, 28650, 28654, 28657, 28659, 28666, 28676, 28683, 28687, 28689, 28691, 28692, 28698, 28699, 28705, 28707, 28708, 28709, 28710, 28717, 28723, 28727, 28730, 28731, 28732, 28733, 28736, 28737, 28739, 28740, 28745, 28750, 28753, 28755, 28757, 28758, 28765, 28766, 28768, 28770, 28771, 28774, 28778, 28780, 28785, 28786, 28788, 28790, 28792, 28793, 28799, 28805, 28811, 28812, 28813, 28814, 28817, 28822, 28826, 28830, 28832, 28837, 28844, 28847, 28852, 28855, 28859, 28861, 28864, 28868, 28869, 28870, 28872, 28880, 28884, 28887, 28898, 28909, 28910, 28912, 28914, 28915, 28916, 28919, 28925, 28927, 28928, 28929, 28930, 28935, 28939, 28942, 28944, 28945, 28951, 28957, 28961, 28964, 28965, 28972, 28975, 28982, 28983, 28986, 28992, 29004, 29007, 29008, 29009, 29010, 29011, 29020, 29032, 29033, 29035, 29036, 29037, 29040, 29041, 29043, 29056, 29057, 29058, 29061, 29063, 29066, 29068, 29070, 29074, 29078, 29081, 29086, 29088, 29092, 29103, 29105, 29106, 29113, 29117, 29118, 29120, 29126, 29129, 29134, 29139, 29140, 29142, 29146, 29148, 29157, 29158, 29159, 29165, 29169, 29173, 29175, 29180, 29183, 29188, 29189, 29191, 29193, 29199, 29200, 29201, 29202, 29205, 29206, 29211, 29218, 29220, 29226, 29231, 29234, 29235, 29237, 29239, 29242, 29246, 29251, 29259, 29261, 29263, 29270, 29272, 29273, 29277, 29281, 29285, 29290, 29292, 29295, 29298, 29302, 29303, 29307, 29309, 29315, 29321, 29322, 29324, 29334, 29335, 29343, 29346, 29348, 29349, 29351, 29353, 29359, 29365, 29369, 29370, 29371, 29372, 29373, 29377, 29383, 29386, 29387, 29389, 29390, 29393, 29396, 29402, 29411, 29415, 29418, 29419, 29420, 29426, 29427, 29429, 29430, 29432, 29440, 29443, 29444, 29445, 29449, 29450, 29454, 29457, 29458, 29464, 29467, 29471, 29474, 29484, 29485, 29486, 29489, 29494, 29495, 29507, 29511, 29515, 29517, 29522, 29523, 29528, 29529, 29530, 29531, 29539, 29541, 29542, 29544, 29546, 29547, 29550, 29552, 29553, 29556, 29557, 29560, 29565, 29569, 29573, 29575, 29587, 29601, 29603, 29604, 29605, 29610, 29613, 29615, 29616, 29619, 29623, 29627, 29629, 29633, 29635, 29636, 29647, 29648, 29651, 29660, 29663, 29666, 29667, 29668, 29669, 29678, 29680, 29685, 29687, 29690, 29694, 29695, 29697, 29703, 29706, 29707, 29711, 29716, 29717, 29718, 29720, 29722, 29725, 29727, 29732, 29739, 29740, 29741, 29744, 29746, 29749, 29753, 29754, 29759, 29763, 29768, 29775, 29778, 29781, 29783, 29784, 29785, 29787, 29788, 29789, 29791, 29792, 29793, 29803, 29804, 29805, 29806, 29809, 29810, 29818, 29821, 29823, 29826, 29832, 29833, 29835, 29836, 29837, 29840, 29843, 29845, 29846, 29850, 29851, 29852, 29855, 29857, 29860, 29862, 29863, 29866, 29868, 29871, 29872, 29881, 29882, 29886, 29889, 29892, 29897, 29898, 29899, 29901, 29903, 29904, 29907, 29911, 29914, 29918, 29920, 29929, 29935, 29945, 29946, 29951, 29952, 29957, 29959, 29960, 29962, 29964, 29965, 29971, 29972, 29977, 29995, 29996, 30002, 30003, 30005, 30006, 30008, 30009, 30010, 30017, 30020, 30024, 30025, 30030, 30036, 30044, 30047, 30048, 30050, 30052, 30060, 30061, 30067, 30070, 30079, 30081, 30083, 30087, 30091, 30093, 30094, 30097, 30100, 30101, 30106, 30111, 30115, 30117, 30118, 30123, 30127, 30128, 30131, 30132, 30133, 30137, 30138, 30141, 30145, 30146, 30152, 30153, 30154, 30155, 30157, 30160, 30162, 30164, 30172, 30176, 30196, 30203, 30206, 30208, 30216, 30217, 30220, 30221, 30224, 30238, 30239, 30245, 30246, 30258, 30262, 30263, 30264, 30268, 30271, 30272, 30273, 30274, 30281, 30288, 30289, 30299, 30302, 30309, 30313, 30319, 30324, 30329, 30337, 30338, 30340, 30341, 30344, 30345, 30346, 30348, 30349, 30351, 30356, 30361, 30370, 30372, 30386, 30388, 30390, 30391, 30395, 30396, 30398, 30400, 30404, 30405, 30414, 30419, 30420, 30423, 30430, 30436, 30438, 30439, 30442, 30443, 30447, 30448, 30451, 30456, 30459, 30463, 30478, 30480, 30481, 30483, 30485, 30486, 30489, 30494, 30495, 30514, 30516, 30518, 30522, 30528, 30530, 30531, 30532, 30533, 30543, 30544, 30548, 30549, 30553, 30555, 30557, 30561, 30570, 30573, 30581, 30583, 30585, 30587, 30588, 30589, 30592, 30608, 30610, 30614, 30617, 30618, 30630, 30639, 30642, 30644, 30651, 30663, 30665, 30668, 30670, 30671, 30672, 30681, 30682, 30685, 30690, 30691, 30692, 30693, 30695, 30698, 30700, 30707, 30708, 30710, 30713, 30714, 30718, 30725, 30726, 30732, 30733, 30744, 30745, 30749, 30751, 30757, 30758, 30763, 30766, 30767, 30771, 30772, 30773, 30776, 30778, 30780, 30781, 30785, 30786, 30787, 30788, 30789, 30795, 30796, 30801, 30803, 30805, 30806, 30807, 30811, 30816, 30817, 30820, 30821, 30823, 30824, 30826, 30830, 30832, 30835, 30839, 30842, 30845, 30847, 30849, 30858, 30862, 30863, 30865, 30866, 30875, 30876, 30878, 30885, 30886, 30887, 30888, 30892, 30894, 30895, 30904, 30905, 30907, 30908, 30910, 30911, 30912, 30916, 30919, 30921, 30922, 30925, 30927, 30942, 30943, 30947, 30948, 30950, 30968, 30973, 30975, 30976, 30979, 30985, 30987, 30991, 30993, 30995, 30999, 31003, 31004, 31013, 31016, 31017, 31019, 31020, 31032, 31034, 31035, 31038, 31050, 31054, 31055, 31058, 31061, 31065, 31066, 31067, 31071, 31077, 31081, 31084, 31086, 31088, 31090, 31093, 31094, 31097, 31099, 31110, 31114, 31119, 31120, 31121, 31122, 31129, 31131, 31136, 31148, 31151, 31152, 31154, 31160, 31161, 31163, 31164, 31168, 31169, 31170, 31174, 31176, 31178, 31184, 31189, 31191, 31194, 31196, 31205, 31207, 31213, 31219, 31222, 31223, 31225, 31226, 31227, 31236, 31237, 31244, 31245, 31246, 31257, 31259, 31260, 31262, 31263, 31265, 31266, 31269, 31275, 31277, 31280, 31283, 31292, 31294, 31298, 31305, 31308, 31310, 31312, 31313, 31316, 31329, 31330, 31332, 31333, 31335, 31336, 31338, 31342, 31348, 31350, 31358, 31359, 31360, 31364, 31369, 31371, 31382, 31383, 31388, 31392, 31393, 31394, 31399, 31400, 31410, 31413, 31415, 31420, 31421, 31424, 31431, 31434, 31440, 31441, 31445, 31450, 31451, 31452, 31458, 31461, 31471, 31473, 31484, 31486, 31497, 31498, 31501, 31503, 31508, 31509, 31512, 31516, 31520, 31521, 31522, 31523, 31524, 31528, 31538, 31539, 31541, 31543, 31544, 31546, 31549, 31550, 31553, 31556, 31559, 31560, 31561, 31563, 31564, 31566, 31567, 31570, 31571, 31577, 31582, 31585, 31589, 31596, 31599, 31601, 31602, 31605, 31606, 31609, 31612, 31613, 31615, 31623, 31624, 31625, 31628, 31629, 31630, 31631, 31636, 31638, 31640, 31641, 31644, 31648, 31650, 31651, 31654, 31659, 31660, 31663, 31670, 31674, 31677, 31683, 31686, 31688, 31695, 31698, 31700, 31703, 31705, 31707, 31711, 31714, 31717, 31719, 31724, 31728, 31731, 31732, 31738, 31743, 31746, 31747, 31750, 31754, 31757, 31761, 31763, 31779, 31780, 31783, 31788, 31791, 31794, 31798, 31799, 31800, 31803, 31806, 31809, 31815, 31816, 31818, 31820, 31821, 31824, 31828, 31832, 31835, 31841, 31844, 31851, 31854, 31856, 31858, 31865, 31869, 31870, 31872, 31877, 31879, 31884, 31886, 31887, 31890, 31901, 31910, 31911, 31912, 31916, 31924, 31925, 31928, 31932, 31933, 31937, 31938, 31941, 31943, 31945, 31952, 31954, 31955, 31960, 31961, 31963, 31964, 31965, 31968, 31972, 31974, 31975, 31982, 31985, 31986, 31989, 31990, 31993, 31998, 31999, 32002, 32003, 32005, 32006, 32007, 32016, 32025, 32027, 32032, 32033, 32037, 32038, 32054, 32067, 32068, 32070, 32072, 32079, 32081, 32082, 32083, 32085, 32089, 32093, 32095, 32096, 32097, 32100, 32106, 32109, 32113, 32116, 32118, 32119, 32121, 32123, 32125, 32137, 32143, 32148, 32151, 32152, 32159, 32162, 32164, 32167, 32169, 32172, 32173, 32175, 32178, 32181, 32188, 32192, 32195, 32196, 32198, 32201, 32204, 32205, 32207, 32209, 32213, 32214, 32215, 32217, 32219, 32221, 32224, 32225, 32228, 32231, 32235, 32237, 32240, 32242, 32248, 32250, 32251, 32254, 32260, 32266, 32268, 32273, 32275, 32276, 32282, 32284, 32290, 32292, 32295, 32301, 32302, 32309, 32313, 32319, 32321, 32327, 32329, 32330, 32331, 32332, 32344, 32345, 32351, 32352, 32355, 32356, 32357, 32362, 32363, 32365, 32368, 32370, 32384, 32385, 32386, 32387, 32389, 32393, 32395, 32398, 32400, 32403, 32405, 32410, 32411, 32417, 32418, 32423, 32426, 32427, 32430, 32434, 32436, 32440, 32441, 32443, 32444, 32448, 32452, 32454, 32466, 32467, 32473, 32475, 32478, 32480, 32483, 32486, 32487, 32489, 32491, 32492, 32499, 32502, 32504, 32505, 32512, 32519, 32522, 32523, 32524, 32532, 32533, 32538, 32540, 32541, 32543, 32547, 32551, 32552, 32554, 32556, 32560, 32561, 32570, 32571, 32573, 32577, 32579, 32580, 32586, 32590, 32591, 32594, 32602, 32604, 32616, 32617, 32619, 32620, 32632, 32634, 32635, 32637, 32643, 32645, 32652, 32653, 32660, 32674, 32677, 32686, 32688, 32693, 32697, 32698, 32699, 32703, 32706, 32709, 32714, 32717, 32718, 32720, 32736, 32737, 32740, 32749, 32756, 32757, 32759, 32760, 32764, 32765, 32767, 32773, 32774, 32776, 32777, 32780, 32784, 32799, 32805, 32808, 32815, 32816, 32823, 32824, 32825, 32827, 32828, 32830, 32835, 32836, 32837, 32841, 32842, 32849, 32850, 32856, 32859, 32862, 32863, 32869, 32876, 32877, 32879, 32885, 32889, 32891, 32894, 32895, 32896, 32898, 32902, 32905, 32906, 32907, 32908, 32910, 32912, 32920, 32929, 32930, 32934, 32939, 32944, 32945, 32949, 32950, 32959, 32963, 32966, 32968, 32970, 32974, 32981, 32989, 32990, 33000, 33001, 33002, 33004, 33007, 33008, 33014, 33022, 33029, 33031, 33033, 33034, 33035, 33037, 33039, 33041, 33050, 33051, 33052, 33053, 33054, 33056, 33073, 33078, 33080, 33085, 33086, 33090, 33093, 33099, 33101, 33104, 33113, 33124, 33127, 33131, 33132, 33135, 33141, 33144, 33146, 33149, 33150, 33159, 33161, 33164, 33174, 33175, 33182, 33188, 33192, 33203, 33204, 33208, 33209, 33210, 33211, 33215, 33216, 33218, 33222, 33223, 33224, 33231, 33237, 33238, 33240, 33244, 33247, 33248, 33250, 33252, 33253, 33254, 33257, 33262, 33265, 33270, 33277, 33283, 33287, 33288, 33300, 33302, 33304, 33309, 33310, 33312, 33313, 33315, 33316, 33321, 33325, 33331, 33333, 33336, 33338, 33343, 33344, 33349, 33355, 33356, 33361, 33362, 33363, 33368, 33369, 33370, 33371, 33381, 33382, 33384, 33385, 33387, 33389, 33393, 33396, 33398, 33401, 33402, 33404, 33409, 33413, 33415, 33416, 33419, 33426, 33429, 33434, 33435, 33440, 33441, 33445, 33446, 33447, 33451, 33452, 33454, 33456, 33460, 33463, 33466, 33467, 33468, 33475, 33476, 33479, 33481, 33485, 33488, 33489, 33497, 33504, 33509, 33515, 33517, 33522, 33524, 33526, 33527, 33528, 33530, 33540, 33541, 33542, 33543, 33544, 33552, 33561, 33562, 33567, 33568, 33570, 33571, 33573, 33574, 33575, 33579, 33584, 33588, 33590, 33593, 33594, 33595, 33600, 33611, 33612, 33626, 33628, 33634, 33635, 33637, 33640, 33641, 33644, 33647, 33648, 33651, 33654, 33656, 33658, 33659, 33661, 33662, 33670, 33673, 33675, 33676, 33681, 33683, 33692, 33704, 33706, 33712, 33715, 33720, 33722, 33724, 33732, 33733, 33735, 33737, 33743, 33749, 33750, 33756, 33758, 33761, 33766, 33768, 33769, 33775, 33777, 33779, 33784, 33791, 33792, 33793, 33798, 33800, 33801, 33803, 33806, 33808, 33810, 33816, 33823, 33824, 33825, 33830, 33835, 33836, 33839, 33840, 33844, 33847, 33850, 33857, 33859, 33863, 33867, 33869, 33871, 33873, 33874, 33878, 33884, 33886, 33891, 33899, 33900, 33901, 33902, 33903, 33904, 33905, 33911, 33919, 33922, 33924, 33925, 33928, 33929, 33934, 33935, 33940, 33956, 33957, 33961, 33963, 33969, 33972, 33973, 33975, 33982, 33983, 33989, 33992, 33993, 33995, 33996, 34000, 34001, 34004, 34006, 34007, 34009, 34010, 34016, 34026, 34028, 34031, 34032, 34035, 34037, 34040, 34047, 34050, 34051, 34059, 34060, 34061, 34062, 34064, 34069, 34071, 34074, 34082, 34085, 34086, 34089, 34090, 34092, 34096, 34099, 34102, 34104, 34105, 34106, 34112, 34118, 34120, 34123, 34126, 34136, 34140, 34144, 34145, 34146, 34148, 34150, 34152, 34153, 34154, 34155, 34156, 34158, 34159, 34162, 34169, 34171, 34176, 34183, 34184, 34185, 34190, 34196, 34198, 34206, 34211, 34225, 34226, 34232, 34233, 34234, 34236, 34241, 34244, 34247, 34250, 34251, 34260, 34269, 34270, 34274, 34276, 34278, 34282, 34287, 34289, 34291, 34292, 34293, 34297, 34303, 34304, 34309, 34313, 34314, 34318, 34321, 34324, 34328, 34329, 34330, 34332, 34340, 34341, 34345, 34346, 34348, 34350, 34352, 34358, 34360, 34361, 34368, 34381, 34394, 34397, 34400, 34406, 34407, 34409, 34410, 34413, 34416, 34418, 34424, 34426, 34434, 34438, 34439, 34441, 34444, 34446, 34453, 34459, 34461, 34466, 34469, 34471, 34475, 34476, 34478, 34480, 34484, 34487, 34491, 34493, 34499, 34500, 34503, 34505, 34509, 34517, 34530, 34531, 34532, 34537, 34542, 34547, 34549, 34550, 34551, 34552, 34553, 34559, 34560, 34562, 34564, 34565, 34566, 34568, 34569, 34577, 34589, 34590, 34596, 34597, 34599, 34600, 34601, 34602, 34603, 34606, 34608, 34612, 34615, 34617, 34618, 34619, 34620, 34621, 34624, 34625, 34627, 34630, 34631, 34632, 34648, 34649, 34657, 34658, 34663, 34664, 34667, 34672, 34683, 34684, 34688, 34691, 34692, 34704, 34705, 34706, 34707, 34710, 34713, 34716, 34718, 34719, 34721, 34722, 34723, 34724, 34725, 34728, 34729, 34734, 34736, 34739, 34741, 34742, 34743, 34744, 34747, 34751, 34753, 34755, 34766, 34771, 34780, 34782, 34787, 34799, 34800, 34803, 34804, 34805, 34809, 34811, 34815, 34820, 34823, 34825, 34832, 34833, 34834, 34835, 34838, 34839, 34842, 34843, 34844, 34853, 34857, 34858, 34861, 34866, 34867, 34870, 34872, 34874, 34879, 34884, 34887, 34888, 34906, 34907, 34913, 34914, 34920, 34921, 34924, 34930, 34931, 34932, 34933, 34935, 34937, 34939, 34950, 34954, 34961, 34962, 34965, 34966, 34967, 34970, 34989, 34994, 34997, 34998, 35001, 35002, 35004, 35006, 35008, 35009, 35010, 35012, 35016, 35017, 35018, 35024, 35025, 35035, 35037, 35040, 35042, 35047, 35051, 35054, 35056, 35060, 35066, 35068, 35070, 35073, 35076, 35078, 35081, 35082, 35084, 35087, 35091, 35092, 35093, 35094, 35096, 35100, 35111, 35112, 35116, 35118, 35121, 35123, 35124, 35125, 35127, 35128, 35131, 35133, 35137, 35139, 35140, 35141, 35151, 35154, 35155, 35164, 35166, 35172, 35177, 35181, 35182, 35183, 35190, 35194, 35196, 35197, 35202, 35204, 35211, 35212, 35217, 35218, 35220, 35221, 35232, 35234, 35239, 35242, 35245, 35247, 35249, 35252, 35254, 35255, 35261, 35262, 35264, 35265, 35270, 35272, 35273, 35282, 35291, 35294, 35299, 35306, 35309, 35310, 35318, 35325, 35326, 35332, 35343, 35350, 35355, 35357, 35358, 35361, 35372, 35373, 35380, 35381, 35385, 35390, 35394, 35401, 35402, 35403, 35404, 35407, 35410, 35415, 35417, 35418, 35421, 35423, 35425, 35426, 35430, 35436, 35438, 35443, 35445, 35446, 35453, 35459, 35460, 35461, 35462, 35464, 35469, 35477, 35481, 35482, 35484, 35488, 35495, 35500, 35501, 35502, 35507, 35508, 35517, 35521, 35530, 35532, 35535, 35536, 35540, 35542, 35543, 35546, 35550, 35558, 35560, 35561, 35562, 35565, 35566, 35567, 35570, 35573, 35574, 35579, 35580, 35584, 35590, 35593, 35594, 35597, 35598, 35601, 35602, 35604, 35607, 35609, 35615, 35621, 35622, 35627, 35631, 35634, 35637, 35638, 35642, 35646, 35653, 35656, 35657, 35661, 35663, 35664, 35665, 35668, 35674, 35680, 35681, 35685, 35702, 35705, 35710, 35714, 35716, 35718, 35721, 35723, 35725, 35728, 35732, 35735, 35736, 35738, 35747, 35749, 35751, 35752, 35753, 35760, 35762, 35765, 35767, 35770, 35771, 35778, 35780, 35783, 35792, 35793, 35794, 35798, 35800, 35801, 35802, 35806, 35808, 35820, 35821, 35823, 35824, 35826, 35828, 35830, 35834, 35837, 35842, 35847, 35850, 35851, 35854, 35856, 35857, 35859, 35861, 35862, 35864, 35879, 35881, 35882, 35884, 35904, 35906, 35911, 35913, 35916, 35917, 35918, 35921, 35924, 35927, 35928, 35929, 35931, 35940, 35943, 35945, 35950, 35951, 35952, 35957, 35960, 35961, 35962, 35964, 35970, 35972, 35977, 35978, 35980, 35983, 35985, 35987, 35988, 35990, 35992, 35993, 35997, 35998, 36005, 36007, 36011, 36020, 36027, 36031, 36032, 36039, 36043, 36044, 36049, 36057, 36058, 36060, 36061, 36069, 36072, 36074, 36076, 36077, 36078, 36081, 36083, 36086, 36087, 36088, 36091, 36093, 36094, 36096, 36098, 36101, 36104, 36105, 36106, 36107, 36108, 36119, 36121, 36126, 36127, 36136, 36137, 36140, 36143, 36145, 36148, 36154, 36155, 36159, 36160, 36164, 36167, 36168, 36169, 36174, 36178, 36179, 36183, 36184, 36185, 36186, 36187, 36190, 36197, 36200, 36204, 36205, 36207, 36214, 36222, 36223, 36230, 36232, 36234, 36241, 36243, 36244, 36254, 36256, 36259, 36260, 36272, 36275, 36277, 36278, 36287, 36288, 36292, 36293, 36296, 36298, 36300, 36301, 36317, 36322, 36325, 36331, 36334, 36341, 36342, 36343, 36344, 36345, 36346, 36348, 36349, 36350, 36351, 36356, 36357, 36358, 36362, 36367, 36370, 36373, 36376, 36377, 36382, 36386, 36388, 36389, 36396, 36399, 36410, 36411, 36416, 36420, 36421, 36431, 36434, 36435, 36436, 36439, 36441, 36445, 36448, 36450, 36452, 36453, 36454, 36457, 36460, 36461, 36462, 36466, 36471, 36473, 36475, 36479, 36480, 36483, 36488, 36496, 36497, 36501, 36506, 36509, 36511, 36514, 36516, 36519, 36534, 36541, 36544, 36546, 36550, 36554, 36555, 36562, 36563, 36579, 36582, 36583, 36584, 36597, 36602, 36612, 36615, 36618, 36619, 36632, 36637, 36639, 36641, 36642, 36643, 36644, 36649, 36651, 36654, 36659, 36661, 36665, 36674, 36678, 36688, 36689, 36699, 36701, 36704, 36706, 36707, 36712, 36717, 36720, 36725, 36728, 36732, 36737, 36739, 36741, 36745, 36748, 36749, 36750, 36752, 36754, 36758, 36766, 36767, 36768, 36769, 36788, 36789, 36790, 36791, 36795, 36799, 36802, 36803, 36804, 36810, 36812, 36816, 36820, 36821, 36823, 36829, 36832, 36834, 36837, 36838, 36840, 36842, 36843, 36844, 36845, 36847, 36851, 36853, 36855, 36858, 36871, 36872, 36877, 36880, 36881, 36882, 36894, 36896, 36900, 36905, 36907, 36909, 36910, 36916, 36919, 36920, 36922, 36928, 36930, 36931, 36932, 36936, 36938, 36939, 36942, 36947, 36949, 36953, 36955, 36958, 36960, 36961, 36962, 36964, 36965, 36966, 36967, 36974, 36978, 36980, 36981, 36983, 36988, 36989, 37003, 37005, 37011, 37016, 37018, 37020, 37030, 37035, 37038, 37039, 37042, 37043, 37046, 37048, 37051, 37053, 37054, 37056, 37058, 37059, 37060, 37068, 37072, 37073, 37079, 37085, 37086, 37089, 37090, 37101, 37104, 37106, 37107, 37108, 37111, 37123, 37124, 37127, 37128, 37130, 37133, 37134, 37140, 37141, 37144, 37156, 37159, 37161, 37163, 37167, 37168, 37170, 37177, 37180, 37183, 37185, 37187, 37189, 37196, 37200, 37210, 37211, 37212, 37216, 37221, 37230, 37235, 37236, 37240, 37241, 37243, 37244, 37247, 37248, 37249, 37251, 37252, 37255, 37268, 37269, 37274, 37275, 37277, 37279, 37285, 37289, 37293, 37301, 37302, 37305, 37311, 37313, 37314, 37315, 37316, 37317, 37323, 37324, 37334, 37342, 37348, 37349, 37352, 37353, 37356, 37357, 37360, 37374, 37378, 37380, 37386, 37387, 37394, 37396, 37398, 37399, 37402, 37403, 37408, 37410, 37412, 37417, 37418, 37420, 37421, 37428, 37431, 37432, 37440, 37442, 37452, 37463, 37466, 37470, 37472, 37473, 37474, 37483, 37484, 37486, 37487, 37488, 37494, 37499, 37501, 37503, 37507, 37510, 37518, 37520, 37523, 37529, 37531, 37539, 37540, 37548, 37554, 37557, 37559, 37575, 37577, 37578, 37586, 37589, 37593, 37599, 37600, 37603, 37605, 37609, 37610, 37611, 37612, 37615, 37620, 37630, 37638, 37641, 37642, 37644, 37655, 37656, 37660, 37671, 37672, 37674, 37679, 37681, 37685, 37686, 37687, 37692, 37694, 37696, 37698, 37703, 37709, 37710, 37712, 37724, 37728, 37732, 37733, 37734, 37735, 37737, 37742, 37743, 37744, 37746, 37747, 37748, 37752, 37758, 37765, 37766, 37767, 37770, 37771, 37777, 37778, 37779, 37780, 37781, 37784, 37785, 37796, 37797, 37798, 37801, 37807, 37813, 37819, 37822, 37827, 37829, 37830, 37833, 37841, 37848, 37849, 37854, 37858, 37860, 37861, 37864, 37869, 37876, 37879, 37884, 37888, 37893, 37896, 37902, 37910, 37911, 37912, 37917, 37918, 37922, 37923, 37925, 37932, 37933, 37934, 37937, 37938, 37940, 37941, 37943, 37947, 37949, 37950, 37959, 37966, 37969, 37975, 37979, 37987, 37991, 38000, 38007, 38009, 38010, 38012, 38015, 38018, 38024, 38029, 38038, 38039, 38042, 38045, 38046, 38055, 38057, 38061, 38063, 38066, 38071, 38073, 38077, 38081, 38084, 38089, 38090, 38092, 38093, 38094, 38095, 38096, 38098, 38102, 38103, 38111, 38113, 38115, 38118, 38119, 38120, 38121, 38122, 38124, 38127, 38128, 38131, 38132, 38135, 38138, 38139, 38140, 38143, 38145, 38150, 38154, 38162, 38163, 38164, 38167, 38168, 38171, 38172, 38173, 38175, 38178, 38179, 38181, 38182, 38190, 38198, 38200, 38202, 38204, 38208, 38213, 38214, 38217, 38221, 38225, 38227, 38228, 38230, 38231, 38232, 38233, 38241, 38244, 38245, 38246, 38248, 38249, 38250, 38252, 38257, 38259, 38260, 38265, 38268, 38269, 38271, 38277, 38280, 38281, 38287, 38290, 38293, 38296, 38298, 38305, 38309, 38310, 38311, 38316, 38321, 38322, 38323, 38325, 38326, 38327, 38331, 38335, 38336, 38339, 38340, 38344, 38345, 38346, 38350, 38351, 38355, 38356, 38360, 38363, 38369, 38378, 38382, 38383, 38386, 38388, 38393, 38397, 38408, 38411, 38412, 38413, 38415, 38416, 38417, 38418, 38421, 38422, 38423, 38428, 38433, 38437, 38439, 38440, 38441, 38445, 38446, 38455, 38459, 38461, 38466, 38473, 38474, 38478, 38480, 38482, 38483, 38485, 38497, 38499, 38501, 38502, 38506, 38508, 38511, 38512, 38516, 38518, 38526, 38530, 38536, 38537, 38539, 38541, 38542, 38546, 38548, 38550, 38551, 38552, 38553, 38559, 38564, 38565, 38567, 38568, 38569, 38570, 38573, 38578, 38579, 38583, 38584, 38593, 38594, 38598, 38599, 38601, 38603, 38612, 38615, 38620, 38626, 38627, 38628, 38630, 38632, 38634, 38635, 38637, 38639, 38657, 38658, 38661, 38665, 38667, 38673, 38677, 38687, 38691, 38693, 38699, 38701, 38704, 38709, 38710, 38717, 38720, 38722, 38730, 38731, 38734, 38743, 38748, 38749, 38751, 38755, 38757, 38760, 38763, 38768, 38773, 38774, 38776, 38777, 38782, 38786, 38799, 38802, 38805, 38806, 38807, 38809, 38812, 38814, 38815, 38818, 38821, 38823, 38824, 38826, 38828, 38829, 38830, 38832, 38837, 38839, 38842, 38844, 38847, 38848, 38850, 38851, 38852, 38855, 38858, 38864, 38868, 38872, 38881, 38896, 38898, 38900, 38905, 38909, 38912, 38913, 38914, 38917, 38928, 38940, 38941, 38942, 38943, 38944, 38947, 38950, 38957, 38959, 38961, 38962, 38964, 38965, 38971, 38972, 38975, 38976, 38977, 38979, 38988, 38997, 39000, 39001, 39002, 39005, 39006, 39018, 39020, 39024, 39025, 39026, 39027, 39033, 39044, 39055, 39057, 39059, 39063, 39064, 39071, 39072, 39074, 39075, 39079, 39082, 39083, 39087, 39101, 39102, 39114, 39117, 39123, 39125, 39129, 39131, 39132, 39134, 39138, 39143, 39147, 39148, 39153, 39159, 39160, 39163, 39164, 39168, 39170, 39173, 39175, 39177, 39178, 39180, 39188, 39194, 39197, 39201, 39202, 39206, 39208, 39210, 39211, 39214, 39215, 39216, 39218, 39219, 39221, 39230, 39231, 39232, 39233, 39235, 39243, 39247, 39250, 39251, 39253, 39255, 39257, 39268, 39271, 39274, 39275, 39287, 39288, 39291, 39294, 39295, 39297, 39298, 39300, 39303, 39308, 39310, 39314, 39318, 39319, 39324, 39332, 39336, 39338, 39340, 39342, 39344, 39348, 39350, 39352, 39353, 39355, 39360, 39362, 39368, 39371, 39373, 39374, 39377, 39380, 39383, 39386, 39388, 39391, 39392, 39394, 39409, 39416, 39419, 39427, 39432, 39433, 39441, 39443, 39444, 39445, 39450, 39457, 39461, 39462, 39463, 39477, 39480, 39481, 39485, 39489, 39494, 39499, 39500, 39503, 39508, 39518, 39519, 39521, 39524, 39526, 39532, 39535, 39538, 39540, 39542, 39547, 39551, 39553, 39556, 39557, 39558, 39560, 39563, 39567, 39574, 39576, 39578, 39588, 39589, 39596, 39600, 39607, 39608, 39610, 39624, 39628, 39630, 39632, 39639, 39645, 39646, 39652, 39653, 39659, 39663, 39666, 39668, 39669, 39671, 39672, 39673, 39682, 39684, 39695, 39697, 39703, 39707, 39710, 39711, 39712, 39713, 39714, 39722, 39723, 39726, 39728, 39731, 39733, 39734, 39735, 39747, 39749, 39750, 39754, 39755, 39763, 39768, 39771, 39775, 39777, 39778, 39785, 39786, 39788, 39789, 39791, 39792, 39795, 39798, 39799, 39802, 39803, 39810, 39816, 39824, 39825, 39827, 39831, 39832, 39833, 39835, 39836, 39840, 39847, 39856, 39860, 39862, 39864, 39868, 39876, 39877, 39884, 39887, 39888, 39892, 39893, 39895, 39897, 39901, 39905, 39907, 39910, 39912, 39914, 39915, 39920, 39921, 39922, 39924, 39932, 39935, 39936, 39937, 39943, 39944, 39947, 39952, 39956, 39958, 39960, 39968, 39973, 39976, 39977, 39982, 39985, 39990, 39994, 39995, 39996, 40000, 40005, 40009, 40011, 40014, 40017, 40020, 40021, 40022, 40039, 40040, 40042, 40043, 40045, 40046, 40047, 40048, 40049, 40052, 40055, 40058, 40060, 40071, 40073, 40075, 40079, 40083, 40085, 40088, 40094, 40096, 40097, 40100, 40106, 40107, 40109, 40111, 40115, 40119, 40122, 40123, 40124, 40128, 40131, 40132, 40136, 40139, 40142, 40149, 40153, 40154, 40156, 40157, 40169, 40174, 40175, 40180, 40185, 40195, 40201, 40207, 40212, 40216, 40217, 40218, 40219, 40221, 40231, 40232, 40234, 40240, 40241, 40242, 40249, 40255, 40263, 40268, 40269, 40271, 40273, 40274, 40275, 40276, 40279, 40281, 40284, 40290, 40293, 40299, 40300, 40307, 40311, 40317, 40318, 40320, 40322, 40327, 40328, 40329, 40331, 40338, 40342, 40343, 40347, 40354, 40355, 40358, 40366, 40367, 40371, 40376, 40378, 40382, 40384, 40392, 40394, 40398, 40401, 40402, 40404, 40407, 40411, 40415, 40416, 40422, 40430, 40433, 40434, 40441, 40444, 40445, 40456, 40458, 40461, 40462, 40468, 40469, 40471, 40474, 40476, 40478, 40480, 40483, 40485, 40488, 40490, 40491, 40493, 40497, 40499, 40502, 40505, 40509, 40511, 40512, 40513, 40519, 40521, 40523, 40526, 40528, 40529, 40530, 40532, 40536, 40539, 40549, 40556, 40558, 40559, 40560, 40563, 40566, 40567, 40569, 40572, 40574, 40575, 40576, 40581, 40590, 40592, 40595, 40597, 40598, 40600, 40604, 40606, 40607, 40609, 40610, 40612, 40613, 40615, 40616, 40617, 40621, 40623, 40624, 40633, 40634, 40635, 40636, 40638, 40639, 40646, 40648, 40649, 40650, 40651, 40653, 40657, 40664, 40668, 40669, 40672, 40676, 40680, 40683, 40686, 40689, 40694, 40696, 40699, 40701, 40706, 40710, 40711, 40712, 40713, 40715, 40716, 40718, 40720, 40722, 40724, 40728, 40730, 40737, 40740, 40741, 40742, 40749, 40758, 40775, 40776, 40780, 40781, 40786, 40795, 40796, 40797, 40801, 40805, 40806, 40810, 40813, 40815, 40817, 40820, 40821, 40825, 40826, 40828, 40829, 40830, 40848, 40859, 40865, 40870, 40872, 40874, 40875, 40879, 40881, 40884, 40887, 40896, 40898, 40901, 40903, 40906, 40909, 40912, 40913, 40918, 40920, 40921, 40924, 40926, 40927, 40931, 40933, 40935, 40939, 40952, 40953, 40956, 40961, 40965, 40967, 40971, 40972, 40973, 40991, 40992, 40995, 40998, 40999, 41004, 41015, 41019, 41020, 41022, 41025, 41026, 41031, 41032, 41033, 41034, 41037, 41038, 41044, 41049, 41051, 41052, 41064, 41066, 41069, 41073, 41078, 41079, 41083, 41088, 41099, 41100, 41105, 41107, 41108, 41109, 41111, 41113, 41116, 41119, 41122, 41125, 41126, 41132, 41138, 41142, 41144, 41147, 41156, 41158, 41159, 41160, 41161, 41168, 41172, 41175, 41180, 41185, 41186, 41187, 41191, 41192, 41194, 41197, 41198, 41199, 41203, 41206, 41207, 41216, 41219, 41224, 41227, 41228, 41231, 41234, 41237, 41242, 41243, 41246, 41248, 41249, 41250, 41253, 41256, 41259, 41260, 41261, 41262, 41264, 41265, 41266, 41267, 41269, 41270, 41271, 41272, 41275, 41276, 41283, 41285, 41286, 41291, 41292, 41294, 41300, 41306, 41308, 41312, 41316, 41317, 41319, 41325, 41329, 41331, 41339, 41346, 41348, 41349, 41353, 41359, 41360, 41363, 41372, 41376, 41379, 41382, 41387, 41390, 41391, 41392, 41393, 41398, 41399, 41402, 41403, 41405, 41406, 41407, 41408, 41410, 41414, 41416, 41417, 41418, 41419, 41420, 41421, 41429, 41431, 41433, 41437, 41438, 41440, 41445, 41449, 41450, 41453, 41464, 41465, 41468, 41469, 41470, 41474, 41475, 41477, 41484, 41499, 41502, 41503, 41504, 41506, 41507, 41508, 41510, 41514, 41517, 41525, 41529, 41534, 41535, 41536, 41541, 41548, 41554, 41556, 41558, 41561, 41565, 41568, 41569, 41571, 41573, 41574, 41578, 41579, 41581, 41582, 41583, 41586, 41587, 41591, 41598, 41601, 41604, 41605, 41608, 41611, 41612, 41616, 41621, 41639, 41641, 41649, 41652, 41653, 41658, 41659, 41660, 41666, 41674, 41678, 41682, 41687, 41688, 41690, 41699, 41706, 41708, 41712, 41714, 41722, 41723, 41732, 41734, 41739, 41755, 41756, 41757, 41758, 41761, 41767, 41768, 41770, 41772, 41775, 41778, 41780, 41781, 41783, 41794, 41796, 41797, 41799, 41801, 41803, 41805, 41809, 41810, 41813, 41820, 41822, 41824, 41831, 41836, 41837, 41851, 41855, 41860, 41862, 41871, 41874, 41876, 41877, 41879, 41884, 41887, 41890, 41897, 41898, 41904, 41911, 41915, 41917, 41919, 41923, 41926, 41929, 41931, 41933, 41938, 41941, 41944, 41946, 41949, 41958, 41960, 41970, 41971, 41976, 41978, 41979, 41983, 41984, 41994, 42001, 42003, 42008, 42009, 42014, 42015, 42017, 42022, 42023, 42029, 42030, 42034, 42038, 42043, 42044, 42046, 42051, 42057, 42060, 42068, 42069, 42077, 42078, 42086, 42090, 42095, 42096, 42102, 42104, 42105, 42111, 42113, 42117, 42119, 42120, 42121, 42122, 42130, 42135, 42136, 42149, 42151, 42153, 42154, 42158, 42162, 42163, 42166, 42168, 42171, 42180, 42186, 42189, 42204, 42211, 42212, 42213, 42214, 42217, 42218, 42219, 42220, 42226, 42233, 42236, 42245, 42251, 42253, 42254, 42258, 42260, 42266, 42270, 42271, 42273, 42276, 42279, 42280, 42282, 42288, 42298, 42300, 42301, 42304, 42313, 42315, 42316, 42319, 42321, 42322, 42323, 42329, 42331, 42334, 42335, 42337, 42341, 42342, 42344, 42349, 42353, 42354, 42355, 42360, 42364, 42365, 42366, 42367, 42368, 42381, 42389, 42394, 42395, 42401, 42402, 42407, 42408, 42411, 42414, 42422, 42423, 42426, 42428, 42431, 42432, 42440, 42447, 42456, 42457, 42459, 42461, 42464, 42465, 42466, 42467, 42469, 42470, 42471, 42473, 42485, 42490, 42491, 42495, 42496, 42501, 42507, 42510, 42513, 42515, 42516, 42517, 42519, 42522, 42526, 42527, 42528, 42531, 42532, 42540, 42541, 42542, 42543, 42546, 42548, 42558, 42560, 42561, 42563, 42573, 42574, 42580, 42581, 42582, 42591, 42594, 42596, 42602, 42603, 42609, 42610, 42612, 42614, 42616, 42619, 42621, 42624, 42625, 42631, 42635, 42637, 42638, 42639, 42642, 42656, 42657, 42658, 42660, 42662, 42666, 42667, 42668, 42671, 42679, 42690, 42691, 42692, 42693, 42700, 42702, 42703, 42704, 42708, 42717, 42718, 42719, 42721, 42723, 42726, 42732, 42742, 42745, 42752, 42753, 42756, 42758, 42759, 42762, 42763, 42765, 42767, 42768, 42769, 42770, 42775, 42778, 42785, 42788, 42790, 42792, 42793, 42795, 42804, 42808, 42810, 42811, 42812, 42814, 42815, 42818, 42819, 42822, 42824, 42830, 42831, 42832, 42836, 42837, 42839, 42844, 42849, 42851, 42853, 42858, 42859, 42862, 42875, 42878, 42881, 42892, 42894, 42897, 42901, 42906, 42907, 42910, 42918, 42919, 42924, 42932, 42933, 42934, 42936, 42938, 42941, 42945, 42946, 42949, 42951, 42955, 42957, 42958, 42962, 42964, 42968, 42974, 42976, 42983, 42985, 42986, 42987, 42989, 42990, 42992, 42993, 42998, 43003, 43004, 43005, 43006, 43010, 43016, 43022, 43025, 43027, 43030, 43033, 43035, 43038, 43039, 43041, 43043, 43051, 43052, 43053, 43054, 43056, 43057, 43059, 43067, 43068, 43072, 43076, 43082, 43090, 43092, 43094, 43099, 43101, 43104, 43106, 43110, 43118, 43120, 43121, 43123, 43125, 43126, 43127, 43130, 43133, 43134, 43137, 43139, 43141, 43145, 43146, 43150, 43157, 43159, 43160, 43161, 43167, 43170, 43172, 43177, 43179, 43180, 43182, 43184, 43189, 43191, 43192, 43193, 43194, 43197, 43201, 43206, 43207, 43211, 43212, 43213, 43219, 43221, 43224, 43229, 43230, 43232, 43234, 43238, 43247, 43266, 43273, 43277, 43278, 43280, 43283, 43287, 43294, 43303, 43304, 43310, 43312, 43317, 43319, 43321, 43345, 43346, 43353, 43354, 43356, 43357, 43361, 43364, 43366, 43371, 43374, 43377, 43378, 43379, 43382, 43385, 43396, 43397, 43398, 43399, 43401, 43402, 43408, 43409, 43411, 43412, 43417, 43423, 43428, 43431, 43436, 43437, 43448, 43460, 43461, 43466, 43468, 43470, 43474, 43492, 43497, 43499, 43510, 43511, 43519, 43520, 43521, 43523, 43524, 43525, 43526, 43530, 43531, 43537, 43540, 43546, 43547, 43551, 43556, 43565, 43571, 43576, 43578, 43583, 43587, 43592, 43598, 43602, 43606, 43610, 43613, 43616, 43617, 43619, 43626, 43646, 43651, 43653, 43654, 43655, 43659, 43664, 43665, 43671, 43672, 43676, 43679, 43682, 43693, 43697, 43698, 43699, 43702, 43710, 43713, 43715, 43718, 43720, 43724, 43727, 43728, 43730, 43732, 43733, 43734, 43736, 43743, 43747, 43748, 43756, 43758, 43766, 43767, 43774, 43782, 43783, 43785, 43790, 43791, 43798, 43799, 43801, 43802, 43804, 43805, 43807, 43808, 43810, 43814, 43816, 43818, 43820, 43824, 43825, 43828, 43832, 43834, 43837, 43839, 43842, 43843, 43847, 43851, 43852, 43857, 43862, 43868, 43869, 43874, 43877, 43878, 43881, 43882, 43883, 43886, 43893, 43899, 43900, 43905, 43906, 43909, 43910, 43911, 43913, 43916, 43917, 43922, 43927, 43941, 43942, 43959, 43961, 43964, 43965, 43966, 43976, 43989, 43991, 43994, 43997, 43998, 44000, 44002, 44003, 44004, 44005, 44007, 44008, 44016, 44024, 44028, 44032, 44033, 44035, 44039, 44042, 44044, 44045, 44049, 44052, 44054, 44056, 44057, 44064, 44069, 44072, 44076, 44078, 44086, 44094, 44099, 44101, 44105, 44108, 44111, 44116, 44118, 44119, 44139, 44142, 44144, 44145, 44146, 44149, 44152, 44154, 44157, 44158, 44161, 44162, 44164, 44168, 44173, 44176, 44178, 44179, 44184, 44192, 44194, 44198, 44200, 44205, 44206, 44208, 44210, 44213, 44214, 44216, 44218, 44225, 44228, 44231, 44234, 44235, 44236, 44237, 44244, 44255, 44265, 44267, 44274, 44277, 44279, 44280, 44284, 44286, 44288, 44291, 44292, 44293, 44297, 44298, 44301, 44304, 44307, 44310, 44313, 44315, 44332, 44336, 44337, 44339, 44341, 44344, 44348, 44354, 44361, 44362, 44363, 44364, 44366, 44378, 44379, 44381, 44390, 44391, 44393, 44395, 44403, 44406, 44415, 44419, 44424, 44429, 44435, 44436, 44438, 44443, 44446, 44447, 44449, 44451, 44454, 44455, 44459, 44462, 44463, 44465, 44466, 44468, 44471, 44477, 44479, 44482, 44483, 44484, 44485, 44489, 44490, 44492, 44498, 44499, 44500, 44501, 44503, 44504, 44506, 44509, 44516, 44521, 44525, 44528, 44529, 44531, 44537, 44538, 44540, 44541, 44545, 44549, 44550, 44551, 44556, 44564, 44565, 44566, 44569, 44571, 44573, 44575, 44578, 44580, 44581, 44582, 44588, 44589, 44590, 44600, 44602, 44605, 44607, 44609, 44610, 44611, 44612, 44614, 44615, 44622, 44623, 44626, 44628, 44631, 44633, 44635, 44640, 44642, 44643, 44646, 44648, 44649, 44652, 44658, 44660, 44665, 44667, 44670, 44677, 44678, 44679, 44680, 44685, 44690, 44696, 44700, 44707, 44713, 44715, 44716, 44718, 44719, 44722, 44724, 44726, 44729, 44734, 44735, 44742, 44743, 44744, 44745, 44749, 44757, 44758, 44761, 44762, 44763, 44764, 44765, 44766, 44769, 44771, 44775, 44776, 44783, 44784, 44785, 44786, 44787, 44788, 44791, 44795, 44798, 44799, 44806, 44809, 44812, 44816, 44819, 44826, 44828, 44833, 44837, 44844, 44847, 44849, 44852, 44853, 44858, 44859, 44862, 44863, 44864, 44868, 44878, 44881, 44883, 44887, 44894, 44895, 44898, 44903, 44905, 44909, 44910, 44911, 44912, 44913, 44917, 44919, 44921, 44923, 44928, 44929, 44934, 44939, 44944, 44945, 44951, 44952, 44953, 44957, 44961, 44962, 44963, 44964, 44965, 44968, 44975, 44977, 44978, 44980, 44989, 44990, 44991, 44994, 44995, 44997, 44999, 45005, 45010, 45013, 45017, 45020, 45021, 45023, 45027, 45031, 45032, 45034, 45038, 45041, 45043, 45049, 45054, 45055, 45056, 45059, 45066, 45073, 45074, 45075, 45076, 45078, 45080, 45085, 45086, 45092, 45095, 45101, 45105, 45109, 45113, 45114, 45116, 45117, 45119, 45121, 45123, 45128, 45130, 45132, 45137, 45145, 45146, 45147, 45149, 45150, 45161, 45162, 45166, 45168, 45173, 45181, 45182, 45183, 45193, 45195, 45198, 45199, 45200, 45202, 45204, 45209, 45210, 45214, 45219, 45223, 45232, 45234, 45236, 45241, 45245, 45246, 45248, 45251, 45258, 45260, 45261, 45264, 45265, 45272, 45276, 45277, 45284, 45289, 45295, 45296, 45299, 45302, 45304, 45306, 45308, 45309, 45318, 45327, 45330, 45333, 45339, 45340, 45344, 45356, 45360, 45362, 45363, 45364, 45367, 45369, 45372, 45374, 45375, 45376, 45377, 45381, 45390, 45391, 45394, 45401, 45404, 45407, 45408, 45409, 45414, 45417, 45418, 45420, 45421, 45422, 45428, 45430, 45431, 45439, 45440, 45441, 45445, 45446, 45449, 45456, 45460, 45461, 45464, 45466, 45467, 45468, 45470, 45471, 45472, 45473, 45474, 45475, 45480, 45483, 45486, 45487, 45488, 45493, 45494, 45496, 45498, 45500, 45501, 45503, 45506, 45507, 45510, 45516, 45520, 45521, 45524, 45525, 45530, 45535, 45539, 45542, 45548, 45549, 45553, 45554, 45555, 45561, 45563, 45569, 45572, 45573, 45574, 45577, 45578, 45580, 45586, 45590, 45595, 45597, 45598, 45600, 45602, 45603, 45613, 45614, 45615, 45616, 45617, 45621, 45622, 45623, 45647, 45648, 45653, 45656, 45667, 45668, 45669, 45671, 45674, 45677, 45678, 45680, 45684, 45685, 45687, 45688, 45690, 45695, 45698, 45704, 45709, 45711, 45715, 45716, 45717, 45718, 45721, 45723, 45726, 45729, 45733, 45735, 45741, 45743, 45744, 45752, 45753, 45758, 45761, 45763, 45764, 45773, 45778, 45785, 45788, 45789, 45790, 45803, 45812, 45813, 45814, 45815, 45816, 45819, 45821, 45824, 45826, 45829, 45830, 45832, 45833, 45837, 45839, 45843, 45845, 45849, 45854, 45856, 45858, 45862, 45864, 45865, 45881, 45887, 45891, 45895, 45902, 45910, 45911, 45912, 45914, 45918, 45919, 45921, 45922, 45923, 45926, 45927, 45931, 45932, 45937, 45940, 45947, 45948, 45954, 45958, 45960, 45961, 45962, 45972, 45975, 45977, 45978, 45980, 45982, 45987, 45992, 45994, 45995, 45996, 45999, 46000, 46001, 46002, 46007, 46011, 46012, 46018, 46021, 46027, 46031, 46038, 46039, 46041, 46044, 46047, 46049, 46050, 46051, 46053, 46054, 46056, 46057, 46061, 46062, 46063, 46064, 46079, 46083, 46085, 46088, 46089, 46091, 46092, 46093, 46096, 46098, 46106, 46109, 46114, 46115, 46116, 46122, 46129, 46131, 46132, 46138, 46140, 46142, 46148, 46151, 46153, 46154, 46155, 46160, 46163, 46164, 46166, 46167, 46168, 46170, 46172, 46173, 46175, 46181, 46183, 46186, 46187, 46191, 46198, 46209, 46213, 46215, 46216, 46217, 46218, 46219, 46220, 46228, 46231, 46233, 46234, 46237, 46238, 46243, 46245, 46248, 46249, 46251, 46253, 46257, 46262, 46263, 46265, 46266, 46269, 46271, 46273, 46275, 46281, 46284, 46285, 46286, 46292, 46294, 46295, 46296, 46298, 46302, 46305, 46306, 46317, 46325, 46326, 46328, 46331, 46334, 46338, 46340, 46341, 46342, 46345, 46346, 46349, 46353, 46356, 46358, 46360, 46361, 46363, 46365, 46369, 46373, 46374, 46378, 46379, 46380, 46383, 46389, 46398, 46403, 46407, 46410, 46424, 46426, 46427, 46431, 46432, 46434, 46435, 46439, 46440, 46448, 46449, 46453, 46455, 46460, 46465, 46466, 46469, 46474, 46475, 46478, 46480, 46485, 46489, 46496, 46497, 46500, 46501, 46511, 46512, 46515, 46517, 46518, 46519, 46522, 46527, 46529, 46532, 46534, 46535, 46537, 46539, 46540, 46545, 46546, 46547, 46555, 46556, 46557, 46559, 46562, 46573, 46574, 46580, 46581, 46583, 46588, 46590, 46596, 46600, 46601, 46602, 46603, 46608, 46609, 46615, 46623, 46628, 46630, 46631, 46633, 46635, 46638, 46639, 46640, 46642, 46648, 46649, 46654, 46655, 46659, 46665, 46667, 46668, 46678, 46682, 46693, 46695, 46696, 46706, 46710, 46711, 46719, 46724, 46727, 46735, 46736, 46737, 46740, 46746, 46751, 46754, 46762, 46771, 46774, 46775, 46778, 46782, 46784, 46798, 46799, 46800, 46801, 46804, 46805, 46806, 46809, 46812, 46813, 46817, 46818, 46823, 46828, 46831, 46835, 46838, 46841, 46843, 46845, 46848, 46852, 46860, 46865, 46866, 46871, 46882, 46885, 46892, 46896, 46903, 46907, 46910, 46916, 46919, 46922, 46925, 46926, 46932, 46936, 46938, 46947, 46952, 46958, 46961, 46964, 46969, 46972, 46974, 46976, 46980, 46987, 46990, 46995, 46999, 47001, 47004, 47005, 47008, 47010, 47016, 47018, 47019, 47020, 47031, 47032, 47035, 47037, 47039, 47040, 47041, 47046, 47048, 47049, 47056, 47057, 47059, 47062, 47063, 47066, 47067, 47072, 47073, 47077, 47083, 47089, 47090, 47091, 47105, 47106, 47110, 47117, 47119, 47121, 47122, 47123, 47130, 47131, 47133, 47143, 47157, 47159, 47162, 47177, 47178, 47180, 47198, 47203, 47204, 47206, 47212, 47215, 47217, 47220, 47224, 47225, 47227, 47231, 47233, 47234, 47236, 47237, 47239, 47247, 47248, 47250, 47253, 47264, 47266, 47267, 47268, 47270, 47272, 47273, 47274, 47279, 47280, 47283, 47285, 47286, 47287, 47290, 47291, 47292, 47297, 47298, 47300, 47301, 47304, 47313, 47315, 47324, 47331, 47340, 47341, 47344, 47345, 47352, 47354, 47355, 47370, 47371, 47372, 47374, 47376, 47378, 47380, 47384, 47387, 47388, 47389, 47391, 47397, 47399, 47400, 47401, 47404, 47405, 47408, 47414, 47415, 47426, 47433, 47440, 47442, 47443, 47452, 47456, 47458, 47463, 47465, 47470, 47474, 47478, 47482, 47485, 47490, 47495, 47496, 47497, 47517, 47518, 47519, 47520, 47522, 47523, 47525, 47528, 47530, 47537, 47547, 47549, 47550, 47552, 47553, 47555, 47557, 47578, 47580, 47581, 47588, 47595, 47596, 47604, 47606, 47612, 47614, 47618, 47619, 47621, 47622, 47624, 47626, 47627, 47630, 47632, 47634, 47636, 47638, 47639, 47640, 47645, 47652, 47653, 47658, 47676, 47677, 47680, 47686, 47687, 47691, 47692, 47695, 47696, 47697, 47702, 47709, 47716, 47725, 47731, 47732, 47737, 47740, 47741, 47742, 47748, 47753, 47754, 47757, 47758, 47759, 47760, 47764, 47765, 47767, 47770, 47773, 47776, 47778, 47779, 47782, 47785, 47789, 47791, 47794, 47797, 47798, 47800, 47806, 47808, 47810, 47811, 47813, 47817, 47819, 47823, 47832, 47835, 47838, 47839, 47840, 47843, 47849, 47855, 47860, 47864, 47865, 47869, 47872, 47874, 47878, 47881, 47884, 47886, 47890, 47894, 47896, 47897, 47898, 47908, 47909, 47912, 47914, 47916, 47917, 47928, 47935, 47936, 47942, 47943, 47944, 47945, 47946, 47950, 47955, 47957, 47958, 47959, 47960, 47969, 47970, 47971, 47978, 47980, 47981, 47983, 47984, 47993, 47996, 47997, 48005, 48009, 48018, 48020, 48027, 48030, 48032, 48039, 48041, 48046, 48048, 48055, 48068, 48078, 48084, 48090, 48092, 48095, 48096, 48099, 48102, 48103, 48106, 48110, 48112, 48115, 48135, 48136, 48138, 48140, 48142, 48144, 48147, 48149, 48151, 48156, 48158, 48161, 48162, 48163, 48166, 48171, 48174, 48176, 48178, 48179, 48183, 48186, 48188, 48190, 48191, 48196, 48197, 48199, 48205, 48209, 48214, 48218, 48224, 48225, 48227, 48230, 48233, 48235, 48236, 48237, 48240, 48243, 48244, 48253, 48255, 48258, 48265, 48272, 48279, 48286, 48288, 48290, 48292, 48294, 48295, 48299, 48300, 48306, 48307, 48308, 48309, 48311, 48315, 48316, 48323, 48324, 48327, 48329, 48331, 48332, 48334, 48335, 48338, 48343, 48344, 48350, 48359, 48362, 48365, 48366, 48368, 48373, 48379, 48383, 48387, 48389, 48396, 48405, 48406, 48411, 48414, 48420, 48422, 48424, 48429, 48433, 48437, 48440, 48442, 48447, 48448, 48452, 48461, 48466, 48467, 48468, 48471, 48472, 48480, 48481, 48482, 48484, 48485, 48487, 48488, 48490, 48504, 48512, 48517, 48518, 48520, 48523, 48527, 48528, 48536, 48542, 48547, 48548, 48551, 48558, 48562, 48563, 48575, 48577, 48586, 48587, 48590, 48593, 48594, 48596, 48600, 48604, 48606, 48611, 48612, 48614, 48615, 48618, 48621, 48622, 48623, 48624, 48629, 48640, 48643, 48644, 48649, 48653, 48655, 48657, 48667, 48676, 48681, 48686, 48687, 48691, 48693, 48695, 48696, 48699, 48702, 48707, 48711, 48713, 48715, 48722, 48723, 48724, 48732, 48737, 48743, 48744, 48751, 48752, 48754, 48760, 48764, 48766, 48767, 48768, 48769, 48773, 48777, 48780, 48786, 48787, 48794, 48795, 48797, 48815, 48821, 48824, 48825, 48833, 48835, 48837, 48842, 48844, 48846, 48851, 48854, 48861, 48862, 48864, 48868, 48870, 48873, 48874, 48876, 48879, 48880, 48887, 48889, 48892, 48893, 48895, 48896, 48897, 48898, 48899, 48901, 48908, 48911, 48913, 48919, 48921, 48922, 48925, 48928, 48930, 48936, 48938, 48939, 48942, 48944, 48945, 48949, 48953, 48955, 48957, 48960, 48962, 48963, 48964, 48971, 48973, 48974, 48980, 48983, 48984, 48996, 48998, 49001, 49004, 49008, 49009, 49015, 49023, 49027, 49028, 49029, 49031, 49035, 49038, 49052, 49058, 49059, 49060, 49061, 49066, 49067, 49068, 49070, 49073, 49082, 49092, 49093, 49094, 49095, 49097, 49100, 49105, 49106, 49108, 49109, 49118, 49119, 49120, 49127, 49128, 49131, 49132, 49136, 49139, 49141, 49142, 49159, 49168, 49169, 49171, 49180, 49186, 49191, 49193, 49196, 49199, 49200, 49203, 49207, 49212, 49218, 49220, 49224, 49225, 49226, 49229, 49231, 49235, 49240, 49243, 49244, 49246, 49249, 49252, 49261, 49263, 49267, 49268, 49270, 49274, 49289, 49290, 49291, 49295, 49296, 49297, 49298, 49299, 49304, 49305, 49306, 49307, 49309, 49315, 49317, 49319, 49320, 49321, 49322, 49324, 49326, 49327, 49329, 49330, 49332, 49334, 49340, 49342, 49346, 49355, 49358, 49363, 49369, 49374, 49375, 49381, 49383, 49386, 49394, 49399, 49400, 49408, 49410, 49414, 49415, 49417, 49418, 49419, 49424, 49425, 49431, 49433, 49443, 49445, 49449, 49453, 49457, 49459, 49462, 49467, 49472, 49473, 49481, 49485, 49487, 49488, 49489, 49492, 49495, 49497, 49499, 49501, 49504, 49505, 49506, 49507, 49512, 49514, 49515, 49519, 49520, 49525, 49527, 49538, 49545, 49547, 49548, 49555, 49556, 49557, 49558, 49559, 49562, 49566, 49567, 49578, 49580, 49581, 49583, 49586, 49601, 49604, 49605, 49607, 49612, 49615, 49616, 49617, 49630, 49645, 49646, 49649, 49655, 49656, 49657, 49658, 49662, 49666, 49672, 49676, 49678, 49684, 49685, 49686, 49694, 49697, 49703, 49708, 49709, 49713, 49715, 49718, 49721, 49723, 49724, 49727, 49738, 49740, 49744, 49745, 49749, 49750, 49751, 49753, 49754, 49756, 49757, 49761, 49764, 49767, 49770, 49777, 49789, 49794, 49795, 49796, 49799, 49800, 49804, 49806, 49807, 49809, 49825, 49826, 49831, 49832, 49835, 49851, 49852, 49853, 49856, 49863, 49865, 49866, 49868, 49870, 49872, 49875, 49878, 49879, 49881, 49885, 49887, 49888, 49893, 49895, 49897, 49899, 49901, 49906, 49909, 49911, 49914, 49919, 49923, 49924, 49927, 49933, 49944, 49948, 49951, 49953, 49954, 49955, 49959, 49962, 49963, 49964, 49971, 49972, 49974, 49977, 49983, 49987, 49989, 49991, 49993, 49995, 49997, 49999, 50001, 50003, 50005, 50008, 50009, 50010, 50013, 50016, 50019, 50022, 50026, 50027, 50048, 50049, 50050, 50059, 50069, 50088, 50096, 50101, 50102, 50105, 50118, 50120, 50121, 50123, 50127, 50131, 50132, 50140, 50142, 50145, 50148, 50159, 50161, 50163, 50164, 50166, 50171, 50173, 50181, 50182, 50183, 50184, 50187, 50188, 50189, 50190, 50191, 50192, 50194, 50198, 50202, 50205, 50206, 50207, 50209, 50210, 50211, 50214, 50216, 50237, 50248, 50250, 50257, 50258, 50261, 50263, 50266, 50269, 50276, 50278, 50280, 50288, 50297, 50298, 50301, 50314, 50317, 50318, 50319, 50323, 50325, 50328, 50334, 50336, 50341, 50344, 50348, 50352, 50354, 50356, 50358, 50361, 50367, 50373, 50382, 50387, 50388, 50392, 50394, 50396, 50398, 50400, 50408, 50411, 50412, 50414, 50416, 50423, 50424, 50435, 50436, 50439, 50442, 50449, 50460, 50462, 50464, 50465, 50471, 50478, 50479, 50484, 50487, 50489, 50492, 50504, 50512, 50513, 50514, 50515, 50516, 50519, 50522, 50524, 50525, 50527, 50529, 50540, 50541, 50543, 50544, 50547, 50552, 50556, 50559, 50566, 50567, 50569, 50571, 50573, 50579, 50580, 50584, 50587, 50591, 50592, 50594, 50595, 50605, 50608, 50610, 50612, 50616, 50617, 50628, 50634, 50635, 50636, 50639, 50640, 50649, 50650, 50657, 50661, 50662, 50664, 50666, 50667, 50669, 50671, 50680, 50681, 50686, 50698, 50701, 50703, 50707, 50714, 50715, 50717, 50721, 50732, 50733, 50735, 50753, 50754, 50758, 50760, 50764, 50766, 50769, 50770, 50782, 50784, 50787, 50789, 50792, 50796, 50798, 50801, 50804, 50805, 50807, 50810, 50814, 50817, 50818, 50822, 50826, 50829, 50832, 50834, 50835, 50837, 50838, 50839, 50841, 50844, 50845, 50846, 50847, 50865, 50870, 50872, 50876, 50879, 50883, 50889, 50890, 50892, 50893, 50895, 50901, 50902, 50907, 50908, 50909, 50911, 50913, 50914, 50915, 50921, 50924, 50927, 50929, 50931, 50935, 50937, 50939, 50949, 50950, 50951, 50955, 50957, 50965, 50971, 50977, 50979, 50982, 50983, 50989, 50990, 50992, 50996, 50998, 51002, 51006, 51010, 51011, 51016, 51024, 51029, 51031, 51034, 51042, 51046, 51057, 51059, 51061, 51067, 51069, 51072, 51073, 51075, 51087, 51088, 51091, 51098, 51099, 51100, 51110, 51116, 51118, 51123, 51131, 51133, 51138, 51140, 51149, 51154, 51155, 51157, 51159, 51162, 51163, 51175, 51178, 51179, 51180, 51184, 51190, 51192, 51193, 51194, 51195, 51197, 51199, 51200, 51203, 51204, 51205, 51209, 51210, 51212, 51214, 51223, 51226, 51229, 51230, 51233, 51234, 51236, 51237, 51239, 51240, 51241, 51245, 51246, 51249, 51254, 51255, 51256, 51258, 51261, 51265, 51270, 51274, 51284, 51286, 51294, 51295, 51298, 51299, 51305, 51310, 51315, 51319, 51320, 51325, 51331, 51337, 51339, 51343, 51345, 51346, 51353, 51359, 51366, 51388, 51392, 51395, 51401, 51405, 51406, 51412, 51415, 51416, 51423, 51425, 51426, 51427, 51430, 51431, 51437, 51447, 51449, 51451, 51454, 51457, 51459, 51460, 51462, 51467, 51468, 51476, 51479, 51480, 51484, 51487, 51488, 51489, 51494, 51506, 51509, 51512, 51515, 51517, 51520, 51523, 51526, 51532, 51538, 51543, 51544, 51555, 51556, 51557, 51558, 51569, 51570, 51573, 51575, 51577, 51579, 51583, 51584, 51589, 51590, 51591, 51593, 51596, 51604, 51605, 51606, 51609, 51610, 51612, 51613, 51614, 51617, 51621, 51622, 51623, 51624, 51625, 51626, 51629, 51630, 51635, 51636, 51643, 51644, 51646, 51647, 51648, 51654, 51661, 51663, 51672, 51675, 51676, 51678, 51685, 51687, 51695, 51699, 51702, 51704, 51709, 51710, 51711, 51716, 51723, 51724, 51725, 51729, 51730, 51732, 51733, 51735, 51739, 51743, 51745, 51748, 51752, 51754, 51756, 51759, 51760, 51763, 51768, 51776, 51777, 51784, 51791, 51794, 51798, 51803, 51805, 51807, 51813, 51814, 51818, 51820, 51821, 51824, 51826, 51829, 51830, 51831, 51840, 51841, 51844, 51847, 51848, 51849, 51851, 51852, 51853, 51854, 51856, 51858, 51863, 51866, 51869, 51872, 51873, 51880, 51881, 51882, 51883, 51886, 51889, 51892, 51897, 51898, 51900, 51902, 51904, 51906, 51911, 51925, 51927, 51928, 51930, 51934, 51935, 51940, 51942, 51943, 51944, 51950, 51953, 51954, 51955, 51973, 51974, 51976, 51978, 51984, 51987, 51995, 51998, 51999, 52002, 52004, 52007, 52008, 52010, 52011, 52013, 52016, 52023, 52025, 52028, 52030, 52031, 52040, 52042, 52046, 52050, 52052, 52053, 52058, 52059, 52064, 52069, 52071, 52077, 52079, 52080, 52081, 52087, 52088, 52090, 52092, 52094, 52096, 52097, 52112, 52114, 52118, 52126, 52128, 52129, 52130, 52132, 52135, 52136, 52137, 52138, 52141, 52145, 52163, 52167, 52168, 52170, 52172, 52173, 52177, 52181, 52185, 52186, 52189, 52198, 52200, 52201, 52211, 52213, 52216, 52217, 52219, 52220, 52229, 52231, 52236, 52240, 52244, 52245, 52248, 52253, 52258, 52259, 52261, 52263, 52265, 52268, 52269, 52272, 52281, 52286, 52288, 52289, 52290, 52291, 52295, 52296, 52299, 52304, 52306, 52315, 52321, 52323, 52327, 52332, 52334, 52338, 52340, 52341, 52355, 52358, 52362, 52364, 52368, 52369, 52371, 52375, 52376, 52379, 52381, 52389, 52390, 52397, 52398, 52407, 52410, 52411, 52420, 52431, 52432, 52433, 52435, 52442, 52444, 52448, 52449, 52450, 52451, 52461, 52462, 52463, 52467, 52470, 52473, 52482, 52492, 52494, 52495, 52500, 52501, 52506, 52507, 52508, 52513, 52517, 52521, 52523, 52525, 52527, 52531, 52535, 52537, 52539, 52541, 52544, 52547, 52548, 52551, 52553, 52554, 52556, 52558, 52559, 52561, 52570, 52578, 52579, 52580, 52584, 52586, 52587, 52588, 52590, 52598, 52606, 52615, 52616, 52617, 52618, 52621, 52622, 52623, 52625, 52628, 52630, 52631, 52634, 52635, 52636, 52644, 52647, 52648, 52649, 52652, 52654, 52655, 52657, 52666, 52671, 52674, 52680, 52682, 52684, 52689, 52692, 52693, 52694, 52698, 52702, 52704, 52706, 52708, 52711, 52718, 52721, 52726, 52728, 52730, 52734, 52735, 52737, 52738, 52740, 52748, 52751, 52766, 52768, 52774, 52777, 52779, 52780, 52786, 52787, 52788, 52789, 52790, 52796, 52797, 52798, 52799, 52806, 52809, 52812, 52813, 52817, 52820, 52823, 52825, 52826, 52827, 52831, 52844, 52846, 52848, 52851, 52853, 52856, 52859, 52861, 52863, 52864, 52870, 52875, 52878, 52882, 52885, 52887, 52888, 52891, 52893, 52894, 52895, 52897, 52898, 52902, 52904, 52919, 52924, 52926, 52927, 52931, 52940, 52947, 52952, 52956, 52958, 52961, 52962, 52971, 52972, 52975, 52980, 52984, 52987, 52993, 52994, 52999, 53001, 53003, 53004, 53005, 53008, 53009, 53010, 53019, 53021, 53024, 53027, 53029, 53030, 53035, 53043, 53050, 53051, 53052, 53056, 53063, 53066, 53072, 53073, 53074, 53076, 53077, 53080, 53081, 53085, 53093, 53101, 53102, 53105, 53110, 53113, 53115, 53117, 53118, 53122, 53127, 53128, 53130, 53138, 53150, 53152, 53153, 53156, 53158, 53163, 53164, 53167, 53169, 53171, 53175, 53176, 53177, 53178, 53180, 53181, 53189, 53198, 53202, 53204, 53205, 53215, 53218, 53221, 53227, 53239, 53243, 53250, 53254, 53255, 53257, 53259, 53265, 53268, 53280, 53281, 53284, 53288, 53292, 53295, 53297, 53299, 53301, 53310, 53312, 53317, 53324, 53326, 53329, 53330, 53332, 53335, 53343, 53344, 53347, 53356, 53361, 53365, 53367, 53369, 53371, 53373, 53374, 53375, 53380, 53381, 53385, 53391, 53392, 53394, 53395, 53396, 53400, 53401, 53403, 53404, 53405, 53411, 53413, 53415, 53417, 53420, 53421, 53423, 53425, 53432, 53437, 53439, 53445, 53447, 53449, 53455, 53460, 53465, 53469, 53481, 53485, 53487, 53488, 53491, 53495, 53497, 53500, 53502, 53510, 53513, 53516, 53522, 53523, 53534, 53535, 53537, 53538, 53544, 53548, 53552, 53562, 53567, 53575, 53579, 53584, 53587, 53593, 53594, 53595, 53596, 53600, 53601, 53602, 53603, 53606, 53609, 53613, 53616, 53617, 53618, 53621, 53623, 53624, 53631, 53633, 53635, 53638, 53641, 53642, 53644, 53655, 53658, 53659, 53662, 53669, 53674, 53675, 53676, 53678, 53681, 53684, 53685, 53689, 53691, 53693, 53695, 53697, 53698, 53700, 53701, 53705, 53706, 53712, 53713, 53715, 53716, 53717, 53719, 53725, 53726, 53728, 53729, 53730, 53731, 53733, 53739, 53740, 53741, 53742, 53747, 53748, 53752, 53758, 53759, 53762, 53767, 53776, 53779, 53783, 53784, 53786, 53790, 53791, 53795, 53803, 53804, 53805, 53807, 53811, 53812, 53816, 53818, 53819, 53820, 53824, 53825, 53830, 53834, 53837, 53839, 53842, 53845, 53848, 53852, 53853, 53854, 53860, 53864, 53865, 53869, 53874, 53876, 53882, 53883, 53884, 53887, 53892, 53896, 53899, 53900, 53901, 53904, 53906, 53910, 53911, 53913, 53914, 53915, 53916, 53922, 53926, 53927, 53930, 53935, 53936, 53937, 53949, 53951, 53956, 53957, 53959, 53960, 53967, 53968, 53970, 53971, 53973, 53974, 53975, 53976, 53978, 53979, 53984, 53985, 53991, 54002, 54003, 54005, 54008, 54009, 54010, 54012, 54020, 54023, 54024, 54027, 54028, 54030, 54051, 54053, 54056, 54062, 54063, 54069, 54074, 54076, 54078, 54083, 54084, 54086, 54087, 54088, 54091, 54093, 54096, 54098, 54099, 54110, 54111, 54115, 54117, 54119, 54120, 54127, 54129, 54136, 54140, 54141, 54142, 54143, 54145, 54148, 54153, 54159, 54163, 54176, 54184, 54188, 54189, 54197, 54198, 54200, 54202, 54212, 54215, 54216, 54217, 54218, 54219, 54220, 54224, 54229, 54232, 54239, 54243, 54244, 54245, 54247, 54249, 54250, 54252, 54254, 54259, 54263, 54264, 54266, 54268, 54281, 54282, 54285, 54291, 54293, 54303, 54304, 54309, 54311, 54315, 54316, 54319, 54327, 54331, 54334, 54337, 54342, 54347, 54348, 54353, 54354, 54363, 54367, 54373, 54374, 54376, 54377, 54378, 54380, 54382, 54386, 54391, 54392, 54396, 54398, 54403, 54405, 54407, 54412, 54415, 54418, 54419, 54423, 54425, 54426, 54427, 54428, 54435, 54438, 54440, 54446, 54447, 54450, 54458, 54459, 54461, 54462, 54465, 54472, 54479, 54485, 54486, 54489, 54493, 54497, 54501, 54504, 54505, 54506, 54507, 54509, 54513, 54518, 54519, 54520, 54522, 54529, 54535, 54537, 54539, 54542, 54545, 54547, 54551, 54554, 54562, 54563, 54566, 54569, 54570, 54571, 54575, 54577, 54580, 54583, 54584, 54585, 54586, 54590, 54597, 54609, 54610, 54612, 54613, 54619, 54624, 54626, 54633, 54634, 54638, 54643, 54650, 54658, 54664, 54667, 54668, 54669, 54670, 54671, 54676, 54678, 54682, 54687, 54688, 54692, 54697, 54699, 54701, 54702, 54704, 54713, 54715, 54716, 54718, 54726, 54729, 54730, 54731, 54732, 54734, 54738, 54739, 54742, 54744, 54745, 54746, 54749, 54751, 54758, 54761, 54764, 54767, 54780, 54781, 54782, 54783, 54784, 54787, 54799, 54800, 54801, 54803, 54805, 54806, 54808, 54824, 54826, 54833, 54843, 54844, 54859, 54862, 54870, 54872, 54880, 54881, 54882, 54890, 54897, 54905, 54912, 54921, 54924, 54928, 54932, 54933, 54935, 54941, 54947, 54950, 54951, 54953, 54955, 54956, 54957, 54962, 54965, 54968, 54971, 54973, 54976, 54981, 54983, 54989, 54991, 54992, 54993, 54997, 55000, 55005, 55010, 55011, 55021, 55025, 55031, 55032, 55040, 55043, 55044, 55046, 55049, 55050, 55053, 55060, 55064, 55067, 55069, 55073, 55075, 55076, 55078, 55079, 55086, 55088, 55090, 55092, 55093, 55104, 55106, 55107, 55110, 55112, 55115, 55121, 55123, 55129, 55131, 55135, 55136, 55137, 55139, 55142, 55144, 55149, 55160, 55171, 55173, 55179, 55183, 55192, 55194, 55195, 55199, 55210, 55223, 55224, 55230, 55233, 55235, 55239, 55241, 55242, 55243, 55244, 55249, 55250, 55255, 55266, 55268, 55270, 55273, 55274, 55277, 55292, 55296, 55301, 55309, 55315, 55317, 55318, 55319, 55322, 55326, 55327, 55329, 55334, 55337, 55339, 55340, 55342, 55343, 55344, 55346, 55347, 55350, 55352, 55356, 55365, 55368, 55370, 55373, 55374, 55377, 55392, 55397, 55400, 55407, 55409, 55413, 55416, 55419, 55420, 55426, 55433, 55436, 55437, 55442, 55444, 55449, 55450, 55453, 55456, 55458, 55461, 55465, 55470, 55474, 55475, 55478, 55479, 55482, 55489, 55492, 55498, 55500, 55501, 55502, 55510, 55515, 55516, 55525, 55529, 55530, 55542, 55543, 55547, 55554, 55562, 55563, 55565, 55566, 55567, 55570, 55572, 55577, 55578, 55580, 55586, 55587, 55591, 55595, 55596, 55602, 55603, 55609, 55611, 55615, 55617, 55618, 55620, 55624, 55625, 55627, 55632, 55634, 55640, 55644, 55647, 55649, 55652, 55654, 55658, 55659, 55666, 55668, 55671, 55677, 55682, 55690, 55691, 55709, 55720, 55723, 55727, 55728, 55732, 55734, 55739, 55740, 55744, 55746, 55747, 55749, 55750, 55751, 55752, 55754, 55755, 55759, 55760, 55761, 55765, 55769, 55771, 55775, 55778, 55781, 55785, 55790, 55802, 55803, 55810, 55813, 55818, 55828, 55832, 55836, 55839, 55841, 55844, 55848, 55854, 55855, 55858, 55867, 55869, 55870, 55871, 55874, 55876, 55878, 55880, 55893, 55894, 55895, 55896, 55897, 55898, 55900, 55901, 55905, 55915, 55916, 55917, 55918, 55921, 55928, 55930, 55933, 55941, 55943, 55944, 55948, 55951, 55956, 55958, 55959, 55974, 55975, 55976, 55981, 55986, 55992, 55994, 55995, 56002, 56003, 56005, 56013, 56014, 56017, 56030, 56038, 56044, 56050, 56053, 56057, 56060, 56061, 56065, 56068, 56070, 56078, 56083, 56084, 56085, 56088, 56090, 56095, 56096, 56097, 56101, 56104, 56110, 56111, 56113, 56115, 56121, 56124, 56130, 56136, 56141, 56151, 56155, 56156, 56159, 56166, 56171, 56173, 56176, 56182, 56188, 56191, 56193, 56198, 56201, 56204, 56207, 56210, 56211, 56212, 56214, 56215, 56219, 56223, 56228, 56236, 56237, 56244, 56245, 56247, 56248, 56250, 56253, 56255, 56256, 56260, 56261, 56264, 56272, 56273, 56274, 56276, 56283, 56286, 56288, 56289, 56291, 56297, 56299, 56303, 56304, 56311, 56315, 56317, 56320, 56326, 56329, 56332, 56336, 56337, 56339, 56340, 56342, 56346, 56350, 56357, 56358, 56365, 56366, 56369, 56370, 56371, 56377, 56392, 56393, 56402, 56404, 56407, 56410, 56413, 56416, 56418, 56421, 56424, 56426, 56433, 56434, 56435, 56442, 56443, 56448, 56451, 56454, 56458, 56460, 56465, 56467, 56468, 56471, 56472, 56473, 56482, 56488, 56501, 56503, 56506, 56507, 56513, 56517, 56519, 56521, 56527, 56528, 56532, 56536, 56538, 56540, 56542, 56543, 56547, 56549, 56551, 56557, 56562, 56563, 56577, 56578, 56580, 56586, 56587, 56588, 56589, 56592, 56593, 56599, 56601, 56602, 56611, 56614, 56615, 56618, 56625, 56627, 56633, 56634, 56636, 56637, 56643, 56646, 56647, 56648, 56655, 56658, 56662, 56667, 56673, 56674, 56676, 56681, 56687, 56688, 56694, 56695, 56699, 56705, 56707, 56708, 56711, 56715, 56719, 56721, 56723, 56726, 56729, 56739, 56740, 56742, 56744, 56746, 56750, 56751, 56752, 56760, 56761, 56764, 56769, 56773, 56776, 56779, 56781, 56782, 56787, 56792, 56798, 56801, 56803, 56810, 56814, 56815, 56820, 56823, 56824, 56828, 56833, 56834, 56840, 56841, 56843, 56854, 56856, 56861, 56865, 56867, 56868, 56878, 56879, 56881, 56882, 56884, 56886, 56892, 56897, 56898, 56907, 56908, 56910, 56911, 56912, 56914, 56918, 56922, 56923, 56927, 56929, 56930, 56931, 56933, 56935, 56938, 56944, 56951, 56953, 56954, 56955, 56956, 56960, 56962, 56964, 56967, 56971, 56993, 56998, 56999, 57002, 57003, 57004, 57005, 57008, 57010, 57014, 57018, 57019, 57021, 57023, 57024, 57025, 57026, 57028, 57030, 57033, 57035, 57038, 57039, 57040, 57042, 57048, 57049, 57050, 57051, 57055, 57056, 57057, 57059, 57071, 57073, 57074, 57079, 57081, 57083, 57086, 57089, 57091, 57094, 57095, 57097, 57099, 57100, 57102, 57103, 57107, 57111, 57117, 57118, 57122, 57123, 57127, 57133, 57134, 57142, 57143, 57144, 57146, 57148, 57151, 57155, 57156, 57157, 57159, 57160, 57161, 57162, 57167, 57172, 57173, 57175, 57178, 57179, 57180, 57183, 57185, 57188, 57190, 57192, 57193, 57194, 57195, 57203, 57204, 57205, 57209, 57210, 57213, 57215, 57219, 57226, 57227, 57229, 57235, 57237, 57239, 57241, 57242, 57243, 57245, 57246, 57247, 57249, 57250, 57255, 57257, 57259, 57260, 57262, 57263, 57264, 57265, 57268, 57274, 57275, 57279, 57281, 57282, 57285, 57288, 57292, 57293, 57295, 57309, 57310, 57311, 57313, 57319, 57327, 57336, 57338, 57339, 57341, 57344, 57347, 57350, 57352, 57355, 57358, 57361, 57366, 57367, 57371, 57378, 57379, 57384, 57386, 57388, 57390, 57394, 57398, 57399, 57401, 57403, 57405, 57413, 57415, 57417, 57418, 57420, 57424, 57426, 57431, 57432, 57434, 57435, 57436, 57442, 57444, 57455, 57456, 57458, 57461, 57463, 57464, 57471, 57473, 57477, 57479, 57485, 57492, 57494, 57501, 57502, 57507, 57523, 57524, 57526, 57527, 57528, 57529, 57531, 57533, 57537, 57539, 57541, 57542, 57546, 57548, 57549, 57552, 57553, 57565, 57566, 57571, 57575, 57577, 57580, 57583, 57584, 57585, 57587, 57598, 57603, 57606, 57607, 57610, 57611, 57612, 57618, 57632, 57635, 57636, 57639, 57640, 57641, 57644, 57645, 57648, 57649, 57657, 57667, 57669, 57670, 57671, 57672, 57674, 57677, 57687, 57689, 57691, 57692, 57697, 57703, 57705, 57708, 57710, 57711, 57714, 57719, 57724, 57728, 57733, 57739, 57747, 57748, 57751, 57753, 57756, 57761, 57768, 57772, 57774, 57775, 57776, 57777, 57779, 57782, 57784, 57787, 57788, 57791, 57796, 57797, 57798, 57804, 57811, 57813, 57814, 57816, 57820, 57824, 57825, 57827, 57828, 57852, 57854, 57856, 57857, 57863, 57865, 57869, 57879, 57885, 57895, 57897, 57898, 57903, 57904, 57907, 57909, 57910, 57911, 57914, 57918, 57923, 57926, 57930, 57943, 57946, 57947, 57948, 57950, 57955, 57957, 57958, 57961, 57963, 57974, 57979, 57980, 57991, 57993, 57994, 57995, 57998, 58002, 58004, 58006, 58010, 58014, 58016, 58018, 58019, 58021, 58022, 58030, 58040, 58050, 58053, 58055, 58057, 58059, 58061, 58069, 58071, 58082, 58085, 58099, 58104, 58112, 58114, 58115, 58120, 58121, 58122, 58125, 58127, 58128, 58129, 58130, 58131, 58133, 58145, 58151, 58152, 58155, 58167, 58170, 58171, 58178, 58181, 58182, 58191, 58194, 58195, 58200, 58201, 58204, 58208, 58212, 58213, 58219, 58220, 58223, 58226, 58228, 58230, 58231, 58232, 58236, 58241, 58246, 58247, 58248, 58249, 58250, 58256, 58258, 58261, 58262, 58265, 58267, 58269, 58275, 58276, 58280, 58286, 58289, 58292, 58301, 58303, 58304, 58305, 58308, 58313, 58314, 58315, 58318, 58321, 58322, 58324, 58326, 58327, 58340, 58341, 58349, 58351, 58354, 58355, 58366, 58367, 58369, 58370, 58376, 58379, 58382, 58384, 58386, 58389, 58392, 58398, 58399, 58404, 58410, 58411, 58431, 58432, 58439, 58440, 58441, 58445, 58450, 58452, 58453, 58454, 58459, 58462, 58463, 58464, 58466, 58473, 58474, 58477, 58478, 58480, 58482, 58483, 58484, 58488, 58489, 58491, 58492, 58493, 58495, 58497, 58498, 58499, 58501, 58502, 58503, 58504, 58506, 58508, 58509, 58516, 58521, 58525, 58526, 58530, 58534, 58537, 58539, 58541, 58543, 58545, 58548, 58549, 58551, 58555, 58560, 58562, 58563, 58566, 58567, 58577, 58582, 58583, 58588, 58597, 58598, 58600, 58602, 58604, 58606, 58608, 58618, 58619, 58625, 58628, 58631, 58638, 58639, 58641, 58642, 58643, 58648, 58650, 58653, 58655, 58656, 58657, 58658, 58659, 58662, 58665, 58667, 58668, 58669, 58670, 58681, 58688, 58695, 58698, 58705, 58708, 58709, 58710, 58712, 58717, 58719, 58720, 58722, 58728, 58730, 58732, 58735, 58739, 58741, 58743, 58744, 58750, 58751, 58759, 58760, 58763, 58764, 58767, 58770, 58777, 58778, 58781, 58787, 58788, 58792, 58795, 58798, 58803, 58804, 58807, 58808, 58810, 58814, 58815, 58821, 58830, 58832, 58843, 58844, 58846, 58853, 58859, 58860, 58866, 58868, 58870, 58871, 58874, 58875, 58879, 58880, 58887, 58888, 58891, 58892, 58900, 58902, 58903, 58911, 58914, 58915, 58916, 58925, 58926, 58927, 58928, 58931, 58933, 58935, 58938, 58939, 58941, 58943, 58946, 58947, 58948, 58952, 58953, 58956, 58959, 58960, 58969, 58971, 58972, 58974, 58976, 58997, 59000, 59002, 59003, 59005, 59013, 59014, 59022, 59023, 59026, 59034, 59035, 59038, 59039, 59044, 59052, 59056, 59059, 59060, 59064, 59073, 59076, 59077, 59081, 59084, 59085, 59087, 59091, 59096, 59104, 59106, 59108, 59111, 59117, 59119, 59124, 59130, 59132, 59133, 59135, 59139, 59140, 59146, 59149, 59151, 59153, 59155, 59156, 59159, 59163, 59167, 59171, 59172, 59177, 59178, 59179, 59181, 59183, 59186, 59187, 59194, 59202, 59215, 59216, 59217, 59218, 59221, 59225, 59229, 59234, 59235, 59238, 59240, 59243, 59247, 59249, 59258, 59267, 59274, 59281, 59282, 59283, 59291, 59292, 59293, 59294, 59295, 59299, 59304, 59305, 59306, 59307, 59316, 59324, 59325, 59330, 59332, 59344, 59350, 59353, 59359, 59360, 59362, 59366, 59368, 59372, 59376, 59379, 59393, 59396, 59398, 59402, 59407, 59408, 59410, 59416, 59420, 59421, 59423, 59426, 59428, 59429, 59439, 59442, 59443, 59445, 59448, 59449, 59451, 59453, 59456, 59464, 59466, 59470, 59471, 59474, 59476, 59480, 59481, 59484, 59486, 59506, 59512, 59514, 59515, 59526, 59532, 59533, 59536, 59543, 59552, 59554, 59556, 59559, 59560, 59564, 59566, 59570, 59572, 59573, 59574, 59575, 59580, 59582, 59583, 59586, 59587, 59590, 59594, 59595, 59598, 59599, 59601, 59603, 59605, 59606, 59608, 59613, 59616, 59617, 59618, 59619, 59622, 59624, 59627, 59630, 59632, 59639, 59640, 59641, 59647, 59652, 59654, 59656, 59657, 59662, 59665, 59666, 59667, 59668, 59669, 59671, 59673, 59674, 59678, 59680, 59685, 59687, 59688, 59689, 59690, 59694, 59698, 59700, 59701, 59704, 59705, 59706, 59707, 59710, 59712, 59716, 59717, 59719, 59721, 59728, 59731, 59732, 59736, 59738, 59739, 59742, 59745, 59748, 59753, 59759, 59764, 59765, 59766, 59769, 59773, 59774, 59776, 59783, 59786, 59789, 59792, 59794, 59798, 59800, 59802, 59804, 59810, 59812, 59815, 59818, 59821, 59823, 59828, 59830, 59831, 59837, 59841, 59856, 59860, 59861, 59863, 59864, 59868, 59869, 59870, 59874, 59875, 59877, 59881, 59882, 59884, 59886, 59900, 59902, 59904, 59905, 59913, 59917, 59922, 59923, 59924, 59929, 59932, 59933, 59936, 59943, 59945, 59947, 59948, 59949, 59951, 59955, 59961, 59964, 59967, 59969, 59972, 59976, 59986, 59993, 59994, 59997, 60000, 60001, 60007, 60012, 60019, 60022, 60025, 60026, 60030, 60033, 60036, 60038, 60040, 60041, 60043, 60050, 60052, 60057, 60064, 60074, 60078, 60087, 60091, 60094, 60096, 60102, 60106, 60109, 60113, 60118, 60119, 60122, 60123, 60128, 60129, 60131, 60133, 60134, 60136, 60140, 60141, 60142, 60143, 60144, 60145, 60150, 60151, 60152, 60155, 60168, 60169, 60178, 60180, 60184, 60188, 60190, 60191, 60193, 60196, 60198, 60201, 60205, 60208, 60214, 60221, 60222, 60226, 60230, 60235, 60240, 60241, 60252, 60262, 60271, 60273, 60277, 60278, 60279, 60282, 60283, 60286, 60290, 60298, 60299, 60300, 60301, 60309, 60312, 60313, 60317, 60323, 60324, 60339, 60341, 60343, 60346, 60349, 60353, 60355, 60356, 60357, 60359, 60362, 60364, 60367, 60382, 60383, 60385, 60389, 60390, 60391, 60397, 60400, 60415, 60421, 60424, 60430, 60435, 60436, 60441, 60445, 60448, 60450, 60452, 60455, 60457, 60460, 60462, 60467, 60468, 60469, 60470, 60480, 60481, 60492, 60493, 60503, 60507, 60520, 60521, 60524, 60526, 60528, 60529, 60531, 60542, 60543, 60551, 60554, 60557, 60560, 60563, 60564, 60567, 60570, 60571, 60577, 60583, 60584, 60585, 60588, 60589, 60592, 60593, 60598, 60599, 60604, 60608, 60610, 60613, 60614, 60615, 60629, 60630, 60633, 60647, 60648, 60651, 60652, 60653, 60655, 60658, 60660, 60661, 60662, 60665, 60670, 60671, 60672, 60673, 60674, 60678, 60683, 60688, 60694, 60697, 60699, 60702, 60711, 60712, 60722, 60723, 60727, 60732, 60733, 60744, 60745, 60750, 60756, 60757, 60765, 60772, 60773, 60776, 60777, 60783, 60784, 60787, 60789, 60796, 60798, 60803, 60806, 60813, 60833, 60835, 60836, 60840, 60843, 60848, 60849, 60850, 60851, 60852, 60854, 60855, 60871, 60879, 60880, 60882, 60889, 60893, 60899, 60906, 60907, 60911, 60912, 60916, 60925, 60926, 60928, 60930, 60937, 60940, 60944, 60946, 60948, 60949, 60951, 60952, 60954, 60956, 60958, 60961, 60971, 60980, 60981, 60982, 60983, 60984, 60987, 60988, 60990, 60994, 60998, 60999, 61002, 61003, 61007, 61015, 61017, 61021, 61024, 61026, 61029, 61031, 61037, 61038, 61040, 61044, 61045, 61046, 61056, 61057, 61063, 61070, 61072, 61082, 61086, 61087, 61095, 61096, 61098, 61099, 61101, 61111, 61117, 61118, 61119, 61122, 61126, 61127, 61132, 61134, 61137, 61139, 61140, 61142, 61144, 61146, 61153, 61154, 61156, 61162, 61164, 61165, 61172, 61173, 61176, 61178, 61184, 61191, 61198, 61202, 61203, 61213, 61214, 61216, 61219, 61220, 61227, 61230, 61239, 61243, 61248, 61256, 61258, 61259, 61262, 61275, 61277, 61283, 61284, 61285, 61289, 61291, 61296, 61298, 61304, 61305, 61306, 61316, 61325, 61335, 61339, 61341, 61346, 61353, 61354, 61355, 61360, 61363, 61369, 61374, 61378, 61383, 61385, 61392, 61395, 61400, 61401, 61404, 61407, 61410, 61412, 61420, 61424, 61427, 61429, 61433, 61439, 61441, 61444, 61454, 61464, 61467, 61468, 61470, 61471, 61473, 61479, 61483, 61485, 61487, 61489, 61500, 61501, 61509, 61517, 61532, 61533, 61543, 61544, 61549, 61550, 61553, 61561, 61565, 61566, 61575, 61579, 61580, 61582, 61588, 61589, 61593, 61595, 61602, 61609, 61610, 61614, 61618, 61620, 61622, 61624, 61626, 61629, 61632, 61633, 61636, 61639, 61640, 61646, 61650, 61652, 61653, 61659, 61662, 61665, 61669, 61672, 61674, 61678, 61682, 61683, 61684, 61687, 61689, 61694, 61695, 61698, 61705, 61710, 61716, 61717, 61721, 61733, 61739, 61745, 61748, 61751, 61754, 61756, 61759, 61763, 61764, 61772, 61775, 61776, 61779, 61788, 61790, 61791, 61793, 61794, 61796, 61806, 61809, 61810, 61812, 61815, 61816, 61824, 61826, 61828, 61830, 61833, 61836, 61841, 61846, 61847, 61849, 61851, 61852, 61855, 61857, 61862, 61867, 61868, 61873, 61874, 61875, 61877, 61878, 61881, 61883, 61884, 61886, 61893, 61895, 61896, 61903, 61905, 61909, 61919, 61920, 61921, 61927, 61930, 61935, 61939, 61944, 61947, 61948, 61952, 61954, 61955, 61957, 61960, 61963, 61964, 61978, 61980, 61981, 61985, 61989, 61996, 62000, 62001, 62003, 62005, 62008, 62010, 62012, 62014, 62015, 62020, 62023, 62026, 62029, 62030, 62037, 62038, 62056, 62057, 62060, 62066, 62074, 62077, 62081, 62088, 62094, 62097, 62098, 62105, 62116, 62119, 62121, 62127, 62133, 62134, 62138, 62142, 62143, 62145, 62146, 62147, 62148, 62149, 62158, 62160, 62163, 62164, 62166, 62167, 62173, 62175, 62176, 62185, 62190, 62192, 62193, 62196, 62198, 62200, 62201, 62203, 62205, 62207, 62209, 62210, 62211, 62212, 62214, 62224, 62227, 62232, 62236, 62237, 62240, 62244, 62247, 62255, 62257, 62259, 62261, 62262, 62263, 62265, 62266, 62267, 62268, 62289, 62296, 62297, 62302, 62304, 62312, 62316, 62323, 62325, 62328, 62332, 62339, 62340, 62341, 62342, 62344, 62345, 62346, 62349, 62354, 62357, 62361, 62364, 62365, 62369, 62379, 62380, 62381, 62386, 62387, 62390, 62391, 62401, 62407, 62411, 62412, 62413, 62420, 62423, 62425, 62428, 62430, 62433, 62434, 62438, 62440, 62446, 62455, 62456, 62457, 62460, 62463, 62465, 62466, 62467, 62471, 62472, 62474, 62481, 62482, 62486, 62488, 62498, 62505, 62506, 62507, 62510, 62514, 62516, 62519, 62521, 62523, 62530, 62534, 62536, 62540, 62545, 62546, 62547, 62549, 62551, 62554, 62564, 62567, 62568, 62571, 62581, 62585, 62586, 62588, 62590, 62595, 62596, 62605, 62608, 62615, 62616, 62617, 62622, 62623, 62625, 62626, 62629, 62631, 62633, 62634, 62636, 62639, 62642, 62643, 62644, 62645, 62650, 62654, 62666, 62678, 62682, 62686, 62687, 62690, 62695, 62696, 62699, 62700, 62701, 62702, 62703, 62705, 62709, 62715, 62719, 62722, 62725, 62727, 62729, 62734, 62737, 62740, 62741, 62743, 62747, 62749, 62753, 62755, 62759, 62760, 62762, 62763, 62771, 62772, 62779, 62782, 62785, 62786, 62791, 62792, 62799, 62811, 62812, 62815, 62819, 62820, 62825, 62828, 62839, 62841, 62848, 62850, 62851, 62863, 62874, 62878, 62881, 62889, 62892, 62895, 62898, 62905, 62906, 62912, 62913, 62915, 62916, 62917, 62921, 62922, 62924, 62927, 62929, 62938, 62939, 62943, 62947, 62949, 62952, 62953, 62956, 62957, 62958, 62961, 62970, 62971, 62972, 62976, 62978, 62981, 62983, 62984, 62989, 62990, 62991, 62999, 63001, 63010, 63015, 63017, 63018, 63021, 63026, 63027, 63031, 63036, 63040, 63043, 63045, 63047, 63049, 63052, 63053, 63060, 63061, 63062, 63064, 63065, 63067, 63070, 63073, 63076, 63078, 63093, 63096, 63102, 63107, 63110, 63120, 63124, 63125, 63127, 63130, 63132, 63136, 63140, 63141, 63146, 63147, 63151, 63155, 63163, 63165, 63168, 63170, 63173, 63176, 63182, 63185, 63189, 63197, 63198, 63199, 63204, 63205, 63210, 63211, 63212, 63227, 63229, 63230, 63232, 63238, 63239, 63241, 63242, 63247, 63248, 63250, 63255, 63261, 63263, 63266, 63271, 63272, 63274, 63277, 63278, 63279, 63281, 63283, 63287, 63290, 63296, 63298, 63308, 63315, 63317, 63318, 63319, 63320, 63321, 63325, 63342, 63348, 63350, 63351, 63353, 63361, 63364, 63371, 63373, 63375, 63378, 63383, 63386, 63394, 63395, 63396, 63397, 63400, 63401, 63403, 63404, 63411, 63412, 63415, 63419, 63420, 63421, 63422, 63423, 63424, 63425, 63429, 63436, 63437, 63450, 63451, 63453, 63454, 63455, 63460, 63464, 63471, 63474, 63478, 63483, 63484, 63486, 63490, 63492, 63496, 63497, 63500, 63501, 63508, 63515, 63516, 63520, 63524, 63527, 63528, 63530, 63539, 63541, 63546, 63550, 63551, 63552, 63553, 63560, 63567, 63571, 63577, 63582, 63583, 63586, 63588, 63589, 63590, 63591, 63595, 63597, 63602, 63608, 63611, 63614, 63617, 63620, 63621, 63623, 63626, 63627, 63629, 63635, 63637, 63639, 63642, 63644, 63645, 63648, 63658, 63659, 63663, 63670, 63674, 63675, 63680, 63684, 63685, 63689, 63690, 63691, 63693, 63694, 63699, 63705, 63710, 63714, 63715, 63720, 63722, 63726, 63733, 63736, 63737, 63739, 63740, 63741, 63745, 63746, 63747, 63749, 63750, 63752, 63753, 63757, 63758, 63760, 63763, 63764, 63774, 63779, 63786, 63789, 63792, 63793, 63807, 63808, 63816, 63817, 63819, 63821, 63822, 63824, 63825, 63826, 63831, 63844, 63846, 63848, 63849, 63850, 63853, 63855, 63863, 63869, 63878, 63880, 63888, 63894, 63895, 63900, 63901, 63904, 63906, 63909, 63913, 63915, 63916, 63921, 63925, 63926, 63932, 63943, 63948, 63950, 63951, 63956, 63957, 63961, 63963, 63967, 63968, 63970, 63972, 63973, 63975, 63977, 63979, 63981, 63987, 63993, 63995, 63996, 63997, 64002, 64005, 64008, 64011, 64015, 64026, 64028, 64030, 64035, 64036, 64042, 64045, 64046, 64047, 64048, 64051, 64052, 64055, 64056, 64058, 64059, 64061, 64063, 64065, 64066, 64069, 64074, 64075, 64081, 64097, 64100, 64101, 64103, 64104, 64105, 64106, 64109, 64113, 64114, 64118, 64130, 64136, 64138, 64140, 64144, 64146, 64149, 64155, 64158, 64161, 64162, 64168, 64174, 64176, 64177, 64178, 64181, 64182, 64184, 64185, 64190, 64193, 64201, 64210, 64211, 64214, 64215, 64221, 64230, 64232, 64233, 64235, 64246, 64247, 64252, 64257, 64266, 64267, 64271, 64277, 64279, 64280, 64288, 64290, 64296, 64298, 64304, 64305, 64312, 64318, 64322, 64323, 64324, 64326, 64337, 64338, 64339, 64341, 64344, 64349, 64350, 64353, 64354, 64357, 64358, 64365, 64366, 64371, 64379, 64381, 64387, 64388, 64390, 64403, 64404, 64406, 64416, 64424, 64425, 64426, 64435, 64440, 64442, 64445, 64446, 64447, 64451, 64453, 64454, 64457, 64458, 64461, 64462, 64465, 64467, 64468, 64470, 64479, 64482, 64486, 64496, 64499, 64509, 64510, 64511, 64514, 64517, 64521, 64523, 64525, 64527, 64528, 64531, 64534, 64536, 64538, 64539, 64543, 64547, 64550, 64554, 64555, 64558, 64559, 64562, 64565, 64570, 64588, 64589, 64593, 64601, 64605, 64613, 64617, 64619, 64621, 64632, 64639, 64642, 64643, 64646, 64652, 64658, 64659, 64660, 64662, 64669, 64677, 64678, 64679, 64680, 64682, 64688, 64691, 64696, 64702, 64706, 64710, 64714, 64715, 64716, 64725, 64728, 64734, 64736, 64749, 64750, 64753, 64757, 64759, 64760, 64765, 64766, 64769, 64770, 64772, 64774, 64775, 64783, 64786, 64791, 64796, 64799, 64800, 64805, 64807, 64809, 64813, 64820, 64821, 64822, 64826, 64828, 64829, 64832, 64833, 64836, 64843, 64845, 64847, 64852, 64857, 64858, 64859, 64864, 64866, 64870, 64872, 64875, 64877, 64878, 64886, 64891, 64892, 64896, 64903, 64907, 64911, 64913, 64922, 64926, 64931, 64932, 64941, 64943, 64946, 64950, 64952, 64953, 64955, 64957, 64958, 64964, 64971, 64972, 64975, 64984, 64985, 64989, 64990, 64994, 64997, 64999, 65001, 65002, 65004, 65006, 65011, 65017, 65018, 65020, 65021, 65023, 65024, 65025, 65028, 65029, 65034, 65036, 65037, 65038, 65039, 65044, 65046, 65051, 65056, 65059, 65061, 65066, 65068, 65071, 65072, 65082, 65088, 65089, 65091, 65096, 65098, 65100, 65105, 65112, 65114, 65118, 65119, 65121, 65124, 65127, 65131, 65135, 65143, 65145, 65147, 65151, 65152, 65154, 65155, 65158, 65159, 65160, 65161, 65164, 65176, 65177, 65178, 65185, 65186, 65192, 65194, 65201, 65202, 65208, 65217, 65218, 65219, 65228, 65231, 65233, 65235, 65240, 65241, 65242, 65249, 65257, 65265, 65274, 65275, 65279, 65282, 65283, 65284, 65289, 65295, 65300, 65301, 65306, 65310, 65316, 65318, 65321, 65322, 65324, 65326, 65327, 65328, 65332, 65333, 65336, 65337, 65339, 65343, 65350, 65352, 65353, 65356, 65357, 65360, 65362, 65368, 65369, 65372, 65374, 65376, 65382, 65383, 65388, 65392, 65393, 65396, 65400, 65402, 65407, 65408, 65410, 65412, 65417, 65419, 65423, 65425, 65429, 65435, 65437, 65455, 65458, 65459, 65465, 65466, 65468, 65472, 65473, 65479, 65487, 65490, 65491, 65493, 65498, 65499, 65505, 65506, 65507, 65509, 65517, 65522, 65525, 65526, 65527, 65529, 65530, 65535, 65538, 65541, 65542, 65543, 65546, 65557, 65561, 65563, 65569, 65575, 65583, 65585, 65593, 65594, 65595, 65604, 65607, 65608, 65609, 65614, 65615, 65618, 65621, 65623, 65626, 65630, 65634, 65636, 65644, 65645, 65647, 65649, 65650, 65654, 65658, 65665, 65670, 65674, 65683, 65684, 65685, 65686, 65687, 65689, 65691, 65696, 65697, 65699, 65700, 65701, 65703, 65706, 65707, 65709, 65711, 65712, 65713, 65714, 65715, 65717, 65718, 65722, 65736, 65740, 65744, 65748, 65754, 65756, 65757, 65763, 65770, 65772, 65775, 65777, 65782, 65783, 65785, 65786, 65789, 65797, 65798, 65799, 65812, 65814, 65818, 65821, 65822, 65825, 65831, 65833, 65834, 65838, 65844, 65845, 65847, 65853, 65854, 65855, 65856, 65861, 65862, 65865, 65868, 65870, 65872, 65875, 65876, 65878, 65879, 65888, 65891, 65892, 65894, 65896, 65897, 65898, 65899, 65903, 65905, 65907, 65910, 65914, 65917, 65920, 65921, 65923, 65926, 65927, 65929, 65930, 65932, 65933, 65935, 65940, 65948, 65949, 65952, 65954, 65955, 65957, 65960, 65969, 65973, 65975, 65976, 65977, 65987, 65988, 65994, 65995, 65997, 65998, 66003, 66005, 66006, 66008, 66009, 66011, 66013, 66017, 66024, 66030, 66034, 66038, 66042, 66043, 66047, 66051, 66053, 66061, 66068, 66070, 66073, 66076, 66081, 66084, 66085, 66086, 66088, 66090, 66091, 66111, 66112, 66114, 66116, 66122, 66132, 66133, 66144, 66151, 66153, 66155, 66159, 66160, 66163, 66164, 66169, 66172, 66173, 66174, 66175, 66180, 66183, 66184, 66190, 66193, 66196, 66197, 66206, 66209, 66212, 66214, 66215, 66218, 66222, 66224, 66225, 66226, 66227, 66228, 66231, 66235, 66236, 66246, 66248, 66252, 66254, 66261, 66263, 66268, 66270, 66273, 66275, 66277, 66278, 66279, 66282, 66283, 66285, 66288, 66290, 66291, 66296, 66297, 66298, 66300, 66307, 66308, 66311, 66326, 66328, 66334, 66335, 66337, 66341, 66342, 66344, 66348, 66352, 66356, 66358, 66360, 66362, 66363, 66365, 66371, 66381, 66382, 66385, 66393, 66396, 66398, 66400, 66401, 66407, 66411, 66413, 66415, 66416, 66417, 66418, 66423, 66427, 66436, 66438, 66445, 66446, 66449, 66451, 66452, 66453, 66459, 66462, 66466, 66473, 66479, 66480, 66483, 66488, 66507, 66508, 66509, 66514, 66515, 66516, 66524, 66527, 66531, 66532, 66533, 66534, 66536, 66544, 66549, 66553, 66554, 66558, 66559, 66562, 66563, 66567, 66570, 66573, 66574, 66576, 66577, 66579, 66581, 66583, 66584, 66586, 66587, 66590, 66597, 66610, 66612, 66614, 66615, 66617, 66618, 66620, 66624, 66642, 66644, 66647, 66648, 66650, 66651, 66652, 66656, 66665, 66669, 66670, 66671, 66673, 66675, 66677, 66679, 66682, 66692, 66693, 66694, 66697, 66701, 66703, 66708, 66713, 66721, 66722, 66725, 66727, 66728, 66729, 66731, 66732, 66733, 66737, 66739, 66748, 66756, 66762, 66765, 66766, 66768, 66772, 66775, 66777, 66784, 66788, 66790, 66795, 66800, 66802, 66805, 66807, 66810, 66813, 66814, 66818, 66819, 66824, 66831, 66838, 66847, 66853, 66857, 66859, 66867, 66871, 66872, 66874, 66878, 66880, 66882, 66886, 66888, 66889, 66890, 66891, 66892, 66894, 66897, 66901, 66905, 66911, 66916, 66920, 66922, 66924, 66928, 66931, 66936, 66939, 66941, 66942, 66949, 66951, 66954, 66955, 66956, 66959, 66962, 66963, 66966, 66969, 66973, 66975, 66977, 66984, 66986, 66992, 66994, 66998, 67002, 67004, 67005, 67012, 67016, 67018, 67026, 67035, 67042, 67046, 67047, 67048, 67050, 67052, 67053, 67054, 67055, 67057, 67061, 67067, 67080, 67084, 67087, 67092, 67102, 67108, 67112, 67120, 67130, 67131, 67133, 67135, 67139, 67140, 67141, 67144, 67149, 67152, 67157, 67160, 67165, 67166, 67167, 67172, 67175, 67177, 67178, 67180, 67182, 67185, 67187, 67188, 67193, 67196, 67197, 67209, 67213, 67215, 67227, 67229, 67231, 67233, 67236, 67239, 67240, 67247, 67248, 67249, 67251, 67252, 67254, 67260, 67269, 67274, 67283, 67285, 67286, 67295, 67296, 67299, 67303, 67305, 67306, 67308, 67309, 67315, 67319, 67324, 67332, 67336, 67337, 67339, 67340, 67343, 67344, 67345, 67346, 67348, 67354, 67361, 67367, 67373, 67377, 67378, 67382, 67387, 67388, 67390, 67393, 67394, 67398, 67399, 67401, 67407, 67419, 67421, 67424, 67428, 67431, 67432, 67435, 67437, 67440, 67442, 67447, 67449, 67451, 67453, 67457, 67459, 67463, 67466, 67468, 67470, 67471, 67474, 67481, 67482, 67484, 67485, 67489, 67490, 67491, 67495, 67496, 67498, 67500, 67503, 67509, 67513, 67514, 67516, 67517, 67522, 67525, 67526, 67529, 67531, 67533, 67539, 67547, 67551, 67554, 67562, 67566, 67570, 67579, 67584, 67585, 67587, 67592, 67593, 67596, 67597, 67605, 67607, 67615, 67618, 67620, 67622, 67633, 67638, 67642, 67647, 67652, 67659, 67664, 67666, 67667, 67668, 67670, 67673, 67677, 67679, 67683, 67692, 67694, 67704, 67719, 67721, 67725, 67726, 67728, 67730, 67734, 67748, 67750, 67751, 67754, 67757, 67758, 67759, 67763, 67764, 67768, 67769, 67774, 67778, 67781, 67785, 67792, 67794, 67800, 67804, 67808, 67809, 67812, 67824, 67830, 67836, 67843, 67844, 67850, 67852, 67853, 67859, 67860, 67867, 67870, 67871, 67872, 67873, 67874, 67878, 67879, 67880, 67884, 67885, 67888, 67891, 67898, 67903, 67904, 67908, 67912, 67914, 67917, 67919, 67921, 67922, 67923, 67929, 67932, 67934, 67935, 67939, 67942, 67943, 67944, 67954, 67956, 67960, 67962, 67969, 67970, 67972, 67973, 67974, 67976, 67977, 67979, 67982, 67983, 67986, 67990, 67992, 67995, 67998, 68001, 68006, 68008, 68012, 68014, 68018, 68019, 68024, 68027, 68029, 68035, 68043, 68044, 68047, 68051, 68056, 68058, 68059, 68061, 68063, 68065, 68079, 68080, 68081, 68083, 68087, 68088, 68097, 68103, 68110, 68117, 68122, 68125, 68131, 68134, 68138, 68140, 68143, 68144, 68150, 68151, 68155, 68157, 68160, 68165, 68167, 68168, 68172, 68173, 68176, 68177, 68181, 68182, 68183, 68187, 68188, 68193, 68196, 68198, 68207, 68208, 68213, 68218, 68220, 68227, 68229, 68235, 68237, 68240, 68242, 68244, 68246, 68247, 68248, 68250, 68255, 68257, 68260, 68261, 68262, 68264, 68267, 68271, 68272, 68274, 68276, 68279, 68286, 68287, 68289, 68293, 68295, 68297, 68304, 68305, 68309, 68313, 68314, 68316, 68317, 68322, 68324, 68325, 68328, 68330, 68334, 68339, 68341, 68346, 68351, 68353, 68358, 68359, 68360, 68369, 68372, 68373, 68374, 68377, 68388, 68389, 68390, 68394, 68396, 68397, 68399, 68401, 68402, 68407, 68408, 68410, 68413, 68414, 68415, 68416, 68419, 68420, 68431, 68440, 68442, 68445, 68448, 68451, 68453, 68458, 68462, 68463, 68468, 68469, 68471, 68476, 68478, 68481, 68483, 68488, 68492, 68497, 68499, 68502, 68507, 68510, 68513, 68516, 68517, 68528, 68531, 68535, 68542, 68546, 68547, 68551, 68554, 68556, 68557, 68562, 68565, 68566, 68569, 68573, 68575, 68581, 68585, 68587, 68596, 68598, 68605, 68606, 68607, 68608, 68611, 68612, 68613, 68617, 68619, 68620, 68623, 68632, 68636, 68640, 68644, 68645, 68647, 68649, 68653, 68654, 68655, 68656, 68657, 68658, 68659, 68662, 68667, 68668, 68674, 68679, 68682, 68686, 68688, 68690, 68694, 68705, 68707, 68712, 68719, 68722, 68725, 68728, 68729, 68730, 68734, 68742, 68743, 68752, 68754, 68758, 68762, 68764, 68765, 68767, 68769, 68771, 68776, 68778, 68780, 68781, 68783, 68785, 68786, 68789, 68792, 68796, 68799, 68801, 68811, 68813, 68814, 68821, 68826, 68827, 68831, 68833, 68836, 68839, 68845, 68846, 68847, 68848, 68852, 68862, 68864, 68867, 68870, 68871, 68872, 68873, 68879, 68880, 68891, 68894, 68895, 68902, 68905, 68906, 68907, 68910, 68911, 68920, 68921, 68930, 68940, 68943, 68946, 68953, 68958, 68961, 68966, 68972, 68973, 68975, 68976, 68979, 68980, 68982, 68987, 68989, 68990, 68997, 69000, 69002, 69005, 69007, 69017, 69021, 69022, 69024, 69026, 69027, 69028, 69029, 69044, 69045, 69046, 69047, 69048, 69051, 69056, 69057, 69058, 69061, 69062, 69064, 69069, 69079, 69085, 69088, 69089, 69090, 69091, 69096, 69104, 69108, 69109, 69110, 69111, 69114, 69115, 69121, 69123, 69124, 69127, 69128, 69132, 69134, 69135, 69136, 69138, 69151, 69154, 69158, 69160, 69161, 69162, 69164, 69165, 69174, 69176, 69192, 69193, 69195, 69196, 69197, 69201, 69202, 69206, 69207, 69208, 69212, 69213, 69214, 69218, 69221, 69223, 69227, 69228, 69231, 69233, 69234, 69245, 69246, 69248, 69252, 69257, 69258, 69260, 69268, 69272, 69274, 69278, 69292, 69293, 69295, 69302, 69303, 69306, 69310, 69311, 69314, 69318, 69319, 69321, 69325, 69337, 69339, 69340, 69342, 69343, 69345, 69347, 69356, 69359, 69360, 69361, 69366, 69367, 69371, 69377, 69380, 69386, 69389, 69413, 69416, 69420, 69425, 69426, 69433, 69439, 69441, 69442, 69450, 69452, 69455, 69456, 69463, 69466, 69469, 69470, 69477, 69478, 69481, 69485, 69487, 69488, 69489, 69491, 69495, 69503, 69506, 69510, 69515, 69516, 69517, 69521, 69530, 69531, 69532, 69534, 69535, 69539, 69546, 69551, 69552, 69554, 69558, 69560, 69562, 69565, 69567, 69568, 69570, 69573, 69574, 69576, 69579, 69580, 69583, 69590, 69593, 69595, 69602, 69611, 69617, 69618, 69619, 69623, 69624, 69628, 69632, 69636, 69638, 69642, 69649, 69650, 69653, 69655, 69661, 69668, 69673, 69677, 69678, 69689, 69691, 69693, 69704, 69705, 69708, 69712, 69714, 69718, 69720, 69725, 69727, 69728, 69737, 69738, 69739, 69747, 69752, 69757, 69761, 69763, 69778, 69779, 69780, 69784, 69786, 69787, 69790, 69791, 69792, 69793, 69796, 69798, 69800, 69801, 69806, 69808, 69809, 69814, 69818, 69827, 69839, 69841, 69842, 69843, 69852, 69853, 69860, 69863, 69868, 69872, 69873, 69885, 69890, 69891, 69893, 69901, 69902, 69904, 69906, 69909, 69910, 69914, 69924, 69925, 69929, 69930, 69933, 69939, 69942, 69945, 69950, 69952, 69954, 69959, 69960, 69965, 69966, 69971, 69976, 69988, 70004, 70006, 70007, 70013, 70017, 70018, 70022, 70023, 70024, 70026, 70027, 70032, 70037, 70039, 70049, 70050, 70051, 70052, 70054, 70057, 70060, 70067, 70076, 70078, 70083, 70091, 70095, 70099, 70102, 70110, 70111, 70117, 70121, 70122, 70130, 70131, 70134, 70136, 70137, 70153, 70156, 70160, 70166, 70169, 70172, 70173, 70179, 70180, 70185, 70188, 70201, 70202, 70203, 70204, 70212, 70215, 70219, 70220, 70225, 70229, 70230, 70232, 70233, 70237, 70238, 70239, 70245, 70248, 70256, 70258, 70261, 70262, 70271, 70287, 70293, 70296, 70299, 70301, 70302, 70311, 70312, 70317, 70322, 70328, 70329, 70332, 70338, 70339, 70341, 70343, 70344, 70345, 70358, 70359, 70360, 70367, 70371, 70372, 70373, 70374, 70379, 70382, 70384, 70385, 70389, 70391, 70394, 70395, 70397, 70399, 70404, 70408, 70409, 70411, 70415, 70420, 70433, 70435, 70438, 70442, 70444, 70446, 70447, 70448, 70450, 70453, 70456, 70463, 70468, 70470, 70475, 70484, 70491, 70497, 70499, 70501, 70504, 70519, 70524, 70528, 70531, 70532, 70535, 70538, 70540, 70543, 70549, 70551, 70554, 70556, 70559, 70564, 70581, 70584, 70585, 70587, 70590, 70598, 70599, 70602, 70604, 70605, 70606, 70608, 70611, 70612, 70613, 70622, 70624, 70628, 70630, 70631, 70632, 70640, 70642, 70643, 70644, 70656, 70662, 70666, 70671, 70672, 70677, 70681, 70684, 70685, 70686, 70687, 70694, 70698, 70699, 70700, 70702, 70712, 70715, 70717, 70722, 70726, 70729, 70738, 70739, 70742, 70746, 70748, 70750, 70755, 70757, 70761, 70762, 70765, 70770, 70772, 70777, 70778, 70779, 70783, 70784, 70787, 70789, 70790, 70793, 70802, 70803, 70805, 70808, 70809, 70812, 70813, 70814, 70819, 70825, 70828, 70831, 70833, 70835, 70841, 70845, 70847, 70851, 70852, 70855, 70858, 70859, 70864, 70865, 70866, 70868, 70875, 70876, 70877, 70878, 70883, 70885, 70889, 70890, 70892, 70893, 70903, 70906, 70908, 70916, 70917, 70919, 70931, 70934, 70935, 70938, 70943, 70950, 70952, 70955, 70958, 70962, 70967, 70970, 70973, 70975, 70977, 70980, 70986, 70994, 71003, 71010, 71011, 71016, 71018, 71023, 71028, 71029, 71033, 71038, 71039, 71042, 71048, 71050, 71051, 71053, 71055, 71057, 71058, 71059, 71060, 71064, 71068, 71083, 71090, 71091, 71097, 71098, 71101, 71102, 71104, 71109, 71118, 71119, 71120, 71122, 71123, 71124, 71128, 71129, 71130, 71135, 71139, 71143, 71146, 71150, 71151, 71152, 71154, 71156, 71158, 71163, 71166, 71171, 71179, 71182, 71184, 71189, 71192, 71207, 71208, 71209, 71210, 71213, 71218, 71221, 71223, 71225, 71230, 71232, 71239, 71241, 71242, 71244, 71255, 71256, 71258, 71262, 71267, 71273, 71278, 71280, 71282, 71285, 71286, 71292, 71294, 71297, 71300, 71303, 71305, 71308, 71313, 71317, 71322, 71324, 71325, 71327, 71328, 71329, 71333, 71340, 71344, 71347, 71348, 71350, 71354, 71358, 71359, 71362, 71364, 71367, 71370, 71371, 71372, 71374, 71378, 71379, 71382, 71384, 71386, 71387, 71388, 71391, 71395, 71396, 71397, 71399, 71405, 71407, 71408, 71412, 71417, 71418, 71422, 71426, 71427, 71430, 71431, 71433, 71434, 71435, 71437, 71446, 71448, 71457, 71458, 71478, 71479, 71482, 71488, 71491, 71492, 71494, 71495, 71496, 71498, 71501, 71510, 71512, 71513, 71514, 71517, 71519, 71527, 71531, 71534, 71536, 71537, 71538, 71539, 71541, 71544, 71545, 71549, 71555, 71557, 71561, 71568, 71570, 71581, 71584, 71586, 71589, 71590, 71594, 71601, 71604, 71608, 71611, 71612, 71615, 71616, 71617, 71618, 71619, 71625, 71633, 71642, 71644, 71646, 71649, 71651, 71655, 71662, 71664, 71669, 71674, 71677, 71681, 71683, 71688, 71690, 71691, 71693, 71697, 71707, 71712, 71714, 71718, 71722, 71732, 71733, 71734, 71739, 71740, 71742, 71744, 71745, 71746, 71747, 71749, 71750, 71752, 71754, 71755, 71757, 71759, 71763, 71766, 71767, 71769, 71773, 71774, 71782, 71783, 71785, 71794, 71797, 71798, 71803, 71804, 71806, 71807, 71812, 71817, 71818, 71826, 71827, 71828, 71830, 71832, 71835, 71836, 71839, 71842, 71845, 71854, 71863, 71865, 71866, 71867, 71868, 71875, 71879, 71881, 71885, 71890, 71891, 71892, 71893, 71897, 71900, 71908, 71912, 71914, 71915, 71916, 71917, 71921, 71922, 71923, 71928, 71935, 71937, 71943, 71950, 71951, 71952, 71954, 71957, 71958, 71959, 71961, 71963, 71964, 71969, 71971, 71972, 71976, 71977, 71984, 71991, 71995, 71997, 72004, 72005, 72006, 72007, 72009, 72011, 72012, 72018, 72022, 72025, 72027, 72029, 72037, 72040, 72041, 72042, 72047, 72069, 72074, 72079, 72087, 72091, 72100, 72108, 72111, 72116, 72117, 72122, 72127, 72131, 72133, 72135, 72137, 72139, 72141, 72148, 72163, 72168, 72169, 72170, 72172, 72175, 72178, 72179, 72182, 72184, 72189, 72190, 72191, 72193, 72200, 72201, 72202, 72205, 72206, 72214, 72216, 72217, 72221, 72226, 72229, 72230, 72231, 72241, 72245, 72252, 72256, 72259, 72262, 72263, 72266, 72267, 72270, 72271, 72275, 72278, 72282, 72290, 72294, 72297, 72299, 72301, 72302, 72303, 72304, 72306, 72315, 72316, 72324, 72325, 72326, 72328, 72329, 72335, 72341, 72343, 72347, 72351, 72360, 72361, 72368, 72373, 72374, 72379, 72380, 72381, 72382, 72383, 72384, 72386, 72391, 72392, 72393, 72395, 72399, 72402, 72405, 72409, 72410, 72411, 72426, 72427, 72430, 72434, 72436, 72437, 72442, 72445, 72450, 72453, 72457, 72458, 72459, 72460, 72464, 72466, 72467, 72469, 72471, 72475, 72478, 72484, 72487, 72492, 72494, 72495, 72498, 72499, 72501, 72502, 72510, 72517, 72519, 72520, 72521, 72522, 72529, 72534, 72536, 72539, 72540, 72548, 72549, 72555, 72562, 72564, 72566, 72572, 72575, 72579, 72582, 72587, 72590, 72592, 72597, 72600, 72601, 72603, 72605, 72608, 72610, 72616, 72617, 72620, 72622, 72623, 72626, 72627, 72628, 72630, 72631, 72632, 72637, 72639, 72646, 72653, 72657, 72658, 72668, 72670, 72671, 72674, 72675, 72680, 72690, 72694, 72699, 72701, 72706, 72707, 72708, 72710, 72711, 72718, 72721, 72725, 72729, 72739, 72744, 72747, 72749, 72757, 72758, 72759, 72761, 72768, 72773, 72777, 72782, 72786, 72787, 72789, 72794, 72798, 72799, 72803, 72808, 72809, 72817, 72822, 72824, 72831, 72832, 72833, 72834, 72836, 72839, 72845, 72851, 72852, 72853, 72854, 72858, 72860, 72864, 72865, 72867, 72868, 72869, 72873, 72875, 72878, 72879, 72880, 72881, 72886, 72889, 72890, 72892, 72894, 72895, 72896, 72899, 72900, 72906, 72909, 72917, 72919, 72925, 72927, 72938, 72940, 72941, 72943, 72944, 72945, 72949, 72950, 72952, 72956, 72959, 72978, 72983, 72984, 72991, 73002, 73006, 73009, 73011, 73033, 73054, 73055, 73059, 73061, 73063, 73066, 73076, 73077, 73078, 73079, 73080, 73082, 73084, 73086, 73092, 73097, 73101, 73107, 73111, 73112, 73114, 73115, 73126, 73128, 73138, 73141, 73146, 73150, 73153, 73156, 73157, 73159, 73172, 73179, 73182, 73183, 73184, 73185, 73190, 73192, 73195, 73197, 73198, 73200, 73214, 73219, 73221, 73222, 73223, 73224, 73226, 73229, 73231, 73233, 73235, 73237, 73239, 73245, 73249, 73253, 73257, 73258, 73260, 73261, 73264, 73269, 73271, 73272, 73273, 73278, 73280, 73294, 73297, 73301, 73311, 73315, 73318, 73319, 73320, 73321, 73323, 73327, 73329, 73334, 73335, 73337, 73339, 73343, 73345, 73347, 73351, 73352, 73353, 73359, 73360, 73361, 73368, 73374, 73375, 73378, 73379, 73380, 73384, 73388, 73391, 73395, 73397, 73398, 73400, 73406, 73416, 73421, 73424, 73426, 73429, 73430, 73435, 73437, 73447, 73452, 73453, 73455, 73456, 73457, 73459, 73467, 73468, 73474, 73476, 73477, 73479, 73480, 73481, 73487, 73488, 73491, 73493, 73495, 73496, 73497, 73499, 73501, 73504, 73507, 73514, 73519, 73522, 73524, 73526, 73527, 73531, 73532, 73536, 73538, 73539, 73541, 73551, 73552, 73553, 73554, 73555, 73556, 73560, 73563, 73564, 73565, 73570, 73571, 73574, 73576, 73577, 73578, 73584, 73586, 73595, 73596, 73601, 73604, 73607, 73608, 73614, 73617, 73629, 73640, 73643, 73644, 73645, 73647, 73650, 73651, 73652, 73657, 73659, 73663, 73666, 73671, 73672, 73674, 73680, 73681, 73683, 73687, 73692, 73693, 73694, 73695, 73699, 73703, 73711, 73713, 73714, 73715, 73717, 73719, 73720, 73721, 73724, 73732, 73733, 73737, 73739, 73740, 73745, 73749, 73751, 73752, 73761, 73763, 73765, 73767, 73768, 73769, 73772, 73776, 73777, 73782, 73785, 73786, 73787, 73794, 73797, 73798, 73799, 73800, 73805, 73807, 73814, 73815, 73819, 73822, 73824, 73828, 73830, 73840, 73844, 73846, 73848, 73852, 73853, 73856, 73857, 73861, 73864, 73866, 73871, 73873, 73876, 73878, 73880, 73881, 73887, 73894, 73897, 73898, 73905, 73909, 73925, 73926, 73927, 73928, 73934, 73935, 73941, 73944, 73948, 73951, 73952, 73957, 73959, 73961, 73963, 73969, 73970, 73974, 73975, 73977, 73978, 73979, 73982, 73985, 73987, 73996, 74001, 74004, 74005, 74016, 74023, 74025, 74027, 74030, 74035, 74037, 74039, 74041, 74042, 74043, 74047, 74057, 74064, 74068, 74069, 74070, 74071, 74078, 74083, 74091, 74100, 74101, 74105, 74109, 74111, 74114, 74118, 74131, 74132, 74133, 74136, 74140, 74141, 74149, 74151, 74153, 74159, 74163, 74174, 74175, 74180, 74190, 74191, 74192, 74195, 74201, 74205, 74207, 74208, 74212, 74213, 74217, 74218, 74219, 74220, 74227, 74228, 74231, 74232, 74239, 74247, 74251, 74258, 74259, 74261, 74262, 74263, 74267, 74272, 74277, 74279, 74288, 74290, 74291, 74292, 74294, 74316, 74317, 74323, 74336, 74340, 74347, 74348, 74352, 74354, 74355, 74356, 74357, 74359, 74363, 74367, 74371, 74373, 74377, 74378, 74384, 74388, 74390, 74394, 74398, 74402, 74403, 74404, 74408, 74412, 74418, 74424, 74425, 74431, 74436, 74442, 74452, 74457, 74458, 74461, 74462, 74464, 74466, 74469, 74471, 74476, 74478, 74479, 74483, 74487, 74488, 74489, 74500, 74502, 74503, 74505, 74506, 74509, 74510, 74511, 74512, 74515, 74516, 74518, 74526, 74528, 74529, 74531, 74534, 74535, 74536, 74541, 74547, 74549, 74556, 74559, 74560, 74564, 74566, 74568, 74575, 74576, 74578, 74581, 74583, 74586, 74587, 74594, 74598, 74600, 74602, 74603, 74606, 74608, 74609, 74612, 74614, 74615, 74621, 74622, 74626, 74628, 74629, 74632, 74636, 74637, 74641, 74646, 74647, 74660, 74663, 74664, 74669, 74670, 74671, 74675, 74677, 74680, 74684, 74688, 74695, 74703, 74709, 74720, 74721, 74723, 74728, 74734, 74742, 74745, 74747, 74749, 74754, 74755, 74763, 74765, 74768, 74770, 74777, 74780, 74781, 74783, 74785, 74788, 74796, 74798, 74802, 74803, 74816, 74817, 74820, 74822, 74825, 74828, 74830, 74838, 74841, 74844, 74848, 74862, 74863, 74866, 74867, 74879, 74880, 74885, 74886, 74890, 74893, 74904, 74906, 74910, 74915, 74916, 74920, 74923, 74928, 74931, 74937, 74942, 74946, 74948, 74949, 74954, 74956, 74958, 74966, 74967, 74969, 74972, 74975, 74977, 74981, 74985, 74989, 74990, 74993, 74994, 74997, 75008, 75009, 75013, 75014, 75018, 75028, 75034, 75036, 75040, 75043, 75044, 75046, 75048, 75050, 75051, 75052, 75054, 75055, 75062, 75064, 75067, 75069, 75070, 75079, 75083, 75089, 75091, 75092, 75095, 75096, 75097, 75101, 75102, 75108, 75112, 75123, 75126, 75132, 75136, 75141, 75144, 75146, 75149, 75152, 75156, 75160, 75163, 75173, 75174, 75176, 75177, 75180, 75182, 75188, 75191, 75195, 75197, 75200, 75207, 75208, 75211, 75212, 75215, 75217, 75227, 75230, 75232, 75239, 75244, 75245, 75248, 75250, 75253, 75265, 75266, 75273, 75281, 75282, 75284, 75289, 75293, 75294, 75297, 75299, 75305, 75309, 75317, 75320, 75324, 75325, 75326, 75332, 75333, 75336, 75338, 75339, 75346, 75348, 75350, 75351, 75352, 75354, 75356, 75357, 75358, 75360, 75365, 75368, 75375, 75377, 75381, 75382, 75383, 75389, 75390, 75395, 75397, 75400, 75402, 75409, 75422, 75436, 75437, 75438, 75447, 75450, 75451, 75457, 75460, 75463, 75464, 75469, 75472, 75474, 75476, 75478, 75480, 75481, 75484, 75487, 75489, 75493, 75497, 75507, 75508, 75509, 75511, 75512, 75518, 75519, 75520, 75525, 75534, 75543, 75544, 75548, 75550, 75556, 75557, 75561, 75562, 75569, 75570, 75571, 75574, 75577, 75584, 75587, 75589, 75591, 75595, 75598, 75599, 75603, 75605, 75610, 75613, 75615, 75618, 75621, 75623, 75627, 75628, 75640, 75642, 75643, 75644, 75645, 75648, 75650, 75656, 75657, 75661, 75662, 75663, 75668, 75674, 75675, 75681, 75682, 75687, 75690, 75691, 75705, 75706, 75722, 75723, 75724, 75726, 75727, 75728, 75732, 75740, 75741, 75744, 75745, 75746, 75748, 75750, 75751, 75754, 75756, 75757, 75761, 75762, 75764, 75766, 75770, 75771, 75772, 75774, 75776, 75778, 75781, 75784, 75790, 75792, 75799, 75802, 75803, 75811, 75817, 75819, 75822, 75829, 75830, 75832, 75837, 75839, 75841, 75849, 75850, 75860, 75862, 75864, 75870, 75872, 75873, 75881, 75885, 75886, 75887, 75888, 75891, 75896, 75897, 75905, 75910, 75917, 75919, 75922, 75924, 75927, 75936, 75943, 75944, 75945, 75948, 75952, 75954, 75955, 75958, 75966, 75969, 75970, 75971, 75986, 75987, 75989, 75993, 76000, 76007, 76009, 76011, 76020, 76027, 76031, 76038, 76048, 76050, 76051, 76056, 76065, 76069, 76074, 76078, 76080, 76081, 76083, 76086, 76087, 76088, 76092, 76094, 76096, 76101, 76103, 76104, 76105, 76107, 76113, 76117, 76121, 76124, 76125, 76126, 76129, 76130, 76131, 76134, 76136, 76139, 76140, 76144, 76145, 76146, 76147, 76153, 76157, 76162, 76167, 76169, 76171, 76172, 76182, 76193, 76196, 76200, 76205, 76208, 76209, 76210, 76212, 76213, 76215, 76234, 76237, 76240, 76241, 76242, 76243, 76244, 76245, 76247, 76252, 76256, 76257, 76259, 76260, 76264, 76265, 76269, 76274, 76276, 76285, 76290, 76293, 76298, 76301, 76302, 76303, 76308, 76311, 76315, 76316, 76317, 76325, 76333, 76335, 76338, 76346, 76347, 76351, 76353, 76355, 76361, 76367, 76369, 76371, 76374, 76375, 76378, 76383, 76387, 76388, 76391, 76394, 76397, 76398, 76399, 76402, 76403, 76404, 76405, 76409, 76410, 76414, 76416, 76419, 76424, 76425, 76426, 76428, 76430, 76434, 76436, 76440, 76441, 76447, 76458, 76460, 76461, 76464, 76465, 76466, 76469, 76473, 76476, 76484, 76488, 76490, 76493, 76495, 76496, 76500, 76501, 76505, 76516, 76517, 76525, 76528, 76532, 76536, 76544, 76551, 76552, 76558, 76559, 76563, 76565, 76566, 76573, 76577, 76578, 76579, 76584, 76585, 76586, 76588, 76589, 76591, 76592, 76593, 76595, 76598, 76599, 76606, 76607, 76608, 76612, 76613, 76614, 76615, 76621, 76622, 76625, 76626, 76627, 76630, 76632, 76635, 76648, 76651, 76654, 76657, 76660, 76663, 76665, 76667, 76672, 76676, 76677, 76678, 76679, 76686, 76691, 76692, 76693, 76698, 76700, 76701, 76702, 76709, 76711, 76714, 76718, 76719, 76721, 76726, 76728, 76735, 76736, 76738, 76741, 76742, 76748, 76749, 76750, 76752, 76754, 76757, 76759, 76765, 76767, 76773, 76782, 76785, 76786, 76787, 76795, 76800, 76802, 76806, 76807, 76819, 76820, 76821, 76822, 76825, 76832, 76836, 76844, 76847, 76848, 76853, 76854, 76857, 76859, 76861, 76863, 76866, 76871, 76876, 76882, 76887, 76896, 76898, 76901, 76902, 76905, 76906, 76912, 76914, 76915, 76916, 76917, 76920, 76924, 76931, 76938, 76939, 76940, 76943, 76947, 76948, 76949, 76956, 76958, 76961, 76966, 76969, 76970, 76971, 76975, 76978, 76981, 76988, 76989, 76993, 76994, 76997, 77000, 77010, 77015, 77019, 77020, 77022, 77024, 77025, 77029, 77030, 77032, 77036, 77044, 77048, 77049, 77056, 77060, 77062, 77064, 77085, 77089, 77093, 77095, 77099, 77102, 77103, 77106, 77111, 77112, 77113, 77116, 77117, 77123, 77126, 77129, 77130, 77131, 77134, 77135, 77137, 77150, 77151, 77155, 77156, 77163, 77164, 77166, 77174, 77176, 77177, 77178, 77179, 77181, 77184, 77186, 77188, 77189, 77193, 77195, 77196, 77197, 77201, 77202, 77205, 77209, 77211, 77212, 77213, 77218, 77221, 77225, 77227, 77229, 77232, 77237, 77238, 77240, 77244, 77246, 77248, 77250, 77252, 77262, 77265, 77267, 77268, 77274, 77278, 77279, 77280, 77282, 77286, 77287, 77291, 77292, 77299, 77300, 77301, 77303, 77315, 77316, 77317, 77318, 77319, 77321, 77322, 77324, 77325, 77326, 77331, 77337, 77340, 77341, 77342, 77344, 77346, 77347, 77350, 77352, 77355, 77360, 77361, 77368, 77369, 77370, 77371, 77375, 77378, 77381, 77383, 77387, 77394, 77401, 77403, 77406, 77407, 77409, 77410, 77411, 77412, 77420, 77422, 77425, 77428, 77430, 77433, 77434, 77436, 77437, 77438, 77440, 77441, 77443, 77446, 77447, 77449, 77453, 77456, 77459, 77468, 77471, 77472, 77475, 77477, 77483, 77484, 77486, 77496, 77500, 77502, 77506, 77510, 77517, 77518, 77524, 77531, 77534, 77544, 77545, 77546, 77552, 77557, 77558, 77560, 77578, 77580, 77582, 77586, 77591, 77592, 77604, 77605, 77608, 77609, 77611, 77612, 77614, 77617, 77634, 77637, 77647, 77648, 77650, 77655, 77659, 77662, 77664, 77669, 77672, 77673, 77676, 77678, 77685, 77688, 77689, 77690, 77693, 77696, 77697, 77699, 77702, 77707, 77708, 77709, 77710, 77711, 77722, 77729, 77733, 77734, 77737, 77743, 77747, 77757, 77761, 77762, 77767, 77769, 77775, 77776, 77779, 77781, 77782, 77787, 77788, 77791, 77800, 77801, 77804, 77806, 77809, 77813, 77814, 77818, 77822, 77825, 77827, 77831, 77834, 77837, 77845, 77846, 77851, 77853, 77854, 77855, 77857, 77858, 77860, 77867, 77871, 77876, 77881, 77885, 77886, 77887, 77893, 77899, 77902, 77906, 77907, 77909, 77921, 77934, 77936, 77945, 77954, 77960, 77965, 77966, 77971, 77974, 77976, 77978, 77985, 77986, 77989, 77991, 77994, 77997, 77999, 78004, 78006, 78008, 78017, 78019, 78020, 78022, 78024, 78025, 78029, 78038, 78039, 78041, 78042, 78047, 78053, 78054, 78056, 78058, 78069, 78072, 78076, 78082, 78083, 78084, 78089, 78090, 78091, 78094, 78097, 78101, 78102, 78113, 78119, 78120, 78122, 78124, 78125, 78128, 78129, 78132, 78133, 78134, 78137, 78138, 78146, 78151, 78157, 78158, 78162, 78163, 78165, 78168, 78173, 78189, 78193, 78196, 78198, 78199, 78201, 78202, 78204, 78205, 78208, 78212, 78214, 78223, 78225, 78227, 78231, 78232, 78233, 78240, 78243, 78247, 78252, 78256, 78260, 78261, 78264, 78266, 78267, 78270, 78272, 78273, 78274, 78278, 78282, 78286, 78289, 78297, 78300, 78304, 78305, 78308, 78311, 78313, 78316, 78317, 78319, 78321, 78323, 78325, 78326, 78328, 78330, 78335, 78337, 78338, 78343, 78344, 78345, 78347, 78349, 78352, 78355, 78357, 78358, 78360, 78362, 78367, 78368, 78370, 78372, 78375, 78376, 78388, 78395, 78397, 78400, 78407, 78410, 78417, 78425, 78429, 78430, 78433, 78434, 78435, 78440, 78445, 78451, 78455, 78456, 78457, 78459, 78461, 78462, 78463, 78465, 78468, 78470, 78473, 78474, 78480, 78482, 78483, 78484, 78488, 78491, 78494, 78501, 78505, 78506, 78507, 78512, 78518, 78519, 78520, 78522, 78523, 78528, 78539, 78540, 78541, 78542, 78544, 78554, 78556, 78557, 78559, 78565, 78569, 78572, 78574, 78576, 78577, 78585, 78588, 78592, 78595, 78601, 78604, 78606, 78615, 78616, 78624, 78629, 78633, 78636, 78638, 78648, 78650, 78653, 78659, 78663, 78664, 78665, 78666, 78671, 78675, 78679, 78683, 78684, 78687, 78688, 78692, 78693, 78695, 78697, 78700, 78703, 78705, 78706, 78709, 78719, 78720, 78723, 78724, 78727, 78728, 78733, 78734, 78740, 78741, 78742, 78745, 78747, 78748, 78750, 78759, 78763, 78769, 78774, 78776, 78779, 78781, 78782, 78783, 78785, 78787, 78790, 78794, 78795, 78797, 78802, 78806, 78807, 78810, 78812, 78816, 78821, 78830, 78835, 78836, 78840, 78841, 78843, 78844, 78850, 78859, 78862, 78870, 78871, 78872, 78873, 78876, 78878, 78880, 78887, 78894, 78900, 78901, 78903, 78906, 78907, 78908, 78909, 78913, 78919, 78921, 78929, 78931, 78932, 78934, 78935, 78936, 78939, 78940, 78942, 78943, 78944, 78945, 78947, 78948, 78953, 78954, 78958, 78959, 78960, 78971, 78972, 78973, 78975, 78977, 78978, 78980, 78981, 78984, 78987, 78990, 78992, 78993, 78996, 78997, 79000, 79001, 79002, 79003, 79005, 79007, 79012, 79013, 79014, 79016, 79017, 79018, 79020, 79022, 79033, 79035, 79039, 79041, 79042, 79047, 79049, 79050, 79066, 79070, 79071, 79075, 79080, 79084, 79085, 79086, 79087, 79094, 79095, 79100, 79102, 79105, 79110, 79111, 79115, 79119, 79128, 79129, 79133, 79135, 79137, 79139, 79141, 79143, 79146, 79149, 79150, 79152, 79155, 79157, 79158, 79166, 79168, 79173, 79174, 79175, 79187, 79190, 79193, 79195, 79199, 79200, 79204, 79206, 79207, 79208, 79214, 79216, 79220, 79223, 79224, 79225, 79226, 79227, 79231, 79234, 79236, 79239, 79240, 79243, 79250, 79251, 79252, 79254, 79255, 79256, 79258, 79260, 79264, 79266, 79269, 79270, 79273, 79276, 79281, 79282, 79285, 79287, 79291, 79299, 79303, 79318, 79320, 79321, 79324, 79326, 79327, 79336, 79340, 79350, 79352, 79353, 79356, 79358, 79362, 79365, 79366, 79367, 79368, 79377, 79379, 79380, 79381, 79383, 79385, 79387, 79392, 79402, 79403, 79405, 79406, 79408, 79410, 79416, 79417, 79421, 79423, 79429, 79433, 79443, 79444, 79456, 79460, 79469, 79472, 79476, 79478, 79481, 79482, 79486, 79487, 79489, 79496, 79500, 79505, 79507, 79508, 79512, 79513, 79514, 79516, 79525, 79529, 79531, 79532, 79540, 79544, 79545, 79548, 79549, 79554, 79558, 79560, 79563, 79565, 79567, 79569, 79574, 79575, 79577, 79578, 79579, 79587, 79591, 79596, 79597, 79603, 79608, 79615, 79617, 79621, 79626, 79627, 79630, 79633, 79636, 79639, 79640, 79643, 79644, 79646, 79647, 79648, 79651, 79652, 79654, 79658, 79665, 79668, 79671, 79672, 79676, 79678, 79680, 79683, 79686, 79687, 79688, 79690, 79693, 79699, 79700, 79706, 79711, 79716, 79717, 79718, 79723, 79725, 79729, 79731, 79743, 79745, 79748, 79749, 79751, 79753, 79754, 79757, 79758, 79765, 79774, 79777, 79778, 79782, 79784, 79789, 79793, 79797, 79798, 79799, 79803, 79806, 79809, 79812, 79817, 79820, 79823, 79828, 79831, 79833, 79835, 79837, 79841, 79842, 79847, 79849, 79850, 79851, 79856, 79860, 79861, 79865, 79866, 79868, 79869, 79872, 79876, 79878, 79879, 79882, 79883, 79885, 79889, 79891, 79892, 79896, 79900, 79902, 79905, 79906, 79911, 79920, 79923, 79933, 79935, 79937, 79940, 79941, 79949, 79950, 79956, 79963, 79964, 79970, 79974, 79975, 79977, 79983, 79989, 79990, 79992, 79994, 79995, 79998, 80001, 80002, 80005, 80008, 80014, 80016, 80018, 80019, 80025, 80032, 80033, 80036, 80043, 80045, 80051, 80052, 80062, 80065, 80068, 80073, 80083, 80084, 80089, 80090, 80091, 80093, 80097, 80099, 80101, 80102, 80108, 80117, 80118, 80123, 80124, 80129, 80130, 80131, 80134, 80136, 80146, 80148, 80157, 80159, 80163, 80176, 80177, 80187, 80188, 80195, 80198, 80199, 80200, 80203, 80205, 80207, 80217, 80222, 80228, 80232, 80234, 80238, 80241, 80247, 80251, 80252, 80253, 80255, 80257, 80259, 80265, 80268, 80270, 80271, 80280, 80282, 80283, 80286, 80293, 80297, 80299, 80301, 80303, 80305, 80309, 80310, 80312, 80314, 80318, 80323, 80326, 80327, 80334, 80336, 80337, 80345, 80347, 80349, 80352, 80354, 80356, 80363, 80364, 80374, 80375, 80377, 80378, 80380, 80381, 80385, 80388, 80389, 80391, 80396, 80397, 80406, 80407, 80415, 80418, 80432, 80434, 80440, 80446, 80447, 80451, 80452, 80453, 80454, 80465, 80468, 80469, 80472, 80473, 80474, 80475, 80477, 80481, 80487, 80488, 80489, 80492, 80498, 80502, 80503, 80506, 80508, 80511, 80515, 80517, 80523, 80526, 80535, 80542, 80545, 80549, 80551, 80552, 80555, 80559, 80560, 80568, 80570, 80572, 80573, 80576, 80596, 80599, 80603, 80606, 80609, 80613, 80618, 80619, 80622, 80628, 80634, 80638, 80639, 80643, 80645, 80650, 80654, 80656, 80661, 80664, 80665, 80673, 80676, 80679, 80682, 80685, 80686, 80692, 80694, 80697, 80699, 80702, 80710, 80725, 80731, 80732, 80733, 80734, 80736, 80737, 80738, 80741, 80742, 80744, 80747, 80748, 80751, 80753, 80763, 80764, 80765, 80767, 80773, 80774, 80775, 80778, 80779, 80781, 80783, 80785, 80786, 80789, 80790, 80793, 80797, 80798, 80799, 80825, 80829, 80830, 80832, 80846, 80848, 80853, 80855, 80857, 80858, 80862, 80864, 80865, 80869, 80883, 80884, 80887, 80891, 80898, 80899, 80901, 80903, 80904, 80905, 80907, 80908, 80910, 80916, 80924, 80926, 80932, 80934, 80942, 80944, 80945, 80948, 80952, 80963, 80964, 80967, 80972, 80974, 80977, 80978, 80982, 80983, 80985, 80987, 80988, 80995, 80997, 81000, 81001, 81003, 81005, 81007, 81009, 81012, 81020, 81022, 81026, 81027, 81031, 81032, 81033, 81035, 81046, 81047, 81048, 81049, 81052, 81058, 81059, 81063, 81064, 81065, 81067, 81073, 81075, 81079, 81080, 81082, 81083, 81087, 81089, 81091, 81092, 81095, 81096, 81098, 81099, 81102, 81109, 81122, 81128, 81137, 81138, 81141, 81142, 81144, 81146, 81147, 81148, 81151, 81153, 81156, 81158, 81161, 81163, 81164, 81166, 81168, 81170, 81172, 81175, 81177, 81179, 81180, 81187, 81191, 81195, 81198, 81201, 81202, 81206, 81211, 81212, 81213, 81216, 81219, 81220, 81223, 81224, 81226, 81230, 81231, 81232, 81235, 81238, 81240, 81241, 81243, 81251, 81252, 81253, 81254, 81259, 81262, 81264, 81269, 81272, 81274, 81275, 81277, 81278, 81287, 81290, 81291, 81293, 81297, 81305, 81307, 81310, 81313, 81314, 81316, 81325, 81327, 81329, 81333, 81340, 81345, 81352, 81355, 81357, 81359, 81363, 81364, 81366, 81372, 81376, 81379, 81384, 81385, 81387, 81394, 81396, 81400, 81401, 81402, 81405, 81406, 81410, 81411, 81412, 81414, 81415, 81419, 81425, 81432, 81433, 81435, 81439, 81441, 81453, 81454, 81455, 81459, 81469, 81472, 81476, 81485, 81487, 81492, 81493, 81497, 81500, 81503, 81508, 81509, 81514, 81520, 81522, 81523, 81526, 81527, 81528, 81531, 81536, 81537, 81538, 81545, 81550, 81557, 81559, 81561, 81563, 81567, 81569, 81573, 81574, 81580, 81581, 81582, 81591, 81598, 81600, 81601, 81603, 81606, 81611, 81612, 81619, 81621, 81626, 81632, 81634, 81647, 81648, 81649, 81650, 81652, 81656, 81659, 81660, 81661, 81665, 81667, 81669, 81676, 81677, 81681, 81687, 81688, 81691, 81692, 81697, 81698, 81700, 81702, 81704, 81708, 81712, 81714, 81718, 81720, 81724, 81726, 81730, 81737, 81743, 81744, 81746, 81750, 81751, 81752, 81763, 81764, 81765, 81767, 81775, 81778, 81780, 81783, 81786, 81787, 81795, 81798, 81799, 81804, 81811, 81815, 81816, 81817, 81820, 81823, 81829, 81830, 81832, 81835, 81838, 81839, 81841, 81844, 81847, 81850, 81853, 81855, 81862, 81864, 81866, 81870, 81878, 81883, 81884, 81885, 81887, 81894, 81897, 81898, 81899, 81900, 81903, 81913, 81914, 81920, 81921, 81924, 81925, 81927, 81931, 81932, 81936, 81939, 81940, 81944, 81945, 81947, 81955, 81960, 81964, 81975, 81976, 81977, 81981, 81984, 81986, 81990, 81991, 81993, 81994, 81996, 82000, 82004, 82007, 82012, 82014, 82017, 82023, 82024, 82025, 82029, 82030, 82036, 82042, 82046, 82047, 82053, 82055, 82059, 82060, 82063, 82066, 82067, 82072, 82073, 82081, 82082, 82085, 82086, 82092, 82101, 82106, 82114, 82115, 82116, 82127, 82131, 82141, 82142, 82144, 82145, 82149, 82156, 82158, 82162, 82163, 82168, 82169, 82170, 82174, 82182, 82183, 82185, 82192, 82202, 82204, 82205, 82208, 82211, 82215, 82218, 82219, 82224, 82227, 82230, 82234, 82235, 82238, 82243, 82247, 82251, 82252, 82257, 82259, 82260, 82264, 82265, 82269, 82273, 82274, 82277, 82278, 82279, 82283, 82291, 82293, 82299, 82310, 82311, 82313, 82319, 82322, 82324, 82325, 82326, 82327, 82328, 82330, 82331, 82333, 82336, 82339, 82347, 82351, 82355, 82358, 82361, 82373, 82374, 82377, 82379, 82380, 82386, 82394, 82395, 82411, 82414, 82425, 82426, 82428, 82430, 82431, 82432, 82433, 82435, 82437, 82440, 82441, 82443, 82444, 82445, 82450, 82453, 82454, 82458, 82459, 82461, 82462, 82465, 82468, 82470, 82476, 82478, 82480, 82483, 82487, 82492, 82494, 82496, 82500, 82506, 82507, 82508, 82509, 82512, 82515, 82521, 82522, 82529, 82533, 82534, 82536, 82538, 82539, 82543, 82548, 82549, 82558, 82559, 82560, 82578, 82583, 82586, 82590, 82591, 82597, 82599, 82601, 82602, 82605, 82606, 82609, 82612, 82613, 82614, 82616, 82621, 82626, 82627, 82631, 82643, 82647, 82651, 82656, 82663, 82670, 82672, 82679, 82682, 82683, 82686, 82689, 82691, 82692, 82696, 82697, 82699, 82700, 82702, 82704, 82708, 82711, 82719, 82722, 82725, 82734, 82735, 82737, 82738, 82752, 82755, 82756, 82757, 82763, 82773, 82778, 82791, 82793, 82794, 82795, 82796, 82798, 82799, 82801, 82806, 82809, 82812, 82813, 82814, 82816, 82817, 82820, 82822, 82823, 82827, 82828, 82830, 82834, 82837, 82838, 82840, 82842, 82843, 82844, 82848, 82852, 82854, 82856, 82859, 82860, 82868, 82872, 82875, 82883, 82892, 82893, 82898, 82900, 82905, 82906, 82908, 82910, 82912, 82913, 82915, 82917, 82921, 82922, 82927, 82928, 82935, 82936, 82938, 82940, 82941, 82944, 82948, 82949, 82954, 82962, 82968, 82970, 82971, 82972, 82978, 82980, 82984, 82989, 82997, 82999, 83004, 83012, 83013, 83014, 83019, 83031, 83032, 83043, 83044, 83048, 83051, 83055, 83060, 83061, 83062, 83063, 83065, 83068, 83070, 83074, 83082, 83084, 83088, 83090, 83091, 83092, 83095, 83097, 83101, 83104, 83105, 83109, 83111, 83114, 83116, 83119, 83120, 83128, 83132, 83134, 83139, 83140, 83141, 83143, 83147, 83149, 83150, 83152, 83162, 83166, 83167, 83169, 83172, 83176, 83181, 83182, 83186, 83187, 83189, 83191, 83197, 83198, 83203, 83218, 83222, 83228, 83233, 83242, 83243, 83246, 83248, 83250, 83253, 83255, 83256, 83258, 83260, 83261, 83274, 83277, 83278, 83284, 83288, 83290, 83291, 83294, 83301, 83302, 83306, 83313, 83316, 83317, 83322, 83324, 83325, 83327, 83330, 83333, 83339, 83340, 83347, 83352, 83355, 83357, 83360, 83361, 83362, 83366, 83371, 83374, 83377, 83378, 83381, 83385, 83386, 83390, 83391, 83393, 83394, 83398, 83400, 83409, 83410, 83411, 83415, 83416, 83419, 83424, 83426, 83429, 83431, 83435, 83436, 83440, 83441, 83445, 83450, 83452, 83454, 83456, 83457, 83459, 83461, 83463, 83465, 83466, 83469, 83470, 83475, 83476, 83478, 83480, 83481, 83482, 83485, 83489, 83490, 83496, 83509, 83520, 83526, 83527, 83541, 83543, 83546, 83549, 83551, 83554, 83556, 83558, 83559, 83561, 83570, 83571, 83577, 83578, 83585, 83590, 83591, 83600, 83607, 83623, 83625, 83626, 83627, 83629, 83631, 83638, 83641, 83644, 83646, 83651, 83653, 83654, 83669, 83671, 83678, 83680, 83685, 83687, 83688, 83691, 83695, 83700, 83707, 83710, 83712, 83716, 83730, 83740, 83745, 83748, 83749, 83754, 83755, 83767, 83769, 83777, 83779, 83781, 83786, 83788, 83790, 83793, 83795, 83796, 83803, 83804, 83806, 83813, 83824, 83825, 83826, 83829, 83830, 83832, 83837, 83838, 83840, 83850, 83852, 83853, 83855, 83859, 83869, 83872, 83874, 83875, 83883, 83884, 83887, 83888, 83889, 83890, 83895, 83903, 83907, 83912, 83914, 83917, 83919, 83922, 83924, 83934, 83935, 83937, 83942, 83952, 83959, 83960, 83964, 83965, 83967, 83968, 83972, 83975, 83977, 83980, 83983, 83985, 83989, 83992, 83995, 84001, 84002, 84008, 84010, 84011, 84012, 84018, 84019, 84021, 84026, 84044, 84046, 84049, 84054, 84056, 84058, 84061, 84064, 84066, 84074, 84076, 84083, 84092, 84094, 84097, 84101, 84102, 84105, 84107, 84115, 84116, 84123, 84130, 84133, 84134, 84138, 84142, 84144, 84146, 84148, 84153, 84158, 84162, 84165, 84171, 84176, 84178, 84187, 84191, 84192, 84194, 84196, 84197, 84198, 84200, 84202, 84205, 84207, 84209, 84210, 84211, 84213, 84214, 84217, 84219, 84222, 84228, 84231, 84233, 84257, 84263, 84268, 84283, 84288, 84295, 84296, 84298, 84301, 84304, 84306, 84307, 84308, 84310, 84314, 84322, 84326, 84327, 84329, 84334, 84336, 84337, 84343, 84346, 84353, 84354, 84358, 84360, 84366, 84369, 84375, 84378, 84381, 84384, 84387, 84390, 84395, 84397, 84400, 84406, 84407, 84413, 84415, 84420, 84421, 84426, 84430, 84431, 84436, 84439, 84441, 84443, 84446, 84447, 84449, 84452, 84456, 84462, 84464, 84466, 84468, 84472, 84474, 84477, 84482, 84484, 84485, 84486, 84488, 84491, 84496, 84499, 84500, 84502, 84503, 84505, 84507, 84512, 84518, 84520, 84527, 84530, 84536, 84540, 84544, 84548, 84549, 84554, 84567, 84576, 84580, 84581, 84586, 84594, 84596, 84597, 84598, 84602, 84603, 84606, 84608, 84609, 84610, 84615, 84616, 84618, 84620, 84621, 84623, 84630, 84634, 84643, 84644, 84645, 84651, 84655, 84658, 84663, 84666, 84675, 84676, 84678, 84683, 84689, 84691, 84701, 84706, 84711, 84716, 84718, 84727, 84728, 84732, 84741, 84742, 84745, 84750, 84752, 84762, 84764, 84766, 84768, 84774, 84776, 84783, 84787, 84796, 84805, 84807, 84808, 84810, 84811, 84816, 84822, 84823, 84826, 84831, 84836, 84837, 84838, 84841, 84843, 84845, 84847, 84849, 84851, 84861, 84864, 84868, 84871, 84873, 84877, 84878, 84879, 84883, 84889, 84890, 84897, 84898, 84899, 84900, 84909, 84911, 84919, 84924, 84925, 84931, 84940, 84941, 84957, 84962, 84965, 84967, 84968, 84969, 84972, 84974, 84978, 84982, 84984, 84985, 84988, 84990, 84999, 85016, 85017, 85018, 85019, 85021, 85022, 85023, 85026, 85028, 85031, 85036, 85040, 85049, 85050, 85053, 85055, 85056, 85057, 85061, 85070, 85072, 85076, 85077, 85081, 85085, 85087, 85093, 85097, 85098, 85099, 85100, 85101, 85104, 85105, 85111, 85112, 85115, 85118, 85119, 85135, 85140, 85141, 85148, 85152, 85153, 85156, 85157, 85158, 85167, 85168, 85180, 85181, 85187, 85192, 85193, 85194, 85195, 85200, 85202, 85208, 85210, 85212, 85215, 85221, 85234, 85235, 85236, 85237, 85243, 85251, 85255, 85263, 85266, 85267, 85268, 85275, 85276, 85285, 85286, 85288, 85290, 85292, 85298, 85302, 85304, 85305, 85307, 85311, 85315, 85319, 85322, 85323, 85328, 85332, 85333, 85334, 85336, 85341, 85344, 85345, 85355, 85356, 85363, 85371, 85373, 85374, 85380, 85384, 85385, 85388, 85389, 85395, 85396, 85397, 85410, 85415, 85418, 85419, 85422, 85424, 85428, 85432, 85438, 85439, 85441, 85444, 85445, 85446, 85450, 85452, 85458, 85461, 85462, 85466, 85475, 85477, 85484, 85490, 85495, 85497, 85498, 85503, 85507, 85510, 85515, 85520, 85521, 85535, 85542, 85549, 85558, 85562, 85566, 85568, 85569, 85570, 85571, 85580, 85583, 85590, 85592, 85593, 85594, 85595, 85596, 85597, 85603, 85604, 85612, 85623, 85628, 85629, 85634, 85636, 85641, 85642, 85643, 85645, 85647, 85648, 85655, 85657, 85659, 85660, 85665, 85666, 85669, 85671, 85676, 85679, 85681, 85682, 85684, 85692, 85694, 85703, 85716, 85717, 85720, 85721, 85722, 85723, 85727, 85734, 85735, 85736, 85737, 85741, 85742, 85745, 85749, 85756, 85758, 85764, 85766, 85767, 85768, 85771, 85776, 85778, 85782, 85783, 85788, 85793, 85795, 85801, 85812, 85813, 85814, 85816, 85818, 85821, 85823, 85824, 85826, 85828, 85831, 85832, 85839, 85842, 85845, 85847, 85849, 85850, 85851, 85855, 85861, 85868, 85870, 85876, 85877, 85878, 85883, 85884, 85885, 85886, 85887, 85892, 85893, 85895, 85897, 85899, 85901, 85902, 85904, 85905, 85915, 85917, 85918, 85919, 85922, 85925, 85926, 85930, 85933, 85935, 85937, 85938, 85940, 85942, 85943, 85944, 85954, 85958, 85959, 85961, 85962, 85964, 85966, 85969, 85987, 85996, 85998, 86002, 86006, 86007, 86020, 86023, 86025, 86034, 86036, 86038, 86042, 86044, 86049, 86050, 86053, 86057, 86059, 86062, 86066, 86076, 86078, 86079, 86080, 86081, 86083, 86084, 86088, 86091, 86099, 86106, 86111, 86115, 86117, 86121, 86122, 86124, 86125, 86127, 86129, 86131, 86132, 86134, 86138, 86158, 86159, 86160, 86164, 86176, 86178, 86180, 86181, 86182, 86184, 86188, 86190, 86195, 86196, 86210, 86219, 86220, 86221, 86222, 86228, 86239, 86240, 86244, 86245, 86246, 86247, 86248, 86252, 86256, 86259, 86263, 86265, 86266, 86267, 86270, 86274, 86280, 86283, 86284, 86297, 86298, 86301, 86303, 86304, 86305, 86308, 86310, 86311, 86313, 86314, 86317, 86327, 86337, 86339, 86342, 86345, 86348, 86352, 86355, 86358, 86359, 86361, 86364, 86365, 86367, 86369, 86370, 86372, 86373, 86374, 86376, 86379, 86380, 86382, 86383, 86384, 86385, 86388, 86391, 86396, 86400, 86403, 86404, 86407, 86408, 86413, 86423, 86430, 86434, 86435, 86438, 86443, 86446, 86448, 86453, 86454, 86457, 86466, 86468, 86469, 86471, 86474, 86478, 86480, 86487, 86490, 86492, 86495, 86496, 86498, 86520, 86521, 86526, 86527, 86530, 86531, 86535, 86536, 86541, 86542, 86543, 86548, 86549, 86552, 86557, 86558, 86559, 86569, 86570, 86574, 86577, 86587, 86590, 86591, 86594, 86597, 86598, 86599, 86600, 86601, 86602, 86616, 86617, 86623, 86624, 86626, 86630, 86635, 86641, 86645, 86646, 86650, 86652, 86653, 86656, 86658, 86660, 86668, 86669, 86670, 86673, 86674, 86675, 86681, 86685, 86688, 86689, 86691, 86692, 86698, 86701, 86707, 86709, 86712, 86715, 86716, 86719, 86724, 86726, 86733, 86740, 86741, 86746, 86748, 86759, 86766, 86768, 86769, 86774, 86778, 86779, 86781, 86783, 86785, 86786, 86794, 86795, 86796, 86798, 86799, 86802, 86805, 86809, 86811, 86817, 86828, 86830, 86833, 86841, 86842, 86843, 86849, 86854, 86866, 86868, 86870, 86873, 86876, 86883, 86885, 86894, 86895, 86902, 86905, 86909, 86916, 86922, 86923, 86925, 86928, 86929, 86933, 86936, 86938, 86941, 86944, 86947, 86953, 86954, 86955, 86959, 86963, 86965, 86968, 86969, 86971, 86972, 86976, 86980, 86981, 86984, 86985, 86987, 86991, 86994, 86997, 87001, 87004, 87011, 87014, 87018, 87019, 87020, 87026, 87032, 87041, 87042, 87050, 87052, 87058, 87060, 87061, 87063, 87065, 87067, 87068, 87070, 87078, 87081, 87090, 87091, 87093, 87094, 87096, 87103, 87104, 87108, 87110, 87112, 87113, 87122, 87129, 87132, 87134, 87144, 87146, 87148, 87149, 87152, 87154, 87160, 87163, 87164, 87165, 87166, 87171, 87172, 87175, 87176, 87177, 87179, 87183, 87184, 87185, 87189, 87193, 87197, 87205, 87207, 87210, 87211, 87217, 87220, 87225, 87227, 87233, 87242, 87243, 87247, 87249, 87252, 87254, 87257, 87258, 87263, 87269, 87270, 87276, 87277, 87284, 87285, 87290, 87292, 87293, 87295, 87296, 87300, 87303, 87307, 87308, 87310, 87319, 87320, 87323, 87324, 87325, 87327, 87328, 87331, 87333, 87339, 87340, 87341, 87350, 87351, 87356, 87358, 87362, 87364, 87367, 87368, 87369, 87370, 87376, 87379, 87383, 87384, 87387, 87389, 87392, 87393, 87397, 87399, 87408, 87410, 87411, 87416, 87418, 87419, 87422, 87428, 87429, 87436, 87437, 87439, 87440, 87442, 87443, 87444, 87448, 87449, 87452, 87453, 87454, 87455, 87456, 87458, 87460, 87467, 87468, 87477, 87484, 87486, 87491, 87492, 87504, 87506, 87508, 87514, 87515, 87517, 87518, 87522, 87526, 87527, 87530, 87532, 87536, 87540, 87552, 87553, 87555, 87556, 87561, 87563, 87564, 87565, 87566, 87569, 87570, 87573, 87574, 87576, 87581, 87583, 87584, 87589, 87590, 87591, 87593, 87597, 87604, 87612, 87617, 87618, 87620, 87634, 87635, 87637, 87638, 87640, 87643, 87649, 87651, 87656, 87658, 87665, 87666, 87671, 87673, 87679, 87680, 87686, 87687, 87688, 87692, 87697, 87699, 87703, 87709, 87710, 87711, 87725, 87727, 87732, 87735, 87737, 87739, 87745, 87747, 87751, 87752, 87754, 87756, 87758, 87759, 87762, 87769, 87776, 87777, 87779, 87781, 87783, 87787, 87788, 87790, 87791, 87792, 87793, 87796, 87797, 87804, 87809, 87811, 87815, 87816, 87820, 87821, 87822, 87823, 87826, 87829, 87830, 87837, 87841, 87845, 87848, 87851, 87860, 87862, 87871, 87874, 87876, 87877, 87884, 87886, 87893, 87896, 87900, 87902, 87904, 87910, 87912, 87914, 87915, 87916, 87917, 87921, 87932, 87940, 87941, 87943, 87948, 87949, 87952, 87953, 87956, 87958, 87963, 87964, 87968, 87972, 87973, 87982, 87986, 87994, 87996, 87998, 87999, 88000, 88001, 88003, 88007, 88008, 88015, 88016, 88020, 88024, 88025, 88030, 88035, 88038, 88040, 88042, 88043, 88047, 88049, 88051, 88053, 88057, 88061, 88062, 88067, 88068, 88069, 88070, 88073, 88074, 88081, 88082, 88088, 88089, 88099, 88102, 88103, 88110, 88114, 88115, 88116, 88119, 88125, 88127, 88129, 88130, 88131, 88133, 88136, 88148, 88151, 88153, 88161, 88162, 88170, 88171, 88178, 88182, 88184, 88185, 88191, 88193, 88207, 88212, 88223, 88232, 88237, 88238, 88240, 88246, 88247, 88249, 88251, 88254, 88255, 88265, 88266, 88269, 88273, 88276, 88279, 88285, 88286, 88288, 88289, 88294, 88297, 88307, 88309, 88311, 88314, 88318, 88319, 88327, 88329, 88330, 88335, 88342, 88343, 88344, 88346, 88355, 88356, 88358, 88362, 88368, 88369, 88375, 88380, 88384, 88386, 88387, 88392, 88403, 88406, 88407, 88408, 88409, 88419, 88424, 88425, 88436, 88441, 88444, 88448, 88458, 88459, 88464, 88467, 88477, 88478, 88482, 88491, 88497, 88502, 88503, 88506, 88510, 88519, 88526, 88527, 88531, 88536, 88537, 88541, 88543, 88545, 88547, 88556, 88557, 88559, 88560, 88562, 88563, 88569, 88572, 88578, 88579, 88587, 88592, 88597, 88601, 88602, 88604, 88610, 88618, 88625, 88626, 88629, 88632, 88635, 88638, 88643, 88644, 88645, 88647, 88652, 88654, 88655, 88657, 88659, 88661, 88662, 88665, 88668, 88670, 88673, 88674, 88675, 88676, 88678, 88681, 88684, 88685, 88686, 88694, 88695, 88704, 88708, 88709, 88711, 88713, 88716, 88718, 88719, 88721, 88723, 88726, 88727, 88729, 88733, 88735, 88738, 88740, 88748, 88757, 88758, 88761, 88764, 88766, 88769, 88771, 88773, 88775, 88779, 88780, 88781, 88782, 88784, 88789, 88790, 88793, 88795, 88797, 88800, 88806, 88810, 88814, 88815, 88816, 88817, 88818, 88821, 88822, 88823, 88827, 88832, 88838, 88843, 88846, 88847, 88852, 88855, 88858, 88859, 88862, 88864, 88867, 88868, 88872, 88875, 88877, 88878, 88880, 88881, 88883, 88885, 88887, 88888, 88893, 88894, 88897, 88899, 88900, 88911, 88912, 88914, 88917, 88918, 88922, 88923, 88924, 88925, 88926, 88931, 88932, 88933, 88936, 88940, 88946, 88951, 88956, 88960, 88963, 88967, 88971, 88974, 88988, 88990, 88995, 89003, 89005, 89006, 89014, 89015, 89018, 89019, 89020, 89023, 89025, 89028, 89032, 89037, 89040, 89043, 89049, 89053, 89062, 89066, 89071, 89073, 89075, 89079, 89081, 89082, 89085, 89090, 89094, 89095, 89098, 89103, 89106, 89107, 89111, 89112, 89113, 89114, 89115, 89121, 89123, 89136, 89137, 89139, 89142, 89143, 89147, 89156, 89163, 89166, 89167, 89168, 89170, 89171, 89174, 89175, 89178, 89180, 89185, 89193, 89196, 89198, 89201, 89203, 89206, 89207, 89210, 89211, 89212, 89226, 89227, 89231, 89235, 89238, 89239, 89260, 89263, 89267, 89269, 89270, 89273, 89276, 89279, 89282, 89285, 89291, 89296, 89305, 89307, 89310, 89316, 89320, 89322, 89323, 89324, 89326, 89330, 89334, 89338, 89339, 89346, 89349, 89350, 89353, 89354, 89355, 89357, 89359, 89361, 89367, 89369, 89370, 89372, 89374, 89375, 89381, 89383, 89386, 89390, 89396, 89404, 89410, 89417, 89418, 89419, 89422, 89425, 89427, 89429, 89431, 89432, 89433, 89434, 89437, 89438, 89440, 89449, 89450, 89452, 89463, 89467, 89474, 89475, 89477, 89479, 89481, 89487, 89488, 89490, 89491, 89492, 89497, 89499, 89501, 89504, 89506, 89516, 89522, 89524, 89525, 89528, 89531, 89532, 89533, 89543, 89544, 89545, 89547, 89553, 89554, 89560, 89562, 89563, 89566, 89571, 89573, 89578, 89581, 89586, 89587, 89589, 89590, 89596, 89602, 89603, 89605, 89613, 89614, 89615, 89616, 89618, 89620, 89634, 89635, 89636, 89639, 89642, 89643, 89644, 89646, 89647, 89648, 89651, 89655, 89656, 89657, 89658, 89660, 89664, 89666, 89667, 89669, 89675, 89676, 89684, 89690, 89697, 89702, 89705, 89706, 89709, 89711, 89719, 89720, 89721, 89727, 89729, 89730, 89731, 89732, 89734, 89735, 89737, 89741, 89746, 89747, 89748, 89749, 89753, 89755, 89756, 89757, 89767, 89770, 89771, 89777, 89779, 89782, 89784, 89785, 89790, 89797, 89798, 89799, 89802, 89803, 89807, 89810, 89819, 89822, 89825, 89826, 89827, 89829, 89830, 89832, 89835, 89836, 89838, 89839, 89843, 89844, 89845, 89846, 89847, 89851, 89853, 89857, 89859, 89860, 89863, 89865, 89866, 89877, 89880, 89883, 89888, 89890, 89897, 89898, 89904, 89908, 89909, 89912, 89914, 89917, 89918, 89933, 89935, 89941, 89942, 89946, 89955, 89957, 89958, 89959, 89960, 89962, 89965, 89966, 89968, 89969, 89970, 89976, 89977, 89979, 89980, 89985, 89986, 89987, 89993, 90001, 90013, 90015, 90016, 90019, 90023, 90024, 90028, 90033, 90039, 90040, 90044, 90046, 90047, 90050, 90051, 90053, 90056, 90061, 90064, 90066, 90068, 90069, 90078, 90086, 90090, 90098, 90099, 90102, 90110, 90115, 90117, 90118, 90120, 90123, 90147, 90149, 90150, 90152, 90156, 90160, 90173, 90180, 90182, 90191, 90201, 90204, 90206, 90215, 90219, 90225, 90226, 90231, 90232, 90234, 90240, 90243, 90253, 90255, 90258, 90270, 90271, 90272, 90276, 90290, 90297, 90299, 90300, 90313, 90316, 90317, 90321, 90335, 90337, 90340, 90344, 90352, 90353, 90354, 90355, 90357, 90358, 90359, 90362, 90363, 90366, 90372, 90374, 90375, 90377, 90380, 90383, 90384, 90386, 90388, 90390, 90392, 90398, 90399, 90401, 90405, 90417, 90420, 90421, 90422, 90425, 90426, 90429, 90433, 90434, 90436, 90438, 90439, 90443, 90444, 90446, 90454, 90461, 90463, 90464, 90470, 90471, 90479, 90480, 90484, 90485, 90486, 90488, 90494, 90496, 90500, 90501, 90503, 90507, 90508, 90512, 90516, 90524, 90526, 90533, 90534, 90535, 90537, 90539, 90545, 90548, 90549, 90550, 90553, 90556, 90557, 90561, 90565, 90566, 90567, 90568, 90574, 90576, 90578, 90579, 90582, 90583, 90588, 90590, 90592, 90594, 90598, 90599, 90602, 90604, 90610, 90611, 90615, 90617, 90618, 90619, 90625, 90627, 90628, 90634, 90638, 90640, 90642, 90643, 90646, 90648, 90649, 90654, 90656, 90657, 90659, 90661, 90662, 90671, 90674, 90675, 90677, 90679, 90682, 90688, 90691, 90693, 90696, 90698, 90703, 90705, 90709, 90712, 90713, 90714, 90719, 90731, 90732, 90734, 90743, 90745, 90751, 90752, 90758, 90759, 90762, 90768, 90775, 90780, 90786, 90787, 90788, 90793, 90796, 90802, 90803, 90805, 90811, 90817, 90818, 90819, 90825, 90830, 90832, 90837, 90846, 90850, 90854, 90857, 90858, 90861, 90868, 90869, 90871, 90876, 90877, 90887, 90892, 90893, 90895, 90896, 90901, 90902, 90905, 90914, 90915, 90917, 90918, 90921, 90929, 90934, 90939, 90942, 90953, 90954, 90956, 90963, 90964, 90965, 90977, 90979, 90981, 90988, 90990, 90996, 90997, 90998, 90999, 91001, 91004, 91012, 91014, 91017, 91019, 91032, 91039, 91045, 91049, 91052, 91069, 91078, 91079, 91084, 91090, 91097, 91101, 91104, 91109, 91113, 91114, 91117, 91126, 91128, 91133, 91134, 91136, 91137, 91138, 91139, 91141, 91144, 91147, 91149, 91150, 91152, 91155, 91159, 91162, 91167, 91168, 91170, 91174, 91175, 91182, 91183, 91184, 91192, 91193, 91201, 91204, 91206, 91207, 91209, 91211, 91215, 91219, 91223, 91224, 91233, 91237, 91238, 91243, 91244, 91245, 91247, 91248, 91249, 91251, 91254, 91255, 91256, 91258, 91260, 91261, 91264, 91269, 91272, 91275, 91276, 91280, 91285, 91289, 91296, 91301, 91307, 91314, 91316, 91317, 91325, 91327, 91329, 91330, 91333, 91335, 91336, 91338, 91341, 91342, 91345, 91350, 91352, 91357, 91359, 91361, 91365, 91366, 91367, 91373, 91377, 91379, 91383, 91384, 91389, 91395, 91405, 91422, 91424, 91425, 91428, 91430, 91435, 91443, 91445, 91449, 91453, 91454, 91460, 91462, 91463, 91466, 91467, 91472, 91474, 91486, 91494, 91495, 91500, 91501, 91502, 91503, 91504, 91506, 91510, 91511, 91524, 91526, 91528, 91530, 91538, 91542, 91547, 91548, 91550, 91554, 91555, 91557, 91558, 91561, 91562, 91565, 91572, 91573, 91576, 91578, 91592, 91593, 91595, 91598, 91605, 91606, 91608, 91611, 91615, 91617, 91619, 91628, 91629, 91631, 91633, 91636, 91639, 91648, 91650, 91651, 91654, 91658, 91660, 91662, 91664, 91667, 91668, 91670, 91673, 91677, 91684, 91689, 91694, 91705, 91713, 91716, 91717, 91718, 91722, 91724, 91726, 91728, 91734, 91736, 91738, 91741, 91742, 91743, 91752, 91755, 91757, 91758, 91761, 91762, 91766, 91775, 91785, 91788, 91789, 91790, 91795, 91797, 91801, 91805, 91809, 91811, 91813, 91815, 91816, 91819, 91822, 91823, 91837, 91840, 91853, 91854, 91855, 91856, 91857, 91858, 91859, 91860, 91863, 91865, 91868, 91873, 91875, 91883, 91884, 91886, 91891, 91898, 91902, 91903, 91904, 91909, 91912, 91918, 91920, 91923, 91924, 91926, 91935, 91943, 91946, 91947, 91948, 91952, 91954, 91959, 91960, 91961, 91962, 91966, 91970, 91972, 91974, 91976, 91982, 91983, 91990, 91992, 91999, 92001, 92004, 92017, 92019, 92022, 92023, 92024, 92026, 92031, 92032, 92035, 92037, 92039, 92040, 92042, 92043, 92046, 92047, 92049, 92050, 92061, 92066, 92072, 92083, 92085, 92086, 92087, 92091, 92096, 92099, 92100, 92103, 92104, 92105, 92107, 92112, 92113, 92117, 92122, 92132, 92137, 92139, 92145, 92148, 92152, 92153, 92156, 92158, 92162, 92163, 92172, 92174, 92176, 92177, 92178, 92188, 92190, 92192, 92200, 92202, 92205, 92206, 92207, 92221, 92225, 92228, 92234, 92236, 92238, 92239, 92240, 92253, 92260, 92261, 92268, 92271, 92272, 92273, 92274, 92275, 92291, 92293, 92296, 92299, 92307, 92314, 92316, 92319, 92320, 92322, 92323, 92324, 92326, 92335, 92342, 92343, 92350, 92351, 92352, 92354, 92361, 92369, 92371, 92379, 92380, 92384, 92389, 92396, 92397, 92401, 92405, 92409, 92410, 92414, 92416, 92418, 92425, 92429, 92432, 92433, 92434, 92439, 92441, 92443, 92445, 92447, 92462, 92464, 92467, 92468, 92470, 92480, 92486, 92490, 92492, 92495, 92497, 92501, 92502, 92504, 92506, 92507, 92510, 92513, 92515, 92517, 92530, 92532, 92535, 92537, 92539, 92540, 92542, 92543, 92545, 92547, 92549, 92551, 92552, 92556, 92557, 92566, 92567, 92572, 92577, 92580, 92589, 92595, 92601, 92607, 92610, 92616, 92617, 92618, 92622, 92623, 92627, 92633, 92635, 92636, 92642, 92644, 92645, 92646, 92647, 92653, 92654, 92656, 92657, 92663, 92665, 92666, 92667, 92669, 92673, 92676, 92678, 92680, 92681, 92685, 92687, 92688, 92690, 92695, 92696, 92697, 92699, 92702, 92706, 92720, 92727, 92729, 92735, 92736, 92743, 92744, 92748, 92752, 92758, 92761, 92765, 92766, 92769, 92771, 92773, 92775, 92776, 92778, 92781, 92782, 92783, 92784, 92786, 92795, 92796, 92801, 92802, 92803, 92804, 92809, 92811, 92812, 92815, 92817, 92820, 92827, 92833, 92835, 92836, 92850, 92851, 92856, 92857, 92861, 92868, 92871, 92872, 92873, 92875, 92880, 92885, 92894, 92896, 92902, 92904, 92908, 92910, 92914, 92915, 92918, 92925, 92926, 92929, 92930, 92931, 92932, 92939, 92940, 92942, 92946, 92949, 92952, 92957, 92962, 92963, 92964, 92966, 92970, 92975, 92979, 92980, 92981, 92986, 92995, 92997, 93005, 93007, 93010, 93011, 93014, 93018, 93024, 93025, 93026, 93027, 93028, 93030, 93032, 93035, 93036, 93037, 93039, 93041, 93046, 93047, 93049, 93050, 93051, 93052, 93057, 93062, 93064, 93066, 93067, 93069, 93070, 93075, 93077, 93084, 93086, 93087, 93088, 93096, 93104, 93113, 93114, 93116, 93117, 93118, 93123, 93124, 93125, 93126, 93127, 93128, 93131, 93140, 93141, 93144, 93161, 93162, 93164, 93166, 93167, 93170, 93173, 93176, 93178, 93180, 93181, 93183, 93185, 93187, 93189, 93191, 93192, 93195, 93199, 93200, 93211, 93214, 93223, 93224, 93230, 93236, 93237, 93242, 93248, 93253, 93256, 93265, 93267, 93269, 93270, 93271, 93280, 93281, 93283, 93285, 93286, 93287, 93288, 93294, 93299, 93301, 93305, 93307, 93308, 93315, 93316, 93322, 93324, 93331, 93333, 93337, 93344, 93348, 93354, 93357, 93364, 93368, 93372, 93374, 93383, 93390, 93394, 93395, 93396, 93398, 93399, 93402, 93403, 93404, 93405, 93409, 93412, 93413, 93425, 93426, 93428, 93429, 93439, 93441, 93444, 93447, 93448, 93451, 93459, 93462, 93464, 93465, 93469, 93476, 93478, 93479, 93485, 93486, 93495, 93500, 93501, 93505, 93507, 93510, 93512, 93515, 93516, 93517, 93522, 93525, 93529, 93530, 93534, 93537, 93539, 93551, 93555, 93557, 93558, 93565, 93566, 93567, 93570, 93572, 93581, 93584, 93586, 93589, 93592, 93594, 93595, 93608, 93610, 93611, 93619, 93620, 93621, 93622, 93627, 93628, 93631, 93634, 93635, 93636, 93650, 93651, 93653, 93655, 93661, 93663, 93664, 93666, 93669, 93670, 93672, 93673, 93675, 93680, 93681, 93682, 93687, 93690, 93694, 93696, 93697, 93698, 93705, 93709, 93711, 93713, 93714, 93716, 93718, 93719, 93720, 93721, 93723, 93725, 93731, 93733, 93738, 93743, 93747, 93750, 93751, 93753, 93754, 93756, 93759, 93760, 93764, 93765, 93769, 93770, 93772, 93773, 93774, 93777, 93780, 93784, 93787, 93791, 93794, 93799, 93802, 93803, 93808, 93809, 93819, 93820, 93822, 93827, 93828, 93830, 93833, 93834, 93838, 93839, 93841, 93843, 93847, 93850, 93852, 93853, 93856, 93860, 93862, 93870, 93872, 93874, 93875, 93876, 93877, 93878, 93880, 93883, 93884, 93888, 93892, 93896, 93897, 93903, 93904, 93911, 93918, 93921, 93924, 93931, 93936, 93945, 93950, 93952, 93958, 93962, 93963, 93966, 93970, 93974, 93975, 93976, 93985, 93987, 93988, 93990, 93996, 94000, 94003, 94004, 94010, 94011, 94012, 94016, 94018, 94020, 94028, 94029, 94032, 94034, 94036, 94043, 94044, 94046, 94052, 94057, 94059, 94066, 94067, 94073, 94080, 94084, 94087, 94088, 94089, 94091, 94093, 94094, 94097, 94102, 94106, 94110, 94113, 94115, 94119, 94125, 94131, 94132, 94137, 94139, 94146, 94153, 94156, 94157, 94159, 94166, 94176, 94178, 94179, 94182, 94190, 94191, 94192, 94193, 94197, 94202, 94209, 94216, 94226, 94227, 94228, 94243, 94244, 94247, 94251, 94252, 94256, 94264, 94265, 94266, 94267, 94269, 94273, 94278, 94279, 94283, 94284, 94295, 94298, 94299, 94304, 94309, 94311, 94314, 94316, 94318, 94320, 94321, 94328, 94332, 94335, 94338, 94340, 94344, 94347, 94349, 94361, 94362, 94363, 94364, 94367, 94371, 94375, 94376, 94382, 94383, 94390, 94391, 94394, 94397, 94399, 94402, 94403, 94404, 94408, 94410, 94411, 94415, 94416, 94418, 94419, 94421, 94423, 94428, 94431, 94432, 94436, 94438, 94443, 94452, 94454, 94458, 94460, 94461, 94462, 94464, 94466, 94472, 94473, 94474, 94476, 94479, 94487, 94488, 94495, 94503, 94510, 94511, 94512, 94515, 94517, 94523, 94525, 94527, 94528, 94532, 94534, 94535, 94536, 94537, 94539, 94542, 94544, 94545, 94546, 94552, 94553, 94554, 94556, 94557, 94559, 94561, 94562, 94564, 94567, 94568, 94569, 94584, 94586, 94596, 94598, 94602, 94611, 94613, 94614, 94624, 94631, 94632, 94633, 94634, 94637, 94640, 94643, 94647, 94649, 94653, 94655, 94664, 94668, 94671, 94672, 94676, 94685, 94688, 94689, 94691, 94693, 94703, 94704, 94711, 94717, 94719, 94725, 94726, 94727, 94729, 94731, 94732, 94736, 94737, 94741, 94744, 94745, 94751, 94762, 94765, 94766, 94769, 94772, 94776, 94777, 94781, 94783, 94786, 94789, 94792, 94795, 94797, 94799, 94803, 94806, 94809, 94811, 94812, 94813, 94814, 94818, 94823, 94833, 94835, 94837, 94842, 94843, 94846, 94853, 94854, 94857, 94859, 94867, 94870, 94876, 94880, 94885, 94888, 94889, 94891, 94894, 94896, 94897, 94899, 94906, 94912, 94913, 94916, 94920, 94923, 94924, 94926, 94930, 94932, 94933, 94940, 94945, 94946, 94948, 94950, 94957, 94965, 94967, 94971, 94976, 94979, 94982, 94983, 94984, 94986, 94990, 94993, 94995, 94997, 94998, 95001, 95002, 95004, 95005, 95008, 95012, 95014, 95031, 95032, 95041, 95042, 95043, 95046, 95054, 95056, 95057, 95058, 95067, 95069, 95072, 95074, 95082, 95083, 95088, 95097, 95100, 95105, 95106, 95109, 95112, 95118, 95119, 95122, 95123, 95124, 95128, 95129, 95131, 95132, 95133, 95143, 95146, 95149, 95153, 95159, 95161, 95162, 95165, 95167, 95168, 95183, 95185, 95186, 95191, 95197, 95204, 95205, 95211, 95212, 95214, 95216, 95220, 95222, 95233, 95235, 95240, 95243, 95247, 95248, 95255, 95256, 95258, 95268, 95269, 95276, 95281, 95282, 95288, 95290, 95293, 95297, 95299, 95301, 95304, 95311, 95313, 95317, 95322, 95324, 95325, 95330, 95332, 95333, 95345, 95348, 95351, 95353, 95355, 95363, 95364, 95375, 95376, 95381, 95386, 95388, 95392, 95399, 95414, 95415, 95424, 95426, 95427, 95432, 95435, 95443, 95448, 95458, 95459, 95463, 95465, 95466, 95475, 95478, 95481, 95484, 95487, 95488, 95490, 95491, 95493, 95495, 95499, 95500, 95502, 95508, 95517, 95529, 95536, 95538, 95539, 95541, 95543, 95544, 95551, 95553, 95556, 95558, 95559, 95560, 95562, 95564, 95568, 95569, 95573, 95574, 95577, 95584, 95587, 95588, 95590, 95592, 95593, 95594, 95596, 95597, 95598, 95602, 95603, 95612, 95614, 95618, 95619, 95623, 95636, 95639, 95640, 95646, 95647, 95652, 95654, 95656, 95658, 95659, 95663, 95665, 95666, 95667, 95670, 95671, 95672, 95673, 95675, 95676, 95677, 95678, 95682, 95687, 95696, 95697, 95702, 95704, 95705, 95708, 95709, 95712, 95717, 95718, 95720, 95722, 95727, 95735, 95736, 95737, 95739, 95740, 95743, 95744, 95745, 95747, 95750, 95753, 95756, 95759, 95760, 95763, 95767, 95768, 95769, 95777, 95780, 95781, 95783, 95787, 95788, 95790, 95792, 95797, 95806, 95808, 95816, 95818, 95819, 95825, 95833, 95834, 95837, 95838, 95840, 95841, 95844, 95846, 95849, 95851, 95854, 95855, 95867, 95868, 95870, 95871, 95875, 95877, 95878, 95879, 95880, 95883, 95885, 95886, 95888, 95889, 95899, 95906, 95908, 95909, 95915, 95918, 95926, 95929, 95930, 95933, 95943, 95944, 95946, 95947, 95950, 95953, 95963, 95964, 95965, 95971, 95972, 95981, 95982, 95984, 95985, 95987, 95989, 95990, 95992, 95993, 95999, 96000, 96001, 96002, 96006, 96009, 96014, 96017, 96023, 96024, 96026, 96029, 96030, 96031, 96033, 96034, 96035, 96049, 96052, 96053, 96055, 96059, 96064, 96066, 96075, 96076, 96078, 96080, 96084, 96088, 96090, 96092, 96093, 96096, 96098, 96103, 96106, 96112, 96113, 96114, 96116, 96117, 96118, 96127, 96128, 96138, 96139, 96149, 96152, 96154, 96155, 96158, 96162, 96163, 96164, 96170, 96173, 96175, 96179, 96182, 96186, 96193, 96194, 96195, 96196, 96200, 96207, 96212, 96216, 96222, 96225, 96230, 96232, 96237, 96240, 96243, 96245, 96246, 96247, 96249, 96250, 96253, 96255, 96259, 96264, 96270, 96274, 96275, 96278, 96287, 96290, 96293, 96295, 96300, 96301, 96303, 96304, 96306, 96307, 96309, 96321, 96323, 96327, 96328, 96329, 96331, 96334, 96341, 96342, 96343, 96345, 96346, 96347, 96349, 96350, 96351, 96352, 96353, 96355, 96357, 96363, 96365, 96369, 96371, 96374, 96375, 96377, 96378, 96380, 96381, 96385, 96390, 96391, 96392, 96395, 96399, 96401, 96407, 96408, 96410, 96413, 96418, 96422, 96425, 96427, 96430, 96432, 96433, 96439, 96442, 96445, 96447, 96449, 96450, 96456, 96465, 96466, 96467, 96481, 96482, 96484, 96485, 96487, 96489, 96491, 96497, 96498, 96500, 96506, 96514, 96515, 96519, 96521, 96522, 96535, 96537, 96544, 96545, 96546, 96558, 96563, 96565, 96570, 96575, 96577, 96578, 96579, 96581, 96583, 96585, 96588, 96592, 96598, 96600, 96605, 96606, 96611, 96622, 96629, 96633, 96634, 96641, 96644, 96648, 96654, 96661, 96663, 96669, 96678, 96680, 96683, 96684, 96687, 96689, 96691, 96693, 96702, 96703, 96708, 96710, 96711, 96719, 96723, 96724, 96727, 96728, 96729, 96731, 96735, 96740, 96743, 96748, 96749, 96752, 96756, 96757, 96760, 96761, 96763, 96767, 96770, 96777, 96779, 96784, 96786, 96787, 96788, 96794, 96798, 96803, 96810, 96811, 96818, 96824, 96829, 96831, 96836, 96840, 96841, 96845, 96848, 96850, 96851, 96853, 96857, 96858, 96859, 96867, 96868, 96870, 96878, 96879, 96884, 96886, 96897, 96906, 96908, 96914, 96922, 96927, 96928, 96929, 96941, 96943, 96947, 96952, 96954, 96955, 96959, 96960, 96961, 96963, 96965, 96968, 96970, 96973, 96976, 96977, 96982, 96985, 96988, 96992, 96993, 96996, 96997, 97001, 97004, 97012, 97013, 97014, 97015, 97021, 97022, 97023, 97025, 97028, 97030, 97038, 97046, 97053, 97054, 97056, 97067, 97068, 97072, 97078, 97081, 97082, 97086, 97087, 97091, 97092, 97094, 97100, 97102, 97103, 97104, 97109, 97110, 97111, 97112, 97123, 97124, 97126, 97127, 97129, 97134, 97137, 97139, 97145, 97148, 97151, 97156, 97160, 97163, 97165, 97168, 97169, 97171, 97177, 97189, 97190, 97195, 97197, 97199, 97200, 97206, 97209, 97210, 97211, 97214, 97216, 97217, 97219, 97223, 97224, 97227, 97230, 97232, 97234, 97237, 97238, 97239, 97242, 97249, 97252, 97262, 97263, 97267, 97268, 97269, 97271, 97273, 97274, 97277, 97278, 97283, 97294, 97297, 97299, 97300, 97304, 97305, 97309, 97319, 97325, 97327, 97329, 97330, 97332, 97337, 97338, 97339, 97340, 97344, 97348, 97351, 97354, 97357, 97358, 97359, 97363, 97366, 97369, 97371, 97372, 97377, 97378, 97383, 97395, 97397, 97400, 97402, 97405, 97406, 97410, 97411, 97422, 97427, 97428, 97431, 97435, 97437, 97447, 97449, 97451, 97456, 97462, 97463, 97464, 97471, 97473, 97481, 97483, 97485, 97487, 97488, 97490, 97493, 97495, 97496, 97501, 97507, 97514, 97517, 97519, 97522, 97529, 97530, 97531, 97534, 97541, 97544, 97545, 97546, 97548, 97551, 97552, 97554, 97555, 97559, 97562, 97567, 97569, 97570, 97572, 97575, 97577, 97579, 97582, 97585, 97593, 97594, 97602, 97611, 97614, 97618, 97619, 97620, 97623, 97624, 97630, 97637, 97638, 97644, 97646, 97650, 97654, 97659, 97661, 97665, 97668, 97670, 97673, 97676, 97679, 97680, 97690, 97691, 97698, 97699, 97704, 97705, 97708, 97714, 97716, 97717, 97721, 97723, 97726, 97729, 97732, 97733, 97734, 97737, 97746, 97747, 97750, 97753, 97758, 97759, 97761, 97764, 97765, 97768, 97772, 97773, 97775, 97777, 97778, 97780, 97787, 97793, 97802, 97804, 97808, 97811, 97813, 97816, 97817, 97818, 97823, 97824, 97825, 97826, 97827, 97836, 97838, 97840, 97847, 97848, 97855, 97859, 97861, 97863, 97865, 97866, 97867, 97869, 97874, 97875, 97876, 97880, 97881, 97889, 97891, 97896, 97903, 97904, 97905, 97906, 97909, 97916, 97918, 97920, 97924, 97925, 97929, 97940, 97942, 97943, 97944, 97945, 97946, 97953, 97954, 97957, 97958, 97961, 97963, 97970, 97983, 97984, 97991, 97992, 97993, 97995, 97997, 98007, 98011, 98012, 98013, 98021, 98027, 98033, 98041, 98044, 98047, 98049, 98050, 98060, 98065, 98067, 98082, 98092, 98094, 98100, 98108, 98110, 98115, 98120, 98122, 98126, 98128, 98132, 98134, 98141, 98152, 98158, 98159, 98162, 98163, 98165, 98167, 98172, 98177, 98181, 98183, 98189, 98192, 98194, 98197, 98198, 98200, 98216, 98220, 98226, 98227, 98228, 98240, 98241, 98243, 98244, 98247, 98248, 98250, 98255, 98258, 98259, 98270, 98271, 98273, 98274, 98275, 98278, 98281, 98283, 98285, 98289, 98290, 98293, 98297, 98299, 98303, 98314, 98315, 98317, 98318, 98324, 98327, 98328, 98336, 98344, 98350, 98352, 98353, 98356, 98360, 98361, 98363, 98365, 98371, 98375, 98376, 98385, 98386, 98388, 98389, 98392, 98393, 98395, 98399, 98400, 98401, 98402, 98407, 98413, 98420, 98422, 98423, 98425, 98427, 98430, 98434, 98436, 98437, 98441, 98450, 98457, 98460, 98462, 98468, 98475, 98479, 98482, 98483, 98485, 98490, 98494, 98495, 98499, 98501, 98502, 98507, 98510, 98511, 98512, 98515, 98525, 98528, 98532, 98534, 98536, 98537, 98539, 98542, 98544, 98548, 98549, 98560, 98566, 98568, 98570, 98572, 98573, 98574, 98577, 98581, 98584, 98587, 98594, 98597, 98600, 98604, 98605, 98606, 98612, 98613, 98614, 98615, 98622, 98627, 98629, 98633, 98641, 98646, 98648, 98649, 98651, 98652, 98653, 98658, 98660, 98662, 98666, 98668, 98670, 98672, 98675, 98682, 98684, 98685, 98687, 98693, 98696, 98697, 98698, 98700, 98701, 98703, 98705, 98711, 98713, 98717, 98722, 98726, 98730, 98737, 98738, 98740, 98743, 98748, 98749, 98750, 98757, 98759, 98760, 98770, 98777, 98779, 98782, 98785, 98789, 98802, 98809, 98810, 98811, 98815, 98818, 98824, 98827, 98830, 98834, 98835, 98836, 98843, 98846, 98847, 98849, 98851, 98852, 98854, 98855, 98857, 98861, 98862, 98864, 98872, 98877, 98879, 98880, 98881, 98883, 98884, 98885, 98887, 98889, 98891, 98892, 98894, 98898, 98901, 98903, 98905, 98907, 98908, 98909, 98910, 98915, 98916, 98918, 98920, 98923, 98924, 98926, 98928, 98937, 98938, 98940, 98947, 98951, 98956, 98958, 98965, 98971, 98973, 98977, 98987, 98989, 98990, 98993, 98998, 99002, 99007, 99008, 99011, 99013, 99016, 99017, 99020, 99021, 99024, 99030, 99031, 99032, 99035, 99039, 99040, 99044, 99045, 99046, 99047, 99048, 99050, 99051, 99058, 99060, 99061, 99065, 99066, 99067, 99068, 99073, 99079, 99097, 99099, 99104, 99106, 99107, 99111, 99113, 99115, 99116, 99118, 99121, 99122, 99128, 99129, 99131, 99132, 99137, 99140, 99145, 99146, 99149, 99153, 99156, 99159, 99161, 99162, 99163, 99164, 99173, 99179, 99183, 99184, 99188, 99193, 99194, 99195, 99196, 99199, 99200, 99202, 99205, 99210, 99212, 99214, 99220, 99223, 99224, 99225, 99230, 99233, 99235, 99237, 99238, 99240, 99248, 99249, 99259, 99261, 99262, 99268, 99269, 99271, 99282, 99283, 99290, 99295, 99299, 99301, 99303, 99304, 99308, 99309, 99313, 99316, 99318, 99330, 99335, 99348, 99352, 99357, 99359, 99361, 99366, 99367, 99368, 99371, 99373, 99385, 99386, 99388, 99389, 99395, 99396, 99397, 99400, 99403, 99404, 99406, 99408, 99411, 99413, 99417, 99430, 99432, 99435, 99441, 99443, 99444, 99445, 99448, 99457, 99458, 99461, 99465, 99471, 99472, 99479, 99481, 99487, 99490, 99494, 99499, 99500, 99502, 99503, 99505, 99506, 99509, 99514, 99515, 99517, 99518, 99520, 99529, 99530, 99531, 99532, 99543, 99544, 99545, 99548, 99552, 99553, 99555, 99557, 99561, 99566, 99567, 99572, 99576, 99583, 99584, 99585, 99587, 99589, 99592, 99593, 99594, 99597, 99602, 99609, 99615, 99616, 99618, 99621, 99622, 99623, 99624, 99626, 99630, 99633, 99635, 99636, 99637, 99641, 99642, 99652, 99653, 99655, 99656, 99668, 99670, 99671, 99672, 99679, 99680, 99683, 99684, 99686, 99687, 99688, 99692, 99697, 99698, 99699, 99702, 99704, 99706, 99709, 99715, 99719, 99722, 99723, 99725, 99726, 99729, 99734, 99735, 99738, 99740, 99742, 99743, 99745, 99747, 99752, 99764, 99765, 99766, 99770, 99780, 99784, 99785, 99787, 99794, 99797, 99800, 99804, 99809, 99811, 99816, 99818, 99819, 99824, 99829, 99831, 99832, 99835, 99836, 99837, 99840, 99843, 99849, 99853, 99855, 99858, 99861, 99865, 99869, 99870, 99875, 99876, 99880, 99883, 99889, 99893, 99895, 99900, 99901, 99903, 99905, 99915, 99916, 99918, 99920, 99926, 99928, 99933, 99937, 99939, 99943, 99945, 99948, 99952, 99956, 99958, 99965, 99967, 99968, 99970, 99971, 99972, 99973, 99978, 99980, 99986, 100011, 100014, 100015, 100018, 100020, 100021, 100023, 100025, 100036, 100040, 100042, 100053, 100055, 100067, 100069, 100070, 100076, 100078, 100079, 100080, 100087, 100089, 100090, 100092, 100101, 100102, 100104, 100106, 100113, 100114, 100117, 100118, 100123, 100126, 100127, 100129, 100130, 100131, 100138, 100141, 100143, 100149, 100151, 100156, 100160, 100164, 100166, 100167, 100168, 100169, 100170, 100172, 100180, 100182, 100183, 100184, 100187, 100191, 100196, 100201, 100202, 100208, 100211, 100212, 100213, 100215, 100217, 100222, 100224, 100228, 100229, 100236, 100237, 100239, 100242, 100248, 100255, 100256, 100261, 100264, 100265, 100267, 100268, 100276, 100277, 100279, 100280, 100286, 100293, 100294, 100302, 100303, 100312, 100315, 100319, 100322, 100324, 100328, 100333, 100340, 100352, 100354, 100357, 100359, 100361, 100366, 100368, 100371, 100376, 100379, 100380, 100383, 100393, 100394, 100397, 100401, 100406, 100410, 100411, 100412, 100413, 100415, 100416, 100417, 100419, 100421, 100423, 100424, 100425, 100428, 100434, 100439, 100441, 100442, 100443, 100445, 100446, 100449, 100451, 100456, 100457, 100460, 100468, 100475, 100488, 100491, 100492, 100493, 100499, 100511, 100512, 100514, 100516, 100520, 100521, 100527, 100528, 100535, 100539, 100546, 100548, 100550, 100553, 100564, 100565, 100568, 100569, 100572, 100573, 100579, 100582, 100583, 100591, 100593, 100597, 100599, 100601, 100608, 100610, 100614, 100629, 100630, 100631, 100632, 100633, 100634, 100636, 100638, 100642, 100646, 100653, 100656, 100660, 100667, 100671, 100672, 100678, 100679, 100681, 100682, 100683, 100688, 100693, 100695, 100698, 100700, 100705, 100708, 100712, 100714, 100721, 100722, 100727, 100729, 100730, 100738, 100739, 100740, 100742, 100745, 100746, 100748, 100754, 100757, 100760, 100764, 100765, 100773, 100776, 100777, 100781, 100784, 100794, 100796, 100797, 100798, 100803, 100806, 100808, 100811, 100812, 100816, 100819, 100824, 100826, 100829, 100833, 100839, 100847, 100850, 100851, 100854, 100857, 100864, 100867, 100870, 100871, 100872, 100874, 100877, 100879, 100881, 100883, 100884, 100885, 100886, 100887, 100888, 100892, 100895, 100898, 100912, 100914, 100919, 100920, 100922, 100925, 100926, 100930, 100934, 100935, 100938, 100942, 100944, 100949, 100952, 100953, 100954, 100958, 100959, 100961, 100965, 100970, 100971, 100972, 100975, 100978, 100980, 100985, 100991, 100992, 100993, 100997, 100998, 100999, 101000, 101001, 101009, 101013, 101014, 101016, 101019, 101023, 101026, 101028, 101030, 101032, 101044, 101047, 101051, 101053, 101056, 101057, 101063, 101064, 101065, 101070, 101083, 101084, 101085, 101091, 101094, 101097, 101099, 101103, 101110, 101111, 101115, 101117, 101125, 101126, 101132, 101137, 101139, 101141, 101145, 101150, 101152, 101154, 101155, 101157, 101163, 101169, 101173, 101181, 101184, 101189, 101198, 101200, 101202, 101204, 101209, 101210, 101213, 101216, 101217, 101219, 101222, 101225, 101228, 101230, 101231, 101239, 101244, 101245, 101247, 101249, 101257, 101260, 101263, 101274, 101276, 101281, 101282, 101288, 101291, 101292, 101297, 101298, 101299, 101301, 101302, 101303, 101309, 101320, 101322, 101325, 101327, 101328, 101331, 101332, 101340, 101341, 101342, 101346, 101349, 101360, 101365, 101366, 101369, 101373, 101377, 101383, 101388, 101391, 101394, 101396, 101398, 101399, 101403, 101405, 101409, 101411, 101420, 101428, 101432, 101441, 101443, 101450, 101452, 101459, 101476, 101479, 101480, 101481, 101482, 101488, 101490, 101493, 101494, 101497, 101498, 101504, 101505, 101506, 101515, 101518, 101521, 101528, 101529, 101530, 101533, 101542, 101543, 101545, 101558, 101560, 101562, 101566, 101567, 101569, 101572, 101579, 101585, 101589, 101590, 101591, 101592, 101593, 101594, 101595, 101598, 101604, 101606, 101614, 101615, 101616, 101621, 101626, 101628, 101634, 101636, 101640, 101643, 101646, 101649, 101650, 101660, 101663, 101666, 101668, 101669, 101671, 101676, 101680, 101682, 101684, 101685, 101689, 101691, 101692, 101697, 101702, 101705, 101707, 101713, 101716, 101717, 101719, 101720, 101723, 101724, 101725, 101728, 101729, 101733, 101742, 101743, 101745, 101758, 101759, 101760, 101762, 101764, 101765, 101770, 101772, 101773, 101778, 101781, 101782, 101784, 101789, 101791, 101796, 101808, 101812, 101813, 101814, 101817, 101819, 101823, 101825, 101826, 101834, 101836, 101837, 101838, 101841, 101844, 101845, 101848, 101851, 101852, 101857, 101861, 101865, 101870, 101871, 101885, 101887, 101888, 101889, 101892, 101894, 101898, 101900, 101907, 101910, 101915, 101916, 101918, 101921, 101930, 101932, 101933, 101940, 101941, 101953, 101956, 101960, 101963, 101964, 101972, 101973, 101975, 101977, 101978, 101979, 101980, 101982, 101984, 101986, 101988, 102004, 102005, 102006, 102007, 102008, 102012, 102013, 102014, 102017, 102018, 102019, 102020, 102022, 102023, 102026, 102028, 102029, 102034, 102038, 102039, 102052, 102055, 102059, 102061, 102064, 102071, 102074, 102083, 102084, 102087, 102092, 102097, 102102, 102108, 102109, 102110, 102112, 102116, 102118, 102119, 102122, 102127, 102128, 102129, 102132, 102133, 102134, 102135, 102136, 102139, 102140, 102142, 102143, 102150, 102153, 102158, 102160, 102168, 102170, 102176, 102178, 102183, 102186, 102188, 102191, 102192, 102195, 102198, 102201, 102211, 102212, 102214, 102215, 102218, 102219, 102222, 102225, 102227, 102228, 102230, 102232, 102236, 102244, 102247, 102248, 102249, 102257, 102259, 102260, 102263, 102265, 102269, 102272, 102277, 102278, 102280, 102281, 102283, 102285, 102286, 102287, 102291, 102299, 102300, 102302, 102303, 102304, 102305, 102306, 102307, 102314, 102317, 102320, 102322, 102327, 102332, 102335, 102340, 102342, 102344, 102348, 102349, 102356, 102357, 102366, 102368, 102369, 102372, 102373, 102375, 102380, 102383, 102386, 102399, 102400, 102402, 102408, 102410, 102419, 102424, 102425, 102427, 102429, 102430, 102431, 102437, 102438, 102439, 102442, 102443, 102444, 102446, 102448, 102449, 102456, 102457, 102459, 102460, 102462, 102463, 102470, 102471, 102474, 102476, 102486, 102494, 102498, 102501, 102503, 102505, 102508, 102509, 102510, 102512, 102518, 102521, 102522, 102526, 102529, 102533, 102542, 102550, 102559, 102561, 102568, 102570, 102571, 102573, 102576, 102578, 102579, 102587, 102592, 102593, 102606, 102612, 102617, 102619, 102623, 102627, 102629, 102633, 102638, 102641, 102643, 102646, 102652, 102653, 102654, 102655, 102657, 102658, 102661, 102663, 102665, 102666, 102667, 102669, 102671, 102673, 102674, 102675, 102676, 102679, 102680, 102681, 102684, 102689, 102703, 102704, 102708, 102710, 102715, 102719, 102720, 102732, 102735, 102737, 102738, 102741, 102743, 102751, 102758, 102762, 102768, 102770, 102771, 102773, 102775, 102777, 102779, 102784, 102787, 102789, 102791, 102792, 102794, 102795, 102798, 102801, 102805, 102806, 102814, 102816, 102818, 102819, 102820, 102822, 102823, 102824, 102825, 102829, 102830, 102831, 102833, 102839, 102840, 102856, 102860, 102862, 102863, 102868, 102870, 102873, 102874, 102876, 102878, 102894, 102896, 102901, 102904, 102906, 102907, 102912, 102915, 102918, 102919, 102921, 102923, 102924, 102926, 102927, 102933, 102934, 102938, 102939, 102941, 102943, 102944, 102946, 102947, 102948, 102949, 102950, 102951, 102958, 102962, 102963, 102965, 102973, 102975, 102980, 102982, 102985, 102987, 102988, 102989, 102998, 102999, 103003, 103004, 103005, 103006, 103010, 103011, 103012, 103013, 103015, 103017, 103021, 103022, 103023, 103027, 103030, 103031, 103037, 103038, 103039, 103042, 103045, 103046, 103048, 103055, 103056, 103058, 103059, 103064, 103065, 103068, 103071, 103073, 103079, 103082, 103084, 103089, 103090, 103092, 103096, 103098, 103099, 103100, 103108, 103109, 103110, 103115, 103120, 103121, 103122, 103128, 103129, 103134, 103137, 103139, 103147, 103151, 103153, 103157, 103158, 103160, 103167, 103170, 103171, 103172, 103177, 103178, 103180, 103182, 103189, 103190, 103191, 103192, 103204, 103205, 103206, 103212, 103216, 103218, 103221, 103230, 103231, 103233, 103236, 103239, 103240, 103241, 103243, 103251, 103254, 103255, 103257, 103259, 103262, 103264, 103265, 103267, 103270, 103273, 103274, 103281, 103284, 103285, 103288, 103292, 103294, 103295, 103298, 103301, 103302, 103314, 103315, 103317, 103318, 103321, 103323, 103325, 103330, 103333, 103339, 103340, 103344, 103345, 103352, 103356, 103359, 103362, 103363, 103368, 103369, 103373, 103377, 103379, 103380, 103389, 103390, 103391, 103395, 103397, 103408, 103409, 103410, 103412, 103418, 103422, 103424, 103428, 103430, 103432, 103433, 103437, 103438, 103443, 103444, 103449, 103451, 103453, 103460, 103461, 103462, 103463, 103466, 103470, 103473, 103474, 103477, 103479, 103483, 103488, 103490, 103493, 103495, 103502, 103510, 103522, 103532, 103538, 103539, 103543, 103550, 103554, 103556, 103557, 103563, 103567, 103569, 103570, 103571, 103581, 103587, 103591, 103593, 103596, 103597, 103602, 103603, 103606, 103608, 103609, 103610, 103611, 103612, 103616, 103620, 103621, 103622, 103623, 103624, 103627, 103629, 103634, 103637, 103638, 103639, 103649, 103651, 103652, 103654, 103655, 103659, 103664, 103667, 103670, 103682, 103686, 103687, 103689, 103691, 103693, 103694, 103696, 103707, 103708, 103710, 103734, 103736, 103737, 103739, 103740, 103741, 103747, 103754, 103757, 103761, 103762, 103763, 103765, 103771, 103774, 103775, 103778, 103784, 103790, 103791, 103797, 103802, 103806, 103808, 103809, 103812, 103817, 103818, 103820, 103821, 103826, 103829, 103831, 103841, 103851, 103852, 103858, 103861, 103862, 103869, 103870, 103872, 103877, 103879, 103882, 103885, 103887, 103889, 103892, 103893, 103894, 103901, 103907, 103918, 103923, 103925, 103926, 103927, 103928, 103932, 103934, 103938, 103944, 103951, 103954, 103956, 103964, 103965, 103970, 103976, 103983, 103984, 103991, 103996, 103998, 104001, 104007, 104009, 104013, 104017, 104019, 104023, 104025, 104027, 104029, 104031, 104032, 104033, 104036, 104039, 104043, 104048, 104051, 104053, 104054, 104057, 104063, 104067, 104070, 104073, 104077, 104081, 104085, 104090, 104099, 104100, 104102, 104104, 104105, 104111, 104114, 104116, 104117, 104119, 104121, 104122, 104128, 104133, 104135, 104140, 104146, 104149, 104150, 104152, 104157, 104159, 104161, 104166, 104168, 104171, 104172, 104175, 104176, 104179, 104181, 104182, 104184, 104189, 104190, 104191, 104192, 104194, 104195, 104196, 104199, 104200, 104201, 104207, 104214, 104218, 104219, 104221, 104223, 104232, 104234, 104235, 104238, 104239, 104241, 104244, 104245, 104262, 104265, 104266, 104272, 104277, 104278, 104281, 104282, 104284, 104292, 104293, 104298, 104302, 104306, 104311, 104316, 104319, 104320, 104321, 104326, 104327, 104338, 104340, 104346, 104347, 104348, 104349, 104354, 104356, 104363, 104367, 104369, 104370, 104371, 104376, 104391, 104393, 104396, 104399, 104403, 104405, 104412, 104413, 104415, 104417, 104420, 104422, 104436, 104439, 104440, 104441, 104448, 104455, 104457, 104458, 104459, 104461, 104465, 104467, 104470, 104474, 104477, 104478, 104479, 104482, 104483, 104484, 104488, 104499, 104500, 104501, 104509, 104523, 104525, 104529, 104534, 104538, 104545, 104548, 104551, 104554, 104562, 104563, 104564, 104568, 104570, 104571, 104574, 104582, 104584, 104589, 104590, 104592, 104596, 104598, 104600, 104601, 104606, 104608, 104614, 104615, 104619, 104621, 104623, 104628, 104629, 104633, 104638, 104639, 104640, 104641, 104643, 104644, 104645, 104648, 104651, 104656, 104659, 104670, 104672, 104679, 104680, 104681, 104683, 104685, 104687, 104698, 104701, 104702, 104703, 104708, 104709, 104712, 104714, 104716, 104717, 104720, 104723, 104725, 104730, 104731, 104732, 104738, 104748, 104758, 104762, 104767, 104770, 104788, 104789, 104792, 104793, 104795, 104799, 104801, 104805, 104810, 104811, 104813, 104814, 104815, 104816, 104824, 104827, 104829, 104830, 104836, 104846, 104853, 104854, 104857, 104858, 104859, 104864, 104865, 104867, 104868, 104873, 104875, 104879, 104886, 104888, 104889, 104891, 104892, 104893, 104908, 104915, 104917, 104919, 104924, 104925, 104926, 104927, 104928, 104932, 104933, 104936, 104939, 104940, 104941, 104942, 104948, 104949, 104950, 104951, 104953, 104954, 104955, 104964, 104968, 104969, 104972, 104983, 104985, 104987, 104988, 104991, 104993, 104998, 105001, 105008, 105011, 105013, 105018, 105021, 105024, 105028, 105032, 105034, 105035, 105037, 105047, 105050, 105059, 105062, 105063, 105064, 105066, 105071, 105072, 105073, 105074, 105078, 105079, 105081, 105083, 105089, 105092, 105094, 105095, 105096, 105108, 105116, 105117, 105118, 105123, 105125, 105128, 105129, 105132, 105134, 105136, 105138, 105139, 105142, 105145, 105147, 105149, 105150, 105153, 105163, 105165, 105166, 105170, 105171, 105173, 105180, 105183, 105187, 105188, 105197, 105200, 105201, 105203, 105206, 105209, 105211, 105212, 105214, 105220, 105221, 105228, 105231, 105232, 105234, 105235, 105240, 105242, 105243, 105245, 105255, 105256, 105261, 105262, 105268, 105274, 105275, 105276, 105279, 105280, 105281, 105283, 105286, 105287, 105291, 105305, 105308, 105314, 105328, 105331, 105334, 105337, 105338, 105340, 105343, 105345, 105346, 105356, 105358, 105359, 105363, 105364, 105365, 105369, 105372, 105373, 105375, 105377, 105382, 105392, 105394, 105396, 105397, 105400, 105413, 105421, 105422, 105424, 105429, 105430, 105431, 105441, 105444, 105445, 105447, 105449, 105450, 105451, 105457, 105460, 105462, 105465, 105467, 105469, 105483, 105485, 105487, 105490, 105493, 105495, 105497, 105499, 105507, 105513, 105518, 105520, 105521, 105530, 105532, 105535, 105540, 105542, 105547, 105552, 105555, 105560, 105563, 105565, 105574, 105577, 105582, 105597, 105601, 105608, 105609, 105610, 105613, 105614, 105618, 105620, 105623, 105624, 105625, 105626, 105627, 105628, 105629, 105632, 105633, 105639, 105641, 105647, 105655, 105657, 105659, 105664, 105665, 105667, 105671, 105674, 105675, 105678, 105685, 105688, 105690, 105691, 105692, 105698, 105702, 105704, 105711, 105712, 105714, 105715, 105716, 105717, 105721, 105724, 105726, 105733, 105740, 105742, 105750, 105755, 105757, 105759, 105760, 105762, 105763, 105772, 105775, 105778, 105780, 105794, 105796, 105797, 105799, 105803, 105804, 105805, 105808, 105810, 105817, 105819, 105820, 105824, 105829, 105830, 105832, 105833, 105834, 105840, 105842, 105843, 105844, 105845, 105847, 105848, 105849, 105850, 105861, 105862, 105865, 105867, 105869, 105873, 105876, 105877, 105879, 105880, 105893, 105896, 105897, 105899, 105903, 105908, 105909, 105917, 105918, 105920, 105921, 105924, 105927, 105938, 105939, 105941, 105942, 105943, 105946, 105947, 105955, 105957, 105961, 105963, 105965, 105966, 105968, 105969, 105976, 105980, 105982, 105983, 105985, 105998, 106004, 106006, 106011, 106013, 106014, 106015, 106017, 106018, 106019, 106022, 106024, 106027, 106028, 106045, 106046, 106047, 106052, 106055, 106057, 106060, 106062, 106065, 106066, 106074, 106077, 106080, 106082, 106087, 106089, 106090, 106094, 106096, 106098, 106101, 106109, 106112, 106114, 106116, 106117, 106119, 106122, 106124, 106128, 106131, 106135, 106138, 106146, 106153, 106154, 106155, 106158, 106161, 106164, 106168, 106169, 106174, 106177, 106185, 106186, 106187, 106197, 106198, 106202, 106203, 106209, 106221, 106224, 106226, 106229, 106233, 106241, 106242, 106245, 106255, 106256, 106262, 106270, 106271, 106273, 106275, 106279, 106286, 106291, 106293, 106295, 106302, 106304, 106305, 106306, 106308, 106309, 106310, 106315, 106318, 106327, 106329, 106332, 106333, 106335, 106336, 106337, 106339, 106341, 106343, 106345, 106346, 106350, 106355, 106368, 106374, 106377, 106380, 106384, 106385, 106388, 106389, 106390, 106391, 106395, 106398, 106406, 106408, 106409, 106411, 106415, 106416, 106417, 106421, 106427, 106429, 106432, 106433, 106439, 106441, 106444, 106445, 106448, 106450, 106452, 106453, 106460, 106461, 106462, 106466, 106467, 106469, 106470, 106473, 106476, 106478, 106479, 106482, 106487, 106491, 106496, 106499, 106500, 106505, 106509, 106511, 106512, 106513, 106515, 106520, 106525, 106533, 106534, 106536, 106537, 106538, 106539, 106540, 106544, 106548, 106559, 106561, 106567, 106572, 106575, 106576, 106577, 106579, 106583, 106585, 106586, 106589, 106591, 106597, 106604, 106605, 106606, 106607, 106608, 106611, 106615, 106619, 106620, 106621, 106625, 106626, 106627, 106629, 106635, 106642, 106644, 106646, 106649, 106653, 106658, 106659, 106664, 106665, 106671, 106672, 106674, 106677, 106678, 106685, 106689, 106690, 106693, 106695, 106697, 106706, 106707, 106709, 106710, 106712, 106714, 106727, 106728, 106730, 106737, 106739, 106745, 106752, 106753, 106757, 106759, 106765, 106769, 106774, 106780, 106789, 106790, 106792, 106795, 106797, 106799, 106802, 106808, 106809, 106815, 106822, 106830, 106831, 106835, 106842, 106844, 106846, 106848, 106851, 106853, 106855, 106857, 106867, 106869, 106871, 106872, 106881, 106882, 106884, 106887, 106890, 106894, 106898, 106900, 106903, 106904, 106906, 106907, 106908, 106909, 106913, 106915, 106917, 106921, 106923, 106926, 106933, 106937, 106942, 106944, 106945, 106948, 106958, 106962, 106963, 106972, 106977, 106978, 106983, 106988, 106989, 106993, 106998, 107000, 107002, 107005, 107008, 107009, 107010, 107017, 107020, 107021, 107023, 107030, 107032, 107033, 107035, 107041, 107042, 107048, 107054, 107058, 107063, 107065, 107069, 107071, 107077, 107086, 107088, 107090, 107108, 107111, 107118, 107120, 107121, 107129, 107134, 107137, 107138, 107158, 107160, 107161, 107168, 107173, 107175, 107181, 107182, 107184, 107188, 107195, 107199, 107209, 107210, 107217, 107225, 107227, 107229, 107231, 107234, 107239, 107242, 107245, 107246, 107253, 107256, 107262, 107263, 107267, 107268, 107271, 107273, 107290, 107291, 107296, 107297, 107298, 107307, 107308, 107309, 107312, 107315, 107322, 107324, 107328, 107329, 107330, 107331, 107338, 107344, 107348, 107350, 107351, 107352, 107353, 107356, 107360, 107362, 107363, 107365, 107370, 107373, 107383, 107386, 107388, 107391, 107394, 107396, 107399, 107405, 107407, 107408, 107409, 107414, 107420, 107430, 107432, 107433, 107435, 107436, 107440, 107447, 107456, 107462, 107463, 107466, 107469, 107471, 107472, 107476, 107478, 107480, 107482, 107485, 107486, 107487, 107488, 107490, 107493, 107497, 107500, 107502, 107504, 107507, 107508, 107512, 107514, 107516, 107517, 107521, 107522, 107530, 107537, 107541, 107542, 107544, 107551, 107555, 107561, 107567, 107569, 107572, 107573, 107574, 107578, 107587, 107592, 107593, 107596, 107597, 107599, 107600, 107604, 107605, 107607, 107609, 107611, 107617, 107618, 107621, 107627, 107629, 107631, 107633, 107635, 107641, 107642, 107645, 107647, 107648, 107652, 107655, 107657, 107658, 107659, 107662, 107664, 107667, 107670, 107671, 107674, 107679, 107680, 107682, 107683, 107684, 107686, 107692, 107695, 107704, 107708, 107711, 107715, 107717, 107718, 107719, 107720, 107725, 107729, 107731, 107735, 107741, 107746, 107748, 107749, 107752, 107767, 107768, 107771, 107774, 107776, 107780, 107781, 107783, 107785, 107787, 107791, 107793, 107794, 107796, 107803, 107804, 107806, 107816, 107818, 107819, 107820, 107832, 107833, 107835, 107843, 107847, 107849, 107850, 107851, 107856, 107858, 107859, 107861, 107866, 107868, 107879, 107890, 107891, 107896, 107897, 107906, 107907, 107908, 107909, 107911, 107923, 107924, 107925, 107927, 107928, 107933, 107941, 107943, 107944, 107945, 107948, 107955, 107956, 107957, 107961, 107962, 107964, 107965, 107967, 107970, 107978, 107980, 107990, 107992, 107997, 107998, 108008, 108012, 108017, 108022, 108025, 108027, 108032, 108035, 108038, 108042, 108043, 108044, 108046, 108049, 108051, 108053, 108056, 108067, 108068, 108069, 108073, 108075, 108076, 108082, 108084, 108085, 108088, 108092, 108094, 108096, 108098, 108099, 108104, 108112, 108114, 108117, 108118, 108121, 108128, 108129, 108132, 108134, 108135, 108142, 108144, 108147, 108150, 108159, 108163, 108165, 108166, 108168, 108172, 108175, 108176, 108179, 108182, 108185, 108187, 108188, 108189, 108191, 108192, 108193, 108197, 108200, 108204, 108206, 108216, 108220, 108225, 108230, 108235, 108242, 108246, 108248, 108250, 108251, 108258, 108263, 108265, 108268, 108269, 108273, 108275, 108276, 108279, 108281, 108284, 108287, 108289, 108294, 108295, 108297, 108299, 108300, 108304, 108305, 108306, 108309, 108314, 108316, 108318, 108319, 108327, 108328, 108330, 108334, 108337, 108339, 108346, 108349, 108360, 108362, 108364, 108366, 108367, 108370, 108373, 108375, 108378, 108382, 108383, 108384, 108396, 108398, 108399, 108404, 108413, 108414, 108415, 108428, 108429, 108432, 108433, 108434, 108435, 108437, 108442, 108443, 108444, 108447, 108452, 108456, 108457, 108459, 108460, 108461, 108462, 108468, 108470, 108471, 108474, 108488, 108491, 108510, 108511, 108520, 108524, 108528, 108534, 108536, 108537, 108539, 108543, 108548, 108549, 108551, 108555, 108557, 108559, 108569, 108575, 108579, 108583, 108585, 108588, 108593, 108596, 108597, 108600, 108603, 108609, 108614, 108618, 108619, 108621, 108622, 108625, 108626, 108632, 108634, 108636, 108642, 108652, 108653, 108655, 108656, 108657, 108658, 108661, 108662, 108664, 108665, 108673, 108675, 108677, 108681, 108683, 108695, 108696, 108699, 108701, 108702, 108707, 108708, 108709, 108710, 108711, 108712, 108721, 108722, 108724, 108725, 108727, 108728, 108730, 108734, 108736, 108738, 108740, 108741, 108743, 108749, 108751, 108752, 108753, 108754, 108756, 108757, 108758, 108762, 108767, 108769, 108771, 108773, 108780, 108783, 108785, 108786, 108789, 108790, 108792, 108795, 108797, 108799, 108800, 108813, 108818, 108821, 108824, 108825, 108829, 108833, 108837, 108839, 108844, 108845, 108848, 108864, 108866, 108873, 108874, 108880, 108887, 108890, 108893, 108894, 108901, 108905, 108907, 108908, 108909, 108912, 108915, 108916, 108923, 108931, 108933, 108940, 108946, 108953, 108954, 108955, 108958, 108960, 108965, 108974, 108979, 108980, 108985, 109000, 109003, 109004, 109006, 109007, 109008, 109010, 109011, 109013, 109014, 109019, 109025, 109026, 109028, 109034, 109037, 109039, 109046, 109051, 109053, 109056, 109059, 109065, 109066, 109068, 109072, 109073, 109075, 109077, 109079, 109083, 109084, 109087, 109090, 109091, 109098, 109100, 109109, 109112, 109119, 109120, 109122, 109124, 109126, 109132, 109139, 109141, 109148, 109150, 109154, 109160, 109164, 109167, 109168, 109169, 109170, 109171, 109180, 109185, 109187, 109188, 109189, 109191, 109197, 109200, 109205, 109207, 109211, 109216, 109222, 109226, 109229, 109233, 109238, 109242, 109244, 109247, 109248, 109249, 109251, 109252, 109253, 109261, 109266, 109275, 109277, 109279, 109281, 109282, 109283, 109285, 109286, 109291, 109295, 109297, 109299, 109312, 109313, 109315, 109321, 109327, 109328, 109329, 109336, 109339, 109345, 109346, 109348, 109349, 109350, 109351, 109356, 109357, 109358, 109359, 109362, 109368, 109372, 109374, 109377, 109378, 109379, 109380, 109381, 109390, 109392, 109393, 109394, 109395, 109398, 109399, 109400, 109402, 109410, 109412, 109417, 109418, 109422, 109423, 109424, 109427, 109431, 109436, 109443, 109458, 109465, 109466, 109470, 109471, 109474, 109484, 109492, 109494, 109501, 109506, 109509, 109513, 109514, 109515, 109522, 109523, 109525, 109526, 109530, 109534, 109537, 109538, 109539, 109545, 109547, 109548, 109553, 109555, 109557, 109560, 109568, 109573, 109574, 109584, 109592, 109599, 109600, 109601, 109602, 109603, 109609, 109610, 109612, 109613, 109615, 109617, 109618, 109619, 109629, 109630, 109631, 109632, 109639, 109641, 109644, 109651, 109655, 109656, 109660, 109662, 109663, 109670, 109673, 109675, 109676, 109680, 109681, 109685, 109695, 109696, 109701, 109704, 109707, 109713, 109715, 109724, 109726, 109727, 109732, 109735, 109742, 109747, 109748, 109750, 109753, 109754, 109758, 109759, 109763, 109771, 109773, 109787, 109800, 109805, 109807, 109813, 109817, 109822, 109823, 109831, 109834, 109836, 109842, 109845, 109846, 109852, 109856, 109868, 109869, 109875, 109877, 109880, 109883, 109886, 109888, 109897, 109899, 109900, 109902, 109903, 109904, 109909, 109910, 109913, 109916, 109919, 109921, 109923, 109924, 109926, 109929, 109930, 109932, 109934, 109942, 109944, 109952, 109954, 109958, 109970, 109975, 109976, 109977, 109978, 109979, 109982, 109984, 109988, 109993, 109996, 109998, 109999, 110009, 110012, 110017, 110024, 110031, 110032, 110035, 110039, 110042, 110046, 110047, 110050, 110052, 110053, 110059, 110065, 110071, 110074, 110077, 110078, 110080, 110083, 110085, 110091, 110093, 110095, 110096, 110097, 110103, 110107, 110111, 110112, 110116, 110117, 110118, 110120, 110123, 110126, 110128, 110129, 110136, 110137, 110141, 110155, 110158, 110163, 110165, 110170, 110171, 110173, 110177, 110179, 110187, 110193, 110195, 110198, 110200, 110203, 110205, 110209, 110222, 110229, 110230, 110236, 110237, 110238, 110241, 110242, 110244, 110247, 110248, 110249, 110255, 110263, 110265, 110269, 110270, 110273, 110274, 110290, 110293, 110301, 110309, 110312, 110316, 110321, 110322, 110323, 110327, 110329, 110331, 110333, 110339, 110340, 110342, 110343, 110354, 110368, 110369, 110372, 110373, 110374, 110375, 110377, 110378, 110382, 110387, 110388, 110403, 110404, 110407, 110413, 110416, 110418, 110420, 110421, 110424, 110429, 110437, 110439, 110441, 110443, 110444, 110445, 110447, 110448, 110452, 110462, 110464, 110467, 110470, 110471, 110472, 110476, 110481, 110482, 110490, 110492, 110495, 110497, 110500, 110506, 110509, 110514, 110518, 110522, 110527, 110528, 110531, 110533, 110537, 110538, 110539, 110549, 110550, 110561, 110562, 110572, 110574, 110575, 110579, 110580, 110584, 110591, 110597, 110610, 110611, 110617, 110620, 110621, 110625, 110631, 110632, 110633, 110640, 110641, 110653, 110655, 110656, 110657, 110659, 110661, 110662, 110667, 110676, 110679, 110683, 110686, 110687, 110698, 110703, 110704, 110706, 110710, 110713, 110723, 110730, 110733, 110740, 110743, 110746, 110747, 110756, 110758, 110763, 110764, 110768, 110769, 110771, 110773, 110774, 110778, 110779, 110780, 110782, 110785, 110787, 110790, 110792, 110796, 110803, 110807, 110808, 110812, 110819, 110831, 110834, 110839, 110845, 110847, 110848, 110849, 110851, 110855, 110859, 110862, 110873, 110882, 110883, 110884, 110887, 110889, 110903, 110907, 110908, 110911, 110912, 110915, 110919, 110922, 110923, 110924, 110925, 110926, 110928, 110931, 110936, 110937, 110940, 110941, 110943, 110956, 110958, 110960, 110962, 110975, 110977, 110978, 110985, 110986, 110988, 110992, 110995, 110997, 111000, 111001, 111002, 111011, 111017, 111020, 111024, 111026, 111030, 111033, 111036, 111040, 111041, 111045, 111047, 111048, 111052, 111053, 111057, 111062, 111066, 111067, 111076, 111079, 111081, 111082, 111086, 111090, 111097, 111099, 111100, 111102, 111110, 111112, 111113, 111116, 111123, 111124, 111129, 111131, 111133, 111137, 111138, 111140, 111142, 111143, 111144, 111145, 111148, 111150, 111152, 111154, 111155, 111156, 111157, 111165, 111170, 111174, 111177, 111180, 111185, 111189, 111191, 111196, 111201, 111202, 111203, 111206, 111208, 111209, 111213, 111220, 111225, 111226, 111233, 111237, 111238, 111241, 111248, 111250, 111258, 111260, 111264, 111268, 111270, 111274, 111280, 111282, 111284, 111294, 111304, 111306, 111312, 111313, 111315, 111321, 111322, 111323, 111335, 111339, 111345, 111347, 111356, 111363, 111365, 111371, 111374, 111375, 111378, 111381, 111382, 111386, 111388, 111391, 111392, 111401, 111402, 111405, 111406, 111407, 111409, 111413, 111414, 111416, 111422, 111426, 111427, 111428, 111431, 111432, 111437, 111439, 111449, 111451, 111459, 111462, 111463, 111467, 111468, 111470, 111472, 111475, 111477, 111486, 111499, 111502, 111510, 111513, 111517, 111518, 111519, 111520, 111521, 111522, 111526, 111545, 111546, 111547, 111548, 111550, 111551, 111554, 111573, 111579, 111587, 111591, 111594, 111596, 111597, 111605, 111610, 111611, 111617, 111618, 111621, 111624, 111631, 111634, 111639, 111641, 111644, 111647, 111649, 111654, 111656, 111657, 111662, 111673, 111675, 111676, 111678, 111681, 111682, 111683, 111685, 111686, 111688, 111690, 111691, 111694, 111695, 111697, 111698, 111713, 111714, 111716, 111719, 111732, 111733, 111735, 111737, 111738, 111739, 111744, 111748, 111752, 111755, 111768, 111770, 111771, 111774, 111776, 111778, 111785, 111786, 111789, 111791, 111796, 111799, 111800, 111806, 111812, 111815, 111820, 111824, 111827, 111828, 111830, 111831, 111832, 111834, 111836, 111847, 111850, 111851, 111859, 111860, 111872, 111874, 111875, 111876, 111885, 111888, 111890, 111893, 111895, 111903, 111904, 111911, 111913, 111921, 111922, 111929, 111935, 111942, 111943, 111946, 111947, 111949, 111950, 111957, 111959, 111964, 111968, 111971, 111975, 111976, 111981, 111989, 111990, 111998, 112001, 112005, 112009, 112014, 112017, 112019, 112022, 112028, 112031, 112037, 112047, 112049, 112052, 112056, 112063, 112065, 112069, 112071, 112077, 112080, 112082, 112085, 112087, 112089, 112090, 112097, 112099, 112100, 112101, 112104, 112105, 112107, 112109, 112114, 112118, 112120, 112123, 112126, 112132, 112135, 112137, 112138, 112139, 112142, 112144, 112146, 112148, 112149, 112151, 112153, 112156, 112157, 112160, 112165, 112166, 112171, 112173, 112176, 112177, 112181, 112183, 112184, 112187, 112188, 112192, 112194, 112196, 112197, 112202, 112205, 112209, 112213, 112214, 112216, 112217, 112226, 112228, 112232, 112233, 112234, 112236, 112239, 112240, 112242, 112245, 112247, 112249, 112252, 112278, 112287, 112288, 112289, 112292, 112296, 112298, 112299, 112310, 112314, 112319, 112327, 112336, 112337, 112338, 112347, 112350, 112353, 112355, 112357, 112364, 112366, 112367, 112371, 112376, 112382, 112384, 112387, 112399, 112405, 112407, 112412, 112415, 112416, 112418, 112421, 112422, 112425, 112426, 112427, 112432, 112435, 112436, 112437, 112442, 112443, 112446, 112448, 112449, 112450, 112454, 112457, 112458, 112459, 112463, 112464, 112466, 112467, 112473, 112475, 112476, 112477, 112478, 112479, 112480, 112488, 112495, 112496, 112497, 112502, 112504, 112507, 112511, 112514, 112516, 112519, 112520, 112522, 112523, 112528, 112530, 112535, 112537, 112538, 112539, 112545, 112546, 112551, 112552, 112554, 112570, 112571, 112574, 112579, 112580, 112586, 112594, 112601, 112604, 112605, 112607, 112610, 112614, 112623, 112629, 112632, 112635, 112636, 112638, 112656, 112657, 112659, 112664, 112671, 112673, 112675, 112678, 112682, 112684, 112689, 112690, 112691, 112692, 112693, 112697, 112699, 112701, 112702, 112705, 112707, 112708, 112709, 112711, 112713, 112717, 112718, 112720, 112723, 112725, 112729, 112734, 112736, 112737, 112739, 112742, 112744, 112745, 112755, 112758, 112764, 112765, 112766, 112768, 112770, 112771, 112772, 112777, 112778, 112781, 112786, 112788, 112790, 112795, 112796, 112797, 112798, 112800, 112812, 112813, 112814, 112816, 112817, 112819, 112820, 112822, 112824, 112825, 112827, 112831, 112833, 112838, 112840, 112843, 112844, 112846, 112849, 112850, 112852, 112853, 112857, 112859, 112860, 112861, 112863, 112866, 112870, 112873, 112874, 112877, 112879, 112886, 112887, 112889, 112893, 112897, 112898, 112902, 112906, 112908, 112909, 112911, 112916, 112920, 112923, 112924, 112938, 112940, 112948, 112949, 112950, 112955, 112959, 112960, 112963, 112964, 112967, 112969, 112972, 112973, 112975, 112982, 112987, 112988, 112993, 113001, 113003, 113007, 113015, 113017, 113022, 113030, 113035, 113036, 113037, 113038, 113046, 113050, 113057, 113067, 113071, 113073, 113077, 113081, 113084, 113095, 113102, 113108, 113110, 113118, 113119, 113121, 113122, 113124, 113125, 113126, 113129, 113131, 113132, 113133, 113136, 113138, 113139, 113141, 113143, 113144, 113150, 113153, 113159, 113163, 113164, 113170, 113173, 113178, 113179, 113180, 113181, 113183, 113189, 113190, 113193, 113194, 113196, 113206, 113209, 113210, 113212, 113214, 113218, 113223, 113229, 113233, 113242, 113244, 113252, 113257, 113258, 113270, 113277, 113279, 113280, 113281, 113285, 113287, 113288, 113290, 113292, 113296, 113298, 113299, 113300, 113301, 113302, 113304, 113306, 113311, 113315, 113316, 113317, 113320, 113322, 113327, 113330, 113335, 113342, 113346, 113348, 113349, 113351, 113352, 113356, 113357, 113358, 113359, 113360, 113365, 113366, 113369, 113371, 113372, 113374, 113384, 113387, 113388, 113389, 113394, 113395, 113396, 113398, 113399, 113400, 113401, 113402, 113405, 113406, 113407, 113410, 113414, 113416, 113418, 113419, 113420, 113423, 113428, 113429, 113430, 113435, 113436, 113439, 113445, 113451, 113453, 113454, 113457, 113461, 113464, 113468, 113469, 113474, 113478, 113481, 113482, 113486, 113488, 113492, 113493, 113496, 113497, 113501, 113502, 113504, 113506, 113507, 113508, 113509, 113513, 113515, 113520, 113524, 113526, 113536, 113541, 113544, 113545, 113547, 113550, 113553, 113556, 113557, 113559, 113561, 113571, 113576, 113579, 113582, 113593, 113594, 113596, 113601, 113604, 113606, 113607, 113608, 113611, 113617, 113625, 113626, 113629, 113631, 113635, 113636, 113639, 113646, 113647, 113649, 113657, 113658, 113659, 113663, 113666, 113674, 113680, 113683, 113688, 113691, 113698, 113702, 113704, 113705, 113708, 113714, 113721, 113725, 113731, 113734, 113735, 113743, 113749, 113757, 113760, 113762, 113763, 113764, 113767, 113773, 113775, 113776, 113784, 113788, 113789, 113791, 113796, 113800, 113801, 113802, 113805, 113807, 113808, 113809, 113812, 113816, 113818, 113823, 113824, 113826, 113832, 113836, 113838, 113841, 113843, 113849, 113852, 113858, 113859, 113861, 113863, 113865, 113866, 113870, 113871, 113873, 113877, 113878, 113880, 113887, 113888, 113893, 113895, 113900, 113903, 113904, 113910, 113919, 113923, 113926, 113927, 113933, 113935, 113936, 113943, 113947, 113950, 113954, 113955, 113963, 113965, 113966, 113968, 113970, 113974, 113976, 113983, 113986, 113993, 113996, 113997, 114004, 114008, 114013, 114015, 114023, 114026, 114028, 114030, 114034, 114040, 114041, 114045, 114046, 114047, 114055, 114056, 114061, 114062, 114068, 114069, 114072, 114074, 114076, 114078, 114082, 114084, 114085, 114090, 114091, 114099, 114100, 114103, 114109, 114118, 114122, 114123, 114128, 114131, 114133, 114134, 114138, 114139, 114143, 114145, 114149, 114150, 114156, 114159, 114160, 114163, 114165, 114166, 114172, 114174, 114177, 114192, 114195, 114197, 114202, 114207, 114209, 114214, 114216, 114218, 114220, 114233, 114238, 114243, 114246, 114249, 114250, 114251, 114252, 114253, 114255, 114257, 114259, 114263, 114264, 114267, 114268, 114270, 114271, 114274, 114276, 114287, 114291, 114292, 114294, 114297, 114300, 114302, 114303, 114312, 114313, 114314, 114316, 114318, 114326, 114328, 114329, 114332, 114335, 114336, 114343, 114345, 114348, 114350, 114351, 114353, 114361, 114362, 114363, 114364, 114371, 114377, 114392, 114397, 114400, 114401, 114407, 114413, 114416, 114418, 114422, 114423, 114428, 114432, 114444, 114456, 114457, 114459, 114463, 114470, 114472, 114474, 114475, 114476, 114477, 114478, 114479, 114487, 114488, 114489, 114490, 114495, 114503, 114508, 114512, 114521, 114523, 114529, 114534, 114538, 114540, 114541, 114542, 114545, 114546, 114547, 114553, 114554, 114557, 114558, 114566, 114568, 114574, 114575, 114576, 114579, 114582, 114584, 114587, 114588, 114591, 114592, 114595, 114596, 114597, 114601, 114608, 114609, 114610, 114612, 114614, 114616, 114617, 114619, 114620, 114621, 114622, 114629, 114630, 114632, 114639, 114644, 114647, 114650, 114655, 114658, 114659, 114661, 114662, 114670, 114671, 114672, 114676, 114679, 114680, 114681, 114683, 114684, 114687, 114689, 114691, 114694, 114697, 114698, 114702, 114703, 114705, 114706, 114709, 114714, 114720, 114724, 114725, 114730, 114732, 114736, 114737, 114748, 114750, 114751, 114753, 114754, 114757, 114759, 114763, 114765, 114766, 114769, 114772, 114773, 114774, 114778, 114782, 114788, 114790, 114793, 114795, 114796, 114800, 114801, 114802, 114814, 114815, 114818, 114819, 114821, 114822, 114825, 114828, 114830, 114831, 114832, 114833, 114841, 114843, 114844, 114846, 114854, 114856, 114865, 114869, 114872, 114873, 114874, 114880, 114881, 114889, 114893, 114895, 114898, 114900, 114901, 114912, 114918, 114919, 114920, 114923, 114925, 114928, 114930, 114933, 114937, 114939, 114944, 114950, 114952, 114953, 114954, 114957, 114958, 114960, 114965, 114966, 114976, 114983, 114984, 114988, 114997, 114999, 115004, 115012, 115014, 115020, 115022, 115023, 115028, 115034, 115035, 115039, 115042, 115052, 115053, 115059, 115063, 115068, 115075, 115081, 115086, 115089, 115090, 115093, 115094, 115098, 115102, 115103, 115109, 115114, 115116, 115118, 115120, 115126, 115132, 115137, 115141, 115144, 115148, 115149, 115152, 115155, 115157, 115169, 115174, 115177, 115178, 115182, 115183, 115187, 115188, 115191, 115197, 115198, 115200, 115201, 115204, 115211, 115212, 115214, 115219, 115221, 115223, 115227, 115234, 115235, 115243, 115245, 115251, 115252, 115261, 115262, 115263, 115268, 115269, 115271, 115274, 115276, 115288, 115290, 115292, 115293, 115294, 115300, 115302, 115305, 115306, 115316, 115322, 115323, 115328, 115331, 115333, 115334, 115335, 115338, 115341, 115342, 115343, 115346, 115349, 115358, 115363, 115365, 115373, 115375, 115378, 115379, 115383, 115385, 115391, 115393, 115398, 115400, 115406, 115409, 115414, 115415, 115417, 115434, 115435, 115436, 115438, 115446, 115451, 115455, 115460, 115469, 115474, 115477, 115478, 115481, 115482, 115486, 115487, 115490, 115492, 115494, 115501, 115502, 115504, 115507, 115508, 115509, 115511, 115515, 115517, 115518, 115521, 115525, 115526, 115527, 115528, 115530, 115542, 115545, 115550, 115554, 115556, 115558, 115562, 115565, 115572, 115578, 115579, 115580, 115581, 115582, 115587, 115591, 115594, 115595, 115596, 115600, 115601, 115603, 115604, 115607, 115611, 115614, 115616, 115629, 115630, 115631, 115638, 115640, 115641, 115642, 115643, 115647, 115648, 115650, 115651, 115654, 115655, 115657, 115660, 115662, 115663, 115664, 115665, 115666, 115667, 115668, 115669, 115670, 115671, 115681, 115695, 115700, 115701, 115702, 115706, 115707, 115708, 115712, 115716, 115717, 115719, 115721, 115722, 115731, 115732, 115733, 115737, 115739, 115743, 115747, 115749, 115751, 115752, 115753, 115755, 115757, 115759, 115760, 115762, 115765, 115767, 115772, 115775, 115781, 115782, 115783, 115787, 115788, 115791, 115792, 115793, 115794, 115799, 115801, 115807, 115808, 115810, 115815, 115819, 115822, 115825, 115828, 115833, 115836, 115837, 115842, 115843, 115847, 115848, 115849, 115851, 115853, 115859, 115861, 115871, 115872, 115876, 115879, 115881, 115883, 115885, 115887, 115891, 115892, 115895, 115898, 115902, 115908, 115909, 115911, 115912, 115915, 115919, 115928, 115929, 115933, 115935, 115940, 115941, 115942, 115943, 115948, 115950, 115956, 115961, 115966, 115970, 115973, 115974, 115978, 115979, 115984, 115988, 115989, 115993, 116001, 116013, 116027, 116029, 116035, 116036, 116040, 116041, 116048, 116049, 116057, 116061, 116062, 116064, 116067, 116068, 116072, 116074, 116087, 116090, 116096, 116098, 116102, 116103, 116106, 116112, 116116, 116117, 116121, 116123, 116129, 116130, 116131, 116133, 116142, 116151, 116153, 116161, 116165, 116171, 116180, 116185, 116186, 116193, 116194, 116195, 116197, 116203, 116204, 116205, 116210, 116216, 116220, 116221, 116222, 116225, 116226, 116228, 116232, 116237, 116239, 116240, 116242, 116243, 116252, 116257, 116258, 116264, 116265, 116267, 116271, 116273, 116275, 116277, 116279, 116281, 116282, 116283, 116285, 116287, 116291, 116293, 116295, 116301, 116302, 116313, 116314, 116317, 116318, 116319, 116323, 116325, 116327, 116328, 116330, 116333, 116336, 116342, 116343, 116344, 116348, 116350, 116351, 116355, 116365, 116370, 116387, 116388, 116390, 116392, 116397, 116398, 116400, 116402, 116404, 116406, 116407, 116409, 116416, 116418, 116427, 116429, 116431, 116436, 116438, 116439, 116441, 116445, 116447, 116458, 116464, 116470, 116478, 116481, 116485, 116487, 116488, 116489, 116491, 116493, 116495, 116499, 116500, 116505, 116508, 116513, 116515, 116523, 116529, 116530, 116531, 116534, 116537, 116541, 116544, 116545, 116546, 116551, 116555, 116556, 116561, 116567, 116568, 116569, 116573, 116579, 116584, 116585, 116597, 116601, 116602, 116603, 116609, 116617, 116624, 116628, 116630, 116639, 116644, 116647, 116665, 116667, 116668, 116677, 116681, 116685, 116686, 116689, 116695, 116699, 116705, 116707, 116716, 116719, 116721, 116722, 116725, 116729, 116732, 116736, 116738, 116739, 116744, 116746, 116747, 116748, 116749, 116751, 116753, 116756, 116757, 116762, 116763, 116769, 116777, 116778, 116779, 116783, 116786, 116795, 116798, 116801, 116802, 116808, 116809, 116811, 116812, 116813, 116818, 116820, 116822, 116823, 116825, 116829, 116831, 116835, 116838, 116839, 116841, 116843, 116845, 116847, 116852, 116857, 116858, 116859, 116862, 116863, 116865, 116868, 116870, 116874, 116876, 116880, 116881, 116882, 116884, 116885, 116886, 116891, 116892, 116895, 116898, 116899, 116903, 116907, 116908, 116909, 116911, 116912, 116913, 116916, 116919, 116924, 116925, 116926, 116928, 116929, 116930, 116933, 116936, 116947, 116948, 116951, 116954, 116956, 116957, 116959, 116962, 116964, 116969, 116973, 116980, 116984, 116986, 116988, 116991, 116996, 117000, 117001, 117003, 117006, 117007, 117014, 117017, 117019, 117021, 117022, 117024, 117027, 117029, 117036, 117039, 117041, 117046, 117048, 117052, 117061, 117067, 117073, 117080, 117086, 117087, 117088, 117089, 117095, 117100, 117107, 117109, 117117, 117129, 117130, 117132, 117134, 117137, 117141, 117154, 117158, 117160, 117172, 117176, 117177, 117180, 117181, 117182, 117184, 117185, 117192, 117194, 117198, 117201, 117202, 117203, 117206, 117207, 117210, 117216, 117220, 117227, 117230, 117231, 117233, 117235, 117236, 117240, 117243, 117244, 117245, 117251, 117253, 117255, 117261, 117265, 117267, 117273, 117274, 117281, 117282, 117285, 117286, 117290, 117295, 117301, 117304, 117312, 117315, 117319, 117325, 117330, 117332, 117333, 117335, 117338, 117340, 117343, 117344, 117345, 117347, 117350, 117353, 117354, 117356, 117359, 117360, 117361, 117368, 117374, 117375, 117385, 117386, 117393, 117395, 117397, 117398, 117401, 117402, 117403, 117408, 117409, 117422, 117423, 117425, 117432, 117435, 117440, 117446, 117447, 117453, 117454, 117459, 117460, 117462, 117463, 117486, 117490, 117494, 117497, 117500, 117501, 117502, 117505, 117508, 117510, 117517, 117524, 117526, 117529, 117534, 117536, 117538, 117542, 117545, 117547, 117555, 117556, 117567, 117572, 117573, 117577, 117580, 117582, 117587, 117589, 117591, 117592, 117596, 117600, 117601, 117609, 117611, 117612, 117614, 117615, 117616, 117620, 117623, 117627, 117628, 117630, 117637, 117639, 117653, 117654, 117663, 117666, 117674, 117676, 117678, 117679, 117681, 117686, 117687, 117691, 117696, 117700, 117705, 117709, 117711, 117714, 117715, 117716, 117720, 117726, 117731, 117738, 117743, 117752, 117755, 117760, 117764, 117770, 117771, 117778, 117785, 117791, 117796, 117811, 117815, 117817, 117821, 117823, 117824, 117826, 117829, 117830, 117837, 117840, 117844, 117847, 117849, 117852, 117856, 117857, 117859, 117862, 117864, 117867, 117868, 117872, 117880, 117881, 117883, 117884, 117885, 117888, 117889, 117890, 117891, 117897, 117898, 117903, 117906, 117912, 117914, 117915, 117920, 117921, 117923, 117934, 117935, 117936, 117939, 117941, 117944, 117952, 117953, 117955, 117956, 117958, 117968, 117973, 117975, 117976, 117977, 117981, 117984, 117985, 117987, 117988, 117990, 117994, 117998, 118000, 118001, 118003, 118004, 118005, 118006, 118007, 118008, 118011, 118013, 118016, 118017, 118023, 118029, 118030, 118031, 118036, 118041, 118043, 118046, 118049, 118051, 118055, 118057, 118058, 118059, 118061, 118067, 118071, 118075, 118081, 118082, 118083, 118088, 118089, 118090, 118093, 118095, 118099, 118105, 118108, 118110, 118112, 118113, 118115, 118120, 118121, 118127, 118132, 118136, 118137, 118140, 118141, 118143, 118147, 118149, 118153, 118154, 118156, 118157, 118158, 118159, 118167, 118169, 118174, 118175, 118176, 118178, 118180, 118189, 118194, 118198, 118200, 118201, 118204, 118206, 118211, 118212, 118213, 118214, 118215, 118219, 118220, 118224, 118226, 118233, 118238, 118240, 118243, 118245, 118251, 118255, 118261, 118262, 118267, 118268, 118270, 118273, 118275, 118279, 118280, 118285, 118288, 118295, 118297, 118302, 118303, 118305, 118311, 118312, 118313, 118315, 118317, 118318, 118319, 118325, 118328, 118329, 118335, 118336, 118342, 118344, 118345, 118351, 118357, 118361, 118362, 118363, 118364, 118368, 118375, 118378, 118380, 118384, 118385, 118390, 118393, 118400, 118402, 118404, 118406, 118408, 118409, 118410, 118414, 118420, 118421, 118422, 118423, 118424, 118428, 118429, 118430, 118433, 118434, 118437, 118438, 118445, 118454, 118458, 118464, 118465, 118467, 118469, 118471, 118472, 118478, 118480, 118485, 118489, 118490, 118492, 118494, 118495, 118500, 118501, 118502, 118504, 118505, 118506, 118511, 118516, 118519, 118523, 118526, 118527, 118529, 118530, 118532, 118536, 118538, 118539, 118541, 118542, 118547, 118550, 118551, 118558, 118562, 118563, 118564, 118565, 118567, 118568, 118573, 118586, 118588, 118598, 118604, 118609, 118611, 118621, 118632, 118636, 118639, 118641, 118643, 118644, 118645, 118649, 118653, 118654, 118656, 118658, 118659, 118661, 118662, 118664, 118673, 118675, 118677, 118678, 118680, 118685, 118689, 118692, 118694, 118697, 118700, 118702, 118704, 118705, 118708, 118711, 118712, 118722, 118725, 118726, 118727, 118736, 118741, 118743, 118744, 118746, 118754, 118758, 118759, 118765, 118768, 118770, 118772, 118778, 118779, 118784, 118788, 118789, 118791, 118796, 118797, 118798, 118803, 118804, 118805, 118807, 118808, 118811, 118812, 118822, 118823, 118824, 118836, 118840, 118842, 118846, 118848, 118850, 118853, 118858, 118863, 118865, 118868, 118869, 118872, 118873, 118879, 118884, 118885, 118892, 118893, 118894, 118899, 118901, 118902, 118905, 118907, 118913, 118914, 118916, 118918, 118919, 118920, 118929, 118930, 118931, 118936, 118941, 118943, 118945, 118946, 118950, 118956, 118958, 118959, 118961, 118966, 118972, 118976, 118981, 118982, 118984, 118985, 118986, 118996, 118998, 119001, 119003, 119005, 119006, 119018, 119019, 119021, 119022, 119023, 119026, 119028, 119029, 119031, 119032, 119033, 119034, 119036, 119040, 119042, 119043, 119046, 119048, 119049, 119050, 119053, 119054, 119055, 119060, 119061, 119067, 119068, 119069, 119071, 119072, 119073, 119074, 119075, 119076, 119078, 119083, 119087, 119089, 119099, 119103, 119111, 119119, 119124, 119125, 119128, 119133, 119141, 119143, 119147, 119150, 119152, 119157, 119159, 119162, 119164, 119167, 119168, 119170, 119174, 119181, 119186, 119191, 119192, 119196, 119198, 119206, 119207, 119209, 119212, 119216, 119217, 119218, 119223, 119228, 119230, 119237, 119242, 119245, 119246, 119248, 119249, 119253, 119256, 119261, 119280, 119284, 119289, 119293, 119295, 119297, 119308, 119309, 119312, 119315, 119316, 119317, 119318, 119328, 119333, 119339, 119340, 119342, 119344, 119350, 119352, 119355, 119356, 119358, 119360, 119362, 119364, 119365, 119370, 119371, 119372, 119375, 119381, 119388, 119389, 119392, 119400, 119401, 119402, 119404, 119405, 119408, 119423, 119432, 119437, 119446, 119448, 119452, 119455, 119458, 119459, 119464, 119465, 119468, 119469, 119477, 119478, 119483, 119485, 119492, 119494, 119502, 119503, 119508, 119512, 119513, 119516, 119518, 119519, 119520, 119524, 119525, 119527, 119532, 119533, 119534, 119535, 119537, 119544, 119546, 119551, 119553, 119554, 119558, 119562, 119565, 119568, 119570, 119573, 119574, 119576, 119577, 119580, 119586, 119591, 119592, 119595, 119597, 119599, 119604, 119605, 119606, 119609, 119616, 119619, 119623, 119625, 119626, 119627, 119629, 119630, 119635, 119638, 119642, 119645, 119649, 119655, 119660, 119666, 119668, 119672, 119673, 119676, 119677, 119681, 119685, 119686, 119687, 119688, 119691, 119692, 119693, 119694, 119697, 119700, 119701, 119703, 119705, 119707, 119713, 119715, 119717, 119722, 119723, 119726, 119727, 119728, 119729, 119731, 119732, 119738, 119740, 119746, 119748, 119750, 119751, 119763, 119764, 119765, 119766, 119767, 119768, 119769, 119772, 119773, 119776, 119785, 119788, 119797, 119798, 119799, 119800, 119805, 119809, 119810, 119812, 119815, 119817, 119819, 119820, 119821, 119823, 119825, 119826, 119828, 119829, 119830, 119833, 119835, 119837, 119839, 119840, 119841, 119843, 119845, 119846, 119849, 119851, 119852, 119855, 119859, 119861, 119862, 119864, 119871, 119872, 119878, 119880, 119881, 119884, 119885, 119891, 119892, 119893, 119894, 119896, 119899, 119902, 119903, 119904, 119907, 119912, 119914, 119915, 119916, 119922, 119923, 119925, 119926, 119927, 119928, 119930, 119931, 119935, 119936, 119954, 119955, 119957, 119958, 119962, 119963, 119964, 119969, 119971, 119972, 119973, 119978, 119987, 119989, 119992, 119993, 119997, 120000, 120001, 120002, 120009, 120016, 120021, 120023, 120027, 120028, 120031, 120032, 120035, 120038, 120040, 120044, 120046, 120049, 120051, 120055, 120064, 120067, 120079, 120080, 120081, 120082, 120083, 120084, 120086, 120089, 120092, 120094, 120098, 120100, 120101, 120102, 120106, 120110, 120112, 120117, 120118, 120131, 120136, 120139, 120140, 120143, 120144, 120153, 120156, 120160, 120161, 120162, 120168, 120170, 120175, 120178, 120179, 120180, 120182, 120183, 120186, 120188, 120199, 120201, 120204, 120207, 120209, 120210, 120212, 120214, 120216, 120219, 120221, 120230, 120232, 120233, 120234, 120235, 120238, 120241, 120247, 120248, 120249, 120252, 120256, 120257, 120261, 120262, 120268, 120269, 120273, 120275, 120280, 120282, 120284, 120289, 120296, 120298, 120299, 120300, 120305, 120306, 120314, 120315, 120320, 120322, 120325, 120326, 120328, 120335, 120337, 120345, 120347, 120349, 120351, 120352, 120353, 120354, 120357, 120361, 120366, 120370, 120383, 120389, 120393, 120401, 120402, 120408, 120411, 120412, 120416, 120419, 120422, 120427, 120430, 120432, 120434, 120438, 120440, 120441, 120443, 120451, 120454, 120455, 120462, 120468, 120470, 120471, 120472, 120480, 120481, 120486, 120488, 120489, 120505, 120506, 120512, 120516, 120517, 120520, 120521, 120525, 120529, 120530, 120535, 120538, 120541, 120543, 120551, 120553, 120558, 120565, 120566, 120567, 120570, 120577, 120582, 120585, 120588, 120590, 120591, 120595, 120599, 120610, 120636, 120639, 120646, 120651, 120652, 120653, 120654, 120656, 120657, 120661, 120668, 120670, 120671, 120681, 120682, 120685, 120687, 120688, 120693, 120698, 120700, 120703, 120706, 120708, 120709, 120710, 120715, 120720, 120725, 120734, 120744, 120745, 120750, 120751, 120753, 120757, 120758, 120759, 120761, 120762, 120767, 120769, 120771, 120773, 120776, 120778, 120779, 120782, 120784, 120787, 120790, 120792, 120797, 120799, 120800, 120801, 120804, 120805, 120812, 120817, 120819, 120823, 120825, 120826, 120828, 120830, 120831, 120832, 120835, 120845, 120848, 120849, 120850, 120851, 120852, 120862, 120863, 120864, 120867, 120874, 120877, 120880, 120882, 120887, 120891, 120893, 120904, 120906, 120911, 120913, 120914, 120915, 120916, 120923, 120928, 120935, 120939, 120940, 120941, 120945, 120956, 120959, 120962, 120963, 120968, 120972, 120978, 120980, 120984, 120990, 120993, 120995, 120999, 121000, 121008, 121011, 121019, 121024, 121026, 121027, 121028, 121032, 121035, 121037, 121038, 121044, 121046, 121051, 121055, 121056, 121057, 121061, 121069, 121074, 121078, 121079, 121081, 121082, 121090, 121092, 121093, 121095, 121097, 121098, 121100, 121105, 121108, 121109, 121110, 121112, 121120, 121122, 121124, 121126, 121127, 121131, 121133, 121135, 121136, 121142, 121143, 121149, 121150, 121154, 121160, 121162, 121169, 121171, 121174, 121178, 121192, 121193, 121195, 121198, 121202, 121204, 121206, 121211, 121212, 121216, 121217, 121220, 121223, 121224, 121234, 121235, 121236, 121238, 121247, 121249, 121258, 121261, 121264, 121272, 121274, 121277, 121288, 121289, 121291, 121296, 121297, 121298, 121304, 121305, 121314, 121326, 121327, 121334, 121350, 121353, 121364, 121367, 121371, 121386, 121388, 121390, 121391, 121392, 121396, 121399, 121401, 121406, 121418, 121420, 121424, 121425, 121427, 121433, 121437, 121440, 121444, 121446, 121448, 121459, 121462, 121466, 121467, 121469, 121473, 121478, 121482, 121483, 121485, 121488, 121491, 121496, 121500, 121501, 121503, 121505, 121509, 121512, 121514, 121521, 121522, 121523, 121530, 121533, 121534, 121536, 121538, 121541, 121543, 121551, 121552, 121554, 121558, 121562, 121563, 121565, 121569, 121571, 121573, 121577, 121578, 121579, 121583, 121595, 121596, 121597, 121599, 121604, 121607, 121609, 121610, 121616, 121622, 121627, 121630, 121636, 121640, 121652, 121658, 121660, 121661, 121664, 121666, 121667, 121677, 121682, 121685, 121693, 121694, 121699, 121702, 121706, 121709, 121710, 121711, 121714, 121720, 121721, 121722, 121724, 121729, 121730, 121732, 121736, 121740, 121743, 121744, 121755, 121758, 121759, 121760, 121764, 121765, 121767, 121768, 121773, 121774, 121777, 121788, 121789, 121792, 121793, 121794, 121799, 121800, 121804, 121810, 121814, 121817, 121831, 121832, 121837, 121841, 121843, 121847, 121848, 121850, 121852, 121855, 121857, 121859, 121860, 121861, 121862, 121863, 121866, 121867, 121868, 121870, 121871, 121873, 121874, 121877, 121880, 121881, 121886, 121887, 121903, 121904, 121911, 121915, 121916, 121917, 121920, 121930, 121931, 121933, 121938, 121942, 121946, 121947, 121953, 121955, 121957, 121960, 121964, 121965, 121969, 121970, 121971, 121973, 121977, 121978, 121983, 121985, 121988, 121990, 121998, 122001, 122002, 122009, 122011, 122015, 122018, 122020, 122023, 122024, 122025, 122032, 122034, 122041, 122042, 122045, 122048, 122050, 122051, 122054, 122055, 122064, 122067, 122069, 122073, 122081, 122086, 122089, 122093, 122094, 122096, 122103, 122105, 122120, 122122, 122129, 122132, 122133, 122141, 122142, 122144, 122150, 122155, 122165, 122166, 122171, 122172, 122174, 122177, 122179, 122182, 122191, 122193, 122194, 122198, 122201, 122202, 122212, 122213, 122214, 122224, 122228, 122229, 122233, 122235, 122237, 122241, 122244, 122245, 122246, 122254, 122255, 122260, 122263, 122267, 122273, 122274, 122278, 122279, 122284, 122285, 122287, 122291, 122295, 122298, 122305, 122312, 122322, 122331, 122333, 122334, 122337, 122350, 122353, 122354, 122355, 122358, 122359, 122366, 122369, 122371, 122373, 122380, 122382, 122390, 122391, 122393, 122399, 122407, 122408, 122417, 122419, 122424, 122426, 122430, 122432, 122433, 122434, 122443, 122444, 122446, 122450, 122451, 122455, 122456, 122457, 122462, 122463, 122470, 122473, 122477, 122481, 122482, 122486, 122487, 122494, 122496, 122497, 122498, 122504, 122517, 122520, 122524, 122526, 122527, 122528, 122531, 122533, 122535, 122538, 122543, 122545, 122547, 122549, 122554, 122556, 122561, 122563, 122564, 122571, 122575, 122580, 122585, 122586, 122597, 122613, 122614, 122616, 122617, 122618, 122627, 122628, 122632, 122635, 122636, 122639, 122641, 122643, 122644, 122645, 122647, 122653, 122655, 122658, 122661, 122669, 122670, 122678, 122679, 122684, 122689, 122691, 122695, 122697, 122701, 122706, 122708, 122710, 122711, 122716, 122724, 122727, 122728, 122730, 122732, 122736, 122738, 122742, 122744, 122746, 122747, 122750, 122758, 122760, 122761, 122772, 122775, 122776, 122777, 122781, 122782, 122791, 122794, 122796, 122800, 122801, 122803, 122805, 122807, 122815, 122816, 122822, 122826, 122831, 122836, 122837, 122840, 122841, 122842, 122846, 122850, 122852, 122859, 122865, 122866, 122868, 122869, 122871, 122872, 122878, 122879, 122880, 122881, 122882, 122884, 122887, 122888, 122889, 122898, 122903, 122916, 122919, 122920, 122924, 122925, 122926, 122930, 122937, 122938, 122940, 122947, 122950, 122951, 122957, 122966, 122969, 122971, 122972, 122976, 122978, 122983, 122986, 122993, 122996, 122997, 122998, 122999, 123003, 123004, 123005, 123007, 123009, 123011, 123012, 123019, 123028, 123038, 123039, 123044, 123045, 123055, 123056, 123057, 123061, 123063, 123066, 123072, 123073, 123074, 123089, 123091, 123093, 123094, 123099, 123108, 123114, 123117, 123120, 123122, 123123, 123125, 123131, 123143, 123144, 123145, 123148, 123154, 123161, 123162, 123163, 123165, 123167, 123171, 123174, 123187, 123190, 123191, 123193, 123194, 123196, 123198, 123201, 123207, 123208, 123211, 123217, 123219, 123222, 123223, 123224, 123229, 123230, 123233, 123243, 123246, 123248, 123249, 123250, 123255, 123261, 123268, 123277, 123280, 123281, 123285, 123286, 123288, 123292, 123295, 123297, 123298, 123299, 123302, 123303, 123305, 123306, 123311, 123314, 123315, 123316, 123317, 123320, 123333, 123335, 123337, 123340, 123346, 123349, 123357, 123360, 123364, 123375, 123378, 123380, 123382, 123384, 123388, 123396, 123397, 123398, 123401, 123404, 123409, 123414, 123417, 123419, 123422, 123432, 123436, 123449, 123450, 123453, 123457, 123463, 123464, 123465, 123467, 123468, 123469, 123472, 123484, 123500, 123502, 123503, 123504, 123505, 123509, 123517, 123519, 123520, 123521, 123522, 123526, 123528, 123532, 123535, 123536, 123539, 123544, 123546, 123549, 123550, 123552, 123555, 123556, 123562, 123568, 123574, 123586, 123592, 123593, 123598, 123599, 123600, 123605, 123607, 123609, 123613, 123615, 123616, 123617, 123619, 123621, 123627, 123630, 123638, 123640, 123641, 123642, 123647, 123652, 123655, 123657, 123663, 123666, 123673, 123675, 123676, 123678, 123680, 123686, 123689, 123690, 123692, 123696, 123697, 123700, 123705, 123707, 123710, 123715, 123718, 123719, 123734, 123737, 123741, 123747, 123749, 123752, 123755, 123757, 123774, 123776, 123778, 123782, 123783, 123789, 123793, 123798, 123809, 123810, 123813, 123817, 123818, 123819, 123820, 123821, 123823, 123825, 123826, 123830, 123833, 123837, 123839, 123842, 123848, 123851, 123852, 123853, 123857, 123859, 123861, 123864, 123865, 123867, 123868, 123871, 123873, 123878, 123882, 123883, 123884, 123885, 123887, 123890, 123901, 123902, 123904, 123909, 123911, 123913, 123920, 123922, 123925, 123928, 123929, 123933, 123935, 123937, 123940, 123942, 123945, 123947, 123949, 123950, 123951, 123953, 123954, 123960, 123961, 123967, 123972, 123978, 123979, 123981, 123985, 123986, 123987, 123993, 123995, 123998, 123999, 124001, 124004, 124005, 124007, 124008, 124010, 124012, 124014, 124018, 124019, 124025, 124026, 124028, 124029, 124033, 124034, 124037, 124038, 124054, 124055, 124056, 124058, 124059, 124060, 124062, 124064, 124066, 124067, 124068, 124071, 124080, 124082, 124085, 124086, 124087, 124088, 124090, 124097, 124098, 124101, 124102, 124103, 124107, 124109, 124111, 124115, 124119, 124120, 124122, 124123, 124129, 124130, 124135, 124136, 124142, 124152, 124158, 124162, 124164, 124165, 124167, 124168, 124170, 124176, 124177, 124179, 124180, 124184, 124188, 124192, 124196, 124197, 124198, 124199, 124200, 124201, 124206, 124211, 124220, 124223, 124225, 124226, 124230, 124233, 124235, 124238, 124241, 124244, 124245, 124246, 124247, 124254, 124256, 124262, 124265, 124268, 124275, 124277, 124282, 124289, 124290, 124303, 124304, 124308, 124309, 124310, 124311, 124313, 124321, 124322, 124328, 124333, 124336, 124343, 124344, 124345, 124355, 124357, 124366, 124367, 124369, 124373, 124374, 124375, 124379, 124391, 124395, 124397, 124398, 124400, 124407, 124410, 124412, 124413, 124425, 124427, 124429, 124430, 124433, 124434, 124440, 124442, 124443, 124444, 124448, 124450, 124452, 124459, 124460, 124464, 124466, 124470, 124472, 124477, 124479, 124481, 124482, 124489, 124494, 124496, 124500, 124501, 124503, 124507, 124512, 124517, 124521, 124522, 124526, 124530, 124531, 124540, 124541, 124542, 124548, 124550, 124552, 124554, 124559, 124560, 124561, 124572, 124575, 124576, 124577, 124579, 124581, 124584, 124586, 124593, 124597, 124599, 124604, 124606, 124613, 124614, 124615, 124617, 124624, 124632, 124633, 124635, 124637, 124638, 124639, 124641, 124652, 124656, 124659, 124662, 124669, 124672, 124673, 124674, 124682, 124683, 124684, 124685, 124687, 124688, 124689, 124691, 124692, 124698, 124707, 124708, 124719, 124720, 124722, 124723, 124729, 124731, 124732, 124733, 124737, 124738, 124742, 124745, 124755, 124756, 124757, 124760, 124762, 124764, 124768, 124772, 124773, 124775, 124778, 124780, 124782, 124785, 124788, 124789, 124790, 124792, 124795, 124799, 124800, 124802, 124807, 124814, 124815, 124819, 124820, 124821, 124825, 124827, 124834, 124835, 124839, 124840, 124845, 124854, 124857, 124859, 124869, 124872, 124873, 124877, 124878, 124881, 124888, 124898, 124903, 124904, 124906, 124910, 124919, 124928, 124929, 124937, 124939, 124941, 124945, 124947, 124951, 124952, 124954, 124957, 124965, 124974, 124975, 124978, 124985, 124987, 124991, 124992, 124996, 125005, 125006, 125010, 125013, 125014, 125018, 125019, 125021, 125023, 125029, 125034, 125035, 125037, 125042, 125043, 125048, 125049, 125051, 125061, 125064, 125068, 125072, 125073, 125074, 125077, 125079, 125082, 125085, 125086, 125087, 125093, 125096, 125105, 125110, 125115, 125121, 125123, 125124, 125126, 125127, 125128, 125132, 125134, 125145, 125146, 125148, 125149, 125153, 125164, 125171, 125172, 125174, 125175, 125176, 125179, 125184, 125185, 125186, 125188, 125192, 125193, 125195, 125201, 125203, 125204, 125205, 125206, 125221, 125224, 125225, 125230, 125233, 125236, 125237, 125238, 125241, 125244, 125255, 125256, 125266, 125269, 125270, 125275, 125277, 125279, 125282, 125295, 125296, 125300, 125301, 125303, 125304, 125307, 125314, 125315, 125320, 125322, 125327, 125334, 125335, 125340, 125345, 125347, 125349, 125357, 125365, 125366, 125370, 125373, 125374, 125378, 125381, 125384, 125396, 125401, 125402, 125403, 125411, 125418, 125420, 125422, 125424, 125428, 125429, 125430, 125437, 125442, 125443, 125444, 125446, 125447, 125448, 125458, 125462, 125464, 125466, 125469, 125486, 125489, 125494, 125499, 125501, 125504, 125505, 125509, 125512, 125514, 125516, 125517, 125523, 125525, 125526, 125528, 125533, 125534, 125536, 125537, 125539, 125540, 125543, 125544, 125547, 125548, 125555, 125558, 125564, 125565, 125571, 125572, 125576, 125578, 125580, 125582, 125583, 125589, 125590, 125592, 125593, 125598, 125600, 125601, 125602, 125603, 125604, 125611, 125614, 125615, 125620, 125621, 125622, 125624, 125625, 125628, 125637, 125639, 125645, 125646, 125647, 125650, 125659, 125663, 125664, 125665, 125671, 125675, 125677, 125678, 125684, 125699, 125708, 125718, 125719, 125721, 125724, 125731, 125732, 125736, 125739, 125740, 125743, 125747, 125750, 125758, 125766, 125768, 125769, 125770, 125772, 125774, 125779, 125780, 125789, 125793, 125795, 125803, 125804, 125805, 125809, 125816, 125819, 125821, 125823, 125828, 125834, 125837, 125841, 125843, 125845, 125850, 125851, 125852, 125855, 125857, 125863, 125866, 125867, 125869, 125872, 125873, 125875, 125878, 125882, 125883, 125888, 125893, 125894, 125896, 125897, 125901, 125904, 125905, 125907, 125909, 125918, 125921, 125922, 125924, 125931, 125932, 125935, 125937, 125939, 125940, 125941, 125942, 125944, 125945, 125948, 125957, 125978, 125980, 125984, 125989, 125991, 125992, 125999, 126010, 126011, 126016, 126018, 126021, 126023, 126024, 126025, 126027, 126029, 126030, 126033, 126036, 126038, 126040, 126042, 126044, 126047, 126054, 126057, 126060, 126062, 126063, 126067, 126069, 126074, 126077, 126080, 126092, 126093, 126094, 126099, 126100, 126106, 126107, 126110, 126120, 126123, 126129, 126135, 126140, 126145, 126151, 126153, 126157, 126168, 126170, 126172, 126176, 126178, 126181, 126185, 126191, 126193, 126194, 126198, 126199, 126200, 126204, 126205, 126208, 126210, 126212, 126214, 126215, 126217, 126221, 126224, 126231, 126233, 126237, 126242, 126243, 126246, 126248, 126257, 126259, 126260, 126261, 126271, 126275, 126276, 126279, 126282, 126283, 126290, 126292, 126293, 126296, 126298, 126302, 126303, 126310, 126314, 126316, 126323, 126324, 126325, 126326, 126327, 126328, 126329, 126333, 126335, 126337, 126342, 126344, 126348, 126349, 126350, 126353, 126355, 126358, 126360, 126365, 126368, 126370, 126372, 126374, 126375, 126380, 126386, 126387, 126388, 126390, 126393, 126397, 126398, 126403, 126406, 126408, 126409, 126410, 126414, 126417, 126419, 126420, 126423, 126426, 126427, 126428, 126434, 126436, 126443, 126446, 126448, 126452, 126458, 126464, 126465, 126467, 126469, 126470, 126477, 126478, 126479, 126481, 126483, 126484, 126485, 126489, 126497, 126500, 126503, 126504, 126515, 126516, 126517, 126520, 126524, 126525, 126527, 126528, 126530, 126533, 126537, 126540, 126547, 126548, 126560, 126563, 126564, 126566, 126567, 126569, 126574, 126575, 126578, 126582, 126584, 126585, 126587, 126588, 126589, 126591, 126594, 126601, 126603, 126606, 126612, 126613, 126622, 126623, 126628, 126629, 126632, 126641, 126648, 126649, 126650, 126651, 126652, 126654, 126658, 126659, 126660, 126664, 126666, 126671, 126673, 126675, 126676, 126677, 126678, 126692, 126693, 126697, 126705, 126706, 126708, 126712, 126713, 126714, 126715, 126717, 126718, 126723, 126725, 126726, 126729, 126730, 126735, 126743, 126748, 126749, 126751, 126753, 126754, 126761, 126763, 126764, 126766, 126768, 126769, 126772, 126773, 126781, 126792, 126795, 126796, 126797, 126805, 126814, 126820, 126827, 126828, 126829, 126830, 126831, 126833, 126837, 126853, 126858, 126865, 126866, 126875, 126880, 126882, 126897, 126901, 126913, 126916, 126917, 126921, 126923, 126929, 126944, 126947, 126949, 126952, 126955, 126957, 126961, 126962, 126964, 126965, 126966, 126970, 126971, 126973, 126975, 126976, 126977, 126982, 126983, 126987, 126991, 126993, 126994, 127002, 127012, 127013, 127014, 127015, 127016, 127018, 127021, 127024, 127027, 127038, 127040, 127042, 127044, 127052, 127053, 127056, 127058, 127061, 127062, 127068, 127072, 127073, 127075, 127078, 127081, 127083, 127086, 127095, 127096, 127104, 127106, 127110, 127111, 127113, 127114, 127119, 127123, 127134, 127139, 127144, 127150, 127152, 127153, 127154, 127156, 127158, 127160, 127161, 127163, 127165, 127173, 127178, 127180, 127190, 127191, 127195, 127196, 127201, 127220, 127221, 127222, 127225, 127228, 127230, 127236, 127237, 127247, 127250, 127253, 127257, 127260, 127261, 127266, 127267, 127268, 127269, 127273, 127274, 127278, 127281, 127285, 127288, 127295, 127307, 127316, 127318, 127320, 127321, 127325, 127327, 127330, 127336, 127341, 127344, 127345, 127346, 127347, 127348, 127354, 127357, 127360, 127362, 127365, 127378, 127379, 127384, 127385, 127389, 127390, 127391, 127397, 127411, 127417, 127420, 127425, 127435, 127439, 127440, 127442, 127443, 127447, 127451, 127454, 127455, 127457, 127459, 127462, 127466, 127470, 127482, 127485, 127488, 127489, 127490, 127491, 127501, 127504, 127506, 127508, 127510, 127512, 127517, 127518, 127520, 127524, 127525, 127527, 127528, 127530, 127539, 127546, 127551, 127554, 127555, 127558, 127560, 127562, 127567, 127568, 127569, 127572, 127585, 127586, 127589, 127590, 127591, 127594, 127597, 127599, 127602, 127606, 127609, 127614, 127615, 127617, 127619, 127620, 127628, 127630, 127649, 127650, 127654, 127659, 127663, 127664, 127667, 127668, 127671, 127673, 127676, 127679, 127681, 127682, 127691, 127692, 127693, 127695, 127711, 127714, 127717, 127723, 127724, 127725, 127726, 127728, 127729, 127739, 127743, 127745, 127752, 127759, 127761, 127768, 127769, 127772, 127773, 127775, 127779, 127780, 127783, 127785, 127796, 127797, 127803, 127804, 127810, 127813, 127816, 127821, 127823, 127827, 127831, 127834, 127835, 127836, 127837, 127838, 127840, 127842, 127844, 127845, 127846, 127847, 127851, 127853, 127854, 127859, 127861, 127874, 127875, 127880, 127884, 127886, 127891, 127893, 127895, 127903, 127904, 127907, 127908, 127910, 127913, 127914, 127916, 127917, 127918, 127921, 127925, 127928, 127932, 127936, 127938, 127939, 127943, 127945, 127946, 127947, 127948, 127949, 127953, 127957, 127958, 127960, 127968, 127972, 127976, 127981, 127985, 127990, 127991, 127993, 127998, 128000, 128001, 128006, 128009, 128014, 128016, 128020, 128025, 128032, 128034, 128048, 128049, 128052, 128058, 128060, 128063, 128067, 128072, 128075, 128077, 128078, 128082, 128083, 128084, 128085, 128088, 128090, 128091, 128096, 128101, 128102, 128103, 128104, 128105, 128106, 128111, 128118, 128120, 128122, 128126, 128129, 128132, 128142, 128145, 128146, 128147, 128148, 128149, 128151, 128159, 128160, 128162, 128172, 128176, 128177, 128181, 128182, 128184, 128189, 128192, 128196, 128200, 128201, 128202, 128203, 128205, 128209, 128219, 128220, 128221, 128225, 128226, 128228, 128230, 128233, 128235, 128238, 128240, 128244, 128246, 128249, 128255, 128261, 128263, 128267, 128272, 128280, 128283, 128285, 128289, 128293, 128296, 128301, 128304, 128307, 128310, 128315, 128316, 128322, 128323, 128328, 128332, 128334, 128336, 128337, 128341, 128343, 128346, 128350, 128351, 128352, 128353, 128357, 128358, 128360, 128363, 128365, 128366, 128368, 128370, 128372, 128373, 128378, 128379, 128380, 128382, 128383, 128385, 128387, 128391, 128397, 128399, 128400, 128405, 128407, 128408, 128411, 128412, 128418, 128426, 128427, 128429, 128431, 128433, 128434, 128436, 128438, 128439, 128451, 128453, 128454, 128456, 128458, 128459, 128462, 128472, 128475, 128481, 128483, 128485, 128486, 128487, 128491, 128497, 128501, 128504, 128506, 128516, 128519, 128522, 128527, 128530, 128532, 128533, 128535, 128536, 128538, 128540, 128543, 128544, 128546, 128548, 128551, 128555, 128556, 128557, 128560, 128561, 128562, 128567, 128568, 128575, 128577, 128579, 128583, 128586, 128588, 128598, 128599, 128601, 128603, 128610, 128614, 128619, 128626, 128627, 128632, 128634, 128639, 128641, 128644, 128648, 128649, 128653, 128654, 128655, 128661, 128663, 128686, 128687, 128688, 128689, 128692, 128693, 128698, 128699, 128701, 128704, 128709, 128712, 128713, 128715, 128718, 128719, 128720, 128722, 128724, 128739, 128746, 128752, 128754, 128755, 128760, 128764, 128766, 128767, 128769, 128770, 128774, 128778, 128779, 128785, 128786, 128790, 128791, 128794, 128796, 128804, 128806, 128809, 128816, 128817, 128819, 128821, 128824, 128825, 128830, 128835, 128839, 128840, 128842, 128843, 128844, 128845, 128847, 128849, 128851, 128855, 128856, 128858, 128860, 128862, 128863, 128864, 128865, 128867, 128868, 128869, 128870, 128873, 128884, 128888, 128891, 128897, 128900, 128902, 128903, 128905, 128907, 128912, 128915, 128922, 128924, 128926, 128931, 128932, 128934, 128938, 128941, 128942, 128946, 128949, 128951, 128953, 128955, 128956, 128961, 128964, 128965, 128968, 128970, 128972, 128974, 128979, 128981, 128982, 128983, 128985, 128986, 128987, 128994, 129000, 129001, 129005, 129007, 129012, 129015, 129017, 129021, 129022, 129023, 129026, 129027, 129029, 129032, 129036, 129040, 129045, 129048, 129052, 129070, 129071, 129072, 129074, 129075, 129080, 129081, 129083, 129084, 129090, 129097, 129101, 129103, 129104, 129110, 129111, 129112, 129113, 129115, 129118, 129121, 129123, 129134, 129136, 129138, 129140, 129146, 129148, 129151, 129155, 129156, 129158, 129160, 129161, 129166, 129168, 129173, 129176, 129177, 129182, 129184, 129188, 129190, 129192, 129195, 129197, 129199, 129203, 129220, 129222, 129224, 129225, 129228, 129229, 129230, 129232, 129237, 129246, 129247, 129249, 129255, 129258, 129262, 129268, 129272, 129273, 129274, 129284, 129290, 129296, 129301, 129302, 129305, 129310, 129316, 129320, 129326, 129327, 129329, 129336, 129337, 129339, 129347, 129349, 129350, 129356, 129359, 129363, 129365, 129366, 129369, 129372, 129373, 129374, 129376, 129379, 129383, 129385, 129386, 129388, 129390, 129391, 129398, 129399, 129404, 129408, 129411, 129414, 129418, 129427, 129433, 129434, 129441, 129442, 129444, 129448, 129449, 129450, 129454, 129455, 129456, 129457, 129467, 129481, 129486, 129488, 129492, 129501, 129504, 129507, 129514, 129515, 129517, 129518, 129521, 129522, 129524, 129530, 129534, 129540, 129541, 129545, 129552, 129553, 129556, 129559, 129560, 129564, 129566, 129567, 129570, 129572, 129573, 129580, 129584, 129591, 129596, 129597, 129598, 129608, 129610, 129614, 129616, 129617, 129618, 129622, 129625, 129627, 129628, 129629, 129631, 129633, 129634, 129635, 129640, 129646, 129647, 129650, 129652, 129657, 129660, 129661, 129671, 129674, 129676, 129680, 129683, 129685, 129686, 129688, 129693, 129694, 129695, 129699, 129705, 129706, 129707, 129710, 129712, 129714, 129715, 129717, 129718, 129722, 129723, 129731, 129732, 129733, 129740, 129745, 129752, 129755, 129756, 129757, 129759, 129761, 129765, 129773, 129778, 129783, 129789, 129790, 129793, 129794, 129800, 129803, 129809, 129811, 129812, 129814, 129817, 129820, 129821, 129822, 129824, 129827, 129830, 129834, 129840, 129841, 129842, 129846, 129847, 129848, 129854, 129859, 129862, 129863, 129868, 129869, 129875, 129876, 129883, 129885, 129886, 129891, 129893, 129897, 129899, 129900, 129915, 129917, 129918, 129924, 129926, 129929, 129931, 129932, 129940, 129941, 129943, 129946, 129954, 129956, 129958, 129959, 129960, 129961, 129964, 129965, 129971, 129972, 129974, 129976, 129977, 129979, 129981, 129984, 129988, 129989, 129992, 129993, 129995, 129998, 130000, 130010, 130011, 130012, 130015, 130016, 130017, 130019, 130022, 130024, 130027, 130031, 130032, 130037, 130039, 130043, 130046, 130051, 130053, 130057, 130058, 130059, 130061, 130064, 130066, 130068, 130070, 130077, 130079, 130080, 130083, 130085, 130086, 130092, 130094, 130095, 130097, 130099, 130100, 130107, 130108, 130120, 130121, 130123, 130125, 130128, 130130, 130135, 130137, 130138, 130139, 130140, 130151, 130158, 130160, 130162, 130168, 130170, 130171, 130175, 130176, 130186, 130190, 130191, 130192, 130197, 130199, 130202, 130203, 130204, 130211, 130213, 130217, 130218, 130219, 130221, 130231, 130232, 130233, 130235, 130239, 130242, 130245, 130248, 130256, 130259, 130261, 130266, 130268, 130269, 130275, 130280, 130284, 130291, 130293, 130296, 130303, 130305, 130306, 130312, 130317, 130318, 130319, 130323, 130328, 130331, 130335, 130341, 130345, 130349, 130352, 130354, 130358, 130364, 130366, 130371, 130372, 130375, 130378, 130381, 130383, 130386, 130388, 130392, 130397, 130399, 130400, 130403, 130404, 130412, 130414, 130415, 130422, 130426, 130428, 130435, 130436, 130441, 130444, 130448, 130449, 130450, 130459, 130460, 130467, 130469, 130470, 130473, 130479, 130482, 130484, 130487, 130488, 130491, 130501, 130502, 130503, 130514, 130524, 130531, 130532, 130534, 130536, 130539, 130540, 130542, 130546, 130547, 130549, 130550, 130555, 130563, 130565, 130570, 130571, 130573, 130575, 130578, 130579, 130581, 130583, 130586, 130587, 130594, 130596, 130597, 130603, 130609, 130611, 130612, 130619, 130622, 130629, 130630, 130633, 130634, 130638, 130641, 130642, 130644, 130648, 130655, 130658, 130659, 130661, 130662, 130665, 130667, 130671, 130672, 130674, 130679, 130687, 130690, 130692, 130693, 130699, 130705, 130708, 130710, 130717, 130721, 130722, 130724, 130727, 130734, 130737, 130738, 130741, 130743, 130746, 130757, 130764, 130765, 130766, 130803, 130807, 130808, 130809, 130811, 130815, 130818, 130819, 130829, 130835, 130836, 130837, 130844, 130845, 130846, 130849, 130850, 130852, 130866, 130869, 130871, 130872, 130873, 130874, 130875, 130877, 130878, 130879, 130888, 130889, 130893, 130897, 130901, 130902, 130904, 130905, 130906, 130909, 130910, 130913, 130914, 130916, 130917, 130922, 130924, 130925, 130931, 130933, 130939, 130940, 130946, 130947, 130948, 130954, 130956, 130965, 130966, 130968, 130971, 130978, 130980, 130981, 130982, 130984, 130987, 130988, 130990, 130993, 131001, 131005, 131010, 131027, 131029, 131032, 131040, 131041, 131044, 131046, 131047, 131054, 131055, 131056, 131059, 131064}\n"
          ],
          "name": "stdout"
        }
      ]
    },
    {
      "cell_type": "code",
      "metadata": {
        "id": "8nsJQYvxxMgP",
        "colab": {
          "base_uri": "https://localhost:8080/",
          "height": 111
        },
        "outputId": "8fa4a849-5f0d-4217-877d-2680485cb9b2"
      },
      "source": [
        "learn.unfreeze(1)\n",
        "r = 1e-1\n",
        "learn.fit_one_cycle(2, lr)"
      ],
      "execution_count": null,
      "outputs": [
        {
          "output_type": "display_data",
          "data": {
            "text/html": [
              "<table border=\"1\" class=\"dataframe\">\n",
              "  <thead>\n",
              "    <tr style=\"text-align: left;\">\n",
              "      <th>epoch</th>\n",
              "      <th>train_loss</th>\n",
              "      <th>valid_loss</th>\n",
              "      <th>accuracy</th>\n",
              "      <th>time</th>\n",
              "    </tr>\n",
              "  </thead>\n",
              "  <tbody>\n",
              "    <tr>\n",
              "      <td>0</td>\n",
              "      <td>1.709205</td>\n",
              "      <td>2.955726</td>\n",
              "      <td>0.283485</td>\n",
              "      <td>02:22</td>\n",
              "    </tr>\n",
              "    <tr>\n",
              "      <td>1</td>\n",
              "      <td>1.497408</td>\n",
              "      <td>1.729000</td>\n",
              "      <td>0.427221</td>\n",
              "      <td>02:21</td>\n",
              "    </tr>\n",
              "  </tbody>\n",
              "</table>"
            ],
            "text/plain": [
              "<IPython.core.display.HTML object>"
            ]
          },
          "metadata": {
            "tags": []
          }
        }
      ]
    },
    {
      "cell_type": "code",
      "metadata": {
        "id": "5U0YIXs8xE-g",
        "colab": {
          "base_uri": "https://localhost:8080/",
          "height": 282
        },
        "outputId": "7dc4cee7-822a-414f-d236-824b382ed3f4"
      },
      "source": [
        "learn.recorder.plot()"
      ],
      "execution_count": null,
      "outputs": [
        {
          "output_type": "display_data",
          "data": {
            "image/png": "[encoded data removed]",
            "text/plain": [
              "<Figure size 432x288 with 1 Axes>"
            ]
          },
          "metadata": {
            "tags": []
          }
        }
      ]
    },
    {
      "cell_type": "code",
      "metadata": {
        "id": "BaNuFI7BxSzX",
        "colab": {
          "base_uri": "https://localhost:8080/",
          "height": 285
        },
        "outputId": "b47b0c0d-b7db-47b6-acdc-15a84fc21b7d"
      },
      "source": [
        "learn.recorder.plot_losses()"
      ],
      "execution_count": null,
      "outputs": [
        {
          "output_type": "display_data",
          "data": {
            "image/png": "[encoded data removed]",
            "text/plain": [
              "<Figure size 432x288 with 1 Axes>"
            ]
          },
          "metadata": {
            "tags": []
          }
        }
      ]
    },
    {
      "cell_type": "code",
      "metadata": {
        "id": "konc9qH7xV6S",
        "colab": {
          "base_uri": "https://localhost:8080/",
          "height": 34
        },
        "outputId": "c598dfb3-4f5e-42ea-80e8-f5a040447198"
      },
      "source": [
        "test_preds, targets = learn.get_preds(ds_type=DatasetType.Test)\n",
        "predictions = np.argmax(test_preds, axis = 1) \n",
        "predictions"
      ],
      "execution_count": null,
      "outputs": [
        {
          "output_type": "display_data",
          "data": {
            "text/html": [
              ""
            ],
            "text/plain": [
              "<IPython.core.display.HTML object>"
            ]
          },
          "metadata": {
            "tags": []
          }
        },
        {
          "output_type": "execute_result",
          "data": {
            "text/plain": [
              "tensor([0, 5, 2,  ..., 1, 1, 5])"
            ]
          },
          "metadata": {
            "tags": []
          },
          "execution_count": 152
        }
      ]
    },
    {
      "cell_type": "code",
      "metadata": {
        "id": "HvyOT9qzC5b8"
      },
      "source": [
        "# save"
      ],
      "execution_count": null,
      "outputs": []
    },
    {
      "cell_type": "code",
      "metadata": {
        "id": "pSwsr2pexXDa"
      },
      "source": [
        "results = pd.DataFrame(data=predictions, columns=[\"Stay\"])\n",
        "results['Stay'] = results['Stay'].map({0:'0-10',\n",
        "                                    1:'11-20',\n",
        "                                    2:'21-30',                                     \n",
        "                                    3:'31-40',\n",
        "                                    4:'41-50',\n",
        "                                    5:'51-60',\n",
        "                                    6:'61-70',\n",
        "                                    7:'71-80',\n",
        "                                    8:'81-90',\n",
        "                                    9:'91-100',\n",
        "                                    10:'More than 100 Days'\n",
        "                                     })"
      ],
      "execution_count": null,
      "outputs": []
    },
    {
      "cell_type": "code",
      "metadata": {
        "id": "8FAswXmIxkcB"
      },
      "source": [
        "sample_sub['Stay'] = results['Stay']\n",
        "sample_sub.to_csv(path+'/sample_submission_Aug_29th-fastai-2.csv',index=False)"
      ],
      "execution_count": null,
      "outputs": []
    },
    {
      "cell_type": "code",
      "metadata": {
        "id": "QYsqF5DJLNJ8"
      },
      "source": [
        "#Ensembles Code"
      ],
      "execution_count": null,
      "outputs": []
    },
    {
      "cell_type": "code",
      "metadata": {
        "id": "B-1ytXxPLNT8"
      },
      "source": [
        "X_train_level2 = pd.DataFrame()\n",
        "X_train_level2['lgb']= ooflgb\n",
        "X_train_level2['xgb'] = oof_xgb\n",
        "\n",
        "y_train_level2 = train[\"Stay\"]"
      ],
      "execution_count": null,
      "outputs": []
    },
    {
      "cell_type": "code",
      "metadata": {
        "id": "YtfG5IBlLNai"
      },
      "source": [
        "from sklearn.metrics import r2_score\n",
        "alphas_to_try = np.linspace(0, 1, 1001)\n",
        "\n",
        "best_alpha = -1\n",
        "r2_train_simple_mix = -1\n",
        "\n",
        "for current_alpha in alphas_to_try:\n",
        "    mix = current_alpha * X_train_level2['lgb'] + (1 - current_alpha) * X_train_level2['xgb']\n",
        "    current_r2 = r2_score(y_train_level2, mix)\n",
        "    \n",
        "    if(current_r2 > r2_train_simple_mix):\n",
        "        r2_train_simple_mix = current_r2\n",
        "        best_alpha = current_alpha\n",
        "\n",
        "print('Best alpha: %f; Corresponding r2 score on train: %f' % (best_alpha, r2_train_simple_mix))"
      ],
      "execution_count": null,
      "outputs": []
    },
    {
      "cell_type": "code",
      "metadata": {
        "id": "kCo9PYOCMcjD"
      },
      "source": [
        "s1 = pd.DataFrame({\"Stay\":predictionslgb}) # LGB\n",
        "s2 = pd.DataFrame({\"Stay\":predictionsxgb}) # XGB\n",
        "s3 = pd.DataFrame({\"Stay\":predictions}) # fast ai\n",
        "s3 = pd.DataFrame({\"Stay\":final_predictions}) # meta model (DT + RF + XGB + LGB)\n",
        "\n",
        "sfin = pd.DataFrame()"
      ],
      "execution_count": null,
      "outputs": []
    },
    {
      "cell_type": "code",
      "metadata": {
        "id": "C_dXCkdfLaGj"
      },
      "source": [
        "s3 = pd.DataFrame()\n",
        "\n",
        "lsize = test.shape[0]\n",
        "\n",
        "sfin[\"Stay\"] = 0.95 * (s1[\"Stay\"].rank()/lsize) + 0.05 * (s2[\"Stay\"].rank()/lsize)\n",
        "#s3[\"is_click\"] =  0.9 * (X_train_level2['lgb'].rank()/test_shape0) + 0.1* (X_train_level2['xgb'].rank()/test_shape0)\n"
      ],
      "execution_count": null,
      "outputs": []
    },
    {
      "cell_type": "code",
      "metadata": {
        "id": "QjnBJsh8MU7F"
      },
      "source": [
        "results = s3"
      ],
      "execution_count": null,
      "outputs": []
    },
    {
      "cell_type": "code",
      "metadata": {
        "id": "wVgTCyU2MoHa"
      },
      "source": [
        "results['Stay'] = results['Stay'].map({0:'0-10',\n",
        "                                    1:'11-20',\n",
        "                                    2:'21-30',                                     \n",
        "                                    3:'31-40',\n",
        "                                    4:'41-50',\n",
        "                                    5:'51-60',\n",
        "                                    6:'61-70',\n",
        "                                    7:'71-80',\n",
        "                                    8:'81-90',\n",
        "                                    9:'91-100',\n",
        "                                    10:'More than 100 Days'\n",
        "                                     })"
      ],
      "execution_count": null,
      "outputs": []
    },
    {
      "cell_type": "code",
      "metadata": {
        "id": "PyXhaYcgMoHj"
      },
      "source": [
        "sample_sub['Stay'] = results['Stay']\n",
        "sample_sub.to_csv(path+'/sample_submission_Aug_29th-Ensemble.csv',index=False)"
      ],
      "execution_count": null,
      "outputs": []
    },
    {
      "cell_type": "code",
      "metadata": {
        "id": "x5RlZvDRMq8q"
      },
      "source": [
        "#finish"
      ],
      "execution_count": null,
      "outputs": []
    },
    {
      "cell_type": "code",
      "metadata": {
        "id": "iVCm8-7TLasa"
      },
      "source": [
        "#ensemble by percent\n",
        "# s6 = pd.DataFrame({\"id\":test_df[\"id\"].values})\n",
        "# test_shape0 = s6.shape[0]\n",
        "\n",
        "# s4 = pd.read_csv(\"sub_ens2.csv\")\n",
        "# s5 = pd.read_csv(\"sub_ens_new.csv\")\n",
        "\n",
        "# s6[\"is_click\"] = ((s5[\"is_click\"].rank()/test_shape0) + (s5[\"is_click\"].rank()/test_shape0))/2\n",
        "# s6.to_csv(\"sub_ens3.csv\", index=False)"
      ],
      "execution_count": null,
      "outputs": []
    },
    {
      "cell_type": "code",
      "metadata": {
        "id": "4nb49agXODf9"
      },
      "source": [
        "# Fetaure Engineering"
      ],
      "execution_count": null,
      "outputs": []
    },
    {
      "cell_type": "code",
      "metadata": {
        "id": "j_b_ZN_3OPQz"
      },
      "source": [
        "#29th Aug + Blent - DT + LGB + RF or some combination"
      ],
      "execution_count": null,
      "outputs": []
    }
  ]
}