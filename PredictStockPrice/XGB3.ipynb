{
  "nbformat": 4,
  "nbformat_minor": 0,
  "metadata": {
    "colab": {
      "name": "XGB3.ipynb",
      "provenance": [],
      "collapsed_sections": []
    },
    "kernelspec": {
      "name": "python3",
      "display_name": "Python 3"
    }
  },
  "cells": [
    {
      "cell_type": "code",
      "metadata": {
        "id": "WmZSWyiRBSYg"
      },
      "source": [
        "from google.colab import files\n",
        "#files.upload()"
      ],
      "execution_count": null,
      "outputs": []
    },
    {
      "cell_type": "code",
      "metadata": {
        "id": "SE_Xfk-BBb_M",
        "colab": {
          "base_uri": "https://localhost:8080/"
        },
        "outputId": "f64f5771-949c-4755-e618-e3989ce2738c"
      },
      "source": [
        "import numpy as np\n",
        "import pandas as pd\n",
        "import matplotlib.pyplot as plt\n",
        "%matplotlib inline\n",
        "plt.style.use('seaborn-whitegrid')\n",
        "\n",
        "import seaborn as sns\n",
        "from sklearn.model_selection import train_test_split, StratifiedKFold\n",
        "from sklearn.metrics import accuracy_score, f1_score\n",
        "\n",
        "from sklearn.tree import DecisionTreeClassifier\n",
        "from sklearn.linear_model import LogisticRegression\n",
        "\n",
        "from lightgbm import LGBMClassifier\n",
        "\n",
        "from IPython.core.interactiveshell import InteractiveShell\n",
        "InteractiveShell.ast_node_interactivity = \"all\"\n",
        "\n",
        "pd.set_option('display.max_colwidth', -1)\n",
        "\n",
        "import warnings\n",
        "warnings.simplefilter('ignore')"
      ],
      "execution_count": null,
      "outputs": [
        {
          "output_type": "stream",
          "text": [
            "/usr/local/lib/python3.6/dist-packages/ipykernel_launcher.py:19: FutureWarning: Passing a negative integer is deprecated in version 1.0 and will not be supported in future version. Instead, use None to not limit the column width.\n"
          ],
          "name": "stderr"
        }
      ]
    },
    {
      "cell_type": "code",
      "metadata": {
        "id": "x8tPX6nwBfF1",
        "colab": {
          "base_uri": "https://localhost:8080/"
        },
        "outputId": "d478b0aa-cfdb-409b-e993-79bb777fe5ff"
      },
      "source": [
        "from google.colab import drive\n",
        "drive.mount('/content/drive')"
      ],
      "execution_count": null,
      "outputs": [
        {
          "output_type": "stream",
          "text": [
            "Mounted at /content/drive\n"
          ],
          "name": "stdout"
        }
      ]
    },
    {
      "cell_type": "code",
      "metadata": {
        "id": "1VQhxpqfBfrf",
        "colab": {
          "base_uri": "https://localhost:8080/"
        },
        "outputId": "b2a701f8-3c5d-4934-b6ba-25c9658aa7ef"
      },
      "source": [
        "path = \"drive/My Drive/Colab Notebooks/Tabular/StockPricePrediction/inputs/\"\n",
        "!ls \"drive/My Drive/Colab Notebooks/Tabular/StockPricePrediction/inputs/\""
      ],
      "execution_count": null,
      "outputs": [
        {
          "output_type": "stream",
          "text": [
            "SampleSubmission.csv  Test.csv\tTrain.csv\n"
          ],
          "name": "stdout"
        }
      ]
    },
    {
      "cell_type": "code",
      "metadata": {
        "id": "AQ89C_TLBngy"
      },
      "source": [
        "ss = pd.read_csv(path+'SampleSubmission.csv')\n",
        "train = pd.read_csv(path+'Train.csv')\n",
        "test = pd.read_csv(path+'Test.csv')"
      ],
      "execution_count": null,
      "outputs": []
    },
    {
      "cell_type": "code",
      "metadata": {
        "id": "JkWbKI1vBxrL",
        "colab": {
          "base_uri": "https://localhost:8080/"
        },
        "outputId": "4fe279ac-9cf1-44e1-d190-864525af58f3"
      },
      "source": [
        "ID_COL, TARGET_COL = 'id', 'Close'\n",
        "print(f'\\nTrain contains {train.shape[0]} samples and {train.shape[1]} variables')\n",
        "print(f'\\nTest contains {test.shape[0]} samples and {test.shape[1]} variables')\n",
        "\n",
        "features = [c for c in train.columns if c not in [ID_COL, TARGET_COL]]\n",
        "print(f'\\nThe dataset contains {len(features)} features')"
      ],
      "execution_count": null,
      "outputs": [
        {
          "output_type": "stream",
          "text": [
            "\n",
            "Train contains 73439 samples and 9 variables\n",
            "\n",
            "Test contains 4223 samples and 5 variables\n",
            "\n",
            "The dataset contains 8 features\n"
          ],
          "name": "stdout"
        }
      ]
    },
    {
      "cell_type": "code",
      "metadata": {
        "id": "yFotDsSAB2G_"
      },
      "source": [
        "def download_preds(preds_test, file_name = 'hacklive_sub.csv'):\n",
        "\n",
        "  ## 1. Setting the target column with our obtained predictions\n",
        "  ss[TARGET_COL] = preds_test\n",
        "\n",
        "  ## 2. Saving our predictions to a csv file\n",
        "\n",
        "  ss.to_csv(file_name, index = False)\n",
        "\n",
        "  ## 3. Downloading and submitting the csv file\n",
        "  from google.colab import files\n",
        "  files.download(file_name)"
      ],
      "execution_count": null,
      "outputs": []
    },
    {
      "cell_type": "code",
      "metadata": {
        "id": "7lxFKlstZ78D"
      },
      "source": [
        "traintmp = train.copy()\n",
        "testtmp = test.copy()"
      ],
      "execution_count": null,
      "outputs": []
    },
    {
      "cell_type": "code",
      "metadata": {
        "colab": {
          "base_uri": "https://localhost:8080/"
        },
        "id": "Q1LRht3bXjex",
        "outputId": "09f759da-b5bc-4c05-cec0-572ccabcc499"
      },
      "source": [
        "traintmp[\"day_diffhl\"] = traintmp[\"High\"] - traintmp[\"Low\"]\n",
        "traintmp[\"day_diff\"] = traintmp[\"Close\"] - traintmp[\"Open\"]\n",
        "\n",
        "traintmp[\"Previous_day\"] = traintmp.groupby('stock')['Close'].shift(1)\n",
        "traintmp[\"Previous_week\"] = traintmp.groupby('stock')['Close'].shift(5)\n",
        "traintmp[\"Previous_month\"] = traintmp.groupby('stock')['Close'].shift(30)\n",
        "\n",
        "for i in [14,30,60]:\n",
        "    print('Rolling period:', i)\n",
        "    traintmp['rolling_mean_'+str(i)] = traintmp.groupby(['stock'])['Close'].transform(lambda x: x.shift(1).rolling(i).mean())\n",
        "    traintmp['rolling_std_'+str(i)]  = traintmp.groupby(['stock'])['Close'].transform(lambda x: x.shift(1).rolling(i).std())"
      ],
      "execution_count": null,
      "outputs": [
        {
          "output_type": "stream",
          "text": [
            "Rolling period: 14\n",
            "Rolling period: 30\n",
            "Rolling period: 60\n"
          ],
          "name": "stdout"
        }
      ]
    },
    {
      "cell_type": "code",
      "metadata": {
        "id": "wuVEcy5DXjid"
      },
      "source": [
        "# Aggregate\n",
        "grouped_df = traintmp.groupby(['stock'])['rolling_mean_60'].agg([\"mean\"]).reset_index()\n",
        "grouped_df.columns = ['stock','stock_mean_rolling_std_60']\n",
        "traintmp = pd.merge(traintmp, grouped_df, how=\"left\", on=['stock'])\n",
        "testtmp = pd.merge(testtmp, grouped_df, how=\"left\", on=['stock'])\n",
        "\n",
        "grouped_df = traintmp.groupby(['stock'])['rolling_mean_30'].agg([\"mean\"]).reset_index()\n",
        "grouped_df.columns = ['stock','stock_mean_rolling_std_30']\n",
        "traintmp = pd.merge(traintmp, grouped_df, how=\"left\", on=['stock'])\n",
        "testtmp = pd.merge(testtmp, grouped_df, how=\"left\", on=['stock'])\n",
        "\n",
        "grouped_df = traintmp.groupby(['stock'])['rolling_mean_14'].agg([\"mean\"]).reset_index()\n",
        "grouped_df.columns = ['stock','stock_mean_rolling_std_14']\n",
        "traintmp = pd.merge(traintmp, grouped_df, how=\"left\", on=['stock'])\n",
        "testtmp = pd.merge(testtmp, grouped_df, how=\"left\", on=['stock'])\n",
        "\n",
        "grouped_df = traintmp.groupby(['stock'])['Previous_day'].agg([\"std\",\"mean\",\"skew\"]).reset_index()\n",
        "grouped_df.columns = ['stock','stock_std_pd','stock_mean_pd','stock_skew_pd']\n",
        "traintmp = pd.merge(traintmp, grouped_df, how=\"left\", on=['stock'])\n",
        "testtmp = pd.merge(testtmp, grouped_df, how=\"left\", on=['stock'])\n",
        "\n",
        "grouped_df = traintmp.groupby(['stock'])['Previous_week'].agg([\"std\",\"mean\",\"skew\"]).reset_index()\n",
        "grouped_df.columns = ['stock','stock_std_pw','stock_mean_pw','stock_skew_pw']\n",
        "traintmp = pd.merge(traintmp, grouped_df, how=\"left\", on=['stock'])\n",
        "testtmp = pd.merge(testtmp, grouped_df, how=\"left\", on=['stock'])\n",
        "\n",
        "grouped_df = traintmp.groupby(['stock'])['Previous_month'].agg([\"std\",\"mean\",\"skew\"]).reset_index()\n",
        "grouped_df.columns = ['stock','stock_std_pm','stock_mean_pm','stock_skew_pm']\n",
        "traintmp = pd.merge(traintmp, grouped_df, how=\"left\", on=['stock'])\n",
        "testtmp = pd.merge(testtmp, grouped_df, how=\"left\", on=['stock'])\n",
        "\n",
        "grouped_df = traintmp.groupby(['stock'])['Close'].agg([\"min\",\"max\",\"std\",\"mean\",\"skew\"]).reset_index()\n",
        "grouped_df.columns = ['stock','stock_min','stock_max','stock_std','stock_mean','stock_skew']\n",
        "traintmp = pd.merge(traintmp, grouped_df, how=\"left\", on=['stock'])\n",
        "testtmp = pd.merge(testtmp, grouped_df, how=\"left\", on=['stock'])\n",
        "\n",
        "grouped_df = traintmp.groupby(['stock'])['day_diffhl'].agg([\"min\",\"max\",\"std\",\"mean\",\"skew\"]).reset_index()\n",
        "grouped_df.columns = ['stock','stock_day_diffhl_min','stock_day_diffhl_max','stock_day_diffhl_std','stock_day_diffhl_mean','stock_day_diffhl_skew']\n",
        "traintmp = pd.merge(traintmp, grouped_df, how=\"left\", on=['stock'])\n",
        "testtmp = pd.merge(testtmp, grouped_df, how=\"left\", on=['stock'])\n",
        "\n",
        "grouped_df = traintmp.groupby(['stock'])['day_diff'].agg([\"std\",\"mean\",\"skew\"]).reset_index()\n",
        "grouped_df.columns = ['stock','stock_day_diff_std','stock_day_diff_mean','stock_day_diff_skew']\n",
        "traintmp = pd.merge(traintmp, grouped_df, how=\"left\", on=['stock'])\n",
        "testtmp = pd.merge(testtmp, grouped_df, how=\"left\", on=['stock'])"
      ],
      "execution_count": null,
      "outputs": []
    },
    {
      "cell_type": "code",
      "metadata": {
        "colab": {
          "base_uri": "https://localhost:8080/"
        },
        "id": "WYpm2rMVXjlf",
        "outputId": "9e4492a8-3ee2-4cb7-be2d-017fbc2b3bcf"
      },
      "source": [
        "traintmp.columns"
      ],
      "execution_count": null,
      "outputs": [
        {
          "output_type": "execute_result",
          "data": {
            "text/plain": [
              "Index(['ID', 'stock', 'Date', 'Open', 'High', 'Low', 'Close', 'holiday',\n",
              "       'unpredictability_score', 'day_diffhl', 'day_diff', 'Previous_day',\n",
              "       'Previous_week', 'Previous_month', 'rolling_mean_14', 'rolling_std_14',\n",
              "       'rolling_mean_30', 'rolling_std_30', 'rolling_mean_60',\n",
              "       'rolling_std_60', 'stock_mean_rolling_std_60',\n",
              "       'stock_mean_rolling_std_30', 'stock_mean_rolling_std_14',\n",
              "       'stock_std_pd', 'stock_mean_pd', 'stock_skew_pd', 'stock_std_pw',\n",
              "       'stock_mean_pw', 'stock_skew_pw', 'stock_std_pm', 'stock_mean_pm',\n",
              "       'stock_skew_pm', 'stock_min', 'stock_max', 'stock_std', 'stock_mean',\n",
              "       'stock_skew', 'stock_day_diffhl_min', 'stock_day_diffhl_max',\n",
              "       'stock_day_diffhl_std', 'stock_day_diffhl_mean',\n",
              "       'stock_day_diffhl_skew', 'stock_day_diff_std', 'stock_day_diff_mean',\n",
              "       'stock_day_diff_skew'],\n",
              "      dtype='object')"
            ]
          },
          "metadata": {
            "tags": []
          },
          "execution_count": 11
        }
      ]
    },
    {
      "cell_type": "code",
      "metadata": {
        "id": "htDyYTjkXjpd"
      },
      "source": [
        "newcols = ['stock_std_pd', 'stock_mean_pd', 'stock_skew_pd', 'stock_std_pw',\n",
        "       'stock_mean_pw', 'stock_skew_pw', 'stock_std_pm', 'stock_mean_pm',\n",
        "       'stock_skew_pm', 'stock_min', 'stock_max', 'stock_std', 'stock_mean',\n",
        "       'stock_skew', 'stock_day_diffhl_min', 'stock_day_diffhl_max',\n",
        "       'stock_day_diffhl_std', 'stock_day_diffhl_mean',\n",
        "       'stock_day_diffhl_skew', 'stock_day_diff_std', 'stock_day_diff_mean',\n",
        "       'stock_day_diff_skew']\n",
        "datevars = ['Is_quarter_end', 'Is_month_end', 'Is_year_start', 'Dayofweek', 'Is_quarter_start', \n",
        "            'Is_month_start', 'Month', 'Day', 'Year', 'Week', 'Is_year_end']\n",
        "cat_vars=['stock','holiday','unpredictability_score']\n",
        "features = cat_vars + newcols"
      ],
      "execution_count": null,
      "outputs": []
    },
    {
      "cell_type": "code",
      "metadata": {
        "id": "F56pvBbQYf-L"
      },
      "source": [
        "train = traintmp[features + ['Date','Close']]\n",
        "test = testtmp[features + ['Date']]"
      ],
      "execution_count": null,
      "outputs": []
    },
    {
      "cell_type": "code",
      "metadata": {
        "id": "PfSoGR1hEzpe"
      },
      "source": [
        "df = pd.concat([train, test], axis=0).reset_index(drop = True)"
      ],
      "execution_count": null,
      "outputs": []
    },
    {
      "cell_type": "code",
      "metadata": {
        "id": "TQthSId2DXe0"
      },
      "source": [
        "import matplotlib.pyplot as plt\n",
        "import PIL\n",
        "import json\n",
        "from fastai import *\n",
        "from fastai.tabular import * \n",
        "\n",
        "from datetime import datetime"
      ],
      "execution_count": null,
      "outputs": []
    },
    {
      "cell_type": "code",
      "metadata": {
        "id": "4U_EUm7NDb65",
        "colab": {
          "base_uri": "https://localhost:8080/",
          "height": 600
        },
        "outputId": "44be76c9-869f-4c99-9ce6-8e24847c5aea"
      },
      "source": [
        "add_datepart(df, \"Date\", drop=False)"
      ],
      "execution_count": null,
      "outputs": [
        {
          "output_type": "execute_result",
          "data": {
            "text/html": [
              "<div>\n",
              "<style scoped>\n",
              "    .dataframe tbody tr th:only-of-type {\n",
              "        vertical-align: middle;\n",
              "    }\n",
              "\n",
              "    .dataframe tbody tr th {\n",
              "        vertical-align: top;\n",
              "    }\n",
              "\n",
              "    .dataframe thead th {\n",
              "        text-align: right;\n",
              "    }\n",
              "</style>\n",
              "<table border=\"1\" class=\"dataframe\">\n",
              "  <thead>\n",
              "    <tr style=\"text-align: right;\">\n",
              "      <th></th>\n",
              "      <th>stock</th>\n",
              "      <th>holiday</th>\n",
              "      <th>unpredictability_score</th>\n",
              "      <th>stock_std_pd</th>\n",
              "      <th>stock_mean_pd</th>\n",
              "      <th>stock_skew_pd</th>\n",
              "      <th>stock_std_pw</th>\n",
              "      <th>stock_mean_pw</th>\n",
              "      <th>stock_skew_pw</th>\n",
              "      <th>stock_std_pm</th>\n",
              "      <th>stock_mean_pm</th>\n",
              "      <th>stock_skew_pm</th>\n",
              "      <th>stock_min</th>\n",
              "      <th>stock_max</th>\n",
              "      <th>stock_std</th>\n",
              "      <th>stock_mean</th>\n",
              "      <th>stock_skew</th>\n",
              "      <th>stock_day_diffhl_min</th>\n",
              "      <th>stock_day_diffhl_max</th>\n",
              "      <th>stock_day_diffhl_std</th>\n",
              "      <th>stock_day_diffhl_mean</th>\n",
              "      <th>stock_day_diffhl_skew</th>\n",
              "      <th>stock_day_diff_std</th>\n",
              "      <th>stock_day_diff_mean</th>\n",
              "      <th>stock_day_diff_skew</th>\n",
              "      <th>Date</th>\n",
              "      <th>Close</th>\n",
              "      <th>Year</th>\n",
              "      <th>Month</th>\n",
              "      <th>Week</th>\n",
              "      <th>Day</th>\n",
              "      <th>Dayofweek</th>\n",
              "      <th>Dayofyear</th>\n",
              "      <th>Is_month_end</th>\n",
              "      <th>Is_month_start</th>\n",
              "      <th>Is_quarter_end</th>\n",
              "      <th>Is_quarter_start</th>\n",
              "      <th>Is_year_end</th>\n",
              "      <th>Is_year_start</th>\n",
              "      <th>Elapsed</th>\n",
              "    </tr>\n",
              "  </thead>\n",
              "  <tbody>\n",
              "    <tr>\n",
              "      <th>0</th>\n",
              "      <td>0</td>\n",
              "      <td>1</td>\n",
              "      <td>7</td>\n",
              "      <td>9.672890</td>\n",
              "      <td>95.914417</td>\n",
              "      <td>0.871011</td>\n",
              "      <td>9.562537</td>\n",
              "      <td>95.792450</td>\n",
              "      <td>0.879694</td>\n",
              "      <td>8.748125</td>\n",
              "      <td>94.991033</td>\n",
              "      <td>0.886438</td>\n",
              "      <td>78.7790</td>\n",
              "      <td>120.7250</td>\n",
              "      <td>9.701546</td>\n",
              "      <td>95.945449</td>\n",
              "      <td>0.869184</td>\n",
              "      <td>-0.7096</td>\n",
              "      <td>3.5369</td>\n",
              "      <td>0.622068</td>\n",
              "      <td>0.229498</td>\n",
              "      <td>1.798620</td>\n",
              "      <td>0.813480</td>\n",
              "      <td>0.059232</td>\n",
              "      <td>-0.529209</td>\n",
              "      <td>2017-01-03</td>\n",
              "      <td>82.8101</td>\n",
              "      <td>2017</td>\n",
              "      <td>1</td>\n",
              "      <td>1</td>\n",
              "      <td>3</td>\n",
              "      <td>1</td>\n",
              "      <td>3</td>\n",
              "      <td>False</td>\n",
              "      <td>False</td>\n",
              "      <td>False</td>\n",
              "      <td>False</td>\n",
              "      <td>False</td>\n",
              "      <td>False</td>\n",
              "      <td>1483401600</td>\n",
              "    </tr>\n",
              "    <tr>\n",
              "      <th>1</th>\n",
              "      <td>0</td>\n",
              "      <td>0</td>\n",
              "      <td>7</td>\n",
              "      <td>9.672890</td>\n",
              "      <td>95.914417</td>\n",
              "      <td>0.871011</td>\n",
              "      <td>9.562537</td>\n",
              "      <td>95.792450</td>\n",
              "      <td>0.879694</td>\n",
              "      <td>8.748125</td>\n",
              "      <td>94.991033</td>\n",
              "      <td>0.886438</td>\n",
              "      <td>78.7790</td>\n",
              "      <td>120.7250</td>\n",
              "      <td>9.701546</td>\n",
              "      <td>95.945449</td>\n",
              "      <td>0.869184</td>\n",
              "      <td>-0.7096</td>\n",
              "      <td>3.5369</td>\n",
              "      <td>0.622068</td>\n",
              "      <td>0.229498</td>\n",
              "      <td>1.798620</td>\n",
              "      <td>0.813480</td>\n",
              "      <td>0.059232</td>\n",
              "      <td>-0.529209</td>\n",
              "      <td>2017-01-04</td>\n",
              "      <td>82.9690</td>\n",
              "      <td>2017</td>\n",
              "      <td>1</td>\n",
              "      <td>1</td>\n",
              "      <td>4</td>\n",
              "      <td>2</td>\n",
              "      <td>4</td>\n",
              "      <td>False</td>\n",
              "      <td>False</td>\n",
              "      <td>False</td>\n",
              "      <td>False</td>\n",
              "      <td>False</td>\n",
              "      <td>False</td>\n",
              "      <td>1483488000</td>\n",
              "    </tr>\n",
              "    <tr>\n",
              "      <th>2</th>\n",
              "      <td>0</td>\n",
              "      <td>0</td>\n",
              "      <td>7</td>\n",
              "      <td>9.672890</td>\n",
              "      <td>95.914417</td>\n",
              "      <td>0.871011</td>\n",
              "      <td>9.562537</td>\n",
              "      <td>95.792450</td>\n",
              "      <td>0.879694</td>\n",
              "      <td>8.748125</td>\n",
              "      <td>94.991033</td>\n",
              "      <td>0.886438</td>\n",
              "      <td>78.7790</td>\n",
              "      <td>120.7250</td>\n",
              "      <td>9.701546</td>\n",
              "      <td>95.945449</td>\n",
              "      <td>0.869184</td>\n",
              "      <td>-0.7096</td>\n",
              "      <td>3.5369</td>\n",
              "      <td>0.622068</td>\n",
              "      <td>0.229498</td>\n",
              "      <td>1.798620</td>\n",
              "      <td>0.813480</td>\n",
              "      <td>0.059232</td>\n",
              "      <td>-0.529209</td>\n",
              "      <td>2017-01-05</td>\n",
              "      <td>82.8578</td>\n",
              "      <td>2017</td>\n",
              "      <td>1</td>\n",
              "      <td>1</td>\n",
              "      <td>5</td>\n",
              "      <td>3</td>\n",
              "      <td>5</td>\n",
              "      <td>False</td>\n",
              "      <td>False</td>\n",
              "      <td>False</td>\n",
              "      <td>False</td>\n",
              "      <td>False</td>\n",
              "      <td>False</td>\n",
              "      <td>1483574400</td>\n",
              "    </tr>\n",
              "    <tr>\n",
              "      <th>3</th>\n",
              "      <td>0</td>\n",
              "      <td>0</td>\n",
              "      <td>7</td>\n",
              "      <td>9.672890</td>\n",
              "      <td>95.914417</td>\n",
              "      <td>0.871011</td>\n",
              "      <td>9.562537</td>\n",
              "      <td>95.792450</td>\n",
              "      <td>0.879694</td>\n",
              "      <td>8.748125</td>\n",
              "      <td>94.991033</td>\n",
              "      <td>0.886438</td>\n",
              "      <td>78.7790</td>\n",
              "      <td>120.7250</td>\n",
              "      <td>9.701546</td>\n",
              "      <td>95.945449</td>\n",
              "      <td>0.869184</td>\n",
              "      <td>-0.7096</td>\n",
              "      <td>3.5369</td>\n",
              "      <td>0.622068</td>\n",
              "      <td>0.229498</td>\n",
              "      <td>1.798620</td>\n",
              "      <td>0.813480</td>\n",
              "      <td>0.059232</td>\n",
              "      <td>-0.529209</td>\n",
              "      <td>2017-01-06</td>\n",
              "      <td>82.7385</td>\n",
              "      <td>2017</td>\n",
              "      <td>1</td>\n",
              "      <td>1</td>\n",
              "      <td>6</td>\n",
              "      <td>4</td>\n",
              "      <td>6</td>\n",
              "      <td>False</td>\n",
              "      <td>False</td>\n",
              "      <td>False</td>\n",
              "      <td>False</td>\n",
              "      <td>False</td>\n",
              "      <td>False</td>\n",
              "      <td>1483660800</td>\n",
              "    </tr>\n",
              "    <tr>\n",
              "      <th>4</th>\n",
              "      <td>0</td>\n",
              "      <td>0</td>\n",
              "      <td>7</td>\n",
              "      <td>9.672890</td>\n",
              "      <td>95.914417</td>\n",
              "      <td>0.871011</td>\n",
              "      <td>9.562537</td>\n",
              "      <td>95.792450</td>\n",
              "      <td>0.879694</td>\n",
              "      <td>8.748125</td>\n",
              "      <td>94.991033</td>\n",
              "      <td>0.886438</td>\n",
              "      <td>78.7790</td>\n",
              "      <td>120.7250</td>\n",
              "      <td>9.701546</td>\n",
              "      <td>95.945449</td>\n",
              "      <td>0.869184</td>\n",
              "      <td>-0.7096</td>\n",
              "      <td>3.5369</td>\n",
              "      <td>0.622068</td>\n",
              "      <td>0.229498</td>\n",
              "      <td>1.798620</td>\n",
              "      <td>0.813480</td>\n",
              "      <td>0.059232</td>\n",
              "      <td>-0.529209</td>\n",
              "      <td>2017-01-09</td>\n",
              "      <td>81.8641</td>\n",
              "      <td>2017</td>\n",
              "      <td>1</td>\n",
              "      <td>2</td>\n",
              "      <td>9</td>\n",
              "      <td>0</td>\n",
              "      <td>9</td>\n",
              "      <td>False</td>\n",
              "      <td>False</td>\n",
              "      <td>False</td>\n",
              "      <td>False</td>\n",
              "      <td>False</td>\n",
              "      <td>False</td>\n",
              "      <td>1483920000</td>\n",
              "    </tr>\n",
              "    <tr>\n",
              "      <th>...</th>\n",
              "      <td>...</td>\n",
              "      <td>...</td>\n",
              "      <td>...</td>\n",
              "      <td>...</td>\n",
              "      <td>...</td>\n",
              "      <td>...</td>\n",
              "      <td>...</td>\n",
              "      <td>...</td>\n",
              "      <td>...</td>\n",
              "      <td>...</td>\n",
              "      <td>...</td>\n",
              "      <td>...</td>\n",
              "      <td>...</td>\n",
              "      <td>...</td>\n",
              "      <td>...</td>\n",
              "      <td>...</td>\n",
              "      <td>...</td>\n",
              "      <td>...</td>\n",
              "      <td>...</td>\n",
              "      <td>...</td>\n",
              "      <td>...</td>\n",
              "      <td>...</td>\n",
              "      <td>...</td>\n",
              "      <td>...</td>\n",
              "      <td>...</td>\n",
              "      <td>...</td>\n",
              "      <td>...</td>\n",
              "      <td>...</td>\n",
              "      <td>...</td>\n",
              "      <td>...</td>\n",
              "      <td>...</td>\n",
              "      <td>...</td>\n",
              "      <td>...</td>\n",
              "      <td>...</td>\n",
              "      <td>...</td>\n",
              "      <td>...</td>\n",
              "      <td>...</td>\n",
              "      <td>...</td>\n",
              "      <td>...</td>\n",
              "      <td>...</td>\n",
              "    </tr>\n",
              "    <tr>\n",
              "      <th>77657</th>\n",
              "      <td>102</td>\n",
              "      <td>0</td>\n",
              "      <td>6</td>\n",
              "      <td>8.011921</td>\n",
              "      <td>132.468919</td>\n",
              "      <td>0.038861</td>\n",
              "      <td>8.034250</td>\n",
              "      <td>132.473676</td>\n",
              "      <td>0.036986</td>\n",
              "      <td>8.130333</td>\n",
              "      <td>132.629856</td>\n",
              "      <td>-0.012336</td>\n",
              "      <td>116.6759</td>\n",
              "      <td>149.0492</td>\n",
              "      <td>8.006555</td>\n",
              "      <td>132.466488</td>\n",
              "      <td>0.039783</td>\n",
              "      <td>-1.6316</td>\n",
              "      <td>5.0247</td>\n",
              "      <td>0.844920</td>\n",
              "      <td>-0.374612</td>\n",
              "      <td>1.615917</td>\n",
              "      <td>0.945031</td>\n",
              "      <td>0.100689</td>\n",
              "      <td>-0.811934</td>\n",
              "      <td>2019-12-24</td>\n",
              "      <td>NaN</td>\n",
              "      <td>2019</td>\n",
              "      <td>12</td>\n",
              "      <td>52</td>\n",
              "      <td>24</td>\n",
              "      <td>1</td>\n",
              "      <td>358</td>\n",
              "      <td>False</td>\n",
              "      <td>False</td>\n",
              "      <td>False</td>\n",
              "      <td>False</td>\n",
              "      <td>False</td>\n",
              "      <td>False</td>\n",
              "      <td>1577145600</td>\n",
              "    </tr>\n",
              "    <tr>\n",
              "      <th>77658</th>\n",
              "      <td>102</td>\n",
              "      <td>1</td>\n",
              "      <td>6</td>\n",
              "      <td>8.011921</td>\n",
              "      <td>132.468919</td>\n",
              "      <td>0.038861</td>\n",
              "      <td>8.034250</td>\n",
              "      <td>132.473676</td>\n",
              "      <td>0.036986</td>\n",
              "      <td>8.130333</td>\n",
              "      <td>132.629856</td>\n",
              "      <td>-0.012336</td>\n",
              "      <td>116.6759</td>\n",
              "      <td>149.0492</td>\n",
              "      <td>8.006555</td>\n",
              "      <td>132.466488</td>\n",
              "      <td>0.039783</td>\n",
              "      <td>-1.6316</td>\n",
              "      <td>5.0247</td>\n",
              "      <td>0.844920</td>\n",
              "      <td>-0.374612</td>\n",
              "      <td>1.615917</td>\n",
              "      <td>0.945031</td>\n",
              "      <td>0.100689</td>\n",
              "      <td>-0.811934</td>\n",
              "      <td>2019-12-26</td>\n",
              "      <td>NaN</td>\n",
              "      <td>2019</td>\n",
              "      <td>12</td>\n",
              "      <td>52</td>\n",
              "      <td>26</td>\n",
              "      <td>3</td>\n",
              "      <td>360</td>\n",
              "      <td>False</td>\n",
              "      <td>False</td>\n",
              "      <td>False</td>\n",
              "      <td>False</td>\n",
              "      <td>False</td>\n",
              "      <td>False</td>\n",
              "      <td>1577318400</td>\n",
              "    </tr>\n",
              "    <tr>\n",
              "      <th>77659</th>\n",
              "      <td>102</td>\n",
              "      <td>0</td>\n",
              "      <td>6</td>\n",
              "      <td>8.011921</td>\n",
              "      <td>132.468919</td>\n",
              "      <td>0.038861</td>\n",
              "      <td>8.034250</td>\n",
              "      <td>132.473676</td>\n",
              "      <td>0.036986</td>\n",
              "      <td>8.130333</td>\n",
              "      <td>132.629856</td>\n",
              "      <td>-0.012336</td>\n",
              "      <td>116.6759</td>\n",
              "      <td>149.0492</td>\n",
              "      <td>8.006555</td>\n",
              "      <td>132.466488</td>\n",
              "      <td>0.039783</td>\n",
              "      <td>-1.6316</td>\n",
              "      <td>5.0247</td>\n",
              "      <td>0.844920</td>\n",
              "      <td>-0.374612</td>\n",
              "      <td>1.615917</td>\n",
              "      <td>0.945031</td>\n",
              "      <td>0.100689</td>\n",
              "      <td>-0.811934</td>\n",
              "      <td>2019-12-27</td>\n",
              "      <td>NaN</td>\n",
              "      <td>2019</td>\n",
              "      <td>12</td>\n",
              "      <td>52</td>\n",
              "      <td>27</td>\n",
              "      <td>4</td>\n",
              "      <td>361</td>\n",
              "      <td>False</td>\n",
              "      <td>False</td>\n",
              "      <td>False</td>\n",
              "      <td>False</td>\n",
              "      <td>False</td>\n",
              "      <td>False</td>\n",
              "      <td>1577404800</td>\n",
              "    </tr>\n",
              "    <tr>\n",
              "      <th>77660</th>\n",
              "      <td>102</td>\n",
              "      <td>0</td>\n",
              "      <td>6</td>\n",
              "      <td>8.011921</td>\n",
              "      <td>132.468919</td>\n",
              "      <td>0.038861</td>\n",
              "      <td>8.034250</td>\n",
              "      <td>132.473676</td>\n",
              "      <td>0.036986</td>\n",
              "      <td>8.130333</td>\n",
              "      <td>132.629856</td>\n",
              "      <td>-0.012336</td>\n",
              "      <td>116.6759</td>\n",
              "      <td>149.0492</td>\n",
              "      <td>8.006555</td>\n",
              "      <td>132.466488</td>\n",
              "      <td>0.039783</td>\n",
              "      <td>-1.6316</td>\n",
              "      <td>5.0247</td>\n",
              "      <td>0.844920</td>\n",
              "      <td>-0.374612</td>\n",
              "      <td>1.615917</td>\n",
              "      <td>0.945031</td>\n",
              "      <td>0.100689</td>\n",
              "      <td>-0.811934</td>\n",
              "      <td>2019-12-30</td>\n",
              "      <td>NaN</td>\n",
              "      <td>2019</td>\n",
              "      <td>12</td>\n",
              "      <td>1</td>\n",
              "      <td>30</td>\n",
              "      <td>0</td>\n",
              "      <td>364</td>\n",
              "      <td>False</td>\n",
              "      <td>False</td>\n",
              "      <td>False</td>\n",
              "      <td>False</td>\n",
              "      <td>False</td>\n",
              "      <td>False</td>\n",
              "      <td>1577664000</td>\n",
              "    </tr>\n",
              "    <tr>\n",
              "      <th>77661</th>\n",
              "      <td>102</td>\n",
              "      <td>0</td>\n",
              "      <td>6</td>\n",
              "      <td>8.011921</td>\n",
              "      <td>132.468919</td>\n",
              "      <td>0.038861</td>\n",
              "      <td>8.034250</td>\n",
              "      <td>132.473676</td>\n",
              "      <td>0.036986</td>\n",
              "      <td>8.130333</td>\n",
              "      <td>132.629856</td>\n",
              "      <td>-0.012336</td>\n",
              "      <td>116.6759</td>\n",
              "      <td>149.0492</td>\n",
              "      <td>8.006555</td>\n",
              "      <td>132.466488</td>\n",
              "      <td>0.039783</td>\n",
              "      <td>-1.6316</td>\n",
              "      <td>5.0247</td>\n",
              "      <td>0.844920</td>\n",
              "      <td>-0.374612</td>\n",
              "      <td>1.615917</td>\n",
              "      <td>0.945031</td>\n",
              "      <td>0.100689</td>\n",
              "      <td>-0.811934</td>\n",
              "      <td>2019-12-31</td>\n",
              "      <td>NaN</td>\n",
              "      <td>2019</td>\n",
              "      <td>12</td>\n",
              "      <td>1</td>\n",
              "      <td>31</td>\n",
              "      <td>1</td>\n",
              "      <td>365</td>\n",
              "      <td>True</td>\n",
              "      <td>False</td>\n",
              "      <td>True</td>\n",
              "      <td>False</td>\n",
              "      <td>True</td>\n",
              "      <td>False</td>\n",
              "      <td>1577750400</td>\n",
              "    </tr>\n",
              "  </tbody>\n",
              "</table>\n",
              "<p>77662 rows × 40 columns</p>\n",
              "</div>"
            ],
            "text/plain": [
              "       stock  holiday  ...  Is_year_start     Elapsed\n",
              "0      0      1        ...  False          1483401600\n",
              "1      0      0        ...  False          1483488000\n",
              "2      0      0        ...  False          1483574400\n",
              "3      0      0        ...  False          1483660800\n",
              "4      0      0        ...  False          1483920000\n",
              "...   ..     ..        ...    ...                 ...\n",
              "77657  102    0        ...  False          1577145600\n",
              "77658  102    1        ...  False          1577318400\n",
              "77659  102    0        ...  False          1577404800\n",
              "77660  102    0        ...  False          1577664000\n",
              "77661  102    0        ...  False          1577750400\n",
              "\n",
              "[77662 rows x 40 columns]"
            ]
          },
          "metadata": {
            "tags": []
          },
          "execution_count": 16
        }
      ]
    },
    {
      "cell_type": "code",
      "metadata": {
        "id": "XLGa4xy5Igqp"
      },
      "source": [
        "train, test = df[:train.shape[0]].reset_index(drop = True), df[train.shape[0]:].reset_index(drop = True)"
      ],
      "execution_count": null,
      "outputs": []
    },
    {
      "cell_type": "code",
      "metadata": {
        "id": "iRKFJ3zdJ24h",
        "colab": {
          "base_uri": "https://localhost:8080/"
        },
        "outputId": "9dd3a163-19d7-4828-a9cc-e37583388cca"
      },
      "source": [
        "null_values_per_variable = 100 * (test.isnull().sum()/test.shape[0]).round(3)#.reset_index()\n",
        "null_values_per_variable.sort_values(ascending=False)"
      ],
      "execution_count": null,
      "outputs": [
        {
          "output_type": "execute_result",
          "data": {
            "text/plain": [
              "Close                     100.0\n",
              "Elapsed                   0.0  \n",
              "stock_day_diffhl_max      0.0  \n",
              "stock_skew                0.0  \n",
              "stock_mean                0.0  \n",
              "stock_std                 0.0  \n",
              "stock_max                 0.0  \n",
              "stock_min                 0.0  \n",
              "stock_skew_pm             0.0  \n",
              "stock_mean_pm             0.0  \n",
              "stock_std_pm              0.0  \n",
              "stock_skew_pw             0.0  \n",
              "stock_mean_pw             0.0  \n",
              "stock_std_pw              0.0  \n",
              "stock_skew_pd             0.0  \n",
              "stock_mean_pd             0.0  \n",
              "stock_std_pd              0.0  \n",
              "unpredictability_score    0.0  \n",
              "holiday                   0.0  \n",
              "stock_day_diffhl_min      0.0  \n",
              "stock_day_diffhl_std      0.0  \n",
              "Is_year_start             0.0  \n",
              "Day                       0.0  \n",
              "Is_year_end               0.0  \n",
              "Is_quarter_start          0.0  \n",
              "Is_quarter_end            0.0  \n",
              "Is_month_start            0.0  \n",
              "Is_month_end              0.0  \n",
              "Dayofyear                 0.0  \n",
              "Dayofweek                 0.0  \n",
              "Week                      0.0  \n",
              "stock_day_diffhl_mean     0.0  \n",
              "Month                     0.0  \n",
              "Year                      0.0  \n",
              "Date                      0.0  \n",
              "stock_day_diff_skew       0.0  \n",
              "stock_day_diff_mean       0.0  \n",
              "stock_day_diff_std        0.0  \n",
              "stock_day_diffhl_skew     0.0  \n",
              "stock                     0.0  \n",
              "dtype: float64"
            ]
          },
          "metadata": {
            "tags": []
          },
          "execution_count": 18
        }
      ]
    },
    {
      "cell_type": "code",
      "metadata": {
        "id": "HmGfGrJzH0Zj",
        "colab": {
          "base_uri": "https://localhost:8080/"
        },
        "outputId": "40e28cb5-a9b0-4ec5-9a53-13c4bc53b9fa"
      },
      "source": [
        "LAST_TRAINING_DAY = train['Date'].max()\n",
        "DAYS_TO_VALIDATE = pd.Timedelta(days = 45)\n",
        "VAL_FIRST_DAY = LAST_TRAINING_DAY - DAYS_TO_VALIDATE\n",
        "LAST_TRAINING_DAY - VAL_FIRST_DAY"
      ],
      "execution_count": null,
      "outputs": [
        {
          "output_type": "execute_result",
          "data": {
            "text/plain": [
              "Timedelta('45 days 00:00:00')"
            ]
          },
          "metadata": {
            "tags": []
          },
          "execution_count": 19
        }
      ]
    },
    {
      "cell_type": "code",
      "metadata": {
        "id": "BZqe7-7mObO6"
      },
      "source": [
        "val_fltr = train['Date'] >= VAL_FIRST_DAY\n",
        "trn, val = train[~val_fltr].reset_index(drop = True), train[val_fltr].reset_index(drop = True)"
      ],
      "execution_count": null,
      "outputs": []
    },
    {
      "cell_type": "code",
      "metadata": {
        "id": "w85ZAvoMaZz0"
      },
      "source": [
        "trn.fillna(0,inplace=True)\n",
        "val.fillna(0,inplace=True)"
      ],
      "execution_count": null,
      "outputs": []
    },
    {
      "cell_type": "code",
      "metadata": {
        "id": "ARy2to9z_sWH"
      },
      "source": [
        "train['Week_of_year'] = train['Date'].dt.week\n",
        "test['Week_of_year'] = test['Date'].dt.week\n",
        "\n",
        "train['days_diff_from_today'] = (test.Date.max() - train['Date']).dt.days\n",
        "test['days_diff_from_today'] = (test.Date.max() - test['Date']).dt.days"
      ],
      "execution_count": null,
      "outputs": []
    },
    {
      "cell_type": "code",
      "metadata": {
        "id": "VlLrHQzwDmTQ"
      },
      "source": [
        "# Import one more package:\n",
        "from calendar import monthrange\n",
        "\n",
        "# Define a function to get end of the month:\n",
        "def last_day_of_month(date_value):\n",
        "    return date_value.replace(day = monthrange(date_value.year, date_value.month)[1])\n",
        "    \n",
        "# Calculate the number of days to end of the month:\n",
        "train['days_to_end_of_the_month'] = train['Date'].apply(lambda x: (last_day_of_month(x) - x).days)\n",
        "test['days_to_end_of_the_month'] = test['Date'].apply(lambda x: (last_day_of_month(x) - x).days)\n"
      ],
      "execution_count": null,
      "outputs": []
    },
    {
      "cell_type": "code",
      "metadata": {
        "id": "FDY392XRD3Tp"
      },
      "source": [
        "train['quarter'] = train['Date'].dt.quarter\n",
        "test['quarter'] = test['Date'].dt.quarter"
      ],
      "execution_count": null,
      "outputs": []
    },
    {
      "cell_type": "code",
      "metadata": {
        "id": "zkozxK8ZhbfL"
      },
      "source": [
        "train[\"DayCount\"] = train[\"Date\"].apply(lambda x: x.toordinal())\n",
        "test[\"DayCount\"] = test[\"Date\"].apply(lambda x: x.toordinal())"
      ],
      "execution_count": null,
      "outputs": []
    },
    {
      "cell_type": "code",
      "metadata": {
        "id": "ryS0e-rRb3pP"
      },
      "source": [
        "val_fltr = train['Date'] >= VAL_FIRST_DAY\n",
        "trn, val = train[~val_fltr].reset_index(drop = True), train[val_fltr].reset_index(drop = True)"
      ],
      "execution_count": null,
      "outputs": []
    },
    {
      "cell_type": "code",
      "metadata": {
        "id": "XHC3KkO_eL9P"
      },
      "source": [
        "import datetime\n",
        "# VALSTART = datetime.datetime.strptime('01-01-2019', '%m-%d-%Y')\n",
        "# VALEND = datetime.datetime.strptime('02-15-2019', '%m-%d-%Y')\n",
        "\n",
        "# val_fltr = ((train['Date'] >= VALSTART) & (train['Date'] <= VALEND))\n",
        "# trn, val = train[~val_fltr].reset_index(drop = True), train[val_fltr].reset_index(drop = True)"
      ],
      "execution_count": null,
      "outputs": []
    },
    {
      "cell_type": "code",
      "metadata": {
        "id": "YPsh5kaD8Kid"
      },
      "source": [
        "newcols = ['stock_std_pd', 'stock_mean_pd', 'stock_skew_pd', 'stock_std_pw',\n",
        "       'stock_mean_pw', 'stock_skew_pw', 'stock_std_pm', 'stock_mean_pm',\n",
        "       'stock_skew_pm', 'stock_min', 'stock_max', 'stock_std', 'stock_mean',\n",
        "       'stock_skew', 'stock_day_diffhl_min', \n",
        "       'stock_day_diffhl_std',  'stock_day_diff_std','DayCount',\n",
        "       ]\n",
        "datevars = ['Is_quarter_end', 'Is_month_end', 'Is_year_start', 'Dayofweek', 'Is_quarter_start', \n",
        "            'Is_month_start', 'Month', 'Day', 'Year', 'Week', 'Is_year_end']\n",
        "cat_vars=['stock','holiday','unpredictability_score']\n",
        "features = cat_vars + newcols\n",
        "\n",
        "#'stock_day_diffhl_mean','stock_day_diffhl_skew','stock_day_diffhl_max', 'stock_day_diff_mean',       'stock_day_diff_skew'"
      ],
      "execution_count": null,
      "outputs": []
    },
    {
      "cell_type": "code",
      "metadata": {
        "id": "kuoJjrm4Vfib"
      },
      "source": [
        "features = cat_vars + datevars + ['Week_of_year', 'days_diff_from_today', 'days_to_end_of_the_month','quarter'] + newcols\n",
        "#features"
      ],
      "execution_count": null,
      "outputs": []
    },
    {
      "cell_type": "markdown",
      "metadata": {
        "id": "b1hH7p_GVJRf"
      },
      "source": [
        "### LGBM"
      ]
    },
    {
      "cell_type": "code",
      "metadata": {
        "id": "RUwZZSvJVq9_"
      },
      "source": [
        "from lightgbm import LGBMRegressor"
      ],
      "execution_count": null,
      "outputs": []
    },
    {
      "cell_type": "code",
      "metadata": {
        "id": "reEktiYzEU5c"
      },
      "source": [
        "#features = ['stock', 'holiday', 'unpredictability_score', 'Year', 'Month', 'Day', 'Week', 'Dayofweek']\n",
        "# trn_fltr = trn.Year > 2017\n",
        "# val_fltr = val.Year > 2017\n",
        "# trn, val = trn[trn_fltr].reset_index(drop = True), val[val_fltr].reset_index(drop = True)"
      ],
      "execution_count": null,
      "outputs": []
    },
    {
      "cell_type": "code",
      "metadata": {
        "colab": {
          "base_uri": "https://localhost:8080/",
          "height": 506
        },
        "id": "V2pX8adHM0an",
        "outputId": "c78c6c12-15af-4be7-ee72-9a553b6cfd83"
      },
      "source": [
        "corrmat = train[features].corr() \n",
        "  \n",
        "#f, ax = plt.subplots(figsize =(9, 8)) \n",
        "#sns.heatmap(corrmat, ax = ax, cmap =\"YlGnBu\", linewidths = 0.1) \n",
        "m = ~(corrmat.mask(np.eye(len(corrmat), dtype=bool)).abs() > 0.85).any()\n",
        "raw = corrmat.loc[m, m]\n",
        "raw"
      ],
      "execution_count": null,
      "outputs": [
        {
          "output_type": "execute_result",
          "data": {
            "text/html": [
              "<div>\n",
              "<style scoped>\n",
              "    .dataframe tbody tr th:only-of-type {\n",
              "        vertical-align: middle;\n",
              "    }\n",
              "\n",
              "    .dataframe tbody tr th {\n",
              "        vertical-align: top;\n",
              "    }\n",
              "\n",
              "    .dataframe thead th {\n",
              "        text-align: right;\n",
              "    }\n",
              "</style>\n",
              "<table border=\"1\" class=\"dataframe\">\n",
              "  <thead>\n",
              "    <tr style=\"text-align: right;\">\n",
              "      <th></th>\n",
              "      <th>stock</th>\n",
              "      <th>holiday</th>\n",
              "      <th>unpredictability_score</th>\n",
              "      <th>Is_quarter_end</th>\n",
              "      <th>Is_month_end</th>\n",
              "      <th>Is_year_start</th>\n",
              "      <th>Dayofweek</th>\n",
              "      <th>Is_quarter_start</th>\n",
              "      <th>Is_month_start</th>\n",
              "      <th>Is_year_end</th>\n",
              "    </tr>\n",
              "  </thead>\n",
              "  <tbody>\n",
              "    <tr>\n",
              "      <th>stock</th>\n",
              "      <td>1.000000e+00</td>\n",
              "      <td>-2.219034e-19</td>\n",
              "      <td>2.606291e-01</td>\n",
              "      <td>-2.450734e-20</td>\n",
              "      <td>7.076567e-20</td>\n",
              "      <td>NaN</td>\n",
              "      <td>2.324524e-21</td>\n",
              "      <td>3.948406e-19</td>\n",
              "      <td>-1.176133e-21</td>\n",
              "      <td>2.853160e-20</td>\n",
              "    </tr>\n",
              "    <tr>\n",
              "      <th>holiday</th>\n",
              "      <td>-2.219034e-19</td>\n",
              "      <td>1.000000e+00</td>\n",
              "      <td>-1.561849e-17</td>\n",
              "      <td>-1.855300e-02</td>\n",
              "      <td>1.842059e-02</td>\n",
              "      <td>NaN</td>\n",
              "      <td>-1.431557e-01</td>\n",
              "      <td>-1.855300e-02</td>\n",
              "      <td>6.044255e-02</td>\n",
              "      <td>-9.256937e-03</td>\n",
              "    </tr>\n",
              "    <tr>\n",
              "      <th>unpredictability_score</th>\n",
              "      <td>2.606291e-01</td>\n",
              "      <td>-1.561849e-17</td>\n",
              "      <td>1.000000e+00</td>\n",
              "      <td>5.669119e-18</td>\n",
              "      <td>-1.247339e-18</td>\n",
              "      <td>NaN</td>\n",
              "      <td>-4.285011e-18</td>\n",
              "      <td>2.803071e-16</td>\n",
              "      <td>-1.153694e-17</td>\n",
              "      <td>6.970350e-17</td>\n",
              "    </tr>\n",
              "    <tr>\n",
              "      <th>Is_quarter_end</th>\n",
              "      <td>-2.450734e-20</td>\n",
              "      <td>-1.855300e-02</td>\n",
              "      <td>5.669119e-18</td>\n",
              "      <td>1.000000e+00</td>\n",
              "      <td>3.940316e-01</td>\n",
              "      <td>NaN</td>\n",
              "      <td>-1.655529e-03</td>\n",
              "      <td>-5.641749e-03</td>\n",
              "      <td>-1.340230e-02</td>\n",
              "      <td>4.989455e-01</td>\n",
              "    </tr>\n",
              "    <tr>\n",
              "      <th>Is_month_end</th>\n",
              "      <td>7.076567e-20</td>\n",
              "      <td>1.842059e-02</td>\n",
              "      <td>-1.247339e-18</td>\n",
              "      <td>3.940316e-01</td>\n",
              "      <td>1.000000e+00</td>\n",
              "      <td>NaN</td>\n",
              "      <td>1.213855e-02</td>\n",
              "      <td>-1.431801e-02</td>\n",
              "      <td>-3.401325e-02</td>\n",
              "      <td>1.966003e-01</td>\n",
              "    </tr>\n",
              "    <tr>\n",
              "      <th>Is_year_start</th>\n",
              "      <td>NaN</td>\n",
              "      <td>NaN</td>\n",
              "      <td>NaN</td>\n",
              "      <td>NaN</td>\n",
              "      <td>NaN</td>\n",
              "      <td>NaN</td>\n",
              "      <td>NaN</td>\n",
              "      <td>NaN</td>\n",
              "      <td>NaN</td>\n",
              "      <td>NaN</td>\n",
              "    </tr>\n",
              "    <tr>\n",
              "      <th>Dayofweek</th>\n",
              "      <td>2.324524e-21</td>\n",
              "      <td>-1.431557e-01</td>\n",
              "      <td>-4.285011e-18</td>\n",
              "      <td>-1.655529e-03</td>\n",
              "      <td>1.213855e-02</td>\n",
              "      <td>NaN</td>\n",
              "      <td>1.000000e+00</td>\n",
              "      <td>-9.555033e-02</td>\n",
              "      <td>1.924148e-02</td>\n",
              "      <td>-5.436704e-02</td>\n",
              "    </tr>\n",
              "    <tr>\n",
              "      <th>Is_quarter_start</th>\n",
              "      <td>3.948406e-19</td>\n",
              "      <td>-1.855300e-02</td>\n",
              "      <td>2.803071e-16</td>\n",
              "      <td>-5.641749e-03</td>\n",
              "      <td>-1.431801e-02</td>\n",
              "      <td>NaN</td>\n",
              "      <td>-9.555033e-02</td>\n",
              "      <td>1.000000e+00</td>\n",
              "      <td>4.209539e-01</td>\n",
              "      <td>-2.814925e-03</td>\n",
              "    </tr>\n",
              "    <tr>\n",
              "      <th>Is_month_start</th>\n",
              "      <td>-1.176133e-21</td>\n",
              "      <td>6.044255e-02</td>\n",
              "      <td>-1.153694e-17</td>\n",
              "      <td>-1.340230e-02</td>\n",
              "      <td>-3.401325e-02</td>\n",
              "      <td>NaN</td>\n",
              "      <td>1.924148e-02</td>\n",
              "      <td>4.209539e-01</td>\n",
              "      <td>1.000000e+00</td>\n",
              "      <td>-6.687015e-03</td>\n",
              "    </tr>\n",
              "    <tr>\n",
              "      <th>Is_year_end</th>\n",
              "      <td>2.853160e-20</td>\n",
              "      <td>-9.256937e-03</td>\n",
              "      <td>6.970350e-17</td>\n",
              "      <td>4.989455e-01</td>\n",
              "      <td>1.966003e-01</td>\n",
              "      <td>NaN</td>\n",
              "      <td>-5.436704e-02</td>\n",
              "      <td>-2.814925e-03</td>\n",
              "      <td>-6.687015e-03</td>\n",
              "      <td>1.000000e+00</td>\n",
              "    </tr>\n",
              "  </tbody>\n",
              "</table>\n",
              "</div>"
            ],
            "text/plain": [
              "                               stock  ...   Is_year_end\n",
              "stock                   1.000000e+00  ...  2.853160e-20\n",
              "holiday                -2.219034e-19  ... -9.256937e-03\n",
              "unpredictability_score  2.606291e-01  ...  6.970350e-17\n",
              "Is_quarter_end         -2.450734e-20  ...  4.989455e-01\n",
              "Is_month_end            7.076567e-20  ...  1.966003e-01\n",
              "Is_year_start          NaN            ... NaN          \n",
              "Dayofweek               2.324524e-21  ... -5.436704e-02\n",
              "Is_quarter_start        3.948406e-19  ... -2.814925e-03\n",
              "Is_month_start         -1.176133e-21  ... -6.687015e-03\n",
              "Is_year_end             2.853160e-20  ...  1.000000e+00\n",
              "\n",
              "[10 rows x 10 columns]"
            ]
          },
          "metadata": {
            "tags": []
          },
          "execution_count": 32
        }
      ]
    },
    {
      "cell_type": "code",
      "metadata": {
        "id": "hJrmNiCIzLNU",
        "colab": {
          "base_uri": "https://localhost:8080/"
        },
        "outputId": "0953acbf-4017-45af-ae79-5c81422d3c39"
      },
      "source": [
        "train.shape,test.shape,trn.shape,val.shape"
      ],
      "execution_count": null,
      "outputs": [
        {
          "output_type": "execute_result",
          "data": {
            "text/plain": [
              "((73439, 45), (4223, 45), (69937, 45), (3502, 45))"
            ]
          },
          "metadata": {
            "tags": []
          },
          "execution_count": 33
        }
      ]
    },
    {
      "cell_type": "code",
      "metadata": {
        "id": "NCYwuRiF0NkR",
        "colab": {
          "base_uri": "https://localhost:8080/"
        },
        "outputId": "dcc871bd-b2b9-4909-f43b-a4683b26926b"
      },
      "source": [
        "from lightgbm import LGBMRegressor\n",
        "clf = LGBMRegressor(boosting_type='gbdt',n_estimators=800,learning_rate=0.12,num_leaves=70,random_state =181920,\n",
        "                    reg_alpha=0.03,min_child_samples=18,bagging_fraction=0.1,num_iterations=1000 )\n",
        "clf.fit(trn[features], trn['Close'], eval_set = [(val[features], val[TARGET_COL])], verbose = 50, \n",
        "        early_stopping_rounds=200, eval_metric='rmse')"
      ],
      "execution_count": null,
      "outputs": [
        {
          "output_type": "stream",
          "text": [
            "Training until validation scores don't improve for 200 rounds.\n",
            "[50]\tvalid_0's l2: 15.8938\tvalid_0's rmse: 3.9867\n",
            "[100]\tvalid_0's l2: 10.4591\tvalid_0's rmse: 3.23405\n",
            "[150]\tvalid_0's l2: 9.91503\tvalid_0's rmse: 3.14881\n",
            "[200]\tvalid_0's l2: 9.60113\tvalid_0's rmse: 3.09857\n",
            "[250]\tvalid_0's l2: 9.58443\tvalid_0's rmse: 3.09587\n",
            "[300]\tvalid_0's l2: 9.4735\tvalid_0's rmse: 3.07791\n",
            "[350]\tvalid_0's l2: 9.51912\tvalid_0's rmse: 3.08531\n",
            "[400]\tvalid_0's l2: 9.50555\tvalid_0's rmse: 3.08311\n",
            "[450]\tvalid_0's l2: 9.4665\tvalid_0's rmse: 3.07677\n",
            "[500]\tvalid_0's l2: 9.43828\tvalid_0's rmse: 3.07218\n",
            "[550]\tvalid_0's l2: 9.30121\tvalid_0's rmse: 3.04979\n",
            "[600]\tvalid_0's l2: 9.31057\tvalid_0's rmse: 3.05132\n",
            "[650]\tvalid_0's l2: 9.30664\tvalid_0's rmse: 3.05068\n",
            "[700]\tvalid_0's l2: 9.32292\tvalid_0's rmse: 3.05335\n",
            "[750]\tvalid_0's l2: 9.30235\tvalid_0's rmse: 3.04998\n",
            "Early stopping, best iteration is:\n",
            "[569]\tvalid_0's l2: 9.27803\tvalid_0's rmse: 3.04599\n"
          ],
          "name": "stdout"
        },
        {
          "output_type": "execute_result",
          "data": {
            "text/plain": [
              "LGBMRegressor(bagging_fraction=0.1, boosting_type='gbdt', class_weight=None,\n",
              "              colsample_bytree=1.0, importance_type='split', learning_rate=0.12,\n",
              "              max_depth=-1, min_child_samples=18, min_child_weight=0.001,\n",
              "              min_split_gain=0.0, n_estimators=800, n_jobs=-1,\n",
              "              num_iterations=1000, num_leaves=70, objective=None,\n",
              "              random_state=181920, reg_alpha=0.03, reg_lambda=0.0, silent=True,\n",
              "              subsample=1.0, subsample_for_bin=200000, subsample_freq=0)"
            ]
          },
          "metadata": {
            "tags": []
          },
          "execution_count": 34
        }
      ]
    },
    {
      "cell_type": "code",
      "metadata": {
        "id": "l9sO0r7Z45-c"
      },
      "source": [
        "import pandas as pd\n",
        "\n",
        "def get_lgbm_varimp(model, train_columns, max_vars=50):    \n",
        "    cv_varimp_df = pd.DataFrame([train_columns, model.feature_importances_]).T\n",
        "    cv_varimp_df.columns = ['feature_name', 'varimp']\n",
        "    cv_varimp_df.sort_values(by='varimp', ascending=False, inplace=True)    \n",
        "    cv_varimp_df = cv_varimp_df.iloc[0:max_vars]        \n",
        "    return cv_varimp_df"
      ],
      "execution_count": null,
      "outputs": []
    },
    {
      "cell_type": "code",
      "metadata": {
        "id": "QIksEuHR59W-",
        "colab": {
          "base_uri": "https://localhost:8080/",
          "height": 1000
        },
        "outputId": "bf422701-9633-45fa-9809-5d68bc451d0b"
      },
      "source": [
        "get_lgbm_varimp(clf,trn.columns,50)"
      ],
      "execution_count": null,
      "outputs": [
        {
          "output_type": "execute_result",
          "data": {
            "text/html": [
              "<div>\n",
              "<style scoped>\n",
              "    .dataframe tbody tr th:only-of-type {\n",
              "        vertical-align: middle;\n",
              "    }\n",
              "\n",
              "    .dataframe tbody tr th {\n",
              "        vertical-align: top;\n",
              "    }\n",
              "\n",
              "    .dataframe thead th {\n",
              "        text-align: right;\n",
              "    }\n",
              "</style>\n",
              "<table border=\"1\" class=\"dataframe\">\n",
              "  <thead>\n",
              "    <tr style=\"text-align: right;\">\n",
              "      <th></th>\n",
              "      <th>feature_name</th>\n",
              "      <th>varimp</th>\n",
              "    </tr>\n",
              "  </thead>\n",
              "  <tbody>\n",
              "    <tr>\n",
              "      <th>15</th>\n",
              "      <td>stock_mean</td>\n",
              "      <td>5923</td>\n",
              "    </tr>\n",
              "    <tr>\n",
              "      <th>0</th>\n",
              "      <td>stock</td>\n",
              "      <td>4061</td>\n",
              "    </tr>\n",
              "    <tr>\n",
              "      <th>35</th>\n",
              "      <td>Is_quarter_end</td>\n",
              "      <td>3745</td>\n",
              "    </tr>\n",
              "    <tr>\n",
              "      <th>12</th>\n",
              "      <td>stock_min</td>\n",
              "      <td>2847</td>\n",
              "    </tr>\n",
              "    <tr>\n",
              "      <th>20</th>\n",
              "      <td>stock_day_diffhl_mean</td>\n",
              "      <td>2190</td>\n",
              "    </tr>\n",
              "    <tr>\n",
              "      <th>10</th>\n",
              "      <td>stock_mean_pm</td>\n",
              "      <td>2109</td>\n",
              "    </tr>\n",
              "    <tr>\n",
              "      <th>19</th>\n",
              "      <td>stock_day_diffhl_std</td>\n",
              "      <td>2088</td>\n",
              "    </tr>\n",
              "    <tr>\n",
              "      <th>18</th>\n",
              "      <td>stock_day_diffhl_max</td>\n",
              "      <td>2067</td>\n",
              "    </tr>\n",
              "    <tr>\n",
              "      <th>33</th>\n",
              "      <td>Is_month_end</td>\n",
              "      <td>1938</td>\n",
              "    </tr>\n",
              "    <tr>\n",
              "      <th>32</th>\n",
              "      <td>Dayofyear</td>\n",
              "      <td>1779</td>\n",
              "    </tr>\n",
              "    <tr>\n",
              "      <th>34</th>\n",
              "      <td>Is_month_start</td>\n",
              "      <td>1566</td>\n",
              "    </tr>\n",
              "    <tr>\n",
              "      <th>2</th>\n",
              "      <td>unpredictability_score</td>\n",
              "      <td>1289</td>\n",
              "    </tr>\n",
              "    <tr>\n",
              "      <th>9</th>\n",
              "      <td>stock_std_pm</td>\n",
              "      <td>1229</td>\n",
              "    </tr>\n",
              "    <tr>\n",
              "      <th>27</th>\n",
              "      <td>Year</td>\n",
              "      <td>1212</td>\n",
              "    </tr>\n",
              "    <tr>\n",
              "      <th>28</th>\n",
              "      <td>Month</td>\n",
              "      <td>1117</td>\n",
              "    </tr>\n",
              "    <tr>\n",
              "      <th>26</th>\n",
              "      <td>Close</td>\n",
              "      <td>871</td>\n",
              "    </tr>\n",
              "    <tr>\n",
              "      <th>16</th>\n",
              "      <td>stock_skew</td>\n",
              "      <td>832</td>\n",
              "    </tr>\n",
              "    <tr>\n",
              "      <th>6</th>\n",
              "      <td>stock_std_pw</td>\n",
              "      <td>696</td>\n",
              "    </tr>\n",
              "    <tr>\n",
              "      <th>24</th>\n",
              "      <td>stock_day_diff_skew</td>\n",
              "      <td>526</td>\n",
              "    </tr>\n",
              "    <tr>\n",
              "      <th>11</th>\n",
              "      <td>stock_skew_pm</td>\n",
              "      <td>411</td>\n",
              "    </tr>\n",
              "    <tr>\n",
              "      <th>23</th>\n",
              "      <td>stock_day_diff_mean</td>\n",
              "      <td>228</td>\n",
              "    </tr>\n",
              "    <tr>\n",
              "      <th>25</th>\n",
              "      <td>Date</td>\n",
              "      <td>184</td>\n",
              "    </tr>\n",
              "    <tr>\n",
              "      <th>21</th>\n",
              "      <td>stock_day_diffhl_skew</td>\n",
              "      <td>116</td>\n",
              "    </tr>\n",
              "    <tr>\n",
              "      <th>31</th>\n",
              "      <td>Dayofweek</td>\n",
              "      <td>77</td>\n",
              "    </tr>\n",
              "    <tr>\n",
              "      <th>1</th>\n",
              "      <td>holiday</td>\n",
              "      <td>74</td>\n",
              "    </tr>\n",
              "    <tr>\n",
              "      <th>4</th>\n",
              "      <td>stock_mean_pd</td>\n",
              "      <td>37</td>\n",
              "    </tr>\n",
              "    <tr>\n",
              "      <th>8</th>\n",
              "      <td>stock_skew_pw</td>\n",
              "      <td>16</td>\n",
              "    </tr>\n",
              "    <tr>\n",
              "      <th>22</th>\n",
              "      <td>stock_day_diff_std</td>\n",
              "      <td>13</td>\n",
              "    </tr>\n",
              "    <tr>\n",
              "      <th>13</th>\n",
              "      <td>stock_max</td>\n",
              "      <td>7</td>\n",
              "    </tr>\n",
              "    <tr>\n",
              "      <th>7</th>\n",
              "      <td>stock_mean_pw</td>\n",
              "      <td>5</td>\n",
              "    </tr>\n",
              "    <tr>\n",
              "      <th>29</th>\n",
              "      <td>Week</td>\n",
              "      <td>4</td>\n",
              "    </tr>\n",
              "    <tr>\n",
              "      <th>3</th>\n",
              "      <td>stock_std_pd</td>\n",
              "      <td>4</td>\n",
              "    </tr>\n",
              "    <tr>\n",
              "      <th>5</th>\n",
              "      <td>stock_skew_pd</td>\n",
              "      <td>0</td>\n",
              "    </tr>\n",
              "    <tr>\n",
              "      <th>30</th>\n",
              "      <td>Day</td>\n",
              "      <td>0</td>\n",
              "    </tr>\n",
              "    <tr>\n",
              "      <th>17</th>\n",
              "      <td>stock_day_diffhl_min</td>\n",
              "      <td>0</td>\n",
              "    </tr>\n",
              "    <tr>\n",
              "      <th>14</th>\n",
              "      <td>stock_std</td>\n",
              "      <td>0</td>\n",
              "    </tr>\n",
              "    <tr>\n",
              "      <th>36</th>\n",
              "      <td>Is_quarter_start</td>\n",
              "      <td>None</td>\n",
              "    </tr>\n",
              "    <tr>\n",
              "      <th>37</th>\n",
              "      <td>Is_year_end</td>\n",
              "      <td>None</td>\n",
              "    </tr>\n",
              "    <tr>\n",
              "      <th>38</th>\n",
              "      <td>Is_year_start</td>\n",
              "      <td>None</td>\n",
              "    </tr>\n",
              "    <tr>\n",
              "      <th>39</th>\n",
              "      <td>Elapsed</td>\n",
              "      <td>None</td>\n",
              "    </tr>\n",
              "    <tr>\n",
              "      <th>40</th>\n",
              "      <td>Week_of_year</td>\n",
              "      <td>None</td>\n",
              "    </tr>\n",
              "    <tr>\n",
              "      <th>41</th>\n",
              "      <td>days_diff_from_today</td>\n",
              "      <td>None</td>\n",
              "    </tr>\n",
              "    <tr>\n",
              "      <th>42</th>\n",
              "      <td>days_to_end_of_the_month</td>\n",
              "      <td>None</td>\n",
              "    </tr>\n",
              "    <tr>\n",
              "      <th>43</th>\n",
              "      <td>quarter</td>\n",
              "      <td>None</td>\n",
              "    </tr>\n",
              "    <tr>\n",
              "      <th>44</th>\n",
              "      <td>DayCount</td>\n",
              "      <td>None</td>\n",
              "    </tr>\n",
              "  </tbody>\n",
              "</table>\n",
              "</div>"
            ],
            "text/plain": [
              "                feature_name varimp\n",
              "15  stock_mean                5923 \n",
              "0   stock                     4061 \n",
              "35  Is_quarter_end            3745 \n",
              "12  stock_min                 2847 \n",
              "20  stock_day_diffhl_mean     2190 \n",
              "10  stock_mean_pm             2109 \n",
              "19  stock_day_diffhl_std      2088 \n",
              "18  stock_day_diffhl_max      2067 \n",
              "33  Is_month_end              1938 \n",
              "32  Dayofyear                 1779 \n",
              "34  Is_month_start            1566 \n",
              "2   unpredictability_score    1289 \n",
              "9   stock_std_pm              1229 \n",
              "27  Year                      1212 \n",
              "28  Month                     1117 \n",
              "26  Close                     871  \n",
              "16  stock_skew                832  \n",
              "6   stock_std_pw              696  \n",
              "24  stock_day_diff_skew       526  \n",
              "11  stock_skew_pm             411  \n",
              "23  stock_day_diff_mean       228  \n",
              "25  Date                      184  \n",
              "21  stock_day_diffhl_skew     116  \n",
              "31  Dayofweek                 77   \n",
              "1   holiday                   74   \n",
              "4   stock_mean_pd             37   \n",
              "8   stock_skew_pw             16   \n",
              "22  stock_day_diff_std        13   \n",
              "13  stock_max                 7    \n",
              "7   stock_mean_pw             5    \n",
              "29  Week                      4    \n",
              "3   stock_std_pd              4    \n",
              "5   stock_skew_pd             0    \n",
              "30  Day                       0    \n",
              "17  stock_day_diffhl_min      0    \n",
              "14  stock_std                 0    \n",
              "36  Is_quarter_start          None \n",
              "37  Is_year_end               None \n",
              "38  Is_year_start             None \n",
              "39  Elapsed                   None \n",
              "40  Week_of_year              None \n",
              "41  days_diff_from_today      None \n",
              "42  days_to_end_of_the_month  None \n",
              "43  quarter                   None \n",
              "44  DayCount                  None "
            ]
          },
          "metadata": {
            "tags": []
          },
          "execution_count": 36
        }
      ]
    },
    {
      "cell_type": "code",
      "metadata": {
        "id": "R0qv1qfbcREh",
        "colab": {
          "base_uri": "https://localhost:8080/"
        },
        "outputId": "402b3a80-ea27-4c16-85a8-69dc23e97155"
      },
      "source": [
        "ptt = clf.predict(test[features])\n",
        "ptt\n",
        "#pt = scaler.inverse_transform(pt.reshape(-1, 1) )\n",
        "#download_preds(pt, 'lightgbm_simple4.12.csv')"
      ],
      "execution_count": null,
      "outputs": [
        {
          "output_type": "execute_result",
          "data": {
            "text/plain": [
              "array([115.947733, 116.086593, 115.945328, 115.936348, ..., 134.119633, 133.813558, 130.738414, 130.780509])"
            ]
          },
          "metadata": {
            "tags": []
          },
          "execution_count": 37
        }
      ]
    },
    {
      "cell_type": "code",
      "metadata": {
        "colab": {
          "base_uri": "https://localhost:8080/"
        },
        "id": "FF3_J3MafgfX",
        "outputId": "69649230-1eea-47f7-ed31-963ed4fd22eb"
      },
      "source": [
        "# Trained Params with the full training set\n",
        "clf = LGBMRegressor(colsample_bytree= 0.47514618245249834, learning_rate= 0.2, min_child_samples= 20,\n",
        " min_child_weight=10.0, n_estimators= 1500, num_leaves=90, reg_alpha= 7,\n",
        " reg_lambda= 100,subsample= 0.4989593144444127,random_state =181920)\n",
        "clf.fit(train[features], train['Close'], verbose = 50)"
      ],
      "execution_count": null,
      "outputs": [
        {
          "output_type": "execute_result",
          "data": {
            "text/plain": [
              "LGBMRegressor(boosting_type='gbdt', class_weight=None,\n",
              "              colsample_bytree=0.47514618245249834, importance_type='split',\n",
              "              learning_rate=0.2, max_depth=-1, min_child_samples=20,\n",
              "              min_child_weight=10.0, min_split_gain=0.0, n_estimators=1500,\n",
              "              n_jobs=-1, num_leaves=90, objective=None, random_state=181920,\n",
              "              reg_alpha=7, reg_lambda=100, silent=True,\n",
              "              subsample=0.4989593144444127, subsample_for_bin=200000,\n",
              "              subsample_freq=0)"
            ]
          },
          "metadata": {
            "tags": []
          },
          "execution_count": 290
        }
      ]
    },
    {
      "cell_type": "code",
      "metadata": {
        "id": "-sHv97uMfgl3"
      },
      "source": [
        "# pt = pt*1.028\n",
        "# To Modify - Push up the estimates of high unpredictable stocks by little more\n",
        "arrset1 = [1,  8, 15, 17, 23, 29, 40, 59, 63, 67, 81,10, 28, 35, 38, 43, 49, 53, 56, 61, 76,\n",
        "                                            3,  14,  25,  30,  33,  37,  44,  77,  84, 100,\n",
        "                                            2, 11, 20, 22, 31, 39, 68, 72, 73, 89]                                 "
      ],
      "execution_count": null,
      "outputs": []
    },
    {
      "cell_type": "code",
      "metadata": {
        "colab": {
          "base_uri": "https://localhost:8080/"
        },
        "id": "M9nr174-p621",
        "outputId": "65b597f1-8f42-4c37-ee3d-1bfd8347e578"
      },
      "source": [
        "pt = clf.predict(test[features])\n",
        "pt"
      ],
      "execution_count": null,
      "outputs": [
        {
          "output_type": "execute_result",
          "data": {
            "text/plain": [
              "array([117.609314, 117.820458, 117.930661, 117.999235, ..., 129.013856, 128.994659, 127.606132, 127.419766])"
            ]
          },
          "metadata": {
            "tags": []
          },
          "execution_count": 292
        }
      ]
    },
    {
      "cell_type": "code",
      "metadata": {
        "colab": {
          "base_uri": "https://localhost:8080/"
        },
        "id": "rOf7JuDRoCZl",
        "outputId": "cdd9029c-a5df-4f30-d38a-0a75e4b13d07"
      },
      "source": [
        "testplot = test\n",
        "testplot['Close'] = pt\n",
        "valf = testplot.loc[testplot['stock'].isin(arrset1)]['Close'] * 1.006\n",
        "vals = testplot.loc[~testplot['stock'].isin(arrset1)]['Close'] * 1.028\n",
        "testplot.loc[testplot['stock'].isin(arrset1),'Close'] = valf.values\n",
        "testplot.loc[~testplot['stock'].isin(arrset1),'Close'] = vals.values\n",
        "pt = testplot['Close'].values\n",
        "pt"
      ],
      "execution_count": null,
      "outputs": [
        {
          "output_type": "execute_result",
          "data": {
            "text/plain": [
              "array([120.902375, 121.119431, 121.232719, 121.303214, ..., 132.626244, 132.606509, 131.179104, 130.98752 ])"
            ]
          },
          "metadata": {
            "tags": []
          },
          "execution_count": 293
        }
      ]
    },
    {
      "cell_type": "code",
      "metadata": {
        "colab": {
          "base_uri": "https://localhost:8080/",
          "height": 17
        },
        "id": "RgL1T57SfgsK",
        "outputId": "b3e0927c-cee2-4975-9d27-ede1d5343700"
      },
      "source": [
        "download_preds(pt, 'lightgbm_simple4.25.csv') # Single Score Adjusted"
      ],
      "execution_count": null,
      "outputs": [
        {
          "output_type": "display_data",
          "data": {
            "application/javascript": [
              "\n",
              "    async function download(id, filename, size) {\n",
              "      if (!google.colab.kernel.accessAllowed) {\n",
              "        return;\n",
              "      }\n",
              "      const div = document.createElement('div');\n",
              "      const label = document.createElement('label');\n",
              "      label.textContent = `Downloading \"${filename}\": `;\n",
              "      div.appendChild(label);\n",
              "      const progress = document.createElement('progress');\n",
              "      progress.max = size;\n",
              "      div.appendChild(progress);\n",
              "      document.body.appendChild(div);\n",
              "\n",
              "      const buffers = [];\n",
              "      let downloaded = 0;\n",
              "\n",
              "      const channel = await google.colab.kernel.comms.open(id);\n",
              "      // Send a message to notify the kernel that we're ready.\n",
              "      channel.send({})\n",
              "\n",
              "      for await (const message of channel.messages) {\n",
              "        // Send a message to notify the kernel that we're ready.\n",
              "        channel.send({})\n",
              "        if (message.buffers) {\n",
              "          for (const buffer of message.buffers) {\n",
              "            buffers.push(buffer);\n",
              "            downloaded += buffer.byteLength;\n",
              "            progress.value = downloaded;\n",
              "          }\n",
              "        }\n",
              "      }\n",
              "      const blob = new Blob(buffers, {type: 'application/binary'});\n",
              "      const a = document.createElement('a');\n",
              "      a.href = window.URL.createObjectURL(blob);\n",
              "      a.download = filename;\n",
              "      div.appendChild(a);\n",
              "      a.click();\n",
              "      div.remove();\n",
              "    }\n",
              "  "
            ],
            "text/plain": [
              "<IPython.core.display.Javascript object>"
            ]
          },
          "metadata": {
            "tags": []
          }
        },
        {
          "output_type": "display_data",
          "data": {
            "application/javascript": [
              "download(\"download_3220eeed-f162-43ca-bd86-08c632a80dc5\", \"lightgbm_simple4.25.csv\", 114522)"
            ],
            "text/plain": [
              "<IPython.core.display.Javascript object>"
            ]
          },
          "metadata": {
            "tags": []
          }
        }
      ]
    },
    {
      "cell_type": "code",
      "metadata": {
        "colab": {
          "base_uri": "https://localhost:8080/",
          "height": 286
        },
        "id": "bZAjyDhNnEvC",
        "outputId": "6e7f5f61-7696-42ad-d1c9-468fd74732ad"
      },
      "source": [
        "STOCK_NO = 75\n",
        "\n",
        "train_fltr = train['stock'] == STOCK_NO\n",
        "train_tmp = train[train_fltr].set_index('Date')[['Close']]\n",
        "train_tmp['type'] = 'train'\n",
        "\n",
        "test_fltr = val['stock'] == STOCK_NO\n",
        "test_tmp = val[test_fltr].set_index('Date')[['Close']]\n",
        "test_tmp['type'] = 'test'\n",
        "\n",
        "test_fltr = testplot['stock'] == STOCK_NO\n",
        "testplot_tmp = testplot[test_fltr].set_index('Date')[['Close']]\n",
        "testplot_tmp['type'] = 'test'\n",
        "\n",
        "test_tmp = test_tmp.append(testplot_tmp)\n",
        "\n",
        "_ = train_tmp.append(test_tmp).groupby('type')['Close'].plot(figsize=(16, 4), title = f'Stock {STOCK_NO}', sharex=False)\n",
        "_ = plt.legend()"
      ],
      "execution_count": null,
      "outputs": [
        {
          "output_type": "display_data",
          "data": {
            "image/png": "[encoded data removed]",
            "text/plain": [
              "<Figure size 1152x288 with 1 Axes>"
            ]
          },
          "metadata": {
            "tags": []
          }
        }
      ]
    },
    {
      "cell_type": "code",
      "metadata": {
        "colab": {
          "base_uri": "https://localhost:8080/"
        },
        "id": "PfFj56LSnHh0",
        "outputId": "05bd877b-4713-41a5-9ad4-8a4f4befaaa9"
      },
      "source": [
        "train.loc[train.unpredictability_score == 7].stock.unique()"
      ],
      "execution_count": null,
      "outputs": [
        {
          "output_type": "execute_result",
          "data": {
            "text/plain": [
              "array([ 0,  4, 18, 26, 47, 58, 65, 66, 75, 91])"
            ]
          },
          "metadata": {
            "tags": []
          },
          "execution_count": 270
        }
      ]
    },
    {
      "cell_type": "code",
      "metadata": {
        "colab": {
          "base_uri": "https://localhost:8080/"
        },
        "id": "pD0RQe0qpmeT",
        "outputId": "f6f462d1-8dd1-4624-96cc-43598ff277e6"
      },
      "source": [
        "train.loc[train.unpredictability_score == 0].stock.unique()"
      ],
      "execution_count": null,
      "outputs": [
        {
          "output_type": "execute_result",
          "data": {
            "text/plain": [
              "array([ 1,  8, 15, 17, 23, 29, 40, 59, 63, 67, 81])"
            ]
          },
          "metadata": {
            "tags": []
          },
          "execution_count": 218
        }
      ]
    },
    {
      "cell_type": "code",
      "metadata": {
        "id": "yO_Y6hoinHlS"
      },
      "source": [
        ""
      ],
      "execution_count": null,
      "outputs": []
    },
    {
      "cell_type": "markdown",
      "metadata": {
        "id": "KdyGaeNdfkKZ"
      },
      "source": [
        "## Hyper Parameter Tunning"
      ]
    },
    {
      "cell_type": "code",
      "metadata": {
        "id": "FBWck362AMrT"
      },
      "source": [
        "from sklearn.model_selection import RandomizedSearchCV, GridSearchCV"
      ],
      "execution_count": null,
      "outputs": []
    },
    {
      "cell_type": "code",
      "metadata": {
        "id": "u3zlejseAqgv"
      },
      "source": [
        "from scipy.stats import uniform as sp_uniform\n",
        "param_test ={'num_leaves': [50,70,90], \n",
        "             'min_child_samples': [10,15,20,22,18,25], \n",
        "             'min_child_weight': [1e-5, 1e-3, 1e-2, 1e-1, 1, 1e1, 1e2, 1e3, 1e4],\n",
        "             'subsample': sp_uniform(loc=0.2, scale=0.8), \n",
        "             'colsample_bytree': sp_uniform(loc=0.4, scale=0.6),\n",
        "             'n_estimators': [1000,1500,2000,3000],\n",
        "             'learning_rate': [0.1,0.9,0.2,0.12,0.15],\n",
        "             'reg_alpha': [0, 1e-1, 1, 2, 5, 7, 10, 50, 100],\n",
        "             'reg_lambda': [0, 1e-1, 1, 5, 10, 20, 50, 100]}"
      ],
      "execution_count": null,
      "outputs": []
    },
    {
      "cell_type": "code",
      "metadata": {
        "id": "jjPBfVKKAUDf"
      },
      "source": [
        "clf = LGBMRegressor(boosting_type='gbdt',n_estimators=1000,learning_rate=0.1,num_leaves=70,random_state =181920,\n",
        "                    reg_alpha=0.01,min_child_samples=18)"
      ],
      "execution_count": null,
      "outputs": []
    },
    {
      "cell_type": "code",
      "metadata": {
        "id": "C4ZZq5lkAOBU"
      },
      "source": [
        "n_HP_points_to_test = 100\n",
        "gs = RandomizedSearchCV(\n",
        "    estimator=clf, param_distributions=param_test, \n",
        "    n_iter=n_HP_points_to_test,    \n",
        "    cv=3,\n",
        "    refit=True,\n",
        "    random_state=314,\n",
        "    verbose=True)"
      ],
      "execution_count": null,
      "outputs": []
    },
    {
      "cell_type": "code",
      "metadata": {
        "id": "SSu78nn-AdZb"
      },
      "source": [
        "# %%time\n",
        "# gs.fit(train2[features], train2['Close'],eval_set = [(val2[features], val2[TARGET_COL])], verbose = 50, \n",
        "#         early_stopping_rounds=500, eval_metric='rmse')\n",
        "# print('Best score reached: {} with params: {} '.format(gs.best_score_, gs.best_params_))"
      ],
      "execution_count": null,
      "outputs": []
    },
    {
      "cell_type": "code",
      "metadata": {
        "id": "EvCLat1WOWMG"
      },
      "source": [
        "#print('Best score reached: {} with params: {} '.format(gs.best_score_, gs.best_params_))"
      ],
      "execution_count": null,
      "outputs": []
    },
    {
      "cell_type": "markdown",
      "metadata": {
        "id": "IAZYphe12hzQ"
      },
      "source": [
        "### XGB"
      ]
    },
    {
      "cell_type": "code",
      "metadata": {
        "id": "1MRqjFxR61UD"
      },
      "source": [
        "val_fltr = train['Date'] >= VAL_FIRST_DAY\n",
        "trn, val = train[~val_fltr].reset_index(drop = True), train[val_fltr].reset_index(drop = True)"
      ],
      "execution_count": null,
      "outputs": []
    },
    {
      "cell_type": "code",
      "metadata": {
        "id": "faB5qtv1lSpl"
      },
      "source": [
        "# param_test ={'max_leaves': [50,70,90], \n",
        "#              'max_depth': [10,15,20,22,18,25], \n",
        "#              'min_child_weight': [1e-5, 1e-3, 1e-2, 1e-1, 1, 1e1, 1e2, 1e3, 1e4],\n",
        "#              'subsample': sp_uniform(loc=0.2, scale=0.8), \n",
        "#              'colsample_bytree': sp_uniform(loc=0.4, scale=0.6),\n",
        "#              'n_estimators': [1000,1500,2000,3000],\n",
        "#              'learning_rate': [0.1,0.9,0.2,0.12,0.15],\n",
        "#              'reg_alpha': [0, 1e-1, 1, 2, 5, 7, 10, 50, 100],\n",
        "#              'reg_lambda': [0, 1e-1, 1, 5, 10, 20, 50, 100]}"
      ],
      "execution_count": null,
      "outputs": []
    },
    {
      "cell_type": "code",
      "metadata": {
        "colab": {
          "base_uri": "https://localhost:8080/"
        },
        "id": "xWG2DmGNkNDG",
        "outputId": "1e7cb0ff-1124-4d77-e3fa-87baa22e4cad"
      },
      "source": [
        "%%time\n",
        "import xgboost as xgb\n",
        "# model = xgb.XGBRegressor(max_depth=20,random_state =181920,\n",
        "#                          objective='reg:linear',tree_method = 'hist',max_bin=100,\n",
        "#                          early_stopping_rounds = 100)\n",
        "\n",
        "# n_HP_points_to_test = 100\n",
        "# gs = RandomizedSearchCV(\n",
        "#     estimator=model, param_distributions=param_test, \n",
        "#     n_iter=n_HP_points_to_test,    \n",
        "#     cv=3,\n",
        "#     refit=True,\n",
        "#     random_state=314,\n",
        "#     verbose=True)\n",
        "\n",
        "# gs.fit(train[features], train['Close'],eval_set = [(val[features], val[TARGET_COL])], verbose = 50, \n",
        "#         early_stopping_rounds=500, eval_metric='rmse')\n",
        "# print('Best score reached: {} with params: {} '.format(gs.best_score_, gs.best_params_))"
      ],
      "execution_count": null,
      "outputs": [
        {
          "output_type": "stream",
          "text": [
            "CPU times: user 167 ms, sys: 5.02 ms, total: 172 ms\n",
            "Wall time: 222 ms\n"
          ],
          "name": "stdout"
        }
      ]
    },
    {
      "cell_type": "code",
      "metadata": {
        "id": "8hry205jC2pm",
        "colab": {
          "base_uri": "https://localhost:8080/"
        },
        "outputId": "82a4fd5b-b15b-4501-bb45-c2cc08c7ac9a"
      },
      "source": [
        "\n",
        "# model = xgb.XGBRegressor(learning_rate=0.12,max_depth=20,max_leaves=70,n_estimators=3000,random_state =181920,\n",
        "#                          reg_alpha=0.03,min_child_samples=20,objective='reg:linear', num_boost_round = 626,\n",
        "#                          min_child_weight=0.001,early_stopping_rounds = 100)\n",
        "\n",
        "model = xgb.XGBRegressor(objective=\"reg:squarederror\",colsample_bytree= 0.6859824186499318, learning_rate= 0.2,  max_depth= 20, max_leaves= 50,\n",
        "  min_child_weight = 1000.0, n_estimators = 1000, reg_alpha = 7, reg_lambda= 100, subsample= 0.6078966452154348)\n",
        "\n",
        "model.fit(train[features], train['Close'])\n",
        "#print (model) , eval_set = [(val[features], val[TARGET_COL])]\n"
      ],
      "execution_count": null,
      "outputs": [
        {
          "output_type": "execute_result",
          "data": {
            "text/plain": [
              "XGBRegressor(base_score=0.5, booster='gbtree', colsample_bylevel=1,\n",
              "             colsample_bynode=1, colsample_bytree=0.6859824186499318, gamma=0,\n",
              "             importance_type='gain', learning_rate=0.2, max_delta_step=0,\n",
              "             max_depth=20, max_leaves=50, min_child_weight=1000.0, missing=None,\n",
              "             n_estimators=1000, n_jobs=1, nthread=None,\n",
              "             objective='reg:squarederror', random_state=0, reg_alpha=7,\n",
              "             reg_lambda=100, scale_pos_weight=1, seed=None, silent=None,\n",
              "             subsample=0.6078966452154348, verbosity=1)"
            ]
          },
          "metadata": {
            "tags": []
          },
          "execution_count": 278
        }
      ]
    },
    {
      "cell_type": "code",
      "metadata": {
        "id": "ZZJiUFXFT7N5",
        "colab": {
          "base_uri": "https://localhost:8080/"
        },
        "outputId": "3c2bc8e2-c6f6-4019-8750-cd3969c3deba"
      },
      "source": [
        "pt1 = model.predict(test[features])\n",
        "pt1"
      ],
      "execution_count": null,
      "outputs": [
        {
          "output_type": "execute_result",
          "data": {
            "text/plain": [
              "array([118.04809 , 118.74486 , 118.93626 , 118.979004, ..., 131.45947 , 131.53522 , 131.31575 , 131.22818 ],\n",
              "      dtype=float32)"
            ]
          },
          "metadata": {
            "tags": []
          },
          "execution_count": 279
        }
      ]
    },
    {
      "cell_type": "code",
      "metadata": {
        "id": "kKaDlX-QUkm-",
        "colab": {
          "base_uri": "https://localhost:8080/"
        },
        "outputId": "d32841a7-9d13-4d55-d329-66f0d332dbd7"
      },
      "source": [
        "pt1 = pt1 *1.02\n",
        "pt1"
      ],
      "execution_count": null,
      "outputs": [
        {
          "output_type": "execute_result",
          "data": {
            "text/plain": [
              "array([120.40905, 121.11975, 121.31498, 121.35858, ..., 134.08865, 134.16592, 133.94206, 133.85274], dtype=float32)"
            ]
          },
          "metadata": {
            "tags": []
          },
          "execution_count": 280
        }
      ]
    },
    {
      "cell_type": "code",
      "metadata": {
        "colab": {
          "base_uri": "https://localhost:8080/",
          "height": 17
        },
        "id": "r4onQKCeAorM",
        "outputId": "25fa1195-c121-4f82-a7b1-7740b2d87f22"
      },
      "source": [
        "download_preds(pt1, 'xgb31.csv')"
      ],
      "execution_count": null,
      "outputs": [
        {
          "output_type": "display_data",
          "data": {
            "application/javascript": [
              "\n",
              "    async function download(id, filename, size) {\n",
              "      if (!google.colab.kernel.accessAllowed) {\n",
              "        return;\n",
              "      }\n",
              "      const div = document.createElement('div');\n",
              "      const label = document.createElement('label');\n",
              "      label.textContent = `Downloading \"${filename}\": `;\n",
              "      div.appendChild(label);\n",
              "      const progress = document.createElement('progress');\n",
              "      progress.max = size;\n",
              "      div.appendChild(progress);\n",
              "      document.body.appendChild(div);\n",
              "\n",
              "      const buffers = [];\n",
              "      let downloaded = 0;\n",
              "\n",
              "      const channel = await google.colab.kernel.comms.open(id);\n",
              "      // Send a message to notify the kernel that we're ready.\n",
              "      channel.send({})\n",
              "\n",
              "      for await (const message of channel.messages) {\n",
              "        // Send a message to notify the kernel that we're ready.\n",
              "        channel.send({})\n",
              "        if (message.buffers) {\n",
              "          for (const buffer of message.buffers) {\n",
              "            buffers.push(buffer);\n",
              "            downloaded += buffer.byteLength;\n",
              "            progress.value = downloaded;\n",
              "          }\n",
              "        }\n",
              "      }\n",
              "      const blob = new Blob(buffers, {type: 'application/binary'});\n",
              "      const a = document.createElement('a');\n",
              "      a.href = window.URL.createObjectURL(blob);\n",
              "      a.download = filename;\n",
              "      div.appendChild(a);\n",
              "      a.click();\n",
              "      div.remove();\n",
              "    }\n",
              "  "
            ],
            "text/plain": [
              "<IPython.core.display.Javascript object>"
            ]
          },
          "metadata": {
            "tags": []
          }
        },
        {
          "output_type": "display_data",
          "data": {
            "application/javascript": [
              "download(\"download_1be8e4d1-c9a5-44d9-903a-eec7b98c725c\", \"xgb31.csv\", 77734)"
            ],
            "text/plain": [
              "<IPython.core.display.Javascript object>"
            ]
          },
          "metadata": {
            "tags": []
          }
        }
      ]
    },
    {
      "cell_type": "code",
      "metadata": {
        "colab": {
          "base_uri": "https://localhost:8080/"
        },
        "id": "J76NSl0BWRFT",
        "outputId": "4ff68b5e-7b90-43d4-86e0-96d918cdd844"
      },
      "source": [
        "pt"
      ],
      "execution_count": null,
      "outputs": [
        {
          "output_type": "execute_result",
          "data": {
            "text/plain": [
              "array([120.902375, 121.119431, 121.232719, 121.303214, ..., 132.626244, 132.606509, 131.179104, 130.98752 ])"
            ]
          },
          "metadata": {
            "tags": []
          },
          "execution_count": 282
        }
      ]
    },
    {
      "cell_type": "code",
      "metadata": {
        "id": "2BG1KnBLUgvZ"
      },
      "source": [
        "#pt2 = 0.54*pt1+0.52*ptfin\n",
        "#pt2 = 0.51*pt1+0.50*ptfin\n",
        "pt2 = 0.90*pt+0.10*pt1"
      ],
      "execution_count": null,
      "outputs": []
    },
    {
      "cell_type": "code",
      "metadata": {
        "id": "hpnZTeQBUj9a",
        "colab": {
          "base_uri": "https://localhost:8080/"
        },
        "outputId": "f45f3702-7062-4153-8ead-1cdb2b12216d"
      },
      "source": [
        "pt2"
      ],
      "execution_count": null,
      "outputs": [
        {
          "output_type": "execute_result",
          "data": {
            "text/plain": [
              "array([120.80371 , 121.119496, 121.249172, 121.314288, ..., 132.918727, 132.918392, 131.731695, 131.560564])"
            ]
          },
          "metadata": {
            "tags": []
          },
          "execution_count": 299
        }
      ]
    },
    {
      "cell_type": "code",
      "metadata": {
        "colab": {
          "base_uri": "https://localhost:8080/",
          "height": 17
        },
        "id": "_5_SPM7_Re-g",
        "outputId": "c32bd728-fe39-493d-b0e3-e1026d5f01ad"
      },
      "source": [
        "download_preds(pt2, 'ensemble32.csv')"
      ],
      "execution_count": null,
      "outputs": [
        {
          "output_type": "display_data",
          "data": {
            "application/javascript": [
              "\n",
              "    async function download(id, filename, size) {\n",
              "      if (!google.colab.kernel.accessAllowed) {\n",
              "        return;\n",
              "      }\n",
              "      const div = document.createElement('div');\n",
              "      const label = document.createElement('label');\n",
              "      label.textContent = `Downloading \"${filename}\": `;\n",
              "      div.appendChild(label);\n",
              "      const progress = document.createElement('progress');\n",
              "      progress.max = size;\n",
              "      div.appendChild(progress);\n",
              "      document.body.appendChild(div);\n",
              "\n",
              "      const buffers = [];\n",
              "      let downloaded = 0;\n",
              "\n",
              "      const channel = await google.colab.kernel.comms.open(id);\n",
              "      // Send a message to notify the kernel that we're ready.\n",
              "      channel.send({})\n",
              "\n",
              "      for await (const message of channel.messages) {\n",
              "        // Send a message to notify the kernel that we're ready.\n",
              "        channel.send({})\n",
              "        if (message.buffers) {\n",
              "          for (const buffer of message.buffers) {\n",
              "            buffers.push(buffer);\n",
              "            downloaded += buffer.byteLength;\n",
              "            progress.value = downloaded;\n",
              "          }\n",
              "        }\n",
              "      }\n",
              "      const blob = new Blob(buffers, {type: 'application/binary'});\n",
              "      const a = document.createElement('a');\n",
              "      a.href = window.URL.createObjectURL(blob);\n",
              "      a.download = filename;\n",
              "      div.appendChild(a);\n",
              "      a.click();\n",
              "      div.remove();\n",
              "    }\n",
              "  "
            ],
            "text/plain": [
              "<IPython.core.display.Javascript object>"
            ]
          },
          "metadata": {
            "tags": []
          }
        },
        {
          "output_type": "display_data",
          "data": {
            "application/javascript": [
              "download(\"download_a6650aa2-052e-4253-9e54-9b7fbd4a09d6\", \"ensemble32.csv\", 114429)"
            ],
            "text/plain": [
              "<IPython.core.display.Javascript object>"
            ]
          },
          "metadata": {
            "tags": []
          }
        }
      ]
    },
    {
      "cell_type": "code",
      "metadata": {
        "id": "yDgphYolXctU"
      },
      "source": [
        "## finish"
      ],
      "execution_count": null,
      "outputs": []
    },
    {
      "cell_type": "code",
      "metadata": {
        "id": "-ukzi6sQnCZd"
      },
      "source": [
        "## "
      ],
      "execution_count": null,
      "outputs": []
    },
    {
      "cell_type": "markdown",
      "metadata": {
        "id": "aXJUL2uWnGYK"
      },
      "source": [
        "## ARIMA - Reference\n",
        "https://www.kaggle.com/vishwajit1999/stock-price-prediction-av?scriptVersionId=47296536"
      ]
    },
    {
      "cell_type": "code",
      "metadata": {
        "id": "kGdofVVLGp_h"
      },
      "source": [
        "import pandas as pd\n",
        "import numpy as np\n",
        "import seaborn as sns\n",
        "import matplotlib.pyplot as plt\n",
        "%matplotlib inline\n",
        "from sklearn.metrics import mean_squared_error\n",
        "import statsmodels.api as sm\n",
        "import statsmodels\n",
        "from statsmodels.graphics.tsaplots import plot_pacf, plot_acf\n"
      ],
      "execution_count": null,
      "outputs": []
    },
    {
      "cell_type": "code",
      "metadata": {
        "id": "PYPJIcCuGt4M"
      },
      "source": [
        "def train_arima(ts,exog,order,verbose=1):\n",
        "    \"\"\"\n",
        "    ts - time series to train on\n",
        "    exog - exogeneous variable of length same as that of ts\n",
        "    order - tuple of size 3 with coefficients corresponding to AR, I and MA parts of the model\n",
        "    verbose - 1 or 0 whether to print the info while running or not\n",
        "\n",
        "    returns fit model which can forecast the values\n",
        "    \"\"\"\n",
        "    model = sm.tsa.ARIMA(endog=ts, exog=exog, order=order)\n",
        "    try:\n",
        "        model_fit = model.fit()\n",
        "        return model_fit\n",
        "    except:\n",
        "        if verbose:\n",
        "            print('     The order is not valid for fitting the model')\n",
        "        return None"
      ],
      "execution_count": null,
      "outputs": []
    },
    {
      "cell_type": "code",
      "metadata": {
        "id": "YIw3B5_8GzXz"
      },
      "source": [
        "def split_time_series(ts,train_size):\n",
        "    \"\"\"\n",
        "    ts - time series which needs to be split (numpy array)\n",
        "    train_size - size of the training data (0 to 1)\n",
        "\n",
        "    returns 2 time series (train_ts,val_ts)\n",
        "    \"\"\"\n",
        "    split_ind = int(train_size*ts.shape[0])\n",
        "    train_ts,val_ts = ts[:split_ind],ts[split_ind:]\n",
        "    return (train_ts,val_ts)"
      ],
      "execution_count": null,
      "outputs": []
    },
    {
      "cell_type": "code",
      "metadata": {
        "id": "fDelK5xIG15R"
      },
      "source": [
        "def get_forecast_error(ts,ts_pred):\n",
        "    return np.round(np.sqrt(mean_squared_error(ts,ts_pred)),6)"
      ],
      "execution_count": null,
      "outputs": []
    },
    {
      "cell_type": "code",
      "metadata": {
        "id": "mf-4pxf1G4Pm"
      },
      "source": [
        "def validate_arima_model(ts,exog,param_grid,train_size=0.8,verbose=1):\n",
        "    \"\"\"\n",
        "    ts - time series available for training and validation (numpy array)\n",
        "    exog - exogeneous variable of length same as that of ts\n",
        "    param_grid - dictionary of arima model orders. Has keys - (p,q,r) Ex: {'p':[1,2,3],'q':[0,1,2],'r':[2,3,4]}\n",
        "    returns best (p,q,r)\n",
        "    \"\"\"\n",
        "    num_models = len(param_grid['p'])*len(param_grid['q'])*len(param_grid['r'])\n",
        "    if verbose:\n",
        "        print('Total Number of models to be trained =',num_models)\n",
        "        print('')\n",
        "\n",
        "    train_ts,val_ts = split_time_series(ts,train_size)\n",
        "    train_exog,val_exog = split_time_series(exog,train_size)\n",
        "    forecast_steps = val_ts.shape[0]\n",
        "    orders_errors = []\n",
        "    best_error = np.inf\n",
        "    for p in param_grid['p']:\n",
        "        for q in param_grid['q']:\n",
        "            for r in param_grid['r']:\n",
        "                if verbose:\n",
        "                    print(f'The model order = ({p},{q},{r}):')\n",
        "                model_fit = train_arima(train_ts,exog=train_exog,order=(p,q,r),verbose=0)\n",
        "                if model_fit:\n",
        "                    val_forecast = model_fit.forecast(forecast_steps,exog=val_exog)\n",
        "                    #print(val_ts.shape)\n",
        "                    #print(len(val_forecast))\n",
        "                    #print(val_forecast)\n",
        "                    error = get_forecast_error(val_ts,val_forecast[0])\n",
        "                    if verbose:\n",
        "                        print('    The error obtained = {:.4f}'.format(error))\n",
        "                    if error<best_error:\n",
        "                        best_error = error\n",
        "                        best_order = (p,q,r)\n",
        "\n",
        "                    orders_errors.append(((p,q,r),error))\n",
        "\n",
        "                if verbose:\n",
        "                    print('')\n",
        "    if verbose:\n",
        "        print(f'Best order =',best_order)\n",
        "        print('Best error = {:.4f}'.format(best_error))\n",
        "    return best_order,best_error,orders_errors"
      ],
      "execution_count": null,
      "outputs": []
    },
    {
      "cell_type": "code",
      "metadata": {
        "id": "NHUUNv2lHAg3"
      },
      "source": [
        "def Predict_stockprice():\n",
        "    \"\"\"\n",
        "    st - Stock number\n",
        "    the function takes stock data and performs arima forecasting followed by prediction on test data\n",
        "    \"\"\"\n",
        "    best_orders = {}\n",
        "    least_errors = {}\n",
        "    pred_close_price = np.array([])\n",
        "    for st in range(103):\n",
        "        print('Stock label =',st)\n",
        "        ts = train[train['stock']==st]['Close'].values\n",
        "        exog = train[train['stock']==st]['holiday'].values \n",
        "        \n",
        "        param_grid = {'p':[1,2,3],'q':[0,1,2],'r':[0,1,2,3]}\n",
        "        best_order,best_error,orders_errors = validate_arima_model(ts,exog,param_grid,train_size=0.8,verbose=0)\n",
        "        best_orders[st] = best_order\n",
        "        least_errors[st] = best_error\n",
        "        model_fit = train_arima(ts,exog,best_order,verbose=0)\n",
        "        k = 1\n",
        "        if model_fit==None:\n",
        "            orders_errors = sorted(orders_errors,key=lambda x:x[1],reverse=False)\n",
        "        while model_fit==None:\n",
        "            model_fit = train_arima(ts,exog,orders_errors[k][0],verbose=0)\n",
        "            best_orders[st] = orders_errors[k][0]\n",
        "            least_errors[st] = orders_errors[k][1]\n",
        "            k+=1\n",
        "        print('     Best order =',best_orders[st])\n",
        "        print('     Least error =',least_errors[st])\n",
        "        test_exog = test[test['stock']==st]['holiday'].values\n",
        "        steps = test_exog.shape[0]\n",
        "        forecasts = model_fit.forecast(steps,exog=test_exog)\n",
        "        pred_close_price = np.append(pred_close_price,forecasts[0])\n",
        "        print('')\n",
        "\n",
        "    return pred_close_price,best_orders,least_errors\n",
        "\n"
      ],
      "execution_count": null,
      "outputs": []
    },
    {
      "cell_type": "code",
      "metadata": {
        "id": "LHMM5nrQIpbS"
      },
      "source": [
        "ss = pd.read_csv(path+'SampleSubmission.csv')\n",
        "train = pd.read_csv(path+'Train.csv')\n",
        "test = pd.read_csv(path+'Test.csv')"
      ],
      "execution_count": null,
      "outputs": []
    },
    {
      "cell_type": "code",
      "metadata": {
        "colab": {
          "base_uri": "https://localhost:8080/"
        },
        "id": "PnGWEDY8HGIv",
        "outputId": "6300c263-4f3c-4d7d-8ec2-0867d0f90e19"
      },
      "source": [
        "output = Predict_stockprice()"
      ],
      "execution_count": null,
      "outputs": [
        {
          "output_type": "stream",
          "text": [
            "Stock label = 0\n",
            "     Best order = (2, 2, 0)\n",
            "     Least error = 4.320255\n",
            "\n",
            "Stock label = 1\n"
          ],
          "name": "stdout"
        },
        {
          "output_type": "stream",
          "text": [
            "/usr/local/lib/python3.6/dist-packages/statsmodels/base/model.py:492: HessianInversionWarning: Inverting hessian failed, no bse or cov_params available\n",
            "  'available', HessianInversionWarning)\n",
            "/usr/local/lib/python3.6/dist-packages/statsmodels/base/model.py:492: HessianInversionWarning: Inverting hessian failed, no bse or cov_params available\n",
            "  'available', HessianInversionWarning)\n",
            "/usr/local/lib/python3.6/dist-packages/statsmodels/base/model.py:492: HessianInversionWarning: Inverting hessian failed, no bse or cov_params available\n",
            "  'available', HessianInversionWarning)\n",
            "/usr/local/lib/python3.6/dist-packages/statsmodels/base/model.py:492: HessianInversionWarning: Inverting hessian failed, no bse or cov_params available\n",
            "  'available', HessianInversionWarning)\n",
            "/usr/local/lib/python3.6/dist-packages/statsmodels/base/model.py:492: HessianInversionWarning: Inverting hessian failed, no bse or cov_params available\n",
            "  'available', HessianInversionWarning)\n",
            "/usr/local/lib/python3.6/dist-packages/statsmodels/base/model.py:492: HessianInversionWarning: Inverting hessian failed, no bse or cov_params available\n",
            "  'available', HessianInversionWarning)\n"
          ],
          "name": "stderr"
        },
        {
          "output_type": "stream",
          "text": [
            "     Best order = (3, 1, 3)\n",
            "     Least error = 0.320498\n",
            "\n",
            "Stock label = 2\n"
          ],
          "name": "stdout"
        },
        {
          "output_type": "stream",
          "text": [
            "/usr/local/lib/python3.6/dist-packages/statsmodels/base/model.py:512: ConvergenceWarning: Maximum Likelihood optimization failed to converge. Check mle_retvals\n",
            "  \"Check mle_retvals\", ConvergenceWarning)\n",
            "/usr/local/lib/python3.6/dist-packages/statsmodels/base/model.py:492: HessianInversionWarning: Inverting hessian failed, no bse or cov_params available\n",
            "  'available', HessianInversionWarning)\n",
            "/usr/local/lib/python3.6/dist-packages/statsmodels/base/model.py:492: HessianInversionWarning: Inverting hessian failed, no bse or cov_params available\n",
            "  'available', HessianInversionWarning)\n",
            "/usr/local/lib/python3.6/dist-packages/statsmodels/base/model.py:512: ConvergenceWarning: Maximum Likelihood optimization failed to converge. Check mle_retvals\n",
            "  \"Check mle_retvals\", ConvergenceWarning)\n",
            "/usr/local/lib/python3.6/dist-packages/statsmodels/base/model.py:492: HessianInversionWarning: Inverting hessian failed, no bse or cov_params available\n",
            "  'available', HessianInversionWarning)\n",
            "/usr/local/lib/python3.6/dist-packages/statsmodels/base/model.py:512: ConvergenceWarning: Maximum Likelihood optimization failed to converge. Check mle_retvals\n",
            "  \"Check mle_retvals\", ConvergenceWarning)\n",
            "/usr/local/lib/python3.6/dist-packages/statsmodels/base/model.py:492: HessianInversionWarning: Inverting hessian failed, no bse or cov_params available\n",
            "  'available', HessianInversionWarning)\n"
          ],
          "name": "stderr"
        },
        {
          "output_type": "stream",
          "text": [
            "     Best order = (3, 2, 0)\n",
            "     Least error = 0.801626\n",
            "\n",
            "Stock label = 3\n"
          ],
          "name": "stdout"
        },
        {
          "output_type": "stream",
          "text": [
            "/usr/local/lib/python3.6/dist-packages/statsmodels/base/model.py:492: HessianInversionWarning: Inverting hessian failed, no bse or cov_params available\n",
            "  'available', HessianInversionWarning)\n",
            "/usr/local/lib/python3.6/dist-packages/statsmodels/base/model.py:492: HessianInversionWarning: Inverting hessian failed, no bse or cov_params available\n",
            "  'available', HessianInversionWarning)\n"
          ],
          "name": "stderr"
        },
        {
          "output_type": "stream",
          "text": [
            "     Best order = (3, 0, 1)\n",
            "     Least error = 2.266698\n",
            "\n",
            "Stock label = 4\n"
          ],
          "name": "stdout"
        },
        {
          "output_type": "stream",
          "text": [
            "/usr/local/lib/python3.6/dist-packages/statsmodels/base/model.py:492: HessianInversionWarning: Inverting hessian failed, no bse or cov_params available\n",
            "  'available', HessianInversionWarning)\n",
            "/usr/local/lib/python3.6/dist-packages/statsmodels/base/model.py:492: HessianInversionWarning: Inverting hessian failed, no bse or cov_params available\n",
            "  'available', HessianInversionWarning)\n",
            "/usr/local/lib/python3.6/dist-packages/statsmodels/base/model.py:512: ConvergenceWarning: Maximum Likelihood optimization failed to converge. Check mle_retvals\n",
            "  \"Check mle_retvals\", ConvergenceWarning)\n",
            "/usr/local/lib/python3.6/dist-packages/statsmodels/base/model.py:492: HessianInversionWarning: Inverting hessian failed, no bse or cov_params available\n",
            "  'available', HessianInversionWarning)\n"
          ],
          "name": "stderr"
        },
        {
          "output_type": "stream",
          "text": [
            "     Best order = (2, 2, 0)\n",
            "     Least error = 3.717611\n",
            "\n",
            "Stock label = 5\n"
          ],
          "name": "stdout"
        },
        {
          "output_type": "stream",
          "text": [
            "/usr/local/lib/python3.6/dist-packages/statsmodels/base/model.py:492: HessianInversionWarning: Inverting hessian failed, no bse or cov_params available\n",
            "  'available', HessianInversionWarning)\n",
            "/usr/local/lib/python3.6/dist-packages/statsmodels/base/model.py:492: HessianInversionWarning: Inverting hessian failed, no bse or cov_params available\n",
            "  'available', HessianInversionWarning)\n",
            "/usr/local/lib/python3.6/dist-packages/statsmodels/base/model.py:492: HessianInversionWarning: Inverting hessian failed, no bse or cov_params available\n",
            "  'available', HessianInversionWarning)\n",
            "/usr/local/lib/python3.6/dist-packages/statsmodels/base/model.py:492: HessianInversionWarning: Inverting hessian failed, no bse or cov_params available\n",
            "  'available', HessianInversionWarning)\n"
          ],
          "name": "stderr"
        },
        {
          "output_type": "stream",
          "text": [
            "     Best order = (2, 0, 1)\n",
            "     Least error = 15.168427\n",
            "\n",
            "Stock label = 6\n"
          ],
          "name": "stdout"
        },
        {
          "output_type": "stream",
          "text": [
            "/usr/local/lib/python3.6/dist-packages/statsmodels/base/model.py:492: HessianInversionWarning: Inverting hessian failed, no bse or cov_params available\n",
            "  'available', HessianInversionWarning)\n",
            "/usr/local/lib/python3.6/dist-packages/statsmodels/base/model.py:492: HessianInversionWarning: Inverting hessian failed, no bse or cov_params available\n",
            "  'available', HessianInversionWarning)\n",
            "/usr/local/lib/python3.6/dist-packages/statsmodels/base/model.py:492: HessianInversionWarning: Inverting hessian failed, no bse or cov_params available\n",
            "  'available', HessianInversionWarning)\n"
          ],
          "name": "stderr"
        },
        {
          "output_type": "stream",
          "text": [
            "     Best order = (2, 2, 1)\n",
            "     Least error = 1.735413\n",
            "\n",
            "Stock label = 7\n"
          ],
          "name": "stdout"
        },
        {
          "output_type": "stream",
          "text": [
            "/usr/local/lib/python3.6/dist-packages/statsmodels/base/model.py:492: HessianInversionWarning: Inverting hessian failed, no bse or cov_params available\n",
            "  'available', HessianInversionWarning)\n"
          ],
          "name": "stderr"
        },
        {
          "output_type": "stream",
          "text": [
            "     Best order = (3, 2, 3)\n",
            "     Least error = 3.618388\n",
            "\n",
            "Stock label = 8\n"
          ],
          "name": "stdout"
        },
        {
          "output_type": "stream",
          "text": [
            "/usr/local/lib/python3.6/dist-packages/statsmodels/base/model.py:492: HessianInversionWarning: Inverting hessian failed, no bse or cov_params available\n",
            "  'available', HessianInversionWarning)\n",
            "/usr/local/lib/python3.6/dist-packages/statsmodels/base/model.py:512: ConvergenceWarning: Maximum Likelihood optimization failed to converge. Check mle_retvals\n",
            "  \"Check mle_retvals\", ConvergenceWarning)\n",
            "/usr/local/lib/python3.6/dist-packages/statsmodels/base/model.py:492: HessianInversionWarning: Inverting hessian failed, no bse or cov_params available\n",
            "  'available', HessianInversionWarning)\n",
            "/usr/local/lib/python3.6/dist-packages/statsmodels/base/model.py:492: HessianInversionWarning: Inverting hessian failed, no bse or cov_params available\n",
            "  'available', HessianInversionWarning)\n"
          ],
          "name": "stderr"
        },
        {
          "output_type": "stream",
          "text": [
            "     Best order = (2, 1, 1)\n",
            "     Least error = 0.571607\n",
            "\n",
            "Stock label = 9\n"
          ],
          "name": "stdout"
        },
        {
          "output_type": "stream",
          "text": [
            "/usr/local/lib/python3.6/dist-packages/statsmodels/base/model.py:492: HessianInversionWarning: Inverting hessian failed, no bse or cov_params available\n",
            "  'available', HessianInversionWarning)\n",
            "/usr/local/lib/python3.6/dist-packages/statsmodels/base/model.py:512: ConvergenceWarning: Maximum Likelihood optimization failed to converge. Check mle_retvals\n",
            "  \"Check mle_retvals\", ConvergenceWarning)\n",
            "/usr/local/lib/python3.6/dist-packages/statsmodels/base/model.py:512: ConvergenceWarning: Maximum Likelihood optimization failed to converge. Check mle_retvals\n",
            "  \"Check mle_retvals\", ConvergenceWarning)\n",
            "/usr/local/lib/python3.6/dist-packages/statsmodels/base/model.py:492: HessianInversionWarning: Inverting hessian failed, no bse or cov_params available\n",
            "  'available', HessianInversionWarning)\n",
            "/usr/local/lib/python3.6/dist-packages/statsmodels/base/model.py:512: ConvergenceWarning: Maximum Likelihood optimization failed to converge. Check mle_retvals\n",
            "  \"Check mle_retvals\", ConvergenceWarning)\n"
          ],
          "name": "stderr"
        },
        {
          "output_type": "stream",
          "text": [
            "     Best order = (2, 2, 3)\n",
            "     Least error = 3.919293\n",
            "\n",
            "Stock label = 10\n"
          ],
          "name": "stdout"
        },
        {
          "output_type": "stream",
          "text": [
            "/usr/local/lib/python3.6/dist-packages/statsmodels/base/model.py:492: HessianInversionWarning: Inverting hessian failed, no bse or cov_params available\n",
            "  'available', HessianInversionWarning)\n",
            "/usr/local/lib/python3.6/dist-packages/statsmodels/base/model.py:492: HessianInversionWarning: Inverting hessian failed, no bse or cov_params available\n",
            "  'available', HessianInversionWarning)\n",
            "/usr/local/lib/python3.6/dist-packages/statsmodels/base/model.py:492: HessianInversionWarning: Inverting hessian failed, no bse or cov_params available\n",
            "  'available', HessianInversionWarning)\n"
          ],
          "name": "stderr"
        },
        {
          "output_type": "stream",
          "text": [
            "     Best order = (3, 1, 0)\n",
            "     Least error = 0.631388\n",
            "\n",
            "Stock label = 11\n"
          ],
          "name": "stdout"
        },
        {
          "output_type": "stream",
          "text": [
            "/usr/local/lib/python3.6/dist-packages/statsmodels/base/model.py:492: HessianInversionWarning: Inverting hessian failed, no bse or cov_params available\n",
            "  'available', HessianInversionWarning)\n",
            "/usr/local/lib/python3.6/dist-packages/statsmodels/base/model.py:492: HessianInversionWarning: Inverting hessian failed, no bse or cov_params available\n",
            "  'available', HessianInversionWarning)\n"
          ],
          "name": "stderr"
        },
        {
          "output_type": "stream",
          "text": [
            "     Best order = (2, 1, 3)\n",
            "     Least error = 1.605778\n",
            "\n",
            "Stock label = 12\n"
          ],
          "name": "stdout"
        },
        {
          "output_type": "stream",
          "text": [
            "/usr/local/lib/python3.6/dist-packages/statsmodels/base/model.py:492: HessianInversionWarning: Inverting hessian failed, no bse or cov_params available\n",
            "  'available', HessianInversionWarning)\n",
            "/usr/local/lib/python3.6/dist-packages/statsmodels/base/model.py:512: ConvergenceWarning: Maximum Likelihood optimization failed to converge. Check mle_retvals\n",
            "  \"Check mle_retvals\", ConvergenceWarning)\n",
            "/usr/local/lib/python3.6/dist-packages/statsmodels/base/model.py:492: HessianInversionWarning: Inverting hessian failed, no bse or cov_params available\n",
            "  'available', HessianInversionWarning)\n",
            "/usr/local/lib/python3.6/dist-packages/statsmodels/base/model.py:512: ConvergenceWarning: Maximum Likelihood optimization failed to converge. Check mle_retvals\n",
            "  \"Check mle_retvals\", ConvergenceWarning)\n"
          ],
          "name": "stderr"
        },
        {
          "output_type": "stream",
          "text": [
            "     Best order = (3, 0, 0)\n",
            "     Least error = 6.529337\n",
            "\n",
            "Stock label = 13\n"
          ],
          "name": "stdout"
        },
        {
          "output_type": "stream",
          "text": [
            "/usr/local/lib/python3.6/dist-packages/statsmodels/base/model.py:492: HessianInversionWarning: Inverting hessian failed, no bse or cov_params available\n",
            "  'available', HessianInversionWarning)\n",
            "/usr/local/lib/python3.6/dist-packages/statsmodels/base/model.py:492: HessianInversionWarning: Inverting hessian failed, no bse or cov_params available\n",
            "  'available', HessianInversionWarning)\n",
            "/usr/local/lib/python3.6/dist-packages/statsmodels/base/model.py:512: ConvergenceWarning: Maximum Likelihood optimization failed to converge. Check mle_retvals\n",
            "  \"Check mle_retvals\", ConvergenceWarning)\n"
          ],
          "name": "stderr"
        },
        {
          "output_type": "stream",
          "text": [
            "     Best order = (2, 2, 1)\n",
            "     Least error = 1.556234\n",
            "\n",
            "Stock label = 14\n"
          ],
          "name": "stdout"
        },
        {
          "output_type": "stream",
          "text": [
            "/usr/local/lib/python3.6/dist-packages/statsmodels/base/model.py:492: HessianInversionWarning: Inverting hessian failed, no bse or cov_params available\n",
            "  'available', HessianInversionWarning)\n",
            "/usr/local/lib/python3.6/dist-packages/statsmodels/base/model.py:492: HessianInversionWarning: Inverting hessian failed, no bse or cov_params available\n",
            "  'available', HessianInversionWarning)\n",
            "/usr/local/lib/python3.6/dist-packages/statsmodels/base/model.py:492: HessianInversionWarning: Inverting hessian failed, no bse or cov_params available\n",
            "  'available', HessianInversionWarning)\n",
            "/usr/local/lib/python3.6/dist-packages/statsmodels/base/model.py:492: HessianInversionWarning: Inverting hessian failed, no bse or cov_params available\n",
            "  'available', HessianInversionWarning)\n",
            "/usr/local/lib/python3.6/dist-packages/statsmodels/base/model.py:492: HessianInversionWarning: Inverting hessian failed, no bse or cov_params available\n",
            "  'available', HessianInversionWarning)\n"
          ],
          "name": "stderr"
        },
        {
          "output_type": "stream",
          "text": [
            "     Best order = (2, 1, 1)\n",
            "     Least error = 0.501014\n",
            "\n",
            "Stock label = 15\n"
          ],
          "name": "stdout"
        },
        {
          "output_type": "stream",
          "text": [
            "/usr/local/lib/python3.6/dist-packages/statsmodels/base/model.py:492: HessianInversionWarning: Inverting hessian failed, no bse or cov_params available\n",
            "  'available', HessianInversionWarning)\n",
            "/usr/local/lib/python3.6/dist-packages/statsmodels/base/model.py:492: HessianInversionWarning: Inverting hessian failed, no bse or cov_params available\n",
            "  'available', HessianInversionWarning)\n",
            "/usr/local/lib/python3.6/dist-packages/statsmodels/base/model.py:492: HessianInversionWarning: Inverting hessian failed, no bse or cov_params available\n",
            "  'available', HessianInversionWarning)\n",
            "/usr/local/lib/python3.6/dist-packages/statsmodels/base/model.py:492: HessianInversionWarning: Inverting hessian failed, no bse or cov_params available\n",
            "  'available', HessianInversionWarning)\n",
            "/usr/local/lib/python3.6/dist-packages/statsmodels/base/model.py:492: HessianInversionWarning: Inverting hessian failed, no bse or cov_params available\n",
            "  'available', HessianInversionWarning)\n"
          ],
          "name": "stderr"
        },
        {
          "output_type": "stream",
          "text": [
            "     Best order = (3, 2, 3)\n",
            "     Least error = 0.170017\n",
            "\n",
            "Stock label = 16\n"
          ],
          "name": "stdout"
        },
        {
          "output_type": "stream",
          "text": [
            "/usr/local/lib/python3.6/dist-packages/statsmodels/base/model.py:512: ConvergenceWarning: Maximum Likelihood optimization failed to converge. Check mle_retvals\n",
            "  \"Check mle_retvals\", ConvergenceWarning)\n",
            "/usr/local/lib/python3.6/dist-packages/statsmodels/base/model.py:492: HessianInversionWarning: Inverting hessian failed, no bse or cov_params available\n",
            "  'available', HessianInversionWarning)\n",
            "/usr/local/lib/python3.6/dist-packages/statsmodels/base/model.py:492: HessianInversionWarning: Inverting hessian failed, no bse or cov_params available\n",
            "  'available', HessianInversionWarning)\n",
            "/usr/local/lib/python3.6/dist-packages/statsmodels/base/model.py:492: HessianInversionWarning: Inverting hessian failed, no bse or cov_params available\n",
            "  'available', HessianInversionWarning)\n",
            "/usr/local/lib/python3.6/dist-packages/statsmodels/base/model.py:512: ConvergenceWarning: Maximum Likelihood optimization failed to converge. Check mle_retvals\n",
            "  \"Check mle_retvals\", ConvergenceWarning)\n",
            "/usr/local/lib/python3.6/dist-packages/statsmodels/base/model.py:492: HessianInversionWarning: Inverting hessian failed, no bse or cov_params available\n",
            "  'available', HessianInversionWarning)\n"
          ],
          "name": "stderr"
        },
        {
          "output_type": "stream",
          "text": [
            "     Best order = (3, 2, 2)\n",
            "     Least error = 1.550155\n",
            "\n",
            "Stock label = 17\n"
          ],
          "name": "stdout"
        },
        {
          "output_type": "stream",
          "text": [
            "/usr/local/lib/python3.6/dist-packages/statsmodels/base/model.py:492: HessianInversionWarning: Inverting hessian failed, no bse or cov_params available\n",
            "  'available', HessianInversionWarning)\n",
            "/usr/local/lib/python3.6/dist-packages/statsmodels/base/model.py:492: HessianInversionWarning: Inverting hessian failed, no bse or cov_params available\n",
            "  'available', HessianInversionWarning)\n",
            "/usr/local/lib/python3.6/dist-packages/statsmodels/base/model.py:492: HessianInversionWarning: Inverting hessian failed, no bse or cov_params available\n",
            "  'available', HessianInversionWarning)\n",
            "/usr/local/lib/python3.6/dist-packages/statsmodels/base/model.py:492: HessianInversionWarning: Inverting hessian failed, no bse or cov_params available\n",
            "  'available', HessianInversionWarning)\n"
          ],
          "name": "stderr"
        },
        {
          "output_type": "stream",
          "text": [
            "     Best order = (1, 2, 3)\n",
            "     Least error = 0.571183\n",
            "\n",
            "Stock label = 18\n"
          ],
          "name": "stdout"
        },
        {
          "output_type": "stream",
          "text": [
            "/usr/local/lib/python3.6/dist-packages/statsmodels/base/model.py:492: HessianInversionWarning: Inverting hessian failed, no bse or cov_params available\n",
            "  'available', HessianInversionWarning)\n"
          ],
          "name": "stderr"
        },
        {
          "output_type": "stream",
          "text": [
            "     Best order = (3, 1, 0)\n",
            "     Least error = 1.617557\n",
            "\n",
            "Stock label = 19\n"
          ],
          "name": "stdout"
        },
        {
          "output_type": "stream",
          "text": [
            "/usr/local/lib/python3.6/dist-packages/statsmodels/base/model.py:492: HessianInversionWarning: Inverting hessian failed, no bse or cov_params available\n",
            "  'available', HessianInversionWarning)\n",
            "/usr/local/lib/python3.6/dist-packages/statsmodels/base/model.py:492: HessianInversionWarning: Inverting hessian failed, no bse or cov_params available\n",
            "  'available', HessianInversionWarning)\n",
            "/usr/local/lib/python3.6/dist-packages/statsmodels/base/model.py:492: HessianInversionWarning: Inverting hessian failed, no bse or cov_params available\n",
            "  'available', HessianInversionWarning)\n",
            "/usr/local/lib/python3.6/dist-packages/statsmodels/base/model.py:512: ConvergenceWarning: Maximum Likelihood optimization failed to converge. Check mle_retvals\n",
            "  \"Check mle_retvals\", ConvergenceWarning)\n"
          ],
          "name": "stderr"
        },
        {
          "output_type": "stream",
          "text": [
            "     Best order = (3, 0, 3)\n",
            "     Least error = 2.239978\n",
            "\n",
            "Stock label = 20\n"
          ],
          "name": "stdout"
        },
        {
          "output_type": "stream",
          "text": [
            "/usr/local/lib/python3.6/dist-packages/statsmodels/base/model.py:492: HessianInversionWarning: Inverting hessian failed, no bse or cov_params available\n",
            "  'available', HessianInversionWarning)\n"
          ],
          "name": "stderr"
        },
        {
          "output_type": "stream",
          "text": [
            "     Best order = (2, 1, 0)\n",
            "     Least error = 1.094566\n",
            "\n",
            "Stock label = 21\n"
          ],
          "name": "stdout"
        },
        {
          "output_type": "stream",
          "text": [
            "/usr/local/lib/python3.6/dist-packages/statsmodels/base/model.py:492: HessianInversionWarning: Inverting hessian failed, no bse or cov_params available\n",
            "  'available', HessianInversionWarning)\n",
            "/usr/local/lib/python3.6/dist-packages/statsmodels/base/model.py:492: HessianInversionWarning: Inverting hessian failed, no bse or cov_params available\n",
            "  'available', HessianInversionWarning)\n"
          ],
          "name": "stderr"
        },
        {
          "output_type": "stream",
          "text": [
            "     Best order = (3, 1, 3)\n",
            "     Least error = 1.195867\n",
            "\n",
            "Stock label = 22\n"
          ],
          "name": "stdout"
        },
        {
          "output_type": "stream",
          "text": [
            "/usr/local/lib/python3.6/dist-packages/statsmodels/base/model.py:492: HessianInversionWarning: Inverting hessian failed, no bse or cov_params available\n",
            "  'available', HessianInversionWarning)\n",
            "/usr/local/lib/python3.6/dist-packages/statsmodels/base/model.py:492: HessianInversionWarning: Inverting hessian failed, no bse or cov_params available\n",
            "  'available', HessianInversionWarning)\n"
          ],
          "name": "stderr"
        },
        {
          "output_type": "stream",
          "text": [
            "     Best order = (2, 0, 3)\n",
            "     Least error = 2.139705\n",
            "\n",
            "Stock label = 23\n"
          ],
          "name": "stdout"
        },
        {
          "output_type": "stream",
          "text": [
            "/usr/local/lib/python3.6/dist-packages/statsmodels/base/model.py:512: ConvergenceWarning: Maximum Likelihood optimization failed to converge. Check mle_retvals\n",
            "  \"Check mle_retvals\", ConvergenceWarning)\n",
            "/usr/local/lib/python3.6/dist-packages/statsmodels/base/model.py:512: ConvergenceWarning: Maximum Likelihood optimization failed to converge. Check mle_retvals\n",
            "  \"Check mle_retvals\", ConvergenceWarning)\n",
            "/usr/local/lib/python3.6/dist-packages/statsmodels/base/model.py:492: HessianInversionWarning: Inverting hessian failed, no bse or cov_params available\n",
            "  'available', HessianInversionWarning)\n",
            "/usr/local/lib/python3.6/dist-packages/statsmodels/base/model.py:492: HessianInversionWarning: Inverting hessian failed, no bse or cov_params available\n",
            "  'available', HessianInversionWarning)\n"
          ],
          "name": "stderr"
        },
        {
          "output_type": "stream",
          "text": [
            "     Best order = (1, 2, 3)\n",
            "     Least error = 0.712014\n",
            "\n",
            "Stock label = 24\n"
          ],
          "name": "stdout"
        },
        {
          "output_type": "stream",
          "text": [
            "/usr/local/lib/python3.6/dist-packages/statsmodels/base/model.py:492: HessianInversionWarning: Inverting hessian failed, no bse or cov_params available\n",
            "  'available', HessianInversionWarning)\n",
            "/usr/local/lib/python3.6/dist-packages/statsmodels/base/model.py:512: ConvergenceWarning: Maximum Likelihood optimization failed to converge. Check mle_retvals\n",
            "  \"Check mle_retvals\", ConvergenceWarning)\n",
            "/usr/local/lib/python3.6/dist-packages/statsmodels/base/model.py:492: HessianInversionWarning: Inverting hessian failed, no bse or cov_params available\n",
            "  'available', HessianInversionWarning)\n",
            "/usr/local/lib/python3.6/dist-packages/statsmodels/base/model.py:512: ConvergenceWarning: Maximum Likelihood optimization failed to converge. Check mle_retvals\n",
            "  \"Check mle_retvals\", ConvergenceWarning)\n"
          ],
          "name": "stderr"
        },
        {
          "output_type": "stream",
          "text": [
            "     Best order = (1, 1, 0)\n",
            "     Least error = 1.174622\n",
            "\n",
            "Stock label = 25\n"
          ],
          "name": "stdout"
        },
        {
          "output_type": "stream",
          "text": [
            "/usr/local/lib/python3.6/dist-packages/statsmodels/base/model.py:492: HessianInversionWarning: Inverting hessian failed, no bse or cov_params available\n",
            "  'available', HessianInversionWarning)\n",
            "/usr/local/lib/python3.6/dist-packages/statsmodels/base/model.py:492: HessianInversionWarning: Inverting hessian failed, no bse or cov_params available\n",
            "  'available', HessianInversionWarning)\n",
            "/usr/local/lib/python3.6/dist-packages/statsmodels/base/model.py:492: HessianInversionWarning: Inverting hessian failed, no bse or cov_params available\n",
            "  'available', HessianInversionWarning)\n"
          ],
          "name": "stderr"
        },
        {
          "output_type": "stream",
          "text": [
            "     Best order = (3, 1, 3)\n",
            "     Least error = 0.927995\n",
            "\n",
            "Stock label = 26\n"
          ],
          "name": "stdout"
        },
        {
          "output_type": "stream",
          "text": [
            "/usr/local/lib/python3.6/dist-packages/statsmodels/base/model.py:492: HessianInversionWarning: Inverting hessian failed, no bse or cov_params available\n",
            "  'available', HessianInversionWarning)\n",
            "/usr/local/lib/python3.6/dist-packages/statsmodels/base/model.py:512: ConvergenceWarning: Maximum Likelihood optimization failed to converge. Check mle_retvals\n",
            "  \"Check mle_retvals\", ConvergenceWarning)\n"
          ],
          "name": "stderr"
        },
        {
          "output_type": "stream",
          "text": [
            "     Best order = (3, 2, 2)\n",
            "     Least error = 4.313254\n",
            "\n",
            "Stock label = 27\n"
          ],
          "name": "stdout"
        },
        {
          "output_type": "stream",
          "text": [
            "/usr/local/lib/python3.6/dist-packages/statsmodels/base/model.py:492: HessianInversionWarning: Inverting hessian failed, no bse or cov_params available\n",
            "  'available', HessianInversionWarning)\n",
            "/usr/local/lib/python3.6/dist-packages/statsmodels/base/model.py:492: HessianInversionWarning: Inverting hessian failed, no bse or cov_params available\n",
            "  'available', HessianInversionWarning)\n",
            "/usr/local/lib/python3.6/dist-packages/statsmodels/base/model.py:492: HessianInversionWarning: Inverting hessian failed, no bse or cov_params available\n",
            "  'available', HessianInversionWarning)\n"
          ],
          "name": "stderr"
        },
        {
          "output_type": "stream",
          "text": [
            "     Best order = (2, 2, 3)\n",
            "     Least error = 2.365539\n",
            "\n",
            "Stock label = 28\n",
            "     Best order = (2, 0, 3)\n",
            "     Least error = 1.34883\n",
            "\n",
            "Stock label = 29\n"
          ],
          "name": "stdout"
        },
        {
          "output_type": "stream",
          "text": [
            "/usr/local/lib/python3.6/dist-packages/statsmodels/base/model.py:492: HessianInversionWarning: Inverting hessian failed, no bse or cov_params available\n",
            "  'available', HessianInversionWarning)\n",
            "/usr/local/lib/python3.6/dist-packages/statsmodels/base/model.py:492: HessianInversionWarning: Inverting hessian failed, no bse or cov_params available\n",
            "  'available', HessianInversionWarning)\n",
            "/usr/local/lib/python3.6/dist-packages/statsmodels/base/model.py:492: HessianInversionWarning: Inverting hessian failed, no bse or cov_params available\n",
            "  'available', HessianInversionWarning)\n",
            "/usr/local/lib/python3.6/dist-packages/statsmodels/base/model.py:492: HessianInversionWarning: Inverting hessian failed, no bse or cov_params available\n",
            "  'available', HessianInversionWarning)\n",
            "/usr/local/lib/python3.6/dist-packages/statsmodels/base/model.py:492: HessianInversionWarning: Inverting hessian failed, no bse or cov_params available\n",
            "  'available', HessianInversionWarning)\n",
            "/usr/local/lib/python3.6/dist-packages/statsmodels/base/model.py:492: HessianInversionWarning: Inverting hessian failed, no bse or cov_params available\n",
            "  'available', HessianInversionWarning)\n"
          ],
          "name": "stderr"
        },
        {
          "output_type": "stream",
          "text": [
            "     Best order = (2, 2, 0)\n",
            "     Least error = 0.597134\n",
            "\n",
            "Stock label = 30\n"
          ],
          "name": "stdout"
        },
        {
          "output_type": "stream",
          "text": [
            "/usr/local/lib/python3.6/dist-packages/statsmodels/base/model.py:492: HessianInversionWarning: Inverting hessian failed, no bse or cov_params available\n",
            "  'available', HessianInversionWarning)\n",
            "/usr/local/lib/python3.6/dist-packages/statsmodels/base/model.py:492: HessianInversionWarning: Inverting hessian failed, no bse or cov_params available\n",
            "  'available', HessianInversionWarning)\n",
            "/usr/local/lib/python3.6/dist-packages/statsmodels/base/model.py:492: HessianInversionWarning: Inverting hessian failed, no bse or cov_params available\n",
            "  'available', HessianInversionWarning)\n"
          ],
          "name": "stderr"
        },
        {
          "output_type": "stream",
          "text": [
            "     Best order = (3, 0, 2)\n",
            "     Least error = 1.041365\n",
            "\n",
            "Stock label = 31\n"
          ],
          "name": "stdout"
        },
        {
          "output_type": "stream",
          "text": [
            "/usr/local/lib/python3.6/dist-packages/statsmodels/base/model.py:492: HessianInversionWarning: Inverting hessian failed, no bse or cov_params available\n",
            "  'available', HessianInversionWarning)\n",
            "/usr/local/lib/python3.6/dist-packages/statsmodels/base/model.py:492: HessianInversionWarning: Inverting hessian failed, no bse or cov_params available\n",
            "  'available', HessianInversionWarning)\n"
          ],
          "name": "stderr"
        },
        {
          "output_type": "stream",
          "text": [
            "     Best order = (2, 1, 1)\n",
            "     Least error = 2.204148\n",
            "\n",
            "Stock label = 32\n"
          ],
          "name": "stdout"
        },
        {
          "output_type": "stream",
          "text": [
            "/usr/local/lib/python3.6/dist-packages/statsmodels/base/model.py:492: HessianInversionWarning: Inverting hessian failed, no bse or cov_params available\n",
            "  'available', HessianInversionWarning)\n",
            "/usr/local/lib/python3.6/dist-packages/statsmodels/base/model.py:492: HessianInversionWarning: Inverting hessian failed, no bse or cov_params available\n",
            "  'available', HessianInversionWarning)\n",
            "/usr/local/lib/python3.6/dist-packages/statsmodels/base/model.py:492: HessianInversionWarning: Inverting hessian failed, no bse or cov_params available\n",
            "  'available', HessianInversionWarning)\n",
            "/usr/local/lib/python3.6/dist-packages/statsmodels/base/model.py:492: HessianInversionWarning: Inverting hessian failed, no bse or cov_params available\n",
            "  'available', HessianInversionWarning)\n",
            "/usr/local/lib/python3.6/dist-packages/statsmodels/base/model.py:492: HessianInversionWarning: Inverting hessian failed, no bse or cov_params available\n",
            "  'available', HessianInversionWarning)\n"
          ],
          "name": "stderr"
        },
        {
          "output_type": "stream",
          "text": [
            "     Best order = (3, 0, 3)\n",
            "     Least error = 1.072077\n",
            "\n",
            "Stock label = 33\n"
          ],
          "name": "stdout"
        },
        {
          "output_type": "stream",
          "text": [
            "/usr/local/lib/python3.6/dist-packages/statsmodels/base/model.py:492: HessianInversionWarning: Inverting hessian failed, no bse or cov_params available\n",
            "  'available', HessianInversionWarning)\n",
            "/usr/local/lib/python3.6/dist-packages/statsmodels/base/model.py:492: HessianInversionWarning: Inverting hessian failed, no bse or cov_params available\n",
            "  'available', HessianInversionWarning)\n"
          ],
          "name": "stderr"
        },
        {
          "output_type": "stream",
          "text": [
            "     Best order = (3, 0, 0)\n",
            "     Least error = 1.834975\n",
            "\n",
            "Stock label = 34\n"
          ],
          "name": "stdout"
        },
        {
          "output_type": "stream",
          "text": [
            "/usr/local/lib/python3.6/dist-packages/statsmodels/base/model.py:492: HessianInversionWarning: Inverting hessian failed, no bse or cov_params available\n",
            "  'available', HessianInversionWarning)\n",
            "/usr/local/lib/python3.6/dist-packages/statsmodels/base/model.py:492: HessianInversionWarning: Inverting hessian failed, no bse or cov_params available\n",
            "  'available', HessianInversionWarning)\n"
          ],
          "name": "stderr"
        },
        {
          "output_type": "stream",
          "text": [
            "     Best order = (1, 1, 0)\n",
            "     Least error = 1.803288\n",
            "\n",
            "Stock label = 35\n"
          ],
          "name": "stdout"
        },
        {
          "output_type": "stream",
          "text": [
            "/usr/local/lib/python3.6/dist-packages/statsmodels/base/model.py:492: HessianInversionWarning: Inverting hessian failed, no bse or cov_params available\n",
            "  'available', HessianInversionWarning)\n"
          ],
          "name": "stderr"
        },
        {
          "output_type": "stream",
          "text": [
            "     Best order = (3, 0, 2)\n",
            "     Least error = 1.779814\n",
            "\n",
            "Stock label = 36\n"
          ],
          "name": "stdout"
        },
        {
          "output_type": "stream",
          "text": [
            "/usr/local/lib/python3.6/dist-packages/statsmodels/base/model.py:492: HessianInversionWarning: Inverting hessian failed, no bse or cov_params available\n",
            "  'available', HessianInversionWarning)\n",
            "/usr/local/lib/python3.6/dist-packages/statsmodels/base/model.py:492: HessianInversionWarning: Inverting hessian failed, no bse or cov_params available\n",
            "  'available', HessianInversionWarning)\n",
            "/usr/local/lib/python3.6/dist-packages/statsmodels/base/model.py:512: ConvergenceWarning: Maximum Likelihood optimization failed to converge. Check mle_retvals\n",
            "  \"Check mle_retvals\", ConvergenceWarning)\n",
            "/usr/local/lib/python3.6/dist-packages/statsmodels/base/model.py:492: HessianInversionWarning: Inverting hessian failed, no bse or cov_params available\n",
            "  'available', HessianInversionWarning)\n"
          ],
          "name": "stderr"
        },
        {
          "output_type": "stream",
          "text": [
            "     Best order = (3, 1, 2)\n",
            "     Least error = 4.52623\n",
            "\n",
            "Stock label = 37\n"
          ],
          "name": "stdout"
        },
        {
          "output_type": "stream",
          "text": [
            "/usr/local/lib/python3.6/dist-packages/statsmodels/base/model.py:492: HessianInversionWarning: Inverting hessian failed, no bse or cov_params available\n",
            "  'available', HessianInversionWarning)\n",
            "/usr/local/lib/python3.6/dist-packages/statsmodels/base/model.py:492: HessianInversionWarning: Inverting hessian failed, no bse or cov_params available\n",
            "  'available', HessianInversionWarning)\n"
          ],
          "name": "stderr"
        },
        {
          "output_type": "stream",
          "text": [
            "     Best order = (3, 2, 0)\n",
            "     Least error = 0.930897\n",
            "\n",
            "Stock label = 38\n"
          ],
          "name": "stdout"
        },
        {
          "output_type": "stream",
          "text": [
            "/usr/local/lib/python3.6/dist-packages/statsmodels/base/model.py:492: HessianInversionWarning: Inverting hessian failed, no bse or cov_params available\n",
            "  'available', HessianInversionWarning)\n",
            "/usr/local/lib/python3.6/dist-packages/statsmodels/base/model.py:492: HessianInversionWarning: Inverting hessian failed, no bse or cov_params available\n",
            "  'available', HessianInversionWarning)\n",
            "/usr/local/lib/python3.6/dist-packages/statsmodels/base/model.py:492: HessianInversionWarning: Inverting hessian failed, no bse or cov_params available\n",
            "  'available', HessianInversionWarning)\n",
            "/usr/local/lib/python3.6/dist-packages/statsmodels/base/model.py:492: HessianInversionWarning: Inverting hessian failed, no bse or cov_params available\n",
            "  'available', HessianInversionWarning)\n"
          ],
          "name": "stderr"
        },
        {
          "output_type": "stream",
          "text": [
            "     Best order = (2, 2, 3)\n",
            "     Least error = 1.70525\n",
            "\n",
            "Stock label = 39\n"
          ],
          "name": "stdout"
        },
        {
          "output_type": "stream",
          "text": [
            "/usr/local/lib/python3.6/dist-packages/statsmodels/base/model.py:512: ConvergenceWarning: Maximum Likelihood optimization failed to converge. Check mle_retvals\n",
            "  \"Check mle_retvals\", ConvergenceWarning)\n",
            "/usr/local/lib/python3.6/dist-packages/statsmodels/base/model.py:492: HessianInversionWarning: Inverting hessian failed, no bse or cov_params available\n",
            "  'available', HessianInversionWarning)\n",
            "/usr/local/lib/python3.6/dist-packages/statsmodels/base/model.py:492: HessianInversionWarning: Inverting hessian failed, no bse or cov_params available\n",
            "  'available', HessianInversionWarning)\n",
            "/usr/local/lib/python3.6/dist-packages/statsmodels/base/model.py:492: HessianInversionWarning: Inverting hessian failed, no bse or cov_params available\n",
            "  'available', HessianInversionWarning)\n"
          ],
          "name": "stderr"
        },
        {
          "output_type": "stream",
          "text": [
            "     Best order = (1, 2, 2)\n",
            "     Least error = 1.547962\n",
            "\n",
            "Stock label = 40\n"
          ],
          "name": "stdout"
        },
        {
          "output_type": "stream",
          "text": [
            "/usr/local/lib/python3.6/dist-packages/statsmodels/base/model.py:492: HessianInversionWarning: Inverting hessian failed, no bse or cov_params available\n",
            "  'available', HessianInversionWarning)\n",
            "/usr/local/lib/python3.6/dist-packages/statsmodels/base/model.py:492: HessianInversionWarning: Inverting hessian failed, no bse or cov_params available\n",
            "  'available', HessianInversionWarning)\n"
          ],
          "name": "stderr"
        },
        {
          "output_type": "stream",
          "text": [
            "     Best order = (2, 1, 1)\n",
            "     Least error = 0.334932\n",
            "\n",
            "Stock label = 41\n"
          ],
          "name": "stdout"
        },
        {
          "output_type": "stream",
          "text": [
            "/usr/local/lib/python3.6/dist-packages/statsmodels/base/model.py:492: HessianInversionWarning: Inverting hessian failed, no bse or cov_params available\n",
            "  'available', HessianInversionWarning)\n",
            "/usr/local/lib/python3.6/dist-packages/statsmodels/base/model.py:512: ConvergenceWarning: Maximum Likelihood optimization failed to converge. Check mle_retvals\n",
            "  \"Check mle_retvals\", ConvergenceWarning)\n",
            "/usr/local/lib/python3.6/dist-packages/statsmodels/base/model.py:492: HessianInversionWarning: Inverting hessian failed, no bse or cov_params available\n",
            "  'available', HessianInversionWarning)\n"
          ],
          "name": "stderr"
        },
        {
          "output_type": "stream",
          "text": [
            "     Best order = (3, 0, 3)\n",
            "     Least error = 6.097526\n",
            "\n",
            "Stock label = 42\n"
          ],
          "name": "stdout"
        },
        {
          "output_type": "stream",
          "text": [
            "/usr/local/lib/python3.6/dist-packages/statsmodels/base/model.py:492: HessianInversionWarning: Inverting hessian failed, no bse or cov_params available\n",
            "  'available', HessianInversionWarning)\n",
            "/usr/local/lib/python3.6/dist-packages/statsmodels/base/model.py:492: HessianInversionWarning: Inverting hessian failed, no bse or cov_params available\n",
            "  'available', HessianInversionWarning)\n",
            "/usr/local/lib/python3.6/dist-packages/statsmodels/base/model.py:492: HessianInversionWarning: Inverting hessian failed, no bse or cov_params available\n",
            "  'available', HessianInversionWarning)\n",
            "/usr/local/lib/python3.6/dist-packages/statsmodels/base/model.py:492: HessianInversionWarning: Inverting hessian failed, no bse or cov_params available\n",
            "  'available', HessianInversionWarning)\n"
          ],
          "name": "stderr"
        },
        {
          "output_type": "stream",
          "text": [
            "     Best order = (2, 2, 3)\n",
            "     Least error = 3.068776\n",
            "\n",
            "Stock label = 43\n"
          ],
          "name": "stdout"
        },
        {
          "output_type": "stream",
          "text": [
            "/usr/local/lib/python3.6/dist-packages/statsmodels/base/model.py:492: HessianInversionWarning: Inverting hessian failed, no bse or cov_params available\n",
            "  'available', HessianInversionWarning)\n",
            "/usr/local/lib/python3.6/dist-packages/statsmodels/base/model.py:492: HessianInversionWarning: Inverting hessian failed, no bse or cov_params available\n",
            "  'available', HessianInversionWarning)\n",
            "/usr/local/lib/python3.6/dist-packages/statsmodels/base/model.py:492: HessianInversionWarning: Inverting hessian failed, no bse or cov_params available\n",
            "  'available', HessianInversionWarning)\n",
            "/usr/local/lib/python3.6/dist-packages/statsmodels/base/model.py:492: HessianInversionWarning: Inverting hessian failed, no bse or cov_params available\n",
            "  'available', HessianInversionWarning)\n"
          ],
          "name": "stderr"
        },
        {
          "output_type": "stream",
          "text": [
            "     Best order = (1, 1, 0)\n",
            "     Least error = 1.064789\n",
            "\n",
            "Stock label = 44\n"
          ],
          "name": "stdout"
        },
        {
          "output_type": "stream",
          "text": [
            "/usr/local/lib/python3.6/dist-packages/statsmodels/base/model.py:492: HessianInversionWarning: Inverting hessian failed, no bse or cov_params available\n",
            "  'available', HessianInversionWarning)\n"
          ],
          "name": "stderr"
        },
        {
          "output_type": "stream",
          "text": [
            "     Best order = (1, 2, 3)\n",
            "     Least error = 1.476527\n",
            "\n",
            "Stock label = 45\n",
            "     Best order = (3, 0, 0)\n",
            "     Least error = 6.32611\n",
            "\n",
            "Stock label = 46\n"
          ],
          "name": "stdout"
        },
        {
          "output_type": "stream",
          "text": [
            "/usr/local/lib/python3.6/dist-packages/statsmodels/base/model.py:492: HessianInversionWarning: Inverting hessian failed, no bse or cov_params available\n",
            "  'available', HessianInversionWarning)\n",
            "/usr/local/lib/python3.6/dist-packages/statsmodels/base/model.py:492: HessianInversionWarning: Inverting hessian failed, no bse or cov_params available\n",
            "  'available', HessianInversionWarning)\n",
            "/usr/local/lib/python3.6/dist-packages/statsmodels/base/model.py:512: ConvergenceWarning: Maximum Likelihood optimization failed to converge. Check mle_retvals\n",
            "  \"Check mle_retvals\", ConvergenceWarning)\n"
          ],
          "name": "stderr"
        },
        {
          "output_type": "stream",
          "text": [
            "     Best order = (2, 0, 2)\n",
            "     Least error = 6.478427\n",
            "\n",
            "Stock label = 47\n"
          ],
          "name": "stdout"
        },
        {
          "output_type": "stream",
          "text": [
            "/usr/local/lib/python3.6/dist-packages/statsmodels/base/model.py:492: HessianInversionWarning: Inverting hessian failed, no bse or cov_params available\n",
            "  'available', HessianInversionWarning)\n",
            "/usr/local/lib/python3.6/dist-packages/statsmodels/base/model.py:492: HessianInversionWarning: Inverting hessian failed, no bse or cov_params available\n",
            "  'available', HessianInversionWarning)\n"
          ],
          "name": "stderr"
        },
        {
          "output_type": "stream",
          "text": [
            "     Best order = (3, 2, 3)\n",
            "     Least error = 4.996863\n",
            "\n",
            "Stock label = 48\n"
          ],
          "name": "stdout"
        },
        {
          "output_type": "stream",
          "text": [
            "/usr/local/lib/python3.6/dist-packages/statsmodels/base/model.py:492: HessianInversionWarning: Inverting hessian failed, no bse or cov_params available\n",
            "  'available', HessianInversionWarning)\n",
            "/usr/local/lib/python3.6/dist-packages/statsmodels/base/model.py:492: HessianInversionWarning: Inverting hessian failed, no bse or cov_params available\n",
            "  'available', HessianInversionWarning)\n"
          ],
          "name": "stderr"
        },
        {
          "output_type": "stream",
          "text": [
            "     Best order = (3, 2, 2)\n",
            "     Least error = 2.305677\n",
            "\n",
            "Stock label = 49\n"
          ],
          "name": "stdout"
        },
        {
          "output_type": "stream",
          "text": [
            "/usr/local/lib/python3.6/dist-packages/statsmodels/base/model.py:492: HessianInversionWarning: Inverting hessian failed, no bse or cov_params available\n",
            "  'available', HessianInversionWarning)\n",
            "/usr/local/lib/python3.6/dist-packages/statsmodels/base/model.py:512: ConvergenceWarning: Maximum Likelihood optimization failed to converge. Check mle_retvals\n",
            "  \"Check mle_retvals\", ConvergenceWarning)\n"
          ],
          "name": "stderr"
        },
        {
          "output_type": "stream",
          "text": [
            "     Best order = (3, 0, 1)\n",
            "     Least error = 1.272355\n",
            "\n",
            "Stock label = 50\n"
          ],
          "name": "stdout"
        },
        {
          "output_type": "stream",
          "text": [
            "/usr/local/lib/python3.6/dist-packages/statsmodels/base/model.py:492: HessianInversionWarning: Inverting hessian failed, no bse or cov_params available\n",
            "  'available', HessianInversionWarning)\n",
            "/usr/local/lib/python3.6/dist-packages/statsmodels/base/model.py:492: HessianInversionWarning: Inverting hessian failed, no bse or cov_params available\n",
            "  'available', HessianInversionWarning)\n",
            "/usr/local/lib/python3.6/dist-packages/statsmodels/base/model.py:492: HessianInversionWarning: Inverting hessian failed, no bse or cov_params available\n",
            "  'available', HessianInversionWarning)\n",
            "/usr/local/lib/python3.6/dist-packages/statsmodels/base/model.py:492: HessianInversionWarning: Inverting hessian failed, no bse or cov_params available\n",
            "  'available', HessianInversionWarning)\n",
            "/usr/local/lib/python3.6/dist-packages/statsmodels/base/model.py:492: HessianInversionWarning: Inverting hessian failed, no bse or cov_params available\n",
            "  'available', HessianInversionWarning)\n",
            "/usr/local/lib/python3.6/dist-packages/statsmodels/base/model.py:492: HessianInversionWarning: Inverting hessian failed, no bse or cov_params available\n",
            "  'available', HessianInversionWarning)\n",
            "/usr/local/lib/python3.6/dist-packages/statsmodels/base/model.py:512: ConvergenceWarning: Maximum Likelihood optimization failed to converge. Check mle_retvals\n",
            "  \"Check mle_retvals\", ConvergenceWarning)\n",
            "/usr/local/lib/python3.6/dist-packages/statsmodels/base/model.py:492: HessianInversionWarning: Inverting hessian failed, no bse or cov_params available\n",
            "  'available', HessianInversionWarning)\n"
          ],
          "name": "stderr"
        },
        {
          "output_type": "stream",
          "text": [
            "     Best order = (2, 2, 3)\n",
            "     Least error = 15.143986\n",
            "\n",
            "Stock label = 51\n"
          ],
          "name": "stdout"
        },
        {
          "output_type": "stream",
          "text": [
            "/usr/local/lib/python3.6/dist-packages/statsmodels/base/model.py:492: HessianInversionWarning: Inverting hessian failed, no bse or cov_params available\n",
            "  'available', HessianInversionWarning)\n",
            "/usr/local/lib/python3.6/dist-packages/statsmodels/base/model.py:492: HessianInversionWarning: Inverting hessian failed, no bse or cov_params available\n",
            "  'available', HessianInversionWarning)\n"
          ],
          "name": "stderr"
        },
        {
          "output_type": "stream",
          "text": [
            "     Best order = (3, 1, 2)\n",
            "     Least error = 2.092792\n",
            "\n",
            "Stock label = 52\n"
          ],
          "name": "stdout"
        },
        {
          "output_type": "stream",
          "text": [
            "/usr/local/lib/python3.6/dist-packages/statsmodels/base/model.py:492: HessianInversionWarning: Inverting hessian failed, no bse or cov_params available\n",
            "  'available', HessianInversionWarning)\n",
            "/usr/local/lib/python3.6/dist-packages/statsmodels/base/model.py:492: HessianInversionWarning: Inverting hessian failed, no bse or cov_params available\n",
            "  'available', HessianInversionWarning)\n",
            "/usr/local/lib/python3.6/dist-packages/statsmodels/base/model.py:492: HessianInversionWarning: Inverting hessian failed, no bse or cov_params available\n",
            "  'available', HessianInversionWarning)\n"
          ],
          "name": "stderr"
        },
        {
          "output_type": "stream",
          "text": [
            "     Best order = (2, 1, 1)\n",
            "     Least error = 5.012814\n",
            "\n",
            "Stock label = 53\n"
          ],
          "name": "stdout"
        },
        {
          "output_type": "stream",
          "text": [
            "/usr/local/lib/python3.6/dist-packages/statsmodels/base/model.py:512: ConvergenceWarning: Maximum Likelihood optimization failed to converge. Check mle_retvals\n",
            "  \"Check mle_retvals\", ConvergenceWarning)\n",
            "/usr/local/lib/python3.6/dist-packages/statsmodels/base/model.py:492: HessianInversionWarning: Inverting hessian failed, no bse or cov_params available\n",
            "  'available', HessianInversionWarning)\n",
            "/usr/local/lib/python3.6/dist-packages/statsmodels/base/model.py:492: HessianInversionWarning: Inverting hessian failed, no bse or cov_params available\n",
            "  'available', HessianInversionWarning)\n",
            "/usr/local/lib/python3.6/dist-packages/statsmodels/base/model.py:492: HessianInversionWarning: Inverting hessian failed, no bse or cov_params available\n",
            "  'available', HessianInversionWarning)\n"
          ],
          "name": "stderr"
        },
        {
          "output_type": "stream",
          "text": [
            "     Best order = (2, 2, 0)\n",
            "     Least error = 0.809697\n",
            "\n",
            "Stock label = 54\n"
          ],
          "name": "stdout"
        },
        {
          "output_type": "stream",
          "text": [
            "/usr/local/lib/python3.6/dist-packages/statsmodels/base/model.py:512: ConvergenceWarning: Maximum Likelihood optimization failed to converge. Check mle_retvals\n",
            "  \"Check mle_retvals\", ConvergenceWarning)\n",
            "/usr/local/lib/python3.6/dist-packages/statsmodels/base/model.py:492: HessianInversionWarning: Inverting hessian failed, no bse or cov_params available\n",
            "  'available', HessianInversionWarning)\n",
            "/usr/local/lib/python3.6/dist-packages/statsmodels/base/model.py:492: HessianInversionWarning: Inverting hessian failed, no bse or cov_params available\n",
            "  'available', HessianInversionWarning)\n",
            "/usr/local/lib/python3.6/dist-packages/statsmodels/base/model.py:512: ConvergenceWarning: Maximum Likelihood optimization failed to converge. Check mle_retvals\n",
            "  \"Check mle_retvals\", ConvergenceWarning)\n",
            "/usr/local/lib/python3.6/dist-packages/statsmodels/base/model.py:492: HessianInversionWarning: Inverting hessian failed, no bse or cov_params available\n",
            "  'available', HessianInversionWarning)\n"
          ],
          "name": "stderr"
        },
        {
          "output_type": "stream",
          "text": [
            "     Best order = (3, 0, 1)\n",
            "     Least error = 2.452234\n",
            "\n",
            "Stock label = 55\n"
          ],
          "name": "stdout"
        },
        {
          "output_type": "stream",
          "text": [
            "/usr/local/lib/python3.6/dist-packages/statsmodels/base/model.py:492: HessianInversionWarning: Inverting hessian failed, no bse or cov_params available\n",
            "  'available', HessianInversionWarning)\n",
            "/usr/local/lib/python3.6/dist-packages/statsmodels/base/model.py:512: ConvergenceWarning: Maximum Likelihood optimization failed to converge. Check mle_retvals\n",
            "  \"Check mle_retvals\", ConvergenceWarning)\n",
            "/usr/local/lib/python3.6/dist-packages/statsmodels/base/model.py:492: HessianInversionWarning: Inverting hessian failed, no bse or cov_params available\n",
            "  'available', HessianInversionWarning)\n",
            "/usr/local/lib/python3.6/dist-packages/statsmodels/base/model.py:512: ConvergenceWarning: Maximum Likelihood optimization failed to converge. Check mle_retvals\n",
            "  \"Check mle_retvals\", ConvergenceWarning)\n",
            "/usr/local/lib/python3.6/dist-packages/statsmodels/base/model.py:512: ConvergenceWarning: Maximum Likelihood optimization failed to converge. Check mle_retvals\n",
            "  \"Check mle_retvals\", ConvergenceWarning)\n",
            "/usr/local/lib/python3.6/dist-packages/statsmodels/base/model.py:492: HessianInversionWarning: Inverting hessian failed, no bse or cov_params available\n",
            "  'available', HessianInversionWarning)\n"
          ],
          "name": "stderr"
        },
        {
          "output_type": "stream",
          "text": [
            "     Best order = (3, 0, 2)\n",
            "     Least error = 2.215439\n",
            "\n",
            "Stock label = 56\n"
          ],
          "name": "stdout"
        },
        {
          "output_type": "stream",
          "text": [
            "/usr/local/lib/python3.6/dist-packages/statsmodels/base/model.py:492: HessianInversionWarning: Inverting hessian failed, no bse or cov_params available\n",
            "  'available', HessianInversionWarning)\n",
            "/usr/local/lib/python3.6/dist-packages/statsmodels/base/model.py:492: HessianInversionWarning: Inverting hessian failed, no bse or cov_params available\n",
            "  'available', HessianInversionWarning)\n",
            "/usr/local/lib/python3.6/dist-packages/statsmodels/base/model.py:512: ConvergenceWarning: Maximum Likelihood optimization failed to converge. Check mle_retvals\n",
            "  \"Check mle_retvals\", ConvergenceWarning)\n"
          ],
          "name": "stderr"
        },
        {
          "output_type": "stream",
          "text": [
            "     Best order = (1, 1, 0)\n",
            "     Least error = 1.280826\n",
            "\n",
            "Stock label = 57\n"
          ],
          "name": "stdout"
        },
        {
          "output_type": "stream",
          "text": [
            "/usr/local/lib/python3.6/dist-packages/statsmodels/base/model.py:492: HessianInversionWarning: Inverting hessian failed, no bse or cov_params available\n",
            "  'available', HessianInversionWarning)\n"
          ],
          "name": "stderr"
        },
        {
          "output_type": "stream",
          "text": [
            "     Best order = (1, 0, 0)\n",
            "     Least error = 2.449292\n",
            "\n",
            "Stock label = 58\n",
            "     Best order = (2, 2, 0)\n",
            "     Least error = 1.978765\n",
            "\n",
            "Stock label = 59\n"
          ],
          "name": "stdout"
        },
        {
          "output_type": "stream",
          "text": [
            "/usr/local/lib/python3.6/dist-packages/statsmodels/base/model.py:492: HessianInversionWarning: Inverting hessian failed, no bse or cov_params available\n",
            "  'available', HessianInversionWarning)\n",
            "/usr/local/lib/python3.6/dist-packages/statsmodels/base/model.py:492: HessianInversionWarning: Inverting hessian failed, no bse or cov_params available\n",
            "  'available', HessianInversionWarning)\n",
            "/usr/local/lib/python3.6/dist-packages/statsmodels/base/model.py:492: HessianInversionWarning: Inverting hessian failed, no bse or cov_params available\n",
            "  'available', HessianInversionWarning)\n",
            "/usr/local/lib/python3.6/dist-packages/statsmodels/base/model.py:492: HessianInversionWarning: Inverting hessian failed, no bse or cov_params available\n",
            "  'available', HessianInversionWarning)\n"
          ],
          "name": "stderr"
        },
        {
          "output_type": "stream",
          "text": [
            "     Best order = (1, 2, 2)\n",
            "     Least error = 0.486945\n",
            "\n",
            "Stock label = 60\n"
          ],
          "name": "stdout"
        },
        {
          "output_type": "stream",
          "text": [
            "/usr/local/lib/python3.6/dist-packages/statsmodels/base/model.py:492: HessianInversionWarning: Inverting hessian failed, no bse or cov_params available\n",
            "  'available', HessianInversionWarning)\n",
            "/usr/local/lib/python3.6/dist-packages/statsmodels/base/model.py:492: HessianInversionWarning: Inverting hessian failed, no bse or cov_params available\n",
            "  'available', HessianInversionWarning)\n",
            "/usr/local/lib/python3.6/dist-packages/statsmodels/base/model.py:492: HessianInversionWarning: Inverting hessian failed, no bse or cov_params available\n",
            "  'available', HessianInversionWarning)\n",
            "/usr/local/lib/python3.6/dist-packages/statsmodels/base/model.py:512: ConvergenceWarning: Maximum Likelihood optimization failed to converge. Check mle_retvals\n",
            "  \"Check mle_retvals\", ConvergenceWarning)\n"
          ],
          "name": "stderr"
        },
        {
          "output_type": "stream",
          "text": [
            "     Best order = (3, 2, 1)\n",
            "     Least error = 1.698606\n",
            "\n",
            "Stock label = 61\n"
          ],
          "name": "stdout"
        },
        {
          "output_type": "stream",
          "text": [
            "/usr/local/lib/python3.6/dist-packages/statsmodels/base/model.py:492: HessianInversionWarning: Inverting hessian failed, no bse or cov_params available\n",
            "  'available', HessianInversionWarning)\n",
            "/usr/local/lib/python3.6/dist-packages/statsmodels/base/model.py:512: ConvergenceWarning: Maximum Likelihood optimization failed to converge. Check mle_retvals\n",
            "  \"Check mle_retvals\", ConvergenceWarning)\n",
            "/usr/local/lib/python3.6/dist-packages/statsmodels/base/model.py:492: HessianInversionWarning: Inverting hessian failed, no bse or cov_params available\n",
            "  'available', HessianInversionWarning)\n",
            "/usr/local/lib/python3.6/dist-packages/statsmodels/base/model.py:512: ConvergenceWarning: Maximum Likelihood optimization failed to converge. Check mle_retvals\n",
            "  \"Check mle_retvals\", ConvergenceWarning)\n",
            "/usr/local/lib/python3.6/dist-packages/statsmodels/base/model.py:492: HessianInversionWarning: Inverting hessian failed, no bse or cov_params available\n",
            "  'available', HessianInversionWarning)\n",
            "/usr/local/lib/python3.6/dist-packages/statsmodels/base/model.py:492: HessianInversionWarning: Inverting hessian failed, no bse or cov_params available\n",
            "  'available', HessianInversionWarning)\n",
            "/usr/local/lib/python3.6/dist-packages/statsmodels/base/model.py:512: ConvergenceWarning: Maximum Likelihood optimization failed to converge. Check mle_retvals\n",
            "  \"Check mle_retvals\", ConvergenceWarning)\n"
          ],
          "name": "stderr"
        },
        {
          "output_type": "stream",
          "text": [
            "     Best order = (2, 0, 3)\n",
            "     Least error = 2.0832\n",
            "\n",
            "Stock label = 62\n"
          ],
          "name": "stdout"
        },
        {
          "output_type": "stream",
          "text": [
            "/usr/local/lib/python3.6/dist-packages/statsmodels/base/model.py:492: HessianInversionWarning: Inverting hessian failed, no bse or cov_params available\n",
            "  'available', HessianInversionWarning)\n",
            "/usr/local/lib/python3.6/dist-packages/statsmodels/base/model.py:492: HessianInversionWarning: Inverting hessian failed, no bse or cov_params available\n",
            "  'available', HessianInversionWarning)\n",
            "/usr/local/lib/python3.6/dist-packages/statsmodels/base/model.py:492: HessianInversionWarning: Inverting hessian failed, no bse or cov_params available\n",
            "  'available', HessianInversionWarning)\n",
            "/usr/local/lib/python3.6/dist-packages/statsmodels/base/model.py:492: HessianInversionWarning: Inverting hessian failed, no bse or cov_params available\n",
            "  'available', HessianInversionWarning)\n"
          ],
          "name": "stderr"
        },
        {
          "output_type": "stream",
          "text": [
            "     Best order = (2, 0, 0)\n",
            "     Least error = 1.507542\n",
            "\n",
            "Stock label = 63\n"
          ],
          "name": "stdout"
        },
        {
          "output_type": "stream",
          "text": [
            "/usr/local/lib/python3.6/dist-packages/statsmodels/base/model.py:492: HessianInversionWarning: Inverting hessian failed, no bse or cov_params available\n",
            "  'available', HessianInversionWarning)\n",
            "/usr/local/lib/python3.6/dist-packages/statsmodels/base/model.py:492: HessianInversionWarning: Inverting hessian failed, no bse or cov_params available\n",
            "  'available', HessianInversionWarning)\n",
            "/usr/local/lib/python3.6/dist-packages/statsmodels/base/model.py:512: ConvergenceWarning: Maximum Likelihood optimization failed to converge. Check mle_retvals\n",
            "  \"Check mle_retvals\", ConvergenceWarning)\n",
            "/usr/local/lib/python3.6/dist-packages/statsmodels/base/model.py:492: HessianInversionWarning: Inverting hessian failed, no bse or cov_params available\n",
            "  'available', HessianInversionWarning)\n",
            "/usr/local/lib/python3.6/dist-packages/statsmodels/base/model.py:492: HessianInversionWarning: Inverting hessian failed, no bse or cov_params available\n",
            "  'available', HessianInversionWarning)\n",
            "/usr/local/lib/python3.6/dist-packages/statsmodels/base/model.py:512: ConvergenceWarning: Maximum Likelihood optimization failed to converge. Check mle_retvals\n",
            "  \"Check mle_retvals\", ConvergenceWarning)\n"
          ],
          "name": "stderr"
        },
        {
          "output_type": "stream",
          "text": [
            "     Best order = (3, 2, 3)\n",
            "     Least error = 1.018423\n",
            "\n",
            "Stock label = 64\n"
          ],
          "name": "stdout"
        },
        {
          "output_type": "stream",
          "text": [
            "/usr/local/lib/python3.6/dist-packages/statsmodels/base/model.py:512: ConvergenceWarning: Maximum Likelihood optimization failed to converge. Check mle_retvals\n",
            "  \"Check mle_retvals\", ConvergenceWarning)\n"
          ],
          "name": "stderr"
        },
        {
          "output_type": "stream",
          "text": [
            "     Best order = (2, 0, 1)\n",
            "     Least error = 7.758444\n",
            "\n",
            "Stock label = 65\n"
          ],
          "name": "stdout"
        },
        {
          "output_type": "stream",
          "text": [
            "/usr/local/lib/python3.6/dist-packages/statsmodels/base/model.py:492: HessianInversionWarning: Inverting hessian failed, no bse or cov_params available\n",
            "  'available', HessianInversionWarning)\n",
            "/usr/local/lib/python3.6/dist-packages/statsmodels/base/model.py:492: HessianInversionWarning: Inverting hessian failed, no bse or cov_params available\n",
            "  'available', HessianInversionWarning)\n"
          ],
          "name": "stderr"
        },
        {
          "output_type": "stream",
          "text": [
            "     Best order = (1, 0, 0)\n",
            "     Least error = 5.656693\n",
            "\n",
            "Stock label = 66\n"
          ],
          "name": "stdout"
        },
        {
          "output_type": "stream",
          "text": [
            "/usr/local/lib/python3.6/dist-packages/statsmodels/base/model.py:512: ConvergenceWarning: Maximum Likelihood optimization failed to converge. Check mle_retvals\n",
            "  \"Check mle_retvals\", ConvergenceWarning)\n",
            "/usr/local/lib/python3.6/dist-packages/statsmodels/base/model.py:492: HessianInversionWarning: Inverting hessian failed, no bse or cov_params available\n",
            "  'available', HessianInversionWarning)\n"
          ],
          "name": "stderr"
        },
        {
          "output_type": "stream",
          "text": [
            "     Best order = (2, 2, 2)\n",
            "     Least error = 5.433476\n",
            "\n",
            "Stock label = 67\n"
          ],
          "name": "stdout"
        },
        {
          "output_type": "stream",
          "text": [
            "/usr/local/lib/python3.6/dist-packages/statsmodels/base/model.py:492: HessianInversionWarning: Inverting hessian failed, no bse or cov_params available\n",
            "  'available', HessianInversionWarning)\n",
            "/usr/local/lib/python3.6/dist-packages/statsmodels/base/model.py:512: ConvergenceWarning: Maximum Likelihood optimization failed to converge. Check mle_retvals\n",
            "  \"Check mle_retvals\", ConvergenceWarning)\n",
            "/usr/local/lib/python3.6/dist-packages/statsmodels/base/model.py:492: HessianInversionWarning: Inverting hessian failed, no bse or cov_params available\n",
            "  'available', HessianInversionWarning)\n",
            "/usr/local/lib/python3.6/dist-packages/statsmodels/base/model.py:512: ConvergenceWarning: Maximum Likelihood optimization failed to converge. Check mle_retvals\n",
            "  \"Check mle_retvals\", ConvergenceWarning)\n",
            "/usr/local/lib/python3.6/dist-packages/statsmodels/base/model.py:492: HessianInversionWarning: Inverting hessian failed, no bse or cov_params available\n",
            "  'available', HessianInversionWarning)\n",
            "/usr/local/lib/python3.6/dist-packages/statsmodels/base/model.py:492: HessianInversionWarning: Inverting hessian failed, no bse or cov_params available\n",
            "  'available', HessianInversionWarning)\n",
            "/usr/local/lib/python3.6/dist-packages/statsmodels/base/model.py:492: HessianInversionWarning: Inverting hessian failed, no bse or cov_params available\n",
            "  'available', HessianInversionWarning)\n",
            "/usr/local/lib/python3.6/dist-packages/statsmodels/base/model.py:512: ConvergenceWarning: Maximum Likelihood optimization failed to converge. Check mle_retvals\n",
            "  \"Check mle_retvals\", ConvergenceWarning)\n",
            "/usr/local/lib/python3.6/dist-packages/statsmodels/base/model.py:492: HessianInversionWarning: Inverting hessian failed, no bse or cov_params available\n",
            "  'available', HessianInversionWarning)\n",
            "/usr/local/lib/python3.6/dist-packages/statsmodels/base/model.py:492: HessianInversionWarning: Inverting hessian failed, no bse or cov_params available\n",
            "  'available', HessianInversionWarning)\n"
          ],
          "name": "stderr"
        },
        {
          "output_type": "stream",
          "text": [
            "     Best order = (1, 2, 1)\n",
            "     Least error = 0.085341\n",
            "\n",
            "Stock label = 68\n"
          ],
          "name": "stdout"
        },
        {
          "output_type": "stream",
          "text": [
            "/usr/local/lib/python3.6/dist-packages/statsmodels/base/model.py:492: HessianInversionWarning: Inverting hessian failed, no bse or cov_params available\n",
            "  'available', HessianInversionWarning)\n"
          ],
          "name": "stderr"
        },
        {
          "output_type": "stream",
          "text": [
            "     Best order = (3, 1, 2)\n",
            "     Least error = 1.239911\n",
            "\n",
            "Stock label = 69\n"
          ],
          "name": "stdout"
        },
        {
          "output_type": "stream",
          "text": [
            "/usr/local/lib/python3.6/dist-packages/statsmodels/base/model.py:492: HessianInversionWarning: Inverting hessian failed, no bse or cov_params available\n",
            "  'available', HessianInversionWarning)\n",
            "/usr/local/lib/python3.6/dist-packages/statsmodels/base/model.py:492: HessianInversionWarning: Inverting hessian failed, no bse or cov_params available\n",
            "  'available', HessianInversionWarning)\n",
            "/usr/local/lib/python3.6/dist-packages/statsmodels/base/model.py:492: HessianInversionWarning: Inverting hessian failed, no bse or cov_params available\n",
            "  'available', HessianInversionWarning)\n"
          ],
          "name": "stderr"
        },
        {
          "output_type": "stream",
          "text": [
            "     Best order = (1, 0, 0)\n",
            "     Least error = 2.891444\n",
            "\n",
            "Stock label = 70\n"
          ],
          "name": "stdout"
        },
        {
          "output_type": "stream",
          "text": [
            "/usr/local/lib/python3.6/dist-packages/statsmodels/base/model.py:492: HessianInversionWarning: Inverting hessian failed, no bse or cov_params available\n",
            "  'available', HessianInversionWarning)\n",
            "/usr/local/lib/python3.6/dist-packages/statsmodels/base/model.py:492: HessianInversionWarning: Inverting hessian failed, no bse or cov_params available\n",
            "  'available', HessianInversionWarning)\n",
            "/usr/local/lib/python3.6/dist-packages/statsmodels/base/model.py:492: HessianInversionWarning: Inverting hessian failed, no bse or cov_params available\n",
            "  'available', HessianInversionWarning)\n"
          ],
          "name": "stderr"
        },
        {
          "output_type": "stream",
          "text": [
            "     Best order = (3, 2, 3)\n",
            "     Least error = 3.187885\n",
            "\n",
            "Stock label = 71\n"
          ],
          "name": "stdout"
        },
        {
          "output_type": "stream",
          "text": [
            "/usr/local/lib/python3.6/dist-packages/statsmodels/base/model.py:492: HessianInversionWarning: Inverting hessian failed, no bse or cov_params available\n",
            "  'available', HessianInversionWarning)\n",
            "/usr/local/lib/python3.6/dist-packages/statsmodels/base/model.py:512: ConvergenceWarning: Maximum Likelihood optimization failed to converge. Check mle_retvals\n",
            "  \"Check mle_retvals\", ConvergenceWarning)\n"
          ],
          "name": "stderr"
        },
        {
          "output_type": "stream",
          "text": [
            "     Best order = (3, 1, 1)\n",
            "     Least error = 1.260044\n",
            "\n",
            "Stock label = 72\n"
          ],
          "name": "stdout"
        },
        {
          "output_type": "stream",
          "text": [
            "/usr/local/lib/python3.6/dist-packages/statsmodels/base/model.py:492: HessianInversionWarning: Inverting hessian failed, no bse or cov_params available\n",
            "  'available', HessianInversionWarning)\n",
            "/usr/local/lib/python3.6/dist-packages/statsmodels/base/model.py:492: HessianInversionWarning: Inverting hessian failed, no bse or cov_params available\n",
            "  'available', HessianInversionWarning)\n",
            "/usr/local/lib/python3.6/dist-packages/statsmodels/base/model.py:492: HessianInversionWarning: Inverting hessian failed, no bse or cov_params available\n",
            "  'available', HessianInversionWarning)\n",
            "/usr/local/lib/python3.6/dist-packages/statsmodels/base/model.py:492: HessianInversionWarning: Inverting hessian failed, no bse or cov_params available\n",
            "  'available', HessianInversionWarning)\n",
            "/usr/local/lib/python3.6/dist-packages/statsmodels/base/model.py:512: ConvergenceWarning: Maximum Likelihood optimization failed to converge. Check mle_retvals\n",
            "  \"Check mle_retvals\", ConvergenceWarning)\n",
            "/usr/local/lib/python3.6/dist-packages/statsmodels/base/model.py:492: HessianInversionWarning: Inverting hessian failed, no bse or cov_params available\n",
            "  'available', HessianInversionWarning)\n"
          ],
          "name": "stderr"
        },
        {
          "output_type": "stream",
          "text": [
            "     Best order = (1, 2, 0)\n",
            "     Least error = 2.089729\n",
            "\n",
            "Stock label = 73\n"
          ],
          "name": "stdout"
        },
        {
          "output_type": "stream",
          "text": [
            "/usr/local/lib/python3.6/dist-packages/statsmodels/base/model.py:492: HessianInversionWarning: Inverting hessian failed, no bse or cov_params available\n",
            "  'available', HessianInversionWarning)\n"
          ],
          "name": "stderr"
        },
        {
          "output_type": "stream",
          "text": [
            "     Best order = (2, 1, 1)\n",
            "     Least error = 2.73117\n",
            "\n",
            "Stock label = 74\n"
          ],
          "name": "stdout"
        },
        {
          "output_type": "stream",
          "text": [
            "/usr/local/lib/python3.6/dist-packages/statsmodels/base/model.py:492: HessianInversionWarning: Inverting hessian failed, no bse or cov_params available\n",
            "  'available', HessianInversionWarning)\n",
            "/usr/local/lib/python3.6/dist-packages/statsmodels/base/model.py:492: HessianInversionWarning: Inverting hessian failed, no bse or cov_params available\n",
            "  'available', HessianInversionWarning)\n"
          ],
          "name": "stderr"
        },
        {
          "output_type": "stream",
          "text": [
            "     Best order = (3, 2, 2)\n",
            "     Least error = 1.925366\n",
            "\n",
            "Stock label = 75\n"
          ],
          "name": "stdout"
        },
        {
          "output_type": "stream",
          "text": [
            "/usr/local/lib/python3.6/dist-packages/statsmodels/base/model.py:492: HessianInversionWarning: Inverting hessian failed, no bse or cov_params available\n",
            "  'available', HessianInversionWarning)\n",
            "/usr/local/lib/python3.6/dist-packages/statsmodels/base/model.py:492: HessianInversionWarning: Inverting hessian failed, no bse or cov_params available\n",
            "  'available', HessianInversionWarning)\n",
            "/usr/local/lib/python3.6/dist-packages/statsmodels/base/model.py:512: ConvergenceWarning: Maximum Likelihood optimization failed to converge. Check mle_retvals\n",
            "  \"Check mle_retvals\", ConvergenceWarning)\n",
            "/usr/local/lib/python3.6/dist-packages/statsmodels/base/model.py:492: HessianInversionWarning: Inverting hessian failed, no bse or cov_params available\n",
            "  'available', HessianInversionWarning)\n",
            "/usr/local/lib/python3.6/dist-packages/statsmodels/base/model.py:492: HessianInversionWarning: Inverting hessian failed, no bse or cov_params available\n",
            "  'available', HessianInversionWarning)\n",
            "/usr/local/lib/python3.6/dist-packages/statsmodels/base/model.py:492: HessianInversionWarning: Inverting hessian failed, no bse or cov_params available\n",
            "  'available', HessianInversionWarning)\n"
          ],
          "name": "stderr"
        },
        {
          "output_type": "stream",
          "text": [
            "     Best order = (1, 2, 2)\n",
            "     Least error = 2.075621\n",
            "\n",
            "Stock label = 76\n"
          ],
          "name": "stdout"
        },
        {
          "output_type": "stream",
          "text": [
            "/usr/local/lib/python3.6/dist-packages/statsmodels/base/model.py:492: HessianInversionWarning: Inverting hessian failed, no bse or cov_params available\n",
            "  'available', HessianInversionWarning)\n"
          ],
          "name": "stderr"
        },
        {
          "output_type": "stream",
          "text": [
            "     Best order = (3, 1, 0)\n",
            "     Least error = 1.087245\n",
            "\n",
            "Stock label = 77\n"
          ],
          "name": "stdout"
        },
        {
          "output_type": "stream",
          "text": [
            "/usr/local/lib/python3.6/dist-packages/statsmodels/base/model.py:492: HessianInversionWarning: Inverting hessian failed, no bse or cov_params available\n",
            "  'available', HessianInversionWarning)\n",
            "/usr/local/lib/python3.6/dist-packages/statsmodels/base/model.py:492: HessianInversionWarning: Inverting hessian failed, no bse or cov_params available\n",
            "  'available', HessianInversionWarning)\n",
            "/usr/local/lib/python3.6/dist-packages/statsmodels/base/model.py:512: ConvergenceWarning: Maximum Likelihood optimization failed to converge. Check mle_retvals\n",
            "  \"Check mle_retvals\", ConvergenceWarning)\n",
            "/usr/local/lib/python3.6/dist-packages/statsmodels/base/model.py:492: HessianInversionWarning: Inverting hessian failed, no bse or cov_params available\n",
            "  'available', HessianInversionWarning)\n",
            "/usr/local/lib/python3.6/dist-packages/statsmodels/base/model.py:512: ConvergenceWarning: Maximum Likelihood optimization failed to converge. Check mle_retvals\n",
            "  \"Check mle_retvals\", ConvergenceWarning)\n"
          ],
          "name": "stderr"
        },
        {
          "output_type": "stream",
          "text": [
            "     Best order = (2, 2, 0)\n",
            "     Least error = 3.078268\n",
            "\n",
            "Stock label = 78\n"
          ],
          "name": "stdout"
        },
        {
          "output_type": "stream",
          "text": [
            "/usr/local/lib/python3.6/dist-packages/statsmodels/base/model.py:492: HessianInversionWarning: Inverting hessian failed, no bse or cov_params available\n",
            "  'available', HessianInversionWarning)\n",
            "/usr/local/lib/python3.6/dist-packages/statsmodels/base/model.py:492: HessianInversionWarning: Inverting hessian failed, no bse or cov_params available\n",
            "  'available', HessianInversionWarning)\n"
          ],
          "name": "stderr"
        },
        {
          "output_type": "stream",
          "text": [
            "     Best order = (2, 1, 1)\n",
            "     Least error = 1.885737\n",
            "\n",
            "Stock label = 79\n"
          ],
          "name": "stdout"
        },
        {
          "output_type": "stream",
          "text": [
            "/usr/local/lib/python3.6/dist-packages/statsmodels/base/model.py:492: HessianInversionWarning: Inverting hessian failed, no bse or cov_params available\n",
            "  'available', HessianInversionWarning)\n",
            "/usr/local/lib/python3.6/dist-packages/statsmodels/base/model.py:492: HessianInversionWarning: Inverting hessian failed, no bse or cov_params available\n",
            "  'available', HessianInversionWarning)\n"
          ],
          "name": "stderr"
        },
        {
          "output_type": "stream",
          "text": [
            "     Best order = (2, 0, 3)\n",
            "     Least error = 1.67896\n",
            "\n",
            "Stock label = 80\n"
          ],
          "name": "stdout"
        },
        {
          "output_type": "stream",
          "text": [
            "/usr/local/lib/python3.6/dist-packages/statsmodels/base/model.py:492: HessianInversionWarning: Inverting hessian failed, no bse or cov_params available\n",
            "  'available', HessianInversionWarning)\n",
            "/usr/local/lib/python3.6/dist-packages/statsmodels/base/model.py:492: HessianInversionWarning: Inverting hessian failed, no bse or cov_params available\n",
            "  'available', HessianInversionWarning)\n",
            "/usr/local/lib/python3.6/dist-packages/statsmodels/base/model.py:492: HessianInversionWarning: Inverting hessian failed, no bse or cov_params available\n",
            "  'available', HessianInversionWarning)\n",
            "/usr/local/lib/python3.6/dist-packages/statsmodels/base/model.py:512: ConvergenceWarning: Maximum Likelihood optimization failed to converge. Check mle_retvals\n",
            "  \"Check mle_retvals\", ConvergenceWarning)\n",
            "/usr/local/lib/python3.6/dist-packages/statsmodels/base/model.py:492: HessianInversionWarning: Inverting hessian failed, no bse or cov_params available\n",
            "  'available', HessianInversionWarning)\n",
            "/usr/local/lib/python3.6/dist-packages/statsmodels/base/model.py:492: HessianInversionWarning: Inverting hessian failed, no bse or cov_params available\n",
            "  'available', HessianInversionWarning)\n",
            "/usr/local/lib/python3.6/dist-packages/statsmodels/base/model.py:492: HessianInversionWarning: Inverting hessian failed, no bse or cov_params available\n",
            "  'available', HessianInversionWarning)\n",
            "/usr/local/lib/python3.6/dist-packages/statsmodels/base/model.py:512: ConvergenceWarning: Maximum Likelihood optimization failed to converge. Check mle_retvals\n",
            "  \"Check mle_retvals\", ConvergenceWarning)\n"
          ],
          "name": "stderr"
        },
        {
          "output_type": "stream",
          "text": [
            "     Best order = (3, 0, 2)\n",
            "     Least error = 3.750176\n",
            "\n",
            "Stock label = 81\n"
          ],
          "name": "stdout"
        },
        {
          "output_type": "stream",
          "text": [
            "/usr/local/lib/python3.6/dist-packages/statsmodels/base/model.py:512: ConvergenceWarning: Maximum Likelihood optimization failed to converge. Check mle_retvals\n",
            "  \"Check mle_retvals\", ConvergenceWarning)\n",
            "/usr/local/lib/python3.6/dist-packages/statsmodels/base/model.py:492: HessianInversionWarning: Inverting hessian failed, no bse or cov_params available\n",
            "  'available', HessianInversionWarning)\n",
            "/usr/local/lib/python3.6/dist-packages/statsmodels/base/model.py:492: HessianInversionWarning: Inverting hessian failed, no bse or cov_params available\n",
            "  'available', HessianInversionWarning)\n"
          ],
          "name": "stderr"
        },
        {
          "output_type": "stream",
          "text": [
            "     Best order = (2, 2, 3)\n",
            "     Least error = 0.327879\n",
            "\n",
            "Stock label = 82\n"
          ],
          "name": "stdout"
        },
        {
          "output_type": "stream",
          "text": [
            "/usr/local/lib/python3.6/dist-packages/statsmodels/base/model.py:512: ConvergenceWarning: Maximum Likelihood optimization failed to converge. Check mle_retvals\n",
            "  \"Check mle_retvals\", ConvergenceWarning)\n",
            "/usr/local/lib/python3.6/dist-packages/statsmodels/base/model.py:492: HessianInversionWarning: Inverting hessian failed, no bse or cov_params available\n",
            "  'available', HessianInversionWarning)\n"
          ],
          "name": "stderr"
        },
        {
          "output_type": "stream",
          "text": [
            "     Best order = (2, 2, 3)\n",
            "     Least error = 1.373775\n",
            "\n",
            "Stock label = 83\n"
          ],
          "name": "stdout"
        },
        {
          "output_type": "stream",
          "text": [
            "/usr/local/lib/python3.6/dist-packages/statsmodels/base/model.py:492: HessianInversionWarning: Inverting hessian failed, no bse or cov_params available\n",
            "  'available', HessianInversionWarning)\n",
            "/usr/local/lib/python3.6/dist-packages/statsmodels/base/model.py:512: ConvergenceWarning: Maximum Likelihood optimization failed to converge. Check mle_retvals\n",
            "  \"Check mle_retvals\", ConvergenceWarning)\n",
            "/usr/local/lib/python3.6/dist-packages/statsmodels/base/model.py:492: HessianInversionWarning: Inverting hessian failed, no bse or cov_params available\n",
            "  'available', HessianInversionWarning)\n",
            "/usr/local/lib/python3.6/dist-packages/statsmodels/base/model.py:512: ConvergenceWarning: Maximum Likelihood optimization failed to converge. Check mle_retvals\n",
            "  \"Check mle_retvals\", ConvergenceWarning)\n"
          ],
          "name": "stderr"
        },
        {
          "output_type": "stream",
          "text": [
            "     Best order = (3, 2, 1)\n",
            "     Least error = 2.695155\n",
            "\n",
            "Stock label = 84\n",
            "     Best order = (1, 0, 3)\n",
            "     Least error = 1.825187\n",
            "\n",
            "Stock label = 85\n"
          ],
          "name": "stdout"
        },
        {
          "output_type": "stream",
          "text": [
            "/usr/local/lib/python3.6/dist-packages/statsmodels/base/model.py:492: HessianInversionWarning: Inverting hessian failed, no bse or cov_params available\n",
            "  'available', HessianInversionWarning)\n"
          ],
          "name": "stderr"
        },
        {
          "output_type": "stream",
          "text": [
            "     Best order = (2, 1, 1)\n",
            "     Least error = 1.66622\n",
            "\n",
            "Stock label = 86\n"
          ],
          "name": "stdout"
        },
        {
          "output_type": "stream",
          "text": [
            "/usr/local/lib/python3.6/dist-packages/statsmodels/base/model.py:492: HessianInversionWarning: Inverting hessian failed, no bse or cov_params available\n",
            "  'available', HessianInversionWarning)\n",
            "/usr/local/lib/python3.6/dist-packages/statsmodels/base/model.py:492: HessianInversionWarning: Inverting hessian failed, no bse or cov_params available\n",
            "  'available', HessianInversionWarning)\n",
            "/usr/local/lib/python3.6/dist-packages/statsmodels/base/model.py:492: HessianInversionWarning: Inverting hessian failed, no bse or cov_params available\n",
            "  'available', HessianInversionWarning)\n"
          ],
          "name": "stderr"
        },
        {
          "output_type": "stream",
          "text": [
            "     Best order = (2, 2, 3)\n",
            "     Least error = 1.519949\n",
            "\n",
            "Stock label = 87\n"
          ],
          "name": "stdout"
        },
        {
          "output_type": "stream",
          "text": [
            "/usr/local/lib/python3.6/dist-packages/statsmodels/base/model.py:492: HessianInversionWarning: Inverting hessian failed, no bse or cov_params available\n",
            "  'available', HessianInversionWarning)\n"
          ],
          "name": "stderr"
        },
        {
          "output_type": "stream",
          "text": [
            "     Best order = (3, 1, 3)\n",
            "     Least error = 4.629166\n",
            "\n",
            "Stock label = 88\n",
            "     Best order = (2, 0, 3)\n",
            "     Least error = 6.687405\n",
            "\n",
            "Stock label = 89\n",
            "     Best order = (3, 1, 2)\n",
            "     Least error = 0.847983\n",
            "\n",
            "Stock label = 90\n"
          ],
          "name": "stdout"
        },
        {
          "output_type": "stream",
          "text": [
            "/usr/local/lib/python3.6/dist-packages/statsmodels/base/model.py:512: ConvergenceWarning: Maximum Likelihood optimization failed to converge. Check mle_retvals\n",
            "  \"Check mle_retvals\", ConvergenceWarning)\n",
            "/usr/local/lib/python3.6/dist-packages/statsmodels/base/model.py:492: HessianInversionWarning: Inverting hessian failed, no bse or cov_params available\n",
            "  'available', HessianInversionWarning)\n",
            "/usr/local/lib/python3.6/dist-packages/statsmodels/base/model.py:492: HessianInversionWarning: Inverting hessian failed, no bse or cov_params available\n",
            "  'available', HessianInversionWarning)\n",
            "/usr/local/lib/python3.6/dist-packages/statsmodels/base/model.py:492: HessianInversionWarning: Inverting hessian failed, no bse or cov_params available\n",
            "  'available', HessianInversionWarning)\n",
            "/usr/local/lib/python3.6/dist-packages/statsmodels/base/model.py:512: ConvergenceWarning: Maximum Likelihood optimization failed to converge. Check mle_retvals\n",
            "  \"Check mle_retvals\", ConvergenceWarning)\n"
          ],
          "name": "stderr"
        },
        {
          "output_type": "stream",
          "text": [
            "     Best order = (1, 0, 0)\n",
            "     Least error = 1.274277\n",
            "\n",
            "Stock label = 91\n"
          ],
          "name": "stdout"
        },
        {
          "output_type": "stream",
          "text": [
            "/usr/local/lib/python3.6/dist-packages/statsmodels/base/model.py:512: ConvergenceWarning: Maximum Likelihood optimization failed to converge. Check mle_retvals\n",
            "  \"Check mle_retvals\", ConvergenceWarning)\n"
          ],
          "name": "stderr"
        },
        {
          "output_type": "stream",
          "text": [
            "     Best order = (1, 2, 2)\n",
            "     Least error = 5.201483\n",
            "\n",
            "Stock label = 92\n"
          ],
          "name": "stdout"
        },
        {
          "output_type": "stream",
          "text": [
            "/usr/local/lib/python3.6/dist-packages/statsmodels/base/model.py:492: HessianInversionWarning: Inverting hessian failed, no bse or cov_params available\n",
            "  'available', HessianInversionWarning)\n",
            "/usr/local/lib/python3.6/dist-packages/statsmodels/base/model.py:492: HessianInversionWarning: Inverting hessian failed, no bse or cov_params available\n",
            "  'available', HessianInversionWarning)\n"
          ],
          "name": "stderr"
        },
        {
          "output_type": "stream",
          "text": [
            "     Best order = (2, 1, 0)\n",
            "     Least error = 8.649218\n",
            "\n",
            "Stock label = 93\n"
          ],
          "name": "stdout"
        },
        {
          "output_type": "stream",
          "text": [
            "/usr/local/lib/python3.6/dist-packages/statsmodels/base/model.py:492: HessianInversionWarning: Inverting hessian failed, no bse or cov_params available\n",
            "  'available', HessianInversionWarning)\n",
            "/usr/local/lib/python3.6/dist-packages/statsmodels/base/model.py:492: HessianInversionWarning: Inverting hessian failed, no bse or cov_params available\n",
            "  'available', HessianInversionWarning)\n",
            "/usr/local/lib/python3.6/dist-packages/statsmodels/base/model.py:492: HessianInversionWarning: Inverting hessian failed, no bse or cov_params available\n",
            "  'available', HessianInversionWarning)\n",
            "/usr/local/lib/python3.6/dist-packages/statsmodels/base/model.py:512: ConvergenceWarning: Maximum Likelihood optimization failed to converge. Check mle_retvals\n",
            "  \"Check mle_retvals\", ConvergenceWarning)\n",
            "/usr/local/lib/python3.6/dist-packages/statsmodels/base/model.py:512: ConvergenceWarning: Maximum Likelihood optimization failed to converge. Check mle_retvals\n",
            "  \"Check mle_retvals\", ConvergenceWarning)\n"
          ],
          "name": "stderr"
        },
        {
          "output_type": "stream",
          "text": [
            "     Best order = (2, 0, 3)\n",
            "     Least error = 12.404633\n",
            "\n",
            "Stock label = 94\n",
            "     Best order = (1, 0, 0)\n",
            "     Least error = 3.184017\n",
            "\n",
            "Stock label = 95\n",
            "     Best order = (3, 1, 2)\n",
            "     Least error = 2.994096\n",
            "\n",
            "Stock label = 96\n"
          ],
          "name": "stdout"
        },
        {
          "output_type": "stream",
          "text": [
            "/usr/local/lib/python3.6/dist-packages/statsmodels/base/model.py:492: HessianInversionWarning: Inverting hessian failed, no bse or cov_params available\n",
            "  'available', HessianInversionWarning)\n"
          ],
          "name": "stderr"
        },
        {
          "output_type": "stream",
          "text": [
            "     Best order = (2, 1, 2)\n",
            "     Least error = 18.627348\n",
            "\n",
            "Stock label = 97\n"
          ],
          "name": "stdout"
        },
        {
          "output_type": "stream",
          "text": [
            "/usr/local/lib/python3.6/dist-packages/statsmodels/base/model.py:492: HessianInversionWarning: Inverting hessian failed, no bse or cov_params available\n",
            "  'available', HessianInversionWarning)\n",
            "/usr/local/lib/python3.6/dist-packages/statsmodels/base/model.py:492: HessianInversionWarning: Inverting hessian failed, no bse or cov_params available\n",
            "  'available', HessianInversionWarning)\n",
            "/usr/local/lib/python3.6/dist-packages/statsmodels/base/model.py:512: ConvergenceWarning: Maximum Likelihood optimization failed to converge. Check mle_retvals\n",
            "  \"Check mle_retvals\", ConvergenceWarning)\n",
            "/usr/local/lib/python3.6/dist-packages/statsmodels/base/model.py:492: HessianInversionWarning: Inverting hessian failed, no bse or cov_params available\n",
            "  'available', HessianInversionWarning)\n"
          ],
          "name": "stderr"
        },
        {
          "output_type": "stream",
          "text": [
            "     Best order = (2, 0, 2)\n",
            "     Least error = 9.374919\n",
            "\n",
            "Stock label = 98\n"
          ],
          "name": "stdout"
        },
        {
          "output_type": "stream",
          "text": [
            "/usr/local/lib/python3.6/dist-packages/statsmodels/base/model.py:492: HessianInversionWarning: Inverting hessian failed, no bse or cov_params available\n",
            "  'available', HessianInversionWarning)\n",
            "/usr/local/lib/python3.6/dist-packages/statsmodels/base/model.py:512: ConvergenceWarning: Maximum Likelihood optimization failed to converge. Check mle_retvals\n",
            "  \"Check mle_retvals\", ConvergenceWarning)\n",
            "/usr/local/lib/python3.6/dist-packages/statsmodels/base/model.py:492: HessianInversionWarning: Inverting hessian failed, no bse or cov_params available\n",
            "  'available', HessianInversionWarning)\n",
            "/usr/local/lib/python3.6/dist-packages/statsmodels/base/model.py:512: ConvergenceWarning: Maximum Likelihood optimization failed to converge. Check mle_retvals\n",
            "  \"Check mle_retvals\", ConvergenceWarning)\n",
            "/usr/local/lib/python3.6/dist-packages/statsmodels/base/model.py:492: HessianInversionWarning: Inverting hessian failed, no bse or cov_params available\n",
            "  'available', HessianInversionWarning)\n"
          ],
          "name": "stderr"
        },
        {
          "output_type": "stream",
          "text": [
            "     Best order = (3, 1, 1)\n",
            "     Least error = 6.986718\n",
            "\n",
            "Stock label = 99\n"
          ],
          "name": "stdout"
        },
        {
          "output_type": "stream",
          "text": [
            "/usr/local/lib/python3.6/dist-packages/statsmodels/base/model.py:492: HessianInversionWarning: Inverting hessian failed, no bse or cov_params available\n",
            "  'available', HessianInversionWarning)\n",
            "/usr/local/lib/python3.6/dist-packages/statsmodels/base/model.py:512: ConvergenceWarning: Maximum Likelihood optimization failed to converge. Check mle_retvals\n",
            "  \"Check mle_retvals\", ConvergenceWarning)\n",
            "/usr/local/lib/python3.6/dist-packages/statsmodels/base/model.py:492: HessianInversionWarning: Inverting hessian failed, no bse or cov_params available\n",
            "  'available', HessianInversionWarning)\n",
            "/usr/local/lib/python3.6/dist-packages/statsmodels/base/model.py:492: HessianInversionWarning: Inverting hessian failed, no bse or cov_params available\n",
            "  'available', HessianInversionWarning)\n"
          ],
          "name": "stderr"
        },
        {
          "output_type": "stream",
          "text": [
            "     Best order = (3, 1, 2)\n",
            "     Least error = 5.555173\n",
            "\n",
            "Stock label = 100\n"
          ],
          "name": "stdout"
        },
        {
          "output_type": "stream",
          "text": [
            "/usr/local/lib/python3.6/dist-packages/statsmodels/base/model.py:492: HessianInversionWarning: Inverting hessian failed, no bse or cov_params available\n",
            "  'available', HessianInversionWarning)\n",
            "/usr/local/lib/python3.6/dist-packages/statsmodels/base/model.py:492: HessianInversionWarning: Inverting hessian failed, no bse or cov_params available\n",
            "  'available', HessianInversionWarning)\n",
            "/usr/local/lib/python3.6/dist-packages/statsmodels/base/model.py:492: HessianInversionWarning: Inverting hessian failed, no bse or cov_params available\n",
            "  'available', HessianInversionWarning)\n"
          ],
          "name": "stderr"
        },
        {
          "output_type": "stream",
          "text": [
            "     Best order = (3, 1, 0)\n",
            "     Least error = 1.262217\n",
            "\n",
            "Stock label = 101\n",
            "     Best order = (1, 1, 0)\n",
            "     Least error = 9.113512\n",
            "\n",
            "Stock label = 102\n"
          ],
          "name": "stdout"
        },
        {
          "output_type": "stream",
          "text": [
            "/usr/local/lib/python3.6/dist-packages/statsmodels/base/model.py:492: HessianInversionWarning: Inverting hessian failed, no bse or cov_params available\n",
            "  'available', HessianInversionWarning)\n"
          ],
          "name": "stderr"
        },
        {
          "output_type": "stream",
          "text": [
            "     Best order = (1, 2, 1)\n",
            "     Least error = 3.391936\n",
            "\n"
          ],
          "name": "stdout"
        }
      ]
    },
    {
      "cell_type": "code",
      "metadata": {
        "colab": {
          "base_uri": "https://localhost:8080/"
        },
        "id": "UQ_VqWVSHHDl",
        "outputId": "7d6c2257-1c53-4943-9066-e878dd7f973a"
      },
      "source": [
        "output[0]"
      ],
      "execution_count": null,
      "outputs": [
        {
          "output_type": "execute_result",
          "data": {
            "text/plain": [
              "array([118.151744, 118.557632, 118.818218, 119.071399, ..., 128.690909, 128.631956, 128.573503, 128.515547])"
            ]
          },
          "metadata": {
            "tags": []
          },
          "execution_count": 330
        }
      ]
    },
    {
      "cell_type": "code",
      "metadata": {
        "colab": {
          "base_uri": "https://localhost:8080/",
          "height": 17
        },
        "id": "rzUiUE1BbabW",
        "outputId": "11c6d23f-751d-41ff-9530-e102415d201c"
      },
      "source": [
        "download_preds(output[0], 'TS.csv')"
      ],
      "execution_count": null,
      "outputs": [
        {
          "output_type": "display_data",
          "data": {
            "application/javascript": [
              "\n",
              "    async function download(id, filename, size) {\n",
              "      if (!google.colab.kernel.accessAllowed) {\n",
              "        return;\n",
              "      }\n",
              "      const div = document.createElement('div');\n",
              "      const label = document.createElement('label');\n",
              "      label.textContent = `Downloading \"${filename}\": `;\n",
              "      div.appendChild(label);\n",
              "      const progress = document.createElement('progress');\n",
              "      progress.max = size;\n",
              "      div.appendChild(progress);\n",
              "      document.body.appendChild(div);\n",
              "\n",
              "      const buffers = [];\n",
              "      let downloaded = 0;\n",
              "\n",
              "      const channel = await google.colab.kernel.comms.open(id);\n",
              "      // Send a message to notify the kernel that we're ready.\n",
              "      channel.send({})\n",
              "\n",
              "      for await (const message of channel.messages) {\n",
              "        // Send a message to notify the kernel that we're ready.\n",
              "        channel.send({})\n",
              "        if (message.buffers) {\n",
              "          for (const buffer of message.buffers) {\n",
              "            buffers.push(buffer);\n",
              "            downloaded += buffer.byteLength;\n",
              "            progress.value = downloaded;\n",
              "          }\n",
              "        }\n",
              "      }\n",
              "      const blob = new Blob(buffers, {type: 'application/binary'});\n",
              "      const a = document.createElement('a');\n",
              "      a.href = window.URL.createObjectURL(blob);\n",
              "      a.download = filename;\n",
              "      div.appendChild(a);\n",
              "      a.click();\n",
              "      div.remove();\n",
              "    }\n",
              "  "
            ],
            "text/plain": [
              "<IPython.core.display.Javascript object>"
            ]
          },
          "metadata": {
            "tags": []
          }
        },
        {
          "output_type": "display_data",
          "data": {
            "application/javascript": [
              "download(\"download_caef1978-b492-4f58-9fe5-f1f4d04f829d\", \"TS.csv\", 114517)"
            ],
            "text/plain": [
              "<IPython.core.display.Javascript object>"
            ]
          },
          "metadata": {
            "tags": []
          }
        }
      ]
    },
    {
      "cell_type": "code",
      "metadata": {
        "colab": {
          "base_uri": "https://localhost:8080/"
        },
        "id": "jYz08X40geRA",
        "outputId": "8e84b683-a8d9-45c6-98d9-d3d35faedc9e"
      },
      "source": [
        "pt"
      ],
      "execution_count": null,
      "outputs": [
        {
          "output_type": "execute_result",
          "data": {
            "text/plain": [
              "array([120.902375, 121.119431, 121.232719, 121.303214, ..., 132.626244, 132.606509, 131.179104, 130.98752 ])"
            ]
          },
          "metadata": {
            "tags": []
          },
          "execution_count": 332
        }
      ]
    },
    {
      "cell_type": "code",
      "metadata": {
        "colab": {
          "base_uri": "https://localhost:8080/",
          "height": 17
        },
        "id": "ZMsvybLhiY1i",
        "outputId": "189101cd-dae6-48e8-ab00-b3ba57ef961d"
      },
      "source": [
        "pt3 = 0.50*pt+0.51*output[0]\n",
        "download_preds(pt3, 'TSfin-ensemble.csv')"
      ],
      "execution_count": null,
      "outputs": [
        {
          "output_type": "display_data",
          "data": {
            "application/javascript": [
              "\n",
              "    async function download(id, filename, size) {\n",
              "      if (!google.colab.kernel.accessAllowed) {\n",
              "        return;\n",
              "      }\n",
              "      const div = document.createElement('div');\n",
              "      const label = document.createElement('label');\n",
              "      label.textContent = `Downloading \"${filename}\": `;\n",
              "      div.appendChild(label);\n",
              "      const progress = document.createElement('progress');\n",
              "      progress.max = size;\n",
              "      div.appendChild(progress);\n",
              "      document.body.appendChild(div);\n",
              "\n",
              "      const buffers = [];\n",
              "      let downloaded = 0;\n",
              "\n",
              "      const channel = await google.colab.kernel.comms.open(id);\n",
              "      // Send a message to notify the kernel that we're ready.\n",
              "      channel.send({})\n",
              "\n",
              "      for await (const message of channel.messages) {\n",
              "        // Send a message to notify the kernel that we're ready.\n",
              "        channel.send({})\n",
              "        if (message.buffers) {\n",
              "          for (const buffer of message.buffers) {\n",
              "            buffers.push(buffer);\n",
              "            downloaded += buffer.byteLength;\n",
              "            progress.value = downloaded;\n",
              "          }\n",
              "        }\n",
              "      }\n",
              "      const blob = new Blob(buffers, {type: 'application/binary'});\n",
              "      const a = document.createElement('a');\n",
              "      a.href = window.URL.createObjectURL(blob);\n",
              "      a.download = filename;\n",
              "      div.appendChild(a);\n",
              "      a.click();\n",
              "      div.remove();\n",
              "    }\n",
              "  "
            ],
            "text/plain": [
              "<IPython.core.display.Javascript object>"
            ]
          },
          "metadata": {
            "tags": []
          }
        },
        {
          "output_type": "display_data",
          "data": {
            "application/javascript": [
              "download(\"download_0dc1060b-03c2-4fac-aa4e-d6f6e090ab5e\", \"TSfin-ensemble.csv\", 114435)"
            ],
            "text/plain": [
              "<IPython.core.display.Javascript object>"
            ]
          },
          "metadata": {
            "tags": []
          }
        }
      ]
    },
    {
      "cell_type": "code",
      "metadata": {
        "id": "tlv24awnihqk"
      },
      "source": [
        "## finish"
      ],
      "execution_count": null,
      "outputs": []
    },
    {
      "cell_type": "code",
      "metadata": {
        "id": "8TtjdQT3nP4i"
      },
      "source": [
        ""
      ],
      "execution_count": null,
      "outputs": []
    }
  ]
}